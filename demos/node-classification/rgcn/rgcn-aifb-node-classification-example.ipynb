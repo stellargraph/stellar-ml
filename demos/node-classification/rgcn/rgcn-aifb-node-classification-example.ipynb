{
 "cells": [
  {
   "cell_type": "markdown",
   "metadata": {},
   "source": [
    "# Stellargraph example: Relational Graph Convolutional Network (RGCN) on the AIFB relational dataset\n",
    "\n",
    "**Warning**: the RGCN model used in this notebook is **experimental** (see known bugs [#649](https://github.com/stellargraph/stellargraph/issues/649) and [#677](https://github.com/stellargraph/stellargraph/issues/677)).\n",
    "\n",
    "This example demonstrates how use an RGCN [1] on the AIFB dataset with stellargraph. \n",
    "\n",
    "[1] Modeling Relational Data with Graph Convolutional Networks. Thomas N. Kipf, Michael Schlichtkrull (2017). https://arxiv.org/pdf/1703.06103.pdf"
   ]
  },
  {
   "cell_type": "markdown",
   "metadata": {},
   "source": [
    "First we load the required libraries."
   ]
  },
  {
   "cell_type": "code",
   "execution_count": 1,
   "metadata": {},
   "outputs": [],
   "source": [
    "from rdflib.extras.external_graph_libs import *\n",
    "from rdflib import Graph, URIRef, Literal\n",
    "\n",
    "import networkx as nx\n",
    "from networkx.classes.function import info\n",
    "\n",
    "import stellargraph as sg\n",
    "from stellargraph.mapper import RelationalFullBatchNodeGenerator\n",
    "from stellargraph.layer import RGCN\n",
    "\n",
    "import numpy as np\n",
    "import matplotlib.pyplot as plt\n",
    "import os\n",
    "import pandas as pd\n",
    "\n",
    "import tensorflow as tf\n",
    "from tensorflow import keras\n",
    "from tensorflow.keras.layers import Dense\n",
    "from tensorflow.keras.models import Model\n",
    "\n",
    "import sklearn\n",
    "from sklearn import model_selection\n",
    "from collections import Counter\n",
    "from stellargraph import datasets\n",
    "from IPython.display import display, HTML"
   ]
  },
  {
   "cell_type": "markdown",
   "metadata": {},
   "source": [
    "## Loading the data"
   ]
  },
  {
   "cell_type": "code",
   "execution_count": 2,
   "metadata": {},
   "outputs": [
    {
     "data": {
      "text/html": [
       "The AIFB dataset describes the AIFB research institute in terms of its staff, research group, and publications. First used for machine learning with RDF in Bloehdorn, Stephan and Sure, York, \"Kernel Methods for Mining Instance Data in Ontologies\", The Semantic Web (2008), http://dx.doi.org/10.1007/978-3-540-76298-0_5. It contains ~8k entities, ~29k edges, and 45 different relationships or edge types. In (Bloehdorn et al 2007) the dataset was first used to predict the affiliation (i.e., research group) for people in the dataset. The dataset contains 178 members of a research group with 5 different research groups. The goal is to predict which research group a researcher belongs to."
      ],
      "text/plain": [
       "<IPython.core.display.HTML object>"
      ]
     },
     "metadata": {},
     "output_type": "display_data"
    }
   ],
   "source": [
    "dataset = datasets.AIFB()\n",
    "display(HTML(dataset.description))\n",
    "dataset.download()"
   ]
  },
  {
   "cell_type": "markdown",
   "metadata": {},
   "source": [
    "We use `rdflib` to load the relational dataset into a networkx directed multigraph. Relational datasets are inherently directed with multiple edges types so we use the `MultiDiGraph` data structure to capture this information.\n",
    "\n",
    "The relationship 'affiliation' indicates whether a researcher is affiliated with a reseach group e.g. (researcher, research group, affilliation). We use this relationship to label the nodes in the AIFB dataset.  After this we remove the affiliation relationship to prevent giving away the answer. The idea here is to test whether we can recover a 'missing' relationship. \n",
    "\n",
    "The relation 'employs' is the inverse of 'affilliation' and we remove this as well - otherwise it would give away the answer."
   ]
  },
  {
   "cell_type": "code",
   "execution_count": 3,
   "metadata": {},
   "outputs": [],
   "source": [
    "data_filepath = os.path.join(dataset.data_directory, \"aifbfixed_complete.n3\")\n",
    "\n",
    "graph = Graph()\n",
    "graph.parse(data_filepath, format=\"n3\")\n",
    "g_nx = rdflib_to_networkx_multidigraph(\n",
    "    graph, edge_attrs=lambda s, p, o: {\"label\": str(p)}\n",
    ")\n",
    "\n",
    "affiliation = \"http://swrc.ontoware.org/ontology#affiliation\"\n",
    "employs = \"http://swrc.ontoware.org/ontology#employs\"\n",
    "\n",
    "\n",
    "people_nodes = [\n",
    "    src for src, _, data in g_nx.edges(data=True) if data[\"label\"] == affiliation\n",
    "]  # the node ids of the researchers\n",
    "labels = [\n",
    "    dst for _, dst, data in g_nx.edges(data=True) if data[\"label\"] == affiliation\n",
    "]  # the research group each researcher belongs to\n",
    "\n",
    "# remove 'affiliation' and 'employs' relationships\n",
    "edges_to_remove = [\n",
    "    e\n",
    "    for e in g_nx.edges(keys=True, data=True)\n",
    "    if e[-1][\"label\"] == affiliation or e[-1][\"label\"] == employs\n",
    "]\n",
    "g_nx.remove_edges_from(edges_to_remove)"
   ]
  },
  {
   "cell_type": "markdown",
   "metadata": {},
   "source": [
    "## Feature and target creation\n",
    "\n",
    "We now create features and targets for machine learning.  Our nodes don't have features so we simply one-hot-encode each node and use there as our features and allow our model to learn from the graph structure."
   ]
  },
  {
   "cell_type": "code",
   "execution_count": 4,
   "metadata": {},
   "outputs": [],
   "source": [
    "# create an encoder\n",
    "encoder = sklearn.preprocessing.OneHotEncoder(sparse=False)\n",
    "\n",
    "# create targets\n",
    "# the targets are one hot encoded vectors indicating which research group a researcher belongs to\n",
    "# targets of non-researcher entities are set to zero vectors\n",
    "# (we're not interested in predicting anything about non-researcher nodes)\n",
    "\n",
    "node_index = dict(zip(g_nx.nodes, range(len(g_nx.nodes))))\n",
    "people_idx = np.array([node_index[node] for node in people_nodes])\n",
    "\n",
    "people_targets = encoder.fit_transform(np.array(labels)[:, np.newaxis])\n",
    "\n",
    "targets = np.zeros((len(g_nx.nodes), people_targets.shape[-1]))\n",
    "targets[people_idx, :] = people_targets\n",
    "\n",
    "# index the node_data and targets dataframes by the nodes of the graph - this allows\n",
    "# the nodes and edges of the graph to be matched with the targets and features\n",
    "node_data = pd.DataFrame(np.eye(len(g_nx.nodes)), index=g_nx.nodes)\n",
    "targets = pd.DataFrame(targets, index=g_nx.nodes)\n",
    "\n",
    "# split data into train and test\n",
    "train_data, test_data, train_targets, test_targets = model_selection.train_test_split(\n",
    "    node_data.loc[people_nodes], targets.loc[people_nodes], train_size=0.8, test_size=None\n",
    ")"
   ]
  },
  {
   "cell_type": "markdown",
   "metadata": {},
   "source": [
    "## Machine Learning Graph Creation\n",
    "\n",
    "Now we create a StellarDiGraph object to encapsulate the graph structure and the node features.  We'll then use the StellarDiGraph to create training and testing generators for ML."
   ]
  },
  {
   "cell_type": "code",
   "execution_count": 5,
   "metadata": {},
   "outputs": [],
   "source": [
    "G = sg.StellarDiGraph(g_nx, node_features=node_data)"
   ]
  },
  {
   "cell_type": "code",
   "execution_count": 6,
   "metadata": {},
   "outputs": [
    {
     "name": "stderr",
     "output_type": "stream",
     "text": [
      "/Users/pit070/ia/stellargraph/stellargraph/core/experimental.py:88: ExperimentalWarning: RelationalFullBatchNodeGenerator is experimental: it has severe known bugs (see: https://github.com/stellargraph/stellargraph/issues/649, https://github.com/stellargraph/stellargraph/issues/677). It may be difficult to use and may have major changes at any time.\n",
      "  warnings.warn(direct_msg, ExperimentalWarning)\n"
     ]
    }
   ],
   "source": [
    "generator = RelationalFullBatchNodeGenerator(G, sparse=True)\n",
    "\n",
    "train_gen = generator.flow(train_data.index, targets=train_targets)\n",
    "test_gen = generator.flow(test_data.index, targets=test_targets)"
   ]
  },
  {
   "cell_type": "markdown",
   "metadata": {},
   "source": [
    "## RGCN model creation and training\n",
    "\n",
    "We use stellargraph to create an RGCN object. This creates a stack of relational graph convolutional layers. We add a softmax layer to transform the features created by RGCN into class predictions and create a keras model.  Then we train the model on the stellargraph generators.\n",
    "\n",
    "Each RGCN layer creates a weight matrix for each relationship in the graph. If `num_bases==0` these weight matrices are completely independent. If `num_bases!=0` each weight matrix is a different linear combination of the same basis matrices. This introduces parameter sharing and reduces the number of the parameters in the model.  See the paper for more details."
   ]
  },
  {
   "cell_type": "code",
   "execution_count": 7,
   "execution_count": null,
   "metadata": {},
   "outputs": [
    {
     "name": "stderr",
     "output_type": "stream",
     "text": [
      "/Users/pit070/ia/stellargraph/stellargraph/core/experimental.py:88: ExperimentalWarning: RGCN is experimental: it has severe known bugs (see: https://github.com/stellargraph/stellargraph/issues/649, https://github.com/stellargraph/stellargraph/issues/677). It may be difficult to use and may have major changes at any time.\n",
      "  warnings.warn(direct_msg, ExperimentalWarning)\n",
      "/Users/pit070/ia/stellargraph/stellargraph/core/experimental.py:88: ExperimentalWarning: RelationalGraphConvolution is experimental: it has severe known bugs (see: https://github.com/stellargraph/stellargraph/issues/649, https://github.com/stellargraph/stellargraph/issues/677). It may be difficult to use and may have major changes at any time.\n",
      "  warnings.warn(direct_msg, ExperimentalWarning)\n"
     ]
    }
   ],
   "source": [
    "rgcn = RGCN(\n",
    "    layer_sizes=[32, 32], \n",
    "    activations=['relu', 'relu'],\n",
    "    generator=generator, \n",
    "    bias=True,\n",
    "    num_bases=20, \n",
    "    dropout=0.5,\n",
    ")"
   ]
  },
  {
   "cell_type": "code",
   "execution_count": 8,
   "metadata": {},
   "outputs": [],
   "source": [
    "x_in, x_out = rgcn.build()\n",
    "predictions = Dense(train_targets.shape[-1], activation=\"softmax\")(x_out)\n",
    "model = Model(inputs=x_in, outputs=predictions)\n",
    "model.compile(\n",
    "    loss=\"categorical_crossentropy\",\n",
    "    optimizer=keras.optimizers.Adam(0.01),\n",
    "    metrics=[\"acc\"],\n",
    ")"
   ]
  },
  {
   "cell_type": "code",
   "execution_count": 9,
   "metadata": {},
   "outputs": [
    {
     "name": "stdout",
     "output_type": "stream",
     "text": [
      "Epoch 1/20\n"
     ]
    },
    {
     "name": "stdout",
     "output_type": "stream",
     "text": [
      "WARNING:tensorflow:From /Users/pit070/ia/stellargraph/venv/lib/python3.6/site-packages/tensorflow_core/python/ops/array_grad.py:502: _EagerTensorBase.cpu (from tensorflow.python.framework.ops) is deprecated and will be removed in a future version.\n",
      "Instructions for updating:\n",
      "Use tf.identity instead.\n"
     ]
    },
    {
     "name": "stdout",
     "output_type": "stream",
     "text": [
      "WARNING:tensorflow:Gradients do not exist for variables ['relational_graph_convolution_1/bases:0', 'relational_graph_convolution_1/coeff:0', 'relational_graph_convolution_1/coeff:0', 'relational_graph_convolution_1/coeff:0', 'relational_graph_convolution_1/coeff:0', 'relational_graph_convolution_1/coeff:0', 'relational_graph_convolution_1/coeff:0', 'relational_graph_convolution_1/coeff:0', 'relational_graph_convolution_1/coeff:0', 'relational_graph_convolution_1/coeff:0', 'relational_graph_convolution_1/coeff:0', 'relational_graph_convolution_1/coeff:0', 'relational_graph_convolution_1/coeff:0', 'relational_graph_convolution_1/coeff:0', 'relational_graph_convolution_1/coeff:0', 'relational_graph_convolution_1/coeff:0', 'relational_graph_convolution_1/coeff:0', 'relational_graph_convolution_1/coeff:0', 'relational_graph_convolution_1/coeff:0', 'relational_graph_convolution_1/coeff:0', 'relational_graph_convolution_1/coeff:0', 'relational_graph_convolution_1/coeff:0', 'relational_graph_convolution_1/coeff:0', 'relational_graph_convolution_1/coeff:0', 'relational_graph_convolution_1/coeff:0', 'relational_graph_convolution_1/coeff:0', 'relational_graph_convolution_1/coeff:0', 'relational_graph_convolution_1/coeff:0', 'relational_graph_convolution_1/coeff:0', 'relational_graph_convolution_1/coeff:0', 'relational_graph_convolution_1/coeff:0', 'relational_graph_convolution_1/coeff:0', 'relational_graph_convolution_1/coeff:0', 'relational_graph_convolution_1/coeff:0', 'relational_graph_convolution_1/coeff:0', 'relational_graph_convolution_1/coeff:0', 'relational_graph_convolution_1/coeff:0', 'relational_graph_convolution_1/coeff:0', 'relational_graph_convolution_1/coeff:0', 'relational_graph_convolution_1/coeff:0', 'relational_graph_convolution_1/coeff:0', 'relational_graph_convolution_1/coeff:0', 'relational_graph_convolution_1/coeff:0', 'relational_graph_convolution_1/coeff:0', 'relational_graph_convolution_1/coeff:0', 'relational_graph_convolution_1/coeff:0', 'relational_graph_convolution_3/bases:0', 'relational_graph_convolution_3/coeff:0', 'relational_graph_convolution_3/coeff:0', 'relational_graph_convolution_3/coeff:0', 'relational_graph_convolution_3/coeff:0', 'relational_graph_convolution_3/coeff:0', 'relational_graph_convolution_3/coeff:0', 'relational_graph_convolution_3/coeff:0', 'relational_graph_convolution_3/coeff:0', 'relational_graph_convolution_3/coeff:0', 'relational_graph_convolution_3/coeff:0', 'relational_graph_convolution_3/coeff:0', 'relational_graph_convolution_3/coeff:0', 'relational_graph_convolution_3/coeff:0', 'relational_graph_convolution_3/coeff:0', 'relational_graph_convolution_3/coeff:0', 'relational_graph_convolution_3/coeff:0', 'relational_graph_convolution_3/coeff:0', 'relational_graph_convolution_3/coeff:0', 'relational_graph_convolution_3/coeff:0', 'relational_graph_convolution_3/coeff:0', 'relational_graph_convolution_3/coeff:0', 'relational_graph_convolution_3/coeff:0', 'relational_graph_convolution_3/coeff:0', 'relational_graph_convolution_3/coeff:0', 'relational_graph_convolution_3/coeff:0', 'relational_graph_convolution_3/coeff:0', 'relational_graph_convolution_3/coeff:0', 'relational_graph_convolution_3/coeff:0', 'relational_graph_convolution_3/coeff:0', 'relational_graph_convolution_3/coeff:0', 'relational_graph_convolution_3/coeff:0', 'relational_graph_convolution_3/coeff:0', 'relational_graph_convolution_3/coeff:0', 'relational_graph_convolution_3/coeff:0', 'relational_graph_convolution_3/coeff:0', 'relational_graph_convolution_3/coeff:0', 'relational_graph_convolution_3/coeff:0', 'relational_graph_convolution_3/coeff:0', 'relational_graph_convolution_3/coeff:0', 'relational_graph_convolution_3/coeff:0', 'relational_graph_convolution_3/coeff:0', 'relational_graph_convolution_3/coeff:0', 'relational_graph_convolution_3/coeff:0', 'relational_graph_convolution_3/coeff:0', 'relational_graph_convolution_3/coeff:0'] when minimizing the loss.\n"
     ]
    },
    {
     "name": "stdout",
     "output_type": "stream",
     "text": [
      "\r",
      "1/1 [==============================] - 7s 7s/step - loss: 1.6051 - acc: 0.3944 - val_loss: 1.5934 - val_acc: 0.2778\n"
     ]
    },
    {
     "name": "stdout",
     "output_type": "stream",
     "text": [
      "Epoch 2/20\n"
     ]
    },
    {
     "name": "stdout",
     "output_type": "stream",
     "text": [
      "WARNING:tensorflow:Gradients do not exist for variables ['relational_graph_convolution_1/bases:0', 'relational_graph_convolution_1/coeff:0', 'relational_graph_convolution_1/coeff:0', 'relational_graph_convolution_1/coeff:0', 'relational_graph_convolution_1/coeff:0', 'relational_graph_convolution_1/coeff:0', 'relational_graph_convolution_1/coeff:0', 'relational_graph_convolution_1/coeff:0', 'relational_graph_convolution_1/coeff:0', 'relational_graph_convolution_1/coeff:0', 'relational_graph_convolution_1/coeff:0', 'relational_graph_convolution_1/coeff:0', 'relational_graph_convolution_1/coeff:0', 'relational_graph_convolution_1/coeff:0', 'relational_graph_convolution_1/coeff:0', 'relational_graph_convolution_1/coeff:0', 'relational_graph_convolution_1/coeff:0', 'relational_graph_convolution_1/coeff:0', 'relational_graph_convolution_1/coeff:0', 'relational_graph_convolution_1/coeff:0', 'relational_graph_convolution_1/coeff:0', 'relational_graph_convolution_1/coeff:0', 'relational_graph_convolution_1/coeff:0', 'relational_graph_convolution_1/coeff:0', 'relational_graph_convolution_1/coeff:0', 'relational_graph_convolution_1/coeff:0', 'relational_graph_convolution_1/coeff:0', 'relational_graph_convolution_1/coeff:0', 'relational_graph_convolution_1/coeff:0', 'relational_graph_convolution_1/coeff:0', 'relational_graph_convolution_1/coeff:0', 'relational_graph_convolution_1/coeff:0', 'relational_graph_convolution_1/coeff:0', 'relational_graph_convolution_1/coeff:0', 'relational_graph_convolution_1/coeff:0', 'relational_graph_convolution_1/coeff:0', 'relational_graph_convolution_1/coeff:0', 'relational_graph_convolution_1/coeff:0', 'relational_graph_convolution_1/coeff:0', 'relational_graph_convolution_1/coeff:0', 'relational_graph_convolution_1/coeff:0', 'relational_graph_convolution_1/coeff:0', 'relational_graph_convolution_1/coeff:0', 'relational_graph_convolution_1/coeff:0', 'relational_graph_convolution_1/coeff:0', 'relational_graph_convolution_1/coeff:0', 'relational_graph_convolution_3/bases:0', 'relational_graph_convolution_3/coeff:0', 'relational_graph_convolution_3/coeff:0', 'relational_graph_convolution_3/coeff:0', 'relational_graph_convolution_3/coeff:0', 'relational_graph_convolution_3/coeff:0', 'relational_graph_convolution_3/coeff:0', 'relational_graph_convolution_3/coeff:0', 'relational_graph_convolution_3/coeff:0', 'relational_graph_convolution_3/coeff:0', 'relational_graph_convolution_3/coeff:0', 'relational_graph_convolution_3/coeff:0', 'relational_graph_convolution_3/coeff:0', 'relational_graph_convolution_3/coeff:0', 'relational_graph_convolution_3/coeff:0', 'relational_graph_convolution_3/coeff:0', 'relational_graph_convolution_3/coeff:0', 'relational_graph_convolution_3/coeff:0', 'relational_graph_convolution_3/coeff:0', 'relational_graph_convolution_3/coeff:0', 'relational_graph_convolution_3/coeff:0', 'relational_graph_convolution_3/coeff:0', 'relational_graph_convolution_3/coeff:0', 'relational_graph_convolution_3/coeff:0', 'relational_graph_convolution_3/coeff:0', 'relational_graph_convolution_3/coeff:0', 'relational_graph_convolution_3/coeff:0', 'relational_graph_convolution_3/coeff:0', 'relational_graph_convolution_3/coeff:0', 'relational_graph_convolution_3/coeff:0', 'relational_graph_convolution_3/coeff:0', 'relational_graph_convolution_3/coeff:0', 'relational_graph_convolution_3/coeff:0', 'relational_graph_convolution_3/coeff:0', 'relational_graph_convolution_3/coeff:0', 'relational_graph_convolution_3/coeff:0', 'relational_graph_convolution_3/coeff:0', 'relational_graph_convolution_3/coeff:0', 'relational_graph_convolution_3/coeff:0', 'relational_graph_convolution_3/coeff:0', 'relational_graph_convolution_3/coeff:0', 'relational_graph_convolution_3/coeff:0', 'relational_graph_convolution_3/coeff:0', 'relational_graph_convolution_3/coeff:0', 'relational_graph_convolution_3/coeff:0', 'relational_graph_convolution_3/coeff:0'] when minimizing the loss.\n"
     ]
    },
    {
     "name": "stdout",
     "output_type": "stream",
     "text": [
      "\r",
      "1/1 [==============================] - 7s 7s/step - loss: 1.5810 - acc: 0.3944 - val_loss: 1.5764 - val_acc: 0.2500\n"
     ]
    },
    {
     "name": "stdout",
     "output_type": "stream",
     "text": [
      "Epoch 3/20\n"
     ]
    },
    {
     "name": "stdout",
     "output_type": "stream",
     "text": [
      "WARNING:tensorflow:Gradients do not exist for variables ['relational_graph_convolution_1/bases:0', 'relational_graph_convolution_1/coeff:0', 'relational_graph_convolution_1/coeff:0', 'relational_graph_convolution_1/coeff:0', 'relational_graph_convolution_1/coeff:0', 'relational_graph_convolution_1/coeff:0', 'relational_graph_convolution_1/coeff:0', 'relational_graph_convolution_1/coeff:0', 'relational_graph_convolution_1/coeff:0', 'relational_graph_convolution_1/coeff:0', 'relational_graph_convolution_1/coeff:0', 'relational_graph_convolution_1/coeff:0', 'relational_graph_convolution_1/coeff:0', 'relational_graph_convolution_1/coeff:0', 'relational_graph_convolution_1/coeff:0', 'relational_graph_convolution_1/coeff:0', 'relational_graph_convolution_1/coeff:0', 'relational_graph_convolution_1/coeff:0', 'relational_graph_convolution_1/coeff:0', 'relational_graph_convolution_1/coeff:0', 'relational_graph_convolution_1/coeff:0', 'relational_graph_convolution_1/coeff:0', 'relational_graph_convolution_1/coeff:0', 'relational_graph_convolution_1/coeff:0', 'relational_graph_convolution_1/coeff:0', 'relational_graph_convolution_1/coeff:0', 'relational_graph_convolution_1/coeff:0', 'relational_graph_convolution_1/coeff:0', 'relational_graph_convolution_1/coeff:0', 'relational_graph_convolution_1/coeff:0', 'relational_graph_convolution_1/coeff:0', 'relational_graph_convolution_1/coeff:0', 'relational_graph_convolution_1/coeff:0', 'relational_graph_convolution_1/coeff:0', 'relational_graph_convolution_1/coeff:0', 'relational_graph_convolution_1/coeff:0', 'relational_graph_convolution_1/coeff:0', 'relational_graph_convolution_1/coeff:0', 'relational_graph_convolution_1/coeff:0', 'relational_graph_convolution_1/coeff:0', 'relational_graph_convolution_1/coeff:0', 'relational_graph_convolution_1/coeff:0', 'relational_graph_convolution_1/coeff:0', 'relational_graph_convolution_1/coeff:0', 'relational_graph_convolution_1/coeff:0', 'relational_graph_convolution_1/coeff:0', 'relational_graph_convolution_3/bases:0', 'relational_graph_convolution_3/coeff:0', 'relational_graph_convolution_3/coeff:0', 'relational_graph_convolution_3/coeff:0', 'relational_graph_convolution_3/coeff:0', 'relational_graph_convolution_3/coeff:0', 'relational_graph_convolution_3/coeff:0', 'relational_graph_convolution_3/coeff:0', 'relational_graph_convolution_3/coeff:0', 'relational_graph_convolution_3/coeff:0', 'relational_graph_convolution_3/coeff:0', 'relational_graph_convolution_3/coeff:0', 'relational_graph_convolution_3/coeff:0', 'relational_graph_convolution_3/coeff:0', 'relational_graph_convolution_3/coeff:0', 'relational_graph_convolution_3/coeff:0', 'relational_graph_convolution_3/coeff:0', 'relational_graph_convolution_3/coeff:0', 'relational_graph_convolution_3/coeff:0', 'relational_graph_convolution_3/coeff:0', 'relational_graph_convolution_3/coeff:0', 'relational_graph_convolution_3/coeff:0', 'relational_graph_convolution_3/coeff:0', 'relational_graph_convolution_3/coeff:0', 'relational_graph_convolution_3/coeff:0', 'relational_graph_convolution_3/coeff:0', 'relational_graph_convolution_3/coeff:0', 'relational_graph_convolution_3/coeff:0', 'relational_graph_convolution_3/coeff:0', 'relational_graph_convolution_3/coeff:0', 'relational_graph_convolution_3/coeff:0', 'relational_graph_convolution_3/coeff:0', 'relational_graph_convolution_3/coeff:0', 'relational_graph_convolution_3/coeff:0', 'relational_graph_convolution_3/coeff:0', 'relational_graph_convolution_3/coeff:0', 'relational_graph_convolution_3/coeff:0', 'relational_graph_convolution_3/coeff:0', 'relational_graph_convolution_3/coeff:0', 'relational_graph_convolution_3/coeff:0', 'relational_graph_convolution_3/coeff:0', 'relational_graph_convolution_3/coeff:0', 'relational_graph_convolution_3/coeff:0', 'relational_graph_convolution_3/coeff:0', 'relational_graph_convolution_3/coeff:0', 'relational_graph_convolution_3/coeff:0'] when minimizing the loss.\n"
     ]
    },
    {
     "name": "stdout",
     "output_type": "stream",
     "text": [
      "\r",
      "1/1 [==============================] - 7s 7s/step - loss: 1.5533 - acc: 0.4155 - val_loss: 1.5575 - val_acc: 0.2500\n"
     ]
    },
    {
     "name": "stdout",
     "output_type": "stream",
     "text": [
      "Epoch 4/20\n"
     ]
    },
    {
     "name": "stdout",
     "output_type": "stream",
     "text": [
      "WARNING:tensorflow:Gradients do not exist for variables ['relational_graph_convolution_1/bases:0', 'relational_graph_convolution_1/coeff:0', 'relational_graph_convolution_1/coeff:0', 'relational_graph_convolution_1/coeff:0', 'relational_graph_convolution_1/coeff:0', 'relational_graph_convolution_1/coeff:0', 'relational_graph_convolution_1/coeff:0', 'relational_graph_convolution_1/coeff:0', 'relational_graph_convolution_1/coeff:0', 'relational_graph_convolution_1/coeff:0', 'relational_graph_convolution_1/coeff:0', 'relational_graph_convolution_1/coeff:0', 'relational_graph_convolution_1/coeff:0', 'relational_graph_convolution_1/coeff:0', 'relational_graph_convolution_1/coeff:0', 'relational_graph_convolution_1/coeff:0', 'relational_graph_convolution_1/coeff:0', 'relational_graph_convolution_1/coeff:0', 'relational_graph_convolution_1/coeff:0', 'relational_graph_convolution_1/coeff:0', 'relational_graph_convolution_1/coeff:0', 'relational_graph_convolution_1/coeff:0', 'relational_graph_convolution_1/coeff:0', 'relational_graph_convolution_1/coeff:0', 'relational_graph_convolution_1/coeff:0', 'relational_graph_convolution_1/coeff:0', 'relational_graph_convolution_1/coeff:0', 'relational_graph_convolution_1/coeff:0', 'relational_graph_convolution_1/coeff:0', 'relational_graph_convolution_1/coeff:0', 'relational_graph_convolution_1/coeff:0', 'relational_graph_convolution_1/coeff:0', 'relational_graph_convolution_1/coeff:0', 'relational_graph_convolution_1/coeff:0', 'relational_graph_convolution_1/coeff:0', 'relational_graph_convolution_1/coeff:0', 'relational_graph_convolution_1/coeff:0', 'relational_graph_convolution_1/coeff:0', 'relational_graph_convolution_1/coeff:0', 'relational_graph_convolution_1/coeff:0', 'relational_graph_convolution_1/coeff:0', 'relational_graph_convolution_1/coeff:0', 'relational_graph_convolution_1/coeff:0', 'relational_graph_convolution_1/coeff:0', 'relational_graph_convolution_1/coeff:0', 'relational_graph_convolution_1/coeff:0', 'relational_graph_convolution_3/bases:0', 'relational_graph_convolution_3/coeff:0', 'relational_graph_convolution_3/coeff:0', 'relational_graph_convolution_3/coeff:0', 'relational_graph_convolution_3/coeff:0', 'relational_graph_convolution_3/coeff:0', 'relational_graph_convolution_3/coeff:0', 'relational_graph_convolution_3/coeff:0', 'relational_graph_convolution_3/coeff:0', 'relational_graph_convolution_3/coeff:0', 'relational_graph_convolution_3/coeff:0', 'relational_graph_convolution_3/coeff:0', 'relational_graph_convolution_3/coeff:0', 'relational_graph_convolution_3/coeff:0', 'relational_graph_convolution_3/coeff:0', 'relational_graph_convolution_3/coeff:0', 'relational_graph_convolution_3/coeff:0', 'relational_graph_convolution_3/coeff:0', 'relational_graph_convolution_3/coeff:0', 'relational_graph_convolution_3/coeff:0', 'relational_graph_convolution_3/coeff:0', 'relational_graph_convolution_3/coeff:0', 'relational_graph_convolution_3/coeff:0', 'relational_graph_convolution_3/coeff:0', 'relational_graph_convolution_3/coeff:0', 'relational_graph_convolution_3/coeff:0', 'relational_graph_convolution_3/coeff:0', 'relational_graph_convolution_3/coeff:0', 'relational_graph_convolution_3/coeff:0', 'relational_graph_convolution_3/coeff:0', 'relational_graph_convolution_3/coeff:0', 'relational_graph_convolution_3/coeff:0', 'relational_graph_convolution_3/coeff:0', 'relational_graph_convolution_3/coeff:0', 'relational_graph_convolution_3/coeff:0', 'relational_graph_convolution_3/coeff:0', 'relational_graph_convolution_3/coeff:0', 'relational_graph_convolution_3/coeff:0', 'relational_graph_convolution_3/coeff:0', 'relational_graph_convolution_3/coeff:0', 'relational_graph_convolution_3/coeff:0', 'relational_graph_convolution_3/coeff:0', 'relational_graph_convolution_3/coeff:0', 'relational_graph_convolution_3/coeff:0', 'relational_graph_convolution_3/coeff:0', 'relational_graph_convolution_3/coeff:0'] when minimizing the loss.\n"
     ]
    },
    {
     "name": "stdout",
     "output_type": "stream",
     "text": [
      "\r",
      "1/1 [==============================] - 7s 7s/step - loss: 1.5213 - acc: 0.4437 - val_loss: 1.5368 - val_acc: 0.2500\n"
     ]
    },
    {
     "name": "stdout",
     "output_type": "stream",
     "text": [
      "Epoch 5/20\n"
     ]
    },
    {
     "name": "stdout",
     "output_type": "stream",
     "text": [
      "WARNING:tensorflow:Gradients do not exist for variables ['relational_graph_convolution_1/bases:0', 'relational_graph_convolution_1/coeff:0', 'relational_graph_convolution_1/coeff:0', 'relational_graph_convolution_1/coeff:0', 'relational_graph_convolution_1/coeff:0', 'relational_graph_convolution_1/coeff:0', 'relational_graph_convolution_1/coeff:0', 'relational_graph_convolution_1/coeff:0', 'relational_graph_convolution_1/coeff:0', 'relational_graph_convolution_1/coeff:0', 'relational_graph_convolution_1/coeff:0', 'relational_graph_convolution_1/coeff:0', 'relational_graph_convolution_1/coeff:0', 'relational_graph_convolution_1/coeff:0', 'relational_graph_convolution_1/coeff:0', 'relational_graph_convolution_1/coeff:0', 'relational_graph_convolution_1/coeff:0', 'relational_graph_convolution_1/coeff:0', 'relational_graph_convolution_1/coeff:0', 'relational_graph_convolution_1/coeff:0', 'relational_graph_convolution_1/coeff:0', 'relational_graph_convolution_1/coeff:0', 'relational_graph_convolution_1/coeff:0', 'relational_graph_convolution_1/coeff:0', 'relational_graph_convolution_1/coeff:0', 'relational_graph_convolution_1/coeff:0', 'relational_graph_convolution_1/coeff:0', 'relational_graph_convolution_1/coeff:0', 'relational_graph_convolution_1/coeff:0', 'relational_graph_convolution_1/coeff:0', 'relational_graph_convolution_1/coeff:0', 'relational_graph_convolution_1/coeff:0', 'relational_graph_convolution_1/coeff:0', 'relational_graph_convolution_1/coeff:0', 'relational_graph_convolution_1/coeff:0', 'relational_graph_convolution_1/coeff:0', 'relational_graph_convolution_1/coeff:0', 'relational_graph_convolution_1/coeff:0', 'relational_graph_convolution_1/coeff:0', 'relational_graph_convolution_1/coeff:0', 'relational_graph_convolution_1/coeff:0', 'relational_graph_convolution_1/coeff:0', 'relational_graph_convolution_1/coeff:0', 'relational_graph_convolution_1/coeff:0', 'relational_graph_convolution_1/coeff:0', 'relational_graph_convolution_1/coeff:0', 'relational_graph_convolution_3/bases:0', 'relational_graph_convolution_3/coeff:0', 'relational_graph_convolution_3/coeff:0', 'relational_graph_convolution_3/coeff:0', 'relational_graph_convolution_3/coeff:0', 'relational_graph_convolution_3/coeff:0', 'relational_graph_convolution_3/coeff:0', 'relational_graph_convolution_3/coeff:0', 'relational_graph_convolution_3/coeff:0', 'relational_graph_convolution_3/coeff:0', 'relational_graph_convolution_3/coeff:0', 'relational_graph_convolution_3/coeff:0', 'relational_graph_convolution_3/coeff:0', 'relational_graph_convolution_3/coeff:0', 'relational_graph_convolution_3/coeff:0', 'relational_graph_convolution_3/coeff:0', 'relational_graph_convolution_3/coeff:0', 'relational_graph_convolution_3/coeff:0', 'relational_graph_convolution_3/coeff:0', 'relational_graph_convolution_3/coeff:0', 'relational_graph_convolution_3/coeff:0', 'relational_graph_convolution_3/coeff:0', 'relational_graph_convolution_3/coeff:0', 'relational_graph_convolution_3/coeff:0', 'relational_graph_convolution_3/coeff:0', 'relational_graph_convolution_3/coeff:0', 'relational_graph_convolution_3/coeff:0', 'relational_graph_convolution_3/coeff:0', 'relational_graph_convolution_3/coeff:0', 'relational_graph_convolution_3/coeff:0', 'relational_graph_convolution_3/coeff:0', 'relational_graph_convolution_3/coeff:0', 'relational_graph_convolution_3/coeff:0', 'relational_graph_convolution_3/coeff:0', 'relational_graph_convolution_3/coeff:0', 'relational_graph_convolution_3/coeff:0', 'relational_graph_convolution_3/coeff:0', 'relational_graph_convolution_3/coeff:0', 'relational_graph_convolution_3/coeff:0', 'relational_graph_convolution_3/coeff:0', 'relational_graph_convolution_3/coeff:0', 'relational_graph_convolution_3/coeff:0', 'relational_graph_convolution_3/coeff:0', 'relational_graph_convolution_3/coeff:0', 'relational_graph_convolution_3/coeff:0', 'relational_graph_convolution_3/coeff:0'] when minimizing the loss.\n"
     ]
    },
    {
     "name": "stdout",
     "output_type": "stream",
     "text": [
      "\r",
      "1/1 [==============================] - 7s 7s/step - loss: 1.4977 - acc: 0.4085 - val_loss: 1.5130 - val_acc: 0.2500\n"
     ]
    },
    {
     "name": "stdout",
     "output_type": "stream",
     "text": [
      "Epoch 6/20\n"
     ]
    },
    {
     "name": "stdout",
     "output_type": "stream",
     "text": [
      "WARNING:tensorflow:Gradients do not exist for variables ['relational_graph_convolution_1/bases:0', 'relational_graph_convolution_1/coeff:0', 'relational_graph_convolution_1/coeff:0', 'relational_graph_convolution_1/coeff:0', 'relational_graph_convolution_1/coeff:0', 'relational_graph_convolution_1/coeff:0', 'relational_graph_convolution_1/coeff:0', 'relational_graph_convolution_1/coeff:0', 'relational_graph_convolution_1/coeff:0', 'relational_graph_convolution_1/coeff:0', 'relational_graph_convolution_1/coeff:0', 'relational_graph_convolution_1/coeff:0', 'relational_graph_convolution_1/coeff:0', 'relational_graph_convolution_1/coeff:0', 'relational_graph_convolution_1/coeff:0', 'relational_graph_convolution_1/coeff:0', 'relational_graph_convolution_1/coeff:0', 'relational_graph_convolution_1/coeff:0', 'relational_graph_convolution_1/coeff:0', 'relational_graph_convolution_1/coeff:0', 'relational_graph_convolution_1/coeff:0', 'relational_graph_convolution_1/coeff:0', 'relational_graph_convolution_1/coeff:0', 'relational_graph_convolution_1/coeff:0', 'relational_graph_convolution_1/coeff:0', 'relational_graph_convolution_1/coeff:0', 'relational_graph_convolution_1/coeff:0', 'relational_graph_convolution_1/coeff:0', 'relational_graph_convolution_1/coeff:0', 'relational_graph_convolution_1/coeff:0', 'relational_graph_convolution_1/coeff:0', 'relational_graph_convolution_1/coeff:0', 'relational_graph_convolution_1/coeff:0', 'relational_graph_convolution_1/coeff:0', 'relational_graph_convolution_1/coeff:0', 'relational_graph_convolution_1/coeff:0', 'relational_graph_convolution_1/coeff:0', 'relational_graph_convolution_1/coeff:0', 'relational_graph_convolution_1/coeff:0', 'relational_graph_convolution_1/coeff:0', 'relational_graph_convolution_1/coeff:0', 'relational_graph_convolution_1/coeff:0', 'relational_graph_convolution_1/coeff:0', 'relational_graph_convolution_1/coeff:0', 'relational_graph_convolution_1/coeff:0', 'relational_graph_convolution_1/coeff:0', 'relational_graph_convolution_3/bases:0', 'relational_graph_convolution_3/coeff:0', 'relational_graph_convolution_3/coeff:0', 'relational_graph_convolution_3/coeff:0', 'relational_graph_convolution_3/coeff:0', 'relational_graph_convolution_3/coeff:0', 'relational_graph_convolution_3/coeff:0', 'relational_graph_convolution_3/coeff:0', 'relational_graph_convolution_3/coeff:0', 'relational_graph_convolution_3/coeff:0', 'relational_graph_convolution_3/coeff:0', 'relational_graph_convolution_3/coeff:0', 'relational_graph_convolution_3/coeff:0', 'relational_graph_convolution_3/coeff:0', 'relational_graph_convolution_3/coeff:0', 'relational_graph_convolution_3/coeff:0', 'relational_graph_convolution_3/coeff:0', 'relational_graph_convolution_3/coeff:0', 'relational_graph_convolution_3/coeff:0', 'relational_graph_convolution_3/coeff:0', 'relational_graph_convolution_3/coeff:0', 'relational_graph_convolution_3/coeff:0', 'relational_graph_convolution_3/coeff:0', 'relational_graph_convolution_3/coeff:0', 'relational_graph_convolution_3/coeff:0', 'relational_graph_convolution_3/coeff:0', 'relational_graph_convolution_3/coeff:0', 'relational_graph_convolution_3/coeff:0', 'relational_graph_convolution_3/coeff:0', 'relational_graph_convolution_3/coeff:0', 'relational_graph_convolution_3/coeff:0', 'relational_graph_convolution_3/coeff:0', 'relational_graph_convolution_3/coeff:0', 'relational_graph_convolution_3/coeff:0', 'relational_graph_convolution_3/coeff:0', 'relational_graph_convolution_3/coeff:0', 'relational_graph_convolution_3/coeff:0', 'relational_graph_convolution_3/coeff:0', 'relational_graph_convolution_3/coeff:0', 'relational_graph_convolution_3/coeff:0', 'relational_graph_convolution_3/coeff:0', 'relational_graph_convolution_3/coeff:0', 'relational_graph_convolution_3/coeff:0', 'relational_graph_convolution_3/coeff:0', 'relational_graph_convolution_3/coeff:0', 'relational_graph_convolution_3/coeff:0'] when minimizing the loss.\n"
     ]
    },
    {
     "name": "stdout",
     "output_type": "stream",
     "text": [
      "\r",
      "1/1 [==============================] - 7s 7s/step - loss: 1.4527 - acc: 0.5070 - val_loss: 1.4876 - val_acc: 0.2500\n"
     ]
    },
    {
     "name": "stdout",
     "output_type": "stream",
     "text": [
      "Epoch 7/20\n"
     ]
    },
    {
     "name": "stdout",
     "output_type": "stream",
     "text": [
      "WARNING:tensorflow:Gradients do not exist for variables ['relational_graph_convolution_1/bases:0', 'relational_graph_convolution_1/coeff:0', 'relational_graph_convolution_1/coeff:0', 'relational_graph_convolution_1/coeff:0', 'relational_graph_convolution_1/coeff:0', 'relational_graph_convolution_1/coeff:0', 'relational_graph_convolution_1/coeff:0', 'relational_graph_convolution_1/coeff:0', 'relational_graph_convolution_1/coeff:0', 'relational_graph_convolution_1/coeff:0', 'relational_graph_convolution_1/coeff:0', 'relational_graph_convolution_1/coeff:0', 'relational_graph_convolution_1/coeff:0', 'relational_graph_convolution_1/coeff:0', 'relational_graph_convolution_1/coeff:0', 'relational_graph_convolution_1/coeff:0', 'relational_graph_convolution_1/coeff:0', 'relational_graph_convolution_1/coeff:0', 'relational_graph_convolution_1/coeff:0', 'relational_graph_convolution_1/coeff:0', 'relational_graph_convolution_1/coeff:0', 'relational_graph_convolution_1/coeff:0', 'relational_graph_convolution_1/coeff:0', 'relational_graph_convolution_1/coeff:0', 'relational_graph_convolution_1/coeff:0', 'relational_graph_convolution_1/coeff:0', 'relational_graph_convolution_1/coeff:0', 'relational_graph_convolution_1/coeff:0', 'relational_graph_convolution_1/coeff:0', 'relational_graph_convolution_1/coeff:0', 'relational_graph_convolution_1/coeff:0', 'relational_graph_convolution_1/coeff:0', 'relational_graph_convolution_1/coeff:0', 'relational_graph_convolution_1/coeff:0', 'relational_graph_convolution_1/coeff:0', 'relational_graph_convolution_1/coeff:0', 'relational_graph_convolution_1/coeff:0', 'relational_graph_convolution_1/coeff:0', 'relational_graph_convolution_1/coeff:0', 'relational_graph_convolution_1/coeff:0', 'relational_graph_convolution_1/coeff:0', 'relational_graph_convolution_1/coeff:0', 'relational_graph_convolution_1/coeff:0', 'relational_graph_convolution_1/coeff:0', 'relational_graph_convolution_1/coeff:0', 'relational_graph_convolution_1/coeff:0', 'relational_graph_convolution_3/bases:0', 'relational_graph_convolution_3/coeff:0', 'relational_graph_convolution_3/coeff:0', 'relational_graph_convolution_3/coeff:0', 'relational_graph_convolution_3/coeff:0', 'relational_graph_convolution_3/coeff:0', 'relational_graph_convolution_3/coeff:0', 'relational_graph_convolution_3/coeff:0', 'relational_graph_convolution_3/coeff:0', 'relational_graph_convolution_3/coeff:0', 'relational_graph_convolution_3/coeff:0', 'relational_graph_convolution_3/coeff:0', 'relational_graph_convolution_3/coeff:0', 'relational_graph_convolution_3/coeff:0', 'relational_graph_convolution_3/coeff:0', 'relational_graph_convolution_3/coeff:0', 'relational_graph_convolution_3/coeff:0', 'relational_graph_convolution_3/coeff:0', 'relational_graph_convolution_3/coeff:0', 'relational_graph_convolution_3/coeff:0', 'relational_graph_convolution_3/coeff:0', 'relational_graph_convolution_3/coeff:0', 'relational_graph_convolution_3/coeff:0', 'relational_graph_convolution_3/coeff:0', 'relational_graph_convolution_3/coeff:0', 'relational_graph_convolution_3/coeff:0', 'relational_graph_convolution_3/coeff:0', 'relational_graph_convolution_3/coeff:0', 'relational_graph_convolution_3/coeff:0', 'relational_graph_convolution_3/coeff:0', 'relational_graph_convolution_3/coeff:0', 'relational_graph_convolution_3/coeff:0', 'relational_graph_convolution_3/coeff:0', 'relational_graph_convolution_3/coeff:0', 'relational_graph_convolution_3/coeff:0', 'relational_graph_convolution_3/coeff:0', 'relational_graph_convolution_3/coeff:0', 'relational_graph_convolution_3/coeff:0', 'relational_graph_convolution_3/coeff:0', 'relational_graph_convolution_3/coeff:0', 'relational_graph_convolution_3/coeff:0', 'relational_graph_convolution_3/coeff:0', 'relational_graph_convolution_3/coeff:0', 'relational_graph_convolution_3/coeff:0', 'relational_graph_convolution_3/coeff:0', 'relational_graph_convolution_3/coeff:0'] when minimizing the loss.\n"
     ]
    },
    {
     "name": "stdout",
     "output_type": "stream",
     "text": [
      "\r",
      "1/1 [==============================] - 7s 7s/step - loss: 1.4177 - acc: 0.4577 - val_loss: 1.4614 - val_acc: 0.2500\n"
     ]
    },
    {
     "name": "stdout",
     "output_type": "stream",
     "text": [
      "Epoch 8/20\n"
     ]
    },
    {
     "name": "stdout",
     "output_type": "stream",
     "text": [
      "WARNING:tensorflow:Gradients do not exist for variables ['relational_graph_convolution_1/bases:0', 'relational_graph_convolution_1/coeff:0', 'relational_graph_convolution_1/coeff:0', 'relational_graph_convolution_1/coeff:0', 'relational_graph_convolution_1/coeff:0', 'relational_graph_convolution_1/coeff:0', 'relational_graph_convolution_1/coeff:0', 'relational_graph_convolution_1/coeff:0', 'relational_graph_convolution_1/coeff:0', 'relational_graph_convolution_1/coeff:0', 'relational_graph_convolution_1/coeff:0', 'relational_graph_convolution_1/coeff:0', 'relational_graph_convolution_1/coeff:0', 'relational_graph_convolution_1/coeff:0', 'relational_graph_convolution_1/coeff:0', 'relational_graph_convolution_1/coeff:0', 'relational_graph_convolution_1/coeff:0', 'relational_graph_convolution_1/coeff:0', 'relational_graph_convolution_1/coeff:0', 'relational_graph_convolution_1/coeff:0', 'relational_graph_convolution_1/coeff:0', 'relational_graph_convolution_1/coeff:0', 'relational_graph_convolution_1/coeff:0', 'relational_graph_convolution_1/coeff:0', 'relational_graph_convolution_1/coeff:0', 'relational_graph_convolution_1/coeff:0', 'relational_graph_convolution_1/coeff:0', 'relational_graph_convolution_1/coeff:0', 'relational_graph_convolution_1/coeff:0', 'relational_graph_convolution_1/coeff:0', 'relational_graph_convolution_1/coeff:0', 'relational_graph_convolution_1/coeff:0', 'relational_graph_convolution_1/coeff:0', 'relational_graph_convolution_1/coeff:0', 'relational_graph_convolution_1/coeff:0', 'relational_graph_convolution_1/coeff:0', 'relational_graph_convolution_1/coeff:0', 'relational_graph_convolution_1/coeff:0', 'relational_graph_convolution_1/coeff:0', 'relational_graph_convolution_1/coeff:0', 'relational_graph_convolution_1/coeff:0', 'relational_graph_convolution_1/coeff:0', 'relational_graph_convolution_1/coeff:0', 'relational_graph_convolution_1/coeff:0', 'relational_graph_convolution_1/coeff:0', 'relational_graph_convolution_1/coeff:0', 'relational_graph_convolution_3/bases:0', 'relational_graph_convolution_3/coeff:0', 'relational_graph_convolution_3/coeff:0', 'relational_graph_convolution_3/coeff:0', 'relational_graph_convolution_3/coeff:0', 'relational_graph_convolution_3/coeff:0', 'relational_graph_convolution_3/coeff:0', 'relational_graph_convolution_3/coeff:0', 'relational_graph_convolution_3/coeff:0', 'relational_graph_convolution_3/coeff:0', 'relational_graph_convolution_3/coeff:0', 'relational_graph_convolution_3/coeff:0', 'relational_graph_convolution_3/coeff:0', 'relational_graph_convolution_3/coeff:0', 'relational_graph_convolution_3/coeff:0', 'relational_graph_convolution_3/coeff:0', 'relational_graph_convolution_3/coeff:0', 'relational_graph_convolution_3/coeff:0', 'relational_graph_convolution_3/coeff:0', 'relational_graph_convolution_3/coeff:0', 'relational_graph_convolution_3/coeff:0', 'relational_graph_convolution_3/coeff:0', 'relational_graph_convolution_3/coeff:0', 'relational_graph_convolution_3/coeff:0', 'relational_graph_convolution_3/coeff:0', 'relational_graph_convolution_3/coeff:0', 'relational_graph_convolution_3/coeff:0', 'relational_graph_convolution_3/coeff:0', 'relational_graph_convolution_3/coeff:0', 'relational_graph_convolution_3/coeff:0', 'relational_graph_convolution_3/coeff:0', 'relational_graph_convolution_3/coeff:0', 'relational_graph_convolution_3/coeff:0', 'relational_graph_convolution_3/coeff:0', 'relational_graph_convolution_3/coeff:0', 'relational_graph_convolution_3/coeff:0', 'relational_graph_convolution_3/coeff:0', 'relational_graph_convolution_3/coeff:0', 'relational_graph_convolution_3/coeff:0', 'relational_graph_convolution_3/coeff:0', 'relational_graph_convolution_3/coeff:0', 'relational_graph_convolution_3/coeff:0', 'relational_graph_convolution_3/coeff:0', 'relational_graph_convolution_3/coeff:0', 'relational_graph_convolution_3/coeff:0', 'relational_graph_convolution_3/coeff:0'] when minimizing the loss.\n"
     ]
    },
    {
     "name": "stdout",
     "output_type": "stream",
     "text": [
      "\r",
      "1/1 [==============================] - 7s 7s/step - loss: 1.3750 - acc: 0.5423 - val_loss: 1.4359 - val_acc: 0.2500\n"
     ]
    },
    {
     "name": "stdout",
     "output_type": "stream",
     "text": [
      "Epoch 9/20\n"
     ]
    },
    {
     "name": "stdout",
     "output_type": "stream",
     "text": [
      "WARNING:tensorflow:Gradients do not exist for variables ['relational_graph_convolution_1/bases:0', 'relational_graph_convolution_1/coeff:0', 'relational_graph_convolution_1/coeff:0', 'relational_graph_convolution_1/coeff:0', 'relational_graph_convolution_1/coeff:0', 'relational_graph_convolution_1/coeff:0', 'relational_graph_convolution_1/coeff:0', 'relational_graph_convolution_1/coeff:0', 'relational_graph_convolution_1/coeff:0', 'relational_graph_convolution_1/coeff:0', 'relational_graph_convolution_1/coeff:0', 'relational_graph_convolution_1/coeff:0', 'relational_graph_convolution_1/coeff:0', 'relational_graph_convolution_1/coeff:0', 'relational_graph_convolution_1/coeff:0', 'relational_graph_convolution_1/coeff:0', 'relational_graph_convolution_1/coeff:0', 'relational_graph_convolution_1/coeff:0', 'relational_graph_convolution_1/coeff:0', 'relational_graph_convolution_1/coeff:0', 'relational_graph_convolution_1/coeff:0', 'relational_graph_convolution_1/coeff:0', 'relational_graph_convolution_1/coeff:0', 'relational_graph_convolution_1/coeff:0', 'relational_graph_convolution_1/coeff:0', 'relational_graph_convolution_1/coeff:0', 'relational_graph_convolution_1/coeff:0', 'relational_graph_convolution_1/coeff:0', 'relational_graph_convolution_1/coeff:0', 'relational_graph_convolution_1/coeff:0', 'relational_graph_convolution_1/coeff:0', 'relational_graph_convolution_1/coeff:0', 'relational_graph_convolution_1/coeff:0', 'relational_graph_convolution_1/coeff:0', 'relational_graph_convolution_1/coeff:0', 'relational_graph_convolution_1/coeff:0', 'relational_graph_convolution_1/coeff:0', 'relational_graph_convolution_1/coeff:0', 'relational_graph_convolution_1/coeff:0', 'relational_graph_convolution_1/coeff:0', 'relational_graph_convolution_1/coeff:0', 'relational_graph_convolution_1/coeff:0', 'relational_graph_convolution_1/coeff:0', 'relational_graph_convolution_1/coeff:0', 'relational_graph_convolution_1/coeff:0', 'relational_graph_convolution_1/coeff:0', 'relational_graph_convolution_3/bases:0', 'relational_graph_convolution_3/coeff:0', 'relational_graph_convolution_3/coeff:0', 'relational_graph_convolution_3/coeff:0', 'relational_graph_convolution_3/coeff:0', 'relational_graph_convolution_3/coeff:0', 'relational_graph_convolution_3/coeff:0', 'relational_graph_convolution_3/coeff:0', 'relational_graph_convolution_3/coeff:0', 'relational_graph_convolution_3/coeff:0', 'relational_graph_convolution_3/coeff:0', 'relational_graph_convolution_3/coeff:0', 'relational_graph_convolution_3/coeff:0', 'relational_graph_convolution_3/coeff:0', 'relational_graph_convolution_3/coeff:0', 'relational_graph_convolution_3/coeff:0', 'relational_graph_convolution_3/coeff:0', 'relational_graph_convolution_3/coeff:0', 'relational_graph_convolution_3/coeff:0', 'relational_graph_convolution_3/coeff:0', 'relational_graph_convolution_3/coeff:0', 'relational_graph_convolution_3/coeff:0', 'relational_graph_convolution_3/coeff:0', 'relational_graph_convolution_3/coeff:0', 'relational_graph_convolution_3/coeff:0', 'relational_graph_convolution_3/coeff:0', 'relational_graph_convolution_3/coeff:0', 'relational_graph_convolution_3/coeff:0', 'relational_graph_convolution_3/coeff:0', 'relational_graph_convolution_3/coeff:0', 'relational_graph_convolution_3/coeff:0', 'relational_graph_convolution_3/coeff:0', 'relational_graph_convolution_3/coeff:0', 'relational_graph_convolution_3/coeff:0', 'relational_graph_convolution_3/coeff:0', 'relational_graph_convolution_3/coeff:0', 'relational_graph_convolution_3/coeff:0', 'relational_graph_convolution_3/coeff:0', 'relational_graph_convolution_3/coeff:0', 'relational_graph_convolution_3/coeff:0', 'relational_graph_convolution_3/coeff:0', 'relational_graph_convolution_3/coeff:0', 'relational_graph_convolution_3/coeff:0', 'relational_graph_convolution_3/coeff:0', 'relational_graph_convolution_3/coeff:0', 'relational_graph_convolution_3/coeff:0'] when minimizing the loss.\n"
     ]
    },
    {
     "name": "stdout",
     "output_type": "stream",
     "text": [
      "\r",
      "1/1 [==============================] - 7s 7s/step - loss: 1.3215 - acc: 0.5282 - val_loss: 1.4130 - val_acc: 0.2778\n"
     ]
    },
    {
     "name": "stdout",
     "output_type": "stream",
     "text": [
      "Epoch 10/20\n"
     ]
    },
    {
     "name": "stdout",
     "output_type": "stream",
     "text": [
      "WARNING:tensorflow:Gradients do not exist for variables ['relational_graph_convolution_1/bases:0', 'relational_graph_convolution_1/coeff:0', 'relational_graph_convolution_1/coeff:0', 'relational_graph_convolution_1/coeff:0', 'relational_graph_convolution_1/coeff:0', 'relational_graph_convolution_1/coeff:0', 'relational_graph_convolution_1/coeff:0', 'relational_graph_convolution_1/coeff:0', 'relational_graph_convolution_1/coeff:0', 'relational_graph_convolution_1/coeff:0', 'relational_graph_convolution_1/coeff:0', 'relational_graph_convolution_1/coeff:0', 'relational_graph_convolution_1/coeff:0', 'relational_graph_convolution_1/coeff:0', 'relational_graph_convolution_1/coeff:0', 'relational_graph_convolution_1/coeff:0', 'relational_graph_convolution_1/coeff:0', 'relational_graph_convolution_1/coeff:0', 'relational_graph_convolution_1/coeff:0', 'relational_graph_convolution_1/coeff:0', 'relational_graph_convolution_1/coeff:0', 'relational_graph_convolution_1/coeff:0', 'relational_graph_convolution_1/coeff:0', 'relational_graph_convolution_1/coeff:0', 'relational_graph_convolution_1/coeff:0', 'relational_graph_convolution_1/coeff:0', 'relational_graph_convolution_1/coeff:0', 'relational_graph_convolution_1/coeff:0', 'relational_graph_convolution_1/coeff:0', 'relational_graph_convolution_1/coeff:0', 'relational_graph_convolution_1/coeff:0', 'relational_graph_convolution_1/coeff:0', 'relational_graph_convolution_1/coeff:0', 'relational_graph_convolution_1/coeff:0', 'relational_graph_convolution_1/coeff:0', 'relational_graph_convolution_1/coeff:0', 'relational_graph_convolution_1/coeff:0', 'relational_graph_convolution_1/coeff:0', 'relational_graph_convolution_1/coeff:0', 'relational_graph_convolution_1/coeff:0', 'relational_graph_convolution_1/coeff:0', 'relational_graph_convolution_1/coeff:0', 'relational_graph_convolution_1/coeff:0', 'relational_graph_convolution_1/coeff:0', 'relational_graph_convolution_1/coeff:0', 'relational_graph_convolution_1/coeff:0', 'relational_graph_convolution_3/bases:0', 'relational_graph_convolution_3/coeff:0', 'relational_graph_convolution_3/coeff:0', 'relational_graph_convolution_3/coeff:0', 'relational_graph_convolution_3/coeff:0', 'relational_graph_convolution_3/coeff:0', 'relational_graph_convolution_3/coeff:0', 'relational_graph_convolution_3/coeff:0', 'relational_graph_convolution_3/coeff:0', 'relational_graph_convolution_3/coeff:0', 'relational_graph_convolution_3/coeff:0', 'relational_graph_convolution_3/coeff:0', 'relational_graph_convolution_3/coeff:0', 'relational_graph_convolution_3/coeff:0', 'relational_graph_convolution_3/coeff:0', 'relational_graph_convolution_3/coeff:0', 'relational_graph_convolution_3/coeff:0', 'relational_graph_convolution_3/coeff:0', 'relational_graph_convolution_3/coeff:0', 'relational_graph_convolution_3/coeff:0', 'relational_graph_convolution_3/coeff:0', 'relational_graph_convolution_3/coeff:0', 'relational_graph_convolution_3/coeff:0', 'relational_graph_convolution_3/coeff:0', 'relational_graph_convolution_3/coeff:0', 'relational_graph_convolution_3/coeff:0', 'relational_graph_convolution_3/coeff:0', 'relational_graph_convolution_3/coeff:0', 'relational_graph_convolution_3/coeff:0', 'relational_graph_convolution_3/coeff:0', 'relational_graph_convolution_3/coeff:0', 'relational_graph_convolution_3/coeff:0', 'relational_graph_convolution_3/coeff:0', 'relational_graph_convolution_3/coeff:0', 'relational_graph_convolution_3/coeff:0', 'relational_graph_convolution_3/coeff:0', 'relational_graph_convolution_3/coeff:0', 'relational_graph_convolution_3/coeff:0', 'relational_graph_convolution_3/coeff:0', 'relational_graph_convolution_3/coeff:0', 'relational_graph_convolution_3/coeff:0', 'relational_graph_convolution_3/coeff:0', 'relational_graph_convolution_3/coeff:0', 'relational_graph_convolution_3/coeff:0', 'relational_graph_convolution_3/coeff:0', 'relational_graph_convolution_3/coeff:0'] when minimizing the loss.\n"
     ]
    },
    {
     "name": "stdout",
     "output_type": "stream",
     "text": [
      "\r",
      "1/1 [==============================] - 7s 7s/step - loss: 1.2811 - acc: 0.5211 - val_loss: 1.3929 - val_acc: 0.3056\n"
     ]
    },
    {
     "name": "stdout",
     "output_type": "stream",
     "text": [
      "Epoch 11/20\n"
     ]
    },
    {
     "name": "stdout",
     "output_type": "stream",
     "text": [
      "WARNING:tensorflow:Gradients do not exist for variables ['relational_graph_convolution_1/bases:0', 'relational_graph_convolution_1/coeff:0', 'relational_graph_convolution_1/coeff:0', 'relational_graph_convolution_1/coeff:0', 'relational_graph_convolution_1/coeff:0', 'relational_graph_convolution_1/coeff:0', 'relational_graph_convolution_1/coeff:0', 'relational_graph_convolution_1/coeff:0', 'relational_graph_convolution_1/coeff:0', 'relational_graph_convolution_1/coeff:0', 'relational_graph_convolution_1/coeff:0', 'relational_graph_convolution_1/coeff:0', 'relational_graph_convolution_1/coeff:0', 'relational_graph_convolution_1/coeff:0', 'relational_graph_convolution_1/coeff:0', 'relational_graph_convolution_1/coeff:0', 'relational_graph_convolution_1/coeff:0', 'relational_graph_convolution_1/coeff:0', 'relational_graph_convolution_1/coeff:0', 'relational_graph_convolution_1/coeff:0', 'relational_graph_convolution_1/coeff:0', 'relational_graph_convolution_1/coeff:0', 'relational_graph_convolution_1/coeff:0', 'relational_graph_convolution_1/coeff:0', 'relational_graph_convolution_1/coeff:0', 'relational_graph_convolution_1/coeff:0', 'relational_graph_convolution_1/coeff:0', 'relational_graph_convolution_1/coeff:0', 'relational_graph_convolution_1/coeff:0', 'relational_graph_convolution_1/coeff:0', 'relational_graph_convolution_1/coeff:0', 'relational_graph_convolution_1/coeff:0', 'relational_graph_convolution_1/coeff:0', 'relational_graph_convolution_1/coeff:0', 'relational_graph_convolution_1/coeff:0', 'relational_graph_convolution_1/coeff:0', 'relational_graph_convolution_1/coeff:0', 'relational_graph_convolution_1/coeff:0', 'relational_graph_convolution_1/coeff:0', 'relational_graph_convolution_1/coeff:0', 'relational_graph_convolution_1/coeff:0', 'relational_graph_convolution_1/coeff:0', 'relational_graph_convolution_1/coeff:0', 'relational_graph_convolution_1/coeff:0', 'relational_graph_convolution_1/coeff:0', 'relational_graph_convolution_1/coeff:0', 'relational_graph_convolution_3/bases:0', 'relational_graph_convolution_3/coeff:0', 'relational_graph_convolution_3/coeff:0', 'relational_graph_convolution_3/coeff:0', 'relational_graph_convolution_3/coeff:0', 'relational_graph_convolution_3/coeff:0', 'relational_graph_convolution_3/coeff:0', 'relational_graph_convolution_3/coeff:0', 'relational_graph_convolution_3/coeff:0', 'relational_graph_convolution_3/coeff:0', 'relational_graph_convolution_3/coeff:0', 'relational_graph_convolution_3/coeff:0', 'relational_graph_convolution_3/coeff:0', 'relational_graph_convolution_3/coeff:0', 'relational_graph_convolution_3/coeff:0', 'relational_graph_convolution_3/coeff:0', 'relational_graph_convolution_3/coeff:0', 'relational_graph_convolution_3/coeff:0', 'relational_graph_convolution_3/coeff:0', 'relational_graph_convolution_3/coeff:0', 'relational_graph_convolution_3/coeff:0', 'relational_graph_convolution_3/coeff:0', 'relational_graph_convolution_3/coeff:0', 'relational_graph_convolution_3/coeff:0', 'relational_graph_convolution_3/coeff:0', 'relational_graph_convolution_3/coeff:0', 'relational_graph_convolution_3/coeff:0', 'relational_graph_convolution_3/coeff:0', 'relational_graph_convolution_3/coeff:0', 'relational_graph_convolution_3/coeff:0', 'relational_graph_convolution_3/coeff:0', 'relational_graph_convolution_3/coeff:0', 'relational_graph_convolution_3/coeff:0', 'relational_graph_convolution_3/coeff:0', 'relational_graph_convolution_3/coeff:0', 'relational_graph_convolution_3/coeff:0', 'relational_graph_convolution_3/coeff:0', 'relational_graph_convolution_3/coeff:0', 'relational_graph_convolution_3/coeff:0', 'relational_graph_convolution_3/coeff:0', 'relational_graph_convolution_3/coeff:0', 'relational_graph_convolution_3/coeff:0', 'relational_graph_convolution_3/coeff:0', 'relational_graph_convolution_3/coeff:0', 'relational_graph_convolution_3/coeff:0', 'relational_graph_convolution_3/coeff:0'] when minimizing the loss.\n"
     ]
    },
    {
     "name": "stdout",
     "output_type": "stream",
     "text": [
      "\r",
      "1/1 [==============================] - 7s 7s/step - loss: 1.2374 - acc: 0.5915 - val_loss: 1.3769 - val_acc: 0.3333\n"
     ]
    },
    {
     "name": "stdout",
     "output_type": "stream",
     "text": [
      "Epoch 12/20\n"
     ]
    },
    {
     "name": "stdout",
     "output_type": "stream",
     "text": [
      "WARNING:tensorflow:Gradients do not exist for variables ['relational_graph_convolution_1/bases:0', 'relational_graph_convolution_1/coeff:0', 'relational_graph_convolution_1/coeff:0', 'relational_graph_convolution_1/coeff:0', 'relational_graph_convolution_1/coeff:0', 'relational_graph_convolution_1/coeff:0', 'relational_graph_convolution_1/coeff:0', 'relational_graph_convolution_1/coeff:0', 'relational_graph_convolution_1/coeff:0', 'relational_graph_convolution_1/coeff:0', 'relational_graph_convolution_1/coeff:0', 'relational_graph_convolution_1/coeff:0', 'relational_graph_convolution_1/coeff:0', 'relational_graph_convolution_1/coeff:0', 'relational_graph_convolution_1/coeff:0', 'relational_graph_convolution_1/coeff:0', 'relational_graph_convolution_1/coeff:0', 'relational_graph_convolution_1/coeff:0', 'relational_graph_convolution_1/coeff:0', 'relational_graph_convolution_1/coeff:0', 'relational_graph_convolution_1/coeff:0', 'relational_graph_convolution_1/coeff:0', 'relational_graph_convolution_1/coeff:0', 'relational_graph_convolution_1/coeff:0', 'relational_graph_convolution_1/coeff:0', 'relational_graph_convolution_1/coeff:0', 'relational_graph_convolution_1/coeff:0', 'relational_graph_convolution_1/coeff:0', 'relational_graph_convolution_1/coeff:0', 'relational_graph_convolution_1/coeff:0', 'relational_graph_convolution_1/coeff:0', 'relational_graph_convolution_1/coeff:0', 'relational_graph_convolution_1/coeff:0', 'relational_graph_convolution_1/coeff:0', 'relational_graph_convolution_1/coeff:0', 'relational_graph_convolution_1/coeff:0', 'relational_graph_convolution_1/coeff:0', 'relational_graph_convolution_1/coeff:0', 'relational_graph_convolution_1/coeff:0', 'relational_graph_convolution_1/coeff:0', 'relational_graph_convolution_1/coeff:0', 'relational_graph_convolution_1/coeff:0', 'relational_graph_convolution_1/coeff:0', 'relational_graph_convolution_1/coeff:0', 'relational_graph_convolution_1/coeff:0', 'relational_graph_convolution_1/coeff:0', 'relational_graph_convolution_3/bases:0', 'relational_graph_convolution_3/coeff:0', 'relational_graph_convolution_3/coeff:0', 'relational_graph_convolution_3/coeff:0', 'relational_graph_convolution_3/coeff:0', 'relational_graph_convolution_3/coeff:0', 'relational_graph_convolution_3/coeff:0', 'relational_graph_convolution_3/coeff:0', 'relational_graph_convolution_3/coeff:0', 'relational_graph_convolution_3/coeff:0', 'relational_graph_convolution_3/coeff:0', 'relational_graph_convolution_3/coeff:0', 'relational_graph_convolution_3/coeff:0', 'relational_graph_convolution_3/coeff:0', 'relational_graph_convolution_3/coeff:0', 'relational_graph_convolution_3/coeff:0', 'relational_graph_convolution_3/coeff:0', 'relational_graph_convolution_3/coeff:0', 'relational_graph_convolution_3/coeff:0', 'relational_graph_convolution_3/coeff:0', 'relational_graph_convolution_3/coeff:0', 'relational_graph_convolution_3/coeff:0', 'relational_graph_convolution_3/coeff:0', 'relational_graph_convolution_3/coeff:0', 'relational_graph_convolution_3/coeff:0', 'relational_graph_convolution_3/coeff:0', 'relational_graph_convolution_3/coeff:0', 'relational_graph_convolution_3/coeff:0', 'relational_graph_convolution_3/coeff:0', 'relational_graph_convolution_3/coeff:0', 'relational_graph_convolution_3/coeff:0', 'relational_graph_convolution_3/coeff:0', 'relational_graph_convolution_3/coeff:0', 'relational_graph_convolution_3/coeff:0', 'relational_graph_convolution_3/coeff:0', 'relational_graph_convolution_3/coeff:0', 'relational_graph_convolution_3/coeff:0', 'relational_graph_convolution_3/coeff:0', 'relational_graph_convolution_3/coeff:0', 'relational_graph_convolution_3/coeff:0', 'relational_graph_convolution_3/coeff:0', 'relational_graph_convolution_3/coeff:0', 'relational_graph_convolution_3/coeff:0', 'relational_graph_convolution_3/coeff:0', 'relational_graph_convolution_3/coeff:0', 'relational_graph_convolution_3/coeff:0'] when minimizing the loss.\n"
     ]
    },
    {
     "name": "stdout",
     "output_type": "stream",
     "text": [
      "\r",
      "1/1 [==============================] - 7s 7s/step - loss: 1.2146 - acc: 0.5493 - val_loss: 1.3659 - val_acc: 0.3889\n"
     ]
    },
    {
     "name": "stdout",
     "output_type": "stream",
     "text": [
      "Epoch 13/20\n"
     ]
    },
    {
     "name": "stdout",
     "output_type": "stream",
     "text": [
      "WARNING:tensorflow:Gradients do not exist for variables ['relational_graph_convolution_1/bases:0', 'relational_graph_convolution_1/coeff:0', 'relational_graph_convolution_1/coeff:0', 'relational_graph_convolution_1/coeff:0', 'relational_graph_convolution_1/coeff:0', 'relational_graph_convolution_1/coeff:0', 'relational_graph_convolution_1/coeff:0', 'relational_graph_convolution_1/coeff:0', 'relational_graph_convolution_1/coeff:0', 'relational_graph_convolution_1/coeff:0', 'relational_graph_convolution_1/coeff:0', 'relational_graph_convolution_1/coeff:0', 'relational_graph_convolution_1/coeff:0', 'relational_graph_convolution_1/coeff:0', 'relational_graph_convolution_1/coeff:0', 'relational_graph_convolution_1/coeff:0', 'relational_graph_convolution_1/coeff:0', 'relational_graph_convolution_1/coeff:0', 'relational_graph_convolution_1/coeff:0', 'relational_graph_convolution_1/coeff:0', 'relational_graph_convolution_1/coeff:0', 'relational_graph_convolution_1/coeff:0', 'relational_graph_convolution_1/coeff:0', 'relational_graph_convolution_1/coeff:0', 'relational_graph_convolution_1/coeff:0', 'relational_graph_convolution_1/coeff:0', 'relational_graph_convolution_1/coeff:0', 'relational_graph_convolution_1/coeff:0', 'relational_graph_convolution_1/coeff:0', 'relational_graph_convolution_1/coeff:0', 'relational_graph_convolution_1/coeff:0', 'relational_graph_convolution_1/coeff:0', 'relational_graph_convolution_1/coeff:0', 'relational_graph_convolution_1/coeff:0', 'relational_graph_convolution_1/coeff:0', 'relational_graph_convolution_1/coeff:0', 'relational_graph_convolution_1/coeff:0', 'relational_graph_convolution_1/coeff:0', 'relational_graph_convolution_1/coeff:0', 'relational_graph_convolution_1/coeff:0', 'relational_graph_convolution_1/coeff:0', 'relational_graph_convolution_1/coeff:0', 'relational_graph_convolution_1/coeff:0', 'relational_graph_convolution_1/coeff:0', 'relational_graph_convolution_1/coeff:0', 'relational_graph_convolution_1/coeff:0', 'relational_graph_convolution_3/bases:0', 'relational_graph_convolution_3/coeff:0', 'relational_graph_convolution_3/coeff:0', 'relational_graph_convolution_3/coeff:0', 'relational_graph_convolution_3/coeff:0', 'relational_graph_convolution_3/coeff:0', 'relational_graph_convolution_3/coeff:0', 'relational_graph_convolution_3/coeff:0', 'relational_graph_convolution_3/coeff:0', 'relational_graph_convolution_3/coeff:0', 'relational_graph_convolution_3/coeff:0', 'relational_graph_convolution_3/coeff:0', 'relational_graph_convolution_3/coeff:0', 'relational_graph_convolution_3/coeff:0', 'relational_graph_convolution_3/coeff:0', 'relational_graph_convolution_3/coeff:0', 'relational_graph_convolution_3/coeff:0', 'relational_graph_convolution_3/coeff:0', 'relational_graph_convolution_3/coeff:0', 'relational_graph_convolution_3/coeff:0', 'relational_graph_convolution_3/coeff:0', 'relational_graph_convolution_3/coeff:0', 'relational_graph_convolution_3/coeff:0', 'relational_graph_convolution_3/coeff:0', 'relational_graph_convolution_3/coeff:0', 'relational_graph_convolution_3/coeff:0', 'relational_graph_convolution_3/coeff:0', 'relational_graph_convolution_3/coeff:0', 'relational_graph_convolution_3/coeff:0', 'relational_graph_convolution_3/coeff:0', 'relational_graph_convolution_3/coeff:0', 'relational_graph_convolution_3/coeff:0', 'relational_graph_convolution_3/coeff:0', 'relational_graph_convolution_3/coeff:0', 'relational_graph_convolution_3/coeff:0', 'relational_graph_convolution_3/coeff:0', 'relational_graph_convolution_3/coeff:0', 'relational_graph_convolution_3/coeff:0', 'relational_graph_convolution_3/coeff:0', 'relational_graph_convolution_3/coeff:0', 'relational_graph_convolution_3/coeff:0', 'relational_graph_convolution_3/coeff:0', 'relational_graph_convolution_3/coeff:0', 'relational_graph_convolution_3/coeff:0', 'relational_graph_convolution_3/coeff:0', 'relational_graph_convolution_3/coeff:0'] when minimizing the loss.\n"
     ]
    },
    {
     "name": "stdout",
     "output_type": "stream",
     "text": [
      "\r",
      "1/1 [==============================] - 7s 7s/step - loss: 1.1535 - acc: 0.6127 - val_loss: 1.3599 - val_acc: 0.4722\n"
     ]
    },
    {
     "name": "stdout",
     "output_type": "stream",
     "text": [
      "Epoch 14/20\n"
     ]
    },
    {
     "name": "stdout",
     "output_type": "stream",
     "text": [
      "WARNING:tensorflow:Gradients do not exist for variables ['relational_graph_convolution_1/bases:0', 'relational_graph_convolution_1/coeff:0', 'relational_graph_convolution_1/coeff:0', 'relational_graph_convolution_1/coeff:0', 'relational_graph_convolution_1/coeff:0', 'relational_graph_convolution_1/coeff:0', 'relational_graph_convolution_1/coeff:0', 'relational_graph_convolution_1/coeff:0', 'relational_graph_convolution_1/coeff:0', 'relational_graph_convolution_1/coeff:0', 'relational_graph_convolution_1/coeff:0', 'relational_graph_convolution_1/coeff:0', 'relational_graph_convolution_1/coeff:0', 'relational_graph_convolution_1/coeff:0', 'relational_graph_convolution_1/coeff:0', 'relational_graph_convolution_1/coeff:0', 'relational_graph_convolution_1/coeff:0', 'relational_graph_convolution_1/coeff:0', 'relational_graph_convolution_1/coeff:0', 'relational_graph_convolution_1/coeff:0', 'relational_graph_convolution_1/coeff:0', 'relational_graph_convolution_1/coeff:0', 'relational_graph_convolution_1/coeff:0', 'relational_graph_convolution_1/coeff:0', 'relational_graph_convolution_1/coeff:0', 'relational_graph_convolution_1/coeff:0', 'relational_graph_convolution_1/coeff:0', 'relational_graph_convolution_1/coeff:0', 'relational_graph_convolution_1/coeff:0', 'relational_graph_convolution_1/coeff:0', 'relational_graph_convolution_1/coeff:0', 'relational_graph_convolution_1/coeff:0', 'relational_graph_convolution_1/coeff:0', 'relational_graph_convolution_1/coeff:0', 'relational_graph_convolution_1/coeff:0', 'relational_graph_convolution_1/coeff:0', 'relational_graph_convolution_1/coeff:0', 'relational_graph_convolution_1/coeff:0', 'relational_graph_convolution_1/coeff:0', 'relational_graph_convolution_1/coeff:0', 'relational_graph_convolution_1/coeff:0', 'relational_graph_convolution_1/coeff:0', 'relational_graph_convolution_1/coeff:0', 'relational_graph_convolution_1/coeff:0', 'relational_graph_convolution_1/coeff:0', 'relational_graph_convolution_1/coeff:0', 'relational_graph_convolution_3/bases:0', 'relational_graph_convolution_3/coeff:0', 'relational_graph_convolution_3/coeff:0', 'relational_graph_convolution_3/coeff:0', 'relational_graph_convolution_3/coeff:0', 'relational_graph_convolution_3/coeff:0', 'relational_graph_convolution_3/coeff:0', 'relational_graph_convolution_3/coeff:0', 'relational_graph_convolution_3/coeff:0', 'relational_graph_convolution_3/coeff:0', 'relational_graph_convolution_3/coeff:0', 'relational_graph_convolution_3/coeff:0', 'relational_graph_convolution_3/coeff:0', 'relational_graph_convolution_3/coeff:0', 'relational_graph_convolution_3/coeff:0', 'relational_graph_convolution_3/coeff:0', 'relational_graph_convolution_3/coeff:0', 'relational_graph_convolution_3/coeff:0', 'relational_graph_convolution_3/coeff:0', 'relational_graph_convolution_3/coeff:0', 'relational_graph_convolution_3/coeff:0', 'relational_graph_convolution_3/coeff:0', 'relational_graph_convolution_3/coeff:0', 'relational_graph_convolution_3/coeff:0', 'relational_graph_convolution_3/coeff:0', 'relational_graph_convolution_3/coeff:0', 'relational_graph_convolution_3/coeff:0', 'relational_graph_convolution_3/coeff:0', 'relational_graph_convolution_3/coeff:0', 'relational_graph_convolution_3/coeff:0', 'relational_graph_convolution_3/coeff:0', 'relational_graph_convolution_3/coeff:0', 'relational_graph_convolution_3/coeff:0', 'relational_graph_convolution_3/coeff:0', 'relational_graph_convolution_3/coeff:0', 'relational_graph_convolution_3/coeff:0', 'relational_graph_convolution_3/coeff:0', 'relational_graph_convolution_3/coeff:0', 'relational_graph_convolution_3/coeff:0', 'relational_graph_convolution_3/coeff:0', 'relational_graph_convolution_3/coeff:0', 'relational_graph_convolution_3/coeff:0', 'relational_graph_convolution_3/coeff:0', 'relational_graph_convolution_3/coeff:0', 'relational_graph_convolution_3/coeff:0', 'relational_graph_convolution_3/coeff:0'] when minimizing the loss.\n"
     ]
    },
    {
     "name": "stdout",
     "output_type": "stream",
     "text": [
      "\r",
      "1/1 [==============================] - 7s 7s/step - loss: 1.1275 - acc: 0.5986 - val_loss: 1.3596 - val_acc: 0.5556\n"
     ]
    },
    {
     "name": "stdout",
     "output_type": "stream",
     "text": [
      "Epoch 15/20\n"
     ]
    },
    {
     "name": "stdout",
     "output_type": "stream",
     "text": [
      "WARNING:tensorflow:Gradients do not exist for variables ['relational_graph_convolution_1/bases:0', 'relational_graph_convolution_1/coeff:0', 'relational_graph_convolution_1/coeff:0', 'relational_graph_convolution_1/coeff:0', 'relational_graph_convolution_1/coeff:0', 'relational_graph_convolution_1/coeff:0', 'relational_graph_convolution_1/coeff:0', 'relational_graph_convolution_1/coeff:0', 'relational_graph_convolution_1/coeff:0', 'relational_graph_convolution_1/coeff:0', 'relational_graph_convolution_1/coeff:0', 'relational_graph_convolution_1/coeff:0', 'relational_graph_convolution_1/coeff:0', 'relational_graph_convolution_1/coeff:0', 'relational_graph_convolution_1/coeff:0', 'relational_graph_convolution_1/coeff:0', 'relational_graph_convolution_1/coeff:0', 'relational_graph_convolution_1/coeff:0', 'relational_graph_convolution_1/coeff:0', 'relational_graph_convolution_1/coeff:0', 'relational_graph_convolution_1/coeff:0', 'relational_graph_convolution_1/coeff:0', 'relational_graph_convolution_1/coeff:0', 'relational_graph_convolution_1/coeff:0', 'relational_graph_convolution_1/coeff:0', 'relational_graph_convolution_1/coeff:0', 'relational_graph_convolution_1/coeff:0', 'relational_graph_convolution_1/coeff:0', 'relational_graph_convolution_1/coeff:0', 'relational_graph_convolution_1/coeff:0', 'relational_graph_convolution_1/coeff:0', 'relational_graph_convolution_1/coeff:0', 'relational_graph_convolution_1/coeff:0', 'relational_graph_convolution_1/coeff:0', 'relational_graph_convolution_1/coeff:0', 'relational_graph_convolution_1/coeff:0', 'relational_graph_convolution_1/coeff:0', 'relational_graph_convolution_1/coeff:0', 'relational_graph_convolution_1/coeff:0', 'relational_graph_convolution_1/coeff:0', 'relational_graph_convolution_1/coeff:0', 'relational_graph_convolution_1/coeff:0', 'relational_graph_convolution_1/coeff:0', 'relational_graph_convolution_1/coeff:0', 'relational_graph_convolution_1/coeff:0', 'relational_graph_convolution_1/coeff:0', 'relational_graph_convolution_3/bases:0', 'relational_graph_convolution_3/coeff:0', 'relational_graph_convolution_3/coeff:0', 'relational_graph_convolution_3/coeff:0', 'relational_graph_convolution_3/coeff:0', 'relational_graph_convolution_3/coeff:0', 'relational_graph_convolution_3/coeff:0', 'relational_graph_convolution_3/coeff:0', 'relational_graph_convolution_3/coeff:0', 'relational_graph_convolution_3/coeff:0', 'relational_graph_convolution_3/coeff:0', 'relational_graph_convolution_3/coeff:0', 'relational_graph_convolution_3/coeff:0', 'relational_graph_convolution_3/coeff:0', 'relational_graph_convolution_3/coeff:0', 'relational_graph_convolution_3/coeff:0', 'relational_graph_convolution_3/coeff:0', 'relational_graph_convolution_3/coeff:0', 'relational_graph_convolution_3/coeff:0', 'relational_graph_convolution_3/coeff:0', 'relational_graph_convolution_3/coeff:0', 'relational_graph_convolution_3/coeff:0', 'relational_graph_convolution_3/coeff:0', 'relational_graph_convolution_3/coeff:0', 'relational_graph_convolution_3/coeff:0', 'relational_graph_convolution_3/coeff:0', 'relational_graph_convolution_3/coeff:0', 'relational_graph_convolution_3/coeff:0', 'relational_graph_convolution_3/coeff:0', 'relational_graph_convolution_3/coeff:0', 'relational_graph_convolution_3/coeff:0', 'relational_graph_convolution_3/coeff:0', 'relational_graph_convolution_3/coeff:0', 'relational_graph_convolution_3/coeff:0', 'relational_graph_convolution_3/coeff:0', 'relational_graph_convolution_3/coeff:0', 'relational_graph_convolution_3/coeff:0', 'relational_graph_convolution_3/coeff:0', 'relational_graph_convolution_3/coeff:0', 'relational_graph_convolution_3/coeff:0', 'relational_graph_convolution_3/coeff:0', 'relational_graph_convolution_3/coeff:0', 'relational_graph_convolution_3/coeff:0', 'relational_graph_convolution_3/coeff:0', 'relational_graph_convolution_3/coeff:0', 'relational_graph_convolution_3/coeff:0'] when minimizing the loss.\n"
     ]
    },
    {
     "name": "stdout",
     "output_type": "stream",
     "text": [
      "\r",
      "1/1 [==============================] - 7s 7s/step - loss: 1.0976 - acc: 0.5845 - val_loss: 1.3656 - val_acc: 0.5833\n"
     ]
    },
    {
     "name": "stdout",
     "output_type": "stream",
     "text": [
      "Epoch 16/20\n"
     ]
    },
    {
     "name": "stdout",
     "output_type": "stream",
     "text": [
      "WARNING:tensorflow:Gradients do not exist for variables ['relational_graph_convolution_1/bases:0', 'relational_graph_convolution_1/coeff:0', 'relational_graph_convolution_1/coeff:0', 'relational_graph_convolution_1/coeff:0', 'relational_graph_convolution_1/coeff:0', 'relational_graph_convolution_1/coeff:0', 'relational_graph_convolution_1/coeff:0', 'relational_graph_convolution_1/coeff:0', 'relational_graph_convolution_1/coeff:0', 'relational_graph_convolution_1/coeff:0', 'relational_graph_convolution_1/coeff:0', 'relational_graph_convolution_1/coeff:0', 'relational_graph_convolution_1/coeff:0', 'relational_graph_convolution_1/coeff:0', 'relational_graph_convolution_1/coeff:0', 'relational_graph_convolution_1/coeff:0', 'relational_graph_convolution_1/coeff:0', 'relational_graph_convolution_1/coeff:0', 'relational_graph_convolution_1/coeff:0', 'relational_graph_convolution_1/coeff:0', 'relational_graph_convolution_1/coeff:0', 'relational_graph_convolution_1/coeff:0', 'relational_graph_convolution_1/coeff:0', 'relational_graph_convolution_1/coeff:0', 'relational_graph_convolution_1/coeff:0', 'relational_graph_convolution_1/coeff:0', 'relational_graph_convolution_1/coeff:0', 'relational_graph_convolution_1/coeff:0', 'relational_graph_convolution_1/coeff:0', 'relational_graph_convolution_1/coeff:0', 'relational_graph_convolution_1/coeff:0', 'relational_graph_convolution_1/coeff:0', 'relational_graph_convolution_1/coeff:0', 'relational_graph_convolution_1/coeff:0', 'relational_graph_convolution_1/coeff:0', 'relational_graph_convolution_1/coeff:0', 'relational_graph_convolution_1/coeff:0', 'relational_graph_convolution_1/coeff:0', 'relational_graph_convolution_1/coeff:0', 'relational_graph_convolution_1/coeff:0', 'relational_graph_convolution_1/coeff:0', 'relational_graph_convolution_1/coeff:0', 'relational_graph_convolution_1/coeff:0', 'relational_graph_convolution_1/coeff:0', 'relational_graph_convolution_1/coeff:0', 'relational_graph_convolution_1/coeff:0', 'relational_graph_convolution_3/bases:0', 'relational_graph_convolution_3/coeff:0', 'relational_graph_convolution_3/coeff:0', 'relational_graph_convolution_3/coeff:0', 'relational_graph_convolution_3/coeff:0', 'relational_graph_convolution_3/coeff:0', 'relational_graph_convolution_3/coeff:0', 'relational_graph_convolution_3/coeff:0', 'relational_graph_convolution_3/coeff:0', 'relational_graph_convolution_3/coeff:0', 'relational_graph_convolution_3/coeff:0', 'relational_graph_convolution_3/coeff:0', 'relational_graph_convolution_3/coeff:0', 'relational_graph_convolution_3/coeff:0', 'relational_graph_convolution_3/coeff:0', 'relational_graph_convolution_3/coeff:0', 'relational_graph_convolution_3/coeff:0', 'relational_graph_convolution_3/coeff:0', 'relational_graph_convolution_3/coeff:0', 'relational_graph_convolution_3/coeff:0', 'relational_graph_convolution_3/coeff:0', 'relational_graph_convolution_3/coeff:0', 'relational_graph_convolution_3/coeff:0', 'relational_graph_convolution_3/coeff:0', 'relational_graph_convolution_3/coeff:0', 'relational_graph_convolution_3/coeff:0', 'relational_graph_convolution_3/coeff:0', 'relational_graph_convolution_3/coeff:0', 'relational_graph_convolution_3/coeff:0', 'relational_graph_convolution_3/coeff:0', 'relational_graph_convolution_3/coeff:0', 'relational_graph_convolution_3/coeff:0', 'relational_graph_convolution_3/coeff:0', 'relational_graph_convolution_3/coeff:0', 'relational_graph_convolution_3/coeff:0', 'relational_graph_convolution_3/coeff:0', 'relational_graph_convolution_3/coeff:0', 'relational_graph_convolution_3/coeff:0', 'relational_graph_convolution_3/coeff:0', 'relational_graph_convolution_3/coeff:0', 'relational_graph_convolution_3/coeff:0', 'relational_graph_convolution_3/coeff:0', 'relational_graph_convolution_3/coeff:0', 'relational_graph_convolution_3/coeff:0', 'relational_graph_convolution_3/coeff:0', 'relational_graph_convolution_3/coeff:0'] when minimizing the loss.\n"
     ]
    },
    {
     "name": "stdout",
     "output_type": "stream",
     "text": [
      "\r",
      "1/1 [==============================] - 7s 7s/step - loss: 1.0448 - acc: 0.6479 - val_loss: 1.3747 - val_acc: 0.6111\n"
     ]
    },
    {
     "name": "stdout",
     "output_type": "stream",
     "text": [
      "Epoch 17/20\n"
     ]
    },
    {
     "name": "stdout",
     "output_type": "stream",
     "text": [
      "WARNING:tensorflow:Gradients do not exist for variables ['relational_graph_convolution_1/bases:0', 'relational_graph_convolution_1/coeff:0', 'relational_graph_convolution_1/coeff:0', 'relational_graph_convolution_1/coeff:0', 'relational_graph_convolution_1/coeff:0', 'relational_graph_convolution_1/coeff:0', 'relational_graph_convolution_1/coeff:0', 'relational_graph_convolution_1/coeff:0', 'relational_graph_convolution_1/coeff:0', 'relational_graph_convolution_1/coeff:0', 'relational_graph_convolution_1/coeff:0', 'relational_graph_convolution_1/coeff:0', 'relational_graph_convolution_1/coeff:0', 'relational_graph_convolution_1/coeff:0', 'relational_graph_convolution_1/coeff:0', 'relational_graph_convolution_1/coeff:0', 'relational_graph_convolution_1/coeff:0', 'relational_graph_convolution_1/coeff:0', 'relational_graph_convolution_1/coeff:0', 'relational_graph_convolution_1/coeff:0', 'relational_graph_convolution_1/coeff:0', 'relational_graph_convolution_1/coeff:0', 'relational_graph_convolution_1/coeff:0', 'relational_graph_convolution_1/coeff:0', 'relational_graph_convolution_1/coeff:0', 'relational_graph_convolution_1/coeff:0', 'relational_graph_convolution_1/coeff:0', 'relational_graph_convolution_1/coeff:0', 'relational_graph_convolution_1/coeff:0', 'relational_graph_convolution_1/coeff:0', 'relational_graph_convolution_1/coeff:0', 'relational_graph_convolution_1/coeff:0', 'relational_graph_convolution_1/coeff:0', 'relational_graph_convolution_1/coeff:0', 'relational_graph_convolution_1/coeff:0', 'relational_graph_convolution_1/coeff:0', 'relational_graph_convolution_1/coeff:0', 'relational_graph_convolution_1/coeff:0', 'relational_graph_convolution_1/coeff:0', 'relational_graph_convolution_1/coeff:0', 'relational_graph_convolution_1/coeff:0', 'relational_graph_convolution_1/coeff:0', 'relational_graph_convolution_1/coeff:0', 'relational_graph_convolution_1/coeff:0', 'relational_graph_convolution_1/coeff:0', 'relational_graph_convolution_1/coeff:0', 'relational_graph_convolution_3/bases:0', 'relational_graph_convolution_3/coeff:0', 'relational_graph_convolution_3/coeff:0', 'relational_graph_convolution_3/coeff:0', 'relational_graph_convolution_3/coeff:0', 'relational_graph_convolution_3/coeff:0', 'relational_graph_convolution_3/coeff:0', 'relational_graph_convolution_3/coeff:0', 'relational_graph_convolution_3/coeff:0', 'relational_graph_convolution_3/coeff:0', 'relational_graph_convolution_3/coeff:0', 'relational_graph_convolution_3/coeff:0', 'relational_graph_convolution_3/coeff:0', 'relational_graph_convolution_3/coeff:0', 'relational_graph_convolution_3/coeff:0', 'relational_graph_convolution_3/coeff:0', 'relational_graph_convolution_3/coeff:0', 'relational_graph_convolution_3/coeff:0', 'relational_graph_convolution_3/coeff:0', 'relational_graph_convolution_3/coeff:0', 'relational_graph_convolution_3/coeff:0', 'relational_graph_convolution_3/coeff:0', 'relational_graph_convolution_3/coeff:0', 'relational_graph_convolution_3/coeff:0', 'relational_graph_convolution_3/coeff:0', 'relational_graph_convolution_3/coeff:0', 'relational_graph_convolution_3/coeff:0', 'relational_graph_convolution_3/coeff:0', 'relational_graph_convolution_3/coeff:0', 'relational_graph_convolution_3/coeff:0', 'relational_graph_convolution_3/coeff:0', 'relational_graph_convolution_3/coeff:0', 'relational_graph_convolution_3/coeff:0', 'relational_graph_convolution_3/coeff:0', 'relational_graph_convolution_3/coeff:0', 'relational_graph_convolution_3/coeff:0', 'relational_graph_convolution_3/coeff:0', 'relational_graph_convolution_3/coeff:0', 'relational_graph_convolution_3/coeff:0', 'relational_graph_convolution_3/coeff:0', 'relational_graph_convolution_3/coeff:0', 'relational_graph_convolution_3/coeff:0', 'relational_graph_convolution_3/coeff:0', 'relational_graph_convolution_3/coeff:0', 'relational_graph_convolution_3/coeff:0', 'relational_graph_convolution_3/coeff:0'] when minimizing the loss.\n"
     ]
    },
    {
     "name": "stdout",
     "output_type": "stream",
     "text": [
      "\r",
      "1/1 [==============================] - 7s 7s/step - loss: 1.0545 - acc: 0.5634 - val_loss: 1.3866 - val_acc: 0.5833\n"
     ]
    },
    {
     "name": "stdout",
     "output_type": "stream",
     "text": [
      "Epoch 18/20\n"
     ]
    },
    {
     "name": "stdout",
     "output_type": "stream",
     "text": [
      "WARNING:tensorflow:Gradients do not exist for variables ['relational_graph_convolution_1/bases:0', 'relational_graph_convolution_1/coeff:0', 'relational_graph_convolution_1/coeff:0', 'relational_graph_convolution_1/coeff:0', 'relational_graph_convolution_1/coeff:0', 'relational_graph_convolution_1/coeff:0', 'relational_graph_convolution_1/coeff:0', 'relational_graph_convolution_1/coeff:0', 'relational_graph_convolution_1/coeff:0', 'relational_graph_convolution_1/coeff:0', 'relational_graph_convolution_1/coeff:0', 'relational_graph_convolution_1/coeff:0', 'relational_graph_convolution_1/coeff:0', 'relational_graph_convolution_1/coeff:0', 'relational_graph_convolution_1/coeff:0', 'relational_graph_convolution_1/coeff:0', 'relational_graph_convolution_1/coeff:0', 'relational_graph_convolution_1/coeff:0', 'relational_graph_convolution_1/coeff:0', 'relational_graph_convolution_1/coeff:0', 'relational_graph_convolution_1/coeff:0', 'relational_graph_convolution_1/coeff:0', 'relational_graph_convolution_1/coeff:0', 'relational_graph_convolution_1/coeff:0', 'relational_graph_convolution_1/coeff:0', 'relational_graph_convolution_1/coeff:0', 'relational_graph_convolution_1/coeff:0', 'relational_graph_convolution_1/coeff:0', 'relational_graph_convolution_1/coeff:0', 'relational_graph_convolution_1/coeff:0', 'relational_graph_convolution_1/coeff:0', 'relational_graph_convolution_1/coeff:0', 'relational_graph_convolution_1/coeff:0', 'relational_graph_convolution_1/coeff:0', 'relational_graph_convolution_1/coeff:0', 'relational_graph_convolution_1/coeff:0', 'relational_graph_convolution_1/coeff:0', 'relational_graph_convolution_1/coeff:0', 'relational_graph_convolution_1/coeff:0', 'relational_graph_convolution_1/coeff:0', 'relational_graph_convolution_1/coeff:0', 'relational_graph_convolution_1/coeff:0', 'relational_graph_convolution_1/coeff:0', 'relational_graph_convolution_1/coeff:0', 'relational_graph_convolution_1/coeff:0', 'relational_graph_convolution_1/coeff:0', 'relational_graph_convolution_3/bases:0', 'relational_graph_convolution_3/coeff:0', 'relational_graph_convolution_3/coeff:0', 'relational_graph_convolution_3/coeff:0', 'relational_graph_convolution_3/coeff:0', 'relational_graph_convolution_3/coeff:0', 'relational_graph_convolution_3/coeff:0', 'relational_graph_convolution_3/coeff:0', 'relational_graph_convolution_3/coeff:0', 'relational_graph_convolution_3/coeff:0', 'relational_graph_convolution_3/coeff:0', 'relational_graph_convolution_3/coeff:0', 'relational_graph_convolution_3/coeff:0', 'relational_graph_convolution_3/coeff:0', 'relational_graph_convolution_3/coeff:0', 'relational_graph_convolution_3/coeff:0', 'relational_graph_convolution_3/coeff:0', 'relational_graph_convolution_3/coeff:0', 'relational_graph_convolution_3/coeff:0', 'relational_graph_convolution_3/coeff:0', 'relational_graph_convolution_3/coeff:0', 'relational_graph_convolution_3/coeff:0', 'relational_graph_convolution_3/coeff:0', 'relational_graph_convolution_3/coeff:0', 'relational_graph_convolution_3/coeff:0', 'relational_graph_convolution_3/coeff:0', 'relational_graph_convolution_3/coeff:0', 'relational_graph_convolution_3/coeff:0', 'relational_graph_convolution_3/coeff:0', 'relational_graph_convolution_3/coeff:0', 'relational_graph_convolution_3/coeff:0', 'relational_graph_convolution_3/coeff:0', 'relational_graph_convolution_3/coeff:0', 'relational_graph_convolution_3/coeff:0', 'relational_graph_convolution_3/coeff:0', 'relational_graph_convolution_3/coeff:0', 'relational_graph_convolution_3/coeff:0', 'relational_graph_convolution_3/coeff:0', 'relational_graph_convolution_3/coeff:0', 'relational_graph_convolution_3/coeff:0', 'relational_graph_convolution_3/coeff:0', 'relational_graph_convolution_3/coeff:0', 'relational_graph_convolution_3/coeff:0', 'relational_graph_convolution_3/coeff:0', 'relational_graph_convolution_3/coeff:0', 'relational_graph_convolution_3/coeff:0'] when minimizing the loss.\n"
     ]
    },
    {
     "name": "stdout",
     "output_type": "stream",
     "text": [
      "\r",
      "1/1 [==============================] - 7s 7s/step - loss: 1.0223 - acc: 0.5986 - val_loss: 1.3981 - val_acc: 0.5833\n"
     ]
    },
    {
     "name": "stdout",
     "output_type": "stream",
     "text": [
      "Epoch 19/20\n"
     ]
    },
    {
     "name": "stdout",
     "output_type": "stream",
     "text": [
      "WARNING:tensorflow:Gradients do not exist for variables ['relational_graph_convolution_1/bases:0', 'relational_graph_convolution_1/coeff:0', 'relational_graph_convolution_1/coeff:0', 'relational_graph_convolution_1/coeff:0', 'relational_graph_convolution_1/coeff:0', 'relational_graph_convolution_1/coeff:0', 'relational_graph_convolution_1/coeff:0', 'relational_graph_convolution_1/coeff:0', 'relational_graph_convolution_1/coeff:0', 'relational_graph_convolution_1/coeff:0', 'relational_graph_convolution_1/coeff:0', 'relational_graph_convolution_1/coeff:0', 'relational_graph_convolution_1/coeff:0', 'relational_graph_convolution_1/coeff:0', 'relational_graph_convolution_1/coeff:0', 'relational_graph_convolution_1/coeff:0', 'relational_graph_convolution_1/coeff:0', 'relational_graph_convolution_1/coeff:0', 'relational_graph_convolution_1/coeff:0', 'relational_graph_convolution_1/coeff:0', 'relational_graph_convolution_1/coeff:0', 'relational_graph_convolution_1/coeff:0', 'relational_graph_convolution_1/coeff:0', 'relational_graph_convolution_1/coeff:0', 'relational_graph_convolution_1/coeff:0', 'relational_graph_convolution_1/coeff:0', 'relational_graph_convolution_1/coeff:0', 'relational_graph_convolution_1/coeff:0', 'relational_graph_convolution_1/coeff:0', 'relational_graph_convolution_1/coeff:0', 'relational_graph_convolution_1/coeff:0', 'relational_graph_convolution_1/coeff:0', 'relational_graph_convolution_1/coeff:0', 'relational_graph_convolution_1/coeff:0', 'relational_graph_convolution_1/coeff:0', 'relational_graph_convolution_1/coeff:0', 'relational_graph_convolution_1/coeff:0', 'relational_graph_convolution_1/coeff:0', 'relational_graph_convolution_1/coeff:0', 'relational_graph_convolution_1/coeff:0', 'relational_graph_convolution_1/coeff:0', 'relational_graph_convolution_1/coeff:0', 'relational_graph_convolution_1/coeff:0', 'relational_graph_convolution_1/coeff:0', 'relational_graph_convolution_1/coeff:0', 'relational_graph_convolution_1/coeff:0', 'relational_graph_convolution_3/bases:0', 'relational_graph_convolution_3/coeff:0', 'relational_graph_convolution_3/coeff:0', 'relational_graph_convolution_3/coeff:0', 'relational_graph_convolution_3/coeff:0', 'relational_graph_convolution_3/coeff:0', 'relational_graph_convolution_3/coeff:0', 'relational_graph_convolution_3/coeff:0', 'relational_graph_convolution_3/coeff:0', 'relational_graph_convolution_3/coeff:0', 'relational_graph_convolution_3/coeff:0', 'relational_graph_convolution_3/coeff:0', 'relational_graph_convolution_3/coeff:0', 'relational_graph_convolution_3/coeff:0', 'relational_graph_convolution_3/coeff:0', 'relational_graph_convolution_3/coeff:0', 'relational_graph_convolution_3/coeff:0', 'relational_graph_convolution_3/coeff:0', 'relational_graph_convolution_3/coeff:0', 'relational_graph_convolution_3/coeff:0', 'relational_graph_convolution_3/coeff:0', 'relational_graph_convolution_3/coeff:0', 'relational_graph_convolution_3/coeff:0', 'relational_graph_convolution_3/coeff:0', 'relational_graph_convolution_3/coeff:0', 'relational_graph_convolution_3/coeff:0', 'relational_graph_convolution_3/coeff:0', 'relational_graph_convolution_3/coeff:0', 'relational_graph_convolution_3/coeff:0', 'relational_graph_convolution_3/coeff:0', 'relational_graph_convolution_3/coeff:0', 'relational_graph_convolution_3/coeff:0', 'relational_graph_convolution_3/coeff:0', 'relational_graph_convolution_3/coeff:0', 'relational_graph_convolution_3/coeff:0', 'relational_graph_convolution_3/coeff:0', 'relational_graph_convolution_3/coeff:0', 'relational_graph_convolution_3/coeff:0', 'relational_graph_convolution_3/coeff:0', 'relational_graph_convolution_3/coeff:0', 'relational_graph_convolution_3/coeff:0', 'relational_graph_convolution_3/coeff:0', 'relational_graph_convolution_3/coeff:0', 'relational_graph_convolution_3/coeff:0', 'relational_graph_convolution_3/coeff:0', 'relational_graph_convolution_3/coeff:0'] when minimizing the loss.\n"
     ]
    },
    {
     "name": "stdout",
     "output_type": "stream",
     "text": [
      "\r",
      "1/1 [==============================] - 7s 7s/step - loss: 1.0162 - acc: 0.5915 - val_loss: 1.4082 - val_acc: 0.5833\n"
     ]
    },
    {
     "name": "stdout",
     "output_type": "stream",
     "text": [
      "Epoch 20/20\n"
     ]
    },
    {
     "name": "stdout",
     "output_type": "stream",
     "text": [
      "WARNING:tensorflow:Gradients do not exist for variables ['relational_graph_convolution_1/bases:0', 'relational_graph_convolution_1/coeff:0', 'relational_graph_convolution_1/coeff:0', 'relational_graph_convolution_1/coeff:0', 'relational_graph_convolution_1/coeff:0', 'relational_graph_convolution_1/coeff:0', 'relational_graph_convolution_1/coeff:0', 'relational_graph_convolution_1/coeff:0', 'relational_graph_convolution_1/coeff:0', 'relational_graph_convolution_1/coeff:0', 'relational_graph_convolution_1/coeff:0', 'relational_graph_convolution_1/coeff:0', 'relational_graph_convolution_1/coeff:0', 'relational_graph_convolution_1/coeff:0', 'relational_graph_convolution_1/coeff:0', 'relational_graph_convolution_1/coeff:0', 'relational_graph_convolution_1/coeff:0', 'relational_graph_convolution_1/coeff:0', 'relational_graph_convolution_1/coeff:0', 'relational_graph_convolution_1/coeff:0', 'relational_graph_convolution_1/coeff:0', 'relational_graph_convolution_1/coeff:0', 'relational_graph_convolution_1/coeff:0', 'relational_graph_convolution_1/coeff:0', 'relational_graph_convolution_1/coeff:0', 'relational_graph_convolution_1/coeff:0', 'relational_graph_convolution_1/coeff:0', 'relational_graph_convolution_1/coeff:0', 'relational_graph_convolution_1/coeff:0', 'relational_graph_convolution_1/coeff:0', 'relational_graph_convolution_1/coeff:0', 'relational_graph_convolution_1/coeff:0', 'relational_graph_convolution_1/coeff:0', 'relational_graph_convolution_1/coeff:0', 'relational_graph_convolution_1/coeff:0', 'relational_graph_convolution_1/coeff:0', 'relational_graph_convolution_1/coeff:0', 'relational_graph_convolution_1/coeff:0', 'relational_graph_convolution_1/coeff:0', 'relational_graph_convolution_1/coeff:0', 'relational_graph_convolution_1/coeff:0', 'relational_graph_convolution_1/coeff:0', 'relational_graph_convolution_1/coeff:0', 'relational_graph_convolution_1/coeff:0', 'relational_graph_convolution_1/coeff:0', 'relational_graph_convolution_1/coeff:0', 'relational_graph_convolution_3/bases:0', 'relational_graph_convolution_3/coeff:0', 'relational_graph_convolution_3/coeff:0', 'relational_graph_convolution_3/coeff:0', 'relational_graph_convolution_3/coeff:0', 'relational_graph_convolution_3/coeff:0', 'relational_graph_convolution_3/coeff:0', 'relational_graph_convolution_3/coeff:0', 'relational_graph_convolution_3/coeff:0', 'relational_graph_convolution_3/coeff:0', 'relational_graph_convolution_3/coeff:0', 'relational_graph_convolution_3/coeff:0', 'relational_graph_convolution_3/coeff:0', 'relational_graph_convolution_3/coeff:0', 'relational_graph_convolution_3/coeff:0', 'relational_graph_convolution_3/coeff:0', 'relational_graph_convolution_3/coeff:0', 'relational_graph_convolution_3/coeff:0', 'relational_graph_convolution_3/coeff:0', 'relational_graph_convolution_3/coeff:0', 'relational_graph_convolution_3/coeff:0', 'relational_graph_convolution_3/coeff:0', 'relational_graph_convolution_3/coeff:0', 'relational_graph_convolution_3/coeff:0', 'relational_graph_convolution_3/coeff:0', 'relational_graph_convolution_3/coeff:0', 'relational_graph_convolution_3/coeff:0', 'relational_graph_convolution_3/coeff:0', 'relational_graph_convolution_3/coeff:0', 'relational_graph_convolution_3/coeff:0', 'relational_graph_convolution_3/coeff:0', 'relational_graph_convolution_3/coeff:0', 'relational_graph_convolution_3/coeff:0', 'relational_graph_convolution_3/coeff:0', 'relational_graph_convolution_3/coeff:0', 'relational_graph_convolution_3/coeff:0', 'relational_graph_convolution_3/coeff:0', 'relational_graph_convolution_3/coeff:0', 'relational_graph_convolution_3/coeff:0', 'relational_graph_convolution_3/coeff:0', 'relational_graph_convolution_3/coeff:0', 'relational_graph_convolution_3/coeff:0', 'relational_graph_convolution_3/coeff:0', 'relational_graph_convolution_3/coeff:0', 'relational_graph_convolution_3/coeff:0', 'relational_graph_convolution_3/coeff:0'] when minimizing the loss.\n"
     ]
    },
    {
     "name": "stdout",
     "output_type": "stream",
     "text": [
      "\r",
      "1/1 [==============================] - 7s 7s/step - loss: 0.9456 - acc: 0.6690 - val_loss: 1.4182 - val_acc: 0.6111\n"
     ]
    }
   ],
   "source": [
    "history = model.fit_generator(train_gen, validation_data=test_gen, epochs=20)"
   ]
  },
  {
   "cell_type": "code",
   "execution_count": 10,
   "metadata": {},
   "outputs": [],
   "source": [
    "import matplotlib.pyplot as plt\n",
    "%matplotlib inline\n",
    "\n",
    "def remove_prefix(text, prefix):\n",
    "    return text[text.startswith(prefix) and len(prefix):]\n",
    "\n",
    "def plot_history(history):\n",
    "    metrics = sorted(set([remove_prefix(m, \"val_\") for m in list(history.history.keys())]))\n",
    "    for m in metrics:\n",
    "        # summarize history for metric m\n",
    "        plt.plot(history.history[m])\n",
    "        plt.plot(history.history['val_' + m])\n",
    "        plt.title(m)\n",
    "        plt.ylabel(m)\n",
    "        plt.xlabel('epoch')\n",
    "        plt.legend(['train', 'test'], loc='best')\n",
    "        plt.show()"
   ]
  },
  {
   "cell_type": "code",
   "execution_count": 11,
   "metadata": {},
   "outputs": [
    {
     "data": {
      "image/png": "[encoded data removed]",
      "text/plain": [
       "<Figure size 432x288 with 1 Axes>"
      ]
     },
     "metadata": {
      "needs_background": "light"
     },
     "output_type": "display_data"
    },
    {
     "data": {
      "image/png": "[encoded data removed]",
      "text/plain": [
       "<Figure size 432x288 with 1 Axes>"
      ]
     },
     "metadata": {
      "needs_background": "light"
     },
     "output_type": "display_data"
    }
   ],
   "source": [
    "plot_history(history)"
   ]
  },
  {
   "cell_type": "markdown",
   "metadata": {},
   "source": [
    "Now we assess the accuracy of our trained model on the test set - it does pretty well on this example dataset!"
   ]
  },
  {
   "cell_type": "code",
   "execution_count": 12,
   "metadata": {},
   "outputs": [
    {
     "name": "stdout",
     "output_type": "stream",
     "text": [
      "\n",
      "Test Set Metrics:\n",
      "\tloss: 1.4182\n",
      "\tacc: 0.6111\n"
     ]
    }
   ],
   "source": [
    "test_metrics = model.evaluate_generator(test_gen)\n",
    "print(\"\\nTest Set Metrics:\")\n",
    "for name, val in zip(model.metrics_names, test_metrics):\n",
    "    print(\"\\t{}: {:0.4f}\".format(name, val))"
   ]
  },
  {
   "cell_type": "markdown",
   "metadata": {},
   "source": [
    "## Node embeddings\n",
    "\n",
    "We evaluate node embeddings as the activations of the output of the last graph convolution layer in the GCN layer stack and visualise them, coloring nodes by their true subject label. We expect to see nice clusters of researchers in the node embedding space, with researchers from the same group belonging to the same cluster.\n",
    "\n",
    "To calculate the node embeddings rather than the class predictions, we create a new model with the same inputs as we used previously `x_inp` but now the output is the embeddings `x_out` rather than the predicted class. Additionally note that the weights trained previously are kept in the new model."
   ]
  },
  {
   "cell_type": "code",
   "execution_count": 13,
   "metadata": {},
   "outputs": [],
   "source": [
    "from sklearn.decomposition import PCA\n",
    "from sklearn.manifold import TSNE\n",
    "\n",
    "# get embeddings for all people nodes\n",
    "all_gen = generator.flow(people_nodes, targets=people_targets)\n",
    "embedding_model = Model(inputs=x_in, outputs=x_out)\n",
    "emb = embedding_model.predict_generator(all_gen)"
   ]
  },
  {
   "cell_type": "code",
   "execution_count": 14,
   "metadata": {},
   "outputs": [],
   "source": [
    "X = emb.squeeze(0)\n",
    "y = np.argmax(people_targets, axis=1)\n",
    "\n",
    "if X.shape[1] > 2:\n",
    "    transform = TSNE\n",
    "\n",
    "    trans = transform(n_components=2)\n",
    "    emb_transformed = pd.DataFrame(trans.fit_transform(X), index=people_nodes)\n",
    "    emb_transformed[\"label\"] = y\n",
    "else:\n",
    "    emb_transformed = pd.DataFrame(X, index=people_nodes)\n",
    "    emb_transformed = emb_transformed.rename(columns={\"0\": 0, \"1\": 1})\n",
    "    emb_transformed[\"label\"] = y"
   ]
  },
  {
   "cell_type": "code",
   "execution_count": 15,
   "metadata": {},
   "outputs": [
    {
     "data": {
      "image/png": "[encoded data removed]",
      "text/plain": [
       "<Figure size 504x504 with 1 Axes>"
      ]
     },
     "metadata": {
      "needs_background": "light"
     },
     "output_type": "display_data"
    }
   ],
   "source": [
    "alpha = 0.7\n",
    "\n",
    "fig, ax = plt.subplots(figsize=(7, 7))\n",
    "ax.scatter(\n",
    "    emb_transformed[0],\n",
    "    emb_transformed[1],\n",
    "    c=emb_transformed[\"label\"].astype(\"category\"),\n",
    "    cmap=\"jet\",\n",
    "    alpha=alpha,\n",
    ")\n",
    "ax.set(aspect=\"equal\", xlabel=\"$X_1$\", ylabel=\"$X_2$\")\n",
    "plt.title(\n",
    "    \"{} visualization of RGCN embeddings for AIFB dataset\".format(transform.__name__)\n",
    ")\n",
    "plt.show()"
   ]
  },
  {
   "cell_type": "markdown",
   "metadata": {},
   "source": [
    "Aside from a slight overlap the classes are well seperated despite only using 2-dimensions. This indicates that our model is performing well at clustering the researchers into the right groups."
   ]
  }
 ],
 "metadata": {
  "kernelspec": {
   "display_name": "Python 3",
   "language": "python",
   "name": "python3"
  },
  "language_info": {
   "codemirror_mode": {
    "name": "ipython",
    "version": 3
   },
   "file_extension": ".py",
   "mimetype": "text/x-python",
   "name": "python",
   "nbconvert_exporter": "python",
   "pygments_lexer": "ipython3",
   "version": "3.6.10"
  }
 },
 "nbformat": 4,
 "nbformat_minor": 4
}
