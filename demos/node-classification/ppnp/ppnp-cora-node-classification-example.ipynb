{
 "cells": [
  {
   "cell_type": "markdown",
   "metadata": {},
   "source": [
    "# Stellargraph example: Personalised Propagation of Neural Predictions (PPNP) and Approximate PPNP (APPNP) on the CORA citation dataset"
   ]
  },
  {
   "cell_type": "markdown",
   "metadata": {
    "tags": [
     "CloudRunner"
    ]
   },
   "source": [
    "<table><tr><td>Run this notebook:</td><td><a href=\"https://mybinder.org/v2/gh/stellargraph/stellargraph/master?filepath=demos/node-classification/ppnp/ppnp-cora-node-classification-example.ipynb\" alt=\"Open In Binder\" target=\"_parent\"><img src=\"https://mybinder.org/badge_logo.svg\"/></a></td><td><a href=\"https://colab.research.google.com/github/stellargraph/stellargraph/blob/master/demos/node-classification/ppnp/ppnp-cora-node-classification-example.ipynb\" alt=\"Open In Colab\" target=\"_parent\"><img src=\"https://colab.research.google.com/assets/colab-badge.svg\"/></a></td></tr></table>"
   ]
  },
  {
   "cell_type": "markdown",
   "metadata": {},
   "source": [
    "Import NetworkX and stellargraph:"
   ]
  },
  {
   "cell_type": "code",
   "execution_count": 1,
   "metadata": {
    "tags": [
     "CloudRunner"
    ]
   },
   "outputs": [],
   "source": [
    "# install StellarGraph if running on Google Colab\n",
    "import sys\n",
    "if 'google.colab' in sys.modules:\n",
    "  %pip install -q stellargraph[demos]"
   ]
  },
  {
   "cell_type": "code",
   "execution_count": 2,
   "metadata": {},
   "outputs": [],
   "source": [
    "import networkx as nx\n",
    "import pandas as pd\n",
    "import numpy as np\n",
    "import os\n",
    "from tensorflow import keras\n",
    "from tensorflow.keras import backend as K\n",
    "from tensorflow.keras.callbacks import EarlyStopping, ModelCheckpoint\n",
    "\n",
    "import stellargraph as sg\n",
    "from stellargraph.mapper import FullBatchNodeGenerator\n",
    "from stellargraph.layer.ppnp import PPNP\n",
    "from stellargraph.layer.appnp import APPNP\n",
    "\n",
    "from tensorflow.keras import layers, optimizers, losses, metrics, Model\n",
    "from sklearn import preprocessing, feature_extraction, model_selection\n",
    "from stellargraph import datasets\n",
    "from IPython.display import display, HTML\n",
    "import matplotlib.pyplot as plt\n",
    "%matplotlib inline"
   ]
  },
  {
   "cell_type": "markdown",
   "metadata": {},
   "source": [
    "### Loading the CORA network"
   ]
  },
  {
   "cell_type": "code",
   "execution_count": 3,
   "metadata": {},
   "outputs": [
    {
     "data": {
      "text/html": [
       "The Cora dataset consists of 2708 scientific publications classified into one of seven classes. The citation network consists of 5429 links. Each publication in the dataset is described by a 0/1-valued word vector indicating the absence/presence of the corresponding word from the dictionary. The dictionary consists of 1433 unique words."
      ],
      "text/plain": [
       "<IPython.core.display.HTML object>"
      ]
     },
     "metadata": {},
     "output_type": "display_data"
    }
   ],
   "source": [
    "dataset = datasets.Cora()\n",
    "display(HTML(dataset.description))\n",
    "dataset.download()"
   ]
  },
  {
   "cell_type": "markdown",
   "metadata": {},
   "source": [
    "Load the graph from edgelist (in the order `cited-paper` <- `citing-paper`)"
   ]
  },
  {
   "cell_type": "code",
   "execution_count": 4,
   "metadata": {},
   "outputs": [],
   "source": [
    "edgelist = pd.read_csv(\n",
    "    os.path.join(dataset.data_directory, \"cora.cites\"),\n",
    "    sep=\"\\t\",\n",
    "    header=None,\n",
    "    names=[\"target\", \"source\"],\n",
    ")"
   ]
  },
  {
   "cell_type": "markdown",
   "metadata": {},
   "source": [
    "Load the features and subject for the nodes"
   ]
  },
  {
   "cell_type": "code",
   "execution_count": 5,
   "metadata": {},
   "outputs": [],
   "source": [
    "feature_names = [\"w_{}\".format(ii) for ii in range(1433)]\n",
    "column_names = feature_names + [\"subject\"]\n",
    "node_data = pd.read_csv(\n",
    "    os.path.join(dataset.data_directory, \"cora.content\"),\n",
    "    sep=\"\\t\",\n",
    "    header=None,\n",
    "    names=column_names,\n",
    ")"
   ]
  },
  {
   "cell_type": "markdown",
   "metadata": {},
   "source": [
    "We aim to train a graph-ML model that will predict the \"subject\" attribute on the nodes. These subjects are one of 7 categories:"
   ]
  },
  {
   "cell_type": "code",
   "execution_count": 6,
   "metadata": {},
   "outputs": [
    {
     "data": {
      "text/plain": [
       "{'Case_Based',\n",
       " 'Genetic_Algorithms',\n",
       " 'Neural_Networks',\n",
       " 'Probabilistic_Methods',\n",
       " 'Reinforcement_Learning',\n",
       " 'Rule_Learning',\n",
       " 'Theory'}"
      ]
     },
     "execution_count": 5,
     "metadata": {},
     "output_type": "execute_result"
    }
   ],
   "source": [
    "set(node_data[\"subject\"])"
   ]
  },
  {
   "cell_type": "markdown",
   "metadata": {},
   "source": [
    "### Splitting the data"
   ]
  },
  {
   "cell_type": "markdown",
   "metadata": {},
   "source": [
    "For machine learning we want to take a subset of the nodes for training, and use the rest for validation and testing. We'll use scikit-learn again to do this.\n",
    "\n",
    "Here we're taking 140 node labels for training, 500 for validation, and the rest for testing."
   ]
  },
  {
   "cell_type": "code",
   "execution_count": 7,
   "metadata": {},
   "outputs": [],
   "source": [
    "train_data, test_data = model_selection.train_test_split(\n",
    "    node_data, train_size=140, test_size=None, stratify=node_data[\"subject\"]\n",
    ")\n",
    "val_data, test_data = model_selection.train_test_split(\n",
    "    test_data, train_size=500, test_size=None, stratify=test_data[\"subject\"]\n",
    ")"
   ]
  },
  {
   "cell_type": "markdown",
   "metadata": {},
   "source": [
    "Note using stratified sampling gives the following counts:"
   ]
  },
  {
   "cell_type": "code",
   "execution_count": 8,
   "metadata": {},
   "outputs": [
    {
     "data": {
      "text/plain": [
       "Counter({'Probabilistic_Methods': 22,\n",
       "         'Genetic_Algorithms': 22,\n",
       "         'Case_Based': 16,\n",
       "         'Theory': 18,\n",
       "         'Neural_Networks': 42,\n",
       "         'Rule_Learning': 9,\n",
       "         'Reinforcement_Learning': 11})"
      ]
     },
     "execution_count": 7,
     "metadata": {},
     "output_type": "execute_result"
    }
   ],
   "source": [
    "from collections import Counter\n",
    "\n",
    "Counter(train_data[\"subject\"])"
   ]
  },
  {
   "cell_type": "markdown",
   "metadata": {},
   "source": [
    "The training set has class imbalance that might need to be compensated, e.g., via using a weighted cross-entropy loss in model training, with class weights inversely proportional to class support. However, we will ignore the class imbalance in this example, for simplicity."
   ]
  },
  {
   "cell_type": "markdown",
   "metadata": {},
   "source": [
    "### Converting to numeric arrays"
   ]
  },
  {
   "cell_type": "markdown",
   "metadata": {},
   "source": [
    "For our categorical target, we will use one-hot vectors that will be fed into a soft-max Keras layer during training. To do this conversion ..."
   ]
  },
  {
   "cell_type": "code",
   "execution_count": 9,
   "metadata": {},
   "outputs": [],
   "source": [
    "target_encoding = feature_extraction.DictVectorizer(sparse=False)\n",
    "\n",
    "train_targets = target_encoding.fit_transform(train_data[[\"subject\"]].to_dict(\"records\"))\n",
    "val_targets = target_encoding.transform(val_data[[\"subject\"]].to_dict(\"records\"))\n",
    "test_targets = target_encoding.transform(test_data[[\"subject\"]].to_dict(\"records\"))"
   ]
  },
  {
   "cell_type": "markdown",
   "metadata": {},
   "source": [
    "We now do the same for the node attributes we want to use to predict the subject. These are the feature vectors that the Keras model will use as input. The CORA dataset contains attributes 'w_x' that correspond to words found in that publication. If a word occurs more than once in a publication the relevant attribute will be set to one, otherwise it will be zero."
   ]
  },
  {
   "cell_type": "code",
   "execution_count": 10,
   "metadata": {},
   "outputs": [],
   "source": [
    "node_features = node_data[feature_names]"
   ]
  },
  {
   "cell_type": "markdown",
   "metadata": {},
   "source": [
    "## Creating the PPNP model in Keras"
   ]
  },
  {
   "cell_type": "markdown",
   "metadata": {},
   "source": [
    "Now create a StellarGraph object from the NetworkX graph and the node features and targets. It is StellarGraph objects that we use in this library to perform machine learning tasks on."
   ]
  },
  {
   "cell_type": "code",
   "execution_count": 11,
   "metadata": {},
   "outputs": [],
   "source": [
    "G = sg.StellarGraph(nodes={\"paper\": node_features}, edges={\"cites\": edgelist})"
   ]
  },
  {
   "cell_type": "code",
   "execution_count": 12,
   "metadata": {},
   "outputs": [
    {
     "name": "stdout",
     "output_type": "stream",
     "text": [
      "StellarGraph: Undirected multigraph\n",
      " Nodes: 2708, Edges: 5429\n",
      "\n",
      " Node types:\n",
      "  paper: [2708]\n",
      "    Edge types: paper-cites->paper\n",
      "\n",
      " Edge types:\n",
      "    paper-cites->paper: [5429]\n"
     ]
    }
   ],
   "source": [
    "print(G.info())"
   ]
  },
  {
   "cell_type": "markdown",
   "metadata": {},
   "source": [
    "To feed data from the graph to the Keras model we need a generator. Since PPNP is a full-batch model, we use the `FullBatchNodeGenerator` class to feed node features and the normalized graph Laplacian matrix to the model.\n",
    "\n",
    "Specifying the `method='ppnp'` argument to the `FullBatchNodeGenerator` will pre-process the adjacency matrix and supply the personalized page rank matrix necessary for PPNP.  The personalized page rank matrix is a dense matrix and so `sparse=False` must be passed to `FullBatchNodeGenerator`. `teleport_probability=0.1` specifies the probability of returning to the starting node in the propogation step as desribed in the paper (alpha in the paper). "
   ]
  },
  {
   "cell_type": "code",
   "execution_count": 13,
   "metadata": {},
   "outputs": [],
   "source": [
    "generator = FullBatchNodeGenerator(\n",
    "    G, method=\"ppnp\", sparse=False, teleport_probability=0.1\n",
    ")"
   ]
  },
  {
   "cell_type": "markdown",
   "metadata": {},
   "source": [
    "For training we map only the training nodes returned from our splitter and the target values."
   ]
  },
  {
   "cell_type": "code",
   "execution_count": 14,
   "metadata": {},
   "outputs": [],
   "source": [
    "train_gen = generator.flow(train_data.index, train_targets)"
   ]
  },
  {
   "cell_type": "markdown",
   "metadata": {},
   "source": [
    "Now we can specify our machine learning model, we need a few more parameters for this:\n",
    "\n",
    " * the `layer_sizes` is a list of hidden feature sizes of each full fully connected layer in the model. In this example we use three fully connected layers with 64,64, and 7 hidden node features at each layer. \n",
    " * `activations` is a list of activations applied to each layer's output\n",
    " * `dropout=0.5` specifies a 50% dropout at each layer. \n",
    " * `kernel_regularizer=keras.regularizers.l2(0.001)` specifies a penality that prevents the model weights from become too large and helps limit overfitting\n",
    " \n",
    " #### Note that the size of the final fully connected layer must be equal to the number of classes you are trying to predict.\n"
   ]
  },
  {
   "cell_type": "markdown",
   "metadata": {},
   "source": [
    "We create a PPNP model as follows:"
   ]
  },
  {
   "cell_type": "code",
   "execution_count": 15,
   "metadata": {},
   "outputs": [],
   "source": [
    "ppnp = PPNP(\n",
    "    layer_sizes=[64, 64, train_targets.shape[-1]],\n",
    "    activations=[\"relu\", \"relu\", \"relu\"],\n",
    "    generator=generator,\n",
    "    dropout=0.5,\n",
    "    kernel_regularizer=keras.regularizers.l2(0.001),\n",
    ")\n",
    "\n",
    "x_inp, x_out = ppnp.build()\n",
    "predictions = keras.layers.Softmax()(x_out)"
   ]
  },
  {
   "cell_type": "markdown",
   "metadata": {},
   "source": [
    "### Training the model"
   ]
  },
  {
   "cell_type": "markdown",
   "metadata": {},
   "source": [
    "Now let's create the actual Keras model with the input tensors `x_inp` and output tensors being the predictions `predictions` from the final dense layer"
   ]
  },
  {
   "cell_type": "code",
   "execution_count": 16,
   "metadata": {},
   "outputs": [],
   "source": [
    "ppnp_model = Model(inputs=x_inp, outputs=predictions)\n",
    "ppnp_model.compile(\n",
    "    optimizer=optimizers.Adam(lr=0.01),\n",
    "    loss=losses.categorical_crossentropy,\n",
    "    metrics=[\"acc\"],\n",
    ")"
   ]
  },
  {
   "cell_type": "markdown",
   "metadata": {},
   "source": [
    "Train the model, keeping track of its loss and accuracy on the training set, and its generalisation performance on the validation set (we need to create another generator over the validation data for this)"
   ]
  },
  {
   "cell_type": "code",
   "execution_count": 17,
   "metadata": {},
   "outputs": [],
   "source": [
    "val_gen = generator.flow(val_data.index, val_targets)"
   ]
  },
  {
   "cell_type": "markdown",
   "metadata": {},
   "source": [
    "Create callbacks for early stopping (if validation accuracy stops improving) and best model checkpoint saving:"
   ]
  },
  {
   "cell_type": "code",
   "execution_count": 18,
   "metadata": {},
   "outputs": [],
   "source": [
    "if not os.path.isdir(\"logs\"):\n",
    "    os.makedirs(\"logs\")"
   ]
  },
  {
   "cell_type": "code",
   "execution_count": 19,
   "metadata": {},
   "outputs": [],
   "source": [
    "es_callback = EarlyStopping(\n",
    "    monitor=\"val_acc\", patience=50\n",
    ")  # patience is the number of epochs to wait before early stopping in case of no further improvement\n",
    "\n",
    "mc_callback = ModelCheckpoint(\n",
    "    \"logs/best_ppnp_model.h5\",\n",
    "    monitor=\"val_acc\",\n",
    "    save_best_only=True,\n",
    "    save_weights_only=True,\n",
    ")"
   ]
  },
  {
   "cell_type": "markdown",
   "metadata": {},
   "source": [
    "Train the model"
   ]
  },
  {
   "cell_type": "code",
   "execution_count": 20,
   "metadata": {},
   "outputs": [
    {
     "name": "stdout",
     "output_type": "stream",
     "text": [
      "Epoch 1/80\n",
      "1/1 - 0s - loss: 2.1406 - acc: 0.1786 - val_loss: 2.0594 - val_acc: 0.3020\n",
      "Epoch 2/80\n",
      "1/1 - 0s - loss: 2.0609 - acc: 0.3143 - val_loss: 1.9956 - val_acc: 0.3020\n",
      "Epoch 3/80\n",
      "1/1 - 0s - loss: 1.9869 - acc: 0.3071 - val_loss: 1.9358 - val_acc: 0.3020\n",
      "Epoch 4/80\n",
      "1/1 - 0s - loss: 1.9683 - acc: 0.2857 - val_loss: 1.8796 - val_acc: 0.3020\n",
      "Epoch 5/80\n",
      "1/1 - 0s - loss: 1.9014 - acc: 0.3143 - val_loss: 1.8214 - val_acc: 0.3040\n",
      "Epoch 6/80\n",
      "1/1 - 0s - loss: 1.8608 - acc: 0.3429 - val_loss: 1.7698 - val_acc: 0.4540\n",
      "Epoch 7/80\n",
      "1/1 - 0s - loss: 1.7625 - acc: 0.4214 - val_loss: 1.7131 - val_acc: 0.5380\n",
      "Epoch 8/80\n",
      "1/1 - 0s - loss: 1.7003 - acc: 0.4643 - val_loss: 1.6436 - val_acc: 0.5640\n",
      "Epoch 9/80\n",
      "1/1 - 0s - loss: 1.7390 - acc: 0.4429 - val_loss: 1.5626 - val_acc: 0.5700\n",
      "Epoch 10/80\n",
      "1/1 - 0s - loss: 1.6185 - acc: 0.4857 - val_loss: 1.4812 - val_acc: 0.6320\n",
      "Epoch 11/80\n",
      "1/1 - 0s - loss: 1.5145 - acc: 0.5571 - val_loss: 1.4163 - val_acc: 0.6300\n",
      "Epoch 12/80\n",
      "1/1 - 0s - loss: 1.5268 - acc: 0.5357 - val_loss: 1.3720 - val_acc: 0.6280\n",
      "Epoch 13/80\n",
      "1/1 - 0s - loss: 1.4239 - acc: 0.5714 - val_loss: 1.3350 - val_acc: 0.6280\n",
      "Epoch 14/80\n",
      "1/1 - 0s - loss: 1.4168 - acc: 0.6000 - val_loss: 1.2978 - val_acc: 0.6420\n",
      "Epoch 15/80\n",
      "1/1 - 0s - loss: 1.3824 - acc: 0.6214 - val_loss: 1.2670 - val_acc: 0.6560\n",
      "Epoch 16/80\n",
      "1/1 - 0s - loss: 1.3194 - acc: 0.6429 - val_loss: 1.2440 - val_acc: 0.6540\n",
      "Epoch 17/80\n",
      "1/1 - 0s - loss: 1.2746 - acc: 0.6357 - val_loss: 1.2279 - val_acc: 0.6560\n",
      "Epoch 18/80\n",
      "1/1 - 0s - loss: 1.2658 - acc: 0.6214 - val_loss: 1.2142 - val_acc: 0.6800\n",
      "Epoch 19/80\n",
      "1/1 - 0s - loss: 1.1999 - acc: 0.6214 - val_loss: 1.2062 - val_acc: 0.6880\n",
      "Epoch 20/80\n",
      "1/1 - 0s - loss: 1.1425 - acc: 0.6714 - val_loss: 1.2017 - val_acc: 0.7160\n",
      "Epoch 21/80\n",
      "1/1 - 0s - loss: 1.2125 - acc: 0.6429 - val_loss: 1.1957 - val_acc: 0.6700\n",
      "Epoch 22/80\n",
      "1/1 - 0s - loss: 1.2027 - acc: 0.6786 - val_loss: 1.1930 - val_acc: 0.6720\n",
      "Epoch 23/80\n",
      "1/1 - 0s - loss: 1.1522 - acc: 0.6857 - val_loss: 1.1769 - val_acc: 0.6880\n",
      "Epoch 24/80\n",
      "1/1 - 0s - loss: 1.1360 - acc: 0.7000 - val_loss: 1.1660 - val_acc: 0.7060\n",
      "Epoch 25/80\n",
      "1/1 - 0s - loss: 1.1154 - acc: 0.7071 - val_loss: 1.1644 - val_acc: 0.7000\n",
      "Epoch 26/80\n",
      "1/1 - 0s - loss: 1.0372 - acc: 0.7429 - val_loss: 1.1618 - val_acc: 0.7260\n",
      "Epoch 27/80\n",
      "1/1 - 0s - loss: 1.1146 - acc: 0.7000 - val_loss: 1.1490 - val_acc: 0.7540\n",
      "Epoch 28/80\n",
      "1/1 - 0s - loss: 1.0927 - acc: 0.7500 - val_loss: 1.1380 - val_acc: 0.7580\n",
      "Epoch 29/80\n",
      "1/1 - 0s - loss: 1.1292 - acc: 0.7214 - val_loss: 1.1300 - val_acc: 0.7580\n",
      "Epoch 30/80\n",
      "1/1 - 0s - loss: 0.9929 - acc: 0.7286 - val_loss: 1.1334 - val_acc: 0.7620\n",
      "Epoch 31/80\n",
      "1/1 - 0s - loss: 0.9592 - acc: 0.7786 - val_loss: 1.1387 - val_acc: 0.7660\n",
      "Epoch 32/80\n",
      "1/1 - 0s - loss: 0.9589 - acc: 0.7643 - val_loss: 1.1289 - val_acc: 0.7640\n",
      "Epoch 33/80\n",
      "1/1 - 0s - loss: 1.0308 - acc: 0.7286 - val_loss: 1.1092 - val_acc: 0.7620\n",
      "Epoch 34/80\n",
      "1/1 - 0s - loss: 1.0760 - acc: 0.7357 - val_loss: 1.0868 - val_acc: 0.7700\n",
      "Epoch 35/80\n",
      "1/1 - 0s - loss: 0.9496 - acc: 0.7786 - val_loss: 1.0678 - val_acc: 0.7620\n",
      "Epoch 36/80\n",
      "1/1 - 0s - loss: 0.8920 - acc: 0.8214 - val_loss: 1.0568 - val_acc: 0.7580\n",
      "Epoch 37/80\n",
      "1/1 - 0s - loss: 0.9350 - acc: 0.8143 - val_loss: 1.0473 - val_acc: 0.7560\n",
      "Epoch 38/80\n",
      "1/1 - 0s - loss: 0.9420 - acc: 0.7857 - val_loss: 1.0405 - val_acc: 0.7600\n",
      "Epoch 39/80\n",
      "1/1 - 0s - loss: 0.9562 - acc: 0.8071 - val_loss: 1.0353 - val_acc: 0.7700\n",
      "Epoch 40/80\n",
      "1/1 - 0s - loss: 0.8387 - acc: 0.8143 - val_loss: 1.0323 - val_acc: 0.7720\n",
      "Epoch 41/80\n",
      "1/1 - 0s - loss: 0.9125 - acc: 0.7786 - val_loss: 1.0299 - val_acc: 0.7740\n",
      "Epoch 42/80\n",
      "1/1 - 0s - loss: 0.8525 - acc: 0.8143 - val_loss: 1.0317 - val_acc: 0.7740\n",
      "Epoch 43/80\n",
      "1/1 - 0s - loss: 0.8352 - acc: 0.8143 - val_loss: 1.0386 - val_acc: 0.7700\n",
      "Epoch 44/80\n",
      "1/1 - 0s - loss: 0.9144 - acc: 0.7929 - val_loss: 1.0458 - val_acc: 0.7620\n",
      "Epoch 45/80\n",
      "1/1 - 0s - loss: 0.8452 - acc: 0.7929 - val_loss: 1.0510 - val_acc: 0.7600\n",
      "Epoch 46/80\n",
      "1/1 - 0s - loss: 0.9474 - acc: 0.8000 - val_loss: 1.0516 - val_acc: 0.7660\n",
      "Epoch 47/80\n",
      "1/1 - 0s - loss: 0.7949 - acc: 0.8429 - val_loss: 1.0511 - val_acc: 0.7660\n",
      "Epoch 48/80\n",
      "1/1 - 0s - loss: 0.8651 - acc: 0.7714 - val_loss: 1.0427 - val_acc: 0.7620\n",
      "Epoch 49/80\n",
      "1/1 - 0s - loss: 0.8945 - acc: 0.8000 - val_loss: 1.0336 - val_acc: 0.7640\n",
      "Epoch 50/80\n",
      "1/1 - 0s - loss: 0.8031 - acc: 0.8286 - val_loss: 1.0304 - val_acc: 0.7620\n",
      "Epoch 51/80\n",
      "1/1 - 0s - loss: 0.7175 - acc: 0.8786 - val_loss: 1.0326 - val_acc: 0.7600\n",
      "Epoch 52/80\n",
      "1/1 - 0s - loss: 0.8218 - acc: 0.8286 - val_loss: 1.0335 - val_acc: 0.7620\n",
      "Epoch 53/80\n",
      "1/1 - 0s - loss: 0.8883 - acc: 0.7929 - val_loss: 1.0328 - val_acc: 0.7660\n",
      "Epoch 54/80\n",
      "1/1 - 0s - loss: 0.7898 - acc: 0.8429 - val_loss: 1.0309 - val_acc: 0.7680\n",
      "Epoch 55/80\n",
      "1/1 - 0s - loss: 0.7740 - acc: 0.8214 - val_loss: 1.0305 - val_acc: 0.7660\n",
      "Epoch 56/80\n",
      "1/1 - 0s - loss: 0.7031 - acc: 0.8643 - val_loss: 1.0339 - val_acc: 0.7660\n",
      "Epoch 57/80\n",
      "1/1 - 0s - loss: 0.7622 - acc: 0.8071 - val_loss: 1.0338 - val_acc: 0.7640\n",
      "Epoch 58/80\n",
      "1/1 - 0s - loss: 0.7960 - acc: 0.8429 - val_loss: 1.0286 - val_acc: 0.7660\n",
      "Epoch 59/80\n",
      "1/1 - 0s - loss: 0.7413 - acc: 0.8857 - val_loss: 1.0254 - val_acc: 0.7640\n",
      "Epoch 60/80\n",
      "1/1 - 0s - loss: 0.8089 - acc: 0.8429 - val_loss: 1.0304 - val_acc: 0.7580\n",
      "Epoch 61/80\n",
      "1/1 - 0s - loss: 0.7841 - acc: 0.8429 - val_loss: 1.0356 - val_acc: 0.7580\n",
      "Epoch 62/80\n",
      "1/1 - 0s - loss: 0.8425 - acc: 0.8357 - val_loss: 1.0316 - val_acc: 0.7660\n",
      "Epoch 63/80\n",
      "1/1 - 0s - loss: 0.7572 - acc: 0.9071 - val_loss: 1.0356 - val_acc: 0.7700\n",
      "Epoch 64/80\n",
      "1/1 - 0s - loss: 0.6898 - acc: 0.8500 - val_loss: 1.0427 - val_acc: 0.7720\n",
      "Epoch 65/80\n",
      "1/1 - 0s - loss: 0.7497 - acc: 0.8214 - val_loss: 1.0451 - val_acc: 0.7680\n",
      "Epoch 66/80\n",
      "1/1 - 0s - loss: 0.7892 - acc: 0.8286 - val_loss: 1.0416 - val_acc: 0.7720\n",
      "Epoch 67/80\n",
      "1/1 - 0s - loss: 0.7913 - acc: 0.8286 - val_loss: 1.0404 - val_acc: 0.7800\n",
      "Epoch 68/80\n",
      "1/1 - 0s - loss: 0.7974 - acc: 0.8357 - val_loss: 1.0364 - val_acc: 0.7880\n",
      "Epoch 69/80\n",
      "1/1 - 0s - loss: 0.7782 - acc: 0.8500 - val_loss: 1.0241 - val_acc: 0.8020\n",
      "Epoch 70/80\n",
      "1/1 - 0s - loss: 0.7316 - acc: 0.8429 - val_loss: 1.0234 - val_acc: 0.7960\n",
      "Epoch 71/80\n",
      "1/1 - 0s - loss: 0.7551 - acc: 0.8429 - val_loss: 1.0207 - val_acc: 0.7980\n",
      "Epoch 72/80\n",
      "1/1 - 0s - loss: 0.7482 - acc: 0.8786 - val_loss: 1.0179 - val_acc: 0.7960\n",
      "Epoch 73/80\n",
      "1/1 - 0s - loss: 0.7513 - acc: 0.8571 - val_loss: 1.0197 - val_acc: 0.8040\n",
      "Epoch 74/80\n",
      "1/1 - 0s - loss: 0.7345 - acc: 0.8500 - val_loss: 1.0170 - val_acc: 0.8020\n",
      "Epoch 75/80\n",
      "1/1 - 0s - loss: 0.7084 - acc: 0.8786 - val_loss: 1.0119 - val_acc: 0.8080\n",
      "Epoch 76/80\n",
      "1/1 - 0s - loss: 0.7313 - acc: 0.8643 - val_loss: 1.0025 - val_acc: 0.8080\n",
      "Epoch 77/80\n",
      "1/1 - 0s - loss: 0.7162 - acc: 0.8357 - val_loss: 0.9979 - val_acc: 0.8060\n",
      "Epoch 78/80\n",
      "1/1 - 0s - loss: 0.7270 - acc: 0.8786 - val_loss: 0.9976 - val_acc: 0.8080\n",
      "Epoch 79/80\n",
      "1/1 - 0s - loss: 0.7682 - acc: 0.8500 - val_loss: 0.9977 - val_acc: 0.8120\n",
      "Epoch 80/80\n",
      "1/1 - 0s - loss: 0.7197 - acc: 0.8786 - val_loss: 0.9960 - val_acc: 0.8120\n"
     ]
    }
   ],
   "source": [
    "history = ppnp_model.fit(\n",
    "    train_gen,\n",
    "    epochs=80,\n",
    "    validation_data=val_gen,\n",
    "    verbose=2,\n",
    "    shuffle=False,  # this should be False, since shuffling data means shuffling the whole graph\n",
    "    callbacks=[es_callback, mc_callback],\n",
    ")"
   ]
  },
  {
   "cell_type": "markdown",
   "metadata": {},
   "source": [
    "Plot the training history:"
   ]
  },
  {
   "cell_type": "code",
   "execution_count": 21,
   "metadata": {},
   "outputs": [
    {
     "data": {
      "image/png": "[encoded data removed]",
      "text/plain": [
       "<Figure size 504x576 with 2 Axes>"
      ]
     },
     "metadata": {
      "needs_background": "light"
     },
     "output_type": "display_data"
    }
   ],
   "source": [
    "sg.utils.plot_history(history)"
   ]
  },
  {
   "cell_type": "markdown",
   "metadata": {},
   "source": [
    "Reload the saved weights of the best model found during the training (according to validation accuracy)"
   ]
  },
  {
   "cell_type": "code",
   "execution_count": 22,
   "metadata": {},
   "outputs": [],
   "source": [
    "ppnp_model.load_weights(\"logs/best_ppnp_model.h5\")"
   ]
  },
  {
   "cell_type": "markdown",
   "metadata": {},
   "source": [
    "Evaluate the best model on the test set"
   ]
  },
  {
   "cell_type": "code",
   "execution_count": 23,
   "metadata": {},
   "outputs": [],
   "source": [
    "test_gen = generator.flow(test_data.index, test_targets)"
   ]
  },
  {
   "cell_type": "code",
   "execution_count": 24,
   "metadata": {},
   "outputs": [
    {
     "name": "stdout",
     "output_type": "stream",
     "text": [
      "\n",
      "Test Set Metrics:\n",
      "\tloss: 0.9804\n",
      "\tacc: 0.8066\n"
     ]
    }
   ],
   "source": [
    "test_metrics = ppnp_model.evaluate(test_gen)\n",
    "print(\"\\nTest Set Metrics:\")\n",
    "for name, val in zip(ppnp_model.metrics_names, test_metrics):\n",
    "    print(\"\\t{}: {:0.4f}\".format(name, val))"
   ]
  },
  {
   "cell_type": "markdown",
   "metadata": {},
   "source": [
    "## Using the Approximate PPNP Model\n",
    "\n",
    "Lets repeat the training and testing steps with the APPNP model using the same dataset. The downside of the PPNP is that you have to invert the adjacency matrix - which is time inneficient for large graphs - and store that invert matrix - which is space innefficient. The approximate model avoids this issue by using a clever mathematical trick. \n",
    "\n",
    "The APPNP model uses the normalized graph Laplacian. To get the normalized graph Laplacian we create a new `FullBatchNodeGenerator` and set `method=\"gcn\"`. We have the option of choosing `sparse=True` or `sparse=False` but will use `sparse=True` for memory efficiency."
   ]
  },
  {
   "cell_type": "code",
   "execution_count": 25,
   "metadata": {},
   "outputs": [
    {
     "name": "stdout",
     "output_type": "stream",
     "text": [
      "Using GCN (local pooling) filters...\n",
      "Epoch 1/120\n",
      "1/1 - 0s - loss: 2.1822 - acc: 0.1714 - val_loss: 2.1031 - val_acc: 0.2800\n",
      "Epoch 2/120\n",
      "1/1 - 0s - loss: 2.0890 - acc: 0.1929 - val_loss: 2.0586 - val_acc: 0.4300\n",
      "Epoch 3/120\n",
      "1/1 - 0s - loss: 2.0350 - acc: 0.3357 - val_loss: 2.0108 - val_acc: 0.3300\n",
      "Epoch 4/120\n",
      "1/1 - 0s - loss: 2.0844 - acc: 0.2643 - val_loss: 1.9734 - val_acc: 0.3800\n",
      "Epoch 5/120\n",
      "1/1 - 0s - loss: 1.9155 - acc: 0.4214 - val_loss: 1.9273 - val_acc: 0.3920\n",
      "Epoch 6/120\n",
      "1/1 - 0s - loss: 1.9386 - acc: 0.3286 - val_loss: 1.8731 - val_acc: 0.4640\n",
      "Epoch 7/120\n",
      "1/1 - 0s - loss: 1.9184 - acc: 0.3286 - val_loss: 1.8107 - val_acc: 0.4960\n",
      "Epoch 8/120\n",
      "1/1 - 0s - loss: 1.8601 - acc: 0.3714 - val_loss: 1.7443 - val_acc: 0.5100\n",
      "Epoch 9/120\n",
      "1/1 - 0s - loss: 1.7356 - acc: 0.4500 - val_loss: 1.6697 - val_acc: 0.5200\n",
      "Epoch 10/120\n",
      "1/1 - 0s - loss: 1.7901 - acc: 0.4143 - val_loss: 1.5939 - val_acc: 0.5640\n",
      "Epoch 11/120\n",
      "1/1 - 0s - loss: 1.6465 - acc: 0.4857 - val_loss: 1.5214 - val_acc: 0.5960\n",
      "Epoch 12/120\n",
      "1/1 - 0s - loss: 1.6747 - acc: 0.4714 - val_loss: 1.4643 - val_acc: 0.6180\n",
      "Epoch 13/120\n",
      "1/1 - 0s - loss: 1.5790 - acc: 0.5143 - val_loss: 1.4208 - val_acc: 0.6360\n",
      "Epoch 14/120\n",
      "1/1 - 0s - loss: 1.5115 - acc: 0.6071 - val_loss: 1.3785 - val_acc: 0.6420\n",
      "Epoch 15/120\n",
      "1/1 - 0s - loss: 1.5365 - acc: 0.5500 - val_loss: 1.3393 - val_acc: 0.6460\n",
      "Epoch 16/120\n",
      "1/1 - 0s - loss: 1.3562 - acc: 0.6214 - val_loss: 1.2999 - val_acc: 0.6540\n",
      "Epoch 17/120\n",
      "1/1 - 0s - loss: 1.5697 - acc: 0.5857 - val_loss: 1.2664 - val_acc: 0.6640\n",
      "Epoch 18/120\n",
      "1/1 - 0s - loss: 1.3888 - acc: 0.6429 - val_loss: 1.2340 - val_acc: 0.6680\n",
      "Epoch 19/120\n",
      "1/1 - 0s - loss: 1.3146 - acc: 0.6071 - val_loss: 1.2038 - val_acc: 0.6780\n",
      "Epoch 20/120\n",
      "1/1 - 0s - loss: 1.3822 - acc: 0.5857 - val_loss: 1.1783 - val_acc: 0.7060\n",
      "Epoch 21/120\n",
      "1/1 - 0s - loss: 1.4602 - acc: 0.5786 - val_loss: 1.1613 - val_acc: 0.7340\n",
      "Epoch 22/120\n",
      "1/1 - 0s - loss: 1.2569 - acc: 0.6500 - val_loss: 1.1514 - val_acc: 0.7320\n",
      "Epoch 23/120\n",
      "1/1 - 0s - loss: 1.2514 - acc: 0.6571 - val_loss: 1.1477 - val_acc: 0.7360\n",
      "Epoch 24/120\n",
      "1/1 - 0s - loss: 1.3153 - acc: 0.6214 - val_loss: 1.1489 - val_acc: 0.7300\n",
      "Epoch 25/120\n",
      "1/1 - 0s - loss: 1.1887 - acc: 0.6857 - val_loss: 1.1487 - val_acc: 0.7280\n",
      "Epoch 26/120\n",
      "1/1 - 0s - loss: 1.1510 - acc: 0.7143 - val_loss: 1.1376 - val_acc: 0.7200\n",
      "Epoch 27/120\n",
      "1/1 - 0s - loss: 1.3176 - acc: 0.6643 - val_loss: 1.1178 - val_acc: 0.7220\n",
      "Epoch 28/120\n",
      "1/1 - 0s - loss: 1.1547 - acc: 0.7143 - val_loss: 1.1028 - val_acc: 0.7200\n",
      "Epoch 29/120\n",
      "1/1 - 0s - loss: 1.1586 - acc: 0.7286 - val_loss: 1.0967 - val_acc: 0.7120\n",
      "Epoch 30/120\n",
      "1/1 - 0s - loss: 1.2058 - acc: 0.7000 - val_loss: 1.0949 - val_acc: 0.7160\n",
      "Epoch 31/120\n",
      "1/1 - 0s - loss: 1.2204 - acc: 0.7143 - val_loss: 1.0916 - val_acc: 0.7140\n",
      "Epoch 32/120\n",
      "1/1 - 0s - loss: 1.1244 - acc: 0.7571 - val_loss: 1.0883 - val_acc: 0.7420\n",
      "Epoch 33/120\n",
      "1/1 - 0s - loss: 1.0539 - acc: 0.7643 - val_loss: 1.0916 - val_acc: 0.7460\n",
      "Epoch 34/120\n",
      "1/1 - 0s - loss: 1.1936 - acc: 0.7286 - val_loss: 1.0954 - val_acc: 0.7580\n",
      "Epoch 35/120\n",
      "1/1 - 0s - loss: 1.1349 - acc: 0.7929 - val_loss: 1.0987 - val_acc: 0.7580\n",
      "Epoch 36/120\n",
      "1/1 - 0s - loss: 1.2020 - acc: 0.7429 - val_loss: 1.1080 - val_acc: 0.7480\n",
      "Epoch 37/120\n",
      "1/1 - 0s - loss: 1.0222 - acc: 0.7643 - val_loss: 1.1050 - val_acc: 0.7560\n",
      "Epoch 38/120\n",
      "1/1 - 0s - loss: 1.1643 - acc: 0.7429 - val_loss: 1.0933 - val_acc: 0.7700\n",
      "Epoch 39/120\n",
      "1/1 - 0s - loss: 1.1633 - acc: 0.7643 - val_loss: 1.0893 - val_acc: 0.7740\n",
      "Epoch 40/120\n",
      "1/1 - 0s - loss: 1.0125 - acc: 0.7857 - val_loss: 1.0911 - val_acc: 0.7780\n",
      "Epoch 41/120\n",
      "1/1 - 0s - loss: 1.1794 - acc: 0.7786 - val_loss: 1.1042 - val_acc: 0.7660\n",
      "Epoch 42/120\n",
      "1/1 - 0s - loss: 0.9935 - acc: 0.7857 - val_loss: 1.1164 - val_acc: 0.7560\n",
      "Epoch 43/120\n",
      "1/1 - 0s - loss: 1.0130 - acc: 0.8000 - val_loss: 1.1246 - val_acc: 0.7620\n",
      "Epoch 44/120\n",
      "1/1 - 0s - loss: 0.9881 - acc: 0.8286 - val_loss: 1.1320 - val_acc: 0.7600\n",
      "Epoch 45/120\n",
      "1/1 - 0s - loss: 0.9918 - acc: 0.8286 - val_loss: 1.1399 - val_acc: 0.7540\n",
      "Epoch 46/120\n",
      "1/1 - 0s - loss: 1.0051 - acc: 0.8214 - val_loss: 1.1506 - val_acc: 0.7380\n",
      "Epoch 47/120\n",
      "1/1 - 0s - loss: 1.0946 - acc: 0.7929 - val_loss: 1.1630 - val_acc: 0.7380\n",
      "Epoch 48/120\n",
      "1/1 - 0s - loss: 0.9048 - acc: 0.8714 - val_loss: 1.1691 - val_acc: 0.7340\n",
      "Epoch 49/120\n",
      "1/1 - 0s - loss: 1.0551 - acc: 0.8214 - val_loss: 1.1669 - val_acc: 0.7380\n",
      "Epoch 50/120\n",
      "1/1 - 0s - loss: 1.0074 - acc: 0.8286 - val_loss: 1.1501 - val_acc: 0.7440\n",
      "Epoch 51/120\n",
      "1/1 - 0s - loss: 0.9544 - acc: 0.8214 - val_loss: 1.1315 - val_acc: 0.7520\n",
      "Epoch 52/120\n",
      "1/1 - 0s - loss: 1.2312 - acc: 0.7571 - val_loss: 1.1125 - val_acc: 0.7560\n",
      "Epoch 53/120\n",
      "1/1 - 0s - loss: 0.9010 - acc: 0.8714 - val_loss: 1.1044 - val_acc: 0.7620\n",
      "Epoch 54/120\n",
      "1/1 - 0s - loss: 0.9037 - acc: 0.8429 - val_loss: 1.1028 - val_acc: 0.7780\n",
      "Epoch 55/120\n",
      "1/1 - 0s - loss: 0.9104 - acc: 0.8857 - val_loss: 1.1074 - val_acc: 0.7820\n",
      "Epoch 56/120\n",
      "1/1 - 0s - loss: 1.1381 - acc: 0.8214 - val_loss: 1.1137 - val_acc: 0.7860\n",
      "Epoch 57/120\n",
      "1/1 - 0s - loss: 1.0213 - acc: 0.8214 - val_loss: 1.1171 - val_acc: 0.7840\n",
      "Epoch 58/120\n",
      "1/1 - 0s - loss: 1.0200 - acc: 0.8071 - val_loss: 1.1194 - val_acc: 0.7820\n",
      "Epoch 59/120\n",
      "1/1 - 0s - loss: 0.8008 - acc: 0.8857 - val_loss: 1.1190 - val_acc: 0.7740\n",
      "Epoch 60/120\n",
      "1/1 - 0s - loss: 0.9910 - acc: 0.8357 - val_loss: 1.1140 - val_acc: 0.7800\n",
      "Epoch 61/120\n",
      "1/1 - 0s - loss: 0.9614 - acc: 0.8286 - val_loss: 1.1150 - val_acc: 0.7840\n",
      "Epoch 62/120\n",
      "1/1 - 0s - loss: 0.9828 - acc: 0.7929 - val_loss: 1.1184 - val_acc: 0.7880\n",
      "Epoch 63/120\n",
      "1/1 - 0s - loss: 0.8684 - acc: 0.8571 - val_loss: 1.1097 - val_acc: 0.7880\n",
      "Epoch 64/120\n",
      "1/1 - 0s - loss: 1.0145 - acc: 0.8571 - val_loss: 1.1014 - val_acc: 0.7940\n",
      "Epoch 65/120\n",
      "1/1 - 0s - loss: 0.9396 - acc: 0.8643 - val_loss: 1.0940 - val_acc: 0.7920\n",
      "Epoch 66/120\n",
      "1/1 - 0s - loss: 0.9276 - acc: 0.8714 - val_loss: 1.0916 - val_acc: 0.7960\n",
      "Epoch 67/120\n",
      "1/1 - 0s - loss: 0.7796 - acc: 0.8929 - val_loss: 1.0872 - val_acc: 0.7980\n",
      "Epoch 68/120\n",
      "1/1 - 0s - loss: 0.7878 - acc: 0.9071 - val_loss: 1.0845 - val_acc: 0.8040\n",
      "Epoch 69/120\n",
      "1/1 - 0s - loss: 0.8196 - acc: 0.8786 - val_loss: 1.0837 - val_acc: 0.8020\n",
      "Epoch 70/120\n",
      "1/1 - 0s - loss: 0.8341 - acc: 0.8714 - val_loss: 1.0877 - val_acc: 0.8000\n",
      "Epoch 71/120\n",
      "1/1 - 0s - loss: 0.9044 - acc: 0.8500 - val_loss: 1.1044 - val_acc: 0.7940\n",
      "Epoch 72/120\n",
      "1/1 - 0s - loss: 1.0925 - acc: 0.8357 - val_loss: 1.1109 - val_acc: 0.7900\n",
      "Epoch 73/120\n",
      "1/1 - 0s - loss: 1.0298 - acc: 0.8500 - val_loss: 1.1181 - val_acc: 0.7840\n",
      "Epoch 74/120\n",
      "1/1 - 0s - loss: 0.9749 - acc: 0.8571 - val_loss: 1.1228 - val_acc: 0.7760\n",
      "Epoch 75/120\n",
      "1/1 - 0s - loss: 0.8772 - acc: 0.8571 - val_loss: 1.1342 - val_acc: 0.7720\n",
      "Epoch 76/120\n",
      "1/1 - 0s - loss: 0.9213 - acc: 0.8571 - val_loss: 1.1497 - val_acc: 0.7740\n",
      "Epoch 77/120\n",
      "1/1 - 0s - loss: 0.9194 - acc: 0.8643 - val_loss: 1.1529 - val_acc: 0.7760\n",
      "Epoch 78/120\n",
      "1/1 - 0s - loss: 0.8909 - acc: 0.8214 - val_loss: 1.1452 - val_acc: 0.7780\n",
      "Epoch 79/120\n",
      "1/1 - 0s - loss: 0.9548 - acc: 0.8214 - val_loss: 1.1327 - val_acc: 0.7840\n",
      "Epoch 80/120\n",
      "1/1 - 0s - loss: 0.9832 - acc: 0.8500 - val_loss: 1.1201 - val_acc: 0.7860\n",
      "Epoch 81/120\n",
      "1/1 - 0s - loss: 0.8936 - acc: 0.8857 - val_loss: 1.1115 - val_acc: 0.7940\n",
      "Epoch 82/120\n",
      "1/1 - 0s - loss: 0.8320 - acc: 0.9143 - val_loss: 1.1115 - val_acc: 0.7900\n",
      "Epoch 83/120\n",
      "1/1 - 0s - loss: 0.9009 - acc: 0.8714 - val_loss: 1.1200 - val_acc: 0.7880\n",
      "Epoch 84/120\n",
      "1/1 - 0s - loss: 0.8724 - acc: 0.9000 - val_loss: 1.1279 - val_acc: 0.7900\n",
      "Epoch 85/120\n",
      "1/1 - 0s - loss: 0.9234 - acc: 0.9000 - val_loss: 1.1186 - val_acc: 0.7920\n",
      "Epoch 86/120\n",
      "1/1 - 0s - loss: 0.8262 - acc: 0.9143 - val_loss: 1.1088 - val_acc: 0.7960\n",
      "Epoch 87/120\n",
      "1/1 - 0s - loss: 0.8423 - acc: 0.8929 - val_loss: 1.1003 - val_acc: 0.7940\n",
      "Epoch 88/120\n",
      "1/1 - 0s - loss: 0.8147 - acc: 0.9071 - val_loss: 1.0944 - val_acc: 0.8020\n",
      "Epoch 89/120\n",
      "1/1 - 0s - loss: 0.9104 - acc: 0.8929 - val_loss: 1.0919 - val_acc: 0.8040\n",
      "Epoch 90/120\n",
      "1/1 - 0s - loss: 0.8163 - acc: 0.8929 - val_loss: 1.0944 - val_acc: 0.8040\n",
      "Epoch 91/120\n",
      "1/1 - 0s - loss: 1.0227 - acc: 0.8786 - val_loss: 1.0960 - val_acc: 0.7960\n",
      "Epoch 92/120\n",
      "1/1 - 0s - loss: 0.8806 - acc: 0.8429 - val_loss: 1.1016 - val_acc: 0.7920\n",
      "Epoch 93/120\n",
      "1/1 - 0s - loss: 0.7671 - acc: 0.9214 - val_loss: 1.1074 - val_acc: 0.7900\n",
      "Epoch 94/120\n",
      "1/1 - 0s - loss: 0.7836 - acc: 0.9071 - val_loss: 1.1113 - val_acc: 0.7820\n",
      "Epoch 95/120\n",
      "1/1 - 0s - loss: 0.7721 - acc: 0.9071 - val_loss: 1.1139 - val_acc: 0.7840\n",
      "Epoch 96/120\n",
      "1/1 - 0s - loss: 0.7725 - acc: 0.9071 - val_loss: 1.1143 - val_acc: 0.7920\n",
      "Epoch 97/120\n",
      "1/1 - 0s - loss: 0.8505 - acc: 0.9214 - val_loss: 1.1159 - val_acc: 0.7940\n",
      "Epoch 98/120\n",
      "1/1 - 0s - loss: 0.8692 - acc: 0.9214 - val_loss: 1.1192 - val_acc: 0.7980\n",
      "Epoch 99/120\n",
      "1/1 - 0s - loss: 0.9222 - acc: 0.8857 - val_loss: 1.1226 - val_acc: 0.7900\n",
      "Epoch 100/120\n",
      "1/1 - 0s - loss: 0.7671 - acc: 0.9071 - val_loss: 1.1233 - val_acc: 0.7860\n",
      "Epoch 101/120\n",
      "1/1 - 0s - loss: 0.9177 - acc: 0.8643 - val_loss: 1.1227 - val_acc: 0.7880\n",
      "Epoch 102/120\n",
      "1/1 - 0s - loss: 0.9247 - acc: 0.8714 - val_loss: 1.1177 - val_acc: 0.7900\n",
      "Epoch 103/120\n",
      "1/1 - 0s - loss: 0.9262 - acc: 0.8643 - val_loss: 1.1136 - val_acc: 0.7840\n",
      "Epoch 104/120\n",
      "1/1 - 0s - loss: 0.8543 - acc: 0.9000 - val_loss: 1.1134 - val_acc: 0.7820\n",
      "Epoch 105/120\n",
      "1/1 - 0s - loss: 0.8786 - acc: 0.8929 - val_loss: 1.1126 - val_acc: 0.7860\n",
      "Epoch 106/120\n",
      "1/1 - 0s - loss: 0.8619 - acc: 0.8786 - val_loss: 1.1092 - val_acc: 0.7940\n",
      "Epoch 107/120\n",
      "1/1 - 0s - loss: 0.9050 - acc: 0.8643 - val_loss: 1.1067 - val_acc: 0.7980\n",
      "Epoch 108/120\n",
      "1/1 - 0s - loss: 0.8631 - acc: 0.8643 - val_loss: 1.1046 - val_acc: 0.7980\n",
      "Epoch 109/120\n",
      "1/1 - 0s - loss: 0.7829 - acc: 0.9143 - val_loss: 1.1061 - val_acc: 0.7980\n",
      "Epoch 110/120\n",
      "1/1 - 0s - loss: 0.9379 - acc: 0.8786 - val_loss: 1.1113 - val_acc: 0.7940\n",
      "Epoch 111/120\n",
      "1/1 - 0s - loss: 1.0168 - acc: 0.8786 - val_loss: 1.1183 - val_acc: 0.7880\n",
      "Epoch 112/120\n",
      "1/1 - 0s - loss: 0.7646 - acc: 0.9214 - val_loss: 1.1230 - val_acc: 0.7920\n",
      "Epoch 113/120\n",
      "1/1 - 0s - loss: 0.9284 - acc: 0.8714 - val_loss: 1.1251 - val_acc: 0.7940\n",
      "Epoch 114/120\n",
      "1/1 - 0s - loss: 0.9029 - acc: 0.8857 - val_loss: 1.1412 - val_acc: 0.7800\n",
      "Epoch 115/120\n",
      "1/1 - 0s - loss: 0.7776 - acc: 0.9000 - val_loss: 1.1569 - val_acc: 0.7800\n",
      "Epoch 116/120\n",
      "1/1 - 0s - loss: 0.9385 - acc: 0.8500 - val_loss: 1.1657 - val_acc: 0.7780\n",
      "Epoch 117/120\n",
      "1/1 - 0s - loss: 0.8343 - acc: 0.8643 - val_loss: 1.1747 - val_acc: 0.7760\n",
      "Epoch 118/120\n",
      "1/1 - 0s - loss: 0.7752 - acc: 0.9429 - val_loss: 1.1754 - val_acc: 0.7760\n"
     ]
    }
   ],
   "source": [
    "generator = FullBatchNodeGenerator(G, method=\"gcn\", sparse=True)\n",
    "\n",
    "train_gen = generator.flow(train_data.index, train_targets)\n",
    "val_gen = generator.flow(val_data.index, val_targets)\n",
    "test_gen = generator.flow(test_data.index, test_targets)\n",
    "\n",
    "appnp = APPNP(\n",
    "    layer_sizes=[64, 64, train_targets.shape[-1]],\n",
    "    activations=[\"relu\", \"relu\", \"relu\"],\n",
    "    bias=True,\n",
    "    generator=generator,\n",
    "    teleport_probability=0.1,\n",
    "    dropout=0.5,\n",
    "    kernel_regularizer=keras.regularizers.l2(0.001),\n",
    ")\n",
    "\n",
    "x_inp, x_out = appnp.build()\n",
    "predictions = keras.layers.Softmax()(x_out)\n",
    "\n",
    "appnp_model = keras.models.Model(inputs=x_inp, outputs=predictions)\n",
    "appnp_model.compile(\n",
    "    loss=\"categorical_crossentropy\",\n",
    "    metrics=[\"acc\"],\n",
    "    optimizer=keras.optimizers.Adam(lr=0.01),\n",
    ")\n",
    "\n",
    "es_callback = EarlyStopping(\n",
    "    monitor=\"val_acc\", patience=50\n",
    ")  # patience is the number of epochs to wait before early stopping in case of no further improvement\n",
    "\n",
    "mc_callback = ModelCheckpoint(\n",
    "    \"logs/best_appnp_model.h5\",\n",
    "    monitor=\"val_acc\",\n",
    "    save_best_only=True,\n",
    "    save_weights_only=True,\n",
    ")\n",
    "\n",
    "history = appnp_model.fit(\n",
    "    train_gen,\n",
    "    epochs=120,\n",
    "    validation_data=val_gen,\n",
    "    verbose=2,\n",
    "    shuffle=False,  # this should be False, since shuffling data means shuffling the whole graph\n",
    "    callbacks=[es_callback, mc_callback],\n",
    ")"
   ]
  },
  {
   "cell_type": "code",
   "execution_count": 26,
   "metadata": {},
   "outputs": [
    {
     "data": {
      "image/png": "[encoded data removed]",
      "text/plain": [
       "<Figure size 504x576 with 2 Axes>"
      ]
     },
     "metadata": {
      "needs_background": "light"
     },
     "output_type": "display_data"
    }
   ],
   "source": [
    "sg.utils.plot_history(history)"
   ]
  },
  {
   "cell_type": "code",
   "execution_count": 27,
   "metadata": {},
   "outputs": [
    {
     "name": "stdout",
     "output_type": "stream",
     "text": [
      "\n",
      "Test Set Metrics:\n",
      "\tloss: 1.1062\n",
      "\tacc: 0.7906\n"
     ]
    }
   ],
   "source": [
    "appnp_model.load_weights(\"logs/best_appnp_model.h5\")\n",
    "test_metrics = appnp_model.evaluate(test_gen)\n",
    "print(\"\\nTest Set Metrics:\")\n",
    "for name, val in zip(appnp_model.metrics_names, test_metrics):\n",
    "    print(\"\\t{}: {:0.4f}\".format(name, val))"
   ]
  },
  {
   "cell_type": "markdown",
   "metadata": {},
   "source": [
    "### Scalable APPNP Training\n",
    "\n",
    "Now we're going to exploit the structure of PPNP for scalable training. PPNP consists of a fully-connected neural network followed by a graph propogation step. For each node, the fully-connected network outputs a score for each class and the propogaiton step basically takes a weighted average of scores of nearby nodes (closer nodes are weighted higher). \n",
    "\n",
    "Above, we trained the whole network end-to-end which obtains the most accurate results but  requires us to load the entire graph onto our GPU memory. This is because we need the entire graph for the propogation step. Unfortunately, this limits the graph size by our GPU memory. To get around this, we can train the fully-connected network separately and once we have a trained fully connected network we can add the graph propagation step.  The advantage of this approach is that we can train on batches of node features instead of the entire graph.\n",
    "\n",
    "The model in the propagation step can be any keras model trained on node features to predict the target classes. In this example we use a fully connected neural network with bag of word features as input. We could easily swap out the bag of words features for the complete text and replace the fully connected network with a state-of-the-art NLP model (for example BERT [1]), fine-tune the model and propagate its predictions.\n",
    "\n",
    "\n",
    "<br>\n",
    "\n",
    "1. Devlin, J., Chang, M. W., Lee, K., & Toutanova, K. (2018). Bert: Pre-training of deep bidirectional transformers for language understanding. https://arxiv.org/abs/1810.04805"
   ]
  },
  {
   "cell_type": "markdown",
   "metadata": {},
   "source": [
    "First we create and train a fully connected model."
   ]
  },
  {
   "cell_type": "code",
   "execution_count": 28,
   "metadata": {},
   "outputs": [],
   "source": [
    "model = keras.models.Model()\n",
    "\n",
    "in_layer = layers.Input(shape=(len(feature_names),))\n",
    "\n",
    "layer = layers.Dropout(0.5)(in_layer)\n",
    "layer = layers.Dense(64, activation=\"relu\", kernel_regularizer=\"l2\")(layer)\n",
    "layer = layers.Dropout(0.5)(layer)\n",
    "layer = layers.Dense(64, activation=\"relu\", kernel_regularizer=\"l2\")(layer)\n",
    "layer = layers.Dropout(0.5)(layer)\n",
    "\n",
    "# note the dimension of the output should equal the number of classes to predict!\n",
    "layer = layers.Dense(train_targets.shape[-1], activation=\"relu\")(layer)\n",
    "layer = layers.Softmax()(layer)\n",
    "\n",
    "fully_connected_model = keras.models.Model(inputs=in_layer, outputs=layer)\n",
    "\n",
    "fully_connected_model.compile(\n",
    "    loss=\"categorical_crossentropy\", metrics=[\"acc\"], optimizer=optimizers.Adam(lr=0.01)\n",
    ")\n",
    "\n",
    "# the inputs are just the node features\n",
    "X_train = train_data[feature_names].values.astype(np.float32)\n",
    "X_val = val_data[feature_names].values.astype(np.float32)"
   ]
  },
  {
   "cell_type": "code",
   "execution_count": 29,
   "metadata": {},
   "outputs": [
    {
     "name": "stdout",
     "output_type": "stream",
     "text": [
      "Train on 140 samples, validate on 500 samples\n",
      "Epoch 1/2000\n",
      "140/140 [==============================] - 1s 5ms/sample - loss: 3.8070 - acc: 0.1643 - val_loss: 3.2902 - val_acc: 0.2920\n",
      "Epoch 2/2000\n",
      "140/140 [==============================] - 0s 165us/sample - loss: 3.2781 - acc: 0.2643 - val_loss: 2.9303 - val_acc: 0.3040\n",
      "Epoch 3/2000\n",
      "140/140 [==============================] - 0s 110us/sample - loss: 2.8965 - acc: 0.2786 - val_loss: 2.6870 - val_acc: 0.3040\n",
      "Epoch 4/2000\n",
      "140/140 [==============================] - 0s 111us/sample - loss: 2.6656 - acc: 0.2857 - val_loss: 2.5291 - val_acc: 0.3020\n",
      "Epoch 5/2000\n",
      "140/140 [==============================] - 0s 106us/sample - loss: 2.4438 - acc: 0.3857 - val_loss: 2.4284 - val_acc: 0.3020\n",
      "Epoch 6/2000\n",
      "140/140 [==============================] - 0s 105us/sample - loss: 2.3426 - acc: 0.3643 - val_loss: 2.3669 - val_acc: 0.3040\n",
      "Epoch 7/2000\n",
      "140/140 [==============================] - 0s 153us/sample - loss: 2.2413 - acc: 0.3786 - val_loss: 2.3291 - val_acc: 0.3100\n",
      "Epoch 8/2000\n",
      "140/140 [==============================] - 0s 148us/sample - loss: 2.1794 - acc: 0.4286 - val_loss: 2.2998 - val_acc: 0.3260\n",
      "Epoch 9/2000\n",
      "140/140 [==============================] - 0s 152us/sample - loss: 2.0822 - acc: 0.4429 - val_loss: 2.2713 - val_acc: 0.3540\n",
      "Epoch 10/2000\n",
      "140/140 [==============================] - 0s 169us/sample - loss: 2.0400 - acc: 0.4857 - val_loss: 2.2397 - val_acc: 0.4000\n",
      "Epoch 11/2000\n",
      "140/140 [==============================] - 0s 171us/sample - loss: 1.9542 - acc: 0.5214 - val_loss: 2.2076 - val_acc: 0.4520\n",
      "Epoch 12/2000\n",
      "140/140 [==============================] - 0s 177us/sample - loss: 1.9188 - acc: 0.5643 - val_loss: 2.1745 - val_acc: 0.4660\n",
      "Epoch 13/2000\n",
      "140/140 [==============================] - 0s 184us/sample - loss: 1.8416 - acc: 0.5786 - val_loss: 2.1455 - val_acc: 0.4800\n",
      "Epoch 14/2000\n",
      "140/140 [==============================] - 0s 112us/sample - loss: 1.7748 - acc: 0.6214 - val_loss: 2.1197 - val_acc: 0.4800\n",
      "Epoch 15/2000\n",
      "140/140 [==============================] - 0s 151us/sample - loss: 1.6309 - acc: 0.6643 - val_loss: 2.0940 - val_acc: 0.4940\n",
      "Epoch 16/2000\n",
      "140/140 [==============================] - 0s 150us/sample - loss: 1.5370 - acc: 0.6929 - val_loss: 2.0676 - val_acc: 0.5160\n",
      "Epoch 17/2000\n",
      "140/140 [==============================] - 0s 145us/sample - loss: 1.5561 - acc: 0.7071 - val_loss: 2.0421 - val_acc: 0.5260\n",
      "Epoch 18/2000\n",
      "140/140 [==============================] - 0s 156us/sample - loss: 1.5207 - acc: 0.7071 - val_loss: 2.0178 - val_acc: 0.5340\n",
      "Epoch 19/2000\n",
      "140/140 [==============================] - 0s 146us/sample - loss: 1.4138 - acc: 0.7357 - val_loss: 1.9996 - val_acc: 0.5380\n",
      "Epoch 20/2000\n",
      "140/140 [==============================] - 0s 153us/sample - loss: 1.4484 - acc: 0.6929 - val_loss: 1.9869 - val_acc: 0.5460\n",
      "Epoch 21/2000\n",
      "140/140 [==============================] - 0s 152us/sample - loss: 1.4029 - acc: 0.7286 - val_loss: 1.9802 - val_acc: 0.5580\n",
      "Epoch 22/2000\n",
      "140/140 [==============================] - 0s 108us/sample - loss: 1.3124 - acc: 0.7857 - val_loss: 1.9792 - val_acc: 0.5580\n",
      "Epoch 23/2000\n",
      "140/140 [==============================] - 0s 146us/sample - loss: 1.3759 - acc: 0.7429 - val_loss: 1.9782 - val_acc: 0.5600\n",
      "Epoch 24/2000\n",
      "140/140 [==============================] - 0s 163us/sample - loss: 1.2379 - acc: 0.8071 - val_loss: 1.9762 - val_acc: 0.5680\n",
      "Epoch 25/2000\n",
      "140/140 [==============================] - 0s 147us/sample - loss: 1.3350 - acc: 0.8000 - val_loss: 1.9674 - val_acc: 0.5740\n",
      "Epoch 26/2000\n",
      "140/140 [==============================] - 0s 151us/sample - loss: 1.2454 - acc: 0.8071 - val_loss: 1.9618 - val_acc: 0.5860\n",
      "Epoch 27/2000\n",
      "140/140 [==============================] - 0s 107us/sample - loss: 1.2269 - acc: 0.8143 - val_loss: 1.9590 - val_acc: 0.5840\n",
      "Epoch 28/2000\n",
      "140/140 [==============================] - 0s 109us/sample - loss: 1.2784 - acc: 0.7857 - val_loss: 1.9630 - val_acc: 0.5640\n",
      "Epoch 29/2000\n",
      "140/140 [==============================] - 0s 107us/sample - loss: 1.1896 - acc: 0.8500 - val_loss: 1.9661 - val_acc: 0.5520\n",
      "Epoch 30/2000\n",
      "140/140 [==============================] - 0s 109us/sample - loss: 1.2124 - acc: 0.8143 - val_loss: 1.9671 - val_acc: 0.5460\n",
      "Epoch 31/2000\n",
      "140/140 [==============================] - 0s 109us/sample - loss: 1.1434 - acc: 0.8429 - val_loss: 1.9599 - val_acc: 0.5440\n",
      "Epoch 32/2000\n",
      "140/140 [==============================] - 0s 105us/sample - loss: 1.1936 - acc: 0.8214 - val_loss: 1.9494 - val_acc: 0.5420\n",
      "Epoch 33/2000\n",
      "140/140 [==============================] - 0s 111us/sample - loss: 1.1604 - acc: 0.8500 - val_loss: 1.9468 - val_acc: 0.5460\n",
      "Epoch 34/2000\n",
      "140/140 [==============================] - 0s 105us/sample - loss: 1.0700 - acc: 0.8643 - val_loss: 1.9578 - val_acc: 0.5480\n",
      "Epoch 35/2000\n",
      "140/140 [==============================] - 0s 105us/sample - loss: 1.1339 - acc: 0.8429 - val_loss: 1.9630 - val_acc: 0.5340\n",
      "Epoch 36/2000\n",
      "140/140 [==============================] - 0s 110us/sample - loss: 1.0890 - acc: 0.8571 - val_loss: 1.9561 - val_acc: 0.5320\n",
      "Epoch 37/2000\n",
      "140/140 [==============================] - 0s 103us/sample - loss: 1.1828 - acc: 0.8214 - val_loss: 1.9160 - val_acc: 0.5580\n",
      "Epoch 38/2000\n",
      "140/140 [==============================] - 0s 106us/sample - loss: 1.1003 - acc: 0.8857 - val_loss: 1.8901 - val_acc: 0.5640\n",
      "Epoch 39/2000\n",
      "140/140 [==============================] - 0s 113us/sample - loss: 1.0671 - acc: 0.8571 - val_loss: 1.8867 - val_acc: 0.5640\n",
      "Epoch 40/2000\n",
      "140/140 [==============================] - 0s 101us/sample - loss: 1.0540 - acc: 0.8643 - val_loss: 1.8824 - val_acc: 0.5620\n",
      "Epoch 41/2000\n",
      "140/140 [==============================] - 0s 106us/sample - loss: 1.1059 - acc: 0.8357 - val_loss: 1.8796 - val_acc: 0.5580\n",
      "Epoch 42/2000\n",
      "140/140 [==============================] - 0s 113us/sample - loss: 1.0061 - acc: 0.8929 - val_loss: 1.8785 - val_acc: 0.5560\n",
      "Epoch 43/2000\n",
      "140/140 [==============================] - 0s 104us/sample - loss: 1.0856 - acc: 0.8786 - val_loss: 1.8749 - val_acc: 0.5460\n",
      "Epoch 44/2000\n",
      "140/140 [==============================] - 0s 105us/sample - loss: 0.9879 - acc: 0.9071 - val_loss: 1.8816 - val_acc: 0.5540\n",
      "Epoch 45/2000\n",
      "140/140 [==============================] - 0s 109us/sample - loss: 1.0490 - acc: 0.8714 - val_loss: 1.8923 - val_acc: 0.5600\n",
      "Epoch 46/2000\n",
      "140/140 [==============================] - 0s 110us/sample - loss: 1.0335 - acc: 0.8643 - val_loss: 1.8892 - val_acc: 0.5560\n",
      "Epoch 47/2000\n",
      "140/140 [==============================] - 0s 106us/sample - loss: 1.0533 - acc: 0.8571 - val_loss: 1.8825 - val_acc: 0.5560\n",
      "Epoch 48/2000\n",
      "140/140 [==============================] - 0s 105us/sample - loss: 1.0733 - acc: 0.8071 - val_loss: 1.8770 - val_acc: 0.5720\n",
      "Epoch 49/2000\n",
      "140/140 [==============================] - 0s 111us/sample - loss: 1.0197 - acc: 0.8929 - val_loss: 1.8719 - val_acc: 0.5740\n",
      "Epoch 50/2000\n",
      "140/140 [==============================] - 0s 103us/sample - loss: 1.0413 - acc: 0.8643 - val_loss: 1.8744 - val_acc: 0.5700\n",
      "Epoch 51/2000\n",
      "140/140 [==============================] - 0s 107us/sample - loss: 1.0491 - acc: 0.8429 - val_loss: 1.8777 - val_acc: 0.5740\n",
      "Epoch 52/2000\n",
      "140/140 [==============================] - 0s 106us/sample - loss: 1.0704 - acc: 0.8571 - val_loss: 1.8804 - val_acc: 0.5800\n",
      "Epoch 53/2000\n",
      "140/140 [==============================] - 0s 108us/sample - loss: 0.9827 - acc: 0.9071 - val_loss: 1.8842 - val_acc: 0.5740\n",
      "Epoch 54/2000\n",
      "140/140 [==============================] - 0s 103us/sample - loss: 1.0281 - acc: 0.8714 - val_loss: 1.8816 - val_acc: 0.5720\n",
      "Epoch 55/2000\n",
      "140/140 [==============================] - 0s 105us/sample - loss: 1.1290 - acc: 0.8071 - val_loss: 1.8862 - val_acc: 0.5580\n",
      "Epoch 56/2000\n",
      "140/140 [==============================] - 0s 108us/sample - loss: 1.0311 - acc: 0.8357 - val_loss: 1.8925 - val_acc: 0.5400\n",
      "Epoch 57/2000\n",
      "140/140 [==============================] - 0s 112us/sample - loss: 1.0093 - acc: 0.8714 - val_loss: 1.9026 - val_acc: 0.5360\n",
      "Epoch 58/2000\n",
      "140/140 [==============================] - 0s 114us/sample - loss: 1.0273 - acc: 0.8500 - val_loss: 1.9146 - val_acc: 0.5400\n",
      "Epoch 59/2000\n",
      "140/140 [==============================] - 0s 119us/sample - loss: 0.9978 - acc: 0.8571 - val_loss: 1.9072 - val_acc: 0.5500\n",
      "Epoch 60/2000\n",
      "140/140 [==============================] - 0s 117us/sample - loss: 0.9998 - acc: 0.8714 - val_loss: 1.8954 - val_acc: 0.5600\n",
      "Epoch 61/2000\n",
      "140/140 [==============================] - 0s 112us/sample - loss: 0.9704 - acc: 0.8857 - val_loss: 1.8870 - val_acc: 0.5540\n",
      "Epoch 62/2000\n",
      "140/140 [==============================] - 0s 113us/sample - loss: 1.0010 - acc: 0.8643 - val_loss: 1.8807 - val_acc: 0.5480\n",
      "Epoch 63/2000\n",
      "140/140 [==============================] - 0s 111us/sample - loss: 0.9676 - acc: 0.8857 - val_loss: 1.8809 - val_acc: 0.5500\n",
      "Epoch 64/2000\n",
      "140/140 [==============================] - 0s 104us/sample - loss: 0.9990 - acc: 0.8571 - val_loss: 1.8824 - val_acc: 0.5480\n",
      "Epoch 65/2000\n",
      "140/140 [==============================] - 0s 103us/sample - loss: 1.0131 - acc: 0.8643 - val_loss: 1.8859 - val_acc: 0.5540\n",
      "Epoch 66/2000\n",
      "140/140 [==============================] - 0s 107us/sample - loss: 0.9365 - acc: 0.8929 - val_loss: 1.8843 - val_acc: 0.5560\n",
      "Epoch 67/2000\n",
      "140/140 [==============================] - 0s 108us/sample - loss: 0.9859 - acc: 0.8500 - val_loss: 1.8831 - val_acc: 0.5420\n",
      "Epoch 68/2000\n",
      "140/140 [==============================] - 0s 103us/sample - loss: 1.0396 - acc: 0.8571 - val_loss: 1.8858 - val_acc: 0.5480\n",
      "Epoch 69/2000\n",
      "140/140 [==============================] - 0s 106us/sample - loss: 1.0208 - acc: 0.8643 - val_loss: 1.8895 - val_acc: 0.5320\n",
      "Epoch 70/2000\n",
      "140/140 [==============================] - 0s 107us/sample - loss: 1.0422 - acc: 0.8500 - val_loss: 1.8945 - val_acc: 0.5400\n",
      "Epoch 71/2000\n",
      "140/140 [==============================] - 0s 104us/sample - loss: 1.0203 - acc: 0.8571 - val_loss: 1.8979 - val_acc: 0.5340\n",
      "Epoch 72/2000\n",
      "140/140 [==============================] - 0s 112us/sample - loss: 0.9832 - acc: 0.8857 - val_loss: 1.9085 - val_acc: 0.5300\n",
      "Epoch 73/2000\n",
      "140/140 [==============================] - 0s 105us/sample - loss: 0.9091 - acc: 0.9000 - val_loss: 1.9095 - val_acc: 0.5300\n",
      "Epoch 74/2000\n",
      "140/140 [==============================] - 0s 103us/sample - loss: 0.9943 - acc: 0.8714 - val_loss: 1.9126 - val_acc: 0.5260\n",
      "Epoch 75/2000\n",
      "140/140 [==============================] - 0s 102us/sample - loss: 1.0250 - acc: 0.8786 - val_loss: 1.9050 - val_acc: 0.5340\n",
      "Epoch 76/2000\n",
      "140/140 [==============================] - 0s 105us/sample - loss: 1.0195 - acc: 0.8286 - val_loss: 1.8884 - val_acc: 0.5360\n"
     ]
    }
   ],
   "source": [
    "es_callback = EarlyStopping(\n",
    "    monitor=\"val_acc\", patience=50\n",
    ")  # patience is the number of epochs to wait before early stopping in case of no further improvement\n",
    "\n",
    "mc_callback = ModelCheckpoint(\n",
    "    \"logs/best_fc_model.h5\",\n",
    "    monitor=\"val_acc\",\n",
    "    save_best_only=True,\n",
    "    save_weights_only=True,\n",
    ")\n",
    "\n",
    "history = fully_connected_model.fit(\n",
    "    X_train,\n",
    "    train_targets,\n",
    "    validation_data=(X_val, val_targets),\n",
    "    epochs=2000,\n",
    "    batch_size=200,\n",
    "    shuffle=True,  # we can shuffle the data here as\n",
    "    callbacks=[es_callback, mc_callback],\n",
    ")  # we're only working with node features"
   ]
  },
  {
   "cell_type": "markdown",
   "metadata": {},
   "source": [
    "By itself the fully connected model only gets ~60% accuracy on the test set."
   ]
  },
  {
   "cell_type": "code",
   "execution_count": 30,
   "metadata": {},
   "outputs": [
    {
     "name": "stdout",
     "output_type": "stream",
     "text": [
      "2068/1 - 0s - loss: 1.8927 - acc: 0.5450\n",
      "\n",
      "Test Set Metrics:\n",
      "\tloss: 1.9889\n",
      "\tacc: 0.5450\n"
     ]
    }
   ],
   "source": [
    "X_test = test_data[feature_names].values.astype(np.float32)\n",
    "\n",
    "fully_connected_model.load_weights(\"logs/best_fc_model.h5\")\n",
    "test_metrics = fully_connected_model.evaluate(X_test, test_targets, verbose=2)\n",
    "print(\"\\nTest Set Metrics:\")\n",
    "for name, val in zip(fully_connected_model.metrics_names, test_metrics):\n",
    "    print(\"\\t{}: {:0.4f}\".format(name, val))"
   ]
  },
  {
   "cell_type": "markdown",
   "metadata": {},
   "source": [
    "Now we propogate the fully connected network - no extra training required and we can re-use the APPNP object we've already created. First we create an intermediate fully connected model without the softmax layer, this is to avoid propagating the softmax layer which may cause issues with further training. We then propagate this intermediate network."
   ]
  },
  {
   "cell_type": "code",
   "execution_count": 31,
   "metadata": {},
   "outputs": [],
   "source": [
    "intermediate_model = Model(\n",
    "    inputs=fully_connected_model.inputs, outputs=fully_connected_model.layers[-2].output\n",
    ")\n",
    "\n",
    "x_inp, x_out = appnp.propagate_model(intermediate_model)\n",
    "predictions = keras.layers.Softmax()(x_out)\n",
    "\n",
    "propagated_model = keras.models.Model(inputs=x_inp, outputs=predictions)\n",
    "propagated_model.compile(\n",
    "    loss=\"categorical_crossentropy\",\n",
    "    metrics=[\"acc\"],\n",
    "    optimizer=keras.optimizers.Adam(lr=0.01),\n",
    ")"
   ]
  },
  {
   "cell_type": "markdown",
   "metadata": {},
   "source": [
    "Our accuracy is better than the fully connected network by itself but less than end-to-end trained PPNP and APPNP. \n",
    "\n",
    "Note that this is partially because 140 data points isn't sufficient for the fully connected model to achieve optimal performance. As the number of training nodes increases the perfomance gap shrinks. "
   ]
  },
  {
   "cell_type": "code",
   "execution_count": 32,
   "metadata": {},
   "outputs": [
    {
     "name": "stdout",
     "output_type": "stream",
     "text": [
      "\n",
      "Test Set Metrics:\n",
      "\tloss: 1.8717\n",
      "\tacc: 0.6750\n"
     ]
    }
   ],
   "source": [
    "test_metrics = propagated_model.evaluate(test_gen)\n",
    "print(\"\\nTest Set Metrics:\")\n",
    "for name, val in zip(propagated_model.metrics_names, test_metrics):\n",
    "    print(\"\\t{}: {:0.4f}\".format(name, val))"
   ]
  },
  {
   "cell_type": "markdown",
   "metadata": {},
   "source": [
    "### Making predictions with the model"
   ]
  },
  {
   "cell_type": "markdown",
   "metadata": {},
   "source": [
    "Now let's get the predictions for all nodes."
   ]
  },
  {
   "cell_type": "code",
   "execution_count": 33,
   "metadata": {},
   "outputs": [],
   "source": [
    "all_nodes = node_data.index\n",
    "all_gen = generator.flow(all_nodes)\n",
    "all_predictions = propagated_model.predict(all_gen)"
   ]
  },
  {
   "cell_type": "markdown",
   "metadata": {},
   "source": [
    "These predictions will be the output of the softmax layer, so to get final categories we'll use the `inverse_transform` method of our target attribute specifcation to turn these values back to the original categories."
   ]
  },
  {
   "cell_type": "markdown",
   "metadata": {},
   "source": [
    "Note that for full-batch methods the batch size is 1 and the predictions have shape $(1, N_{nodes}, N_{classes})$ so we remove the batch dimension to obtain predictions of shape $(N_{nodes}, N_{classes})$ using the NumPy `squeeze` method."
   ]
  },
  {
   "cell_type": "code",
   "execution_count": 34,
   "metadata": {},
   "outputs": [],
   "source": [
    "node_predictions = target_encoding.inverse_transform(all_predictions.squeeze())"
   ]
  },
  {
   "cell_type": "markdown",
   "metadata": {},
   "source": [
    "Let's have a look at a few predictions after training the model:"
   ]
  },
  {
   "cell_type": "code",
   "execution_count": 35,
   "metadata": {},
   "outputs": [
    {
     "data": {
      "text/html": [
       "<div>\n",
       "<style scoped>\n",
       "    .dataframe tbody tr th:only-of-type {\n",
       "        vertical-align: middle;\n",
       "    }\n",
       "\n",
       "    .dataframe tbody tr th {\n",
       "        vertical-align: top;\n",
       "    }\n",
       "\n",
       "    .dataframe thead th {\n",
       "        text-align: right;\n",
       "    }\n",
       "</style>\n",
       "<table border=\"1\" class=\"dataframe\">\n",
       "  <thead>\n",
       "    <tr style=\"text-align: right;\">\n",
       "      <th></th>\n",
       "      <th>Predicted</th>\n",
       "      <th>True</th>\n",
       "    </tr>\n",
       "  </thead>\n",
       "  <tbody>\n",
       "    <tr>\n",
       "      <td>31336</td>\n",
       "      <td>subject=Neural_Networks</td>\n",
       "      <td>Neural_Networks</td>\n",
       "    </tr>\n",
       "    <tr>\n",
       "      <td>1061127</td>\n",
       "      <td>subject=Neural_Networks</td>\n",
       "      <td>Rule_Learning</td>\n",
       "    </tr>\n",
       "    <tr>\n",
       "      <td>1106406</td>\n",
       "      <td>subject=Reinforcement_Learning</td>\n",
       "      <td>Reinforcement_Learning</td>\n",
       "    </tr>\n",
       "    <tr>\n",
       "      <td>13195</td>\n",
       "      <td>subject=Reinforcement_Learning</td>\n",
       "      <td>Reinforcement_Learning</td>\n",
       "    </tr>\n",
       "    <tr>\n",
       "      <td>37879</td>\n",
       "      <td>subject=Probabilistic_Methods</td>\n",
       "      <td>Probabilistic_Methods</td>\n",
       "    </tr>\n",
       "    <tr>\n",
       "      <td>1126012</td>\n",
       "      <td>subject=Reinforcement_Learning</td>\n",
       "      <td>Probabilistic_Methods</td>\n",
       "    </tr>\n",
       "    <tr>\n",
       "      <td>1107140</td>\n",
       "      <td>subject=Case_Based</td>\n",
       "      <td>Theory</td>\n",
       "    </tr>\n",
       "    <tr>\n",
       "      <td>1102850</td>\n",
       "      <td>subject=Neural_Networks</td>\n",
       "      <td>Neural_Networks</td>\n",
       "    </tr>\n",
       "    <tr>\n",
       "      <td>31349</td>\n",
       "      <td>subject=Neural_Networks</td>\n",
       "      <td>Neural_Networks</td>\n",
       "    </tr>\n",
       "    <tr>\n",
       "      <td>1106418</td>\n",
       "      <td>subject=Neural_Networks</td>\n",
       "      <td>Theory</td>\n",
       "    </tr>\n",
       "    <tr>\n",
       "      <td>1123188</td>\n",
       "      <td>subject=Neural_Networks</td>\n",
       "      <td>Neural_Networks</td>\n",
       "    </tr>\n",
       "    <tr>\n",
       "      <td>1128990</td>\n",
       "      <td>subject=Neural_Networks</td>\n",
       "      <td>Genetic_Algorithms</td>\n",
       "    </tr>\n",
       "    <tr>\n",
       "      <td>109323</td>\n",
       "      <td>subject=Probabilistic_Methods</td>\n",
       "      <td>Probabilistic_Methods</td>\n",
       "    </tr>\n",
       "    <tr>\n",
       "      <td>217139</td>\n",
       "      <td>subject=Case_Based</td>\n",
       "      <td>Case_Based</td>\n",
       "    </tr>\n",
       "    <tr>\n",
       "      <td>31353</td>\n",
       "      <td>subject=Neural_Networks</td>\n",
       "      <td>Neural_Networks</td>\n",
       "    </tr>\n",
       "    <tr>\n",
       "      <td>32083</td>\n",
       "      <td>subject=Neural_Networks</td>\n",
       "      <td>Neural_Networks</td>\n",
       "    </tr>\n",
       "    <tr>\n",
       "      <td>1126029</td>\n",
       "      <td>subject=Neural_Networks</td>\n",
       "      <td>Reinforcement_Learning</td>\n",
       "    </tr>\n",
       "    <tr>\n",
       "      <td>1118017</td>\n",
       "      <td>subject=Neural_Networks</td>\n",
       "      <td>Neural_Networks</td>\n",
       "    </tr>\n",
       "    <tr>\n",
       "      <td>49482</td>\n",
       "      <td>subject=Neural_Networks</td>\n",
       "      <td>Neural_Networks</td>\n",
       "    </tr>\n",
       "    <tr>\n",
       "      <td>753265</td>\n",
       "      <td>subject=Neural_Networks</td>\n",
       "      <td>Neural_Networks</td>\n",
       "    </tr>\n",
       "  </tbody>\n",
       "</table>\n",
       "</div>"
      ],
      "text/plain": [
       "                              Predicted                    True\n",
       "31336           subject=Neural_Networks         Neural_Networks\n",
       "1061127         subject=Neural_Networks           Rule_Learning\n",
       "1106406  subject=Reinforcement_Learning  Reinforcement_Learning\n",
       "13195    subject=Reinforcement_Learning  Reinforcement_Learning\n",
       "37879     subject=Probabilistic_Methods   Probabilistic_Methods\n",
       "1126012  subject=Reinforcement_Learning   Probabilistic_Methods\n",
       "1107140              subject=Case_Based                  Theory\n",
       "1102850         subject=Neural_Networks         Neural_Networks\n",
       "31349           subject=Neural_Networks         Neural_Networks\n",
       "1106418         subject=Neural_Networks                  Theory\n",
       "1123188         subject=Neural_Networks         Neural_Networks\n",
       "1128990         subject=Neural_Networks      Genetic_Algorithms\n",
       "109323    subject=Probabilistic_Methods   Probabilistic_Methods\n",
       "217139               subject=Case_Based              Case_Based\n",
       "31353           subject=Neural_Networks         Neural_Networks\n",
       "32083           subject=Neural_Networks         Neural_Networks\n",
       "1126029         subject=Neural_Networks  Reinforcement_Learning\n",
       "1118017         subject=Neural_Networks         Neural_Networks\n",
       "49482           subject=Neural_Networks         Neural_Networks\n",
       "753265          subject=Neural_Networks         Neural_Networks"
      ]
     },
     "execution_count": 34,
     "metadata": {},
     "output_type": "execute_result"
    }
   ],
   "source": [
    "results = pd.DataFrame(node_predictions, index=all_nodes).idxmax(axis=1)\n",
    "df = pd.DataFrame({\"Predicted\": results, \"True\": node_data[\"subject\"]})\n",
    "df.head(20)"
   ]
  },
  {
   "cell_type": "markdown",
   "metadata": {},
   "source": [
    "Now we have an accurate model that can handle large graphs."
   ]
  },
  {
   "cell_type": "markdown",
   "metadata": {
    "tags": [
     "CloudRunner"
    ]
   },
   "source": [
    "<table><tr><td>Run this notebook:</td><td><a href=\"https://mybinder.org/v2/gh/stellargraph/stellargraph/master?filepath=demos/node-classification/ppnp/ppnp-cora-node-classification-example.ipynb\" alt=\"Open In Binder\" target=\"_parent\"><img src=\"https://mybinder.org/badge_logo.svg\"/></a></td><td><a href=\"https://colab.research.google.com/github/stellargraph/stellargraph/blob/master/demos/node-classification/ppnp/ppnp-cora-node-classification-example.ipynb\" alt=\"Open In Colab\" target=\"_parent\"><img src=\"https://colab.research.google.com/assets/colab-badge.svg\"/></a></td></tr></table>"
   ]
  }
 ],
 "metadata": {
  "kernelspec": {
   "display_name": "Python 3",
   "language": "python",
   "name": "python3"
  },
  "language_info": {
   "codemirror_mode": {
    "name": "ipython",
    "version": 3
   },
   "file_extension": ".py",
   "mimetype": "text/x-python",
   "name": "python",
   "nbconvert_exporter": "python",
   "pygments_lexer": "ipython3",
   "version": "3.6.9"
  }
 },
 "nbformat": 4,
 "nbformat_minor": 4
}
