{
 "cells": [
  {
   "cell_type": "markdown",
   "metadata": {},
   "source": [
    "# Stellargraph example: Personalised Propagation of Neural Predictions (PPNP) and Approximate PPNP (APPNP) on the CORA citation dataset"
   ]
  },
  {
   "cell_type": "markdown",
   "metadata": {},
   "source": [
    "Import NetworkX and stellargraph:"
   ]
  },
  {
   "cell_type": "code",
   "execution_count": null,
   "metadata": {},
   "outputs": [],
   "source": [
    "import networkx as nx\n",
    "import pandas as pd\n",
    "import numpy as np\n",
    "import os\n",
    "from tensorflow import keras\n",
    "from tensorflow.keras import backend as K\n",
    "from tensorflow.keras.callbacks import EarlyStopping, ModelCheckpoint\n",
    "\n",
    "import stellargraph as sg\n",
    "from stellargraph.mapper import FullBatchNodeGenerator\n",
    "from stellargraph.layer.ppnp import PPNP\n",
    "from stellargraph.layer.appnp import APPNP\n",
    "\n",
    "from tensorflow.keras import layers, optimizers, losses, metrics, Model\n",
    "from sklearn import preprocessing, feature_extraction, model_selection"
   ]
  },
  {
   "cell_type": "markdown",
   "metadata": {},
   "source": [
    "### Loading the CORA network"
   ]
  },
  {
   "cell_type": "markdown",
   "metadata": {},
   "source": [
    "**Downloading the CORA dataset:**\n",
    "    \n",
    "The dataset used in this demo can be downloaded from [here](https://linqs-data.soe.ucsc.edu/public/lbc/cora.tgz).\n",
    "\n",
    "The following is the description of the dataset:\n",
    "> The Cora dataset consists of 2708 scientific publications classified into one of seven classes.\n",
    "> The citation network consists of 5429 links. Each publication in the dataset is described by a\n",
    "> 0/1-valued word vector indicating the absence/presence of the corresponding word from the dictionary.\n",
    "> The dictionary consists of 1433 unique words. The README file in the dataset provides more details.\n",
    "\n",
    "Download and unzip the cora.tgz file to a location on your computer and set the `data_dir` variable to\n",
    "point to the location of the dataset (the directory containing \"cora.cites\" and \"cora.content\")."
   ]
  },
  {
   "cell_type": "code",
   "execution_count": 2,
   "metadata": {},
   "outputs": [],
   "source": [
    "data_dir = os.path.join(\"~\", \"data\", \"cora\")"
   ]
  },
  {
   "cell_type": "markdown",
   "metadata": {},
   "source": [
    "Load the graph from edgelist (in the order `cited-paper` <- `citing-paper`)"
   ]
  },
  {
   "cell_type": "code",
   "execution_count": 3,
   "metadata": {},
   "outputs": [],
   "source": [
    "edgelist = pd.read_csv(os.path.join(data_dir, \"cora.cites\"), sep='\\t', header=None, names=[\"target\", \"source\"])\n",
    "edgelist[\"label\"] = \"cites\""
   ]
  },
  {
   "cell_type": "code",
   "execution_count": 4,
   "metadata": {},
   "outputs": [],
   "source": [
    "Gnx = nx.from_pandas_edgelist(edgelist, edge_attr=\"label\")"
   ]
  },
  {
   "cell_type": "code",
   "execution_count": 5,
   "metadata": {},
   "outputs": [],
   "source": [
    "nx.set_node_attributes(Gnx, \"paper\", \"label\")"
   ]
  },
  {
   "cell_type": "markdown",
   "metadata": {},
   "source": [
    "Load the features and subject for the nodes"
   ]
  },
  {
   "cell_type": "code",
   "execution_count": 6,
   "metadata": {},
   "outputs": [],
   "source": [
    "feature_names = [\"w_{}\".format(ii) for ii in range(1433)]\n",
    "column_names =  feature_names + [\"subject\"]\n",
    "node_data = pd.read_csv(os.path.join(data_dir, \"cora.content\"), sep='\\t', header=None, names=column_names)"
   ]
  },
  {
   "cell_type": "markdown",
   "metadata": {},
   "source": [
    "We aim to train a graph-ML model that will predict the \"subject\" attribute on the nodes. These subjects are one of 7 categories:"
   ]
  },
  {
   "cell_type": "code",
   "execution_count": 7,
   "metadata": {},
   "outputs": [
    {
     "data": {
      "text/plain": [
       "{'Case_Based',\n",
       " 'Genetic_Algorithms',\n",
       " 'Neural_Networks',\n",
       " 'Probabilistic_Methods',\n",
       " 'Reinforcement_Learning',\n",
       " 'Rule_Learning',\n",
       " 'Theory'}"
      ]
     },
     "execution_count": 7,
     "metadata": {},
     "output_type": "execute_result"
    }
   ],
   "source": [
    "set(node_data[\"subject\"])"
   ]
  },
  {
   "cell_type": "markdown",
   "metadata": {},
   "source": [
    "### Splitting the data"
   ]
  },
  {
   "cell_type": "markdown",
   "metadata": {},
   "source": [
    "For machine learning we want to take a subset of the nodes for training, and use the rest for validation and testing. We'll use scikit-learn again to do this.\n",
    "\n",
    "Here we're taking 140 node labels for training, 500 for validation, and the rest for testing."
   ]
  },
  {
   "cell_type": "code",
   "execution_count": 8,
   "metadata": {},
   "outputs": [],
   "source": [
    "train_data, test_data = model_selection.train_test_split(\n",
    "    node_data, train_size=140, test_size=None, stratify=node_data['subject']\n",
    ")\n",
    "val_data, test_data = model_selection.train_test_split(\n",
    "    test_data, train_size=500, test_size=None, stratify=test_data['subject']\n",
    ")"
   ]
  },
  {
   "cell_type": "markdown",
   "metadata": {},
   "source": [
    "Note using stratified sampling gives the following counts:"
   ]
  },
  {
   "cell_type": "code",
   "execution_count": 9,
   "metadata": {},
   "outputs": [
    {
     "data": {
      "text/plain": [
       "Counter({'Theory': 18,\n",
       "         'Neural_Networks': 42,\n",
       "         'Reinforcement_Learning': 11,\n",
       "         'Probabilistic_Methods': 22,\n",
       "         'Genetic_Algorithms': 22,\n",
       "         'Rule_Learning': 9,\n",
       "         'Case_Based': 16})"
      ]
     },
     "execution_count": 9,
     "metadata": {},
     "output_type": "execute_result"
    }
   ],
   "source": [
    "from collections import Counter\n",
    "Counter(train_data['subject'])"
   ]
  },
  {
   "cell_type": "markdown",
   "metadata": {},
   "source": [
    "The training set has class imbalance that might need to be compensated, e.g., via using a weighted cross-entropy loss in model training, with class weights inversely proportional to class support. However, we will ignore the class imbalance in this example, for simplicity."
   ]
  },
  {
   "cell_type": "markdown",
   "metadata": {},
   "source": [
    "### Converting to numeric arrays"
   ]
  },
  {
   "cell_type": "markdown",
   "metadata": {},
   "source": [
    "For our categorical target, we will use one-hot vectors that will be fed into a soft-max Keras layer during training. To do this conversion ..."
   ]
  },
  {
   "cell_type": "code",
   "execution_count": 10,
   "metadata": {},
   "outputs": [],
   "source": [
    "target_encoding = feature_extraction.DictVectorizer(sparse=False)\n",
    "\n",
    "train_targets = target_encoding.fit_transform(train_data[[\"subject\"]].to_dict('records'))\n",
    "val_targets = target_encoding.transform(val_data[[\"subject\"]].to_dict('records'))\n",
    "test_targets = target_encoding.transform(test_data[[\"subject\"]].to_dict('records'))"
   ]
  },
  {
   "cell_type": "markdown",
   "metadata": {},
   "source": [
    "We now do the same for the node attributes we want to use to predict the subject. These are the feature vectors that the Keras model will use as input. The CORA dataset contains attributes 'w_x' that correspond to words found in that publication. If a word occurs more than once in a publication the relevant attribute will be set to one, otherwise it will be zero."
   ]
  },
  {
   "cell_type": "code",
   "execution_count": 11,
   "metadata": {},
   "outputs": [],
   "source": [
    "node_features = node_data[feature_names]"
   ]
  },
  {
   "cell_type": "markdown",
   "metadata": {},
   "source": [
    "## Creating the PPNP model in Keras"
   ]
  },
  {
   "cell_type": "markdown",
   "metadata": {},
   "source": [
    "Now create a StellarGraph object from the NetworkX graph and the node features and targets. It is StellarGraph objects that we use in this library to perform machine learning tasks on."
   ]
  },
  {
   "cell_type": "code",
   "execution_count": 12,
   "metadata": {},
   "outputs": [],
   "source": [
    "G = sg.StellarGraph(Gnx, node_features=node_features)"
   ]
  },
  {
   "cell_type": "code",
   "execution_count": 13,
   "metadata": {},
   "outputs": [
    {
     "name": "stdout",
     "output_type": "stream",
     "text": [
      "StellarGraph: Undirected multigraph\n",
      " Nodes: 2708, Edges: 5278\n",
      "\n",
      " Node types:\n",
      "  paper: [2708]\n",
      "    Edge types: paper-cites->paper\n",
      "\n",
      " Edge types:\n",
      "    paper-cites->paper: [5278]\n",
      "\n"
     ]
    }
   ],
   "source": [
    "print(G.info())"
   ]
  },
  {
   "cell_type": "markdown",
   "metadata": {},
   "source": [
    "To feed data from the graph to the Keras model we need a generator. Since PPNP is a full-batch model, we use the `FullBatchNodeGenerator` class to feed node features and the normalized graph Laplacian matrix to the model.\n",
    "\n",
    "Specifying the `method='ppnp'` argument to the `FullBatchNodeGenerator` will pre-process the adjacency matrix and supply the personalized page rank matrix necessary for PPNP.  The personalized page rank matrix is a dense matrix and so `sparse=False` must be passed to `FullBatchNodeGenerator`. `teleport_probability=0.1` specifies the probability of returning to the starting node in the propogation step as desribed in the paper (alpha in the paper). "
   ]
  },
  {
   "cell_type": "code",
   "execution_count": 14,
   "metadata": {},
   "outputs": [],
   "source": [
    "generator = FullBatchNodeGenerator(G, \n",
    "                                   method=\"ppnp\", \n",
    "                                   sparse=False, \n",
    "                                   teleport_probability=0.1\n",
    "                                  )"
   ]
  },
  {
   "cell_type": "markdown",
   "metadata": {},
   "source": [
    "For training we map only the training nodes returned from our splitter and the target values."
   ]
  },
  {
   "cell_type": "code",
   "execution_count": 15,
   "metadata": {},
   "outputs": [],
   "source": [
    "train_gen = generator.flow(train_data.index, train_targets)"
   ]
  },
  {
   "cell_type": "markdown",
   "metadata": {},
   "source": [
    "Now we can specify our machine learning model, we need a few more parameters for this:\n",
    "\n",
    " * the `layer_sizes` is a list of hidden feature sizes of each full fully connected layer in the model. In this example we use three fully connected layers with 64,64, and 7 hidden node features at each layer. \n",
    " * `activations` is a list of activations applied to each layer's output\n",
    " * `dropout=0.5` specifies a 50% dropout at each layer. \n",
    " * `kernel_regularizer=keras.regularizers.l2(0.001)` specifies a penality that prevents the model weights from become too large and helps limit overfitting\n",
    " \n",
    " #### Note that the size of the final fully connected layer must be equal to the number of classes you are trying to predict.\n"
   ]
  },
  {
   "cell_type": "markdown",
   "metadata": {},
   "source": [
    "We create a PPNP model as follows:"
   ]
  },
  {
   "cell_type": "code",
   "execution_count": null,
   "metadata": {},
   "outputs": [],
   "source": [
    "ppnp = PPNP(layer_sizes=[64, 64, train_targets.shape[-1]], \n",
    "            activations=['relu', 'relu', 'relu'], \n",
    "            generator=generator, \n",
    "            dropout=0.5, \n",
    "            kernel_regularizer=keras.regularizers.l2(0.001))\n",
    "\n",
    "x_inp, x_out = ppnp.node_model()\n",
    "predictions = keras.layers.Softmax()(x_out)"
   ]
  },
  {
   "cell_type": "markdown",
   "metadata": {},
   "source": [
    "### Training the model"
   ]
  },
  {
   "cell_type": "markdown",
   "metadata": {},
   "source": [
    "Now let's create the actual Keras model with the input tensors `x_inp` and output tensors being the predictions `predictions` from the final dense layer"
   ]
  },
  {
   "cell_type": "code",
   "execution_count": 17,
   "metadata": {},
   "outputs": [],
   "source": [
    "ppnp_model = Model(inputs=x_inp, outputs=predictions)\n",
    "ppnp_model.compile(\n",
    "    optimizer=optimizers.Adam(lr=0.01),\n",
    "    loss=losses.categorical_crossentropy,\n",
    "    metrics=[\"acc\"],\n",
    ")"
   ]
  },
  {
   "cell_type": "markdown",
   "metadata": {},
   "source": [
    "Train the model, keeping track of its loss and accuracy on the training set, and its generalisation performance on the validation set (we need to create another generator over the validation data for this)"
   ]
  },
  {
   "cell_type": "code",
   "execution_count": 18,
   "metadata": {},
   "outputs": [],
   "source": [
    "val_gen = generator.flow(val_data.index, val_targets)"
   ]
  },
  {
   "cell_type": "markdown",
   "metadata": {},
   "source": [
    "Create callbacks for early stopping (if validation accuracy stops improving) and best model checkpoint saving:"
   ]
  },
  {
   "cell_type": "code",
   "execution_count": 19,
   "metadata": {},
   "outputs": [],
   "source": [
    "if not os.path.isdir(\"logs\"):\n",
    "    os.makedirs(\"logs\")"
   ]
  },
  {
   "cell_type": "code",
   "execution_count": 20,
   "metadata": {},
   "outputs": [],
   "source": [
    "es_callback = EarlyStopping(monitor=\"val_acc\", patience=50)  # patience is the number of epochs to wait before early stopping in case of no further improvement\n",
    "\n",
    "mc_callback = ModelCheckpoint(\n",
    "    \"logs/best_ppnp_model.h5\",\n",
    "    monitor=\"val_acc\",\n",
    "    save_best_only=True,\n",
    "    save_weights_only=True,\n",
    ")"
   ]
  },
  {
   "cell_type": "markdown",
   "metadata": {},
   "source": [
    "Train the model"
   ]
  },
  {
   "cell_type": "code",
   "execution_count": 21,
   "metadata": {},
   "outputs": [
    {
     "name": "stdout",
     "output_type": "stream",
     "text": [
      "Epoch 1/80\n",
      "1/1 - 1s - loss: 2.1525 - acc: 0.1286 - val_loss: 2.0788 - val_acc: 0.3020\n",
      "Epoch 2/80\n",
      "1/1 - 0s - loss: 2.0882 - acc: 0.2429 - val_loss: 2.0183 - val_acc: 0.3020\n",
      "Epoch 3/80\n",
      "1/1 - 0s - loss: 2.0031 - acc: 0.3000 - val_loss: 1.9671 - val_acc: 0.3020\n",
      "Epoch 4/80\n",
      "1/1 - 0s - loss: 1.9469 - acc: 0.3000 - val_loss: 1.9221 - val_acc: 0.3020\n",
      "Epoch 5/80\n",
      "1/1 - 0s - loss: 1.9304 - acc: 0.2857 - val_loss: 1.8697 - val_acc: 0.3020\n",
      "Epoch 6/80\n",
      "1/1 - 0s - loss: 1.8542 - acc: 0.2929 - val_loss: 1.8108 - val_acc: 0.3020\n",
      "Epoch 7/80\n",
      "1/1 - 0s - loss: 1.8126 - acc: 0.3286 - val_loss: 1.7538 - val_acc: 0.3480\n",
      "Epoch 8/80\n",
      "1/1 - 0s - loss: 1.7497 - acc: 0.3786 - val_loss: 1.6931 - val_acc: 0.5500\n",
      "Epoch 9/80\n",
      "1/1 - 0s - loss: 1.6410 - acc: 0.5000 - val_loss: 1.6197 - val_acc: 0.6240\n",
      "Epoch 10/80\n",
      "1/1 - 0s - loss: 1.6530 - acc: 0.5000 - val_loss: 1.5356 - val_acc: 0.6500\n",
      "Epoch 11/80\n",
      "1/1 - 0s - loss: 1.5476 - acc: 0.5357 - val_loss: 1.4463 - val_acc: 0.6680\n",
      "Epoch 12/80\n",
      "1/1 - 0s - loss: 1.5017 - acc: 0.5786 - val_loss: 1.3664 - val_acc: 0.6760\n",
      "Epoch 13/80\n",
      "1/1 - 0s - loss: 1.2997 - acc: 0.6214 - val_loss: 1.3053 - val_acc: 0.7040\n",
      "Epoch 14/80\n",
      "1/1 - 0s - loss: 1.3940 - acc: 0.5786 - val_loss: 1.2499 - val_acc: 0.7100\n",
      "Epoch 15/80\n",
      "1/1 - 0s - loss: 1.2467 - acc: 0.6786 - val_loss: 1.1947 - val_acc: 0.7160\n",
      "Epoch 16/80\n",
      "1/1 - 0s - loss: 1.1855 - acc: 0.7214 - val_loss: 1.1338 - val_acc: 0.7320\n",
      "Epoch 17/80\n",
      "1/1 - 0s - loss: 1.2168 - acc: 0.6786 - val_loss: 1.0954 - val_acc: 0.7380\n",
      "Epoch 18/80\n",
      "1/1 - 0s - loss: 1.1280 - acc: 0.7357 - val_loss: 1.0728 - val_acc: 0.7620\n",
      "Epoch 19/80\n",
      "1/1 - 0s - loss: 1.0802 - acc: 0.7286 - val_loss: 1.0563 - val_acc: 0.7800\n",
      "Epoch 20/80\n",
      "1/1 - 0s - loss: 1.1305 - acc: 0.6929 - val_loss: 1.0542 - val_acc: 0.7880\n",
      "Epoch 21/80\n",
      "1/1 - 0s - loss: 1.0374 - acc: 0.7429 - val_loss: 1.0647 - val_acc: 0.7660\n",
      "Epoch 22/80\n",
      "1/1 - 0s - loss: 1.1147 - acc: 0.7357 - val_loss: 1.0660 - val_acc: 0.7440\n",
      "Epoch 23/80\n",
      "1/1 - 0s - loss: 0.9945 - acc: 0.7714 - val_loss: 1.0629 - val_acc: 0.7200\n",
      "Epoch 24/80\n",
      "1/1 - 0s - loss: 1.0694 - acc: 0.7571 - val_loss: 1.0467 - val_acc: 0.7240\n",
      "Epoch 25/80\n",
      "1/1 - 0s - loss: 0.9507 - acc: 0.7571 - val_loss: 1.0277 - val_acc: 0.7280\n",
      "Epoch 26/80\n",
      "1/1 - 0s - loss: 1.0388 - acc: 0.7429 - val_loss: 1.0135 - val_acc: 0.7440\n",
      "Epoch 27/80\n",
      "1/1 - 0s - loss: 0.8738 - acc: 0.8000 - val_loss: 1.0001 - val_acc: 0.7560\n",
      "Epoch 28/80\n",
      "1/1 - 0s - loss: 0.8380 - acc: 0.8214 - val_loss: 0.9788 - val_acc: 0.7800\n",
      "Epoch 29/80\n",
      "1/1 - 0s - loss: 1.0035 - acc: 0.7643 - val_loss: 0.9620 - val_acc: 0.7860\n",
      "Epoch 30/80\n",
      "1/1 - 0s - loss: 0.8762 - acc: 0.8214 - val_loss: 0.9586 - val_acc: 0.7920\n",
      "Epoch 31/80\n",
      "1/1 - 0s - loss: 0.9075 - acc: 0.7857 - val_loss: 0.9599 - val_acc: 0.7820\n",
      "Epoch 32/80\n",
      "1/1 - 0s - loss: 0.8516 - acc: 0.8429 - val_loss: 0.9582 - val_acc: 0.7860\n",
      "Epoch 33/80\n",
      "1/1 - 0s - loss: 0.8022 - acc: 0.8500 - val_loss: 0.9575 - val_acc: 0.7800\n",
      "Epoch 34/80\n",
      "1/1 - 0s - loss: 0.8155 - acc: 0.8714 - val_loss: 0.9621 - val_acc: 0.7780\n",
      "Epoch 35/80\n",
      "1/1 - 0s - loss: 0.8446 - acc: 0.8357 - val_loss: 0.9657 - val_acc: 0.7820\n",
      "Epoch 36/80\n",
      "1/1 - 0s - loss: 0.8271 - acc: 0.8000 - val_loss: 0.9616 - val_acc: 0.7840\n",
      "Epoch 37/80\n",
      "1/1 - 0s - loss: 0.8237 - acc: 0.8214 - val_loss: 0.9515 - val_acc: 0.7920\n",
      "Epoch 38/80\n",
      "1/1 - 0s - loss: 0.7729 - acc: 0.8571 - val_loss: 0.9398 - val_acc: 0.8040\n",
      "Epoch 39/80\n",
      "1/1 - 0s - loss: 0.7770 - acc: 0.8929 - val_loss: 0.9330 - val_acc: 0.8000\n",
      "Epoch 40/80\n",
      "1/1 - 0s - loss: 0.8008 - acc: 0.8357 - val_loss: 0.9295 - val_acc: 0.7960\n",
      "Epoch 41/80\n",
      "1/1 - 0s - loss: 0.7941 - acc: 0.8429 - val_loss: 0.9234 - val_acc: 0.7940\n",
      "Epoch 42/80\n",
      "1/1 - 0s - loss: 0.7006 - acc: 0.8714 - val_loss: 0.9132 - val_acc: 0.7980\n",
      "Epoch 43/80\n",
      "1/1 - 0s - loss: 0.7399 - acc: 0.8571 - val_loss: 0.9033 - val_acc: 0.8140\n",
      "Epoch 44/80\n",
      "1/1 - 0s - loss: 0.6712 - acc: 0.9214 - val_loss: 0.9009 - val_acc: 0.8100\n",
      "Epoch 45/80\n",
      "1/1 - 0s - loss: 0.8443 - acc: 0.8286 - val_loss: 0.9072 - val_acc: 0.8200\n",
      "Epoch 46/80\n",
      "1/1 - 0s - loss: 0.7434 - acc: 0.8643 - val_loss: 0.9216 - val_acc: 0.8100\n",
      "Epoch 47/80\n",
      "1/1 - 0s - loss: 0.6723 - acc: 0.9000 - val_loss: 0.9343 - val_acc: 0.7940\n",
      "Epoch 48/80\n",
      "1/1 - 0s - loss: 0.7227 - acc: 0.9000 - val_loss: 0.9510 - val_acc: 0.7940\n",
      "Epoch 49/80\n",
      "1/1 - 0s - loss: 0.7812 - acc: 0.8357 - val_loss: 0.9738 - val_acc: 0.7920\n",
      "Epoch 50/80\n",
      "1/1 - 0s - loss: 0.6907 - acc: 0.8929 - val_loss: 0.9802 - val_acc: 0.7900\n",
      "Epoch 51/80\n",
      "1/1 - 0s - loss: 0.7267 - acc: 0.8643 - val_loss: 0.9754 - val_acc: 0.7920\n",
      "Epoch 52/80\n",
      "1/1 - 0s - loss: 0.6591 - acc: 0.8929 - val_loss: 0.9679 - val_acc: 0.7920\n",
      "Epoch 53/80\n",
      "1/1 - 0s - loss: 0.6471 - acc: 0.8857 - val_loss: 0.9496 - val_acc: 0.8000\n",
      "Epoch 54/80\n",
      "1/1 - 0s - loss: 0.7725 - acc: 0.8357 - val_loss: 0.9290 - val_acc: 0.8040\n",
      "Epoch 55/80\n",
      "1/1 - 0s - loss: 0.7124 - acc: 0.8786 - val_loss: 0.9210 - val_acc: 0.8000\n",
      "Epoch 56/80\n",
      "1/1 - 0s - loss: 0.7330 - acc: 0.8714 - val_loss: 0.9164 - val_acc: 0.8000\n",
      "Epoch 57/80\n",
      "1/1 - 0s - loss: 0.6810 - acc: 0.8929 - val_loss: 0.9079 - val_acc: 0.8040\n",
      "Epoch 58/80\n",
      "1/1 - 0s - loss: 0.7183 - acc: 0.9071 - val_loss: 0.9048 - val_acc: 0.8040\n",
      "Epoch 59/80\n",
      "1/1 - 0s - loss: 0.6788 - acc: 0.9000 - val_loss: 0.8991 - val_acc: 0.8080\n",
      "Epoch 60/80\n",
      "1/1 - 0s - loss: 0.6889 - acc: 0.9143 - val_loss: 0.8957 - val_acc: 0.8060\n",
      "Epoch 61/80\n",
      "1/1 - 0s - loss: 0.7684 - acc: 0.8643 - val_loss: 0.8980 - val_acc: 0.8020\n",
      "Epoch 62/80\n",
      "1/1 - 0s - loss: 0.7634 - acc: 0.8357 - val_loss: 0.9091 - val_acc: 0.8040\n",
      "Epoch 63/80\n",
      "1/1 - 0s - loss: 0.6690 - acc: 0.9071 - val_loss: 0.9278 - val_acc: 0.8000\n",
      "Epoch 64/80\n",
      "1/1 - 0s - loss: 0.6818 - acc: 0.8714 - val_loss: 0.9322 - val_acc: 0.8020\n",
      "Epoch 65/80\n",
      "1/1 - 0s - loss: 0.6387 - acc: 0.9143 - val_loss: 0.9356 - val_acc: 0.7980\n",
      "Epoch 66/80\n",
      "1/1 - 0s - loss: 0.6369 - acc: 0.9071 - val_loss: 0.9385 - val_acc: 0.8060\n",
      "Epoch 67/80\n",
      "1/1 - 0s - loss: 0.6136 - acc: 0.9071 - val_loss: 0.9446 - val_acc: 0.8000\n",
      "Epoch 68/80\n",
      "1/1 - 0s - loss: 0.5916 - acc: 0.9071 - val_loss: 0.9552 - val_acc: 0.7960\n",
      "Epoch 69/80\n",
      "1/1 - 0s - loss: 0.6245 - acc: 0.9214 - val_loss: 0.9609 - val_acc: 0.7960\n",
      "Epoch 70/80\n",
      "1/1 - 0s - loss: 0.6470 - acc: 0.8929 - val_loss: 0.9554 - val_acc: 0.8020\n",
      "Epoch 71/80\n",
      "1/1 - 0s - loss: 0.8089 - acc: 0.8571 - val_loss: 0.9351 - val_acc: 0.8060\n",
      "Epoch 72/80\n",
      "1/1 - 0s - loss: 0.6450 - acc: 0.8929 - val_loss: 0.9061 - val_acc: 0.8180\n",
      "Epoch 73/80\n",
      "1/1 - 0s - loss: 0.5591 - acc: 0.9071 - val_loss: 0.8914 - val_acc: 0.8200\n",
      "Epoch 74/80\n",
      "1/1 - 0s - loss: 0.6305 - acc: 0.8929 - val_loss: 0.8849 - val_acc: 0.8140\n",
      "Epoch 75/80\n",
      "1/1 - 0s - loss: 0.7632 - acc: 0.8500 - val_loss: 0.8780 - val_acc: 0.8080\n",
      "Epoch 76/80\n",
      "1/1 - 0s - loss: 0.5499 - acc: 0.9286 - val_loss: 0.8736 - val_acc: 0.8160\n",
      "Epoch 77/80\n",
      "1/1 - 0s - loss: 0.6362 - acc: 0.9071 - val_loss: 0.8749 - val_acc: 0.8140\n",
      "Epoch 78/80\n",
      "1/1 - 0s - loss: 0.6568 - acc: 0.9143 - val_loss: 0.8797 - val_acc: 0.8140\n",
      "Epoch 79/80\n",
      "1/1 - 0s - loss: 0.5999 - acc: 0.9357 - val_loss: 0.8893 - val_acc: 0.8160\n",
      "Epoch 80/80\n",
      "1/1 - 0s - loss: 0.5926 - acc: 0.9214 - val_loss: 0.9056 - val_acc: 0.8120\n"
     ]
    }
   ],
   "source": [
    "history = ppnp_model.fit_generator(\n",
    "    train_gen,\n",
    "    epochs=80,\n",
    "    validation_data=val_gen,\n",
    "    verbose=2,\n",
    "    shuffle=False,  # this should be False, since shuffling data means shuffling the whole graph\n",
    "    callbacks=[es_callback, mc_callback],\n",
    ")"
   ]
  },
  {
   "cell_type": "markdown",
   "metadata": {},
   "source": [
    "Plot the training history:"
   ]
  },
  {
   "cell_type": "code",
   "execution_count": 22,
   "metadata": {},
   "outputs": [],
   "source": [
    "import matplotlib.pyplot as plt\n",
    "%matplotlib inline\n",
    "\n",
    "def remove_prefix(text, prefix):\n",
    "    return text[text.startswith(prefix) and len(prefix):]\n",
    "\n",
    "def plot_history(history):\n",
    "    metrics = sorted(set([remove_prefix(m, \"val_\") for m in list(history.history.keys())]))\n",
    "    for m in metrics:\n",
    "        # summarize history for metric m\n",
    "        plt.plot(history.history[m])\n",
    "        plt.plot(history.history['val_' + m])\n",
    "        plt.title(m)\n",
    "        plt.ylabel(m)\n",
    "        plt.xlabel('epoch')\n",
    "        plt.legend(['train', 'validation'], loc='best')\n",
    "        plt.show()"
   ]
  },
  {
   "cell_type": "code",
   "execution_count": 23,
   "metadata": {},
   "outputs": [
    {
     "data": {
      "image/png": "[encoded data removed]",
      "text/plain": [
       "<Figure size 432x288 with 1 Axes>"
      ]
     },
     "metadata": {
      "needs_background": "light"
     },
     "output_type": "display_data"
    },
    {
     "data": {
      "image/png": "[encoded data removed]",
      "text/plain": [
       "<Figure size 432x288 with 1 Axes>"
      ]
     },
     "metadata": {
      "needs_background": "light"
     },
     "output_type": "display_data"
    }
   ],
   "source": [
    "plot_history(history)"
   ]
  },
  {
   "cell_type": "markdown",
   "metadata": {},
   "source": [
    "Reload the saved weights of the best model found during the training (according to validation accuracy)"
   ]
  },
  {
   "cell_type": "code",
   "execution_count": 24,
   "metadata": {},
   "outputs": [],
   "source": [
    "ppnp_model.load_weights(\"logs/best_ppnp_model.h5\")"
   ]
  },
  {
   "cell_type": "markdown",
   "metadata": {},
   "source": [
    "Evaluate the best model on the test set"
   ]
  },
  {
   "cell_type": "code",
   "execution_count": 25,
   "metadata": {},
   "outputs": [],
   "source": [
    "test_gen = generator.flow(test_data.index, test_targets)"
   ]
  },
  {
   "cell_type": "code",
   "execution_count": 26,
   "metadata": {},
   "outputs": [
    {
     "name": "stdout",
     "output_type": "stream",
     "text": [
      "\n",
      "Test Set Metrics:\n",
      "\tloss: 0.9084\n",
      "\tacc: 0.8100\n"
     ]
    }
   ],
   "source": [
    "test_metrics = ppnp_model.evaluate_generator(test_gen)\n",
    "print(\"\\nTest Set Metrics:\")\n",
    "for name, val in zip(ppnp_model.metrics_names, test_metrics):\n",
    "    print(\"\\t{}: {:0.4f}\".format(name, val))"
   ]
  },
  {
   "cell_type": "markdown",
   "metadata": {},
   "source": [
    "## Using the Approximate PPNP Model\n",
    "\n",
    "Lets repeat the training and testing steps with the APPNP model using the same dataset. The downside of the PPNP is that you have to invert the adjacency matrix - which is time inneficient for large graphs - and store that invert matrix - which is space innefficient. The approximate model avoids this issue by using a clever mathematical trick. \n",
    "\n",
    "The APPNP model uses the normalized graph Laplacian. To get the normalized graph Laplacian we create a new `FullBatchNodeGenerator` and set `method=\"gcn\"`. We have the option of choosing `sparse=True` or `sparse=False` but will use `sparse=True` for memory efficiency."
   ]
  },
  {
   "cell_type": "code",
   "execution_count": null,
   "metadata": {},
   "outputs": [],
   "source": [
    "generator = FullBatchNodeGenerator(G, method=\"gcn\", sparse=True)\n",
    "\n",
    "train_gen = generator.flow(train_data.index, train_targets)\n",
    "val_gen = generator.flow(val_data.index, val_targets)\n",
    "test_gen = generator.flow(test_data.index, test_targets)\n",
    "\n",
    "appnp = APPNP(layer_sizes=[64, 64, train_targets.shape[-1]], \n",
    "              activations=['relu', 'relu', 'relu'], \n",
    "              bias=True,\n",
    "              generator=generator, \n",
    "              teleport_probability=0.1, \n",
    "              dropout=0.5, \n",
    "              kernel_regularizer=keras.regularizers.l2(0.001)\n",
    ")\n",
    "\n",
    "x_inp, x_out = appnp.node_model()\n",
    "predictions = keras.layers.Softmax()(x_out)\n",
    "\n",
    "appnp_model = keras.models.Model(inputs=x_inp, outputs=predictions)\n",
    "appnp_model.compile(loss='categorical_crossentropy', metrics=['acc'],\n",
    "                  optimizer=keras.optimizers.Adam(lr=0.01))\n",
    "\n",
    "es_callback = EarlyStopping(monitor=\"val_acc\", patience=50)  # patience is the number of epochs to wait before early stopping in case of no further improvement\n",
    "\n",
    "mc_callback = ModelCheckpoint(\n",
    "    \"logs/best_appnp_model.h5\",\n",
    "    monitor=\"val_acc\",\n",
    "    save_best_only=True,\n",
    "    save_weights_only=True,\n",
    ")\n",
    "\n",
    "history = appnp_model.fit_generator(\n",
    "    train_gen,\n",
    "    epochs=120,\n",
    "    validation_data=val_gen,\n",
    "    verbose=2,\n",
    "    shuffle=False,  # this should be False, since shuffling data means shuffling the whole graph\n",
    "    callbacks=[es_callback, mc_callback],\n",
    ")"
   ]
  },
  {
   "cell_type": "code",
   "execution_count": 28,
   "metadata": {},
   "outputs": [
    {
     "data": {
      "image/png": "[encoded data removed]",
      "text/plain": [
       "<Figure size 432x288 with 1 Axes>"
      ]
     },
     "metadata": {
      "needs_background": "light"
     },
     "output_type": "display_data"
    },
    {
     "data": {
      "image/png": "[encoded data removed]",
      "text/plain": [
       "<Figure size 432x288 with 1 Axes>"
      ]
     },
     "metadata": {
      "needs_background": "light"
     },
     "output_type": "display_data"
    }
   ],
   "source": [
    "plot_history(history)"
   ]
  },
  {
   "cell_type": "code",
   "execution_count": 29,
   "metadata": {},
   "outputs": [
    {
     "name": "stdout",
     "output_type": "stream",
     "text": [
      "\n",
      "Test Set Metrics:\n",
      "\tloss: 1.0585\n",
      "\tacc: 0.7829\n"
     ]
    }
   ],
   "source": [
    "appnp_model.load_weights(\"logs/best_appnp_model.h5\")\n",
    "test_metrics = appnp_model.evaluate_generator(test_gen)\n",
    "print(\"\\nTest Set Metrics:\")\n",
    "for name, val in zip(appnp_model.metrics_names, test_metrics):\n",
    "    print(\"\\t{}: {:0.4f}\".format(name, val))"
   ]
  },
  {
   "cell_type": "markdown",
   "metadata": {},
   "source": [
    "### Scalable APPNP Training\n",
    "\n",
    "Now we're going to exploit the structure of PPNP for scalable training. PPNP consists of a fully-connected neural network followed by a graph propogation step. For each node, the fully-connected network outputs a score for each class and the propogaiton step basically takes a weighted average of scores of nearby nodes (closer nodes are weighted higher). \n",
    "\n",
    "Above, we trained the whole network end-to-end which obtains the most accurate results but  requires us to load the entire graph onto our GPU memory. This is because we need the entire graph for the propogation step. Unfortunately, this limits the graph size by our GPU memory. To get around this, we can train the fully-connected network separately and once we have a trained fully connected network we can add the graph propagation step.  The advantage of this approach is that we can train on batches of node features instead of the entire graph.\n",
    "\n",
    "The model in the propagation step can be any keras model trained on node features to predict the target classes. In this example we use a fully connected neural network with bag of word features as input. We could easily swap out the bag of words features for the complete text and replace the fully connected network with a state-of-the-art NLP model (for example BERT [1]), fine-tune the model and propagate its predictions.\n",
    "\n",
    "\n",
    "<br>\n",
    "\n",
    "1. Devlin, J., Chang, M. W., Lee, K., & Toutanova, K. (2018). Bert: Pre-training of deep bidirectional transformers for language understanding. https://arxiv.org/abs/1810.04805"
   ]
  },
  {
   "cell_type": "markdown",
   "metadata": {},
   "source": [
    "First we create and train a fully connected model."
   ]
  },
  {
   "cell_type": "code",
   "execution_count": 30,
   "metadata": {},
   "outputs": [],
   "source": [
    "model = keras.models.Model()\n",
    "\n",
    "in_layer = layers.Input(shape=(len(feature_names),))\n",
    "\n",
    "layer = layers.Dropout(0.5)(in_layer)\n",
    "layer = layers.Dense(64, activation='relu', kernel_regularizer=\"l2\")(layer)\n",
    "layer = layers.Dropout(0.5)(layer)\n",
    "layer = layers.Dense(64, activation='relu', kernel_regularizer=\"l2\")(layer)\n",
    "layer = layers.Dropout(0.5)(layer)\n",
    "\n",
    "#note the dimension of the output should equal the number of classes to predict!\n",
    "layer = layers.Dense(train_targets.shape[-1], activation='relu')(layer)\n",
    "layer = layers.Softmax()(layer)\n",
    "\n",
    "fully_connected_model = keras.models.Model(inputs=in_layer, outputs=layer)\n",
    "\n",
    "fully_connected_model.compile(\n",
    "    loss='categorical_crossentropy', \n",
    "    metrics=['acc'],\n",
    "    optimizer=optimizers.Adam(lr=0.01)\n",
    ")\n",
    "\n",
    "#the inputs are just the node features\n",
    "X_train = train_data[feature_names].values.astype(np.float32)\n",
    "X_val = val_data[feature_names].values.astype(np.float32)"
   ]
  },
  {
   "cell_type": "code",
   "execution_count": 31,
   "metadata": {},
   "outputs": [
    {
     "name": "stdout",
     "output_type": "stream",
     "text": [
      "Train on 140 samples, validate on 500 samples\n",
      "Epoch 1/2000\n",
      "140/140 [==============================] - 0s 2ms/sample - loss: 3.8216 - acc: 0.1714 - val_loss: 3.2994 - val_acc: 0.2820\n",
      "Epoch 2/2000\n",
      "140/140 [==============================] - 0s 144us/sample - loss: 3.2997 - acc: 0.1929 - val_loss: 2.9402 - val_acc: 0.3160\n",
      "Epoch 3/2000\n",
      "140/140 [==============================] - 0s 79us/sample - loss: 2.9110 - acc: 0.3214 - val_loss: 2.6987 - val_acc: 0.3060\n",
      "Epoch 4/2000\n",
      "140/140 [==============================] - 0s 87us/sample - loss: 2.6659 - acc: 0.3286 - val_loss: 2.5403 - val_acc: 0.3020\n",
      "Epoch 5/2000\n",
      "140/140 [==============================] - 0s 78us/sample - loss: 2.4499 - acc: 0.3857 - val_loss: 2.4362 - val_acc: 0.3020\n",
      "Epoch 6/2000\n",
      "140/140 [==============================] - 0s 86us/sample - loss: 2.3308 - acc: 0.3857 - val_loss: 2.3725 - val_acc: 0.3020\n",
      "Epoch 7/2000\n",
      "140/140 [==============================] - 0s 89us/sample - loss: 2.2808 - acc: 0.3214 - val_loss: 2.3294 - val_acc: 0.3060\n",
      "Epoch 8/2000\n",
      "140/140 [==============================] - 0s 91us/sample - loss: 2.1928 - acc: 0.3429 - val_loss: 2.2938 - val_acc: 0.3140\n",
      "Epoch 9/2000\n",
      "140/140 [==============================] - 0s 138us/sample - loss: 2.0959 - acc: 0.4000 - val_loss: 2.2519 - val_acc: 0.3500\n",
      "Epoch 10/2000\n",
      "140/140 [==============================] - 0s 141us/sample - loss: 2.0389 - acc: 0.4286 - val_loss: 2.2012 - val_acc: 0.4080\n",
      "Epoch 11/2000\n",
      "140/140 [==============================] - 0s 125us/sample - loss: 1.9926 - acc: 0.5000 - val_loss: 2.1501 - val_acc: 0.4440\n",
      "Epoch 12/2000\n",
      "140/140 [==============================] - 0s 142us/sample - loss: 1.9203 - acc: 0.5357 - val_loss: 2.1020 - val_acc: 0.4560\n",
      "Epoch 13/2000\n",
      "140/140 [==============================] - 0s 138us/sample - loss: 1.7702 - acc: 0.5786 - val_loss: 2.0548 - val_acc: 0.4680\n",
      "Epoch 14/2000\n",
      "140/140 [==============================] - 0s 147us/sample - loss: 1.7775 - acc: 0.5929 - val_loss: 2.0090 - val_acc: 0.4900\n",
      "Epoch 15/2000\n",
      "140/140 [==============================] - 0s 147us/sample - loss: 1.6509 - acc: 0.6357 - val_loss: 1.9682 - val_acc: 0.5040\n",
      "Epoch 16/2000\n",
      "140/140 [==============================] - 0s 138us/sample - loss: 1.6055 - acc: 0.6643 - val_loss: 1.9341 - val_acc: 0.5200\n",
      "Epoch 17/2000\n",
      "140/140 [==============================] - 0s 143us/sample - loss: 1.5834 - acc: 0.6643 - val_loss: 1.9055 - val_acc: 0.5400\n",
      "Epoch 18/2000\n",
      "140/140 [==============================] - 0s 134us/sample - loss: 1.5980 - acc: 0.6286 - val_loss: 1.8775 - val_acc: 0.5580\n",
      "Epoch 19/2000\n",
      "140/140 [==============================] - 0s 147us/sample - loss: 1.4469 - acc: 0.6929 - val_loss: 1.8523 - val_acc: 0.5720\n",
      "Epoch 20/2000\n",
      "140/140 [==============================] - 0s 151us/sample - loss: 1.3723 - acc: 0.7643 - val_loss: 1.8324 - val_acc: 0.5760\n",
      "Epoch 21/2000\n",
      "140/140 [==============================] - 0s 193us/sample - loss: 1.3108 - acc: 0.7571 - val_loss: 1.8183 - val_acc: 0.5800\n",
      "Epoch 22/2000\n",
      "140/140 [==============================] - 0s 164us/sample - loss: 1.3626 - acc: 0.7429 - val_loss: 1.8083 - val_acc: 0.5840\n",
      "Epoch 23/2000\n",
      "140/140 [==============================] - 0s 110us/sample - loss: 1.2967 - acc: 0.7857 - val_loss: 1.7995 - val_acc: 0.5820\n",
      "Epoch 24/2000\n",
      "140/140 [==============================] - 0s 157us/sample - loss: 1.2459 - acc: 0.7714 - val_loss: 1.7902 - val_acc: 0.5940\n",
      "Epoch 25/2000\n",
      "140/140 [==============================] - 0s 132us/sample - loss: 1.1298 - acc: 0.8714 - val_loss: 1.7827 - val_acc: 0.6040\n",
      "Epoch 26/2000\n",
      "140/140 [==============================] - 0s 148us/sample - loss: 1.1777 - acc: 0.8357 - val_loss: 1.7752 - val_acc: 0.6100\n",
      "Epoch 27/2000\n",
      "140/140 [==============================] - 0s 142us/sample - loss: 1.2361 - acc: 0.8143 - val_loss: 1.7699 - val_acc: 0.6180\n",
      "Epoch 28/2000\n",
      "140/140 [==============================] - 0s 90us/sample - loss: 1.1913 - acc: 0.8143 - val_loss: 1.7645 - val_acc: 0.6180\n",
      "Epoch 29/2000\n",
      "140/140 [==============================] - 0s 88us/sample - loss: 1.2371 - acc: 0.7571 - val_loss: 1.7637 - val_acc: 0.6160\n",
      "Epoch 30/2000\n",
      "140/140 [==============================] - 0s 90us/sample - loss: 1.0502 - acc: 0.8929 - val_loss: 1.7661 - val_acc: 0.6120\n",
      "Epoch 31/2000\n",
      "140/140 [==============================] - 0s 136us/sample - loss: 1.1757 - acc: 0.8214 - val_loss: 1.7720 - val_acc: 0.6200\n",
      "Epoch 32/2000\n",
      "140/140 [==============================] - 0s 131us/sample - loss: 1.0217 - acc: 0.9143 - val_loss: 1.7801 - val_acc: 0.6240\n",
      "Epoch 33/2000\n",
      "140/140 [==============================] - 0s 114us/sample - loss: 1.0435 - acc: 0.8929 - val_loss: 1.7986 - val_acc: 0.6180\n",
      "Epoch 34/2000\n",
      "140/140 [==============================] - 0s 77us/sample - loss: 1.0116 - acc: 0.9071 - val_loss: 1.8090 - val_acc: 0.6200\n",
      "Epoch 35/2000\n",
      "140/140 [==============================] - 0s 94us/sample - loss: 1.1192 - acc: 0.8500 - val_loss: 1.8003 - val_acc: 0.6160\n",
      "Epoch 36/2000\n",
      "140/140 [==============================] - 0s 87us/sample - loss: 1.0225 - acc: 0.9000 - val_loss: 1.7967 - val_acc: 0.6160\n",
      "Epoch 37/2000\n",
      "140/140 [==============================] - 0s 84us/sample - loss: 1.0336 - acc: 0.8714 - val_loss: 1.7986 - val_acc: 0.6200\n",
      "Epoch 38/2000\n",
      "140/140 [==============================] - 0s 134us/sample - loss: 1.0361 - acc: 0.8714 - val_loss: 1.7894 - val_acc: 0.6280\n",
      "Epoch 39/2000\n",
      "140/140 [==============================] - 0s 149us/sample - loss: 0.9900 - acc: 0.9000 - val_loss: 1.7885 - val_acc: 0.6300\n",
      "Epoch 40/2000\n",
      "140/140 [==============================] - 0s 80us/sample - loss: 1.0062 - acc: 0.9071 - val_loss: 1.7826 - val_acc: 0.6260\n",
      "Epoch 41/2000\n",
      "140/140 [==============================] - 0s 84us/sample - loss: 0.9254 - acc: 0.9214 - val_loss: 1.7804 - val_acc: 0.6180\n",
      "Epoch 42/2000\n",
      "140/140 [==============================] - 0s 77us/sample - loss: 0.9559 - acc: 0.9000 - val_loss: 1.7806 - val_acc: 0.6220\n",
      "Epoch 43/2000\n",
      "140/140 [==============================] - 0s 80us/sample - loss: 0.9892 - acc: 0.9143 - val_loss: 1.7776 - val_acc: 0.6240\n",
      "Epoch 44/2000\n",
      "140/140 [==============================] - 0s 78us/sample - loss: 1.0850 - acc: 0.8571 - val_loss: 1.7771 - val_acc: 0.6260\n",
      "Epoch 45/2000\n",
      "140/140 [==============================] - 0s 75us/sample - loss: 0.8903 - acc: 0.9500 - val_loss: 1.7688 - val_acc: 0.6260\n",
      "Epoch 46/2000\n",
      "140/140 [==============================] - 0s 74us/sample - loss: 0.9739 - acc: 0.9286 - val_loss: 1.7569 - val_acc: 0.6180\n",
      "Epoch 47/2000\n",
      "140/140 [==============================] - 0s 75us/sample - loss: 0.9790 - acc: 0.9286 - val_loss: 1.7523 - val_acc: 0.6180\n",
      "Epoch 48/2000\n",
      "140/140 [==============================] - 0s 81us/sample - loss: 0.9447 - acc: 0.9286 - val_loss: 1.7503 - val_acc: 0.6160\n",
      "Epoch 49/2000\n",
      "140/140 [==============================] - 0s 79us/sample - loss: 1.0873 - acc: 0.8571 - val_loss: 1.7474 - val_acc: 0.6120\n",
      "Epoch 50/2000\n",
      "140/140 [==============================] - 0s 76us/sample - loss: 0.9992 - acc: 0.8643 - val_loss: 1.7462 - val_acc: 0.6140\n",
      "Epoch 51/2000\n",
      "140/140 [==============================] - 0s 121us/sample - loss: 0.9599 - acc: 0.9143 - val_loss: 1.7491 - val_acc: 0.6320\n",
      "Epoch 52/2000\n",
      "140/140 [==============================] - 0s 75us/sample - loss: 0.8949 - acc: 0.9143 - val_loss: 1.7607 - val_acc: 0.6160\n",
      "Epoch 53/2000\n",
      "140/140 [==============================] - 0s 81us/sample - loss: 0.9125 - acc: 0.9143 - val_loss: 1.7823 - val_acc: 0.6000\n",
      "Epoch 54/2000\n",
      "140/140 [==============================] - 0s 77us/sample - loss: 0.9975 - acc: 0.8786 - val_loss: 1.8049 - val_acc: 0.5940\n",
      "Epoch 55/2000\n",
      "140/140 [==============================] - 0s 77us/sample - loss: 0.9599 - acc: 0.9071 - val_loss: 1.8146 - val_acc: 0.5920\n",
      "Epoch 56/2000\n",
      "140/140 [==============================] - 0s 75us/sample - loss: 0.8662 - acc: 0.9429 - val_loss: 1.8173 - val_acc: 0.5880\n",
      "Epoch 57/2000\n",
      "140/140 [==============================] - 0s 79us/sample - loss: 0.9326 - acc: 0.9000 - val_loss: 1.8059 - val_acc: 0.6020\n",
      "Epoch 58/2000\n",
      "140/140 [==============================] - 0s 72us/sample - loss: 0.9788 - acc: 0.8929 - val_loss: 1.7992 - val_acc: 0.6080\n",
      "Epoch 59/2000\n",
      "140/140 [==============================] - 0s 68us/sample - loss: 0.9308 - acc: 0.9071 - val_loss: 1.8016 - val_acc: 0.6160\n"
     ]
    },
    {
     "name": "stdout",
     "output_type": "stream",
     "text": [
      "Epoch 60/2000\n",
      "140/140 [==============================] - 0s 79us/sample - loss: 0.9293 - acc: 0.9000 - val_loss: 1.8009 - val_acc: 0.6040\n",
      "Epoch 61/2000\n",
      "140/140 [==============================] - 0s 74us/sample - loss: 0.9424 - acc: 0.9214 - val_loss: 1.8018 - val_acc: 0.6060\n",
      "Epoch 62/2000\n",
      "140/140 [==============================] - 0s 74us/sample - loss: 0.8702 - acc: 0.9357 - val_loss: 1.8045 - val_acc: 0.6080\n",
      "Epoch 63/2000\n",
      "140/140 [==============================] - 0s 67us/sample - loss: 0.9826 - acc: 0.8786 - val_loss: 1.7946 - val_acc: 0.6120\n",
      "Epoch 64/2000\n",
      "140/140 [==============================] - 0s 69us/sample - loss: 0.9536 - acc: 0.8929 - val_loss: 1.7797 - val_acc: 0.6180\n",
      "Epoch 65/2000\n",
      "140/140 [==============================] - 0s 72us/sample - loss: 0.9596 - acc: 0.8786 - val_loss: 1.7688 - val_acc: 0.6180\n",
      "Epoch 66/2000\n",
      "140/140 [==============================] - 0s 67us/sample - loss: 0.8866 - acc: 0.9071 - val_loss: 1.7717 - val_acc: 0.6080\n",
      "Epoch 67/2000\n",
      "140/140 [==============================] - 0s 83us/sample - loss: 0.8541 - acc: 0.9357 - val_loss: 1.7777 - val_acc: 0.6040\n",
      "Epoch 68/2000\n",
      "140/140 [==============================] - 0s 83us/sample - loss: 0.9547 - acc: 0.8857 - val_loss: 1.7788 - val_acc: 0.6060\n",
      "Epoch 69/2000\n",
      "140/140 [==============================] - 0s 89us/sample - loss: 0.9884 - acc: 0.9071 - val_loss: 1.7833 - val_acc: 0.6060\n",
      "Epoch 70/2000\n",
      "140/140 [==============================] - 0s 78us/sample - loss: 0.9409 - acc: 0.9143 - val_loss: 1.7857 - val_acc: 0.6120\n",
      "Epoch 71/2000\n",
      "140/140 [==============================] - 0s 75us/sample - loss: 0.9233 - acc: 0.9143 - val_loss: 1.7768 - val_acc: 0.6020\n",
      "Epoch 72/2000\n",
      "140/140 [==============================] - 0s 79us/sample - loss: 0.8263 - acc: 0.9357 - val_loss: 1.7662 - val_acc: 0.6060\n",
      "Epoch 73/2000\n",
      "140/140 [==============================] - 0s 80us/sample - loss: 0.8907 - acc: 0.9357 - val_loss: 1.7576 - val_acc: 0.6100\n",
      "Epoch 74/2000\n",
      "140/140 [==============================] - 0s 72us/sample - loss: 0.8513 - acc: 0.9357 - val_loss: 1.7516 - val_acc: 0.6180\n",
      "Epoch 75/2000\n",
      "140/140 [==============================] - 0s 76us/sample - loss: 0.9998 - acc: 0.9000 - val_loss: 1.7374 - val_acc: 0.6160\n",
      "Epoch 76/2000\n",
      "140/140 [==============================] - 0s 79us/sample - loss: 0.8575 - acc: 0.9214 - val_loss: 1.7337 - val_acc: 0.6100\n",
      "Epoch 77/2000\n",
      "140/140 [==============================] - 0s 76us/sample - loss: 0.8788 - acc: 0.9214 - val_loss: 1.7410 - val_acc: 0.6080\n",
      "Epoch 78/2000\n",
      "140/140 [==============================] - 0s 73us/sample - loss: 0.8903 - acc: 0.8857 - val_loss: 1.7492 - val_acc: 0.6100\n",
      "Epoch 79/2000\n",
      "140/140 [==============================] - 0s 75us/sample - loss: 0.8531 - acc: 0.9286 - val_loss: 1.7583 - val_acc: 0.6060\n",
      "Epoch 80/2000\n",
      "140/140 [==============================] - 0s 79us/sample - loss: 0.9291 - acc: 0.9000 - val_loss: 1.7703 - val_acc: 0.6120\n",
      "Epoch 81/2000\n",
      "140/140 [==============================] - 0s 77us/sample - loss: 0.9650 - acc: 0.8857 - val_loss: 1.7869 - val_acc: 0.6120\n",
      "Epoch 82/2000\n",
      "140/140 [==============================] - 0s 75us/sample - loss: 0.8805 - acc: 0.9214 - val_loss: 1.8170 - val_acc: 0.6100\n",
      "Epoch 83/2000\n",
      "140/140 [==============================] - 0s 72us/sample - loss: 0.9244 - acc: 0.9071 - val_loss: 1.8285 - val_acc: 0.6060\n",
      "Epoch 84/2000\n",
      "140/140 [==============================] - 0s 77us/sample - loss: 0.7528 - acc: 0.9714 - val_loss: 1.8432 - val_acc: 0.6000\n",
      "Epoch 85/2000\n",
      "140/140 [==============================] - 0s 76us/sample - loss: 0.9111 - acc: 0.8714 - val_loss: 1.8545 - val_acc: 0.5960\n",
      "Epoch 86/2000\n",
      "140/140 [==============================] - 0s 69us/sample - loss: 0.8016 - acc: 0.9429 - val_loss: 1.8595 - val_acc: 0.5940\n",
      "Epoch 87/2000\n",
      "140/140 [==============================] - 0s 79us/sample - loss: 0.8798 - acc: 0.9143 - val_loss: 1.8630 - val_acc: 0.5900\n",
      "Epoch 88/2000\n",
      "140/140 [==============================] - 0s 78us/sample - loss: 0.7846 - acc: 0.9571 - val_loss: 1.8549 - val_acc: 0.5920\n",
      "Epoch 89/2000\n",
      "140/140 [==============================] - 0s 75us/sample - loss: 0.9326 - acc: 0.8929 - val_loss: 1.8475 - val_acc: 0.5860\n",
      "Epoch 90/2000\n",
      "140/140 [==============================] - 0s 71us/sample - loss: 0.8851 - acc: 0.9071 - val_loss: 1.8369 - val_acc: 0.5880\n",
      "Epoch 91/2000\n",
      "140/140 [==============================] - 0s 92us/sample - loss: 0.8889 - acc: 0.9000 - val_loss: 1.8257 - val_acc: 0.5980\n",
      "Epoch 92/2000\n",
      "140/140 [==============================] - 0s 79us/sample - loss: 0.8797 - acc: 0.9214 - val_loss: 1.8133 - val_acc: 0.6080\n",
      "Epoch 93/2000\n",
      "140/140 [==============================] - 0s 80us/sample - loss: 0.9668 - acc: 0.8929 - val_loss: 1.8070 - val_acc: 0.6020\n",
      "Epoch 94/2000\n",
      "140/140 [==============================] - 0s 70us/sample - loss: 0.8591 - acc: 0.9214 - val_loss: 1.8075 - val_acc: 0.5900\n",
      "Epoch 95/2000\n",
      "140/140 [==============================] - 0s 72us/sample - loss: 0.8491 - acc: 0.9286 - val_loss: 1.8106 - val_acc: 0.5920\n",
      "Epoch 96/2000\n",
      "140/140 [==============================] - 0s 75us/sample - loss: 0.8463 - acc: 0.9429 - val_loss: 1.8148 - val_acc: 0.5900\n",
      "Epoch 97/2000\n",
      "140/140 [==============================] - 0s 68us/sample - loss: 0.8782 - acc: 0.9286 - val_loss: 1.8235 - val_acc: 0.5780\n",
      "Epoch 98/2000\n",
      "140/140 [==============================] - 0s 68us/sample - loss: 0.8724 - acc: 0.9143 - val_loss: 1.8366 - val_acc: 0.5820\n",
      "Epoch 99/2000\n",
      "140/140 [==============================] - 0s 73us/sample - loss: 0.8918 - acc: 0.9214 - val_loss: 1.8530 - val_acc: 0.5800\n",
      "Epoch 100/2000\n",
      "140/140 [==============================] - 0s 73us/sample - loss: 0.8428 - acc: 0.9071 - val_loss: 1.8592 - val_acc: 0.5840\n",
      "Epoch 101/2000\n",
      "140/140 [==============================] - 0s 82us/sample - loss: 0.8548 - acc: 0.9143 - val_loss: 1.8489 - val_acc: 0.5900\n"
     ]
    }
   ],
   "source": [
    "es_callback = EarlyStopping(monitor=\"val_acc\", patience=50)  # patience is the number of epochs to wait before early stopping in case of no further improvement\n",
    "\n",
    "mc_callback = ModelCheckpoint(\n",
    "    \"logs/best_fc_model.h5\",\n",
    "    monitor=\"val_acc\",\n",
    "    save_best_only=True,\n",
    "    save_weights_only=True,\n",
    ")\n",
    "\n",
    "history = fully_connected_model.fit(X_train, train_targets, \n",
    "                          validation_data=(X_val, val_targets), \n",
    "                          epochs=2000, batch_size=200, shuffle=True, #we can shuffle the data here as \n",
    "                         callbacks=[es_callback, mc_callback]) #we're only working with node features"
   ]
  },
  {
   "cell_type": "markdown",
   "metadata": {},
   "source": [
    "By itself the fully connected model only gets ~60% accuracy on the test set."
   ]
  },
  {
   "cell_type": "code",
   "execution_count": 32,
   "metadata": {},
   "outputs": [
    {
     "name": "stdout",
     "output_type": "stream",
     "text": [
      "2068/2068 [==============================] - 0s 23us/sample - loss: 1.7726 - acc: 0.5957\n",
      "\n",
      "Test Set Metrics:\n",
      "\tloss: 1.7726\n",
      "\tacc: 0.5957\n"
     ]
    }
   ],
   "source": [
    "X_test = test_data[feature_names].values.astype(np.float32)\n",
    "\n",
    "fully_connected_model.load_weights(\"logs/best_fc_model.h5\") \n",
    "test_metrics = fully_connected_model.evaluate(X_test, test_targets)\n",
    "print(\"\\nTest Set Metrics:\")\n",
    "for name, val in zip(fully_connected_model.metrics_names, test_metrics):\n",
    "    print(\"\\t{}: {:0.4f}\".format(name, val))"
   ]
  },
  {
   "cell_type": "markdown",
   "metadata": {},
   "source": [
    "Now we propogate the fully connected network - no extra training required and we can re-use the APPNP object we've already created. First we create an intermediate fully connected model without the softmax layer, this is to avoid propagating the softmax layer which may cause issues with further training. We then propagate this intermediate network."
   ]
  },
  {
   "cell_type": "code",
   "execution_count": null,
   "metadata": {},
   "outputs": [],
   "source": [
    "intermediate_model = Model(inputs=fully_connected_model.inputs, outputs=fully_connected_model.layers[-2].output)\n",
    "\n",
    "x_inp, x_out = appnp.propagate_model(intermediate_model)\n",
    "predictions = keras.layers.Softmax()(x_out)\n",
    "\n",
    "propagated_model = keras.models.Model(inputs=x_inp, outputs=predictions)\n",
    "propagated_model.compile(loss='categorical_crossentropy', metrics=['acc'],\n",
    "                  optimizer=keras.optimizers.Adam(lr=0.01))"
   ]
  },
  {
   "cell_type": "markdown",
   "metadata": {},
   "source": [
    "Our accuracy is better than the fully connected network by itself but less than end-to-end trained PPNP and APPNP. \n",
    "\n",
    "Note that this is partially because 140 data points isn't sufficient for the fully connected model to achieve optimal performance. As the number of training nodes increases the perfomance gap shrinks. "
   ]
  },
  {
   "cell_type": "code",
   "execution_count": 40,
   "metadata": {},
   "outputs": [
    {
     "name": "stdout",
     "output_type": "stream",
     "text": [
      "\n",
      "Test Set Metrics:\n",
      "\tloss: 1.6150\n",
      "\tacc: 0.7756\n"
     ]
    }
   ],
   "source": [
    "test_metrics = propagated_model.evaluate_generator(test_gen)\n",
    "print(\"\\nTest Set Metrics:\")\n",
    "for name, val in zip(propagated_model.metrics_names, test_metrics):\n",
    "    print(\"\\t{}: {:0.4f}\".format(name, val))"
   ]
  },
  {
   "cell_type": "markdown",
   "metadata": {},
   "source": [
    "### Making predictions with the model"
   ]
  },
  {
   "cell_type": "markdown",
   "metadata": {},
   "source": [
    "Now let's get the predictions for all nodes."
   ]
  },
  {
   "cell_type": "code",
   "execution_count": 41,
   "metadata": {},
   "outputs": [],
   "source": [
    "all_nodes = node_data.index\n",
    "all_gen = generator.flow(all_nodes)\n",
    "all_predictions = propagated_model.predict_generator(all_gen)"
   ]
  },
  {
   "cell_type": "markdown",
   "metadata": {},
   "source": [
    "These predictions will be the output of the softmax layer, so to get final categories we'll use the `inverse_transform` method of our target attribute specifcation to turn these values back to the original categories."
   ]
  },
  {
   "cell_type": "markdown",
   "metadata": {},
   "source": [
    "Note that for full-batch methods the batch size is 1 and the predictions have shape $(1, N_{nodes}, N_{classes})$ so we remove the batch dimension to obtain predictions of shape $(N_{nodes}, N_{classes})$ using the NumPy `squeeze` method."
   ]
  },
  {
   "cell_type": "code",
   "execution_count": 42,
   "metadata": {},
   "outputs": [],
   "source": [
    "node_predictions = target_encoding.inverse_transform(all_predictions.squeeze())"
   ]
  },
  {
   "cell_type": "markdown",
   "metadata": {},
   "source": [
    "Let's have a look at a few predictions after training the model:"
   ]
  },
  {
   "cell_type": "code",
   "execution_count": 43,
   "metadata": {},
   "outputs": [
    {
     "data": {
      "text/html": [
       "<div>\n",
       "<style scoped>\n",
       "    .dataframe tbody tr th:only-of-type {\n",
       "        vertical-align: middle;\n",
       "    }\n",
       "\n",
       "    .dataframe tbody tr th {\n",
       "        vertical-align: top;\n",
       "    }\n",
       "\n",
       "    .dataframe thead th {\n",
       "        text-align: right;\n",
       "    }\n",
       "</style>\n",
       "<table border=\"1\" class=\"dataframe\">\n",
       "  <thead>\n",
       "    <tr style=\"text-align: right;\">\n",
       "      <th></th>\n",
       "      <th>Predicted</th>\n",
       "      <th>True</th>\n",
       "    </tr>\n",
       "  </thead>\n",
       "  <tbody>\n",
       "    <tr>\n",
       "      <td>31336</td>\n",
       "      <td>subject=Neural_Networks</td>\n",
       "      <td>Neural_Networks</td>\n",
       "    </tr>\n",
       "    <tr>\n",
       "      <td>1061127</td>\n",
       "      <td>subject=Rule_Learning</td>\n",
       "      <td>Rule_Learning</td>\n",
       "    </tr>\n",
       "    <tr>\n",
       "      <td>1106406</td>\n",
       "      <td>subject=Reinforcement_Learning</td>\n",
       "      <td>Reinforcement_Learning</td>\n",
       "    </tr>\n",
       "    <tr>\n",
       "      <td>13195</td>\n",
       "      <td>subject=Reinforcement_Learning</td>\n",
       "      <td>Reinforcement_Learning</td>\n",
       "    </tr>\n",
       "    <tr>\n",
       "      <td>37879</td>\n",
       "      <td>subject=Probabilistic_Methods</td>\n",
       "      <td>Probabilistic_Methods</td>\n",
       "    </tr>\n",
       "    <tr>\n",
       "      <td>1126012</td>\n",
       "      <td>subject=Probabilistic_Methods</td>\n",
       "      <td>Probabilistic_Methods</td>\n",
       "    </tr>\n",
       "    <tr>\n",
       "      <td>1107140</td>\n",
       "      <td>subject=Reinforcement_Learning</td>\n",
       "      <td>Theory</td>\n",
       "    </tr>\n",
       "    <tr>\n",
       "      <td>1102850</td>\n",
       "      <td>subject=Neural_Networks</td>\n",
       "      <td>Neural_Networks</td>\n",
       "    </tr>\n",
       "    <tr>\n",
       "      <td>31349</td>\n",
       "      <td>subject=Neural_Networks</td>\n",
       "      <td>Neural_Networks</td>\n",
       "    </tr>\n",
       "    <tr>\n",
       "      <td>1106418</td>\n",
       "      <td>subject=Theory</td>\n",
       "      <td>Theory</td>\n",
       "    </tr>\n",
       "    <tr>\n",
       "      <td>1123188</td>\n",
       "      <td>subject=Neural_Networks</td>\n",
       "      <td>Neural_Networks</td>\n",
       "    </tr>\n",
       "    <tr>\n",
       "      <td>1128990</td>\n",
       "      <td>subject=Genetic_Algorithms</td>\n",
       "      <td>Genetic_Algorithms</td>\n",
       "    </tr>\n",
       "    <tr>\n",
       "      <td>109323</td>\n",
       "      <td>subject=Probabilistic_Methods</td>\n",
       "      <td>Probabilistic_Methods</td>\n",
       "    </tr>\n",
       "    <tr>\n",
       "      <td>217139</td>\n",
       "      <td>subject=Case_Based</td>\n",
       "      <td>Case_Based</td>\n",
       "    </tr>\n",
       "    <tr>\n",
       "      <td>31353</td>\n",
       "      <td>subject=Neural_Networks</td>\n",
       "      <td>Neural_Networks</td>\n",
       "    </tr>\n",
       "    <tr>\n",
       "      <td>32083</td>\n",
       "      <td>subject=Neural_Networks</td>\n",
       "      <td>Neural_Networks</td>\n",
       "    </tr>\n",
       "    <tr>\n",
       "      <td>1126029</td>\n",
       "      <td>subject=Reinforcement_Learning</td>\n",
       "      <td>Reinforcement_Learning</td>\n",
       "    </tr>\n",
       "    <tr>\n",
       "      <td>1118017</td>\n",
       "      <td>subject=Neural_Networks</td>\n",
       "      <td>Neural_Networks</td>\n",
       "    </tr>\n",
       "    <tr>\n",
       "      <td>49482</td>\n",
       "      <td>subject=Neural_Networks</td>\n",
       "      <td>Neural_Networks</td>\n",
       "    </tr>\n",
       "    <tr>\n",
       "      <td>753265</td>\n",
       "      <td>subject=Neural_Networks</td>\n",
       "      <td>Neural_Networks</td>\n",
       "    </tr>\n",
       "  </tbody>\n",
       "</table>\n",
       "</div>"
      ],
      "text/plain": [
       "                              Predicted                    True\n",
       "31336           subject=Neural_Networks         Neural_Networks\n",
       "1061127           subject=Rule_Learning           Rule_Learning\n",
       "1106406  subject=Reinforcement_Learning  Reinforcement_Learning\n",
       "13195    subject=Reinforcement_Learning  Reinforcement_Learning\n",
       "37879     subject=Probabilistic_Methods   Probabilistic_Methods\n",
       "1126012   subject=Probabilistic_Methods   Probabilistic_Methods\n",
       "1107140  subject=Reinforcement_Learning                  Theory\n",
       "1102850         subject=Neural_Networks         Neural_Networks\n",
       "31349           subject=Neural_Networks         Neural_Networks\n",
       "1106418                  subject=Theory                  Theory\n",
       "1123188         subject=Neural_Networks         Neural_Networks\n",
       "1128990      subject=Genetic_Algorithms      Genetic_Algorithms\n",
       "109323    subject=Probabilistic_Methods   Probabilistic_Methods\n",
       "217139               subject=Case_Based              Case_Based\n",
       "31353           subject=Neural_Networks         Neural_Networks\n",
       "32083           subject=Neural_Networks         Neural_Networks\n",
       "1126029  subject=Reinforcement_Learning  Reinforcement_Learning\n",
       "1118017         subject=Neural_Networks         Neural_Networks\n",
       "49482           subject=Neural_Networks         Neural_Networks\n",
       "753265          subject=Neural_Networks         Neural_Networks"
      ]
     },
     "execution_count": 43,
     "metadata": {},
     "output_type": "execute_result"
    }
   ],
   "source": [
    "results = pd.DataFrame(node_predictions, index=all_nodes).idxmax(axis=1)\n",
    "df = pd.DataFrame({\"Predicted\": results, \"True\": node_data['subject']})\n",
    "df.head(20)"
   ]
  },
  {
   "cell_type": "markdown",
   "metadata": {},
   "source": [
    "Now we have an accurate model that can handle large graphs."
   ]
  }
 ],
 "metadata": {
  "kernelspec": {
   "display_name": "Python 3",
   "language": "python",
   "name": "python3"
  },
  "language_info": {
   "codemirror_mode": {
    "name": "ipython",
    "version": 3
   },
   "file_extension": ".py",
   "mimetype": "text/x-python",
   "name": "python",
   "nbconvert_exporter": "python",
   "pygments_lexer": "ipython3",
   "version": "3.6.9"
  }
 },
 "nbformat": 4,
 "nbformat_minor": 2
}
