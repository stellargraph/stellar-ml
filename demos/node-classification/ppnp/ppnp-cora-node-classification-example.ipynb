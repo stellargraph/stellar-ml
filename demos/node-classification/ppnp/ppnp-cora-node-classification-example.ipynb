{
 "cells": [
  {
   "cell_type": "markdown",
   "metadata": {},
   "source": [
    "# Stellargraph example: Personalised Propagation of Neural Predictions (PPNP) and Approximate PPNP (APPNP) on the CORA citation dataset"
   ]
  },
  {
   "cell_type": "markdown",
   "metadata": {},
   "source": [
    "Import NetworkX and stellargraph:"
   ]
  },
  {
   "cell_type": "code",
   "execution_count": 1,
   "metadata": {},
   "outputs": [
    {
     "name": "stderr",
     "output_type": "stream",
     "text": [
      "/Users/kieranricardo/anaconda3/envs/stellar-demos/lib/python3.6/site-packages/tensorflow/python/framework/dtypes.py:516: FutureWarning: Passing (type, 1) or '1type' as a synonym of type is deprecated; in a future version of numpy, it will be understood as (type, (1,)) / '(1,)type'.\n",
      "  _np_qint8 = np.dtype([(\"qint8\", np.int8, 1)])\n",
      "/Users/kieranricardo/anaconda3/envs/stellar-demos/lib/python3.6/site-packages/tensorflow/python/framework/dtypes.py:517: FutureWarning: Passing (type, 1) or '1type' as a synonym of type is deprecated; in a future version of numpy, it will be understood as (type, (1,)) / '(1,)type'.\n",
      "  _np_quint8 = np.dtype([(\"quint8\", np.uint8, 1)])\n",
      "/Users/kieranricardo/anaconda3/envs/stellar-demos/lib/python3.6/site-packages/tensorflow/python/framework/dtypes.py:518: FutureWarning: Passing (type, 1) or '1type' as a synonym of type is deprecated; in a future version of numpy, it will be understood as (type, (1,)) / '(1,)type'.\n",
      "  _np_qint16 = np.dtype([(\"qint16\", np.int16, 1)])\n",
      "/Users/kieranricardo/anaconda3/envs/stellar-demos/lib/python3.6/site-packages/tensorflow/python/framework/dtypes.py:519: FutureWarning: Passing (type, 1) or '1type' as a synonym of type is deprecated; in a future version of numpy, it will be understood as (type, (1,)) / '(1,)type'.\n",
      "  _np_quint16 = np.dtype([(\"quint16\", np.uint16, 1)])\n",
      "/Users/kieranricardo/anaconda3/envs/stellar-demos/lib/python3.6/site-packages/tensorflow/python/framework/dtypes.py:520: FutureWarning: Passing (type, 1) or '1type' as a synonym of type is deprecated; in a future version of numpy, it will be understood as (type, (1,)) / '(1,)type'.\n",
      "  _np_qint32 = np.dtype([(\"qint32\", np.int32, 1)])\n",
      "/Users/kieranricardo/anaconda3/envs/stellar-demos/lib/python3.6/site-packages/tensorflow/python/framework/dtypes.py:525: FutureWarning: Passing (type, 1) or '1type' as a synonym of type is deprecated; in a future version of numpy, it will be understood as (type, (1,)) / '(1,)type'.\n",
      "  np_resource = np.dtype([(\"resource\", np.ubyte, 1)])\n",
      "/Users/kieranricardo/anaconda3/envs/stellar-demos/lib/python3.6/site-packages/tensorboard/compat/tensorflow_stub/dtypes.py:541: FutureWarning: Passing (type, 1) or '1type' as a synonym of type is deprecated; in a future version of numpy, it will be understood as (type, (1,)) / '(1,)type'.\n",
      "  _np_qint8 = np.dtype([(\"qint8\", np.int8, 1)])\n",
      "/Users/kieranricardo/anaconda3/envs/stellar-demos/lib/python3.6/site-packages/tensorboard/compat/tensorflow_stub/dtypes.py:542: FutureWarning: Passing (type, 1) or '1type' as a synonym of type is deprecated; in a future version of numpy, it will be understood as (type, (1,)) / '(1,)type'.\n",
      "  _np_quint8 = np.dtype([(\"quint8\", np.uint8, 1)])\n",
      "/Users/kieranricardo/anaconda3/envs/stellar-demos/lib/python3.6/site-packages/tensorboard/compat/tensorflow_stub/dtypes.py:543: FutureWarning: Passing (type, 1) or '1type' as a synonym of type is deprecated; in a future version of numpy, it will be understood as (type, (1,)) / '(1,)type'.\n",
      "  _np_qint16 = np.dtype([(\"qint16\", np.int16, 1)])\n",
      "/Users/kieranricardo/anaconda3/envs/stellar-demos/lib/python3.6/site-packages/tensorboard/compat/tensorflow_stub/dtypes.py:544: FutureWarning: Passing (type, 1) or '1type' as a synonym of type is deprecated; in a future version of numpy, it will be understood as (type, (1,)) / '(1,)type'.\n",
      "  _np_quint16 = np.dtype([(\"quint16\", np.uint16, 1)])\n",
      "/Users/kieranricardo/anaconda3/envs/stellar-demos/lib/python3.6/site-packages/tensorboard/compat/tensorflow_stub/dtypes.py:545: FutureWarning: Passing (type, 1) or '1type' as a synonym of type is deprecated; in a future version of numpy, it will be understood as (type, (1,)) / '(1,)type'.\n",
      "  _np_qint32 = np.dtype([(\"qint32\", np.int32, 1)])\n",
      "/Users/kieranricardo/anaconda3/envs/stellar-demos/lib/python3.6/site-packages/tensorboard/compat/tensorflow_stub/dtypes.py:550: FutureWarning: Passing (type, 1) or '1type' as a synonym of type is deprecated; in a future version of numpy, it will be understood as (type, (1,)) / '(1,)type'.\n",
      "  np_resource = np.dtype([(\"resource\", np.ubyte, 1)])\n"
     ]
    }
   ],
   "source": [
    "import networkx as nx\n",
    "import pandas as pd\n",
    "import numpy as np\n",
    "import os\n",
    "from tensorflow import keras\n",
    "from tensorflow.keras import backend as K\n",
    "from tensorflow.keras.callbacks import EarlyStopping, ModelCheckpoint\n",
    "\n",
    "import stellargraph as sg\n",
    "from stellargraph.mapper import FullBatchNodeGenerator\n",
    "from stellargraph.layer.ppnp import PPNP\n",
    "from stellargraph.layer.appnp import APPNP\n",
    "\n",
    "from tensorflow.keras import layers, optimizers, losses, metrics, Model\n",
    "from sklearn import preprocessing, feature_extraction, model_selection"
   ]
  },
  {
   "cell_type": "markdown",
   "metadata": {},
   "source": [
    "### Loading the CORA network"
   ]
  },
  {
   "cell_type": "markdown",
   "metadata": {},
   "source": [
    "**Downloading the CORA dataset:**\n",
    "    \n",
    "The dataset used in this demo can be downloaded from [here](https://linqs-data.soe.ucsc.edu/public/lbc/cora.tgz).\n",
    "\n",
    "The following is the description of the dataset:\n",
    "> The Cora dataset consists of 2708 scientific publications classified into one of seven classes.\n",
    "> The citation network consists of 5429 links. Each publication in the dataset is described by a\n",
    "> 0/1-valued word vector indicating the absence/presence of the corresponding word from the dictionary.\n",
    "> The dictionary consists of 1433 unique words. The README file in the dataset provides more details.\n",
    "\n",
    "Download and unzip the cora.tgz file to a location on your computer and set the `data_dir` variable to\n",
    "point to the location of the dataset (the directory containing \"cora.cites\" and \"cora.content\")."
   ]
  },
  {
   "cell_type": "code",
   "execution_count": 2,
   "metadata": {},
   "outputs": [],
   "source": [
    "data_dir = os.path.join(\"~\", \"data\", \"cora\")"
   ]
  },
  {
   "cell_type": "markdown",
   "metadata": {},
   "source": [
    "Load the graph from edgelist (in the order `cited-paper` <- `citing-paper`)"
   ]
  },
  {
   "cell_type": "code",
   "execution_count": 3,
   "metadata": {},
   "outputs": [],
   "source": [
    "edgelist = pd.read_csv(os.path.join(data_dir, \"cora.cites\"), sep='\\t', header=None, names=[\"target\", \"source\"])\n",
    "edgelist[\"label\"] = \"cites\""
   ]
  },
  {
   "cell_type": "code",
   "execution_count": 4,
   "metadata": {},
   "outputs": [],
   "source": [
    "Gnx = nx.from_pandas_edgelist(edgelist, edge_attr=\"label\")"
   ]
  },
  {
   "cell_type": "code",
   "execution_count": 5,
   "metadata": {},
   "outputs": [],
   "source": [
    "nx.set_node_attributes(Gnx, \"paper\", \"label\")"
   ]
  },
  {
   "cell_type": "markdown",
   "metadata": {},
   "source": [
    "Load the features and subject for the nodes"
   ]
  },
  {
   "cell_type": "code",
   "execution_count": 6,
   "metadata": {},
   "outputs": [],
   "source": [
    "feature_names = [\"w_{}\".format(ii) for ii in range(1433)]\n",
    "column_names =  feature_names + [\"subject\"]\n",
    "node_data = pd.read_csv(os.path.join(data_dir, \"cora.content\"), sep='\\t', header=None, names=column_names)"
   ]
  },
  {
   "cell_type": "markdown",
   "metadata": {},
   "source": [
    "We aim to train a graph-ML model that will predict the \"subject\" attribute on the nodes. These subjects are one of 7 categories:"
   ]
  },
  {
   "cell_type": "code",
   "execution_count": 7,
   "metadata": {},
   "outputs": [
    {
     "data": {
      "text/plain": [
       "{'Case_Based',\n",
       " 'Genetic_Algorithms',\n",
       " 'Neural_Networks',\n",
       " 'Probabilistic_Methods',\n",
       " 'Reinforcement_Learning',\n",
       " 'Rule_Learning',\n",
       " 'Theory'}"
      ]
     },
     "execution_count": 7,
     "metadata": {},
     "output_type": "execute_result"
    }
   ],
   "source": [
    "set(node_data[\"subject\"])"
   ]
  },
  {
   "cell_type": "markdown",
   "metadata": {},
   "source": [
    "### Splitting the data"
   ]
  },
  {
   "cell_type": "markdown",
   "metadata": {},
   "source": [
    "For machine learning we want to take a subset of the nodes for training, and use the rest for validation and testing. We'll use scikit-learn again to do this.\n",
    "\n",
    "Here we're taking 140 node labels for training, 500 for validation, and the rest for testing."
   ]
  },
  {
   "cell_type": "code",
   "execution_count": 8,
   "metadata": {},
   "outputs": [],
   "source": [
    "train_data, test_data = model_selection.train_test_split(\n",
    "    node_data, train_size=140, test_size=None, stratify=node_data['subject']\n",
    ")\n",
    "val_data, test_data = model_selection.train_test_split(\n",
    "    test_data, train_size=500, test_size=None, stratify=test_data['subject']\n",
    ")"
   ]
  },
  {
   "cell_type": "markdown",
   "metadata": {},
   "source": [
    "Note using stratified sampling gives the following counts:"
   ]
  },
  {
   "cell_type": "code",
   "execution_count": 9,
   "metadata": {},
   "outputs": [
    {
     "data": {
      "text/plain": [
       "Counter({'Neural_Networks': 42,\n",
       "         'Genetic_Algorithms': 22,\n",
       "         'Reinforcement_Learning': 11,\n",
       "         'Case_Based': 16,\n",
       "         'Probabilistic_Methods': 22,\n",
       "         'Rule_Learning': 9,\n",
       "         'Theory': 18})"
      ]
     },
     "execution_count": 9,
     "metadata": {},
     "output_type": "execute_result"
    }
   ],
   "source": [
    "from collections import Counter\n",
    "Counter(train_data['subject'])"
   ]
  },
  {
   "cell_type": "markdown",
   "metadata": {},
   "source": [
    "The training set has class imbalance that might need to be compensated, e.g., via using a weighted cross-entropy loss in model training, with class weights inversely proportional to class support. However, we will ignore the class imbalance in this example, for simplicity."
   ]
  },
  {
   "cell_type": "markdown",
   "metadata": {},
   "source": [
    "### Converting to numeric arrays"
   ]
  },
  {
   "cell_type": "markdown",
   "metadata": {},
   "source": [
    "For our categorical target, we will use one-hot vectors that will be fed into a soft-max Keras layer during training. To do this conversion ..."
   ]
  },
  {
   "cell_type": "code",
   "execution_count": 10,
   "metadata": {},
   "outputs": [],
   "source": [
    "target_encoding = feature_extraction.DictVectorizer(sparse=False)\n",
    "\n",
    "train_targets = target_encoding.fit_transform(train_data[[\"subject\"]].to_dict('records'))\n",
    "val_targets = target_encoding.transform(val_data[[\"subject\"]].to_dict('records'))\n",
    "test_targets = target_encoding.transform(test_data[[\"subject\"]].to_dict('records'))"
   ]
  },
  {
   "cell_type": "markdown",
   "metadata": {},
   "source": [
    "We now do the same for the node attributes we want to use to predict the subject. These are the feature vectors that the Keras model will use as input. The CORA dataset contains attributes 'w_x' that correspond to words found in that publication. If a word occurs more than once in a publication the relevant attribute will be set to one, otherwise it will be zero."
   ]
  },
  {
   "cell_type": "code",
   "execution_count": 11,
   "metadata": {},
   "outputs": [],
   "source": [
    "node_features = node_data[feature_names]"
   ]
  },
  {
   "cell_type": "markdown",
   "metadata": {},
   "source": [
    "## Creating the PPNP model in Keras"
   ]
  },
  {
   "cell_type": "markdown",
   "metadata": {},
   "source": [
    "Now create a StellarGraph object from the NetworkX graph and the node features and targets. It is StellarGraph objects that we use in this library to perform machine learning tasks on."
   ]
  },
  {
   "cell_type": "code",
   "execution_count": 12,
   "metadata": {},
   "outputs": [],
   "source": [
    "G = sg.StellarGraph(Gnx, node_features=node_features)"
   ]
  },
  {
   "cell_type": "code",
   "execution_count": 13,
   "metadata": {},
   "outputs": [
    {
     "name": "stdout",
     "output_type": "stream",
     "text": [
      "StellarGraph: Undirected multigraph\n",
      " Nodes: 2708, Edges: 5278\n",
      "\n",
      " Node types:\n",
      "  paper: [2708]\n",
      "    Edge types: paper-cites->paper\n",
      "\n",
      " Edge types:\n",
      "    paper-cites->paper: [5278]\n",
      "\n"
     ]
    }
   ],
   "source": [
    "print(G.info())"
   ]
  },
  {
   "cell_type": "markdown",
   "metadata": {},
   "source": [
    "To feed data from the graph to the Keras model we need a generator. Since PPNP is a full-batch model, we use the `FullBatchNodeGenerator` class to feed node features and the normalized graph Laplacian matrix to the model.\n",
    "\n",
    "Specifying the `method='ppnp'` argument to the `FullBatchNodeGenerator` will pre-process the adjacency matrix and supply the personalized page rank matrix necessary for PPNP.  The personalized page rank matrix is a dense matrix and so `sparse=False` must be passed to `FullBatchNodeGenerator`. `teleport_probability=0.1` specifies the probability of returning to the starting node in the propogation step as desribed in the paper (alpha in the paper). "
   ]
  },
  {
   "cell_type": "code",
   "execution_count": 14,
   "metadata": {},
   "outputs": [],
   "source": [
    "generator = FullBatchNodeGenerator(G, \n",
    "                                   method=\"ppnp\", \n",
    "                                   sparse=False, \n",
    "                                   teleport_probability=0.1\n",
    "                                  )"
   ]
  },
  {
   "cell_type": "markdown",
   "metadata": {},
   "source": [
    "For training we map only the training nodes returned from our splitter and the target values."
   ]
  },
  {
   "cell_type": "code",
   "execution_count": 15,
   "metadata": {},
   "outputs": [],
   "source": [
    "train_gen = generator.flow(train_data.index, train_targets)"
   ]
  },
  {
   "cell_type": "markdown",
   "metadata": {},
   "source": [
    "Now we can specify our machine learning model, we need a few more parameters for this:\n",
    "\n",
    " * the `layer_sizes` is a list of hidden feature sizes of each full fully connected layer in the model. In this example we use three fully connected layers with 64,64, and 7 hidden node features at each layer. \n",
    " * `activations` is a list of activations applied to each layer's output\n",
    " * `dropout=0.5` specifies a 50% dropout at each layer. \n",
    " * `kernel_regularizer=keras.regularizers.l2(0.001)` specifies a penality that prevents the model weights from become too large and helps limit overfitting\n",
    " \n",
    " #### Note that the size of the final fully connected layer must be equal to the number of classes you are trying to predict.\n"
   ]
  },
  {
   "cell_type": "markdown",
   "metadata": {},
   "source": [
    "We create a PPNP model as follows:"
   ]
  },
  {
   "cell_type": "code",
   "execution_count": 16,
   "metadata": {},
   "outputs": [
    {
     "name": "stdout",
     "output_type": "stream",
     "text": [
      "WARNING:tensorflow:From /Users/kieranricardo/anaconda3/envs/stellar-demos/lib/python3.6/site-packages/tensorflow/python/ops/init_ops.py:1251: calling VarianceScaling.__init__ (from tensorflow.python.ops.init_ops) with dtype is deprecated and will be removed in a future version.\n",
      "Instructions for updating:\n",
      "Call initializer instance with the dtype argument instead of passing it to the constructor\n",
      "WARNING:tensorflow:Entity <bound method PPNPPropagationLayer.call of <stellargraph.layer.ppnp.PPNPPropagationLayer object at 0x13c13d828>> could not be transformed and will be executed as-is. Please report this to the AutgoGraph team. When filing the bug, set the verbosity to 10 (on Linux, `export AUTOGRAPH_VERBOSITY=10`) and attach the full output. Cause: converting <bound method PPNPPropagationLayer.call of <stellargraph.layer.ppnp.PPNPPropagationLayer object at 0x13c13d828>>: AttributeError: module 'gast' has no attribute 'Num'\n",
      "WARNING: Entity <bound method PPNPPropagationLayer.call of <stellargraph.layer.ppnp.PPNPPropagationLayer object at 0x13c13d828>> could not be transformed and will be executed as-is. Please report this to the AutgoGraph team. When filing the bug, set the verbosity to 10 (on Linux, `export AUTOGRAPH_VERBOSITY=10`) and attach the full output. Cause: converting <bound method PPNPPropagationLayer.call of <stellargraph.layer.ppnp.PPNPPropagationLayer object at 0x13c13d828>>: AttributeError: module 'gast' has no attribute 'Num'\n"
     ]
    }
   ],
   "source": [
    "ppnp = PPNP(layer_sizes=[64, 64, train_targets.shape[-1]], \n",
    "            activations=['relu', 'relu', 'relu'], \n",
    "            generator=generator, \n",
    "            dropout=0.5, \n",
    "            kernel_regularizer=keras.regularizers.l2(0.001))\n",
    "\n",
    "x_inp, x_out = ppnp.node_model()\n",
    "predictions = keras.layers.Softmax()(x_out)"
   ]
  },
  {
   "cell_type": "markdown",
   "metadata": {},
   "source": [
    "### Training the model"
   ]
  },
  {
   "cell_type": "markdown",
   "metadata": {},
   "source": [
    "Now let's create the actual Keras model with the input tensors `x_inp` and output tensors being the predictions `predictions` from the final dense layer"
   ]
  },
  {
   "cell_type": "code",
   "execution_count": 17,
   "metadata": {},
   "outputs": [],
   "source": [
    "ppnp_model = Model(inputs=x_inp, outputs=predictions)\n",
    "ppnp_model.compile(\n",
    "    optimizer=optimizers.Adam(lr=0.01),\n",
    "    loss=losses.categorical_crossentropy,\n",
    "    metrics=[\"acc\"],\n",
    ")"
   ]
  },
  {
   "cell_type": "markdown",
   "metadata": {},
   "source": [
    "Train the model, keeping track of its loss and accuracy on the training set, and its generalisation performance on the validation set (we need to create another generator over the validation data for this)"
   ]
  },
  {
   "cell_type": "code",
   "execution_count": 18,
   "metadata": {},
   "outputs": [],
   "source": [
    "val_gen = generator.flow(val_data.index, val_targets)"
   ]
  },
  {
   "cell_type": "markdown",
   "metadata": {},
   "source": [
    "Create callbacks for early stopping (if validation accuracy stops improving) and best model checkpoint saving:"
   ]
  },
  {
   "cell_type": "code",
   "execution_count": 19,
   "metadata": {},
   "outputs": [],
   "source": [
    "if not os.path.isdir(\"logs\"):\n",
    "    os.makedirs(\"logs\")"
   ]
  },
  {
   "cell_type": "code",
   "execution_count": 20,
   "metadata": {},
   "outputs": [],
   "source": [
    "es_callback = EarlyStopping(monitor=\"val_acc\", patience=50)  # patience is the number of epochs to wait before early stopping in case of no further improvement\n",
    "\n",
    "mc_callback = ModelCheckpoint(\n",
    "    \"logs/best_ppnp_model.h5\",\n",
    "    monitor=\"val_acc\",\n",
    "    save_best_only=True,\n",
    "    save_weights_only=True,\n",
    ")"
   ]
  },
  {
   "cell_type": "markdown",
   "metadata": {},
   "source": [
    "Train the model"
   ]
  },
  {
   "cell_type": "code",
   "execution_count": 21,
   "metadata": {},
   "outputs": [
    {
     "name": "stdout",
     "output_type": "stream",
     "text": [
      "Epoch 1/80\n",
      "1/1 - 1s - loss: 2.1459 - acc: 0.1429 - val_loss: 2.0758 - val_acc: 0.3020\n",
      "Epoch 2/80\n",
      "1/1 - 0s - loss: 2.0455 - acc: 0.3071 - val_loss: 2.0132 - val_acc: 0.3020\n",
      "Epoch 3/80\n",
      "1/1 - 0s - loss: 1.9994 - acc: 0.3000 - val_loss: 1.9583 - val_acc: 0.3020\n",
      "Epoch 4/80\n",
      "1/1 - 0s - loss: 1.9560 - acc: 0.2929 - val_loss: 1.9091 - val_acc: 0.3020\n",
      "Epoch 5/80\n",
      "1/1 - 0s - loss: 1.9035 - acc: 0.3071 - val_loss: 1.8552 - val_acc: 0.3120\n",
      "Epoch 6/80\n",
      "1/1 - 0s - loss: 1.8473 - acc: 0.3000 - val_loss: 1.8020 - val_acc: 0.3300\n",
      "Epoch 7/80\n",
      "1/1 - 0s - loss: 1.7687 - acc: 0.3429 - val_loss: 1.7562 - val_acc: 0.3880\n",
      "Epoch 8/80\n",
      "1/1 - 0s - loss: 1.7264 - acc: 0.3643 - val_loss: 1.7144 - val_acc: 0.4020\n",
      "Epoch 9/80\n",
      "1/1 - 0s - loss: 1.7059 - acc: 0.4357 - val_loss: 1.6639 - val_acc: 0.4780\n",
      "Epoch 10/80\n",
      "1/1 - 0s - loss: 1.5555 - acc: 0.4786 - val_loss: 1.6141 - val_acc: 0.5180\n",
      "Epoch 11/80\n",
      "1/1 - 0s - loss: 1.5204 - acc: 0.5714 - val_loss: 1.5616 - val_acc: 0.5560\n",
      "Epoch 12/80\n",
      "1/1 - 0s - loss: 1.4618 - acc: 0.5714 - val_loss: 1.5176 - val_acc: 0.5800\n",
      "Epoch 13/80\n",
      "1/1 - 0s - loss: 1.4895 - acc: 0.5571 - val_loss: 1.4805 - val_acc: 0.5940\n",
      "Epoch 14/80\n",
      "1/1 - 0s - loss: 1.3794 - acc: 0.6000 - val_loss: 1.4521 - val_acc: 0.6000\n",
      "Epoch 15/80\n",
      "1/1 - 0s - loss: 1.3643 - acc: 0.6143 - val_loss: 1.4207 - val_acc: 0.6220\n",
      "Epoch 16/80\n",
      "1/1 - 0s - loss: 1.3093 - acc: 0.6286 - val_loss: 1.3909 - val_acc: 0.6400\n",
      "Epoch 17/80\n",
      "1/1 - 0s - loss: 1.3535 - acc: 0.6071 - val_loss: 1.3639 - val_acc: 0.6420\n",
      "Epoch 18/80\n",
      "1/1 - 0s - loss: 1.2354 - acc: 0.6643 - val_loss: 1.3352 - val_acc: 0.6440\n",
      "Epoch 19/80\n",
      "1/1 - 0s - loss: 1.3027 - acc: 0.6214 - val_loss: 1.3095 - val_acc: 0.6460\n",
      "Epoch 20/80\n",
      "1/1 - 0s - loss: 1.2683 - acc: 0.6429 - val_loss: 1.2860 - val_acc: 0.6480\n",
      "Epoch 21/80\n",
      "1/1 - 0s - loss: 1.0962 - acc: 0.7000 - val_loss: 1.2671 - val_acc: 0.6680\n",
      "Epoch 22/80\n",
      "1/1 - 0s - loss: 1.1602 - acc: 0.6500 - val_loss: 1.2535 - val_acc: 0.6880\n",
      "Epoch 23/80\n",
      "1/1 - 0s - loss: 1.0498 - acc: 0.6857 - val_loss: 1.2381 - val_acc: 0.7100\n",
      "Epoch 24/80\n",
      "1/1 - 0s - loss: 1.0985 - acc: 0.7071 - val_loss: 1.2204 - val_acc: 0.7040\n",
      "Epoch 25/80\n",
      "1/1 - 0s - loss: 1.0586 - acc: 0.7286 - val_loss: 1.2081 - val_acc: 0.6900\n",
      "Epoch 26/80\n",
      "1/1 - 0s - loss: 1.1277 - acc: 0.6786 - val_loss: 1.2036 - val_acc: 0.6780\n",
      "Epoch 27/80\n",
      "1/1 - 0s - loss: 1.0026 - acc: 0.7357 - val_loss: 1.1994 - val_acc: 0.6980\n",
      "Epoch 28/80\n",
      "1/1 - 0s - loss: 1.0627 - acc: 0.7000 - val_loss: 1.1909 - val_acc: 0.7080\n",
      "Epoch 29/80\n",
      "1/1 - 0s - loss: 1.0881 - acc: 0.7143 - val_loss: 1.1856 - val_acc: 0.7200\n",
      "Epoch 30/80\n",
      "1/1 - 0s - loss: 1.0481 - acc: 0.6857 - val_loss: 1.1879 - val_acc: 0.7120\n",
      "Epoch 31/80\n",
      "1/1 - 0s - loss: 1.0568 - acc: 0.6857 - val_loss: 1.1980 - val_acc: 0.7020\n",
      "Epoch 32/80\n",
      "1/1 - 0s - loss: 1.0314 - acc: 0.6929 - val_loss: 1.1979 - val_acc: 0.7120\n",
      "Epoch 33/80\n",
      "1/1 - 0s - loss: 0.9578 - acc: 0.7643 - val_loss: 1.1827 - val_acc: 0.7260\n",
      "Epoch 34/80\n",
      "1/1 - 0s - loss: 1.0190 - acc: 0.7286 - val_loss: 1.1597 - val_acc: 0.7180\n",
      "Epoch 35/80\n",
      "1/1 - 0s - loss: 0.9830 - acc: 0.7500 - val_loss: 1.1463 - val_acc: 0.7120\n",
      "Epoch 36/80\n",
      "1/1 - 0s - loss: 0.8884 - acc: 0.7786 - val_loss: 1.1486 - val_acc: 0.7000\n",
      "Epoch 37/80\n",
      "1/1 - 0s - loss: 0.8917 - acc: 0.7929 - val_loss: 1.1568 - val_acc: 0.6920\n",
      "Epoch 38/80\n",
      "1/1 - 0s - loss: 0.9518 - acc: 0.7143 - val_loss: 1.1385 - val_acc: 0.6960\n",
      "Epoch 39/80\n",
      "1/1 - 0s - loss: 0.8981 - acc: 0.8214 - val_loss: 1.1164 - val_acc: 0.6980\n",
      "Epoch 40/80\n",
      "1/1 - 0s - loss: 0.7569 - acc: 0.8286 - val_loss: 1.1022 - val_acc: 0.7000\n",
      "Epoch 41/80\n",
      "1/1 - 0s - loss: 0.8020 - acc: 0.8357 - val_loss: 1.0930 - val_acc: 0.7080\n",
      "Epoch 42/80\n",
      "1/1 - 0s - loss: 0.8542 - acc: 0.7786 - val_loss: 1.0855 - val_acc: 0.7180\n",
      "Epoch 43/80\n",
      "1/1 - 0s - loss: 0.8308 - acc: 0.8000 - val_loss: 1.0789 - val_acc: 0.7180\n",
      "Epoch 44/80\n",
      "1/1 - 0s - loss: 0.7490 - acc: 0.8286 - val_loss: 1.0744 - val_acc: 0.7180\n",
      "Epoch 45/80\n",
      "1/1 - 0s - loss: 0.7907 - acc: 0.8071 - val_loss: 1.0690 - val_acc: 0.7200\n",
      "Epoch 46/80\n",
      "1/1 - 0s - loss: 0.8097 - acc: 0.8000 - val_loss: 1.0626 - val_acc: 0.7200\n",
      "Epoch 47/80\n",
      "1/1 - 0s - loss: 0.8048 - acc: 0.7857 - val_loss: 1.0542 - val_acc: 0.7200\n",
      "Epoch 48/80\n",
      "1/1 - 0s - loss: 0.8474 - acc: 0.8071 - val_loss: 1.0467 - val_acc: 0.7300\n",
      "Epoch 49/80\n",
      "1/1 - 0s - loss: 0.7417 - acc: 0.8214 - val_loss: 1.0467 - val_acc: 0.7260\n",
      "Epoch 50/80\n",
      "1/1 - 0s - loss: 0.7737 - acc: 0.8214 - val_loss: 1.0477 - val_acc: 0.7280\n",
      "Epoch 51/80\n",
      "1/1 - 0s - loss: 0.7415 - acc: 0.8429 - val_loss: 1.0485 - val_acc: 0.7300\n",
      "Epoch 52/80\n",
      "1/1 - 0s - loss: 0.7722 - acc: 0.8214 - val_loss: 1.0472 - val_acc: 0.7400\n",
      "Epoch 53/80\n",
      "1/1 - 0s - loss: 0.7232 - acc: 0.8286 - val_loss: 1.0507 - val_acc: 0.7620\n",
      "Epoch 54/80\n",
      "1/1 - 0s - loss: 0.8618 - acc: 0.8000 - val_loss: 1.0413 - val_acc: 0.7660\n",
      "Epoch 55/80\n",
      "1/1 - 0s - loss: 0.8381 - acc: 0.8357 - val_loss: 1.0374 - val_acc: 0.7680\n",
      "Epoch 56/80\n",
      "1/1 - 0s - loss: 0.8152 - acc: 0.8286 - val_loss: 1.0196 - val_acc: 0.7720\n",
      "Epoch 57/80\n",
      "1/1 - 0s - loss: 0.7623 - acc: 0.8571 - val_loss: 1.0075 - val_acc: 0.7800\n",
      "Epoch 58/80\n",
      "1/1 - 0s - loss: 0.7632 - acc: 0.8071 - val_loss: 0.9996 - val_acc: 0.7820\n",
      "Epoch 59/80\n",
      "1/1 - 0s - loss: 0.7872 - acc: 0.8500 - val_loss: 0.9992 - val_acc: 0.7860\n",
      "Epoch 60/80\n",
      "1/1 - 0s - loss: 0.7420 - acc: 0.8286 - val_loss: 1.0069 - val_acc: 0.7780\n",
      "Epoch 61/80\n",
      "1/1 - 0s - loss: 0.7649 - acc: 0.8214 - val_loss: 0.9927 - val_acc: 0.7820\n",
      "Epoch 62/80\n",
      "1/1 - 0s - loss: 0.8312 - acc: 0.7929 - val_loss: 0.9782 - val_acc: 0.7780\n",
      "Epoch 63/80\n",
      "1/1 - 0s - loss: 0.7973 - acc: 0.8286 - val_loss: 0.9804 - val_acc: 0.7720\n",
      "Epoch 64/80\n",
      "1/1 - 0s - loss: 0.7282 - acc: 0.8643 - val_loss: 0.9993 - val_acc: 0.7680\n",
      "Epoch 65/80\n",
      "1/1 - 0s - loss: 0.6789 - acc: 0.8571 - val_loss: 1.0227 - val_acc: 0.7620\n",
      "Epoch 66/80\n",
      "1/1 - 0s - loss: 0.7789 - acc: 0.8571 - val_loss: 1.0317 - val_acc: 0.7620\n",
      "Epoch 67/80\n",
      "1/1 - 0s - loss: 0.7004 - acc: 0.8643 - val_loss: 1.0200 - val_acc: 0.7600\n",
      "Epoch 68/80\n",
      "1/1 - 0s - loss: 0.7385 - acc: 0.8500 - val_loss: 0.9942 - val_acc: 0.7740\n",
      "Epoch 69/80\n",
      "1/1 - 0s - loss: 0.6752 - acc: 0.8714 - val_loss: 0.9759 - val_acc: 0.7840\n",
      "Epoch 70/80\n",
      "1/1 - 0s - loss: 0.6199 - acc: 0.8857 - val_loss: 0.9614 - val_acc: 0.7900\n",
      "Epoch 71/80\n",
      "1/1 - 0s - loss: 0.6286 - acc: 0.9000 - val_loss: 0.9549 - val_acc: 0.7900\n",
      "Epoch 72/80\n",
      "1/1 - 0s - loss: 0.7463 - acc: 0.8500 - val_loss: 0.9499 - val_acc: 0.8000\n",
      "Epoch 73/80\n",
      "1/1 - 0s - loss: 0.6527 - acc: 0.9071 - val_loss: 0.9449 - val_acc: 0.8140\n",
      "Epoch 74/80\n",
      "1/1 - 0s - loss: 0.7102 - acc: 0.8643 - val_loss: 0.9464 - val_acc: 0.8080\n",
      "Epoch 75/80\n",
      "1/1 - 0s - loss: 0.7182 - acc: 0.8500 - val_loss: 0.9496 - val_acc: 0.7980\n",
      "Epoch 76/80\n",
      "1/1 - 0s - loss: 0.5942 - acc: 0.9071 - val_loss: 0.9537 - val_acc: 0.7920\n",
      "Epoch 77/80\n",
      "1/1 - 0s - loss: 0.6381 - acc: 0.9214 - val_loss: 0.9658 - val_acc: 0.7800\n",
      "Epoch 78/80\n",
      "1/1 - 0s - loss: 0.8007 - acc: 0.8286 - val_loss: 0.9776 - val_acc: 0.7780\n",
      "Epoch 79/80\n",
      "1/1 - 0s - loss: 0.6355 - acc: 0.8857 - val_loss: 0.9846 - val_acc: 0.7760\n",
      "Epoch 80/80\n",
      "1/1 - 0s - loss: 0.5328 - acc: 0.9571 - val_loss: 0.9915 - val_acc: 0.7840\n"
     ]
    }
   ],
   "source": [
    "history = ppnp_model.fit_generator(\n",
    "    train_gen,\n",
    "    epochs=80,\n",
    "    validation_data=val_gen,\n",
    "    verbose=2,\n",
    "    shuffle=False,  # this should be False, since shuffling data means shuffling the whole graph\n",
    "    callbacks=[es_callback, mc_callback],\n",
    ")"
   ]
  },
  {
   "cell_type": "markdown",
   "metadata": {},
   "source": [
    "Plot the training history:"
   ]
  },
  {
   "cell_type": "code",
   "execution_count": 22,
   "metadata": {},
   "outputs": [],
   "source": [
    "import matplotlib.pyplot as plt\n",
    "%matplotlib inline\n",
    "\n",
    "def remove_prefix(text, prefix):\n",
    "    return text[text.startswith(prefix) and len(prefix):]\n",
    "\n",
    "def plot_history(history):\n",
    "    metrics = sorted(set([remove_prefix(m, \"val_\") for m in list(history.history.keys())]))\n",
    "    for m in metrics:\n",
    "        # summarize history for metric m\n",
    "        plt.plot(history.history[m])\n",
    "        plt.plot(history.history['val_' + m])\n",
    "        plt.title(m)\n",
    "        plt.ylabel(m)\n",
    "        plt.xlabel('epoch')\n",
    "        plt.legend(['train', 'validation'], loc='best')\n",
    "        plt.show()"
   ]
  },
  {
   "cell_type": "code",
   "execution_count": 23,
   "metadata": {},
   "outputs": [
    {
     "data": {
      "image/png": "[encoded data removed]",
      "text/plain": [
       "<Figure size 432x288 with 1 Axes>"
      ]
     },
     "metadata": {
      "needs_background": "light"
     },
     "output_type": "display_data"
    },
    {
     "data": {
      "image/png": "[encoded data removed]",
      "text/plain": [
       "<Figure size 432x288 with 1 Axes>"
      ]
     },
     "metadata": {
      "needs_background": "light"
     },
     "output_type": "display_data"
    }
   ],
   "source": [
    "plot_history(history)"
   ]
  },
  {
   "cell_type": "markdown",
   "metadata": {},
   "source": [
    "Reload the saved weights of the best model found during the training (according to validation accuracy)"
   ]
  },
  {
   "cell_type": "code",
   "execution_count": 24,
   "metadata": {},
   "outputs": [],
   "source": [
    "ppnp_model.load_weights(\"logs/best_ppnp_model.h5\")"
   ]
  },
  {
   "cell_type": "markdown",
   "metadata": {},
   "source": [
    "Evaluate the best model on the test set"
   ]
  },
  {
   "cell_type": "code",
   "execution_count": 25,
   "metadata": {},
   "outputs": [],
   "source": [
    "test_gen = generator.flow(test_data.index, test_targets)"
   ]
  },
  {
   "cell_type": "code",
   "execution_count": 26,
   "metadata": {},
   "outputs": [
    {
     "name": "stdout",
     "output_type": "stream",
     "text": [
      "\n",
      "Test Set Metrics:\n",
      "\tloss: 0.9332\n",
      "\tacc: 0.8075\n"
     ]
    }
   ],
   "source": [
    "test_metrics = ppnp_model.evaluate_generator(test_gen)\n",
    "print(\"\\nTest Set Metrics:\")\n",
    "for name, val in zip(ppnp_model.metrics_names, test_metrics):\n",
    "    print(\"\\t{}: {:0.4f}\".format(name, val))"
   ]
  },
  {
   "cell_type": "markdown",
   "metadata": {},
   "source": [
    "## Using the Approximate PPNP Model\n",
    "\n",
    "Lets repeat the training and testing steps with the APPNP model using the same dataset. The downside of the PPNP is that you have to invert the adjacency matrix - which is time inneficient for large graphs - and store that invert matrix - which is space innefficient. The approximate model avoids this issue by using a clever mathematical trick. \n",
    "\n",
    "The APPNP model uses the normalized graph Laplacian. To get the normalized graph Laplacian we create a new `FullBatchNodeGenerator` and set `method=\"gcn\"`. We have the option of choosing `sparse=True` or `sparse=False` but will use `sparse=True` for memory efficiency."
   ]
  },
  {
   "cell_type": "code",
   "execution_count": 27,
   "metadata": {},
   "outputs": [
    {
     "name": "stdout",
     "output_type": "stream",
     "text": [
      "Using GCN (local pooling) filters...\n",
      "WARNING:tensorflow:Entity <bound method SqueezedSparseConversion.call of <stellargraph.layer.misc.SqueezedSparseConversion object at 0x13e657630>> could not be transformed and will be executed as-is. Please report this to the AutgoGraph team. When filing the bug, set the verbosity to 10 (on Linux, `export AUTOGRAPH_VERBOSITY=10`) and attach the full output. Cause: converting <bound method SqueezedSparseConversion.call of <stellargraph.layer.misc.SqueezedSparseConversion object at 0x13e657630>>: AttributeError: module 'gast' has no attribute 'Num'\n",
      "WARNING: Entity <bound method SqueezedSparseConversion.call of <stellargraph.layer.misc.SqueezedSparseConversion object at 0x13e657630>> could not be transformed and will be executed as-is. Please report this to the AutgoGraph team. When filing the bug, set the verbosity to 10 (on Linux, `export AUTOGRAPH_VERBOSITY=10`) and attach the full output. Cause: converting <bound method SqueezedSparseConversion.call of <stellargraph.layer.misc.SqueezedSparseConversion object at 0x13e657630>>: AttributeError: module 'gast' has no attribute 'Num'\n",
      "WARNING:tensorflow:Entity <bound method APPNPPropagationLayer.call of <stellargraph.layer.appnp.APPNPPropagationLayer object at 0x13e6d0828>> could not be transformed and will be executed as-is. Please report this to the AutgoGraph team. When filing the bug, set the verbosity to 10 (on Linux, `export AUTOGRAPH_VERBOSITY=10`) and attach the full output. Cause: converting <bound method APPNPPropagationLayer.call of <stellargraph.layer.appnp.APPNPPropagationLayer object at 0x13e6d0828>>: AttributeError: module 'gast' has no attribute 'Num'\n",
      "WARNING: Entity <bound method APPNPPropagationLayer.call of <stellargraph.layer.appnp.APPNPPropagationLayer object at 0x13e6d0828>> could not be transformed and will be executed as-is. Please report this to the AutgoGraph team. When filing the bug, set the verbosity to 10 (on Linux, `export AUTOGRAPH_VERBOSITY=10`) and attach the full output. Cause: converting <bound method APPNPPropagationLayer.call of <stellargraph.layer.appnp.APPNPPropagationLayer object at 0x13e6d0828>>: AttributeError: module 'gast' has no attribute 'Num'\n",
      "WARNING:tensorflow:Entity <bound method APPNPPropagationLayer.call of <stellargraph.layer.appnp.APPNPPropagationLayer object at 0x13e6d0a20>> could not be transformed and will be executed as-is. Please report this to the AutgoGraph team. When filing the bug, set the verbosity to 10 (on Linux, `export AUTOGRAPH_VERBOSITY=10`) and attach the full output. Cause: converting <bound method APPNPPropagationLayer.call of <stellargraph.layer.appnp.APPNPPropagationLayer object at 0x13e6d0a20>>: AttributeError: module 'gast' has no attribute 'Num'\n",
      "WARNING: Entity <bound method APPNPPropagationLayer.call of <stellargraph.layer.appnp.APPNPPropagationLayer object at 0x13e6d0a20>> could not be transformed and will be executed as-is. Please report this to the AutgoGraph team. When filing the bug, set the verbosity to 10 (on Linux, `export AUTOGRAPH_VERBOSITY=10`) and attach the full output. Cause: converting <bound method APPNPPropagationLayer.call of <stellargraph.layer.appnp.APPNPPropagationLayer object at 0x13e6d0a20>>: AttributeError: module 'gast' has no attribute 'Num'\n",
      "WARNING:tensorflow:Entity <bound method APPNPPropagationLayer.call of <stellargraph.layer.appnp.APPNPPropagationLayer object at 0x13e6d0c18>> could not be transformed and will be executed as-is. Please report this to the AutgoGraph team. When filing the bug, set the verbosity to 10 (on Linux, `export AUTOGRAPH_VERBOSITY=10`) and attach the full output. Cause: converting <bound method APPNPPropagationLayer.call of <stellargraph.layer.appnp.APPNPPropagationLayer object at 0x13e6d0c18>>: AttributeError: module 'gast' has no attribute 'Num'\n",
      "WARNING: Entity <bound method APPNPPropagationLayer.call of <stellargraph.layer.appnp.APPNPPropagationLayer object at 0x13e6d0c18>> could not be transformed and will be executed as-is. Please report this to the AutgoGraph team. When filing the bug, set the verbosity to 10 (on Linux, `export AUTOGRAPH_VERBOSITY=10`) and attach the full output. Cause: converting <bound method APPNPPropagationLayer.call of <stellargraph.layer.appnp.APPNPPropagationLayer object at 0x13e6d0c18>>: AttributeError: module 'gast' has no attribute 'Num'\n",
      "WARNING:tensorflow:Entity <bound method APPNPPropagationLayer.call of <stellargraph.layer.appnp.APPNPPropagationLayer object at 0x13e6d0e10>> could not be transformed and will be executed as-is. Please report this to the AutgoGraph team. When filing the bug, set the verbosity to 10 (on Linux, `export AUTOGRAPH_VERBOSITY=10`) and attach the full output. Cause: converting <bound method APPNPPropagationLayer.call of <stellargraph.layer.appnp.APPNPPropagationLayer object at 0x13e6d0e10>>: AttributeError: module 'gast' has no attribute 'Num'\n",
      "WARNING: Entity <bound method APPNPPropagationLayer.call of <stellargraph.layer.appnp.APPNPPropagationLayer object at 0x13e6d0e10>> could not be transformed and will be executed as-is. Please report this to the AutgoGraph team. When filing the bug, set the verbosity to 10 (on Linux, `export AUTOGRAPH_VERBOSITY=10`) and attach the full output. Cause: converting <bound method APPNPPropagationLayer.call of <stellargraph.layer.appnp.APPNPPropagationLayer object at 0x13e6d0e10>>: AttributeError: module 'gast' has no attribute 'Num'\n",
      "WARNING:tensorflow:Entity <bound method APPNPPropagationLayer.call of <stellargraph.layer.appnp.APPNPPropagationLayer object at 0x13e531a20>> could not be transformed and will be executed as-is. Please report this to the AutgoGraph team. When filing the bug, set the verbosity to 10 (on Linux, `export AUTOGRAPH_VERBOSITY=10`) and attach the full output. Cause: converting <bound method APPNPPropagationLayer.call of <stellargraph.layer.appnp.APPNPPropagationLayer object at 0x13e531a20>>: AttributeError: module 'gast' has no attribute 'Num'\n",
      "WARNING: Entity <bound method APPNPPropagationLayer.call of <stellargraph.layer.appnp.APPNPPropagationLayer object at 0x13e531a20>> could not be transformed and will be executed as-is. Please report this to the AutgoGraph team. When filing the bug, set the verbosity to 10 (on Linux, `export AUTOGRAPH_VERBOSITY=10`) and attach the full output. Cause: converting <bound method APPNPPropagationLayer.call of <stellargraph.layer.appnp.APPNPPropagationLayer object at 0x13e531a20>>: AttributeError: module 'gast' has no attribute 'Num'\n",
      "WARNING:tensorflow:Entity <bound method APPNPPropagationLayer.call of <stellargraph.layer.appnp.APPNPPropagationLayer object at 0x13e650160>> could not be transformed and will be executed as-is. Please report this to the AutgoGraph team. When filing the bug, set the verbosity to 10 (on Linux, `export AUTOGRAPH_VERBOSITY=10`) and attach the full output. Cause: converting <bound method APPNPPropagationLayer.call of <stellargraph.layer.appnp.APPNPPropagationLayer object at 0x13e650160>>: AttributeError: module 'gast' has no attribute 'Num'\n",
      "WARNING: Entity <bound method APPNPPropagationLayer.call of <stellargraph.layer.appnp.APPNPPropagationLayer object at 0x13e650160>> could not be transformed and will be executed as-is. Please report this to the AutgoGraph team. When filing the bug, set the verbosity to 10 (on Linux, `export AUTOGRAPH_VERBOSITY=10`) and attach the full output. Cause: converting <bound method APPNPPropagationLayer.call of <stellargraph.layer.appnp.APPNPPropagationLayer object at 0x13e650160>>: AttributeError: module 'gast' has no attribute 'Num'\n",
      "WARNING:tensorflow:Entity <bound method APPNPPropagationLayer.call of <stellargraph.layer.appnp.APPNPPropagationLayer object at 0x13e650358>> could not be transformed and will be executed as-is. Please report this to the AutgoGraph team. When filing the bug, set the verbosity to 10 (on Linux, `export AUTOGRAPH_VERBOSITY=10`) and attach the full output. Cause: converting <bound method APPNPPropagationLayer.call of <stellargraph.layer.appnp.APPNPPropagationLayer object at 0x13e650358>>: AttributeError: module 'gast' has no attribute 'Num'\n",
      "WARNING: Entity <bound method APPNPPropagationLayer.call of <stellargraph.layer.appnp.APPNPPropagationLayer object at 0x13e650358>> could not be transformed and will be executed as-is. Please report this to the AutgoGraph team. When filing the bug, set the verbosity to 10 (on Linux, `export AUTOGRAPH_VERBOSITY=10`) and attach the full output. Cause: converting <bound method APPNPPropagationLayer.call of <stellargraph.layer.appnp.APPNPPropagationLayer object at 0x13e650358>>: AttributeError: module 'gast' has no attribute 'Num'\n",
      "WARNING:tensorflow:Entity <bound method APPNPPropagationLayer.call of <stellargraph.layer.appnp.APPNPPropagationLayer object at 0x13e650550>> could not be transformed and will be executed as-is. Please report this to the AutgoGraph team. When filing the bug, set the verbosity to 10 (on Linux, `export AUTOGRAPH_VERBOSITY=10`) and attach the full output. Cause: converting <bound method APPNPPropagationLayer.call of <stellargraph.layer.appnp.APPNPPropagationLayer object at 0x13e650550>>: AttributeError: module 'gast' has no attribute 'Num'\n"
     ]
    },
    {
     "name": "stdout",
     "output_type": "stream",
     "text": [
      "WARNING: Entity <bound method APPNPPropagationLayer.call of <stellargraph.layer.appnp.APPNPPropagationLayer object at 0x13e650550>> could not be transformed and will be executed as-is. Please report this to the AutgoGraph team. When filing the bug, set the verbosity to 10 (on Linux, `export AUTOGRAPH_VERBOSITY=10`) and attach the full output. Cause: converting <bound method APPNPPropagationLayer.call of <stellargraph.layer.appnp.APPNPPropagationLayer object at 0x13e650550>>: AttributeError: module 'gast' has no attribute 'Num'\n",
      "WARNING:tensorflow:Entity <bound method APPNPPropagationLayer.call of <stellargraph.layer.appnp.APPNPPropagationLayer object at 0x13e650748>> could not be transformed and will be executed as-is. Please report this to the AutgoGraph team. When filing the bug, set the verbosity to 10 (on Linux, `export AUTOGRAPH_VERBOSITY=10`) and attach the full output. Cause: converting <bound method APPNPPropagationLayer.call of <stellargraph.layer.appnp.APPNPPropagationLayer object at 0x13e650748>>: AttributeError: module 'gast' has no attribute 'Num'\n",
      "WARNING: Entity <bound method APPNPPropagationLayer.call of <stellargraph.layer.appnp.APPNPPropagationLayer object at 0x13e650748>> could not be transformed and will be executed as-is. Please report this to the AutgoGraph team. When filing the bug, set the verbosity to 10 (on Linux, `export AUTOGRAPH_VERBOSITY=10`) and attach the full output. Cause: converting <bound method APPNPPropagationLayer.call of <stellargraph.layer.appnp.APPNPPropagationLayer object at 0x13e650748>>: AttributeError: module 'gast' has no attribute 'Num'\n",
      "WARNING:tensorflow:Entity <bound method APPNPPropagationLayer.call of <stellargraph.layer.appnp.APPNPPropagationLayer object at 0x13e650940>> could not be transformed and will be executed as-is. Please report this to the AutgoGraph team. When filing the bug, set the verbosity to 10 (on Linux, `export AUTOGRAPH_VERBOSITY=10`) and attach the full output. Cause: converting <bound method APPNPPropagationLayer.call of <stellargraph.layer.appnp.APPNPPropagationLayer object at 0x13e650940>>: AttributeError: module 'gast' has no attribute 'Num'\n",
      "WARNING: Entity <bound method APPNPPropagationLayer.call of <stellargraph.layer.appnp.APPNPPropagationLayer object at 0x13e650940>> could not be transformed and will be executed as-is. Please report this to the AutgoGraph team. When filing the bug, set the verbosity to 10 (on Linux, `export AUTOGRAPH_VERBOSITY=10`) and attach the full output. Cause: converting <bound method APPNPPropagationLayer.call of <stellargraph.layer.appnp.APPNPPropagationLayer object at 0x13e650940>>: AttributeError: module 'gast' has no attribute 'Num'\n",
      "Epoch 1/120\n",
      "1/1 - 1s - loss: 2.2122 - acc: 0.2357 - val_loss: 2.0658 - val_acc: 0.3020\n",
      "Epoch 2/120\n",
      "1/1 - 0s - loss: 2.0761 - acc: 0.2786 - val_loss: 2.0275 - val_acc: 0.3020\n",
      "Epoch 3/120\n",
      "1/1 - 0s - loss: 2.0030 - acc: 0.3143 - val_loss: 1.9706 - val_acc: 0.3020\n",
      "Epoch 4/120\n",
      "1/1 - 0s - loss: 2.0150 - acc: 0.2786 - val_loss: 1.9306 - val_acc: 0.3220\n",
      "Epoch 5/120\n",
      "1/1 - 0s - loss: 1.9506 - acc: 0.3714 - val_loss: 1.8767 - val_acc: 0.3920\n",
      "Epoch 6/120\n",
      "1/1 - 0s - loss: 1.8569 - acc: 0.3429 - val_loss: 1.8194 - val_acc: 0.4100\n",
      "Epoch 7/120\n",
      "1/1 - 0s - loss: 1.9056 - acc: 0.3786 - val_loss: 1.7613 - val_acc: 0.4640\n",
      "Epoch 8/120\n",
      "1/1 - 0s - loss: 1.8428 - acc: 0.3571 - val_loss: 1.6947 - val_acc: 0.5220\n",
      "Epoch 9/120\n",
      "1/1 - 0s - loss: 1.7652 - acc: 0.4214 - val_loss: 1.6329 - val_acc: 0.5280\n",
      "Epoch 10/120\n",
      "1/1 - 0s - loss: 1.6254 - acc: 0.5071 - val_loss: 1.5795 - val_acc: 0.5300\n",
      "Epoch 11/120\n",
      "1/1 - 0s - loss: 1.7784 - acc: 0.4357 - val_loss: 1.5399 - val_acc: 0.5440\n",
      "Epoch 12/120\n",
      "1/1 - 0s - loss: 1.6732 - acc: 0.5357 - val_loss: 1.4974 - val_acc: 0.5480\n",
      "Epoch 13/120\n",
      "1/1 - 0s - loss: 1.5599 - acc: 0.5214 - val_loss: 1.4560 - val_acc: 0.5700\n",
      "Epoch 14/120\n",
      "1/1 - 0s - loss: 1.5009 - acc: 0.5643 - val_loss: 1.4206 - val_acc: 0.6140\n",
      "Epoch 15/120\n",
      "1/1 - 0s - loss: 1.5452 - acc: 0.6000 - val_loss: 1.3962 - val_acc: 0.6400\n",
      "Epoch 16/120\n",
      "1/1 - 0s - loss: 1.5122 - acc: 0.5500 - val_loss: 1.3716 - val_acc: 0.6560\n",
      "Epoch 17/120\n",
      "1/1 - 0s - loss: 1.3017 - acc: 0.6500 - val_loss: 1.3477 - val_acc: 0.6880\n",
      "Epoch 18/120\n",
      "1/1 - 0s - loss: 1.4485 - acc: 0.6357 - val_loss: 1.3273 - val_acc: 0.6880\n",
      "Epoch 19/120\n",
      "1/1 - 0s - loss: 1.5799 - acc: 0.5857 - val_loss: 1.3181 - val_acc: 0.6600\n",
      "Epoch 20/120\n",
      "1/1 - 0s - loss: 1.4151 - acc: 0.5857 - val_loss: 1.3175 - val_acc: 0.6320\n",
      "Epoch 21/120\n",
      "1/1 - 0s - loss: 1.3445 - acc: 0.6000 - val_loss: 1.3216 - val_acc: 0.6320\n",
      "Epoch 22/120\n",
      "1/1 - 0s - loss: 1.6043 - acc: 0.6357 - val_loss: 1.3285 - val_acc: 0.6680\n",
      "Epoch 23/120\n",
      "1/1 - 0s - loss: 1.3936 - acc: 0.6500 - val_loss: 1.3384 - val_acc: 0.6760\n",
      "Epoch 24/120\n",
      "1/1 - 0s - loss: 1.3612 - acc: 0.6143 - val_loss: 1.3395 - val_acc: 0.6840\n",
      "Epoch 25/120\n",
      "1/1 - 0s - loss: 1.2689 - acc: 0.7071 - val_loss: 1.3344 - val_acc: 0.6980\n",
      "Epoch 26/120\n",
      "1/1 - 0s - loss: 1.3258 - acc: 0.6786 - val_loss: 1.3297 - val_acc: 0.7020\n",
      "Epoch 27/120\n",
      "1/1 - 0s - loss: 1.2587 - acc: 0.6714 - val_loss: 1.3245 - val_acc: 0.7080\n",
      "Epoch 28/120\n",
      "1/1 - 0s - loss: 1.4917 - acc: 0.6429 - val_loss: 1.3147 - val_acc: 0.6980\n",
      "Epoch 29/120\n",
      "1/1 - 0s - loss: 1.2515 - acc: 0.7000 - val_loss: 1.3042 - val_acc: 0.6980\n",
      "Epoch 30/120\n",
      "1/1 - 0s - loss: 1.3633 - acc: 0.6857 - val_loss: 1.2881 - val_acc: 0.7000\n",
      "Epoch 31/120\n",
      "1/1 - 0s - loss: 1.2683 - acc: 0.7071 - val_loss: 1.2790 - val_acc: 0.6800\n",
      "Epoch 32/120\n",
      "1/1 - 0s - loss: 1.1825 - acc: 0.7357 - val_loss: 1.2770 - val_acc: 0.6800\n",
      "Epoch 33/120\n",
      "1/1 - 0s - loss: 1.2250 - acc: 0.7357 - val_loss: 1.2722 - val_acc: 0.6780\n",
      "Epoch 34/120\n",
      "1/1 - 0s - loss: 1.3890 - acc: 0.6786 - val_loss: 1.2692 - val_acc: 0.6760\n",
      "Epoch 35/120\n",
      "1/1 - 0s - loss: 1.1539 - acc: 0.7286 - val_loss: 1.2649 - val_acc: 0.6740\n",
      "Epoch 36/120\n",
      "1/1 - 0s - loss: 1.2846 - acc: 0.7143 - val_loss: 1.2604 - val_acc: 0.6740\n",
      "Epoch 37/120\n",
      "1/1 - 0s - loss: 1.1915 - acc: 0.6929 - val_loss: 1.2525 - val_acc: 0.6740\n",
      "Epoch 38/120\n",
      "1/1 - 0s - loss: 1.1533 - acc: 0.7000 - val_loss: 1.2410 - val_acc: 0.6760\n",
      "Epoch 39/120\n",
      "1/1 - 0s - loss: 1.1686 - acc: 0.7286 - val_loss: 1.2304 - val_acc: 0.6860\n",
      "Epoch 40/120\n",
      "1/1 - 0s - loss: 1.1655 - acc: 0.7286 - val_loss: 1.2198 - val_acc: 0.6840\n",
      "Epoch 41/120\n",
      "1/1 - 0s - loss: 1.3153 - acc: 0.7571 - val_loss: 1.2066 - val_acc: 0.6840\n",
      "Epoch 42/120\n",
      "1/1 - 0s - loss: 1.0210 - acc: 0.7571 - val_loss: 1.1981 - val_acc: 0.6920\n",
      "Epoch 43/120\n",
      "1/1 - 0s - loss: 1.1612 - acc: 0.7357 - val_loss: 1.1936 - val_acc: 0.6940\n",
      "Epoch 44/120\n",
      "1/1 - 0s - loss: 1.1270 - acc: 0.7214 - val_loss: 1.1958 - val_acc: 0.6920\n",
      "Epoch 45/120\n",
      "1/1 - 0s - loss: 1.1057 - acc: 0.7643 - val_loss: 1.1994 - val_acc: 0.6880\n",
      "Epoch 46/120\n",
      "1/1 - 0s - loss: 1.4058 - acc: 0.7571 - val_loss: 1.2097 - val_acc: 0.6880\n",
      "Epoch 47/120\n",
      "1/1 - 0s - loss: 1.2463 - acc: 0.7000 - val_loss: 1.2225 - val_acc: 0.6820\n",
      "Epoch 48/120\n",
      "1/1 - 0s - loss: 1.1481 - acc: 0.7286 - val_loss: 1.2208 - val_acc: 0.6860\n",
      "Epoch 49/120\n",
      "1/1 - 0s - loss: 1.1473 - acc: 0.7143 - val_loss: 1.2101 - val_acc: 0.6900\n",
      "Epoch 50/120\n",
      "1/1 - 0s - loss: 1.1909 - acc: 0.7500 - val_loss: 1.2066 - val_acc: 0.6900\n",
      "Epoch 51/120\n",
      "1/1 - 0s - loss: 1.1421 - acc: 0.7429 - val_loss: 1.2084 - val_acc: 0.6860\n",
      "Epoch 52/120\n",
      "1/1 - 0s - loss: 1.1379 - acc: 0.7286 - val_loss: 1.2149 - val_acc: 0.6940\n",
      "Epoch 53/120\n",
      "1/1 - 0s - loss: 1.1812 - acc: 0.7429 - val_loss: 1.2238 - val_acc: 0.6960\n",
      "Epoch 54/120\n",
      "1/1 - 0s - loss: 1.0675 - acc: 0.7786 - val_loss: 1.2283 - val_acc: 0.6940\n",
      "Epoch 55/120\n",
      "1/1 - 0s - loss: 1.1138 - acc: 0.7286 - val_loss: 1.2310 - val_acc: 0.6940\n",
      "Epoch 56/120\n",
      "1/1 - 0s - loss: 1.0711 - acc: 0.7786 - val_loss: 1.2324 - val_acc: 0.6940\n",
      "Epoch 57/120\n",
      "1/1 - 0s - loss: 1.0232 - acc: 0.7429 - val_loss: 1.2312 - val_acc: 0.6940\n",
      "Epoch 58/120\n",
      "1/1 - 0s - loss: 1.0232 - acc: 0.7643 - val_loss: 1.2307 - val_acc: 0.6820\n",
      "Epoch 59/120\n",
      "1/1 - 0s - loss: 1.2185 - acc: 0.7500 - val_loss: 1.2303 - val_acc: 0.6840\n",
      "Epoch 60/120\n",
      "1/1 - 0s - loss: 1.1895 - acc: 0.7714 - val_loss: 1.2326 - val_acc: 0.6800\n",
      "Epoch 61/120\n",
      "1/1 - 0s - loss: 1.1258 - acc: 0.7643 - val_loss: 1.2376 - val_acc: 0.6800\n",
      "Epoch 62/120\n",
      "1/1 - 0s - loss: 0.9745 - acc: 0.8000 - val_loss: 1.2458 - val_acc: 0.6760\n",
      "Epoch 63/120\n",
      "1/1 - 0s - loss: 1.1342 - acc: 0.7714 - val_loss: 1.2563 - val_acc: 0.6720\n"
     ]
    },
    {
     "name": "stdout",
     "output_type": "stream",
     "text": [
      "Epoch 64/120\n",
      "1/1 - 0s - loss: 1.1789 - acc: 0.7571 - val_loss: 1.2509 - val_acc: 0.6780\n",
      "Epoch 65/120\n",
      "1/1 - 0s - loss: 1.0016 - acc: 0.7857 - val_loss: 1.2430 - val_acc: 0.6780\n",
      "Epoch 66/120\n",
      "1/1 - 0s - loss: 1.2043 - acc: 0.7357 - val_loss: 1.2286 - val_acc: 0.6840\n",
      "Epoch 67/120\n",
      "1/1 - 0s - loss: 1.0288 - acc: 0.7786 - val_loss: 1.2153 - val_acc: 0.7020\n",
      "Epoch 68/120\n",
      "1/1 - 0s - loss: 1.1396 - acc: 0.8000 - val_loss: 1.2097 - val_acc: 0.7020\n",
      "Epoch 69/120\n",
      "1/1 - 0s - loss: 1.0282 - acc: 0.8000 - val_loss: 1.2088 - val_acc: 0.7060\n",
      "Epoch 70/120\n",
      "1/1 - 0s - loss: 1.0765 - acc: 0.7571 - val_loss: 1.2098 - val_acc: 0.7040\n",
      "Epoch 71/120\n",
      "1/1 - 0s - loss: 1.1221 - acc: 0.7357 - val_loss: 1.2112 - val_acc: 0.7040\n",
      "Epoch 72/120\n",
      "1/1 - 0s - loss: 1.1642 - acc: 0.7714 - val_loss: 1.2232 - val_acc: 0.6900\n",
      "Epoch 73/120\n",
      "1/1 - 0s - loss: 1.0480 - acc: 0.7714 - val_loss: 1.2303 - val_acc: 0.6860\n",
      "Epoch 74/120\n",
      "1/1 - 0s - loss: 1.0757 - acc: 0.8286 - val_loss: 1.2320 - val_acc: 0.6880\n",
      "Epoch 75/120\n",
      "1/1 - 0s - loss: 1.1038 - acc: 0.8214 - val_loss: 1.2389 - val_acc: 0.6880\n",
      "Epoch 76/120\n",
      "1/1 - 0s - loss: 1.0779 - acc: 0.7786 - val_loss: 1.2455 - val_acc: 0.6860\n",
      "Epoch 77/120\n",
      "1/1 - 0s - loss: 1.0854 - acc: 0.7286 - val_loss: 1.2506 - val_acc: 0.6840\n"
     ]
    }
   ],
   "source": [
    "generator = FullBatchNodeGenerator(G, method=\"gcn\", sparse=True)\n",
    "\n",
    "train_gen = generator.flow(train_data.index, train_targets)\n",
    "val_gen = generator.flow(val_data.index, val_targets)\n",
    "test_gen = generator.flow(test_data.index, test_targets)\n",
    "\n",
    "appnp = APPNP(layer_sizes=[64, 64, train_targets.shape[-1]], \n",
    "              activations=['relu', 'relu', 'relu'], \n",
    "              bias=True,\n",
    "              generator=generator, \n",
    "              teleport_probability=0.1, \n",
    "              dropout=0.5, \n",
    "              kernel_regularizer=keras.regularizers.l2(0.001)\n",
    ")\n",
    "\n",
    "x_inp, x_out = appnp.node_model()\n",
    "predictions = keras.layers.Softmax()(x_out)\n",
    "\n",
    "appnp_model = keras.models.Model(inputs=x_inp, outputs=predictions)\n",
    "appnp_model.compile(loss='categorical_crossentropy', metrics=['acc'],\n",
    "                  optimizer=keras.optimizers.Adam(lr=0.01))\n",
    "\n",
    "es_callback = EarlyStopping(monitor=\"val_acc\", patience=50)  # patience is the number of epochs to wait before early stopping in case of no further improvement\n",
    "\n",
    "mc_callback = ModelCheckpoint(\n",
    "    \"logs/best_appnp_model.h5\",\n",
    "    monitor=\"val_acc\",\n",
    "    save_best_only=True,\n",
    "    save_weights_only=True,\n",
    ")\n",
    "\n",
    "history = appnp_model.fit_generator(\n",
    "    train_gen,\n",
    "    epochs=120,\n",
    "    validation_data=val_gen,\n",
    "    verbose=2,\n",
    "    shuffle=False,  # this should be False, since shuffling data means shuffling the whole graph\n",
    "    callbacks=[es_callback, mc_callback],\n",
    ")"
   ]
  },
  {
   "cell_type": "code",
   "execution_count": 28,
   "metadata": {},
   "outputs": [
    {
     "data": {
      "image/png": "[encoded data removed]",
      "text/plain": [
       "<Figure size 432x288 with 1 Axes>"
      ]
     },
     "metadata": {
      "needs_background": "light"
     },
     "output_type": "display_data"
    },
    {
     "data": {
      "image/png": "[encoded data removed]",
      "text/plain": [
       "<Figure size 432x288 with 1 Axes>"
      ]
     },
     "metadata": {
      "needs_background": "light"
     },
     "output_type": "display_data"
    }
   ],
   "source": [
    "plot_history(history)"
   ]
  },
  {
   "cell_type": "code",
   "execution_count": 29,
   "metadata": {},
   "outputs": [
    {
     "name": "stdout",
     "output_type": "stream",
     "text": [
      "\n",
      "Test Set Metrics:\n",
      "\tloss: 1.2790\n",
      "\tacc: 0.6983\n"
     ]
    }
   ],
   "source": [
    "appnp_model.load_weights(\"logs/best_appnp_model.h5\")\n",
    "test_metrics = appnp_model.evaluate_generator(test_gen)\n",
    "print(\"\\nTest Set Metrics:\")\n",
    "for name, val in zip(appnp_model.metrics_names, test_metrics):\n",
    "    print(\"\\t{}: {:0.4f}\".format(name, val))"
   ]
  },
  {
   "cell_type": "markdown",
   "metadata": {},
   "source": [
    "### Scalable APPNP Training\n",
    "\n",
    "Now we're going to exploit the structure of PPNP for scalable training. PPNP consists of a fully-connected neural network followed by a graph propogation step. For each node, the fully-connected network outputs a score for each class and the propogaiton step basically takes a weighted average of scores of nearby nodes (closer nodes are weighted higher). \n",
    "\n",
    "Above, we trained the whole network end-to-end which obtains the most accurate results but  requires us to load the entire graph onto our GPU memory. This is because we need the entire graph for the propogation step. Unfortunately, this limits the graph size by our GPU memory. To get around this, we can train the fully-connected network separately and once we have a trained fully connected network we can add the graph propagation step.  The advantage of this approach is that we can train on batches of node features instead of the entire graph.\n",
    "\n",
    "The model in the propagation step can be any keras model trained on node features to predict the target classes. In this example we use a fully connected neural network with bag of word features as input. We could easily swap out the bag of words features for the complete text and replace the fully connected network with a state-of-the-art NLP model (for example BERT [1]), fine-tune the model and propagate its predictions.\n",
    "\n",
    "\n",
    "<br>\n",
    "\n",
    "1. Devlin, J., Chang, M. W., Lee, K., & Toutanova, K. (2018). Bert: Pre-training of deep bidirectional transformers for language understanding. https://arxiv.org/abs/1810.04805"
   ]
  },
  {
   "cell_type": "markdown",
   "metadata": {},
   "source": [
    "First we create and train a fully connected model."
   ]
  },
  {
   "cell_type": "code",
   "execution_count": 30,
   "metadata": {},
   "outputs": [],
   "source": [
    "model = keras.models.Model()\n",
    "\n",
    "in_layer = layers.Input(shape=(len(feature_names),))\n",
    "layer = layers.Dense(64, activation='relu', kernel_regularizer=\"l2\")(in_layer)\n",
    "layer = layers.Dropout(0.5)(layer)\n",
    "layer = layers.Dense(64, activation='relu', kernel_regularizer=\"l2\")(in_layer)\n",
    "layer = layers.Dropout(0.5)(layer)\n",
    "\n",
    "#note the dimension of the output should equal the number of classes to predict!\n",
    "layer = layers.Dense(train_targets.shape[-1], activation='relu')(layer)\n",
    "layer = layers.Dropout(0.5)(layer)\n",
    "layer = layers.Softmax()(layer)\n",
    "\n",
    "fully_connected_model = keras.models.Model(inputs=in_layer, outputs=layer)\n",
    "\n",
    "fully_connected_model.compile(\n",
    "    loss='categorical_crossentropy', \n",
    "    metrics=['acc'],\n",
    "    optimizer=optimizers.Adam(lr=0.01)\n",
    ")\n",
    "\n",
    "#the inputs are just the node features\n",
    "X_train = train_data[feature_names].values.astype(np.float32)\n",
    "X_val = val_data[feature_names].values.astype(np.float32)"
   ]
  },
  {
   "cell_type": "code",
   "execution_count": 31,
   "metadata": {},
   "outputs": [
    {
     "name": "stdout",
     "output_type": "stream",
     "text": [
      "Train on 140 samples, validate on 500 samples\n",
      "Epoch 1/2000\n",
      "140/140 [==============================] - 0s 2ms/sample - loss: 3.1873 - acc: 0.1357 - val_loss: 2.7477 - val_acc: 0.2840\n",
      "Epoch 2/2000\n",
      "140/140 [==============================] - 0s 104us/sample - loss: 2.7131 - acc: 0.2571 - val_loss: 2.4542 - val_acc: 0.3540\n",
      "Epoch 3/2000\n",
      "140/140 [==============================] - 0s 103us/sample - loss: 2.3797 - acc: 0.3214 - val_loss: 2.2577 - val_acc: 0.4060\n",
      "Epoch 4/2000\n",
      "140/140 [==============================] - 0s 117us/sample - loss: 2.0056 - acc: 0.4214 - val_loss: 2.1339 - val_acc: 0.4320\n",
      "Epoch 5/2000\n",
      "140/140 [==============================] - 0s 117us/sample - loss: 1.9611 - acc: 0.3929 - val_loss: 2.0616 - val_acc: 0.4480\n",
      "Epoch 6/2000\n",
      "140/140 [==============================] - 0s 71us/sample - loss: 1.8205 - acc: 0.3929 - val_loss: 2.0250 - val_acc: 0.4480\n",
      "Epoch 7/2000\n",
      "140/140 [==============================] - 0s 109us/sample - loss: 1.7977 - acc: 0.4071 - val_loss: 2.0108 - val_acc: 0.4680\n",
      "Epoch 8/2000\n",
      "140/140 [==============================] - 0s 112us/sample - loss: 1.8256 - acc: 0.3857 - val_loss: 2.0092 - val_acc: 0.4900\n",
      "Epoch 9/2000\n",
      "140/140 [==============================] - 0s 108us/sample - loss: 1.8673 - acc: 0.4357 - val_loss: 2.0114 - val_acc: 0.4980\n",
      "Epoch 10/2000\n",
      "140/140 [==============================] - 0s 95us/sample - loss: 1.7832 - acc: 0.4000 - val_loss: 2.0136 - val_acc: 0.5080\n",
      "Epoch 11/2000\n",
      "140/140 [==============================] - 0s 108us/sample - loss: 1.8243 - acc: 0.4000 - val_loss: 2.0109 - val_acc: 0.5260\n",
      "Epoch 12/2000\n",
      "140/140 [==============================] - 0s 112us/sample - loss: 1.7776 - acc: 0.4500 - val_loss: 2.0049 - val_acc: 0.5300\n",
      "Epoch 13/2000\n",
      "140/140 [==============================] - 0s 113us/sample - loss: 1.6655 - acc: 0.4714 - val_loss: 1.9928 - val_acc: 0.5460\n",
      "Epoch 14/2000\n",
      "140/140 [==============================] - 0s 119us/sample - loss: 1.7043 - acc: 0.4714 - val_loss: 1.9771 - val_acc: 0.5520\n",
      "Epoch 15/2000\n",
      "140/140 [==============================] - 0s 115us/sample - loss: 1.5783 - acc: 0.5286 - val_loss: 1.9594 - val_acc: 0.5660\n",
      "Epoch 16/2000\n",
      "140/140 [==============================] - 0s 82us/sample - loss: 1.6471 - acc: 0.4571 - val_loss: 1.9418 - val_acc: 0.5660\n",
      "Epoch 17/2000\n",
      "140/140 [==============================] - 0s 70us/sample - loss: 1.4685 - acc: 0.5429 - val_loss: 1.9228 - val_acc: 0.5640\n",
      "Epoch 18/2000\n",
      "140/140 [==============================] - 0s 73us/sample - loss: 1.6361 - acc: 0.4500 - val_loss: 1.9046 - val_acc: 0.5640\n",
      "Epoch 19/2000\n",
      "140/140 [==============================] - 0s 74us/sample - loss: 1.6144 - acc: 0.4429 - val_loss: 1.8895 - val_acc: 0.5580\n",
      "Epoch 20/2000\n",
      "140/140 [==============================] - 0s 69us/sample - loss: 1.4389 - acc: 0.5214 - val_loss: 1.8743 - val_acc: 0.5500\n",
      "Epoch 21/2000\n",
      "140/140 [==============================] - 0s 70us/sample - loss: 1.3554 - acc: 0.5857 - val_loss: 1.8595 - val_acc: 0.5540\n",
      "Epoch 22/2000\n",
      "140/140 [==============================] - 0s 77us/sample - loss: 1.3814 - acc: 0.5500 - val_loss: 1.8488 - val_acc: 0.5480\n",
      "Epoch 23/2000\n",
      "140/140 [==============================] - 0s 74us/sample - loss: 1.4948 - acc: 0.4929 - val_loss: 1.8412 - val_acc: 0.5480\n",
      "Epoch 24/2000\n",
      "140/140 [==============================] - 0s 74us/sample - loss: 1.4352 - acc: 0.4929 - val_loss: 1.8317 - val_acc: 0.5440\n",
      "Epoch 25/2000\n",
      "140/140 [==============================] - 0s 76us/sample - loss: 1.3625 - acc: 0.5500 - val_loss: 1.8219 - val_acc: 0.5460\n",
      "Epoch 26/2000\n",
      "140/140 [==============================] - 0s 73us/sample - loss: 1.4222 - acc: 0.4857 - val_loss: 1.8124 - val_acc: 0.5480\n",
      "Epoch 27/2000\n",
      "140/140 [==============================] - 0s 79us/sample - loss: 1.3084 - acc: 0.5643 - val_loss: 1.8019 - val_acc: 0.5420\n",
      "Epoch 28/2000\n",
      "140/140 [==============================] - 0s 70us/sample - loss: 1.3651 - acc: 0.5357 - val_loss: 1.7922 - val_acc: 0.5360\n",
      "Epoch 29/2000\n",
      "140/140 [==============================] - 0s 78us/sample - loss: 1.4325 - acc: 0.4643 - val_loss: 1.7826 - val_acc: 0.5440\n",
      "Epoch 30/2000\n",
      "140/140 [==============================] - 0s 68us/sample - loss: 1.4818 - acc: 0.4500 - val_loss: 1.7745 - val_acc: 0.5400\n",
      "Epoch 31/2000\n",
      "140/140 [==============================] - 0s 74us/sample - loss: 1.2986 - acc: 0.5500 - val_loss: 1.7665 - val_acc: 0.5440\n",
      "Epoch 32/2000\n",
      "140/140 [==============================] - 0s 83us/sample - loss: 1.2936 - acc: 0.5571 - val_loss: 1.7598 - val_acc: 0.5480\n",
      "Epoch 33/2000\n",
      "140/140 [==============================] - 0s 71us/sample - loss: 1.3023 - acc: 0.5500 - val_loss: 1.7525 - val_acc: 0.5480\n",
      "Epoch 34/2000\n",
      "140/140 [==============================] - 0s 82us/sample - loss: 1.3525 - acc: 0.5071 - val_loss: 1.7454 - val_acc: 0.5520\n",
      "Epoch 35/2000\n",
      "140/140 [==============================] - 0s 114us/sample - loss: 1.4074 - acc: 0.5071 - val_loss: 1.7400 - val_acc: 0.5680\n",
      "Epoch 36/2000\n",
      "140/140 [==============================] - 0s 110us/sample - loss: 1.3826 - acc: 0.4714 - val_loss: 1.7334 - val_acc: 0.5720\n",
      "Epoch 37/2000\n",
      "140/140 [==============================] - 0s 73us/sample - loss: 1.3434 - acc: 0.5214 - val_loss: 1.7271 - val_acc: 0.5620\n",
      "Epoch 38/2000\n",
      "140/140 [==============================] - 0s 72us/sample - loss: 1.3745 - acc: 0.5071 - val_loss: 1.7230 - val_acc: 0.5680\n",
      "Epoch 39/2000\n",
      "140/140 [==============================] - 0s 60us/sample - loss: 1.3225 - acc: 0.5071 - val_loss: 1.7173 - val_acc: 0.5700\n",
      "Epoch 40/2000\n",
      "140/140 [==============================] - 0s 74us/sample - loss: 1.2398 - acc: 0.5714 - val_loss: 1.7119 - val_acc: 0.5660\n",
      "Epoch 41/2000\n",
      "140/140 [==============================] - 0s 79us/sample - loss: 1.2754 - acc: 0.5643 - val_loss: 1.7056 - val_acc: 0.5660\n",
      "Epoch 42/2000\n",
      "140/140 [==============================] - 0s 68us/sample - loss: 1.3346 - acc: 0.4929 - val_loss: 1.7005 - val_acc: 0.5720\n",
      "Epoch 43/2000\n",
      "140/140 [==============================] - 0s 106us/sample - loss: 1.3307 - acc: 0.5214 - val_loss: 1.6959 - val_acc: 0.5860\n",
      "Epoch 44/2000\n",
      "140/140 [==============================] - 0s 106us/sample - loss: 1.3132 - acc: 0.4929 - val_loss: 1.6924 - val_acc: 0.5920\n",
      "Epoch 45/2000\n",
      "140/140 [==============================] - 0s 66us/sample - loss: 1.2728 - acc: 0.5500 - val_loss: 1.6895 - val_acc: 0.5820\n",
      "Epoch 46/2000\n",
      "140/140 [==============================] - 0s 71us/sample - loss: 1.3327 - acc: 0.5500 - val_loss: 1.6850 - val_acc: 0.5800\n",
      "Epoch 47/2000\n",
      "140/140 [==============================] - 0s 75us/sample - loss: 1.3416 - acc: 0.4929 - val_loss: 1.6836 - val_acc: 0.5700\n",
      "Epoch 48/2000\n",
      "140/140 [==============================] - 0s 84us/sample - loss: 1.3319 - acc: 0.5071 - val_loss: 1.6840 - val_acc: 0.5700\n",
      "Epoch 49/2000\n",
      "140/140 [==============================] - 0s 64us/sample - loss: 1.3593 - acc: 0.4786 - val_loss: 1.6862 - val_acc: 0.5700\n",
      "Epoch 50/2000\n",
      "140/140 [==============================] - 0s 70us/sample - loss: 1.2970 - acc: 0.5071 - val_loss: 1.6885 - val_acc: 0.5740\n",
      "Epoch 51/2000\n",
      "140/140 [==============================] - 0s 75us/sample - loss: 1.1684 - acc: 0.6000 - val_loss: 1.6899 - val_acc: 0.5720\n",
      "Epoch 52/2000\n",
      "140/140 [==============================] - 0s 64us/sample - loss: 1.4426 - acc: 0.4571 - val_loss: 1.6924 - val_acc: 0.5700\n",
      "Epoch 53/2000\n",
      "140/140 [==============================] - 0s 67us/sample - loss: 1.3239 - acc: 0.5071 - val_loss: 1.6965 - val_acc: 0.5660\n",
      "Epoch 54/2000\n",
      "140/140 [==============================] - 0s 78us/sample - loss: 1.3770 - acc: 0.4857 - val_loss: 1.6995 - val_acc: 0.5680\n",
      "Epoch 55/2000\n",
      "140/140 [==============================] - 0s 71us/sample - loss: 1.3364 - acc: 0.4929 - val_loss: 1.7019 - val_acc: 0.5680\n",
      "Epoch 56/2000\n",
      "140/140 [==============================] - 0s 69us/sample - loss: 1.1976 - acc: 0.5714 - val_loss: 1.7042 - val_acc: 0.5680\n",
      "Epoch 57/2000\n",
      "140/140 [==============================] - 0s 74us/sample - loss: 1.2629 - acc: 0.5571 - val_loss: 1.7025 - val_acc: 0.5700\n",
      "Epoch 58/2000\n",
      "140/140 [==============================] - 0s 65us/sample - loss: 1.3484 - acc: 0.5143 - val_loss: 1.7004 - val_acc: 0.5720\n",
      "Epoch 59/2000\n",
      "140/140 [==============================] - 0s 68us/sample - loss: 1.3199 - acc: 0.5286 - val_loss: 1.7017 - val_acc: 0.5660\n"
     ]
    },
    {
     "name": "stdout",
     "output_type": "stream",
     "text": [
      "Epoch 60/2000\n",
      "140/140 [==============================] - 0s 76us/sample - loss: 1.3655 - acc: 0.4929 - val_loss: 1.7020 - val_acc: 0.5640\n",
      "Epoch 61/2000\n",
      "140/140 [==============================] - 0s 78us/sample - loss: 1.4316 - acc: 0.4500 - val_loss: 1.7030 - val_acc: 0.5680\n",
      "Epoch 62/2000\n",
      "140/140 [==============================] - 0s 77us/sample - loss: 1.3805 - acc: 0.4857 - val_loss: 1.7055 - val_acc: 0.5580\n",
      "Epoch 63/2000\n",
      "140/140 [==============================] - 0s 66us/sample - loss: 1.2551 - acc: 0.5357 - val_loss: 1.7085 - val_acc: 0.5720\n",
      "Epoch 64/2000\n",
      "140/140 [==============================] - 0s 67us/sample - loss: 1.2227 - acc: 0.5857 - val_loss: 1.7105 - val_acc: 0.5660\n",
      "Epoch 65/2000\n",
      "140/140 [==============================] - 0s 64us/sample - loss: 1.3869 - acc: 0.4714 - val_loss: 1.7144 - val_acc: 0.5600\n",
      "Epoch 66/2000\n",
      "140/140 [==============================] - 0s 66us/sample - loss: 1.3559 - acc: 0.4786 - val_loss: 1.7185 - val_acc: 0.5600\n",
      "Epoch 67/2000\n",
      "140/140 [==============================] - 0s 67us/sample - loss: 1.2980 - acc: 0.5286 - val_loss: 1.7164 - val_acc: 0.5620\n",
      "Epoch 68/2000\n",
      "140/140 [==============================] - 0s 64us/sample - loss: 1.2618 - acc: 0.5500 - val_loss: 1.7172 - val_acc: 0.5560\n",
      "Epoch 69/2000\n",
      "140/140 [==============================] - 0s 61us/sample - loss: 1.1796 - acc: 0.5786 - val_loss: 1.7170 - val_acc: 0.5480\n",
      "Epoch 70/2000\n",
      "140/140 [==============================] - 0s 60us/sample - loss: 1.3226 - acc: 0.5286 - val_loss: 1.7180 - val_acc: 0.5380\n",
      "Epoch 71/2000\n",
      "140/140 [==============================] - 0s 62us/sample - loss: 1.1068 - acc: 0.6357 - val_loss: 1.7179 - val_acc: 0.5340\n",
      "Epoch 72/2000\n",
      "140/140 [==============================] - 0s 57us/sample - loss: 1.3558 - acc: 0.5071 - val_loss: 1.7178 - val_acc: 0.5360\n",
      "Epoch 73/2000\n",
      "140/140 [==============================] - 0s 58us/sample - loss: 1.2872 - acc: 0.5357 - val_loss: 1.7194 - val_acc: 0.5320\n",
      "Epoch 74/2000\n",
      "140/140 [==============================] - 0s 66us/sample - loss: 1.3138 - acc: 0.5214 - val_loss: 1.7180 - val_acc: 0.5340\n",
      "Epoch 75/2000\n",
      "140/140 [==============================] - 0s 64us/sample - loss: 1.3542 - acc: 0.5071 - val_loss: 1.7142 - val_acc: 0.5400\n",
      "Epoch 76/2000\n",
      "140/140 [==============================] - 0s 69us/sample - loss: 1.2653 - acc: 0.5500 - val_loss: 1.7083 - val_acc: 0.5420\n",
      "Epoch 77/2000\n",
      "140/140 [==============================] - 0s 71us/sample - loss: 1.2617 - acc: 0.5571 - val_loss: 1.7050 - val_acc: 0.5500\n",
      "Epoch 78/2000\n",
      "140/140 [==============================] - 0s 71us/sample - loss: 1.4585 - acc: 0.4571 - val_loss: 1.7017 - val_acc: 0.5680\n",
      "Epoch 79/2000\n",
      "140/140 [==============================] - 0s 64us/sample - loss: 1.1556 - acc: 0.5929 - val_loss: 1.6973 - val_acc: 0.5720\n",
      "Epoch 80/2000\n",
      "140/140 [==============================] - 0s 67us/sample - loss: 1.2212 - acc: 0.5714 - val_loss: 1.6925 - val_acc: 0.5700\n",
      "Epoch 81/2000\n",
      "140/140 [==============================] - 0s 71us/sample - loss: 1.3455 - acc: 0.5143 - val_loss: 1.6857 - val_acc: 0.5660\n",
      "Epoch 82/2000\n",
      "140/140 [==============================] - 0s 67us/sample - loss: 1.2466 - acc: 0.5571 - val_loss: 1.6813 - val_acc: 0.5640\n",
      "Epoch 83/2000\n",
      "140/140 [==============================] - 0s 72us/sample - loss: 1.2857 - acc: 0.5429 - val_loss: 1.6780 - val_acc: 0.5680\n",
      "Epoch 84/2000\n",
      "140/140 [==============================] - 0s 71us/sample - loss: 1.3378 - acc: 0.5357 - val_loss: 1.6771 - val_acc: 0.5700\n",
      "Epoch 85/2000\n",
      "140/140 [==============================] - 0s 75us/sample - loss: 1.2580 - acc: 0.5714 - val_loss: 1.6747 - val_acc: 0.5720\n",
      "Epoch 86/2000\n",
      "140/140 [==============================] - 0s 76us/sample - loss: 1.2212 - acc: 0.5929 - val_loss: 1.6723 - val_acc: 0.5680\n",
      "Epoch 87/2000\n",
      "140/140 [==============================] - 0s 77us/sample - loss: 1.2433 - acc: 0.5571 - val_loss: 1.6731 - val_acc: 0.5640\n",
      "Epoch 88/2000\n",
      "140/140 [==============================] - 0s 85us/sample - loss: 1.1940 - acc: 0.5786 - val_loss: 1.6724 - val_acc: 0.5600\n",
      "Epoch 89/2000\n",
      "140/140 [==============================] - 0s 82us/sample - loss: 1.1379 - acc: 0.6143 - val_loss: 1.6737 - val_acc: 0.5520\n",
      "Epoch 90/2000\n",
      "140/140 [==============================] - 0s 92us/sample - loss: 1.4030 - acc: 0.4857 - val_loss: 1.6770 - val_acc: 0.5460\n",
      "Epoch 91/2000\n",
      "140/140 [==============================] - 0s 66us/sample - loss: 1.2709 - acc: 0.5500 - val_loss: 1.6818 - val_acc: 0.5400\n",
      "Epoch 92/2000\n",
      "140/140 [==============================] - 0s 71us/sample - loss: 1.3351 - acc: 0.5286 - val_loss: 1.6838 - val_acc: 0.5460\n",
      "Epoch 93/2000\n",
      "140/140 [==============================] - 0s 81us/sample - loss: 1.2885 - acc: 0.5357 - val_loss: 1.6821 - val_acc: 0.5440\n",
      "Epoch 94/2000\n",
      "140/140 [==============================] - 0s 73us/sample - loss: 1.3462 - acc: 0.5214 - val_loss: 1.6825 - val_acc: 0.5500\n"
     ]
    }
   ],
   "source": [
    "es_callback = EarlyStopping(monitor=\"val_acc\", patience=50)  # patience is the number of epochs to wait before early stopping in case of no further improvement\n",
    "\n",
    "mc_callback = ModelCheckpoint(\n",
    "    \"logs/best_fc_model.h5\",\n",
    "    monitor=\"val_acc\",\n",
    "    save_best_only=True,\n",
    "    save_weights_only=True,\n",
    ")\n",
    "\n",
    "history = fully_connected_model.fit(X_train, train_targets, \n",
    "                          validation_data=(X_val, val_targets), \n",
    "                          epochs=2000, batch_size=200, shuffle=True, #we can shuffle the data here as \n",
    "                         callbacks=[es_callback, mc_callback]) #we're only working with node features"
   ]
  },
  {
   "cell_type": "markdown",
   "metadata": {},
   "source": [
    "By itself the fully connected model only gets ~60% accuracy on the test set."
   ]
  },
  {
   "cell_type": "code",
   "execution_count": 32,
   "metadata": {},
   "outputs": [
    {
     "name": "stdout",
     "output_type": "stream",
     "text": [
      "2068/2068 [==============================] - 0s 20us/sample - loss: 1.6354 - acc: 0.6011\n",
      "\n",
      "Test Set Metrics:\n",
      "\tloss: 1.6354\n",
      "\tacc: 0.6011\n"
     ]
    }
   ],
   "source": [
    "X_test = test_data[feature_names].values.astype(np.float32)\n",
    "\n",
    "fully_connected_model.load_weights(\"logs/best_fc_model.h5\") \n",
    "test_metrics = fully_connected_model.evaluate(X_test, test_targets)\n",
    "print(\"\\nTest Set Metrics:\")\n",
    "for name, val in zip(fully_connected_model.metrics_names, test_metrics):\n",
    "    print(\"\\t{}: {:0.4f}\".format(name, val))"
   ]
  },
  {
   "cell_type": "markdown",
   "metadata": {},
   "source": [
    "Now we propogate the fully connected network - no extra training required and we can re-use the APPNP object we've already created."
   ]
  },
  {
   "cell_type": "code",
   "execution_count": 33,
   "metadata": {},
   "outputs": [
    {
     "name": "stdout",
     "output_type": "stream",
     "text": [
      "WARNING:tensorflow:Entity <bound method SqueezedSparseConversion.call of <stellargraph.layer.misc.SqueezedSparseConversion object at 0x13bdfe6a0>> could not be transformed and will be executed as-is. Please report this to the AutgoGraph team. When filing the bug, set the verbosity to 10 (on Linux, `export AUTOGRAPH_VERBOSITY=10`) and attach the full output. Cause: converting <bound method SqueezedSparseConversion.call of <stellargraph.layer.misc.SqueezedSparseConversion object at 0x13bdfe6a0>>: AttributeError: module 'gast' has no attribute 'Num'\n",
      "WARNING: Entity <bound method SqueezedSparseConversion.call of <stellargraph.layer.misc.SqueezedSparseConversion object at 0x13bdfe6a0>> could not be transformed and will be executed as-is. Please report this to the AutgoGraph team. When filing the bug, set the verbosity to 10 (on Linux, `export AUTOGRAPH_VERBOSITY=10`) and attach the full output. Cause: converting <bound method SqueezedSparseConversion.call of <stellargraph.layer.misc.SqueezedSparseConversion object at 0x13bdfe6a0>>: AttributeError: module 'gast' has no attribute 'Num'\n",
      "WARNING:tensorflow:Entity <bound method APPNPPropagationLayer.call of <stellargraph.layer.appnp.APPNPPropagationLayer object at 0x13e6d0828>> could not be transformed and will be executed as-is. Please report this to the AutgoGraph team. When filing the bug, set the verbosity to 10 (on Linux, `export AUTOGRAPH_VERBOSITY=10`) and attach the full output. Cause: converting <bound method APPNPPropagationLayer.call of <stellargraph.layer.appnp.APPNPPropagationLayer object at 0x13e6d0828>>: AttributeError: module 'gast' has no attribute 'Num'\n",
      "WARNING: Entity <bound method APPNPPropagationLayer.call of <stellargraph.layer.appnp.APPNPPropagationLayer object at 0x13e6d0828>> could not be transformed and will be executed as-is. Please report this to the AutgoGraph team. When filing the bug, set the verbosity to 10 (on Linux, `export AUTOGRAPH_VERBOSITY=10`) and attach the full output. Cause: converting <bound method APPNPPropagationLayer.call of <stellargraph.layer.appnp.APPNPPropagationLayer object at 0x13e6d0828>>: AttributeError: module 'gast' has no attribute 'Num'\n",
      "WARNING:tensorflow:Entity <bound method APPNPPropagationLayer.call of <stellargraph.layer.appnp.APPNPPropagationLayer object at 0x13e6d0a20>> could not be transformed and will be executed as-is. Please report this to the AutgoGraph team. When filing the bug, set the verbosity to 10 (on Linux, `export AUTOGRAPH_VERBOSITY=10`) and attach the full output. Cause: converting <bound method APPNPPropagationLayer.call of <stellargraph.layer.appnp.APPNPPropagationLayer object at 0x13e6d0a20>>: AttributeError: module 'gast' has no attribute 'Num'\n",
      "WARNING: Entity <bound method APPNPPropagationLayer.call of <stellargraph.layer.appnp.APPNPPropagationLayer object at 0x13e6d0a20>> could not be transformed and will be executed as-is. Please report this to the AutgoGraph team. When filing the bug, set the verbosity to 10 (on Linux, `export AUTOGRAPH_VERBOSITY=10`) and attach the full output. Cause: converting <bound method APPNPPropagationLayer.call of <stellargraph.layer.appnp.APPNPPropagationLayer object at 0x13e6d0a20>>: AttributeError: module 'gast' has no attribute 'Num'\n",
      "WARNING:tensorflow:Entity <bound method APPNPPropagationLayer.call of <stellargraph.layer.appnp.APPNPPropagationLayer object at 0x13e6d0c18>> could not be transformed and will be executed as-is. Please report this to the AutgoGraph team. When filing the bug, set the verbosity to 10 (on Linux, `export AUTOGRAPH_VERBOSITY=10`) and attach the full output. Cause: converting <bound method APPNPPropagationLayer.call of <stellargraph.layer.appnp.APPNPPropagationLayer object at 0x13e6d0c18>>: AttributeError: module 'gast' has no attribute 'Num'\n",
      "WARNING: Entity <bound method APPNPPropagationLayer.call of <stellargraph.layer.appnp.APPNPPropagationLayer object at 0x13e6d0c18>> could not be transformed and will be executed as-is. Please report this to the AutgoGraph team. When filing the bug, set the verbosity to 10 (on Linux, `export AUTOGRAPH_VERBOSITY=10`) and attach the full output. Cause: converting <bound method APPNPPropagationLayer.call of <stellargraph.layer.appnp.APPNPPropagationLayer object at 0x13e6d0c18>>: AttributeError: module 'gast' has no attribute 'Num'\n",
      "WARNING:tensorflow:Entity <bound method APPNPPropagationLayer.call of <stellargraph.layer.appnp.APPNPPropagationLayer object at 0x13e6d0e10>> could not be transformed and will be executed as-is. Please report this to the AutgoGraph team. When filing the bug, set the verbosity to 10 (on Linux, `export AUTOGRAPH_VERBOSITY=10`) and attach the full output. Cause: converting <bound method APPNPPropagationLayer.call of <stellargraph.layer.appnp.APPNPPropagationLayer object at 0x13e6d0e10>>: AttributeError: module 'gast' has no attribute 'Num'\n",
      "WARNING: Entity <bound method APPNPPropagationLayer.call of <stellargraph.layer.appnp.APPNPPropagationLayer object at 0x13e6d0e10>> could not be transformed and will be executed as-is. Please report this to the AutgoGraph team. When filing the bug, set the verbosity to 10 (on Linux, `export AUTOGRAPH_VERBOSITY=10`) and attach the full output. Cause: converting <bound method APPNPPropagationLayer.call of <stellargraph.layer.appnp.APPNPPropagationLayer object at 0x13e6d0e10>>: AttributeError: module 'gast' has no attribute 'Num'\n",
      "WARNING:tensorflow:Entity <bound method APPNPPropagationLayer.call of <stellargraph.layer.appnp.APPNPPropagationLayer object at 0x13e531a20>> could not be transformed and will be executed as-is. Please report this to the AutgoGraph team. When filing the bug, set the verbosity to 10 (on Linux, `export AUTOGRAPH_VERBOSITY=10`) and attach the full output. Cause: converting <bound method APPNPPropagationLayer.call of <stellargraph.layer.appnp.APPNPPropagationLayer object at 0x13e531a20>>: AttributeError: module 'gast' has no attribute 'Num'\n",
      "WARNING: Entity <bound method APPNPPropagationLayer.call of <stellargraph.layer.appnp.APPNPPropagationLayer object at 0x13e531a20>> could not be transformed and will be executed as-is. Please report this to the AutgoGraph team. When filing the bug, set the verbosity to 10 (on Linux, `export AUTOGRAPH_VERBOSITY=10`) and attach the full output. Cause: converting <bound method APPNPPropagationLayer.call of <stellargraph.layer.appnp.APPNPPropagationLayer object at 0x13e531a20>>: AttributeError: module 'gast' has no attribute 'Num'\n",
      "WARNING:tensorflow:Entity <bound method APPNPPropagationLayer.call of <stellargraph.layer.appnp.APPNPPropagationLayer object at 0x13e650160>> could not be transformed and will be executed as-is. Please report this to the AutgoGraph team. When filing the bug, set the verbosity to 10 (on Linux, `export AUTOGRAPH_VERBOSITY=10`) and attach the full output. Cause: converting <bound method APPNPPropagationLayer.call of <stellargraph.layer.appnp.APPNPPropagationLayer object at 0x13e650160>>: AttributeError: module 'gast' has no attribute 'Num'\n",
      "WARNING: Entity <bound method APPNPPropagationLayer.call of <stellargraph.layer.appnp.APPNPPropagationLayer object at 0x13e650160>> could not be transformed and will be executed as-is. Please report this to the AutgoGraph team. When filing the bug, set the verbosity to 10 (on Linux, `export AUTOGRAPH_VERBOSITY=10`) and attach the full output. Cause: converting <bound method APPNPPropagationLayer.call of <stellargraph.layer.appnp.APPNPPropagationLayer object at 0x13e650160>>: AttributeError: module 'gast' has no attribute 'Num'\n",
      "WARNING:tensorflow:Entity <bound method APPNPPropagationLayer.call of <stellargraph.layer.appnp.APPNPPropagationLayer object at 0x13e650358>> could not be transformed and will be executed as-is. Please report this to the AutgoGraph team. When filing the bug, set the verbosity to 10 (on Linux, `export AUTOGRAPH_VERBOSITY=10`) and attach the full output. Cause: converting <bound method APPNPPropagationLayer.call of <stellargraph.layer.appnp.APPNPPropagationLayer object at 0x13e650358>>: AttributeError: module 'gast' has no attribute 'Num'\n",
      "WARNING: Entity <bound method APPNPPropagationLayer.call of <stellargraph.layer.appnp.APPNPPropagationLayer object at 0x13e650358>> could not be transformed and will be executed as-is. Please report this to the AutgoGraph team. When filing the bug, set the verbosity to 10 (on Linux, `export AUTOGRAPH_VERBOSITY=10`) and attach the full output. Cause: converting <bound method APPNPPropagationLayer.call of <stellargraph.layer.appnp.APPNPPropagationLayer object at 0x13e650358>>: AttributeError: module 'gast' has no attribute 'Num'\n",
      "WARNING:tensorflow:Entity <bound method APPNPPropagationLayer.call of <stellargraph.layer.appnp.APPNPPropagationLayer object at 0x13e650550>> could not be transformed and will be executed as-is. Please report this to the AutgoGraph team. When filing the bug, set the verbosity to 10 (on Linux, `export AUTOGRAPH_VERBOSITY=10`) and attach the full output. Cause: converting <bound method APPNPPropagationLayer.call of <stellargraph.layer.appnp.APPNPPropagationLayer object at 0x13e650550>>: AttributeError: module 'gast' has no attribute 'Num'\n"
     ]
    },
    {
     "name": "stdout",
     "output_type": "stream",
     "text": [
      "WARNING: Entity <bound method APPNPPropagationLayer.call of <stellargraph.layer.appnp.APPNPPropagationLayer object at 0x13e650550>> could not be transformed and will be executed as-is. Please report this to the AutgoGraph team. When filing the bug, set the verbosity to 10 (on Linux, `export AUTOGRAPH_VERBOSITY=10`) and attach the full output. Cause: converting <bound method APPNPPropagationLayer.call of <stellargraph.layer.appnp.APPNPPropagationLayer object at 0x13e650550>>: AttributeError: module 'gast' has no attribute 'Num'\n",
      "WARNING:tensorflow:Entity <bound method APPNPPropagationLayer.call of <stellargraph.layer.appnp.APPNPPropagationLayer object at 0x13e650748>> could not be transformed and will be executed as-is. Please report this to the AutgoGraph team. When filing the bug, set the verbosity to 10 (on Linux, `export AUTOGRAPH_VERBOSITY=10`) and attach the full output. Cause: converting <bound method APPNPPropagationLayer.call of <stellargraph.layer.appnp.APPNPPropagationLayer object at 0x13e650748>>: AttributeError: module 'gast' has no attribute 'Num'\n",
      "WARNING: Entity <bound method APPNPPropagationLayer.call of <stellargraph.layer.appnp.APPNPPropagationLayer object at 0x13e650748>> could not be transformed and will be executed as-is. Please report this to the AutgoGraph team. When filing the bug, set the verbosity to 10 (on Linux, `export AUTOGRAPH_VERBOSITY=10`) and attach the full output. Cause: converting <bound method APPNPPropagationLayer.call of <stellargraph.layer.appnp.APPNPPropagationLayer object at 0x13e650748>>: AttributeError: module 'gast' has no attribute 'Num'\n",
      "WARNING:tensorflow:Entity <bound method APPNPPropagationLayer.call of <stellargraph.layer.appnp.APPNPPropagationLayer object at 0x13e650940>> could not be transformed and will be executed as-is. Please report this to the AutgoGraph team. When filing the bug, set the verbosity to 10 (on Linux, `export AUTOGRAPH_VERBOSITY=10`) and attach the full output. Cause: converting <bound method APPNPPropagationLayer.call of <stellargraph.layer.appnp.APPNPPropagationLayer object at 0x13e650940>>: AttributeError: module 'gast' has no attribute 'Num'\n",
      "WARNING: Entity <bound method APPNPPropagationLayer.call of <stellargraph.layer.appnp.APPNPPropagationLayer object at 0x13e650940>> could not be transformed and will be executed as-is. Please report this to the AutgoGraph team. When filing the bug, set the verbosity to 10 (on Linux, `export AUTOGRAPH_VERBOSITY=10`) and attach the full output. Cause: converting <bound method APPNPPropagationLayer.call of <stellargraph.layer.appnp.APPNPPropagationLayer object at 0x13e650940>>: AttributeError: module 'gast' has no attribute 'Num'\n"
     ]
    }
   ],
   "source": [
    "x_inp, x_out = appnp.propagate_model(fully_connected_model)\n",
    "predictions = keras.layers.Softmax()(x_out)\n",
    "\n",
    "propagated_model = keras.models.Model(inputs=x_inp, outputs=predictions)\n",
    "propagated_model.compile(loss='categorical_crossentropy', metrics=['acc'],\n",
    "                  optimizer=keras.optimizers.Adam(lr=0.01))"
   ]
  },
  {
   "cell_type": "markdown",
   "metadata": {},
   "source": [
    "Our accuracy is better than the fully connected network by itself but less than end-to-end trained PPNP and APPNP. \n",
    "\n",
    "Note that this is partially because 140 data points isn't sufficient for the fully connected model to achieve optimal performance. As the number of training nodes increases the perfomance gap shrinks. "
   ]
  },
  {
   "cell_type": "code",
   "execution_count": 34,
   "metadata": {},
   "outputs": [
    {
     "name": "stdout",
     "output_type": "stream",
     "text": [
      "\n",
      "Test Set Metrics:\n",
      "\tloss: 1.9427\n",
      "\tacc: 0.7166\n"
     ]
    }
   ],
   "source": [
    "test_metrics = propagated_model.evaluate_generator(test_gen)\n",
    "print(\"\\nTest Set Metrics:\")\n",
    "for name, val in zip(propagated_model.metrics_names, test_metrics):\n",
    "    print(\"\\t{}: {:0.4f}\".format(name, val))"
   ]
  },
  {
   "cell_type": "markdown",
   "metadata": {},
   "source": [
    "### Making predictions with the model"
   ]
  },
  {
   "cell_type": "markdown",
   "metadata": {},
   "source": [
    "Now let's get the predictions for all nodes."
   ]
  },
  {
   "cell_type": "code",
   "execution_count": 35,
   "metadata": {},
   "outputs": [],
   "source": [
    "all_nodes = node_data.index\n",
    "all_gen = generator.flow(all_nodes)\n",
    "all_predictions = propagated_model.predict_generator(all_gen)"
   ]
  },
  {
   "cell_type": "markdown",
   "metadata": {},
   "source": [
    "These predictions will be the output of the softmax layer, so to get final categories we'll use the `inverse_transform` method of our target attribute specifcation to turn these values back to the original categories."
   ]
  },
  {
   "cell_type": "markdown",
   "metadata": {},
   "source": [
    "Note that for full-batch methods the batch size is 1 and the predictions have shape $(1, N_{nodes}, N_{classes})$ so we remove the batch dimension to obtain predictions of shape $(N_{nodes}, N_{classes})$ using the NumPy `squeeze` method."
   ]
  },
  {
   "cell_type": "code",
   "execution_count": 36,
   "metadata": {},
   "outputs": [],
   "source": [
    "node_predictions = target_encoding.inverse_transform(all_predictions.squeeze())"
   ]
  },
  {
   "cell_type": "markdown",
   "metadata": {},
   "source": [
    "Let's have a look at a few predictions after training the model:"
   ]
  },
  {
   "cell_type": "code",
   "execution_count": 37,
   "metadata": {},
   "outputs": [
    {
     "data": {
      "text/html": [
       "<div>\n",
       "<style scoped>\n",
       "    .dataframe tbody tr th:only-of-type {\n",
       "        vertical-align: middle;\n",
       "    }\n",
       "\n",
       "    .dataframe tbody tr th {\n",
       "        vertical-align: top;\n",
       "    }\n",
       "\n",
       "    .dataframe thead th {\n",
       "        text-align: right;\n",
       "    }\n",
       "</style>\n",
       "<table border=\"1\" class=\"dataframe\">\n",
       "  <thead>\n",
       "    <tr style=\"text-align: right;\">\n",
       "      <th></th>\n",
       "      <th>Predicted</th>\n",
       "      <th>True</th>\n",
       "    </tr>\n",
       "  </thead>\n",
       "  <tbody>\n",
       "    <tr>\n",
       "      <td>31336</td>\n",
       "      <td>subject=Neural_Networks</td>\n",
       "      <td>Neural_Networks</td>\n",
       "    </tr>\n",
       "    <tr>\n",
       "      <td>1061127</td>\n",
       "      <td>subject=Rule_Learning</td>\n",
       "      <td>Rule_Learning</td>\n",
       "    </tr>\n",
       "    <tr>\n",
       "      <td>1106406</td>\n",
       "      <td>subject=Reinforcement_Learning</td>\n",
       "      <td>Reinforcement_Learning</td>\n",
       "    </tr>\n",
       "    <tr>\n",
       "      <td>13195</td>\n",
       "      <td>subject=Neural_Networks</td>\n",
       "      <td>Reinforcement_Learning</td>\n",
       "    </tr>\n",
       "    <tr>\n",
       "      <td>37879</td>\n",
       "      <td>subject=Probabilistic_Methods</td>\n",
       "      <td>Probabilistic_Methods</td>\n",
       "    </tr>\n",
       "    <tr>\n",
       "      <td>1126012</td>\n",
       "      <td>subject=Probabilistic_Methods</td>\n",
       "      <td>Probabilistic_Methods</td>\n",
       "    </tr>\n",
       "    <tr>\n",
       "      <td>1107140</td>\n",
       "      <td>subject=Neural_Networks</td>\n",
       "      <td>Theory</td>\n",
       "    </tr>\n",
       "    <tr>\n",
       "      <td>1102850</td>\n",
       "      <td>subject=Neural_Networks</td>\n",
       "      <td>Neural_Networks</td>\n",
       "    </tr>\n",
       "    <tr>\n",
       "      <td>31349</td>\n",
       "      <td>subject=Neural_Networks</td>\n",
       "      <td>Neural_Networks</td>\n",
       "    </tr>\n",
       "    <tr>\n",
       "      <td>1106418</td>\n",
       "      <td>subject=Theory</td>\n",
       "      <td>Theory</td>\n",
       "    </tr>\n",
       "    <tr>\n",
       "      <td>1123188</td>\n",
       "      <td>subject=Neural_Networks</td>\n",
       "      <td>Neural_Networks</td>\n",
       "    </tr>\n",
       "    <tr>\n",
       "      <td>1128990</td>\n",
       "      <td>subject=Neural_Networks</td>\n",
       "      <td>Genetic_Algorithms</td>\n",
       "    </tr>\n",
       "    <tr>\n",
       "      <td>109323</td>\n",
       "      <td>subject=Probabilistic_Methods</td>\n",
       "      <td>Probabilistic_Methods</td>\n",
       "    </tr>\n",
       "    <tr>\n",
       "      <td>217139</td>\n",
       "      <td>subject=Theory</td>\n",
       "      <td>Case_Based</td>\n",
       "    </tr>\n",
       "    <tr>\n",
       "      <td>31353</td>\n",
       "      <td>subject=Neural_Networks</td>\n",
       "      <td>Neural_Networks</td>\n",
       "    </tr>\n",
       "    <tr>\n",
       "      <td>32083</td>\n",
       "      <td>subject=Neural_Networks</td>\n",
       "      <td>Neural_Networks</td>\n",
       "    </tr>\n",
       "    <tr>\n",
       "      <td>1126029</td>\n",
       "      <td>subject=Neural_Networks</td>\n",
       "      <td>Reinforcement_Learning</td>\n",
       "    </tr>\n",
       "    <tr>\n",
       "      <td>1118017</td>\n",
       "      <td>subject=Neural_Networks</td>\n",
       "      <td>Neural_Networks</td>\n",
       "    </tr>\n",
       "    <tr>\n",
       "      <td>49482</td>\n",
       "      <td>subject=Neural_Networks</td>\n",
       "      <td>Neural_Networks</td>\n",
       "    </tr>\n",
       "    <tr>\n",
       "      <td>753265</td>\n",
       "      <td>subject=Neural_Networks</td>\n",
       "      <td>Neural_Networks</td>\n",
       "    </tr>\n",
       "  </tbody>\n",
       "</table>\n",
       "</div>"
      ],
      "text/plain": [
       "                              Predicted                    True\n",
       "31336           subject=Neural_Networks         Neural_Networks\n",
       "1061127           subject=Rule_Learning           Rule_Learning\n",
       "1106406  subject=Reinforcement_Learning  Reinforcement_Learning\n",
       "13195           subject=Neural_Networks  Reinforcement_Learning\n",
       "37879     subject=Probabilistic_Methods   Probabilistic_Methods\n",
       "1126012   subject=Probabilistic_Methods   Probabilistic_Methods\n",
       "1107140         subject=Neural_Networks                  Theory\n",
       "1102850         subject=Neural_Networks         Neural_Networks\n",
       "31349           subject=Neural_Networks         Neural_Networks\n",
       "1106418                  subject=Theory                  Theory\n",
       "1123188         subject=Neural_Networks         Neural_Networks\n",
       "1128990         subject=Neural_Networks      Genetic_Algorithms\n",
       "109323    subject=Probabilistic_Methods   Probabilistic_Methods\n",
       "217139                   subject=Theory              Case_Based\n",
       "31353           subject=Neural_Networks         Neural_Networks\n",
       "32083           subject=Neural_Networks         Neural_Networks\n",
       "1126029         subject=Neural_Networks  Reinforcement_Learning\n",
       "1118017         subject=Neural_Networks         Neural_Networks\n",
       "49482           subject=Neural_Networks         Neural_Networks\n",
       "753265          subject=Neural_Networks         Neural_Networks"
      ]
     },
     "execution_count": 37,
     "metadata": {},
     "output_type": "execute_result"
    }
   ],
   "source": [
    "results = pd.DataFrame(node_predictions, index=all_nodes).idxmax(axis=1)\n",
    "df = pd.DataFrame({\"Predicted\": results, \"True\": node_data['subject']})\n",
    "df.head(20)"
   ]
  },
  {
   "cell_type": "markdown",
   "metadata": {},
   "source": [
    "Now we have an accurate model that can handle large graphs."
   ]
  }
 ],
 "metadata": {
  "kernelspec": {
   "display_name": "Python 3",
   "language": "python",
   "name": "python3"
  },
  "language_info": {
   "codemirror_mode": {
    "name": "ipython",
    "version": 3
   },
   "file_extension": ".py",
   "mimetype": "text/x-python",
   "name": "python",
   "nbconvert_exporter": "python",
   "pygments_lexer": "ipython3",
   "version": "3.6.9"
  }
 },
 "nbformat": 4,
 "nbformat_minor": 2
}
