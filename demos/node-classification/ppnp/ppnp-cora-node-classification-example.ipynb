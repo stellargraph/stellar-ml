{
 "cells": [
  {
   "cell_type": "markdown",
   "metadata": {},
   "source": [
    "# Stellargraph example: Personalised Propagation of Neural Predictions (PPNP) and Approximate PPNP (APPNP) on the CORA citation dataset"
   ]
  },
  {
   "cell_type": "markdown",
   "metadata": {},
   "source": [
    "Import NetworkX and stellargraph:"
   ]
  },
  {
   "cell_type": "code",
   "execution_count": 1,
   "metadata": {},
   "outputs": [],
   "source": [
    "import networkx as nx\n",
    "import pandas as pd\n",
    "import numpy as np\n",
    "import os\n",
    "from tensorflow import keras\n",
    "from tensorflow.keras import backend as K\n",
    "from tensorflow.keras.callbacks import EarlyStopping, ModelCheckpoint\n",
    "\n",
    "import stellargraph as sg\n",
    "from stellargraph.mapper import FullBatchNodeGenerator\n",
    "from stellargraph.layer.ppnp import PPNP\n",
    "from stellargraph.layer.appnp import APPNP\n",
    "\n",
    "from tensorflow.keras import layers, optimizers, losses, metrics, Model\n",
    "from sklearn import preprocessing, feature_extraction, model_selection\n",
    "from stellargraph import datasets\n",
    "from IPython.display import display, HTML"
   ]
  },
  {
   "cell_type": "markdown",
   "metadata": {},
   "source": [
    "### Loading the CORA network"
   ]
  },
  {
   "cell_type": "code",
   "execution_count": 2,
   "metadata": {},
   "outputs": [
    {
     "data": {
      "text/html": [
       "The Cora dataset consists of 2708 scientific publications classified into one of seven classes. The citation network consists of 5429 links. Each publication in the dataset is described by a 0/1-valued word vector indicating the absence/presence of the corresponding word from the dictionary. The dictionary consists of 1433 unique words."
      ],
      "text/plain": [
       "<IPython.core.display.HTML object>"
      ]
     },
     "metadata": {},
     "output_type": "display_data"
    }
   ],
   "source": [
    "dataset = datasets.Cora()\n",
    "display(HTML(dataset.description))\n",
    "dataset.download()"
   ]
  },
  {
   "cell_type": "markdown",
   "metadata": {},
   "source": [
    "Load the graph from edgelist (in the order `cited-paper` <- `citing-paper`)"
   ]
  },
  {
   "cell_type": "code",
   "execution_count": 3,
   "metadata": {},
   "outputs": [],
   "source": [
    "edgelist = pd.read_csv(\n",
    "    os.path.join(dataset.data_directory, \"cora.cites\"),\n",
    "    sep=\"\\t\",\n",
    "    header=None,\n",
    "    names=[\"target\", \"source\"],\n",
    ")"
   ]
  },
  {
   "cell_type": "markdown",
   "metadata": {},
   "source": [
    "Load the features and subject for the nodes"
   ]
  },
  {
   "cell_type": "code",
   "execution_count": 4,
   "metadata": {},
   "outputs": [],
   "source": [
    "feature_names = [\"w_{}\".format(ii) for ii in range(1433)]\n",
    "column_names = feature_names + [\"subject\"]\n",
    "node_data = pd.read_csv(\n",
    "    os.path.join(dataset.data_directory, \"cora.content\"),\n",
    "    sep=\"\\t\",\n",
    "    header=None,\n",
    "    names=column_names,\n",
    ")"
   ]
  },
  {
   "cell_type": "markdown",
   "metadata": {},
   "source": [
    "We aim to train a graph-ML model that will predict the \"subject\" attribute on the nodes. These subjects are one of 7 categories:"
   ]
  },
  {
   "cell_type": "code",
   "execution_count": 5,
   "metadata": {},
   "outputs": [
    {
     "data": {
      "text/plain": [
       "{'Case_Based',\n",
       " 'Genetic_Algorithms',\n",
       " 'Neural_Networks',\n",
       " 'Probabilistic_Methods',\n",
       " 'Reinforcement_Learning',\n",
       " 'Rule_Learning',\n",
       " 'Theory'}"
      ]
     },
     "execution_count": 5,
     "metadata": {},
     "output_type": "execute_result"
    }
   ],
   "source": [
    "set(node_data[\"subject\"])"
   ]
  },
  {
   "cell_type": "markdown",
   "metadata": {},
   "source": [
    "### Splitting the data"
   ]
  },
  {
   "cell_type": "markdown",
   "metadata": {},
   "source": [
    "For machine learning we want to take a subset of the nodes for training, and use the rest for validation and testing. We'll use scikit-learn again to do this.\n",
    "\n",
    "Here we're taking 140 node labels for training, 500 for validation, and the rest for testing."
   ]
  },
  {
   "cell_type": "code",
   "execution_count": 6,
   "metadata": {},
   "outputs": [],
   "source": [
    "train_data, test_data = model_selection.train_test_split(\n",
    "    node_data, train_size=140, test_size=None, stratify=node_data[\"subject\"]\n",
    ")\n",
    "val_data, test_data = model_selection.train_test_split(\n",
    "    test_data, train_size=500, test_size=None, stratify=test_data[\"subject\"]\n",
    ")"
   ]
  },
  {
   "cell_type": "markdown",
   "metadata": {},
   "source": [
    "Note using stratified sampling gives the following counts:"
   ]
  },
  {
   "cell_type": "code",
   "execution_count": 7,
   "metadata": {},
   "outputs": [
    {
     "data": {
      "text/plain": [
       "Counter({'Probabilistic_Methods': 22,\n",
       "         'Case_Based': 16,\n",
       "         'Theory': 18,\n",
       "         'Neural_Networks': 42,\n",
       "         'Genetic_Algorithms': 22,\n",
       "         'Reinforcement_Learning': 11,\n",
       "         'Rule_Learning': 9})"
      ]
     },
     "execution_count": 7,
     "metadata": {},
     "output_type": "execute_result"
    }
   ],
   "source": [
    "from collections import Counter\n",
    "\n",
    "Counter(train_data[\"subject\"])"
   ]
  },
  {
   "cell_type": "markdown",
   "metadata": {},
   "source": [
    "The training set has class imbalance that might need to be compensated, e.g., via using a weighted cross-entropy loss in model training, with class weights inversely proportional to class support. However, we will ignore the class imbalance in this example, for simplicity."
   ]
  },
  {
   "cell_type": "markdown",
   "metadata": {},
   "source": [
    "### Converting to numeric arrays"
   ]
  },
  {
   "cell_type": "markdown",
   "metadata": {},
   "source": [
    "For our categorical target, we will use one-hot vectors that will be fed into a soft-max Keras layer during training. To do this conversion ..."
   ]
  },
  {
   "cell_type": "code",
   "execution_count": 8,
   "metadata": {},
   "outputs": [],
   "source": [
    "target_encoding = feature_extraction.DictVectorizer(sparse=False)\n",
    "\n",
    "train_targets = target_encoding.fit_transform(train_data[[\"subject\"]].to_dict(\"records\"))\n",
    "val_targets = target_encoding.transform(val_data[[\"subject\"]].to_dict(\"records\"))\n",
    "test_targets = target_encoding.transform(test_data[[\"subject\"]].to_dict(\"records\"))"
   ]
  },
  {
   "cell_type": "markdown",
   "metadata": {},
   "source": [
    "We now do the same for the node attributes we want to use to predict the subject. These are the feature vectors that the Keras model will use as input. The CORA dataset contains attributes 'w_x' that correspond to words found in that publication. If a word occurs more than once in a publication the relevant attribute will be set to one, otherwise it will be zero."
   ]
  },
  {
   "cell_type": "code",
   "execution_count": 9,
   "metadata": {},
   "outputs": [],
   "source": [
    "node_features = node_data[feature_names]"
   ]
  },
  {
   "cell_type": "markdown",
   "metadata": {},
   "source": [
    "## Creating the PPNP model in Keras"
   ]
  },
  {
   "cell_type": "markdown",
   "metadata": {},
   "source": [
    "Now create a StellarGraph object from the NetworkX graph and the node features and targets. It is StellarGraph objects that we use in this library to perform machine learning tasks on."
   ]
  },
  {
   "cell_type": "code",
   "execution_count": 10,
   "metadata": {},
   "outputs": [],
   "source": [
    "G = sg.StellarGraph(nodes={\"paper\": node_features}, edges={\"cites\": edgelist})"
   ]
  },
  {
   "cell_type": "code",
   "execution_count": 11,
   "metadata": {},
   "outputs": [
    {
     "name": "stdout",
     "output_type": "stream",
     "text": [
      "<class 'stellargraph.core.graph.StellarGraph'>: Undirected multigraph\n",
      " Nodes: 2708, Edges: 5429\n",
      "\n",
      " Node types:\n",
      "  paper: [2708]\n",
      "    Edge types: paper-cites->paper\n",
      "\n",
      " Edge types:\n",
      "    paper-cites->paper: [5429]\n"
     ]
    }
   ],
   "source": [
    "print(G.info())"
   ]
  },
  {
   "cell_type": "markdown",
   "metadata": {},
   "source": [
    "To feed data from the graph to the Keras model we need a generator. Since PPNP is a full-batch model, we use the `FullBatchNodeGenerator` class to feed node features and the normalized graph Laplacian matrix to the model.\n",
    "\n",
    "Specifying the `method='ppnp'` argument to the `FullBatchNodeGenerator` will pre-process the adjacency matrix and supply the personalized page rank matrix necessary for PPNP.  The personalized page rank matrix is a dense matrix and so `sparse=False` must be passed to `FullBatchNodeGenerator`. `teleport_probability=0.1` specifies the probability of returning to the starting node in the propogation step as desribed in the paper (alpha in the paper). "
   ]
  },
  {
   "cell_type": "code",
   "execution_count": 12,
   "metadata": {},
   "outputs": [],
   "source": [
    "generator = FullBatchNodeGenerator(\n",
    "    G, method=\"ppnp\", sparse=False, teleport_probability=0.1\n",
    ")"
   ]
  },
  {
   "cell_type": "markdown",
   "metadata": {},
   "source": [
    "For training we map only the training nodes returned from our splitter and the target values."
   ]
  },
  {
   "cell_type": "code",
   "execution_count": 13,
   "metadata": {},
   "outputs": [],
   "source": [
    "train_gen = generator.flow(train_data.index, train_targets)"
   ]
  },
  {
   "cell_type": "markdown",
   "metadata": {},
   "source": [
    "Now we can specify our machine learning model, we need a few more parameters for this:\n",
    "\n",
    " * the `layer_sizes` is a list of hidden feature sizes of each full fully connected layer in the model. In this example we use three fully connected layers with 64,64, and 7 hidden node features at each layer. \n",
    " * `activations` is a list of activations applied to each layer's output\n",
    " * `dropout=0.5` specifies a 50% dropout at each layer. \n",
    " * `kernel_regularizer=keras.regularizers.l2(0.001)` specifies a penality that prevents the model weights from become too large and helps limit overfitting\n",
    " \n",
    " #### Note that the size of the final fully connected layer must be equal to the number of classes you are trying to predict.\n"
   ]
  },
  {
   "cell_type": "markdown",
   "metadata": {},
   "source": [
    "We create a PPNP model as follows:"
   ]
  },
  {
   "cell_type": "code",
   "execution_count": 14,
   "metadata": {},
   "outputs": [],
   "source": [
    "ppnp = PPNP(\n",
    "    layer_sizes=[64, 64, train_targets.shape[-1]],\n",
    "    activations=[\"relu\", \"relu\", \"relu\"],\n",
    "    generator=generator,\n",
    "    dropout=0.5,\n",
    "    kernel_regularizer=keras.regularizers.l2(0.001),\n",
    ")\n",
    "\n",
    "x_inp, x_out = ppnp.build()\n",
    "predictions = keras.layers.Softmax()(x_out)"
   ]
  },
  {
   "cell_type": "markdown",
   "metadata": {},
   "source": [
    "### Training the model"
   ]
  },
  {
   "cell_type": "markdown",
   "metadata": {},
   "source": [
    "Now let's create the actual Keras model with the input tensors `x_inp` and output tensors being the predictions `predictions` from the final dense layer"
   ]
  },
  {
   "cell_type": "code",
   "execution_count": 15,
   "metadata": {},
   "outputs": [],
   "source": [
    "ppnp_model = Model(inputs=x_inp, outputs=predictions)\n",
    "ppnp_model.compile(\n",
    "    optimizer=optimizers.Adam(lr=0.01),\n",
    "    loss=losses.categorical_crossentropy,\n",
    "    metrics=[\"acc\"],\n",
    ")"
   ]
  },
  {
   "cell_type": "markdown",
   "metadata": {},
   "source": [
    "Train the model, keeping track of its loss and accuracy on the training set, and its generalisation performance on the validation set (we need to create another generator over the validation data for this)"
   ]
  },
  {
   "cell_type": "code",
   "execution_count": 16,
   "metadata": {},
   "outputs": [],
   "source": [
    "val_gen = generator.flow(val_data.index, val_targets)"
   ]
  },
  {
   "cell_type": "markdown",
   "metadata": {},
   "source": [
    "Create callbacks for early stopping (if validation accuracy stops improving) and best model checkpoint saving:"
   ]
  },
  {
   "cell_type": "code",
   "execution_count": 17,
   "metadata": {},
   "outputs": [],
   "source": [
    "if not os.path.isdir(\"logs\"):\n",
    "    os.makedirs(\"logs\")"
   ]
  },
  {
   "cell_type": "code",
   "execution_count": 18,
   "metadata": {},
   "outputs": [],
   "source": [
    "es_callback = EarlyStopping(\n",
    "    monitor=\"val_acc\", patience=50\n",
    ")  # patience is the number of epochs to wait before early stopping in case of no further improvement\n",
    "\n",
    "mc_callback = ModelCheckpoint(\n",
    "    \"logs/best_ppnp_model.h5\",\n",
    "    monitor=\"val_acc\",\n",
    "    save_best_only=True,\n",
    "    save_weights_only=True,\n",
    ")"
   ]
  },
  {
   "cell_type": "markdown",
   "metadata": {},
   "source": [
    "Train the model"
   ]
  },
  {
   "cell_type": "code",
   "execution_count": 19,
   "metadata": {},
   "outputs": [
    {
     "name": "stdout",
     "output_type": "stream",
     "text": [
      "Epoch 1/80\n",
      "1/1 - 0s - loss: 2.1545 - acc: 0.1500 - val_loss: 2.0992 - val_acc: 0.1580\n",
      "Epoch 2/80\n",
      "1/1 - 0s - loss: 2.0813 - acc: 0.2071 - val_loss: 2.0455 - val_acc: 0.1820\n",
      "Epoch 3/80\n",
      "1/1 - 0s - loss: 2.0505 - acc: 0.1786 - val_loss: 1.9874 - val_acc: 0.3880\n",
      "Epoch 4/80\n",
      "1/1 - 0s - loss: 1.9830 - acc: 0.2357 - val_loss: 1.9259 - val_acc: 0.4160\n",
      "Epoch 5/80\n",
      "1/1 - 0s - loss: 1.9198 - acc: 0.3714 - val_loss: 1.8608 - val_acc: 0.3780\n",
      "Epoch 6/80\n",
      "1/1 - 0s - loss: 1.8333 - acc: 0.3929 - val_loss: 1.7968 - val_acc: 0.3700\n",
      "Epoch 7/80\n",
      "1/1 - 0s - loss: 1.7947 - acc: 0.4071 - val_loss: 1.7283 - val_acc: 0.3980\n",
      "Epoch 8/80\n",
      "1/1 - 0s - loss: 1.7465 - acc: 0.3929 - val_loss: 1.6463 - val_acc: 0.4980\n",
      "Epoch 9/80\n",
      "1/1 - 0s - loss: 1.7033 - acc: 0.4429 - val_loss: 1.5679 - val_acc: 0.5600\n",
      "Epoch 10/80\n",
      "1/1 - 0s - loss: 1.6949 - acc: 0.4714 - val_loss: 1.5062 - val_acc: 0.5680\n",
      "Epoch 11/80\n",
      "1/1 - 0s - loss: 1.5521 - acc: 0.5071 - val_loss: 1.4499 - val_acc: 0.5780\n",
      "Epoch 12/80\n",
      "1/1 - 0s - loss: 1.5754 - acc: 0.4857 - val_loss: 1.3979 - val_acc: 0.5960\n",
      "Epoch 13/80\n",
      "1/1 - 0s - loss: 1.3860 - acc: 0.6214 - val_loss: 1.3462 - val_acc: 0.6100\n",
      "Epoch 14/80\n",
      "1/1 - 0s - loss: 1.3543 - acc: 0.5929 - val_loss: 1.2975 - val_acc: 0.6240\n",
      "Epoch 15/80\n",
      "1/1 - 0s - loss: 1.3530 - acc: 0.6286 - val_loss: 1.2558 - val_acc: 0.6420\n",
      "Epoch 16/80\n",
      "1/1 - 0s - loss: 1.2802 - acc: 0.6286 - val_loss: 1.2236 - val_acc: 0.6660\n",
      "Epoch 17/80\n",
      "1/1 - 0s - loss: 1.2341 - acc: 0.6357 - val_loss: 1.2005 - val_acc: 0.6680\n",
      "Epoch 18/80\n",
      "1/1 - 0s - loss: 1.2321 - acc: 0.6643 - val_loss: 1.1696 - val_acc: 0.7000\n",
      "Epoch 19/80\n",
      "1/1 - 0s - loss: 1.2026 - acc: 0.6357 - val_loss: 1.1452 - val_acc: 0.7140\n",
      "Epoch 20/80\n",
      "1/1 - 0s - loss: 1.1597 - acc: 0.7143 - val_loss: 1.1298 - val_acc: 0.7240\n",
      "Epoch 21/80\n",
      "1/1 - 0s - loss: 1.1935 - acc: 0.7071 - val_loss: 1.1228 - val_acc: 0.7320\n",
      "Epoch 22/80\n",
      "1/1 - 0s - loss: 1.1040 - acc: 0.7357 - val_loss: 1.1122 - val_acc: 0.7260\n",
      "Epoch 23/80\n",
      "1/1 - 0s - loss: 1.0824 - acc: 0.7143 - val_loss: 1.1063 - val_acc: 0.7260\n",
      "Epoch 24/80\n",
      "1/1 - 0s - loss: 1.0894 - acc: 0.7143 - val_loss: 1.0997 - val_acc: 0.7300\n",
      "Epoch 25/80\n",
      "1/1 - 0s - loss: 1.0348 - acc: 0.7357 - val_loss: 1.0848 - val_acc: 0.7360\n",
      "Epoch 26/80\n",
      "1/1 - 0s - loss: 1.0819 - acc: 0.7786 - val_loss: 1.0691 - val_acc: 0.7340\n",
      "Epoch 27/80\n",
      "1/1 - 0s - loss: 1.0557 - acc: 0.7286 - val_loss: 1.0605 - val_acc: 0.7340\n",
      "Epoch 28/80\n",
      "1/1 - 0s - loss: 0.9705 - acc: 0.7929 - val_loss: 1.0621 - val_acc: 0.7260\n",
      "Epoch 29/80\n",
      "1/1 - 0s - loss: 0.9384 - acc: 0.7857 - val_loss: 1.0589 - val_acc: 0.7320\n",
      "Epoch 30/80\n",
      "1/1 - 0s - loss: 0.9374 - acc: 0.7714 - val_loss: 1.0453 - val_acc: 0.7400\n",
      "Epoch 31/80\n",
      "1/1 - 0s - loss: 0.9870 - acc: 0.7571 - val_loss: 1.0334 - val_acc: 0.7360\n",
      "Epoch 32/80\n",
      "1/1 - 0s - loss: 0.9409 - acc: 0.7857 - val_loss: 1.0331 - val_acc: 0.7360\n",
      "Epoch 33/80\n",
      "1/1 - 0s - loss: 0.9232 - acc: 0.7714 - val_loss: 1.0450 - val_acc: 0.7300\n",
      "Epoch 34/80\n",
      "1/1 - 0s - loss: 0.8505 - acc: 0.8214 - val_loss: 1.0566 - val_acc: 0.7220\n",
      "Epoch 35/80\n",
      "1/1 - 0s - loss: 0.9046 - acc: 0.8214 - val_loss: 1.0730 - val_acc: 0.7240\n",
      "Epoch 36/80\n",
      "1/1 - 0s - loss: 1.0772 - acc: 0.7714 - val_loss: 1.0668 - val_acc: 0.7240\n",
      "Epoch 37/80\n",
      "1/1 - 0s - loss: 0.9380 - acc: 0.7429 - val_loss: 1.0449 - val_acc: 0.7220\n",
      "Epoch 38/80\n",
      "1/1 - 0s - loss: 0.9909 - acc: 0.7429 - val_loss: 1.0264 - val_acc: 0.7360\n",
      "Epoch 39/80\n",
      "1/1 - 0s - loss: 0.8979 - acc: 0.7857 - val_loss: 1.0209 - val_acc: 0.7460\n",
      "Epoch 40/80\n",
      "1/1 - 0s - loss: 0.9132 - acc: 0.7857 - val_loss: 1.0281 - val_acc: 0.7400\n",
      "Epoch 41/80\n",
      "1/1 - 0s - loss: 0.8561 - acc: 0.7857 - val_loss: 1.0428 - val_acc: 0.7340\n",
      "Epoch 42/80\n",
      "1/1 - 0s - loss: 0.9173 - acc: 0.8143 - val_loss: 1.0435 - val_acc: 0.7500\n",
      "Epoch 43/80\n",
      "1/1 - 0s - loss: 0.8109 - acc: 0.8214 - val_loss: 1.0337 - val_acc: 0.7700\n",
      "Epoch 44/80\n",
      "1/1 - 0s - loss: 0.8696 - acc: 0.8143 - val_loss: 1.0189 - val_acc: 0.7760\n",
      "Epoch 45/80\n",
      "1/1 - 0s - loss: 0.8142 - acc: 0.8214 - val_loss: 1.0058 - val_acc: 0.7880\n",
      "Epoch 46/80\n",
      "1/1 - 0s - loss: 0.8307 - acc: 0.8071 - val_loss: 1.0030 - val_acc: 0.7800\n",
      "Epoch 47/80\n",
      "1/1 - 0s - loss: 0.9370 - acc: 0.7857 - val_loss: 1.0101 - val_acc: 0.7800\n",
      "Epoch 48/80\n",
      "1/1 - 0s - loss: 0.8507 - acc: 0.8429 - val_loss: 1.0270 - val_acc: 0.7740\n",
      "Epoch 49/80\n",
      "1/1 - 0s - loss: 0.8247 - acc: 0.8214 - val_loss: 1.0320 - val_acc: 0.7660\n",
      "Epoch 50/80\n",
      "1/1 - 0s - loss: 0.8412 - acc: 0.8214 - val_loss: 1.0213 - val_acc: 0.7740\n",
      "Epoch 51/80\n",
      "1/1 - 0s - loss: 0.7605 - acc: 0.8500 - val_loss: 1.0090 - val_acc: 0.7680\n",
      "Epoch 52/80\n",
      "1/1 - 0s - loss: 0.8197 - acc: 0.8286 - val_loss: 0.9919 - val_acc: 0.7760\n",
      "Epoch 53/80\n",
      "1/1 - 0s - loss: 0.7748 - acc: 0.8571 - val_loss: 0.9847 - val_acc: 0.7840\n",
      "Epoch 54/80\n",
      "1/1 - 0s - loss: 0.7957 - acc: 0.8500 - val_loss: 0.9915 - val_acc: 0.7660\n",
      "Epoch 55/80\n",
      "1/1 - 0s - loss: 0.7753 - acc: 0.8500 - val_loss: 1.0010 - val_acc: 0.7640\n",
      "Epoch 56/80\n",
      "1/1 - 0s - loss: 0.7441 - acc: 0.8714 - val_loss: 1.0031 - val_acc: 0.7640\n",
      "Epoch 57/80\n",
      "1/1 - 0s - loss: 0.7325 - acc: 0.8643 - val_loss: 0.9928 - val_acc: 0.7680\n",
      "Epoch 58/80\n",
      "1/1 - 0s - loss: 0.7777 - acc: 0.8214 - val_loss: 0.9790 - val_acc: 0.7780\n",
      "Epoch 59/80\n",
      "1/1 - 0s - loss: 0.7751 - acc: 0.8500 - val_loss: 0.9732 - val_acc: 0.7900\n",
      "Epoch 60/80\n",
      "1/1 - 0s - loss: 0.6568 - acc: 0.8786 - val_loss: 0.9738 - val_acc: 0.7920\n",
      "Epoch 61/80\n",
      "1/1 - 0s - loss: 0.7699 - acc: 0.8286 - val_loss: 0.9837 - val_acc: 0.7880\n",
      "Epoch 62/80\n",
      "1/1 - 0s - loss: 0.7524 - acc: 0.8643 - val_loss: 0.9966 - val_acc: 0.7820\n",
      "Epoch 63/80\n",
      "1/1 - 0s - loss: 0.7210 - acc: 0.8643 - val_loss: 1.0001 - val_acc: 0.7780\n",
      "Epoch 64/80\n",
      "1/1 - 0s - loss: 0.7927 - acc: 0.8500 - val_loss: 0.9913 - val_acc: 0.7780\n",
      "Epoch 65/80\n",
      "1/1 - 0s - loss: 0.6942 - acc: 0.8714 - val_loss: 0.9721 - val_acc: 0.7800\n",
      "Epoch 66/80\n",
      "1/1 - 0s - loss: 0.8176 - acc: 0.8429 - val_loss: 0.9557 - val_acc: 0.7860\n",
      "Epoch 67/80\n",
      "1/1 - 0s - loss: 0.7389 - acc: 0.8786 - val_loss: 0.9423 - val_acc: 0.7900\n",
      "Epoch 68/80\n",
      "1/1 - 0s - loss: 0.7031 - acc: 0.8714 - val_loss: 0.9365 - val_acc: 0.7860\n",
      "Epoch 69/80\n",
      "1/1 - 0s - loss: 0.7504 - acc: 0.8571 - val_loss: 0.9364 - val_acc: 0.7860\n",
      "Epoch 70/80\n",
      "1/1 - 0s - loss: 0.6984 - acc: 0.8429 - val_loss: 0.9380 - val_acc: 0.7840\n",
      "Epoch 71/80\n",
      "1/1 - 0s - loss: 0.7550 - acc: 0.8643 - val_loss: 0.9332 - val_acc: 0.7880\n",
      "Epoch 72/80\n",
      "1/1 - 0s - loss: 0.7451 - acc: 0.8429 - val_loss: 0.9290 - val_acc: 0.7920\n",
      "Epoch 73/80\n",
      "1/1 - 0s - loss: 0.7776 - acc: 0.8357 - val_loss: 0.9283 - val_acc: 0.7880\n",
      "Epoch 74/80\n",
      "1/1 - 0s - loss: 0.6993 - acc: 0.8643 - val_loss: 0.9260 - val_acc: 0.7880\n",
      "Epoch 75/80\n",
      "1/1 - 0s - loss: 0.7144 - acc: 0.8571 - val_loss: 0.9253 - val_acc: 0.7880\n",
      "Epoch 76/80\n",
      "1/1 - 0s - loss: 0.6579 - acc: 0.8929 - val_loss: 0.9263 - val_acc: 0.7880\n",
      "Epoch 77/80\n",
      "1/1 - 0s - loss: 0.6395 - acc: 0.9000 - val_loss: 0.9282 - val_acc: 0.7880\n",
      "Epoch 78/80\n",
      "1/1 - 0s - loss: 0.6908 - acc: 0.8714 - val_loss: 0.9262 - val_acc: 0.7780\n",
      "Epoch 79/80\n",
      "1/1 - 0s - loss: 0.7406 - acc: 0.8429 - val_loss: 0.9249 - val_acc: 0.7780\n",
      "Epoch 80/80\n",
      "1/1 - 0s - loss: 0.7262 - acc: 0.8500 - val_loss: 0.9200 - val_acc: 0.7720\n"
     ]
    }
   ],
   "source": [
    "history = ppnp_model.fit_generator(\n",
    "    train_gen,\n",
    "    epochs=80,\n",
    "    validation_data=val_gen,\n",
    "    verbose=2,\n",
    "    shuffle=False,  # this should be False, since shuffling data means shuffling the whole graph\n",
    "    callbacks=[es_callback, mc_callback],\n",
    ")"
   ]
  },
  {
   "cell_type": "markdown",
   "metadata": {},
   "source": [
    "Plot the training history:"
   ]
  },
  {
   "cell_type": "code",
   "execution_count": 20,
   "metadata": {},
   "outputs": [],
   "source": [
    "import matplotlib.pyplot as plt\n",
    "%matplotlib inline\n",
    "\n",
    "def remove_prefix(text, prefix):\n",
    "    return text[text.startswith(prefix) and len(prefix):]\n",
    "\n",
    "def plot_history(history):\n",
    "    metrics = sorted(set([remove_prefix(m, \"val_\") for m in list(history.history.keys())]))\n",
    "    for m in metrics:\n",
    "        # summarize history for metric m\n",
    "        plt.plot(history.history[m])\n",
    "        plt.plot(history.history['val_' + m])\n",
    "        plt.title(m)\n",
    "        plt.ylabel(m)\n",
    "        plt.xlabel('epoch')\n",
    "        plt.legend(['train', 'validation'], loc='best')\n",
    "        plt.show()"
   ]
  },
  {
   "cell_type": "code",
   "execution_count": 21,
   "metadata": {},
   "outputs": [
    {
     "data": {
      "image/png": "[encoded data removed]",
      "text/plain": [
       "<Figure size 432x288 with 1 Axes>"
      ]
     },
     "metadata": {
      "needs_background": "light"
     },
     "output_type": "display_data"
    },
    {
     "data": {
      "image/png": "[encoded data removed]",
      "text/plain": [
       "<Figure size 432x288 with 1 Axes>"
      ]
     },
     "metadata": {
      "needs_background": "light"
     },
     "output_type": "display_data"
    }
   ],
   "source": [
    "plot_history(history)"
   ]
  },
  {
   "cell_type": "markdown",
   "metadata": {},
   "source": [
    "Reload the saved weights of the best model found during the training (according to validation accuracy)"
   ]
  },
  {
   "cell_type": "code",
   "execution_count": 22,
   "metadata": {},
   "outputs": [],
   "source": [
    "ppnp_model.load_weights(\"logs/best_ppnp_model.h5\")"
   ]
  },
  {
   "cell_type": "markdown",
   "metadata": {},
   "source": [
    "Evaluate the best model on the test set"
   ]
  },
  {
   "cell_type": "code",
   "execution_count": 23,
   "metadata": {},
   "outputs": [],
   "source": [
    "test_gen = generator.flow(test_data.index, test_targets)"
   ]
  },
  {
   "cell_type": "code",
   "execution_count": 24,
   "metadata": {},
   "outputs": [
    {
     "name": "stdout",
     "output_type": "stream",
     "text": [
      "\n",
      "Test Set Metrics:\n",
      "\tloss: 1.0211\n",
      "\tacc: 0.7863\n"
     ]
    }
   ],
   "source": [
    "test_metrics = ppnp_model.evaluate_generator(test_gen)\n",
    "print(\"\\nTest Set Metrics:\")\n",
    "for name, val in zip(ppnp_model.metrics_names, test_metrics):\n",
    "    print(\"\\t{}: {:0.4f}\".format(name, val))"
   ]
  },
  {
   "cell_type": "markdown",
   "metadata": {},
   "source": [
    "## Using the Approximate PPNP Model\n",
    "\n",
    "Lets repeat the training and testing steps with the APPNP model using the same dataset. The downside of the PPNP is that you have to invert the adjacency matrix - which is time inneficient for large graphs - and store that invert matrix - which is space innefficient. The approximate model avoids this issue by using a clever mathematical trick. \n",
    "\n",
    "The APPNP model uses the normalized graph Laplacian. To get the normalized graph Laplacian we create a new `FullBatchNodeGenerator` and set `method=\"gcn\"`. We have the option of choosing `sparse=True` or `sparse=False` but will use `sparse=True` for memory efficiency."
   ]
  },
  {
   "cell_type": "code",
   "execution_count": 25,
   "metadata": {},
   "outputs": [
    {
     "name": "stdout",
     "output_type": "stream",
     "text": [
      "Using GCN (local pooling) filters...\n",
      "Epoch 1/120\n",
      "1/1 - 0s - loss: 2.1476 - acc: 0.1143 - val_loss: 2.0961 - val_acc: 0.2960\n",
      "Epoch 2/120\n",
      "1/1 - 0s - loss: 2.1221 - acc: 0.2214 - val_loss: 2.0519 - val_acc: 0.3020\n",
      "Epoch 3/120\n",
      "1/1 - 0s - loss: 2.1216 - acc: 0.2786 - val_loss: 2.0194 - val_acc: 0.3020\n",
      "Epoch 4/120\n",
      "1/1 - 0s - loss: 2.0195 - acc: 0.3000 - val_loss: 1.9825 - val_acc: 0.3020\n",
      "Epoch 5/120\n",
      "1/1 - 0s - loss: 1.9816 - acc: 0.3357 - val_loss: 1.9400 - val_acc: 0.3020\n",
      "Epoch 6/120\n",
      "1/1 - 0s - loss: 1.9555 - acc: 0.2500 - val_loss: 1.8984 - val_acc: 0.3020\n",
      "Epoch 7/120\n",
      "1/1 - 0s - loss: 1.9624 - acc: 0.2929 - val_loss: 1.8546 - val_acc: 0.3040\n",
      "Epoch 8/120\n",
      "1/1 - 0s - loss: 1.9841 - acc: 0.3143 - val_loss: 1.8136 - val_acc: 0.3680\n",
      "Epoch 9/120\n",
      "1/1 - 0s - loss: 1.8559 - acc: 0.3786 - val_loss: 1.7780 - val_acc: 0.4880\n",
      "Epoch 10/120\n",
      "1/1 - 0s - loss: 1.6912 - acc: 0.5286 - val_loss: 1.7338 - val_acc: 0.5000\n",
      "Epoch 11/120\n",
      "1/1 - 0s - loss: 1.7453 - acc: 0.4286 - val_loss: 1.6819 - val_acc: 0.5060\n",
      "Epoch 12/120\n",
      "1/1 - 0s - loss: 1.7951 - acc: 0.4429 - val_loss: 1.6208 - val_acc: 0.5480\n",
      "Epoch 13/120\n",
      "1/1 - 0s - loss: 1.7625 - acc: 0.4786 - val_loss: 1.5701 - val_acc: 0.6020\n",
      "Epoch 14/120\n",
      "1/1 - 0s - loss: 1.6594 - acc: 0.5857 - val_loss: 1.5176 - val_acc: 0.6200\n",
      "Epoch 15/120\n",
      "1/1 - 0s - loss: 1.6576 - acc: 0.5357 - val_loss: 1.4621 - val_acc: 0.6500\n",
      "Epoch 16/120\n",
      "1/1 - 0s - loss: 1.5477 - acc: 0.5643 - val_loss: 1.4142 - val_acc: 0.6620\n",
      "Epoch 17/120\n",
      "1/1 - 0s - loss: 1.4581 - acc: 0.5929 - val_loss: 1.3657 - val_acc: 0.6640\n",
      "Epoch 18/120\n",
      "1/1 - 0s - loss: 1.5957 - acc: 0.5000 - val_loss: 1.3195 - val_acc: 0.6760\n",
      "Epoch 19/120\n",
      "1/1 - 0s - loss: 1.4231 - acc: 0.6286 - val_loss: 1.2715 - val_acc: 0.6860\n",
      "Epoch 20/120\n",
      "1/1 - 0s - loss: 1.5208 - acc: 0.6000 - val_loss: 1.2450 - val_acc: 0.6980\n",
      "Epoch 21/120\n",
      "1/1 - 0s - loss: 1.4427 - acc: 0.6000 - val_loss: 1.2344 - val_acc: 0.7180\n",
      "Epoch 22/120\n",
      "1/1 - 0s - loss: 1.2707 - acc: 0.7143 - val_loss: 1.2173 - val_acc: 0.7160\n",
      "Epoch 23/120\n",
      "1/1 - 0s - loss: 1.2124 - acc: 0.6571 - val_loss: 1.1940 - val_acc: 0.7260\n",
      "Epoch 24/120\n",
      "1/1 - 0s - loss: 1.2798 - acc: 0.6857 - val_loss: 1.1651 - val_acc: 0.7260\n",
      "Epoch 25/120\n",
      "1/1 - 0s - loss: 1.2859 - acc: 0.6929 - val_loss: 1.1344 - val_acc: 0.7240\n",
      "Epoch 26/120\n",
      "1/1 - 0s - loss: 1.4811 - acc: 0.6714 - val_loss: 1.1209 - val_acc: 0.7100\n",
      "Epoch 27/120\n",
      "1/1 - 0s - loss: 1.2645 - acc: 0.7500 - val_loss: 1.1227 - val_acc: 0.7120\n",
      "Epoch 28/120\n",
      "1/1 - 0s - loss: 1.2101 - acc: 0.6929 - val_loss: 1.1224 - val_acc: 0.7120\n",
      "Epoch 29/120\n",
      "1/1 - 0s - loss: 1.2113 - acc: 0.7286 - val_loss: 1.1011 - val_acc: 0.7160\n",
      "Epoch 30/120\n",
      "1/1 - 0s - loss: 1.1087 - acc: 0.7357 - val_loss: 1.0872 - val_acc: 0.7180\n",
      "Epoch 31/120\n",
      "1/1 - 0s - loss: 1.0832 - acc: 0.7357 - val_loss: 1.0847 - val_acc: 0.7260\n",
      "Epoch 32/120\n",
      "1/1 - 0s - loss: 1.1167 - acc: 0.7429 - val_loss: 1.0875 - val_acc: 0.7160\n",
      "Epoch 33/120\n",
      "1/1 - 0s - loss: 1.0702 - acc: 0.8071 - val_loss: 1.0819 - val_acc: 0.7160\n",
      "Epoch 34/120\n",
      "1/1 - 0s - loss: 1.0212 - acc: 0.7571 - val_loss: 1.0748 - val_acc: 0.7200\n",
      "Epoch 35/120\n",
      "1/1 - 0s - loss: 0.9833 - acc: 0.7786 - val_loss: 1.0655 - val_acc: 0.7320\n",
      "Epoch 36/120\n",
      "1/1 - 0s - loss: 1.0001 - acc: 0.8000 - val_loss: 1.0555 - val_acc: 0.7440\n",
      "Epoch 37/120\n",
      "1/1 - 0s - loss: 1.0074 - acc: 0.7786 - val_loss: 1.0470 - val_acc: 0.7660\n",
      "Epoch 38/120\n",
      "1/1 - 0s - loss: 0.9912 - acc: 0.8071 - val_loss: 1.0367 - val_acc: 0.7680\n",
      "Epoch 39/120\n",
      "1/1 - 0s - loss: 0.9920 - acc: 0.8214 - val_loss: 1.0271 - val_acc: 0.7780\n",
      "Epoch 40/120\n",
      "1/1 - 0s - loss: 1.1639 - acc: 0.7714 - val_loss: 1.0245 - val_acc: 0.7840\n",
      "Epoch 41/120\n",
      "1/1 - 0s - loss: 0.9535 - acc: 0.8286 - val_loss: 1.0256 - val_acc: 0.7780\n",
      "Epoch 42/120\n",
      "1/1 - 0s - loss: 1.1713 - acc: 0.7429 - val_loss: 1.0272 - val_acc: 0.7780\n",
      "Epoch 43/120\n",
      "1/1 - 0s - loss: 1.0234 - acc: 0.7786 - val_loss: 1.0299 - val_acc: 0.7740\n",
      "Epoch 44/120\n",
      "1/1 - 0s - loss: 1.0748 - acc: 0.8143 - val_loss: 1.0414 - val_acc: 0.7680\n",
      "Epoch 45/120\n",
      "1/1 - 0s - loss: 1.0487 - acc: 0.8286 - val_loss: 1.0538 - val_acc: 0.7760\n",
      "Epoch 46/120\n",
      "1/1 - 0s - loss: 0.8877 - acc: 0.8214 - val_loss: 1.0638 - val_acc: 0.7720\n",
      "Epoch 47/120\n",
      "1/1 - 0s - loss: 0.9482 - acc: 0.7857 - val_loss: 1.0668 - val_acc: 0.7680\n",
      "Epoch 48/120\n",
      "1/1 - 0s - loss: 1.0007 - acc: 0.7929 - val_loss: 1.0628 - val_acc: 0.7760\n",
      "Epoch 49/120\n",
      "1/1 - 0s - loss: 1.0646 - acc: 0.8071 - val_loss: 1.0569 - val_acc: 0.7800\n",
      "Epoch 50/120\n",
      "1/1 - 0s - loss: 0.9616 - acc: 0.8357 - val_loss: 1.0528 - val_acc: 0.7780\n",
      "Epoch 51/120\n",
      "1/1 - 0s - loss: 0.9586 - acc: 0.8357 - val_loss: 1.0494 - val_acc: 0.7820\n",
      "Epoch 52/120\n",
      "1/1 - 0s - loss: 1.0210 - acc: 0.8000 - val_loss: 1.0490 - val_acc: 0.7880\n",
      "Epoch 53/120\n",
      "1/1 - 0s - loss: 1.0728 - acc: 0.8143 - val_loss: 1.0496 - val_acc: 0.7880\n",
      "Epoch 54/120\n",
      "1/1 - 0s - loss: 1.0081 - acc: 0.7929 - val_loss: 1.0497 - val_acc: 0.7860\n",
      "Epoch 55/120\n",
      "1/1 - 0s - loss: 0.9051 - acc: 0.8429 - val_loss: 1.0543 - val_acc: 0.7880\n",
      "Epoch 56/120\n",
      "1/1 - 0s - loss: 0.9088 - acc: 0.8429 - val_loss: 1.0624 - val_acc: 0.7900\n",
      "Epoch 57/120\n",
      "1/1 - 0s - loss: 0.9807 - acc: 0.8857 - val_loss: 1.0755 - val_acc: 0.7780\n",
      "Epoch 58/120\n",
      "1/1 - 0s - loss: 0.9077 - acc: 0.8571 - val_loss: 1.0831 - val_acc: 0.7740\n",
      "Epoch 59/120\n",
      "1/1 - 0s - loss: 1.0662 - acc: 0.8429 - val_loss: 1.0838 - val_acc: 0.7740\n",
      "Epoch 60/120\n",
      "1/1 - 0s - loss: 0.8958 - acc: 0.8929 - val_loss: 1.0768 - val_acc: 0.7820\n",
      "Epoch 61/120\n",
      "1/1 - 0s - loss: 0.8595 - acc: 0.8500 - val_loss: 1.0757 - val_acc: 0.7880\n",
      "Epoch 62/120\n",
      "1/1 - 0s - loss: 0.9158 - acc: 0.8643 - val_loss: 1.0716 - val_acc: 0.7940\n",
      "Epoch 63/120\n",
      "1/1 - 0s - loss: 1.0666 - acc: 0.8071 - val_loss: 1.0593 - val_acc: 0.7900\n",
      "Epoch 64/120\n",
      "1/1 - 0s - loss: 0.8797 - acc: 0.8571 - val_loss: 1.0537 - val_acc: 0.7840\n",
      "Epoch 65/120\n",
      "1/1 - 0s - loss: 0.8250 - acc: 0.8500 - val_loss: 1.0578 - val_acc: 0.7860\n",
      "Epoch 66/120\n",
      "1/1 - 0s - loss: 0.8368 - acc: 0.8786 - val_loss: 1.0625 - val_acc: 0.7880\n",
      "Epoch 67/120\n",
      "1/1 - 0s - loss: 0.9272 - acc: 0.8429 - val_loss: 1.0599 - val_acc: 0.7840\n",
      "Epoch 68/120\n",
      "1/1 - 0s - loss: 0.9516 - acc: 0.8643 - val_loss: 1.0594 - val_acc: 0.7860\n",
      "Epoch 69/120\n",
      "1/1 - 0s - loss: 0.9108 - acc: 0.8429 - val_loss: 1.0553 - val_acc: 0.7780\n",
      "Epoch 70/120\n",
      "1/1 - 0s - loss: 0.8573 - acc: 0.8500 - val_loss: 1.0547 - val_acc: 0.7780\n",
      "Epoch 71/120\n",
      "1/1 - 0s - loss: 0.7932 - acc: 0.8714 - val_loss: 1.0589 - val_acc: 0.7760\n",
      "Epoch 72/120\n",
      "1/1 - 0s - loss: 0.7966 - acc: 0.8929 - val_loss: 1.0631 - val_acc: 0.7840\n",
      "Epoch 73/120\n",
      "1/1 - 0s - loss: 0.8308 - acc: 0.8857 - val_loss: 1.0686 - val_acc: 0.7840\n",
      "Epoch 74/120\n",
      "1/1 - 0s - loss: 0.9363 - acc: 0.8286 - val_loss: 1.0725 - val_acc: 0.7680\n",
      "Epoch 75/120\n",
      "1/1 - 0s - loss: 0.9103 - acc: 0.8786 - val_loss: 1.0654 - val_acc: 0.7720\n",
      "Epoch 76/120\n",
      "1/1 - 0s - loss: 0.8452 - acc: 0.8714 - val_loss: 1.0551 - val_acc: 0.7660\n",
      "Epoch 77/120\n",
      "1/1 - 0s - loss: 0.8290 - acc: 0.8714 - val_loss: 1.0475 - val_acc: 0.7680\n",
      "Epoch 78/120\n",
      "1/1 - 0s - loss: 0.8828 - acc: 0.8643 - val_loss: 1.0445 - val_acc: 0.7700\n",
      "Epoch 79/120\n",
      "1/1 - 0s - loss: 0.7483 - acc: 0.9071 - val_loss: 1.0442 - val_acc: 0.7800\n",
      "Epoch 80/120\n",
      "1/1 - 0s - loss: 0.8674 - acc: 0.8714 - val_loss: 1.0458 - val_acc: 0.7780\n",
      "Epoch 81/120\n",
      "1/1 - 0s - loss: 0.9153 - acc: 0.8786 - val_loss: 1.0481 - val_acc: 0.7800\n",
      "Epoch 82/120\n",
      "1/1 - 0s - loss: 0.9052 - acc: 0.8357 - val_loss: 1.0496 - val_acc: 0.7860\n",
      "Epoch 83/120\n",
      "1/1 - 0s - loss: 0.9995 - acc: 0.8357 - val_loss: 1.0489 - val_acc: 0.7920\n",
      "Epoch 84/120\n",
      "1/1 - 0s - loss: 0.9139 - acc: 0.8500 - val_loss: 1.0459 - val_acc: 0.7920\n",
      "Epoch 85/120\n",
      "1/1 - 0s - loss: 1.1431 - acc: 0.8357 - val_loss: 1.0394 - val_acc: 0.7940\n",
      "Epoch 86/120\n",
      "1/1 - 0s - loss: 0.7901 - acc: 0.8857 - val_loss: 1.0341 - val_acc: 0.7860\n",
      "Epoch 87/120\n",
      "1/1 - 0s - loss: 0.8409 - acc: 0.8643 - val_loss: 1.0325 - val_acc: 0.7780\n",
      "Epoch 88/120\n",
      "1/1 - 0s - loss: 0.8471 - acc: 0.8929 - val_loss: 1.0358 - val_acc: 0.7780\n",
      "Epoch 89/120\n",
      "1/1 - 0s - loss: 0.8184 - acc: 0.8643 - val_loss: 1.0401 - val_acc: 0.7760\n",
      "Epoch 90/120\n",
      "1/1 - 0s - loss: 0.8226 - acc: 0.8929 - val_loss: 1.0423 - val_acc: 0.7740\n",
      "Epoch 91/120\n",
      "1/1 - 0s - loss: 0.7808 - acc: 0.9000 - val_loss: 1.0433 - val_acc: 0.7760\n",
      "Epoch 92/120\n",
      "1/1 - 0s - loss: 1.0026 - acc: 0.8500 - val_loss: 1.0444 - val_acc: 0.7780\n",
      "Epoch 93/120\n",
      "1/1 - 0s - loss: 0.8282 - acc: 0.8714 - val_loss: 1.0446 - val_acc: 0.7780\n",
      "Epoch 94/120\n",
      "1/1 - 0s - loss: 0.9299 - acc: 0.8500 - val_loss: 1.0450 - val_acc: 0.7800\n",
      "Epoch 95/120\n",
      "1/1 - 0s - loss: 1.0101 - acc: 0.8571 - val_loss: 1.0463 - val_acc: 0.7880\n",
      "Epoch 96/120\n",
      "1/1 - 0s - loss: 0.8485 - acc: 0.8714 - val_loss: 1.0471 - val_acc: 0.7820\n",
      "Epoch 97/120\n",
      "1/1 - 0s - loss: 0.8343 - acc: 0.8857 - val_loss: 1.0487 - val_acc: 0.7800\n",
      "Epoch 98/120\n",
      "1/1 - 0s - loss: 0.9824 - acc: 0.8429 - val_loss: 1.0519 - val_acc: 0.7840\n",
      "Epoch 99/120\n",
      "1/1 - 0s - loss: 0.8642 - acc: 0.8643 - val_loss: 1.0586 - val_acc: 0.7840\n",
      "Epoch 100/120\n",
      "1/1 - 0s - loss: 0.8816 - acc: 0.8643 - val_loss: 1.0656 - val_acc: 0.7780\n",
      "Epoch 101/120\n",
      "1/1 - 0s - loss: 0.7779 - acc: 0.8857 - val_loss: 1.0734 - val_acc: 0.7720\n",
      "Epoch 102/120\n",
      "1/1 - 0s - loss: 0.8139 - acc: 0.8714 - val_loss: 1.0812 - val_acc: 0.7700\n",
      "Epoch 103/120\n",
      "1/1 - 0s - loss: 0.8197 - acc: 0.8929 - val_loss: 1.0831 - val_acc: 0.7700\n",
      "Epoch 104/120\n",
      "1/1 - 0s - loss: 0.9500 - acc: 0.8500 - val_loss: 1.0696 - val_acc: 0.7740\n",
      "Epoch 105/120\n",
      "1/1 - 0s - loss: 0.7800 - acc: 0.9000 - val_loss: 1.0551 - val_acc: 0.7820\n",
      "Epoch 106/120\n",
      "1/1 - 0s - loss: 0.9615 - acc: 0.8786 - val_loss: 1.0444 - val_acc: 0.7780\n",
      "Epoch 107/120\n",
      "1/1 - 0s - loss: 0.7949 - acc: 0.8929 - val_loss: 1.0357 - val_acc: 0.7780\n",
      "Epoch 108/120\n",
      "1/1 - 0s - loss: 0.8908 - acc: 0.8571 - val_loss: 1.0321 - val_acc: 0.7840\n",
      "Epoch 109/120\n",
      "1/1 - 0s - loss: 0.7662 - acc: 0.9214 - val_loss: 1.0396 - val_acc: 0.7840\n",
      "Epoch 110/120\n",
      "1/1 - 0s - loss: 0.8648 - acc: 0.8786 - val_loss: 1.0467 - val_acc: 0.7740\n",
      "Epoch 111/120\n",
      "1/1 - 0s - loss: 0.9717 - acc: 0.8357 - val_loss: 1.0499 - val_acc: 0.7740\n",
      "Epoch 112/120\n",
      "1/1 - 0s - loss: 0.9125 - acc: 0.8643 - val_loss: 1.0474 - val_acc: 0.7820\n"
     ]
    }
   ],
   "source": [
    "generator = FullBatchNodeGenerator(G, method=\"gcn\", sparse=True)\n",
    "\n",
    "train_gen = generator.flow(train_data.index, train_targets)\n",
    "val_gen = generator.flow(val_data.index, val_targets)\n",
    "test_gen = generator.flow(test_data.index, test_targets)\n",
    "\n",
    "appnp = APPNP(\n",
    "    layer_sizes=[64, 64, train_targets.shape[-1]],\n",
    "    activations=[\"relu\", \"relu\", \"relu\"],\n",
    "    bias=True,\n",
    "    generator=generator,\n",
    "    teleport_probability=0.1,\n",
    "    dropout=0.5,\n",
    "    kernel_regularizer=keras.regularizers.l2(0.001),\n",
    ")\n",
    "\n",
    "x_inp, x_out = appnp.build()\n",
    "predictions = keras.layers.Softmax()(x_out)\n",
    "\n",
    "appnp_model = keras.models.Model(inputs=x_inp, outputs=predictions)\n",
    "appnp_model.compile(\n",
    "    loss=\"categorical_crossentropy\",\n",
    "    metrics=[\"acc\"],\n",
    "    optimizer=keras.optimizers.Adam(lr=0.01),\n",
    ")\n",
    "\n",
    "es_callback = EarlyStopping(\n",
    "    monitor=\"val_acc\", patience=50\n",
    ")  # patience is the number of epochs to wait before early stopping in case of no further improvement\n",
    "\n",
    "mc_callback = ModelCheckpoint(\n",
    "    \"logs/best_appnp_model.h5\",\n",
    "    monitor=\"val_acc\",\n",
    "    save_best_only=True,\n",
    "    save_weights_only=True,\n",
    ")\n",
    "\n",
    "history = appnp_model.fit_generator(\n",
    "    train_gen,\n",
    "    epochs=120,\n",
    "    validation_data=val_gen,\n",
    "    verbose=2,\n",
    "    shuffle=False,  # this should be False, since shuffling data means shuffling the whole graph\n",
    "    callbacks=[es_callback, mc_callback],\n",
    ")"
   ]
  },
  {
   "cell_type": "code",
   "execution_count": 26,
   "metadata": {},
   "outputs": [
    {
     "data": {
      "image/png": "[encoded data removed]",
      "text/plain": [
       "<Figure size 432x288 with 1 Axes>"
      ]
     },
     "metadata": {
      "needs_background": "light"
     },
     "output_type": "display_data"
    },
    {
     "data": {
      "image/png": "[encoded data removed]",
      "text/plain": [
       "<Figure size 432x288 with 1 Axes>"
      ]
     },
     "metadata": {
      "needs_background": "light"
     },
     "output_type": "display_data"
    }
   ],
   "source": [
    "plot_history(history)"
   ]
  },
  {
   "cell_type": "code",
   "execution_count": 27,
   "metadata": {},
   "outputs": [
    {
     "name": "stdout",
     "output_type": "stream",
     "text": [
      "\n",
      "Test Set Metrics:\n",
      "\tloss: 1.1067\n",
      "\tacc: 0.7727\n"
     ]
    }
   ],
   "source": [
    "appnp_model.load_weights(\"logs/best_appnp_model.h5\")\n",
    "test_metrics = appnp_model.evaluate_generator(test_gen)\n",
    "print(\"\\nTest Set Metrics:\")\n",
    "for name, val in zip(appnp_model.metrics_names, test_metrics):\n",
    "    print(\"\\t{}: {:0.4f}\".format(name, val))"
   ]
  },
  {
   "cell_type": "markdown",
   "metadata": {},
   "source": [
    "### Scalable APPNP Training\n",
    "\n",
    "Now we're going to exploit the structure of PPNP for scalable training. PPNP consists of a fully-connected neural network followed by a graph propogation step. For each node, the fully-connected network outputs a score for each class and the propogaiton step basically takes a weighted average of scores of nearby nodes (closer nodes are weighted higher). \n",
    "\n",
    "Above, we trained the whole network end-to-end which obtains the most accurate results but  requires us to load the entire graph onto our GPU memory. This is because we need the entire graph for the propogation step. Unfortunately, this limits the graph size by our GPU memory. To get around this, we can train the fully-connected network separately and once we have a trained fully connected network we can add the graph propagation step.  The advantage of this approach is that we can train on batches of node features instead of the entire graph.\n",
    "\n",
    "The model in the propagation step can be any keras model trained on node features to predict the target classes. In this example we use a fully connected neural network with bag of word features as input. We could easily swap out the bag of words features for the complete text and replace the fully connected network with a state-of-the-art NLP model (for example BERT [1]), fine-tune the model and propagate its predictions.\n",
    "\n",
    "\n",
    "<br>\n",
    "\n",
    "1. Devlin, J., Chang, M. W., Lee, K., & Toutanova, K. (2018). Bert: Pre-training of deep bidirectional transformers for language understanding. https://arxiv.org/abs/1810.04805"
   ]
  },
  {
   "cell_type": "markdown",
   "metadata": {},
   "source": [
    "First we create and train a fully connected model."
   ]
  },
  {
   "cell_type": "code",
   "execution_count": 28,
   "metadata": {},
   "outputs": [],
   "source": [
    "model = keras.models.Model()\n",
    "\n",
    "in_layer = layers.Input(shape=(len(feature_names),))\n",
    "\n",
    "layer = layers.Dropout(0.5)(in_layer)\n",
    "layer = layers.Dense(64, activation=\"relu\", kernel_regularizer=\"l2\")(layer)\n",
    "layer = layers.Dropout(0.5)(layer)\n",
    "layer = layers.Dense(64, activation=\"relu\", kernel_regularizer=\"l2\")(layer)\n",
    "layer = layers.Dropout(0.5)(layer)\n",
    "\n",
    "# note the dimension of the output should equal the number of classes to predict!\n",
    "layer = layers.Dense(train_targets.shape[-1], activation=\"relu\")(layer)\n",
    "layer = layers.Softmax()(layer)\n",
    "\n",
    "fully_connected_model = keras.models.Model(inputs=in_layer, outputs=layer)\n",
    "\n",
    "fully_connected_model.compile(\n",
    "    loss=\"categorical_crossentropy\", metrics=[\"acc\"], optimizer=optimizers.Adam(lr=0.01)\n",
    ")\n",
    "\n",
    "# the inputs are just the node features\n",
    "X_train = train_data[feature_names].values.astype(np.float32)\n",
    "X_val = val_data[feature_names].values.astype(np.float32)"
   ]
  },
  {
   "cell_type": "code",
   "execution_count": 29,
   "metadata": {},
   "outputs": [
    {
     "name": "stdout",
     "output_type": "stream",
     "text": [
      "Train on 140 samples, validate on 500 samples\n",
      "Epoch 1/2000\n",
      "140/140 [==============================] - 1s 5ms/sample - loss: 3.7896 - acc: 0.2143 - val_loss: 3.2844 - val_acc: 0.3020\n",
      "Epoch 2/2000\n",
      "140/140 [==============================] - 0s 120us/sample - loss: 3.2640 - acc: 0.2571 - val_loss: 2.9154 - val_acc: 0.3020\n",
      "Epoch 3/2000\n",
      "140/140 [==============================] - 0s 106us/sample - loss: 2.8502 - acc: 0.2929 - val_loss: 2.6640 - val_acc: 0.3020\n",
      "Epoch 4/2000\n",
      "140/140 [==============================] - 0s 126us/sample - loss: 2.6016 - acc: 0.3071 - val_loss: 2.5020 - val_acc: 0.3020\n",
      "Epoch 5/2000\n",
      "140/140 [==============================] - 0s 126us/sample - loss: 2.4435 - acc: 0.3071 - val_loss: 2.4045 - val_acc: 0.3020\n",
      "Epoch 6/2000\n",
      "140/140 [==============================] - 0s 126us/sample - loss: 2.2466 - acc: 0.3143 - val_loss: 2.3482 - val_acc: 0.3020\n",
      "Epoch 7/2000\n",
      "140/140 [==============================] - 0s 180us/sample - loss: 2.2291 - acc: 0.3286 - val_loss: 2.3147 - val_acc: 0.3040\n",
      "Epoch 8/2000\n",
      "140/140 [==============================] - 0s 174us/sample - loss: 2.1419 - acc: 0.3500 - val_loss: 2.2891 - val_acc: 0.3100\n",
      "Epoch 9/2000\n",
      "140/140 [==============================] - 0s 176us/sample - loss: 2.1579 - acc: 0.3643 - val_loss: 2.2608 - val_acc: 0.3440\n",
      "Epoch 10/2000\n",
      "140/140 [==============================] - 0s 156us/sample - loss: 2.0056 - acc: 0.4286 - val_loss: 2.2321 - val_acc: 0.4040\n",
      "Epoch 11/2000\n",
      "140/140 [==============================] - 0s 150us/sample - loss: 1.9573 - acc: 0.4357 - val_loss: 2.2062 - val_acc: 0.4600\n",
      "Epoch 12/2000\n",
      "140/140 [==============================] - 0s 156us/sample - loss: 1.8748 - acc: 0.5286 - val_loss: 2.1820 - val_acc: 0.4760\n",
      "Epoch 13/2000\n",
      "140/140 [==============================] - 0s 165us/sample - loss: 1.8282 - acc: 0.6000 - val_loss: 2.1496 - val_acc: 0.4840\n",
      "Epoch 14/2000\n",
      "140/140 [==============================] - 0s 123us/sample - loss: 1.7752 - acc: 0.6214 - val_loss: 2.1095 - val_acc: 0.4820\n",
      "Epoch 15/2000\n",
      "140/140 [==============================] - 0s 129us/sample - loss: 1.6620 - acc: 0.6143 - val_loss: 2.0674 - val_acc: 0.4820\n",
      "Epoch 16/2000\n",
      "140/140 [==============================] - 0s 177us/sample - loss: 1.6080 - acc: 0.6643 - val_loss: 2.0301 - val_acc: 0.5080\n",
      "Epoch 17/2000\n",
      "140/140 [==============================] - 0s 124us/sample - loss: 1.4986 - acc: 0.6857 - val_loss: 2.0034 - val_acc: 0.5080\n",
      "Epoch 18/2000\n",
      "140/140 [==============================] - 0s 183us/sample - loss: 1.4699 - acc: 0.7071 - val_loss: 1.9892 - val_acc: 0.5220\n",
      "Epoch 19/2000\n",
      "140/140 [==============================] - 0s 179us/sample - loss: 1.4412 - acc: 0.7071 - val_loss: 1.9779 - val_acc: 0.5300\n",
      "Epoch 20/2000\n",
      "140/140 [==============================] - 0s 174us/sample - loss: 1.3609 - acc: 0.7643 - val_loss: 1.9713 - val_acc: 0.5480\n",
      "Epoch 21/2000\n",
      "140/140 [==============================] - 0s 107us/sample - loss: 1.4648 - acc: 0.7143 - val_loss: 1.9744 - val_acc: 0.5440\n",
      "Epoch 22/2000\n",
      "140/140 [==============================] - 0s 111us/sample - loss: 1.2829 - acc: 0.7786 - val_loss: 1.9753 - val_acc: 0.5440\n",
      "Epoch 23/2000\n",
      "140/140 [==============================] - 0s 109us/sample - loss: 1.2968 - acc: 0.7714 - val_loss: 1.9713 - val_acc: 0.5460\n",
      "Epoch 24/2000\n",
      "140/140 [==============================] - 0s 107us/sample - loss: 1.2836 - acc: 0.7929 - val_loss: 1.9646 - val_acc: 0.5320\n",
      "Epoch 25/2000\n",
      "140/140 [==============================] - 0s 118us/sample - loss: 1.2243 - acc: 0.8000 - val_loss: 1.9424 - val_acc: 0.5340\n",
      "Epoch 26/2000\n",
      "140/140 [==============================] - 0s 178us/sample - loss: 1.2363 - acc: 0.7857 - val_loss: 1.9186 - val_acc: 0.5520\n",
      "Epoch 27/2000\n",
      "140/140 [==============================] - 0s 121us/sample - loss: 1.3070 - acc: 0.7714 - val_loss: 1.9029 - val_acc: 0.5500\n",
      "Epoch 28/2000\n",
      "140/140 [==============================] - 0s 178us/sample - loss: 1.2780 - acc: 0.7643 - val_loss: 1.8898 - val_acc: 0.5560\n",
      "Epoch 29/2000\n",
      "140/140 [==============================] - 0s 138us/sample - loss: 1.1552 - acc: 0.8500 - val_loss: 1.8808 - val_acc: 0.5520\n",
      "Epoch 30/2000\n",
      "140/140 [==============================] - 0s 121us/sample - loss: 1.1758 - acc: 0.7929 - val_loss: 1.8718 - val_acc: 0.5560\n",
      "Epoch 31/2000\n",
      "140/140 [==============================] - 0s 190us/sample - loss: 1.0936 - acc: 0.8357 - val_loss: 1.8652 - val_acc: 0.5660\n",
      "Epoch 32/2000\n",
      "140/140 [==============================] - 0s 114us/sample - loss: 1.1932 - acc: 0.7929 - val_loss: 1.8624 - val_acc: 0.5580\n",
      "Epoch 33/2000\n",
      "140/140 [==============================] - 0s 110us/sample - loss: 1.0640 - acc: 0.8929 - val_loss: 1.8623 - val_acc: 0.5580\n",
      "Epoch 34/2000\n",
      "140/140 [==============================] - 0s 118us/sample - loss: 1.1090 - acc: 0.8571 - val_loss: 1.8575 - val_acc: 0.5600\n",
      "Epoch 35/2000\n",
      "140/140 [==============================] - 0s 106us/sample - loss: 1.0641 - acc: 0.8857 - val_loss: 1.8524 - val_acc: 0.5540\n",
      "Epoch 36/2000\n",
      "140/140 [==============================] - 0s 111us/sample - loss: 1.0326 - acc: 0.8643 - val_loss: 1.8462 - val_acc: 0.5600\n",
      "Epoch 37/2000\n",
      "140/140 [==============================] - 0s 107us/sample - loss: 1.0500 - acc: 0.8429 - val_loss: 1.8420 - val_acc: 0.5600\n",
      "Epoch 38/2000\n",
      "140/140 [==============================] - 0s 108us/sample - loss: 1.0345 - acc: 0.8357 - val_loss: 1.8366 - val_acc: 0.5600\n",
      "Epoch 39/2000\n",
      "140/140 [==============================] - 0s 106us/sample - loss: 1.0387 - acc: 0.8714 - val_loss: 1.8333 - val_acc: 0.5620\n",
      "Epoch 40/2000\n",
      "140/140 [==============================] - 0s 122us/sample - loss: 1.0431 - acc: 0.8357 - val_loss: 1.8373 - val_acc: 0.5540\n",
      "Epoch 41/2000\n",
      "140/140 [==============================] - 0s 113us/sample - loss: 0.9810 - acc: 0.8786 - val_loss: 1.8390 - val_acc: 0.5500\n",
      "Epoch 42/2000\n",
      "140/140 [==============================] - 0s 120us/sample - loss: 0.9903 - acc: 0.8714 - val_loss: 1.8301 - val_acc: 0.5620\n",
      "Epoch 43/2000\n",
      "140/140 [==============================] - 0s 124us/sample - loss: 0.9516 - acc: 0.8714 - val_loss: 1.8217 - val_acc: 0.5640\n",
      "Epoch 44/2000\n",
      "140/140 [==============================] - 0s 131us/sample - loss: 0.9689 - acc: 0.8571 - val_loss: 1.8126 - val_acc: 0.5620\n",
      "Epoch 45/2000\n",
      "140/140 [==============================] - 0s 185us/sample - loss: 0.9268 - acc: 0.8857 - val_loss: 1.8037 - val_acc: 0.5700\n",
      "Epoch 46/2000\n",
      "140/140 [==============================] - 0s 124us/sample - loss: 1.0398 - acc: 0.8714 - val_loss: 1.8050 - val_acc: 0.5580\n",
      "Epoch 47/2000\n",
      "140/140 [==============================] - 0s 118us/sample - loss: 0.9679 - acc: 0.8786 - val_loss: 1.8043 - val_acc: 0.5620\n",
      "Epoch 48/2000\n",
      "140/140 [==============================] - 0s 110us/sample - loss: 0.9067 - acc: 0.9286 - val_loss: 1.8053 - val_acc: 0.5580\n",
      "Epoch 49/2000\n",
      "140/140 [==============================] - 0s 114us/sample - loss: 0.8307 - acc: 0.9429 - val_loss: 1.8050 - val_acc: 0.5660\n",
      "Epoch 50/2000\n",
      "140/140 [==============================] - 0s 154us/sample - loss: 1.0006 - acc: 0.8643 - val_loss: 1.8036 - val_acc: 0.5760\n",
      "Epoch 51/2000\n",
      "140/140 [==============================] - 0s 110us/sample - loss: 0.9096 - acc: 0.9429 - val_loss: 1.8020 - val_acc: 0.5720\n",
      "Epoch 52/2000\n",
      "140/140 [==============================] - 0s 160us/sample - loss: 0.8513 - acc: 0.9500 - val_loss: 1.8006 - val_acc: 0.5820\n",
      "Epoch 53/2000\n",
      "140/140 [==============================] - 0s 113us/sample - loss: 0.8949 - acc: 0.9286 - val_loss: 1.7956 - val_acc: 0.5820\n",
      "Epoch 54/2000\n",
      "140/140 [==============================] - 0s 116us/sample - loss: 0.9060 - acc: 0.9357 - val_loss: 1.7939 - val_acc: 0.5820\n",
      "Epoch 55/2000\n",
      "140/140 [==============================] - 0s 175us/sample - loss: 0.9413 - acc: 0.9214 - val_loss: 1.7928 - val_acc: 0.5880\n",
      "Epoch 56/2000\n",
      "140/140 [==============================] - 0s 132us/sample - loss: 0.9558 - acc: 0.9000 - val_loss: 1.7871 - val_acc: 0.5860\n",
      "Epoch 57/2000\n",
      "140/140 [==============================] - 0s 177us/sample - loss: 0.8957 - acc: 0.9286 - val_loss: 1.7815 - val_acc: 0.5940\n",
      "Epoch 58/2000\n",
      "140/140 [==============================] - 0s 184us/sample - loss: 0.9050 - acc: 0.8857 - val_loss: 1.7798 - val_acc: 0.6020\n",
      "Epoch 59/2000\n",
      "140/140 [==============================] - 0s 112us/sample - loss: 0.9249 - acc: 0.9143 - val_loss: 1.7890 - val_acc: 0.6020\n",
      "Epoch 60/2000\n",
      "140/140 [==============================] - 0s 110us/sample - loss: 0.9274 - acc: 0.9214 - val_loss: 1.8012 - val_acc: 0.5940\n",
      "Epoch 61/2000\n",
      "140/140 [==============================] - 0s 110us/sample - loss: 0.9289 - acc: 0.9286 - val_loss: 1.8175 - val_acc: 0.6000\n",
      "Epoch 62/2000\n",
      "140/140 [==============================] - 0s 106us/sample - loss: 0.8979 - acc: 0.9357 - val_loss: 1.8203 - val_acc: 0.5980\n",
      "Epoch 63/2000\n",
      "140/140 [==============================] - 0s 157us/sample - loss: 0.9508 - acc: 0.8786 - val_loss: 1.8244 - val_acc: 0.6060\n",
      "Epoch 64/2000\n",
      "140/140 [==============================] - 0s 108us/sample - loss: 0.9539 - acc: 0.9000 - val_loss: 1.8358 - val_acc: 0.5880\n",
      "Epoch 65/2000\n",
      "140/140 [==============================] - 0s 126us/sample - loss: 0.9028 - acc: 0.9286 - val_loss: 1.8564 - val_acc: 0.5740\n",
      "Epoch 66/2000\n",
      "140/140 [==============================] - 0s 136us/sample - loss: 1.0320 - acc: 0.8571 - val_loss: 1.8592 - val_acc: 0.5760\n",
      "Epoch 67/2000\n",
      "140/140 [==============================] - 0s 128us/sample - loss: 1.0467 - acc: 0.8571 - val_loss: 1.8416 - val_acc: 0.5780\n",
      "Epoch 68/2000\n",
      "140/140 [==============================] - 0s 131us/sample - loss: 0.9302 - acc: 0.9071 - val_loss: 1.8205 - val_acc: 0.5800\n",
      "Epoch 69/2000\n",
      "140/140 [==============================] - 0s 129us/sample - loss: 0.9173 - acc: 0.9071 - val_loss: 1.8059 - val_acc: 0.5920\n",
      "Epoch 70/2000\n",
      "140/140 [==============================] - 0s 123us/sample - loss: 0.8829 - acc: 0.9000 - val_loss: 1.7988 - val_acc: 0.5900\n",
      "Epoch 71/2000\n",
      "140/140 [==============================] - 0s 138us/sample - loss: 0.9383 - acc: 0.9214 - val_loss: 1.7909 - val_acc: 0.5880\n",
      "Epoch 72/2000\n",
      "140/140 [==============================] - 0s 118us/sample - loss: 0.9201 - acc: 0.8929 - val_loss: 1.7857 - val_acc: 0.5940\n",
      "Epoch 73/2000\n",
      "140/140 [==============================] - 0s 119us/sample - loss: 0.9566 - acc: 0.9214 - val_loss: 1.7804 - val_acc: 0.6000\n",
      "Epoch 74/2000\n",
      "140/140 [==============================] - 0s 119us/sample - loss: 0.8956 - acc: 0.9214 - val_loss: 1.7872 - val_acc: 0.5940\n",
      "Epoch 75/2000\n",
      "140/140 [==============================] - 0s 115us/sample - loss: 0.8563 - acc: 0.9429 - val_loss: 1.8202 - val_acc: 0.5920\n",
      "Epoch 76/2000\n",
      "140/140 [==============================] - 0s 111us/sample - loss: 0.9247 - acc: 0.9214 - val_loss: 1.8613 - val_acc: 0.5740\n",
      "Epoch 77/2000\n",
      "140/140 [==============================] - 0s 107us/sample - loss: 0.9233 - acc: 0.9071 - val_loss: 1.8803 - val_acc: 0.5660\n",
      "Epoch 78/2000\n",
      "140/140 [==============================] - 0s 105us/sample - loss: 0.9460 - acc: 0.8929 - val_loss: 1.8752 - val_acc: 0.5720\n",
      "Epoch 79/2000\n",
      "140/140 [==============================] - 0s 112us/sample - loss: 0.9111 - acc: 0.9214 - val_loss: 1.8588 - val_acc: 0.5900\n",
      "Epoch 80/2000\n",
      "140/140 [==============================] - 0s 105us/sample - loss: 0.9074 - acc: 0.9286 - val_loss: 1.8453 - val_acc: 0.5860\n",
      "Epoch 81/2000\n",
      "140/140 [==============================] - 0s 113us/sample - loss: 0.8584 - acc: 0.9357 - val_loss: 1.8385 - val_acc: 0.5820\n",
      "Epoch 82/2000\n",
      "140/140 [==============================] - 0s 104us/sample - loss: 0.9296 - acc: 0.9071 - val_loss: 1.8293 - val_acc: 0.5920\n",
      "Epoch 83/2000\n",
      "140/140 [==============================] - 0s 113us/sample - loss: 0.9393 - acc: 0.9143 - val_loss: 1.8180 - val_acc: 0.5940\n",
      "Epoch 84/2000\n",
      "140/140 [==============================] - 0s 114us/sample - loss: 0.8510 - acc: 0.9500 - val_loss: 1.8063 - val_acc: 0.6040\n",
      "Epoch 85/2000\n",
      "140/140 [==============================] - 0s 160us/sample - loss: 0.8765 - acc: 0.9357 - val_loss: 1.7964 - val_acc: 0.6100\n",
      "Epoch 86/2000\n",
      "140/140 [==============================] - 0s 114us/sample - loss: 0.9267 - acc: 0.9214 - val_loss: 1.7934 - val_acc: 0.6020\n",
      "Epoch 87/2000\n",
      "140/140 [==============================] - 0s 113us/sample - loss: 0.9309 - acc: 0.8786 - val_loss: 1.8020 - val_acc: 0.6080\n",
      "Epoch 88/2000\n",
      "140/140 [==============================] - 0s 111us/sample - loss: 0.8738 - acc: 0.9286 - val_loss: 1.8141 - val_acc: 0.6000\n",
      "Epoch 89/2000\n",
      "140/140 [==============================] - 0s 110us/sample - loss: 0.9760 - acc: 0.9000 - val_loss: 1.8211 - val_acc: 0.5960\n",
      "Epoch 90/2000\n",
      "140/140 [==============================] - 0s 135us/sample - loss: 0.9679 - acc: 0.9071 - val_loss: 1.8240 - val_acc: 0.5840\n",
      "Epoch 91/2000\n",
      "140/140 [==============================] - 0s 115us/sample - loss: 0.8509 - acc: 0.9357 - val_loss: 1.8347 - val_acc: 0.5780\n",
      "Epoch 92/2000\n",
      "140/140 [==============================] - 0s 110us/sample - loss: 0.8514 - acc: 0.9500 - val_loss: 1.8366 - val_acc: 0.5760\n",
      "Epoch 93/2000\n",
      "140/140 [==============================] - 0s 123us/sample - loss: 0.7936 - acc: 0.9571 - val_loss: 1.8320 - val_acc: 0.5640\n",
      "Epoch 94/2000\n",
      "140/140 [==============================] - 0s 115us/sample - loss: 0.8557 - acc: 0.9429 - val_loss: 1.8237 - val_acc: 0.5700\n",
      "Epoch 95/2000\n",
      "140/140 [==============================] - 0s 126us/sample - loss: 0.8866 - acc: 0.9071 - val_loss: 1.8205 - val_acc: 0.5700\n",
      "Epoch 96/2000\n",
      "140/140 [==============================] - 0s 111us/sample - loss: 0.9435 - acc: 0.8571 - val_loss: 1.8274 - val_acc: 0.5700\n",
      "Epoch 97/2000\n",
      "140/140 [==============================] - 0s 104us/sample - loss: 0.8989 - acc: 0.9071 - val_loss: 1.8282 - val_acc: 0.5700\n",
      "Epoch 98/2000\n",
      "140/140 [==============================] - 0s 113us/sample - loss: 0.8614 - acc: 0.9429 - val_loss: 1.8236 - val_acc: 0.5740\n",
      "Epoch 99/2000\n",
      "140/140 [==============================] - 0s 109us/sample - loss: 0.9273 - acc: 0.9214 - val_loss: 1.8152 - val_acc: 0.5700\n",
      "Epoch 100/2000\n",
      "140/140 [==============================] - 0s 104us/sample - loss: 0.8401 - acc: 0.9357 - val_loss: 1.8124 - val_acc: 0.5800\n",
      "Epoch 101/2000\n",
      "140/140 [==============================] - 0s 113us/sample - loss: 0.8807 - acc: 0.9071 - val_loss: 1.8063 - val_acc: 0.5780\n",
      "Epoch 102/2000\n",
      "140/140 [==============================] - 0s 114us/sample - loss: 0.8591 - acc: 0.9357 - val_loss: 1.8029 - val_acc: 0.5800\n",
      "Epoch 103/2000\n",
      "140/140 [==============================] - 0s 116us/sample - loss: 0.8343 - acc: 0.9571 - val_loss: 1.8042 - val_acc: 0.5780\n",
      "Epoch 104/2000\n",
      "140/140 [==============================] - 0s 105us/sample - loss: 0.7967 - acc: 0.9571 - val_loss: 1.8161 - val_acc: 0.5860\n",
      "Epoch 105/2000\n",
      "140/140 [==============================] - 0s 107us/sample - loss: 0.9171 - acc: 0.9071 - val_loss: 1.8281 - val_acc: 0.5800\n",
      "Epoch 106/2000\n",
      "140/140 [==============================] - 0s 132us/sample - loss: 0.9090 - acc: 0.9214 - val_loss: 1.8275 - val_acc: 0.5780\n",
      "Epoch 107/2000\n",
      "140/140 [==============================] - 0s 116us/sample - loss: 0.8523 - acc: 0.9214 - val_loss: 1.8269 - val_acc: 0.5820\n",
      "Epoch 108/2000\n",
      "140/140 [==============================] - 0s 114us/sample - loss: 0.9030 - acc: 0.9143 - val_loss: 1.8302 - val_acc: 0.5780\n",
      "Epoch 109/2000\n",
      "140/140 [==============================] - 0s 119us/sample - loss: 0.8826 - acc: 0.9286 - val_loss: 1.8321 - val_acc: 0.5700\n",
      "Epoch 110/2000\n",
      "140/140 [==============================] - 0s 114us/sample - loss: 0.8861 - acc: 0.9429 - val_loss: 1.8323 - val_acc: 0.5700\n",
      "Epoch 111/2000\n",
      "140/140 [==============================] - 0s 106us/sample - loss: 0.8648 - acc: 0.9286 - val_loss: 1.8400 - val_acc: 0.5680\n",
      "Epoch 112/2000\n",
      "140/140 [==============================] - 0s 115us/sample - loss: 0.9261 - acc: 0.9143 - val_loss: 1.8360 - val_acc: 0.5640\n",
      "Epoch 113/2000\n",
      "140/140 [==============================] - 0s 124us/sample - loss: 0.9069 - acc: 0.9286 - val_loss: 1.8253 - val_acc: 0.5680\n",
      "Epoch 114/2000\n",
      "140/140 [==============================] - 0s 121us/sample - loss: 0.9172 - acc: 0.9071 - val_loss: 1.8185 - val_acc: 0.5740\n",
      "Epoch 115/2000\n",
      "140/140 [==============================] - 0s 122us/sample - loss: 0.8269 - acc: 0.9500 - val_loss: 1.8151 - val_acc: 0.5820\n",
      "Epoch 116/2000\n",
      "140/140 [==============================] - 0s 124us/sample - loss: 0.8422 - acc: 0.9214 - val_loss: 1.8132 - val_acc: 0.5760\n",
      "Epoch 117/2000\n",
      "140/140 [==============================] - 0s 121us/sample - loss: 0.8808 - acc: 0.9286 - val_loss: 1.8147 - val_acc: 0.5780\n",
      "Epoch 118/2000\n",
      "140/140 [==============================] - 0s 132us/sample - loss: 0.8180 - acc: 0.9357 - val_loss: 1.8132 - val_acc: 0.5840\n",
      "Epoch 119/2000\n",
      "140/140 [==============================] - 0s 125us/sample - loss: 0.9466 - acc: 0.9071 - val_loss: 1.7906 - val_acc: 0.5840\n",
      "Epoch 120/2000\n",
      "140/140 [==============================] - 0s 123us/sample - loss: 0.8370 - acc: 0.9357 - val_loss: 1.7783 - val_acc: 0.5980\n",
      "Epoch 121/2000\n",
      "140/140 [==============================] - 0s 130us/sample - loss: 0.8120 - acc: 0.9500 - val_loss: 1.7801 - val_acc: 0.5980\n",
      "Epoch 122/2000\n",
      "140/140 [==============================] - 0s 126us/sample - loss: 0.9006 - acc: 0.8857 - val_loss: 1.7915 - val_acc: 0.5980\n",
      "Epoch 123/2000\n",
      "140/140 [==============================] - 0s 123us/sample - loss: 0.8150 - acc: 0.9500 - val_loss: 1.7997 - val_acc: 0.5860\n",
      "Epoch 124/2000\n",
      "140/140 [==============================] - 0s 121us/sample - loss: 0.8613 - acc: 0.9571 - val_loss: 1.7933 - val_acc: 0.5920\n",
      "Epoch 125/2000\n",
      "140/140 [==============================] - 0s 113us/sample - loss: 0.8800 - acc: 0.9214 - val_loss: 1.7811 - val_acc: 0.5880\n",
      "Epoch 126/2000\n",
      "140/140 [==============================] - 0s 117us/sample - loss: 0.8787 - acc: 0.9000 - val_loss: 1.7661 - val_acc: 0.5920\n",
      "Epoch 127/2000\n",
      "140/140 [==============================] - 0s 117us/sample - loss: 0.9694 - acc: 0.8929 - val_loss: 1.7629 - val_acc: 0.5880\n",
      "Epoch 128/2000\n",
      "140/140 [==============================] - 0s 111us/sample - loss: 0.8579 - acc: 0.9286 - val_loss: 1.7752 - val_acc: 0.5800\n",
      "Epoch 129/2000\n",
      "140/140 [==============================] - 0s 108us/sample - loss: 0.7828 - acc: 0.9500 - val_loss: 1.8013 - val_acc: 0.5840\n",
      "Epoch 130/2000\n",
      "140/140 [==============================] - 0s 117us/sample - loss: 0.8740 - acc: 0.9214 - val_loss: 1.8316 - val_acc: 0.5680\n",
      "Epoch 131/2000\n",
      "140/140 [==============================] - 0s 128us/sample - loss: 0.8390 - acc: 0.9429 - val_loss: 1.8555 - val_acc: 0.5580\n",
      "Epoch 132/2000\n",
      "140/140 [==============================] - 0s 120us/sample - loss: 0.8281 - acc: 0.9143 - val_loss: 1.8504 - val_acc: 0.5540\n",
      "Epoch 133/2000\n",
      "140/140 [==============================] - 0s 133us/sample - loss: 0.8258 - acc: 0.9500 - val_loss: 1.8462 - val_acc: 0.5560\n",
      "Epoch 134/2000\n",
      "140/140 [==============================] - 0s 139us/sample - loss: 0.8456 - acc: 0.9071 - val_loss: 1.8323 - val_acc: 0.5560\n",
      "Epoch 135/2000\n",
      "140/140 [==============================] - 0s 122us/sample - loss: 0.9093 - acc: 0.9214 - val_loss: 1.8235 - val_acc: 0.5540\n"
     ]
    }
   ],
   "source": [
    "es_callback = EarlyStopping(\n",
    "    monitor=\"val_acc\", patience=50\n",
    ")  # patience is the number of epochs to wait before early stopping in case of no further improvement\n",
    "\n",
    "mc_callback = ModelCheckpoint(\n",
    "    \"logs/best_fc_model.h5\",\n",
    "    monitor=\"val_acc\",\n",
    "    save_best_only=True,\n",
    "    save_weights_only=True,\n",
    ")\n",
    "\n",
    "history = fully_connected_model.fit(\n",
    "    X_train,\n",
    "    train_targets,\n",
    "    validation_data=(X_val, val_targets),\n",
    "    epochs=2000,\n",
    "    batch_size=200,\n",
    "    shuffle=True,  # we can shuffle the data here as\n",
    "    callbacks=[es_callback, mc_callback],\n",
    ")  # we're only working with node features"
   ]
  },
  {
   "cell_type": "markdown",
   "metadata": {},
   "source": [
    "By itself the fully connected model only gets ~60% accuracy on the test set."
   ]
  },
  {
   "cell_type": "code",
   "execution_count": 30,
   "metadata": {},
   "outputs": [
    {
     "name": "stdout",
     "output_type": "stream",
     "text": [
      "2068/1 - 0s - loss: 1.8614 - acc: 0.5779\n",
      "\n",
      "Test Set Metrics:\n",
      "\tloss: 1.8676\n",
      "\tacc: 0.5779\n"
     ]
    }
   ],
   "source": [
    "X_test = test_data[feature_names].values.astype(np.float32)\n",
    "\n",
    "fully_connected_model.load_weights(\"logs/best_fc_model.h5\")\n",
    "test_metrics = fully_connected_model.evaluate(X_test, test_targets, verbose=2)\n",
    "print(\"\\nTest Set Metrics:\")\n",
    "for name, val in zip(fully_connected_model.metrics_names, test_metrics):\n",
    "    print(\"\\t{}: {:0.4f}\".format(name, val))"
   ]
  },
  {
   "cell_type": "markdown",
   "metadata": {},
   "source": [
    "Now we propogate the fully connected network - no extra training required and we can re-use the APPNP object we've already created. First we create an intermediate fully connected model without the softmax layer, this is to avoid propagating the softmax layer which may cause issues with further training. We then propagate this intermediate network."
   ]
  },
  {
   "cell_type": "code",
   "execution_count": 31,
   "metadata": {},
   "outputs": [],
   "source": [
    "intermediate_model = Model(\n",
    "    inputs=fully_connected_model.inputs, outputs=fully_connected_model.layers[-2].output\n",
    ")\n",
    "\n",
    "x_inp, x_out = appnp.propagate_model(intermediate_model)\n",
    "predictions = keras.layers.Softmax()(x_out)\n",
    "\n",
    "propagated_model = keras.models.Model(inputs=x_inp, outputs=predictions)\n",
    "propagated_model.compile(\n",
    "    loss=\"categorical_crossentropy\",\n",
    "    metrics=[\"acc\"],\n",
    "    optimizer=keras.optimizers.Adam(lr=0.01),\n",
    ")"
   ]
  },
  {
   "cell_type": "markdown",
   "metadata": {},
   "source": [
    "Our accuracy is better than the fully connected network by itself but less than end-to-end trained PPNP and APPNP. \n",
    "\n",
    "Note that this is partially because 140 data points isn't sufficient for the fully connected model to achieve optimal performance. As the number of training nodes increases the perfomance gap shrinks. "
   ]
  },
  {
   "cell_type": "code",
   "execution_count": 32,
   "metadata": {},
   "outputs": [
    {
     "name": "stdout",
     "output_type": "stream",
     "text": [
      "\n",
      "Test Set Metrics:\n",
      "\tloss: 1.6259\n",
      "\tacc: 0.7621\n"
     ]
    }
   ],
   "source": [
    "test_metrics = propagated_model.evaluate_generator(test_gen)\n",
    "print(\"\\nTest Set Metrics:\")\n",
    "for name, val in zip(propagated_model.metrics_names, test_metrics):\n",
    "    print(\"\\t{}: {:0.4f}\".format(name, val))"
   ]
  },
  {
   "cell_type": "markdown",
   "metadata": {},
   "source": [
    "### Making predictions with the model"
   ]
  },
  {
   "cell_type": "markdown",
   "metadata": {},
   "source": [
    "Now let's get the predictions for all nodes."
   ]
  },
  {
   "cell_type": "code",
   "execution_count": 33,
   "metadata": {},
   "outputs": [],
   "source": [
    "all_nodes = node_data.index\n",
    "all_gen = generator.flow(all_nodes)\n",
    "all_predictions = propagated_model.predict_generator(all_gen)"
   ]
  },
  {
   "cell_type": "markdown",
   "metadata": {},
   "source": [
    "These predictions will be the output of the softmax layer, so to get final categories we'll use the `inverse_transform` method of our target attribute specifcation to turn these values back to the original categories."
   ]
  },
  {
   "cell_type": "markdown",
   "metadata": {},
   "source": [
    "Note that for full-batch methods the batch size is 1 and the predictions have shape $(1, N_{nodes}, N_{classes})$ so we remove the batch dimension to obtain predictions of shape $(N_{nodes}, N_{classes})$ using the NumPy `squeeze` method."
   ]
  },
  {
   "cell_type": "code",
   "execution_count": 34,
   "metadata": {},
   "outputs": [],
   "source": [
    "node_predictions = target_encoding.inverse_transform(all_predictions.squeeze())"
   ]
  },
  {
   "cell_type": "markdown",
   "metadata": {},
   "source": [
    "Let's have a look at a few predictions after training the model:"
   ]
  },
  {
   "cell_type": "code",
   "execution_count": 35,
   "metadata": {},
   "outputs": [
    {
     "data": {
      "text/html": [
       "<div>\n",
       "<style scoped>\n",
       "    .dataframe tbody tr th:only-of-type {\n",
       "        vertical-align: middle;\n",
       "    }\n",
       "\n",
       "    .dataframe tbody tr th {\n",
       "        vertical-align: top;\n",
       "    }\n",
       "\n",
       "    .dataframe thead th {\n",
       "        text-align: right;\n",
       "    }\n",
       "</style>\n",
       "<table border=\"1\" class=\"dataframe\">\n",
       "  <thead>\n",
       "    <tr style=\"text-align: right;\">\n",
       "      <th></th>\n",
       "      <th>Predicted</th>\n",
       "      <th>True</th>\n",
       "    </tr>\n",
       "  </thead>\n",
       "  <tbody>\n",
       "    <tr>\n",
       "      <th>31336</th>\n",
       "      <td>subject=Probabilistic_Methods</td>\n",
       "      <td>Neural_Networks</td>\n",
       "    </tr>\n",
       "    <tr>\n",
       "      <th>1061127</th>\n",
       "      <td>subject=Theory</td>\n",
       "      <td>Rule_Learning</td>\n",
       "    </tr>\n",
       "    <tr>\n",
       "      <th>1106406</th>\n",
       "      <td>subject=Reinforcement_Learning</td>\n",
       "      <td>Reinforcement_Learning</td>\n",
       "    </tr>\n",
       "    <tr>\n",
       "      <th>13195</th>\n",
       "      <td>subject=Probabilistic_Methods</td>\n",
       "      <td>Reinforcement_Learning</td>\n",
       "    </tr>\n",
       "    <tr>\n",
       "      <th>37879</th>\n",
       "      <td>subject=Probabilistic_Methods</td>\n",
       "      <td>Probabilistic_Methods</td>\n",
       "    </tr>\n",
       "    <tr>\n",
       "      <th>1126012</th>\n",
       "      <td>subject=Probabilistic_Methods</td>\n",
       "      <td>Probabilistic_Methods</td>\n",
       "    </tr>\n",
       "    <tr>\n",
       "      <th>1107140</th>\n",
       "      <td>subject=Probabilistic_Methods</td>\n",
       "      <td>Theory</td>\n",
       "    </tr>\n",
       "    <tr>\n",
       "      <th>1102850</th>\n",
       "      <td>subject=Neural_Networks</td>\n",
       "      <td>Neural_Networks</td>\n",
       "    </tr>\n",
       "    <tr>\n",
       "      <th>31349</th>\n",
       "      <td>subject=Probabilistic_Methods</td>\n",
       "      <td>Neural_Networks</td>\n",
       "    </tr>\n",
       "    <tr>\n",
       "      <th>1106418</th>\n",
       "      <td>subject=Theory</td>\n",
       "      <td>Theory</td>\n",
       "    </tr>\n",
       "    <tr>\n",
       "      <th>1123188</th>\n",
       "      <td>subject=Neural_Networks</td>\n",
       "      <td>Neural_Networks</td>\n",
       "    </tr>\n",
       "    <tr>\n",
       "      <th>1128990</th>\n",
       "      <td>subject=Genetic_Algorithms</td>\n",
       "      <td>Genetic_Algorithms</td>\n",
       "    </tr>\n",
       "    <tr>\n",
       "      <th>109323</th>\n",
       "      <td>subject=Neural_Networks</td>\n",
       "      <td>Probabilistic_Methods</td>\n",
       "    </tr>\n",
       "    <tr>\n",
       "      <th>217139</th>\n",
       "      <td>subject=Rule_Learning</td>\n",
       "      <td>Case_Based</td>\n",
       "    </tr>\n",
       "    <tr>\n",
       "      <th>31353</th>\n",
       "      <td>subject=Neural_Networks</td>\n",
       "      <td>Neural_Networks</td>\n",
       "    </tr>\n",
       "    <tr>\n",
       "      <th>32083</th>\n",
       "      <td>subject=Neural_Networks</td>\n",
       "      <td>Neural_Networks</td>\n",
       "    </tr>\n",
       "    <tr>\n",
       "      <th>1126029</th>\n",
       "      <td>subject=Reinforcement_Learning</td>\n",
       "      <td>Reinforcement_Learning</td>\n",
       "    </tr>\n",
       "    <tr>\n",
       "      <th>1118017</th>\n",
       "      <td>subject=Neural_Networks</td>\n",
       "      <td>Neural_Networks</td>\n",
       "    </tr>\n",
       "    <tr>\n",
       "      <th>49482</th>\n",
       "      <td>subject=Neural_Networks</td>\n",
       "      <td>Neural_Networks</td>\n",
       "    </tr>\n",
       "    <tr>\n",
       "      <th>753265</th>\n",
       "      <td>subject=Theory</td>\n",
       "      <td>Neural_Networks</td>\n",
       "    </tr>\n",
       "  </tbody>\n",
       "</table>\n",
       "</div>"
      ],
      "text/plain": [
       "                              Predicted                    True\n",
       "31336     subject=Probabilistic_Methods         Neural_Networks\n",
       "1061127                  subject=Theory           Rule_Learning\n",
       "1106406  subject=Reinforcement_Learning  Reinforcement_Learning\n",
       "13195     subject=Probabilistic_Methods  Reinforcement_Learning\n",
       "37879     subject=Probabilistic_Methods   Probabilistic_Methods\n",
       "1126012   subject=Probabilistic_Methods   Probabilistic_Methods\n",
       "1107140   subject=Probabilistic_Methods                  Theory\n",
       "1102850         subject=Neural_Networks         Neural_Networks\n",
       "31349     subject=Probabilistic_Methods         Neural_Networks\n",
       "1106418                  subject=Theory                  Theory\n",
       "1123188         subject=Neural_Networks         Neural_Networks\n",
       "1128990      subject=Genetic_Algorithms      Genetic_Algorithms\n",
       "109323          subject=Neural_Networks   Probabilistic_Methods\n",
       "217139            subject=Rule_Learning              Case_Based\n",
       "31353           subject=Neural_Networks         Neural_Networks\n",
       "32083           subject=Neural_Networks         Neural_Networks\n",
       "1126029  subject=Reinforcement_Learning  Reinforcement_Learning\n",
       "1118017         subject=Neural_Networks         Neural_Networks\n",
       "49482           subject=Neural_Networks         Neural_Networks\n",
       "753265                   subject=Theory         Neural_Networks"
      ]
     },
     "execution_count": 35,
     "metadata": {},
     "output_type": "execute_result"
    }
   ],
   "source": [
    "results = pd.DataFrame(node_predictions, index=all_nodes).idxmax(axis=1)\n",
    "df = pd.DataFrame({\"Predicted\": results, \"True\": node_data[\"subject\"]})\n",
    "df.head(20)"
   ]
  },
  {
   "cell_type": "markdown",
   "metadata": {},
   "source": [
    "Now we have an accurate model that can handle large graphs."
   ]
  }
 ],
 "metadata": {
  "kernelspec": {
   "display_name": "Python 3",
   "language": "python",
   "name": "python3"
  },
  "language_info": {
   "codemirror_mode": {
    "name": "ipython",
    "version": 3
   },
   "file_extension": ".py",
   "mimetype": "text/x-python",
   "name": "python",
   "nbconvert_exporter": "python",
   "pygments_lexer": "ipython3",
   "version": "3.6.9"
  }
 },
 "nbformat": 4,
 "nbformat_minor": 4
}
