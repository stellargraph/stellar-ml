{
 "cells": [
  {
   "cell_type": "markdown",
   "metadata": {},
   "source": [
    "# Stellargraph example: Personalised Propagation of Neural Predictions (PPNP) and Approximate PPNP (APPNP) on the CORA citation dataset"
   ]
  },
  {
   "cell_type": "markdown",
   "metadata": {},
   "source": [
    "Import NetworkX and stellargraph:"
   ]
  },
  {
   "cell_type": "code",
   "execution_count": 1,
   "metadata": {},
   "outputs": [],
   "source": [
    "import networkx as nx\n",
    "import pandas as pd\n",
    "import numpy as np\n",
    "import os\n",
    "from tensorflow import keras\n",
    "from tensorflow.keras import backend as K\n",
    "from tensorflow.keras.callbacks import EarlyStopping, ModelCheckpoint\n",
    "\n",
    "import stellargraph as sg\n",
    "from stellargraph.mapper import FullBatchNodeGenerator\n",
    "from stellargraph.layer.ppnp import PPNP\n",
    "from stellargraph.layer.appnp import APPNP\n",
    "\n",
    "from tensorflow.keras import layers, optimizers, losses, metrics, Model\n",
    "from sklearn import preprocessing, feature_extraction, model_selection\n",
    "from stellargraph import datasets\n",
    "from IPython.display import display, HTML"
   ]
  },
  {
   "cell_type": "markdown",
   "metadata": {},
   "source": [
    "### Loading the CORA network"
   ]
  },
  {
   "cell_type": "code",
   "execution_count": 2,
   "metadata": {},
   "outputs": [
    {
     "data": {
      "text/html": [
       "The Cora dataset consists of 2708 scientific publications classified into one of seven classes. The citation network consists of 5429 links. Each publication in the dataset is described by a 0/1-valued word vector indicating the absence/presence of the corresponding word from the dictionary. The dictionary consists of 1433 unique words."
      ],
      "text/plain": [
       "<IPython.core.display.HTML object>"
      ]
     },
     "metadata": {},
     "output_type": "display_data"
    }
   ],
   "source": [
    "dataset = datasets.Cora()\n",
    "display(HTML(dataset.description))\n",
    "dataset.download()"
   ]
  },
  {
   "cell_type": "markdown",
   "metadata": {},
   "source": [
    "Load the graph from edgelist (in the order `cited-paper` <- `citing-paper`)"
   ]
  },
  {
   "cell_type": "code",
   "execution_count": 3,
   "metadata": {},
   "outputs": [],
   "source": [
    "edgelist = pd.read_csv(\n",
    "    os.path.join(dataset.data_directory, \"cora.cites\"),\n",
    "    sep=\"\\t\",\n",
    "    header=None,\n",
    "    names=[\"target\", \"source\"],\n",
    ")\n",
    "edgelist[\"label\"] = \"cites\""
   ]
  },
  {
   "cell_type": "code",
   "execution_count": 4,
   "metadata": {},
   "outputs": [],
   "source": [
    "Gnx = nx.from_pandas_edgelist(edgelist, edge_attr=\"label\")"
   ]
  },
  {
   "cell_type": "code",
   "execution_count": 5,
   "metadata": {},
   "outputs": [],
   "source": [
    "nx.set_node_attributes(Gnx, \"paper\", \"label\")"
   ]
  },
  {
   "cell_type": "markdown",
   "metadata": {},
   "source": [
    "Load the features and subject for the nodes"
   ]
  },
  {
   "cell_type": "code",
   "execution_count": 6,
   "metadata": {},
   "outputs": [],
   "source": [
    "feature_names = [\"w_{}\".format(ii) for ii in range(1433)]\n",
    "column_names = feature_names + [\"subject\"]\n",
    "node_data = pd.read_csv(\n",
    "    os.path.join(dataset.data_directory, \"cora.content\"),\n",
    "    sep=\"\\t\",\n",
    "    header=None,\n",
    "    names=column_names,\n",
    ")"
   ]
  },
  {
   "cell_type": "markdown",
   "metadata": {},
   "source": [
    "We aim to train a graph-ML model that will predict the \"subject\" attribute on the nodes. These subjects are one of 7 categories:"
   ]
  },
  {
   "cell_type": "code",
   "execution_count": 7,
   "metadata": {},
   "outputs": [
    {
     "data": {
      "text/plain": [
       "{'Case_Based',\n",
       " 'Genetic_Algorithms',\n",
       " 'Neural_Networks',\n",
       " 'Probabilistic_Methods',\n",
       " 'Reinforcement_Learning',\n",
       " 'Rule_Learning',\n",
       " 'Theory'}"
      ]
     },
     "execution_count": 7,
     "metadata": {},
     "output_type": "execute_result"
    }
   ],
   "source": [
    "set(node_data[\"subject\"])"
   ]
  },
  {
   "cell_type": "markdown",
   "metadata": {},
   "source": [
    "### Splitting the data"
   ]
  },
  {
   "cell_type": "markdown",
   "metadata": {},
   "source": [
    "For machine learning we want to take a subset of the nodes for training, and use the rest for validation and testing. We'll use scikit-learn again to do this.\n",
    "\n",
    "Here we're taking 140 node labels for training, 500 for validation, and the rest for testing."
   ]
  },
  {
   "cell_type": "code",
   "execution_count": 8,
   "metadata": {},
   "outputs": [],
   "source": [
    "train_data, test_data = model_selection.train_test_split(\n",
    "    node_data, train_size=140, test_size=None, stratify=node_data[\"subject\"]\n",
    ")\n",
    "val_data, test_data = model_selection.train_test_split(\n",
    "    test_data, train_size=500, test_size=None, stratify=test_data[\"subject\"]\n",
    ")"
   ]
  },
  {
   "cell_type": "markdown",
   "metadata": {},
   "source": [
    "Note using stratified sampling gives the following counts:"
   ]
  },
  {
   "cell_type": "code",
   "execution_count": 9,
   "metadata": {},
   "outputs": [
    {
     "data": {
      "text/plain": [
       "Counter({'Theory': 18,\n",
       "         'Case_Based': 16,\n",
       "         'Probabilistic_Methods': 22,\n",
       "         'Neural_Networks': 42,\n",
       "         'Reinforcement_Learning': 11,\n",
       "         'Genetic_Algorithms': 22,\n",
       "         'Rule_Learning': 9})"
      ]
     },
     "execution_count": 9,
     "metadata": {},
     "output_type": "execute_result"
    }
   ],
   "source": [
    "from collections import Counter\n",
    "\n",
    "Counter(train_data[\"subject\"])"
   ]
  },
  {
   "cell_type": "markdown",
   "metadata": {},
   "source": [
    "The training set has class imbalance that might need to be compensated, e.g., via using a weighted cross-entropy loss in model training, with class weights inversely proportional to class support. However, we will ignore the class imbalance in this example, for simplicity."
   ]
  },
  {
   "cell_type": "markdown",
   "metadata": {},
   "source": [
    "### Converting to numeric arrays"
   ]
  },
  {
   "cell_type": "markdown",
   "metadata": {},
   "source": [
    "For our categorical target, we will use one-hot vectors that will be fed into a soft-max Keras layer during training. To do this conversion ..."
   ]
  },
  {
   "cell_type": "code",
   "execution_count": 10,
   "metadata": {},
   "outputs": [],
   "source": [
    "target_encoding = feature_extraction.DictVectorizer(sparse=False)\n",
    "\n",
    "train_targets = target_encoding.fit_transform(train_data[[\"subject\"]].to_dict(\"records\"))\n",
    "val_targets = target_encoding.transform(val_data[[\"subject\"]].to_dict(\"records\"))\n",
    "test_targets = target_encoding.transform(test_data[[\"subject\"]].to_dict(\"records\"))"
   ]
  },
  {
   "cell_type": "markdown",
   "metadata": {},
   "source": [
    "We now do the same for the node attributes we want to use to predict the subject. These are the feature vectors that the Keras model will use as input. The CORA dataset contains attributes 'w_x' that correspond to words found in that publication. If a word occurs more than once in a publication the relevant attribute will be set to one, otherwise it will be zero."
   ]
  },
  {
   "cell_type": "code",
   "execution_count": 11,
   "metadata": {},
   "outputs": [],
   "source": [
    "node_features = node_data[feature_names]"
   ]
  },
  {
   "cell_type": "markdown",
   "metadata": {},
   "source": [
    "## Creating the PPNP model in Keras"
   ]
  },
  {
   "cell_type": "markdown",
   "metadata": {},
   "source": [
    "Now create a StellarGraph object from the NetworkX graph and the node features and targets. It is StellarGraph objects that we use in this library to perform machine learning tasks on."
   ]
  },
  {
   "cell_type": "code",
   "execution_count": 12,
   "metadata": {},
   "outputs": [],
   "source": [
    "G = sg.StellarGraph(Gnx, node_features=node_features)"
   ]
  },
  {
   "cell_type": "code",
   "execution_count": 13,
   "metadata": {},
   "outputs": [
    {
     "name": "stdout",
     "output_type": "stream",
     "text": [
      "NetworkXStellarGraph: Undirected multigraph\n",
      " Nodes: 2708, Edges: 5278\n",
      "\n",
      " Node types:\n",
      "  paper: [2708]\n",
      "    Edge types: paper-cites->paper\n",
      "\n",
      " Edge types:\n",
      "    paper-cites->paper: [5278]\n",
      "\n"
     ]
    }
   ],
   "source": [
    "print(G.info())"
   ]
  },
  {
   "cell_type": "markdown",
   "metadata": {},
   "source": [
    "To feed data from the graph to the Keras model we need a generator. Since PPNP is a full-batch model, we use the `FullBatchNodeGenerator` class to feed node features and the normalized graph Laplacian matrix to the model.\n",
    "\n",
    "Specifying the `method='ppnp'` argument to the `FullBatchNodeGenerator` will pre-process the adjacency matrix and supply the personalized page rank matrix necessary for PPNP.  The personalized page rank matrix is a dense matrix and so `sparse=False` must be passed to `FullBatchNodeGenerator`. `teleport_probability=0.1` specifies the probability of returning to the starting node in the propogation step as desribed in the paper (alpha in the paper). "
   ]
  },
  {
   "cell_type": "code",
   "execution_count": 14,
   "metadata": {},
   "outputs": [],
   "source": [
    "generator = FullBatchNodeGenerator(\n",
    "    G, method=\"ppnp\", sparse=False, teleport_probability=0.1\n",
    ")"
   ]
  },
  {
   "cell_type": "markdown",
   "metadata": {},
   "source": [
    "For training we map only the training nodes returned from our splitter and the target values."
   ]
  },
  {
   "cell_type": "code",
   "execution_count": 15,
   "metadata": {},
   "outputs": [],
   "source": [
    "train_gen = generator.flow(train_data.index, train_targets)"
   ]
  },
  {
   "cell_type": "markdown",
   "metadata": {},
   "source": [
    "Now we can specify our machine learning model, we need a few more parameters for this:\n",
    "\n",
    " * the `layer_sizes` is a list of hidden feature sizes of each full fully connected layer in the model. In this example we use three fully connected layers with 64,64, and 7 hidden node features at each layer. \n",
    " * `activations` is a list of activations applied to each layer's output\n",
    " * `dropout=0.5` specifies a 50% dropout at each layer. \n",
    " * `kernel_regularizer=keras.regularizers.l2(0.001)` specifies a penality that prevents the model weights from become too large and helps limit overfitting\n",
    " \n",
    " #### Note that the size of the final fully connected layer must be equal to the number of classes you are trying to predict.\n"
   ]
  },
  {
   "cell_type": "markdown",
   "metadata": {},
   "source": [
    "We create a PPNP model as follows:"
   ]
  },
  {
   "cell_type": "code",
   "execution_count": 16,
   "metadata": {},
   "outputs": [],
   "source": [
    "ppnp = PPNP(\n",
    "    layer_sizes=[64, 64, train_targets.shape[-1]],\n",
    "    activations=[\"relu\", \"relu\", \"relu\"],\n",
    "    generator=generator,\n",
    "    dropout=0.5,\n",
    "    kernel_regularizer=keras.regularizers.l2(0.001),\n",
    ")\n",
    "\n",
    "x_inp, x_out = ppnp.build()\n",
    "predictions = keras.layers.Softmax()(x_out)"
   ]
  },
  {
   "cell_type": "markdown",
   "metadata": {},
   "source": [
    "### Training the model"
   ]
  },
  {
   "cell_type": "markdown",
   "metadata": {},
   "source": [
    "Now let's create the actual Keras model with the input tensors `x_inp` and output tensors being the predictions `predictions` from the final dense layer"
   ]
  },
  {
   "cell_type": "code",
   "execution_count": 17,
   "metadata": {},
   "outputs": [],
   "source": [
    "ppnp_model = Model(inputs=x_inp, outputs=predictions)\n",
    "ppnp_model.compile(\n",
    "    optimizer=optimizers.Adam(lr=0.01),\n",
    "    loss=losses.categorical_crossentropy,\n",
    "    metrics=[\"acc\"],\n",
    ")"
   ]
  },
  {
   "cell_type": "markdown",
   "metadata": {},
   "source": [
    "Train the model, keeping track of its loss and accuracy on the training set, and its generalisation performance on the validation set (we need to create another generator over the validation data for this)"
   ]
  },
  {
   "cell_type": "code",
   "execution_count": 18,
   "metadata": {},
   "outputs": [],
   "source": [
    "val_gen = generator.flow(val_data.index, val_targets)"
   ]
  },
  {
   "cell_type": "markdown",
   "metadata": {},
   "source": [
    "Create callbacks for early stopping (if validation accuracy stops improving) and best model checkpoint saving:"
   ]
  },
  {
   "cell_type": "code",
   "execution_count": 19,
   "metadata": {},
   "outputs": [],
   "source": [
    "if not os.path.isdir(\"logs\"):\n",
    "    os.makedirs(\"logs\")"
   ]
  },
  {
   "cell_type": "code",
   "execution_count": 20,
   "metadata": {},
   "outputs": [],
   "source": [
    "es_callback = EarlyStopping(\n",
    "    monitor=\"val_acc\", patience=50\n",
    ")  # patience is the number of epochs to wait before early stopping in case of no further improvement\n",
    "\n",
    "mc_callback = ModelCheckpoint(\n",
    "    \"logs/best_ppnp_model.h5\",\n",
    "    monitor=\"val_acc\",\n",
    "    save_best_only=True,\n",
    "    save_weights_only=True,\n",
    ")"
   ]
  },
  {
   "cell_type": "markdown",
   "metadata": {},
   "source": [
    "Train the model"
   ]
  },
  {
   "cell_type": "code",
   "execution_count": 21,
   "metadata": {},
   "outputs": [
    {
     "name": "stdout",
     "output_type": "stream",
     "text": [
      "Epoch 1/80\n",
      "1/1 - 0s - loss: 2.1346 - acc: 0.1571 - val_loss: 2.0704 - val_acc: 0.3160\n",
      "Epoch 2/80\n",
      "1/1 - 0s - loss: 2.0632 - acc: 0.3071 - val_loss: 2.0040 - val_acc: 0.3020\n",
      "Epoch 3/80\n",
      "1/1 - 0s - loss: 1.9805 - acc: 0.3357 - val_loss: 1.9447 - val_acc: 0.3020\n",
      "Epoch 4/80\n",
      "1/1 - 0s - loss: 1.9235 - acc: 0.3143 - val_loss: 1.8934 - val_acc: 0.3020\n",
      "Epoch 5/80\n",
      "1/1 - 0s - loss: 1.9011 - acc: 0.3071 - val_loss: 1.8374 - val_acc: 0.3120\n",
      "Epoch 6/80\n",
      "1/1 - 0s - loss: 1.9073 - acc: 0.3143 - val_loss: 1.7759 - val_acc: 0.4120\n",
      "Epoch 7/80\n",
      "1/1 - 0s - loss: 1.7542 - acc: 0.3786 - val_loss: 1.7268 - val_acc: 0.5380\n",
      "Epoch 8/80\n",
      "1/1 - 0s - loss: 1.7429 - acc: 0.3929 - val_loss: 1.6706 - val_acc: 0.5720\n",
      "Epoch 9/80\n",
      "1/1 - 0s - loss: 1.6998 - acc: 0.4357 - val_loss: 1.5957 - val_acc: 0.5740\n",
      "Epoch 10/80\n",
      "1/1 - 0s - loss: 1.6272 - acc: 0.4929 - val_loss: 1.5109 - val_acc: 0.5780\n",
      "Epoch 11/80\n",
      "1/1 - 0s - loss: 1.6323 - acc: 0.4286 - val_loss: 1.4356 - val_acc: 0.6120\n",
      "Epoch 12/80\n",
      "1/1 - 0s - loss: 1.4379 - acc: 0.5571 - val_loss: 1.3659 - val_acc: 0.6340\n",
      "Epoch 13/80\n",
      "1/1 - 0s - loss: 1.3829 - acc: 0.5500 - val_loss: 1.3055 - val_acc: 0.6760\n",
      "Epoch 14/80\n",
      "1/1 - 0s - loss: 1.3810 - acc: 0.5714 - val_loss: 1.2619 - val_acc: 0.7160\n",
      "Epoch 15/80\n",
      "1/1 - 0s - loss: 1.2570 - acc: 0.6571 - val_loss: 1.2390 - val_acc: 0.7240\n",
      "Epoch 16/80\n",
      "1/1 - 0s - loss: 1.2559 - acc: 0.6857 - val_loss: 1.2289 - val_acc: 0.7100\n",
      "Epoch 17/80\n",
      "1/1 - 0s - loss: 1.3349 - acc: 0.6786 - val_loss: 1.2173 - val_acc: 0.7040\n",
      "Epoch 18/80\n",
      "1/1 - 0s - loss: 1.1525 - acc: 0.7143 - val_loss: 1.1797 - val_acc: 0.7080\n",
      "Epoch 19/80\n",
      "1/1 - 0s - loss: 1.2098 - acc: 0.6929 - val_loss: 1.1349 - val_acc: 0.7260\n",
      "Epoch 20/80\n",
      "1/1 - 0s - loss: 1.1279 - acc: 0.6929 - val_loss: 1.1064 - val_acc: 0.7400\n",
      "Epoch 21/80\n",
      "1/1 - 0s - loss: 1.2893 - acc: 0.6714 - val_loss: 1.0945 - val_acc: 0.7400\n",
      "Epoch 22/80\n",
      "1/1 - 0s - loss: 1.0159 - acc: 0.7714 - val_loss: 1.0897 - val_acc: 0.7400\n",
      "Epoch 23/80\n",
      "1/1 - 0s - loss: 1.0486 - acc: 0.7214 - val_loss: 1.0895 - val_acc: 0.7300\n",
      "Epoch 24/80\n",
      "1/1 - 0s - loss: 1.1122 - acc: 0.7143 - val_loss: 1.0998 - val_acc: 0.7240\n",
      "Epoch 25/80\n",
      "1/1 - 0s - loss: 1.0085 - acc: 0.7500 - val_loss: 1.1221 - val_acc: 0.7140\n",
      "Epoch 26/80\n",
      "1/1 - 0s - loss: 1.0107 - acc: 0.7571 - val_loss: 1.1324 - val_acc: 0.7040\n",
      "Epoch 27/80\n",
      "1/1 - 0s - loss: 1.0002 - acc: 0.7500 - val_loss: 1.1219 - val_acc: 0.7020\n",
      "Epoch 28/80\n",
      "1/1 - 0s - loss: 0.9715 - acc: 0.8000 - val_loss: 1.0998 - val_acc: 0.7120\n",
      "Epoch 29/80\n",
      "1/1 - 0s - loss: 0.9029 - acc: 0.8071 - val_loss: 1.0751 - val_acc: 0.7260\n",
      "Epoch 30/80\n",
      "1/1 - 0s - loss: 0.9733 - acc: 0.7786 - val_loss: 1.0594 - val_acc: 0.7360\n",
      "Epoch 31/80\n",
      "1/1 - 0s - loss: 0.8914 - acc: 0.7857 - val_loss: 1.0488 - val_acc: 0.7400\n",
      "Epoch 32/80\n",
      "1/1 - 0s - loss: 0.9227 - acc: 0.7786 - val_loss: 1.0415 - val_acc: 0.7440\n",
      "Epoch 33/80\n",
      "1/1 - 0s - loss: 0.9545 - acc: 0.7643 - val_loss: 1.0420 - val_acc: 0.7400\n",
      "Epoch 34/80\n",
      "1/1 - 0s - loss: 0.9982 - acc: 0.7000 - val_loss: 1.0569 - val_acc: 0.7400\n",
      "Epoch 35/80\n",
      "1/1 - 0s - loss: 0.8389 - acc: 0.8143 - val_loss: 1.0645 - val_acc: 0.7320\n",
      "Epoch 36/80\n",
      "1/1 - 0s - loss: 0.8611 - acc: 0.8500 - val_loss: 1.0705 - val_acc: 0.7280\n",
      "Epoch 37/80\n",
      "1/1 - 0s - loss: 0.8544 - acc: 0.8143 - val_loss: 1.0760 - val_acc: 0.7300\n",
      "Epoch 38/80\n",
      "1/1 - 0s - loss: 0.9002 - acc: 0.7643 - val_loss: 1.0882 - val_acc: 0.7280\n",
      "Epoch 39/80\n",
      "1/1 - 0s - loss: 0.7870 - acc: 0.8000 - val_loss: 1.0923 - val_acc: 0.7340\n",
      "Epoch 40/80\n",
      "1/1 - 0s - loss: 0.7762 - acc: 0.8286 - val_loss: 1.0856 - val_acc: 0.7380\n",
      "Epoch 41/80\n",
      "1/1 - 0s - loss: 0.8874 - acc: 0.7786 - val_loss: 1.0783 - val_acc: 0.7440\n",
      "Epoch 42/80\n",
      "1/1 - 0s - loss: 0.7697 - acc: 0.8286 - val_loss: 1.0581 - val_acc: 0.7540\n",
      "Epoch 43/80\n",
      "1/1 - 0s - loss: 0.7499 - acc: 0.8714 - val_loss: 1.0416 - val_acc: 0.7660\n",
      "Epoch 44/80\n",
      "1/1 - 0s - loss: 0.8108 - acc: 0.8214 - val_loss: 1.0224 - val_acc: 0.7880\n",
      "Epoch 45/80\n",
      "1/1 - 0s - loss: 0.7854 - acc: 0.8357 - val_loss: 1.0043 - val_acc: 0.7960\n",
      "Epoch 46/80\n",
      "1/1 - 0s - loss: 0.8501 - acc: 0.8643 - val_loss: 1.0022 - val_acc: 0.7900\n",
      "Epoch 47/80\n",
      "1/1 - 0s - loss: 0.8226 - acc: 0.8214 - val_loss: 0.9881 - val_acc: 0.7960\n",
      "Epoch 48/80\n",
      "1/1 - 0s - loss: 0.9253 - acc: 0.7929 - val_loss: 0.9901 - val_acc: 0.7840\n",
      "Epoch 49/80\n",
      "1/1 - 0s - loss: 0.7118 - acc: 0.8500 - val_loss: 0.9960 - val_acc: 0.7840\n",
      "Epoch 50/80\n",
      "1/1 - 0s - loss: 0.8072 - acc: 0.8214 - val_loss: 0.9967 - val_acc: 0.7860\n",
      "Epoch 51/80\n",
      "1/1 - 0s - loss: 0.7622 - acc: 0.8429 - val_loss: 0.9961 - val_acc: 0.7880\n",
      "Epoch 52/80\n",
      "1/1 - 0s - loss: 0.8652 - acc: 0.8143 - val_loss: 1.0087 - val_acc: 0.7820\n",
      "Epoch 53/80\n",
      "1/1 - 0s - loss: 0.8116 - acc: 0.8000 - val_loss: 1.0200 - val_acc: 0.7600\n",
      "Epoch 54/80\n",
      "1/1 - 0s - loss: 0.7921 - acc: 0.8500 - val_loss: 1.0261 - val_acc: 0.7660\n",
      "Epoch 55/80\n",
      "1/1 - 0s - loss: 0.7714 - acc: 0.8643 - val_loss: 1.0320 - val_acc: 0.7720\n",
      "Epoch 56/80\n",
      "1/1 - 0s - loss: 0.9099 - acc: 0.8429 - val_loss: 1.0125 - val_acc: 0.7880\n",
      "Epoch 57/80\n",
      "1/1 - 0s - loss: 0.7381 - acc: 0.8714 - val_loss: 0.9929 - val_acc: 0.8080\n",
      "Epoch 58/80\n",
      "1/1 - 0s - loss: 0.6488 - acc: 0.9286 - val_loss: 0.9660 - val_acc: 0.8240\n",
      "Epoch 59/80\n",
      "1/1 - 0s - loss: 0.6264 - acc: 0.9357 - val_loss: 0.9534 - val_acc: 0.8280\n",
      "Epoch 60/80\n",
      "1/1 - 0s - loss: 0.7281 - acc: 0.8571 - val_loss: 0.9538 - val_acc: 0.8220\n",
      "Epoch 61/80\n",
      "1/1 - 0s - loss: 0.7256 - acc: 0.8429 - val_loss: 0.9561 - val_acc: 0.8160\n",
      "Epoch 62/80\n",
      "1/1 - 0s - loss: 0.7236 - acc: 0.8643 - val_loss: 0.9614 - val_acc: 0.8120\n",
      "Epoch 63/80\n",
      "1/1 - 0s - loss: 0.6953 - acc: 0.8786 - val_loss: 0.9708 - val_acc: 0.8060\n",
      "Epoch 64/80\n",
      "1/1 - 0s - loss: 0.7319 - acc: 0.8857 - val_loss: 0.9721 - val_acc: 0.8040\n",
      "Epoch 65/80\n",
      "1/1 - 0s - loss: 0.6326 - acc: 0.9071 - val_loss: 0.9853 - val_acc: 0.7980\n",
      "Epoch 66/80\n",
      "1/1 - 0s - loss: 0.7017 - acc: 0.8929 - val_loss: 0.9873 - val_acc: 0.8040\n",
      "Epoch 67/80\n",
      "1/1 - 0s - loss: 0.6538 - acc: 0.9000 - val_loss: 0.9890 - val_acc: 0.8040\n",
      "Epoch 68/80\n",
      "1/1 - 0s - loss: 0.6167 - acc: 0.9000 - val_loss: 0.9774 - val_acc: 0.8180\n",
      "Epoch 69/80\n",
      "1/1 - 0s - loss: 0.7546 - acc: 0.8571 - val_loss: 0.9734 - val_acc: 0.8160\n",
      "Epoch 70/80\n",
      "1/1 - 0s - loss: 0.6211 - acc: 0.9357 - val_loss: 0.9692 - val_acc: 0.8160\n",
      "Epoch 71/80\n",
      "1/1 - 0s - loss: 0.7038 - acc: 0.8571 - val_loss: 0.9665 - val_acc: 0.8180\n",
      "Epoch 72/80\n",
      "1/1 - 0s - loss: 0.6694 - acc: 0.8857 - val_loss: 0.9673 - val_acc: 0.8200\n",
      "Epoch 73/80\n",
      "1/1 - 0s - loss: 0.6722 - acc: 0.9000 - val_loss: 0.9601 - val_acc: 0.8320\n",
      "Epoch 74/80\n",
      "1/1 - 0s - loss: 0.6267 - acc: 0.9071 - val_loss: 0.9539 - val_acc: 0.8280\n",
      "Epoch 75/80\n",
      "1/1 - 0s - loss: 0.6256 - acc: 0.9143 - val_loss: 0.9522 - val_acc: 0.8220\n",
      "Epoch 76/80\n",
      "1/1 - 0s - loss: 0.6220 - acc: 0.9286 - val_loss: 0.9531 - val_acc: 0.8180\n",
      "Epoch 77/80\n",
      "1/1 - 0s - loss: 0.7084 - acc: 0.9429 - val_loss: 0.9643 - val_acc: 0.8100\n",
      "Epoch 78/80\n",
      "1/1 - 0s - loss: 0.7039 - acc: 0.8571 - val_loss: 0.9760 - val_acc: 0.8040\n",
      "Epoch 79/80\n",
      "1/1 - 0s - loss: 0.5649 - acc: 0.9429 - val_loss: 0.9856 - val_acc: 0.7960\n",
      "Epoch 80/80\n",
      "1/1 - 0s - loss: 0.6924 - acc: 0.9071 - val_loss: 0.9798 - val_acc: 0.8000\n"
     ]
    }
   ],
   "source": [
    "history = ppnp_model.fit_generator(\n",
    "    train_gen,\n",
    "    epochs=80,\n",
    "    validation_data=val_gen,\n",
    "    verbose=2,\n",
    "    shuffle=False,  # this should be False, since shuffling data means shuffling the whole graph\n",
    "    callbacks=[es_callback, mc_callback],\n",
    ")"
   ]
  },
  {
   "cell_type": "markdown",
   "metadata": {},
   "source": [
    "Plot the training history:"
   ]
  },
  {
   "cell_type": "code",
   "execution_count": 22,
   "metadata": {},
   "outputs": [],
   "source": [
    "import matplotlib.pyplot as plt\n",
    "%matplotlib inline\n",
    "\n",
    "def remove_prefix(text, prefix):\n",
    "    return text[text.startswith(prefix) and len(prefix):]\n",
    "\n",
    "def plot_history(history):\n",
    "    metrics = sorted(set([remove_prefix(m, \"val_\") for m in list(history.history.keys())]))\n",
    "    for m in metrics:\n",
    "        # summarize history for metric m\n",
    "        plt.plot(history.history[m])\n",
    "        plt.plot(history.history['val_' + m])\n",
    "        plt.title(m)\n",
    "        plt.ylabel(m)\n",
    "        plt.xlabel('epoch')\n",
    "        plt.legend(['train', 'validation'], loc='best')\n",
    "        plt.show()"
   ]
  },
  {
   "cell_type": "code",
   "execution_count": 23,
   "metadata": {},
   "outputs": [
    {
     "data": {
      "image/png": "[encoded data removed]",
      "text/plain": [
       "<Figure size 432x288 with 1 Axes>"
      ]
     },
     "metadata": {
      "needs_background": "light"
     },
     "output_type": "display_data"
    },
    {
     "data": {
      "image/png": "[encoded data removed]",
      "text/plain": [
       "<Figure size 432x288 with 1 Axes>"
      ]
     },
     "metadata": {
      "needs_background": "light"
     },
     "output_type": "display_data"
    }
   ],
   "source": [
    "plot_history(history)"
   ]
  },
  {
   "cell_type": "markdown",
   "metadata": {},
   "source": [
    "Reload the saved weights of the best model found during the training (according to validation accuracy)"
   ]
  },
  {
   "cell_type": "code",
   "execution_count": 24,
   "metadata": {},
   "outputs": [],
   "source": [
    "ppnp_model.load_weights(\"logs/best_ppnp_model.h5\")"
   ]
  },
  {
   "cell_type": "markdown",
   "metadata": {},
   "source": [
    "Evaluate the best model on the test set"
   ]
  },
  {
   "cell_type": "code",
   "execution_count": 25,
   "metadata": {},
   "outputs": [],
   "source": [
    "test_gen = generator.flow(test_data.index, test_targets)"
   ]
  },
  {
   "cell_type": "code",
   "execution_count": 26,
   "metadata": {},
   "outputs": [
    {
     "name": "stdout",
     "output_type": "stream",
     "text": [
      "\n",
      "Test Set Metrics:\n",
      "\tloss: 0.9248\n",
      "\tacc: 0.8356\n"
     ]
    }
   ],
   "source": [
    "test_metrics = ppnp_model.evaluate_generator(test_gen)\n",
    "print(\"\\nTest Set Metrics:\")\n",
    "for name, val in zip(ppnp_model.metrics_names, test_metrics):\n",
    "    print(\"\\t{}: {:0.4f}\".format(name, val))"
   ]
  },
  {
   "cell_type": "markdown",
   "metadata": {},
   "source": [
    "## Using the Approximate PPNP Model\n",
    "\n",
    "Lets repeat the training and testing steps with the APPNP model using the same dataset. The downside of the PPNP is that you have to invert the adjacency matrix - which is time inneficient for large graphs - and store that invert matrix - which is space innefficient. The approximate model avoids this issue by using a clever mathematical trick. \n",
    "\n",
    "The APPNP model uses the normalized graph Laplacian. To get the normalized graph Laplacian we create a new `FullBatchNodeGenerator` and set `method=\"gcn\"`. We have the option of choosing `sparse=True` or `sparse=False` but will use `sparse=True` for memory efficiency."
   ]
  },
  {
   "cell_type": "code",
   "execution_count": 27,
   "metadata": {},
   "outputs": [
    {
     "name": "stdout",
     "output_type": "stream",
     "text": [
      "Using GCN (local pooling) filters...\n",
      "Epoch 1/120\n",
      "1/1 - 0s - loss: 2.1595 - acc: 0.1357 - val_loss: 2.0784 - val_acc: 0.3020\n",
      "Epoch 2/120\n",
      "1/1 - 0s - loss: 2.1001 - acc: 0.2429 - val_loss: 2.0318 - val_acc: 0.3020\n",
      "Epoch 3/120\n",
      "1/1 - 0s - loss: 2.0691 - acc: 0.2500 - val_loss: 2.0005 - val_acc: 0.3020\n",
      "Epoch 4/120\n",
      "1/1 - 0s - loss: 1.9739 - acc: 0.3000 - val_loss: 1.9603 - val_acc: 0.3020\n",
      "Epoch 5/120\n",
      "1/1 - 0s - loss: 1.9215 - acc: 0.3071 - val_loss: 1.9105 - val_acc: 0.3020\n",
      "Epoch 6/120\n",
      "1/1 - 0s - loss: 1.9614 - acc: 0.2643 - val_loss: 1.8699 - val_acc: 0.3020\n",
      "Epoch 7/120\n",
      "1/1 - 0s - loss: 1.8598 - acc: 0.3357 - val_loss: 1.8196 - val_acc: 0.3260\n",
      "Epoch 8/120\n",
      "1/1 - 0s - loss: 1.8569 - acc: 0.3929 - val_loss: 1.7715 - val_acc: 0.4480\n",
      "Epoch 9/120\n",
      "1/1 - 0s - loss: 1.8282 - acc: 0.3429 - val_loss: 1.7245 - val_acc: 0.5280\n",
      "Epoch 10/120\n",
      "1/1 - 0s - loss: 1.7235 - acc: 0.4214 - val_loss: 1.6643 - val_acc: 0.5740\n",
      "Epoch 11/120\n",
      "1/1 - 0s - loss: 1.9225 - acc: 0.4071 - val_loss: 1.6321 - val_acc: 0.6140\n",
      "Epoch 12/120\n",
      "1/1 - 0s - loss: 1.7584 - acc: 0.4143 - val_loss: 1.5764 - val_acc: 0.6240\n",
      "Epoch 13/120\n",
      "1/1 - 0s - loss: 1.7068 - acc: 0.5214 - val_loss: 1.5167 - val_acc: 0.6360\n",
      "Epoch 14/120\n",
      "1/1 - 0s - loss: 1.5731 - acc: 0.5357 - val_loss: 1.4557 - val_acc: 0.6920\n",
      "Epoch 15/120\n",
      "1/1 - 0s - loss: 1.4960 - acc: 0.5500 - val_loss: 1.3937 - val_acc: 0.6960\n",
      "Epoch 16/120\n",
      "1/1 - 0s - loss: 1.4806 - acc: 0.5429 - val_loss: 1.3372 - val_acc: 0.6660\n",
      "Epoch 17/120\n",
      "1/1 - 0s - loss: 1.4523 - acc: 0.6071 - val_loss: 1.2886 - val_acc: 0.6660\n",
      "Epoch 18/120\n",
      "1/1 - 0s - loss: 1.4261 - acc: 0.6214 - val_loss: 1.2451 - val_acc: 0.6740\n",
      "Epoch 19/120\n",
      "1/1 - 0s - loss: 1.5576 - acc: 0.6000 - val_loss: 1.2082 - val_acc: 0.7080\n",
      "Epoch 20/120\n",
      "1/1 - 0s - loss: 1.3359 - acc: 0.6643 - val_loss: 1.1807 - val_acc: 0.7200\n",
      "Epoch 21/120\n",
      "1/1 - 0s - loss: 1.3872 - acc: 0.6286 - val_loss: 1.1706 - val_acc: 0.7380\n",
      "Epoch 22/120\n",
      "1/1 - 0s - loss: 1.3306 - acc: 0.6214 - val_loss: 1.1733 - val_acc: 0.7360\n",
      "Epoch 23/120\n",
      "1/1 - 0s - loss: 1.2333 - acc: 0.6857 - val_loss: 1.1898 - val_acc: 0.7200\n",
      "Epoch 24/120\n",
      "1/1 - 0s - loss: 1.3533 - acc: 0.6571 - val_loss: 1.2024 - val_acc: 0.7080\n",
      "Epoch 25/120\n",
      "1/1 - 0s - loss: 1.2550 - acc: 0.6643 - val_loss: 1.2085 - val_acc: 0.6980\n",
      "Epoch 26/120\n",
      "1/1 - 0s - loss: 1.1661 - acc: 0.7214 - val_loss: 1.2012 - val_acc: 0.7040\n",
      "Epoch 27/120\n",
      "1/1 - 0s - loss: 1.1447 - acc: 0.7286 - val_loss: 1.1859 - val_acc: 0.7100\n",
      "Epoch 28/120\n",
      "1/1 - 0s - loss: 1.2424 - acc: 0.7000 - val_loss: 1.1706 - val_acc: 0.7160\n",
      "Epoch 29/120\n",
      "1/1 - 0s - loss: 1.1540 - acc: 0.7214 - val_loss: 1.1574 - val_acc: 0.7200\n",
      "Epoch 30/120\n",
      "1/1 - 0s - loss: 1.1016 - acc: 0.7571 - val_loss: 1.1518 - val_acc: 0.7180\n",
      "Epoch 31/120\n",
      "1/1 - 0s - loss: 1.0691 - acc: 0.7571 - val_loss: 1.1489 - val_acc: 0.7140\n",
      "Epoch 32/120\n",
      "1/1 - 0s - loss: 1.2666 - acc: 0.7071 - val_loss: 1.1513 - val_acc: 0.7220\n",
      "Epoch 33/120\n",
      "1/1 - 0s - loss: 1.1708 - acc: 0.7357 - val_loss: 1.1536 - val_acc: 0.7320\n",
      "Epoch 34/120\n",
      "1/1 - 0s - loss: 1.0945 - acc: 0.7571 - val_loss: 1.1506 - val_acc: 0.7700\n",
      "Epoch 35/120\n",
      "1/1 - 0s - loss: 1.0722 - acc: 0.7571 - val_loss: 1.1555 - val_acc: 0.7640\n",
      "Epoch 36/120\n",
      "1/1 - 0s - loss: 1.0638 - acc: 0.7571 - val_loss: 1.1564 - val_acc: 0.7700\n",
      "Epoch 37/120\n",
      "1/1 - 0s - loss: 1.2757 - acc: 0.7857 - val_loss: 1.1509 - val_acc: 0.7720\n",
      "Epoch 38/120\n",
      "1/1 - 0s - loss: 1.1480 - acc: 0.7929 - val_loss: 1.1453 - val_acc: 0.7760\n",
      "Epoch 39/120\n",
      "1/1 - 0s - loss: 1.0517 - acc: 0.8143 - val_loss: 1.1387 - val_acc: 0.7700\n",
      "Epoch 40/120\n",
      "1/1 - 0s - loss: 1.0218 - acc: 0.7714 - val_loss: 1.1355 - val_acc: 0.7640\n",
      "Epoch 41/120\n",
      "1/1 - 0s - loss: 1.0021 - acc: 0.8000 - val_loss: 1.1383 - val_acc: 0.7560\n",
      "Epoch 42/120\n",
      "1/1 - 0s - loss: 1.0856 - acc: 0.7929 - val_loss: 1.1446 - val_acc: 0.7460\n",
      "Epoch 43/120\n",
      "1/1 - 0s - loss: 1.0420 - acc: 0.8000 - val_loss: 1.1419 - val_acc: 0.7400\n",
      "Epoch 44/120\n",
      "1/1 - 0s - loss: 1.0254 - acc: 0.7500 - val_loss: 1.1328 - val_acc: 0.7360\n",
      "Epoch 45/120\n",
      "1/1 - 0s - loss: 0.9758 - acc: 0.8214 - val_loss: 1.1230 - val_acc: 0.7420\n",
      "Epoch 46/120\n",
      "1/1 - 0s - loss: 0.9331 - acc: 0.8357 - val_loss: 1.1128 - val_acc: 0.7580\n",
      "Epoch 47/120\n",
      "1/1 - 0s - loss: 1.1889 - acc: 0.7929 - val_loss: 1.1091 - val_acc: 0.7640\n",
      "Epoch 48/120\n",
      "1/1 - 0s - loss: 1.0772 - acc: 0.8214 - val_loss: 1.1072 - val_acc: 0.7700\n",
      "Epoch 49/120\n",
      "1/1 - 0s - loss: 0.9875 - acc: 0.8214 - val_loss: 1.0996 - val_acc: 0.7860\n",
      "Epoch 50/120\n",
      "1/1 - 0s - loss: 0.8608 - acc: 0.8286 - val_loss: 1.0926 - val_acc: 0.7820\n",
      "Epoch 51/120\n",
      "1/1 - 0s - loss: 0.8624 - acc: 0.8500 - val_loss: 1.0868 - val_acc: 0.7840\n",
      "Epoch 52/120\n",
      "1/1 - 0s - loss: 0.9915 - acc: 0.8000 - val_loss: 1.0885 - val_acc: 0.7900\n",
      "Epoch 53/120\n",
      "1/1 - 0s - loss: 1.0176 - acc: 0.8643 - val_loss: 1.1024 - val_acc: 0.7840\n",
      "Epoch 54/120\n",
      "1/1 - 0s - loss: 1.1147 - acc: 0.8214 - val_loss: 1.1179 - val_acc: 0.7780\n",
      "Epoch 55/120\n",
      "1/1 - 0s - loss: 1.1655 - acc: 0.8143 - val_loss: 1.1307 - val_acc: 0.7600\n",
      "Epoch 56/120\n",
      "1/1 - 0s - loss: 0.9976 - acc: 0.8143 - val_loss: 1.1405 - val_acc: 0.7480\n",
      "Epoch 57/120\n",
      "1/1 - 0s - loss: 0.8833 - acc: 0.8500 - val_loss: 1.1532 - val_acc: 0.7360\n",
      "Epoch 58/120\n",
      "1/1 - 0s - loss: 0.8811 - acc: 0.8143 - val_loss: 1.1717 - val_acc: 0.7300\n",
      "Epoch 59/120\n",
      "1/1 - 0s - loss: 1.0116 - acc: 0.8143 - val_loss: 1.1650 - val_acc: 0.7300\n",
      "Epoch 60/120\n",
      "1/1 - 0s - loss: 0.8644 - acc: 0.8714 - val_loss: 1.1506 - val_acc: 0.7380\n",
      "Epoch 61/120\n",
      "1/1 - 0s - loss: 0.8631 - acc: 0.8643 - val_loss: 1.1469 - val_acc: 0.7340\n",
      "Epoch 62/120\n",
      "1/1 - 0s - loss: 0.9321 - acc: 0.8071 - val_loss: 1.1470 - val_acc: 0.7300\n",
      "Epoch 63/120\n",
      "1/1 - 0s - loss: 0.8553 - acc: 0.8500 - val_loss: 1.1433 - val_acc: 0.7360\n",
      "Epoch 64/120\n",
      "1/1 - 0s - loss: 1.0337 - acc: 0.8000 - val_loss: 1.1365 - val_acc: 0.7520\n",
      "Epoch 65/120\n",
      "1/1 - 0s - loss: 0.9428 - acc: 0.8429 - val_loss: 1.1306 - val_acc: 0.7580\n",
      "Epoch 66/120\n",
      "1/1 - 0s - loss: 0.8508 - acc: 0.8571 - val_loss: 1.1263 - val_acc: 0.7640\n",
      "Epoch 67/120\n",
      "1/1 - 0s - loss: 0.9712 - acc: 0.8500 - val_loss: 1.1272 - val_acc: 0.7640\n",
      "Epoch 68/120\n",
      "1/1 - 0s - loss: 0.8699 - acc: 0.8643 - val_loss: 1.1308 - val_acc: 0.7620\n",
      "Epoch 69/120\n",
      "1/1 - 0s - loss: 0.8779 - acc: 0.8714 - val_loss: 1.1442 - val_acc: 0.7560\n",
      "Epoch 70/120\n",
      "1/1 - 0s - loss: 1.0340 - acc: 0.8500 - val_loss: 1.1497 - val_acc: 0.7520\n",
      "Epoch 71/120\n",
      "1/1 - 0s - loss: 0.9042 - acc: 0.8357 - val_loss: 1.1535 - val_acc: 0.7380\n",
      "Epoch 72/120\n",
      "1/1 - 0s - loss: 0.9044 - acc: 0.8429 - val_loss: 1.1480 - val_acc: 0.7460\n",
      "Epoch 73/120\n",
      "1/1 - 0s - loss: 0.8384 - acc: 0.8500 - val_loss: 1.1474 - val_acc: 0.7400\n",
      "Epoch 74/120\n",
      "1/1 - 0s - loss: 0.9337 - acc: 0.8500 - val_loss: 1.1500 - val_acc: 0.7320\n",
      "Epoch 75/120\n",
      "1/1 - 0s - loss: 0.8164 - acc: 0.8929 - val_loss: 1.1532 - val_acc: 0.7320\n",
      "Epoch 76/120\n",
      "1/1 - 0s - loss: 1.0853 - acc: 0.8286 - val_loss: 1.1576 - val_acc: 0.7280\n",
      "Epoch 77/120\n",
      "1/1 - 0s - loss: 0.8514 - acc: 0.8714 - val_loss: 1.1606 - val_acc: 0.7180\n",
      "Epoch 78/120\n",
      "1/1 - 0s - loss: 0.8196 - acc: 0.8786 - val_loss: 1.1680 - val_acc: 0.7320\n",
      "Epoch 79/120\n",
      "1/1 - 0s - loss: 0.8982 - acc: 0.8571 - val_loss: 1.1817 - val_acc: 0.7280\n",
      "Epoch 80/120\n",
      "1/1 - 0s - loss: 0.8881 - acc: 0.8429 - val_loss: 1.1843 - val_acc: 0.7300\n",
      "Epoch 81/120\n",
      "1/1 - 0s - loss: 0.9616 - acc: 0.8357 - val_loss: 1.1642 - val_acc: 0.7380\n",
      "Epoch 82/120\n",
      "1/1 - 0s - loss: 0.8177 - acc: 0.8857 - val_loss: 1.1455 - val_acc: 0.7500\n",
      "Epoch 83/120\n",
      "1/1 - 0s - loss: 0.8592 - acc: 0.8714 - val_loss: 1.1342 - val_acc: 0.7480\n",
      "Epoch 84/120\n",
      "1/1 - 0s - loss: 0.9737 - acc: 0.8071 - val_loss: 1.1420 - val_acc: 0.7460\n",
      "Epoch 85/120\n",
      "1/1 - 0s - loss: 1.0191 - acc: 0.8071 - val_loss: 1.1493 - val_acc: 0.7420\n",
      "Epoch 86/120\n",
      "1/1 - 0s - loss: 0.9855 - acc: 0.8571 - val_loss: 1.1513 - val_acc: 0.7480\n",
      "Epoch 87/120\n",
      "1/1 - 0s - loss: 0.7953 - acc: 0.8714 - val_loss: 1.1627 - val_acc: 0.7400\n",
      "Epoch 88/120\n",
      "1/1 - 0s - loss: 1.0151 - acc: 0.8000 - val_loss: 1.1753 - val_acc: 0.7320\n",
      "Epoch 89/120\n",
      "1/1 - 0s - loss: 0.9478 - acc: 0.8786 - val_loss: 1.1862 - val_acc: 0.7300\n",
      "Epoch 90/120\n",
      "1/1 - 0s - loss: 0.9760 - acc: 0.8357 - val_loss: 1.2030 - val_acc: 0.7280\n",
      "Epoch 91/120\n",
      "1/1 - 0s - loss: 0.8642 - acc: 0.8714 - val_loss: 1.2154 - val_acc: 0.7320\n",
      "Epoch 92/120\n",
      "1/1 - 0s - loss: 0.9664 - acc: 0.8500 - val_loss: 1.2060 - val_acc: 0.7420\n",
      "Epoch 93/120\n",
      "1/1 - 0s - loss: 0.8439 - acc: 0.8714 - val_loss: 1.1855 - val_acc: 0.7480\n",
      "Epoch 94/120\n",
      "1/1 - 0s - loss: 0.8706 - acc: 0.8857 - val_loss: 1.1584 - val_acc: 0.7540\n",
      "Epoch 95/120\n",
      "1/1 - 0s - loss: 0.8488 - acc: 0.8714 - val_loss: 1.1458 - val_acc: 0.7640\n",
      "Epoch 96/120\n",
      "1/1 - 0s - loss: 0.9021 - acc: 0.8571 - val_loss: 1.1379 - val_acc: 0.7640\n",
      "Epoch 97/120\n",
      "1/1 - 0s - loss: 0.8226 - acc: 0.8857 - val_loss: 1.1345 - val_acc: 0.7620\n",
      "Epoch 98/120\n",
      "1/1 - 0s - loss: 0.8784 - acc: 0.8429 - val_loss: 1.1364 - val_acc: 0.7620\n",
      "Epoch 99/120\n",
      "1/1 - 0s - loss: 0.8704 - acc: 0.8714 - val_loss: 1.1485 - val_acc: 0.7520\n",
      "Epoch 100/120\n",
      "1/1 - 0s - loss: 1.0254 - acc: 0.7857 - val_loss: 1.1493 - val_acc: 0.7520\n",
      "Epoch 101/120\n",
      "1/1 - 0s - loss: 0.9215 - acc: 0.8857 - val_loss: 1.1534 - val_acc: 0.7520\n",
      "Epoch 102/120\n",
      "1/1 - 0s - loss: 0.7669 - acc: 0.9000 - val_loss: 1.1534 - val_acc: 0.7500\n"
     ]
    }
   ],
   "source": [
    "generator = FullBatchNodeGenerator(G, method=\"gcn\", sparse=True)\n",
    "\n",
    "train_gen = generator.flow(train_data.index, train_targets)\n",
    "val_gen = generator.flow(val_data.index, val_targets)\n",
    "test_gen = generator.flow(test_data.index, test_targets)\n",
    "\n",
    "appnp = APPNP(\n",
    "    layer_sizes=[64, 64, train_targets.shape[-1]],\n",
    "    activations=[\"relu\", \"relu\", \"relu\"],\n",
    "    bias=True,\n",
    "    generator=generator,\n",
    "    teleport_probability=0.1,\n",
    "    dropout=0.5,\n",
    "    kernel_regularizer=keras.regularizers.l2(0.001),\n",
    ")\n",
    "\n",
    "x_inp, x_out = appnp.build()\n",
    "predictions = keras.layers.Softmax()(x_out)\n",
    "\n",
    "appnp_model = keras.models.Model(inputs=x_inp, outputs=predictions)\n",
    "appnp_model.compile(\n",
    "    loss=\"categorical_crossentropy\",\n",
    "    metrics=[\"acc\"],\n",
    "    optimizer=keras.optimizers.Adam(lr=0.01),\n",
    ")\n",
    "\n",
    "es_callback = EarlyStopping(\n",
    "    monitor=\"val_acc\", patience=50\n",
    ")  # patience is the number of epochs to wait before early stopping in case of no further improvement\n",
    "\n",
    "mc_callback = ModelCheckpoint(\n",
    "    \"logs/best_appnp_model.h5\",\n",
    "    monitor=\"val_acc\",\n",
    "    save_best_only=True,\n",
    "    save_weights_only=True,\n",
    ")\n",
    "\n",
    "history = appnp_model.fit_generator(\n",
    "    train_gen,\n",
    "    epochs=120,\n",
    "    validation_data=val_gen,\n",
    "    verbose=2,\n",
    "    shuffle=False,  # this should be False, since shuffling data means shuffling the whole graph\n",
    "    callbacks=[es_callback, mc_callback],\n",
    ")"
   ]
  },
  {
   "cell_type": "code",
   "execution_count": 28,
   "metadata": {},
   "outputs": [
    {
     "data": {
      "image/png": "[encoded data removed]",
      "text/plain": [
       "<Figure size 432x288 with 1 Axes>"
      ]
     },
     "metadata": {
      "needs_background": "light"
     },
     "output_type": "display_data"
    },
    {
     "data": {
      "image/png": "[encoded data removed]",
      "text/plain": [
       "<Figure size 432x288 with 1 Axes>"
      ]
     },
     "metadata": {
      "needs_background": "light"
     },
     "output_type": "display_data"
    }
   ],
   "source": [
    "plot_history(history)"
   ]
  },
  {
   "cell_type": "code",
   "execution_count": 29,
   "metadata": {},
   "outputs": [
    {
     "name": "stdout",
     "output_type": "stream",
     "text": [
      "\n",
      "Test Set Metrics:\n",
      "\tloss: 1.0698\n",
      "\tacc: 0.7911\n"
     ]
    }
   ],
   "source": [
    "appnp_model.load_weights(\"logs/best_appnp_model.h5\")\n",
    "test_metrics = appnp_model.evaluate_generator(test_gen)\n",
    "print(\"\\nTest Set Metrics:\")\n",
    "for name, val in zip(appnp_model.metrics_names, test_metrics):\n",
    "    print(\"\\t{}: {:0.4f}\".format(name, val))"
   ]
  },
  {
   "cell_type": "markdown",
   "metadata": {},
   "source": [
    "### Scalable APPNP Training\n",
    "\n",
    "Now we're going to exploit the structure of PPNP for scalable training. PPNP consists of a fully-connected neural network followed by a graph propogation step. For each node, the fully-connected network outputs a score for each class and the propogaiton step basically takes a weighted average of scores of nearby nodes (closer nodes are weighted higher). \n",
    "\n",
    "Above, we trained the whole network end-to-end which obtains the most accurate results but  requires us to load the entire graph onto our GPU memory. This is because we need the entire graph for the propogation step. Unfortunately, this limits the graph size by our GPU memory. To get around this, we can train the fully-connected network separately and once we have a trained fully connected network we can add the graph propagation step.  The advantage of this approach is that we can train on batches of node features instead of the entire graph.\n",
    "\n",
    "The model in the propagation step can be any keras model trained on node features to predict the target classes. In this example we use a fully connected neural network with bag of word features as input. We could easily swap out the bag of words features for the complete text and replace the fully connected network with a state-of-the-art NLP model (for example BERT [1]), fine-tune the model and propagate its predictions.\n",
    "\n",
    "\n",
    "<br>\n",
    "\n",
    "1. Devlin, J., Chang, M. W., Lee, K., & Toutanova, K. (2018). Bert: Pre-training of deep bidirectional transformers for language understanding. https://arxiv.org/abs/1810.04805"
   ]
  },
  {
   "cell_type": "markdown",
   "metadata": {},
   "source": [
    "First we create and train a fully connected model."
   ]
  },
  {
   "cell_type": "code",
   "execution_count": 30,
   "metadata": {},
   "outputs": [],
   "source": [
    "model = keras.models.Model()\n",
    "\n",
    "in_layer = layers.Input(shape=(len(feature_names),))\n",
    "\n",
    "layer = layers.Dropout(0.5)(in_layer)\n",
    "layer = layers.Dense(64, activation=\"relu\", kernel_regularizer=\"l2\")(layer)\n",
    "layer = layers.Dropout(0.5)(layer)\n",
    "layer = layers.Dense(64, activation=\"relu\", kernel_regularizer=\"l2\")(layer)\n",
    "layer = layers.Dropout(0.5)(layer)\n",
    "\n",
    "# note the dimension of the output should equal the number of classes to predict!\n",
    "layer = layers.Dense(train_targets.shape[-1], activation=\"relu\")(layer)\n",
    "layer = layers.Softmax()(layer)\n",
    "\n",
    "fully_connected_model = keras.models.Model(inputs=in_layer, outputs=layer)\n",
    "\n",
    "fully_connected_model.compile(\n",
    "    loss=\"categorical_crossentropy\", metrics=[\"acc\"], optimizer=optimizers.Adam(lr=0.01)\n",
    ")\n",
    "\n",
    "# the inputs are just the node features\n",
    "X_train = train_data[feature_names].values.astype(np.float32)\n",
    "X_val = val_data[feature_names].values.astype(np.float32)"
   ]
  },
  {
   "cell_type": "code",
   "execution_count": 31,
   "metadata": {},
   "outputs": [
    {
     "name": "stdout",
     "output_type": "stream",
     "text": [
      "Train on 140 samples, validate on 500 samples\n",
      "Epoch 1/2000\n",
      "140/140 [==============================] - 1s 5ms/sample - loss: 3.7968 - acc: 0.2000 - val_loss: 3.2773 - val_acc: 0.3060\n",
      "Epoch 2/2000\n",
      "140/140 [==============================] - 0s 125us/sample - loss: 3.2678 - acc: 0.2571 - val_loss: 2.9255 - val_acc: 0.3020\n",
      "Epoch 3/2000\n",
      "140/140 [==============================] - 0s 127us/sample - loss: 2.8700 - acc: 0.3286 - val_loss: 2.6927 - val_acc: 0.3020\n",
      "Epoch 4/2000\n",
      "140/140 [==============================] - 0s 129us/sample - loss: 2.6667 - acc: 0.3000 - val_loss: 2.5439 - val_acc: 0.3020\n",
      "Epoch 5/2000\n",
      "140/140 [==============================] - 0s 124us/sample - loss: 2.4381 - acc: 0.3357 - val_loss: 2.4525 - val_acc: 0.3020\n",
      "Epoch 6/2000\n",
      "140/140 [==============================] - 0s 126us/sample - loss: 2.3156 - acc: 0.3571 - val_loss: 2.3959 - val_acc: 0.3020\n",
      "Epoch 7/2000\n",
      "140/140 [==============================] - 0s 177us/sample - loss: 2.2424 - acc: 0.3786 - val_loss: 2.3614 - val_acc: 0.3140\n",
      "Epoch 8/2000\n",
      "140/140 [==============================] - 0s 180us/sample - loss: 2.1720 - acc: 0.4357 - val_loss: 2.3360 - val_acc: 0.3360\n",
      "Epoch 9/2000\n",
      "140/140 [==============================] - 0s 179us/sample - loss: 2.1291 - acc: 0.4643 - val_loss: 2.3128 - val_acc: 0.3980\n",
      "Epoch 10/2000\n",
      "140/140 [==============================] - 0s 177us/sample - loss: 2.0582 - acc: 0.5286 - val_loss: 2.2871 - val_acc: 0.4200\n",
      "Epoch 11/2000\n",
      "140/140 [==============================] - 0s 181us/sample - loss: 1.9274 - acc: 0.6000 - val_loss: 2.2565 - val_acc: 0.4340\n",
      "Epoch 12/2000\n",
      "140/140 [==============================] - 0s 180us/sample - loss: 1.8448 - acc: 0.5714 - val_loss: 2.2208 - val_acc: 0.4460\n",
      "Epoch 13/2000\n",
      "140/140 [==============================] - 0s 180us/sample - loss: 1.8578 - acc: 0.6214 - val_loss: 2.1854 - val_acc: 0.4540\n",
      "Epoch 14/2000\n",
      "140/140 [==============================] - 0s 124us/sample - loss: 1.7390 - acc: 0.6357 - val_loss: 2.1567 - val_acc: 0.4540\n",
      "Epoch 15/2000\n",
      "140/140 [==============================] - 0s 177us/sample - loss: 1.6419 - acc: 0.6429 - val_loss: 2.1330 - val_acc: 0.4660\n",
      "Epoch 16/2000\n",
      "140/140 [==============================] - 0s 178us/sample - loss: 1.6125 - acc: 0.6500 - val_loss: 2.1103 - val_acc: 0.4680\n",
      "Epoch 17/2000\n",
      "140/140 [==============================] - 0s 176us/sample - loss: 1.5577 - acc: 0.7071 - val_loss: 2.0861 - val_acc: 0.4720\n",
      "Epoch 18/2000\n",
      "140/140 [==============================] - 0s 178us/sample - loss: 1.4410 - acc: 0.7143 - val_loss: 2.0673 - val_acc: 0.4800\n",
      "Epoch 19/2000\n",
      "140/140 [==============================] - 0s 177us/sample - loss: 1.3676 - acc: 0.7571 - val_loss: 2.0597 - val_acc: 0.5060\n",
      "Epoch 20/2000\n",
      "140/140 [==============================] - 0s 186us/sample - loss: 1.3642 - acc: 0.7214 - val_loss: 2.0573 - val_acc: 0.5180\n",
      "Epoch 21/2000\n",
      "140/140 [==============================] - 0s 178us/sample - loss: 1.2922 - acc: 0.7786 - val_loss: 2.0559 - val_acc: 0.5200\n",
      "Epoch 22/2000\n",
      "140/140 [==============================] - 0s 129us/sample - loss: 1.3678 - acc: 0.7500 - val_loss: 2.0534 - val_acc: 0.5100\n",
      "Epoch 23/2000\n",
      "140/140 [==============================] - 0s 130us/sample - loss: 1.2351 - acc: 0.8214 - val_loss: 2.0520 - val_acc: 0.5140\n",
      "Epoch 24/2000\n",
      "140/140 [==============================] - 0s 124us/sample - loss: 1.2904 - acc: 0.7857 - val_loss: 2.0488 - val_acc: 0.5160\n",
      "Epoch 25/2000\n",
      "140/140 [==============================] - 0s 123us/sample - loss: 1.2203 - acc: 0.8000 - val_loss: 2.0458 - val_acc: 0.5180\n",
      "Epoch 26/2000\n",
      "140/140 [==============================] - 0s 124us/sample - loss: 1.2768 - acc: 0.7786 - val_loss: 2.0307 - val_acc: 0.5160\n",
      "Epoch 27/2000\n",
      "140/140 [==============================] - 0s 126us/sample - loss: 1.1932 - acc: 0.8071 - val_loss: 2.0132 - val_acc: 0.5200\n",
      "Epoch 28/2000\n",
      "140/140 [==============================] - 0s 127us/sample - loss: 1.1916 - acc: 0.8143 - val_loss: 2.0049 - val_acc: 0.5200\n",
      "Epoch 29/2000\n",
      "140/140 [==============================] - 0s 128us/sample - loss: 1.1778 - acc: 0.8143 - val_loss: 1.9966 - val_acc: 0.5160\n",
      "Epoch 30/2000\n",
      "140/140 [==============================] - 0s 178us/sample - loss: 1.1542 - acc: 0.8214 - val_loss: 1.9867 - val_acc: 0.5220\n",
      "Epoch 31/2000\n",
      "140/140 [==============================] - 0s 123us/sample - loss: 1.1275 - acc: 0.8143 - val_loss: 1.9808 - val_acc: 0.5160\n",
      "Epoch 32/2000\n",
      "140/140 [==============================] - 0s 178us/sample - loss: 1.1113 - acc: 0.8500 - val_loss: 1.9804 - val_acc: 0.5260\n",
      "Epoch 33/2000\n",
      "140/140 [==============================] - 0s 125us/sample - loss: 1.0406 - acc: 0.8714 - val_loss: 1.9793 - val_acc: 0.5240\n",
      "Epoch 34/2000\n",
      "140/140 [==============================] - 0s 128us/sample - loss: 1.1404 - acc: 0.8143 - val_loss: 1.9743 - val_acc: 0.5220\n",
      "Epoch 35/2000\n",
      "140/140 [==============================] - 0s 185us/sample - loss: 1.0901 - acc: 0.8500 - val_loss: 1.9624 - val_acc: 0.5380\n",
      "Epoch 36/2000\n",
      "140/140 [==============================] - 0s 131us/sample - loss: 1.1520 - acc: 0.8143 - val_loss: 1.9597 - val_acc: 0.5360\n",
      "Epoch 37/2000\n",
      "140/140 [==============================] - 0s 126us/sample - loss: 1.0779 - acc: 0.8500 - val_loss: 1.9548 - val_acc: 0.5380\n",
      "Epoch 38/2000\n",
      "140/140 [==============================] - 0s 131us/sample - loss: 1.0880 - acc: 0.8429 - val_loss: 1.9497 - val_acc: 0.5320\n",
      "Epoch 39/2000\n",
      "140/140 [==============================] - 0s 136us/sample - loss: 1.0261 - acc: 0.8643 - val_loss: 1.9436 - val_acc: 0.5380\n",
      "Epoch 40/2000\n",
      "140/140 [==============================] - 0s 130us/sample - loss: 1.0328 - acc: 0.8857 - val_loss: 1.9446 - val_acc: 0.5220\n",
      "Epoch 41/2000\n",
      "140/140 [==============================] - 0s 129us/sample - loss: 1.0047 - acc: 0.8786 - val_loss: 1.9475 - val_acc: 0.5200\n",
      "Epoch 42/2000\n",
      "140/140 [==============================] - 0s 130us/sample - loss: 1.0867 - acc: 0.8500 - val_loss: 1.9558 - val_acc: 0.5220\n",
      "Epoch 43/2000\n",
      "140/140 [==============================] - 0s 132us/sample - loss: 1.0356 - acc: 0.8571 - val_loss: 1.9640 - val_acc: 0.5200\n",
      "Epoch 44/2000\n",
      "140/140 [==============================] - 0s 143us/sample - loss: 1.0010 - acc: 0.8714 - val_loss: 1.9628 - val_acc: 0.5240\n",
      "Epoch 45/2000\n",
      "140/140 [==============================] - 0s 135us/sample - loss: 0.9672 - acc: 0.8714 - val_loss: 1.9520 - val_acc: 0.5260\n",
      "Epoch 46/2000\n",
      "140/140 [==============================] - 0s 127us/sample - loss: 1.0804 - acc: 0.8286 - val_loss: 1.9513 - val_acc: 0.5120\n",
      "Epoch 47/2000\n",
      "140/140 [==============================] - 0s 122us/sample - loss: 0.9792 - acc: 0.8857 - val_loss: 1.9612 - val_acc: 0.5160\n",
      "Epoch 48/2000\n",
      "140/140 [==============================] - 0s 127us/sample - loss: 1.0355 - acc: 0.8571 - val_loss: 1.9671 - val_acc: 0.5060\n",
      "Epoch 49/2000\n",
      "140/140 [==============================] - 0s 125us/sample - loss: 1.1057 - acc: 0.8143 - val_loss: 1.9631 - val_acc: 0.5060\n",
      "Epoch 50/2000\n",
      "140/140 [==============================] - 0s 125us/sample - loss: 1.0471 - acc: 0.8500 - val_loss: 1.9458 - val_acc: 0.4980\n",
      "Epoch 51/2000\n",
      "140/140 [==============================] - 0s 122us/sample - loss: 1.0250 - acc: 0.8643 - val_loss: 1.9394 - val_acc: 0.5020\n",
      "Epoch 52/2000\n",
      "140/140 [==============================] - 0s 121us/sample - loss: 1.0530 - acc: 0.8429 - val_loss: 1.9348 - val_acc: 0.5180\n",
      "Epoch 53/2000\n",
      "140/140 [==============================] - 0s 123us/sample - loss: 0.9798 - acc: 0.8929 - val_loss: 1.9337 - val_acc: 0.5240\n",
      "Epoch 54/2000\n",
      "140/140 [==============================] - 0s 120us/sample - loss: 1.0195 - acc: 0.8714 - val_loss: 1.9388 - val_acc: 0.5120\n",
      "Epoch 55/2000\n",
      "140/140 [==============================] - 0s 121us/sample - loss: 0.9848 - acc: 0.8714 - val_loss: 1.9439 - val_acc: 0.5180\n",
      "Epoch 56/2000\n",
      "140/140 [==============================] - 0s 120us/sample - loss: 0.9517 - acc: 0.9000 - val_loss: 1.9515 - val_acc: 0.5140\n",
      "Epoch 57/2000\n",
      "140/140 [==============================] - 0s 120us/sample - loss: 1.0139 - acc: 0.8786 - val_loss: 1.9598 - val_acc: 0.5180\n",
      "Epoch 58/2000\n",
      "140/140 [==============================] - 0s 126us/sample - loss: 0.9764 - acc: 0.8929 - val_loss: 1.9758 - val_acc: 0.5080\n",
      "Epoch 59/2000\n",
      "140/140 [==============================] - 0s 120us/sample - loss: 0.9695 - acc: 0.8714 - val_loss: 1.9808 - val_acc: 0.5060\n",
      "Epoch 60/2000\n",
      "140/140 [==============================] - 0s 124us/sample - loss: 1.0882 - acc: 0.8214 - val_loss: 1.9598 - val_acc: 0.5120\n",
      "Epoch 61/2000\n",
      "140/140 [==============================] - 0s 122us/sample - loss: 1.0410 - acc: 0.8357 - val_loss: 1.9342 - val_acc: 0.5160\n",
      "Epoch 62/2000\n",
      "140/140 [==============================] - 0s 148us/sample - loss: 1.0683 - acc: 0.8429 - val_loss: 1.9243 - val_acc: 0.5240\n",
      "Epoch 63/2000\n",
      "140/140 [==============================] - 0s 122us/sample - loss: 1.0014 - acc: 0.8500 - val_loss: 1.9255 - val_acc: 0.5240\n",
      "Epoch 64/2000\n",
      "140/140 [==============================] - 0s 121us/sample - loss: 1.0179 - acc: 0.8714 - val_loss: 1.9336 - val_acc: 0.5320\n",
      "Epoch 65/2000\n",
      "140/140 [==============================] - 0s 124us/sample - loss: 1.0542 - acc: 0.8571 - val_loss: 1.9394 - val_acc: 0.5320\n",
      "Epoch 66/2000\n",
      "140/140 [==============================] - 0s 176us/sample - loss: 0.9669 - acc: 0.8786 - val_loss: 1.9402 - val_acc: 0.5440\n",
      "Epoch 67/2000\n",
      "140/140 [==============================] - 0s 123us/sample - loss: 0.9890 - acc: 0.8714 - val_loss: 1.9355 - val_acc: 0.5440\n",
      "Epoch 68/2000\n",
      "140/140 [==============================] - 0s 122us/sample - loss: 0.9599 - acc: 0.8857 - val_loss: 1.9301 - val_acc: 0.5400\n",
      "Epoch 69/2000\n",
      "140/140 [==============================] - 0s 123us/sample - loss: 1.1054 - acc: 0.8429 - val_loss: 1.9310 - val_acc: 0.5340\n",
      "Epoch 70/2000\n",
      "140/140 [==============================] - 0s 123us/sample - loss: 0.9602 - acc: 0.8786 - val_loss: 1.9309 - val_acc: 0.5320\n",
      "Epoch 71/2000\n",
      "140/140 [==============================] - 0s 119us/sample - loss: 0.9929 - acc: 0.8500 - val_loss: 1.9313 - val_acc: 0.5260\n",
      "Epoch 72/2000\n",
      "140/140 [==============================] - 0s 119us/sample - loss: 0.9865 - acc: 0.8500 - val_loss: 1.9171 - val_acc: 0.5300\n",
      "Epoch 73/2000\n",
      "140/140 [==============================] - 0s 118us/sample - loss: 0.9734 - acc: 0.8786 - val_loss: 1.9066 - val_acc: 0.5240\n",
      "Epoch 74/2000\n",
      "140/140 [==============================] - 0s 126us/sample - loss: 0.9828 - acc: 0.8571 - val_loss: 1.8998 - val_acc: 0.5220\n",
      "Epoch 75/2000\n",
      "140/140 [==============================] - 0s 122us/sample - loss: 0.9545 - acc: 0.8857 - val_loss: 1.9021 - val_acc: 0.5260\n",
      "Epoch 76/2000\n",
      "140/140 [==============================] - 0s 120us/sample - loss: 1.0607 - acc: 0.8429 - val_loss: 1.9082 - val_acc: 0.5160\n",
      "Epoch 77/2000\n",
      "140/140 [==============================] - 0s 128us/sample - loss: 0.9780 - acc: 0.8714 - val_loss: 1.9158 - val_acc: 0.5180\n",
      "Epoch 78/2000\n",
      "140/140 [==============================] - 0s 122us/sample - loss: 0.9861 - acc: 0.8643 - val_loss: 1.9192 - val_acc: 0.5240\n",
      "Epoch 79/2000\n",
      "140/140 [==============================] - 0s 120us/sample - loss: 1.0064 - acc: 0.8714 - val_loss: 1.9282 - val_acc: 0.5160\n",
      "Epoch 80/2000\n",
      "140/140 [==============================] - 0s 119us/sample - loss: 1.0235 - acc: 0.8857 - val_loss: 1.9342 - val_acc: 0.5140\n",
      "Epoch 81/2000\n",
      "140/140 [==============================] - 0s 116us/sample - loss: 0.9731 - acc: 0.8786 - val_loss: 1.9317 - val_acc: 0.5200\n",
      "Epoch 82/2000\n",
      "140/140 [==============================] - 0s 117us/sample - loss: 1.0083 - acc: 0.8571 - val_loss: 1.9236 - val_acc: 0.5120\n",
      "Epoch 83/2000\n",
      "140/140 [==============================] - 0s 121us/sample - loss: 0.9887 - acc: 0.8643 - val_loss: 1.9233 - val_acc: 0.5160\n",
      "Epoch 84/2000\n",
      "140/140 [==============================] - 0s 116us/sample - loss: 1.0092 - acc: 0.8714 - val_loss: 1.9237 - val_acc: 0.5220\n",
      "Epoch 85/2000\n",
      "140/140 [==============================] - 0s 117us/sample - loss: 0.9595 - acc: 0.8571 - val_loss: 1.9259 - val_acc: 0.5080\n",
      "Epoch 86/2000\n",
      "140/140 [==============================] - 0s 119us/sample - loss: 0.9904 - acc: 0.8571 - val_loss: 1.9297 - val_acc: 0.5040\n",
      "Epoch 87/2000\n",
      "140/140 [==============================] - 0s 124us/sample - loss: 0.8962 - acc: 0.8786 - val_loss: 1.9264 - val_acc: 0.5060\n",
      "Epoch 88/2000\n",
      "140/140 [==============================] - 0s 121us/sample - loss: 0.9975 - acc: 0.8500 - val_loss: 1.9211 - val_acc: 0.5040\n",
      "Epoch 89/2000\n",
      "140/140 [==============================] - 0s 124us/sample - loss: 0.9534 - acc: 0.9000 - val_loss: 1.9146 - val_acc: 0.5000\n",
      "Epoch 90/2000\n",
      "140/140 [==============================] - 0s 123us/sample - loss: 0.9848 - acc: 0.8571 - val_loss: 1.9102 - val_acc: 0.5020\n",
      "Epoch 91/2000\n",
      "140/140 [==============================] - 0s 125us/sample - loss: 0.9784 - acc: 0.8857 - val_loss: 1.9123 - val_acc: 0.5160\n",
      "Epoch 92/2000\n",
      "140/140 [==============================] - 0s 122us/sample - loss: 1.0710 - acc: 0.8429 - val_loss: 1.9169 - val_acc: 0.5160\n",
      "Epoch 93/2000\n",
      "140/140 [==============================] - 0s 125us/sample - loss: 1.0514 - acc: 0.8429 - val_loss: 1.9155 - val_acc: 0.5220\n",
      "Epoch 94/2000\n",
      "140/140 [==============================] - 0s 126us/sample - loss: 0.9535 - acc: 0.9000 - val_loss: 1.9202 - val_acc: 0.5200\n",
      "Epoch 95/2000\n",
      "140/140 [==============================] - 0s 125us/sample - loss: 1.0389 - acc: 0.8357 - val_loss: 1.9177 - val_acc: 0.5200\n",
      "Epoch 96/2000\n",
      "140/140 [==============================] - 0s 124us/sample - loss: 0.9782 - acc: 0.8500 - val_loss: 1.9161 - val_acc: 0.5040\n",
      "Epoch 97/2000\n",
      "140/140 [==============================] - 0s 129us/sample - loss: 0.9610 - acc: 0.8857 - val_loss: 1.9253 - val_acc: 0.5060\n",
      "Epoch 98/2000\n",
      "140/140 [==============================] - 0s 127us/sample - loss: 0.9232 - acc: 0.8929 - val_loss: 1.9348 - val_acc: 0.5140\n",
      "Epoch 99/2000\n",
      "140/140 [==============================] - 0s 124us/sample - loss: 0.9879 - acc: 0.8500 - val_loss: 1.9430 - val_acc: 0.5000\n",
      "Epoch 100/2000\n",
      "140/140 [==============================] - 0s 126us/sample - loss: 0.9305 - acc: 0.8643 - val_loss: 1.9518 - val_acc: 0.5020\n",
      "Epoch 101/2000\n",
      "140/140 [==============================] - 0s 122us/sample - loss: 1.0755 - acc: 0.8286 - val_loss: 1.9603 - val_acc: 0.5120\n",
      "Epoch 102/2000\n",
      "140/140 [==============================] - 0s 129us/sample - loss: 0.9902 - acc: 0.8571 - val_loss: 1.9742 - val_acc: 0.5140\n",
      "Epoch 103/2000\n",
      "140/140 [==============================] - 0s 128us/sample - loss: 0.9957 - acc: 0.8500 - val_loss: 1.9745 - val_acc: 0.5180\n",
      "Epoch 104/2000\n",
      "140/140 [==============================] - 0s 128us/sample - loss: 0.9435 - acc: 0.8786 - val_loss: 1.9672 - val_acc: 0.5180\n",
      "Epoch 105/2000\n",
      "140/140 [==============================] - 0s 127us/sample - loss: 0.9943 - acc: 0.8429 - val_loss: 1.9598 - val_acc: 0.5140\n",
      "Epoch 106/2000\n",
      "140/140 [==============================] - 0s 143us/sample - loss: 0.9587 - acc: 0.8786 - val_loss: 1.9472 - val_acc: 0.5140\n",
      "Epoch 107/2000\n",
      "140/140 [==============================] - 0s 133us/sample - loss: 1.0013 - acc: 0.8857 - val_loss: 1.9344 - val_acc: 0.5200\n",
      "Epoch 108/2000\n",
      "140/140 [==============================] - 0s 128us/sample - loss: 1.0256 - acc: 0.8643 - val_loss: 1.9227 - val_acc: 0.5240\n",
      "Epoch 109/2000\n",
      "140/140 [==============================] - 0s 127us/sample - loss: 0.9364 - acc: 0.8786 - val_loss: 1.9134 - val_acc: 0.5220\n",
      "Epoch 110/2000\n",
      "140/140 [==============================] - 0s 130us/sample - loss: 0.9295 - acc: 0.8929 - val_loss: 1.9093 - val_acc: 0.5300\n",
      "Epoch 111/2000\n",
      "140/140 [==============================] - 0s 120us/sample - loss: 0.9431 - acc: 0.8786 - val_loss: 1.9076 - val_acc: 0.5260\n",
      "Epoch 112/2000\n",
      "140/140 [==============================] - 0s 121us/sample - loss: 0.9432 - acc: 0.8929 - val_loss: 1.9113 - val_acc: 0.5300\n",
      "Epoch 113/2000\n",
      "140/140 [==============================] - 0s 122us/sample - loss: 0.8972 - acc: 0.9286 - val_loss: 1.9182 - val_acc: 0.5320\n",
      "Epoch 114/2000\n",
      "140/140 [==============================] - 0s 125us/sample - loss: 0.9595 - acc: 0.8929 - val_loss: 1.9327 - val_acc: 0.5340\n",
      "Epoch 115/2000\n",
      "140/140 [==============================] - 0s 126us/sample - loss: 0.9772 - acc: 0.8857 - val_loss: 1.9440 - val_acc: 0.5300\n",
      "Epoch 116/2000\n",
      "140/140 [==============================] - 0s 128us/sample - loss: 0.9201 - acc: 0.8929 - val_loss: 1.9498 - val_acc: 0.5360\n"
     ]
    }
   ],
   "source": [
    "es_callback = EarlyStopping(\n",
    "    monitor=\"val_acc\", patience=50\n",
    ")  # patience is the number of epochs to wait before early stopping in case of no further improvement\n",
    "\n",
    "mc_callback = ModelCheckpoint(\n",
    "    \"logs/best_fc_model.h5\",\n",
    "    monitor=\"val_acc\",\n",
    "    save_best_only=True,\n",
    "    save_weights_only=True,\n",
    ")\n",
    "\n",
    "history = fully_connected_model.fit(\n",
    "    X_train,\n",
    "    train_targets,\n",
    "    validation_data=(X_val, val_targets),\n",
    "    epochs=2000,\n",
    "    batch_size=200,\n",
    "    shuffle=True,  # we can shuffle the data here as\n",
    "    callbacks=[es_callback, mc_callback],\n",
    ")  # we're only working with node features"
   ]
  },
  {
   "cell_type": "markdown",
   "metadata": {},
   "source": [
    "By itself the fully connected model only gets ~60% accuracy on the test set."
   ]
  },
  {
   "cell_type": "code",
   "execution_count": 32,
   "metadata": {},
   "outputs": [
    {
     "name": "stdout",
     "output_type": "stream",
     "text": [
      "2068/1 - 0s - loss: 1.9270 - acc: 0.5348\n",
      "\n",
      "Test Set Metrics:\n",
      "\tloss: 1.9185\n",
      "\tacc: 0.5348\n"
     ]
    }
   ],
   "source": [
    "X_test = test_data[feature_names].values.astype(np.float32)\n",
    "\n",
    "fully_connected_model.load_weights(\"logs/best_fc_model.h5\")\n",
    "test_metrics = fully_connected_model.evaluate(X_test, test_targets, verbose=2)\n",
    "print(\"\\nTest Set Metrics:\")\n",
    "for name, val in zip(fully_connected_model.metrics_names, test_metrics):\n",
    "    print(\"\\t{}: {:0.4f}\".format(name, val))"
   ]
  },
  {
   "cell_type": "markdown",
   "metadata": {},
   "source": [
    "Now we propogate the fully connected network - no extra training required and we can re-use the APPNP object we've already created. First we create an intermediate fully connected model without the softmax layer, this is to avoid propagating the softmax layer which may cause issues with further training. We then propagate this intermediate network."
   ]
  },
  {
   "cell_type": "code",
   "execution_count": 33,
   "metadata": {},
   "outputs": [],
   "source": [
    "intermediate_model = Model(\n",
    "    inputs=fully_connected_model.inputs, outputs=fully_connected_model.layers[-2].output\n",
    ")\n",
    "\n",
    "x_inp, x_out = appnp.propagate_model(intermediate_model)\n",
    "predictions = keras.layers.Softmax()(x_out)\n",
    "\n",
    "propagated_model = keras.models.Model(inputs=x_inp, outputs=predictions)\n",
    "propagated_model.compile(\n",
    "    loss=\"categorical_crossentropy\",\n",
    "    metrics=[\"acc\"],\n",
    "    optimizer=keras.optimizers.Adam(lr=0.01),\n",
    ")"
   ]
  },
  {
   "cell_type": "markdown",
   "metadata": {},
   "source": [
    "Our accuracy is better than the fully connected network by itself but less than end-to-end trained PPNP and APPNP. \n",
    "\n",
    "Note that this is partially because 140 data points isn't sufficient for the fully connected model to achieve optimal performance. As the number of training nodes increases the perfomance gap shrinks. "
   ]
  },
  {
   "cell_type": "code",
   "execution_count": 34,
   "metadata": {},
   "outputs": [
    {
     "name": "stdout",
     "output_type": "stream",
     "text": [
      "\n",
      "Test Set Metrics:\n",
      "\tloss: 1.7607\n",
      "\tacc: 0.7205\n"
     ]
    }
   ],
   "source": [
    "test_metrics = propagated_model.evaluate_generator(test_gen)\n",
    "print(\"\\nTest Set Metrics:\")\n",
    "for name, val in zip(propagated_model.metrics_names, test_metrics):\n",
    "    print(\"\\t{}: {:0.4f}\".format(name, val))"
   ]
  },
  {
   "cell_type": "markdown",
   "metadata": {},
   "source": [
    "### Making predictions with the model"
   ]
  },
  {
   "cell_type": "markdown",
   "metadata": {},
   "source": [
    "Now let's get the predictions for all nodes."
   ]
  },
  {
   "cell_type": "code",
   "execution_count": 35,
   "metadata": {},
   "outputs": [],
   "source": [
    "all_nodes = node_data.index\n",
    "all_gen = generator.flow(all_nodes)\n",
    "all_predictions = propagated_model.predict_generator(all_gen)"
   ]
  },
  {
   "cell_type": "markdown",
   "metadata": {},
   "source": [
    "These predictions will be the output of the softmax layer, so to get final categories we'll use the `inverse_transform` method of our target attribute specifcation to turn these values back to the original categories."
   ]
  },
  {
   "cell_type": "markdown",
   "metadata": {},
   "source": [
    "Note that for full-batch methods the batch size is 1 and the predictions have shape $(1, N_{nodes}, N_{classes})$ so we remove the batch dimension to obtain predictions of shape $(N_{nodes}, N_{classes})$ using the NumPy `squeeze` method."
   ]
  },
  {
   "cell_type": "code",
   "execution_count": 36,
   "metadata": {},
   "outputs": [],
   "source": [
    "node_predictions = target_encoding.inverse_transform(all_predictions.squeeze())"
   ]
  },
  {
   "cell_type": "markdown",
   "metadata": {},
   "source": [
    "Let's have a look at a few predictions after training the model:"
   ]
  },
  {
   "cell_type": "code",
   "execution_count": 37,
   "metadata": {},
   "outputs": [
    {
     "data": {
      "text/html": [
       "<div>\n",
       "<style scoped>\n",
       "    .dataframe tbody tr th:only-of-type {\n",
       "        vertical-align: middle;\n",
       "    }\n",
       "\n",
       "    .dataframe tbody tr th {\n",
       "        vertical-align: top;\n",
       "    }\n",
       "\n",
       "    .dataframe thead th {\n",
       "        text-align: right;\n",
       "    }\n",
       "</style>\n",
       "<table border=\"1\" class=\"dataframe\">\n",
       "  <thead>\n",
       "    <tr style=\"text-align: right;\">\n",
       "      <th></th>\n",
       "      <th>Predicted</th>\n",
       "      <th>True</th>\n",
       "    </tr>\n",
       "  </thead>\n",
       "  <tbody>\n",
       "    <tr>\n",
       "      <th>31336</th>\n",
       "      <td>subject=Neural_Networks</td>\n",
       "      <td>Neural_Networks</td>\n",
       "    </tr>\n",
       "    <tr>\n",
       "      <th>1061127</th>\n",
       "      <td>subject=Theory</td>\n",
       "      <td>Rule_Learning</td>\n",
       "    </tr>\n",
       "    <tr>\n",
       "      <th>1106406</th>\n",
       "      <td>subject=Reinforcement_Learning</td>\n",
       "      <td>Reinforcement_Learning</td>\n",
       "    </tr>\n",
       "    <tr>\n",
       "      <th>13195</th>\n",
       "      <td>subject=Reinforcement_Learning</td>\n",
       "      <td>Reinforcement_Learning</td>\n",
       "    </tr>\n",
       "    <tr>\n",
       "      <th>37879</th>\n",
       "      <td>subject=Probabilistic_Methods</td>\n",
       "      <td>Probabilistic_Methods</td>\n",
       "    </tr>\n",
       "    <tr>\n",
       "      <th>1126012</th>\n",
       "      <td>subject=Probabilistic_Methods</td>\n",
       "      <td>Probabilistic_Methods</td>\n",
       "    </tr>\n",
       "    <tr>\n",
       "      <th>1107140</th>\n",
       "      <td>subject=Reinforcement_Learning</td>\n",
       "      <td>Theory</td>\n",
       "    </tr>\n",
       "    <tr>\n",
       "      <th>1102850</th>\n",
       "      <td>subject=Neural_Networks</td>\n",
       "      <td>Neural_Networks</td>\n",
       "    </tr>\n",
       "    <tr>\n",
       "      <th>31349</th>\n",
       "      <td>subject=Neural_Networks</td>\n",
       "      <td>Neural_Networks</td>\n",
       "    </tr>\n",
       "    <tr>\n",
       "      <th>1106418</th>\n",
       "      <td>subject=Theory</td>\n",
       "      <td>Theory</td>\n",
       "    </tr>\n",
       "    <tr>\n",
       "      <th>1123188</th>\n",
       "      <td>subject=Neural_Networks</td>\n",
       "      <td>Neural_Networks</td>\n",
       "    </tr>\n",
       "    <tr>\n",
       "      <th>1128990</th>\n",
       "      <td>subject=Genetic_Algorithms</td>\n",
       "      <td>Genetic_Algorithms</td>\n",
       "    </tr>\n",
       "    <tr>\n",
       "      <th>109323</th>\n",
       "      <td>subject=Probabilistic_Methods</td>\n",
       "      <td>Probabilistic_Methods</td>\n",
       "    </tr>\n",
       "    <tr>\n",
       "      <th>217139</th>\n",
       "      <td>subject=Case_Based</td>\n",
       "      <td>Case_Based</td>\n",
       "    </tr>\n",
       "    <tr>\n",
       "      <th>31353</th>\n",
       "      <td>subject=Neural_Networks</td>\n",
       "      <td>Neural_Networks</td>\n",
       "    </tr>\n",
       "    <tr>\n",
       "      <th>32083</th>\n",
       "      <td>subject=Neural_Networks</td>\n",
       "      <td>Neural_Networks</td>\n",
       "    </tr>\n",
       "    <tr>\n",
       "      <th>1126029</th>\n",
       "      <td>subject=Neural_Networks</td>\n",
       "      <td>Reinforcement_Learning</td>\n",
       "    </tr>\n",
       "    <tr>\n",
       "      <th>1118017</th>\n",
       "      <td>subject=Neural_Networks</td>\n",
       "      <td>Neural_Networks</td>\n",
       "    </tr>\n",
       "    <tr>\n",
       "      <th>49482</th>\n",
       "      <td>subject=Neural_Networks</td>\n",
       "      <td>Neural_Networks</td>\n",
       "    </tr>\n",
       "    <tr>\n",
       "      <th>753265</th>\n",
       "      <td>subject=Theory</td>\n",
       "      <td>Neural_Networks</td>\n",
       "    </tr>\n",
       "  </tbody>\n",
       "</table>\n",
       "</div>"
      ],
      "text/plain": [
       "                              Predicted                    True\n",
       "31336           subject=Neural_Networks         Neural_Networks\n",
       "1061127                  subject=Theory           Rule_Learning\n",
       "1106406  subject=Reinforcement_Learning  Reinforcement_Learning\n",
       "13195    subject=Reinforcement_Learning  Reinforcement_Learning\n",
       "37879     subject=Probabilistic_Methods   Probabilistic_Methods\n",
       "1126012   subject=Probabilistic_Methods   Probabilistic_Methods\n",
       "1107140  subject=Reinforcement_Learning                  Theory\n",
       "1102850         subject=Neural_Networks         Neural_Networks\n",
       "31349           subject=Neural_Networks         Neural_Networks\n",
       "1106418                  subject=Theory                  Theory\n",
       "1123188         subject=Neural_Networks         Neural_Networks\n",
       "1128990      subject=Genetic_Algorithms      Genetic_Algorithms\n",
       "109323    subject=Probabilistic_Methods   Probabilistic_Methods\n",
       "217139               subject=Case_Based              Case_Based\n",
       "31353           subject=Neural_Networks         Neural_Networks\n",
       "32083           subject=Neural_Networks         Neural_Networks\n",
       "1126029         subject=Neural_Networks  Reinforcement_Learning\n",
       "1118017         subject=Neural_Networks         Neural_Networks\n",
       "49482           subject=Neural_Networks         Neural_Networks\n",
       "753265                   subject=Theory         Neural_Networks"
      ]
     },
     "execution_count": 37,
     "metadata": {},
     "output_type": "execute_result"
    }
   ],
   "source": [
    "results = pd.DataFrame(node_predictions, index=all_nodes).idxmax(axis=1)\n",
    "df = pd.DataFrame({\"Predicted\": results, \"True\": node_data[\"subject\"]})\n",
    "df.head(20)"
   ]
  },
  {
   "cell_type": "markdown",
   "metadata": {},
   "source": [
    "Now we have an accurate model that can handle large graphs."
   ]
  }
 ],
 "metadata": {
  "kernelspec": {
   "display_name": "Python 3",
   "language": "python",
   "name": "python3"
  },
  "language_info": {
   "codemirror_mode": {
    "name": "ipython",
    "version": 3
   },
   "file_extension": ".py",
   "mimetype": "text/x-python",
   "name": "python",
   "nbconvert_exporter": "python",
   "pygments_lexer": "ipython3",
   "version": "3.6.10"
  }
 },
 "nbformat": 4,
 "nbformat_minor": 4
}
