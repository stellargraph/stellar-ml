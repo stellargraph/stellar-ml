{
 "cells": [
  {
   "cell_type": "markdown",
   "metadata": {},
   "source": [
    "# Stellargraph example: Personalised Propagation of Neural Predictions (PPNP) and Approximate PPNP (APPNP) on the CORA citation dataset"
   ]
  },
  {
   "cell_type": "markdown",
   "metadata": {},
   "source": [
    "Import NetworkX and stellargraph:"
   ]
  },
  {
   "cell_type": "code",
   "execution_count": 1,
   "metadata": {},
   "outputs": [],
   "source": [
    "import networkx as nx\n",
    "import pandas as pd\n",
    "import numpy as np\n",
    "import os\n",
    "from tensorflow import keras\n",
    "from tensorflow.keras import backend as K\n",
    "from tensorflow.keras.callbacks import EarlyStopping, ModelCheckpoint\n",
    "\n",
    "import stellargraph as sg\n",
    "from stellargraph.mapper import FullBatchNodeGenerator\n",
    "from stellargraph.layer.ppnp import PPNP\n",
    "from stellargraph.layer.appnp import APPNP\n",
    "\n",
    "from tensorflow.keras import layers, optimizers, losses, metrics, Model\n",
    "from sklearn import preprocessing, feature_extraction, model_selection"
   ]
  },
  {
   "cell_type": "markdown",
   "metadata": {},
   "source": [
    "### Loading the CORA network"
   ]
  },
  {
   "cell_type": "markdown",
   "metadata": {},
   "source": [
    "**Downloading the CORA dataset:**\n",
    "    \n",
    "The dataset used in this demo can be downloaded from [here](https://linqs-data.soe.ucsc.edu/public/lbc/cora.tgz).\n",
    "\n",
    "The following is the description of the dataset:\n",
    "> The Cora dataset consists of 2708 scientific publications classified into one of seven classes.\n",
    "> The citation network consists of 5429 links. Each publication in the dataset is described by a\n",
    "> 0/1-valued word vector indicating the absence/presence of the corresponding word from the dictionary.\n",
    "> The dictionary consists of 1433 unique words. The README file in the dataset provides more details.\n",
    "\n",
    "Download and unzip the cora.tgz file to a location on your computer and set the `data_dir` variable to\n",
    "point to the location of the dataset (the directory containing \"cora.cites\" and \"cora.content\")."
   ]
  },
  {
   "cell_type": "code",
   "execution_count": 2,
   "metadata": {},
   "outputs": [],
   "source": [
    "data_dir = os.path.join(\"~\", \"data\", \"cora\")"
   ]
  },
  {
   "cell_type": "markdown",
   "metadata": {},
   "source": [
    "Load the graph from edgelist (in the order `cited-paper` <- `citing-paper`)"
   ]
  },
  {
   "cell_type": "code",
   "execution_count": 3,
   "metadata": {},
   "outputs": [],
   "source": [
    "edgelist = pd.read_csv(os.path.join(data_dir, \"cora.cites\"), sep='\\t', header=None, names=[\"target\", \"source\"])"
   ]
  },
  {
   "cell_type": "markdown",
   "metadata": {},
   "source": [
    "Load the features and subject for the nodes"
   ]
  },
  {
   "cell_type": "code",
   "execution_count": 4,
   "metadata": {},
   "outputs": [],
   "source": [
    "feature_names = [\"w_{}\".format(ii) for ii in range(1433)]\n",
    "column_names =  feature_names + [\"subject\"]\n",
    "node_data = pd.read_csv(os.path.join(data_dir, \"cora.content\"), sep='\\t', header=None, names=column_names)"
   ]
  },
  {
   "cell_type": "markdown",
   "metadata": {},
   "source": [
    "We aim to train a graph-ML model that will predict the \"subject\" attribute on the nodes. These subjects are one of 7 categories:"
   ]
  },
  {
   "cell_type": "code",
   "execution_count": 5,
   "metadata": {},
   "outputs": [
    {
     "data": {
      "text/plain": [
       "{'Case_Based',\n",
       " 'Genetic_Algorithms',\n",
       " 'Neural_Networks',\n",
       " 'Probabilistic_Methods',\n",
       " 'Reinforcement_Learning',\n",
       " 'Rule_Learning',\n",
       " 'Theory'}"
      ]
     },
     "execution_count": 5,
     "metadata": {},
     "output_type": "execute_result"
    }
   ],
   "source": [
    "set(node_data[\"subject\"])"
   ]
  },
  {
   "cell_type": "markdown",
   "metadata": {},
   "source": [
    "### Splitting the data"
   ]
  },
  {
   "cell_type": "markdown",
   "metadata": {},
   "source": [
    "For machine learning we want to take a subset of the nodes for training, and use the rest for validation and testing. We'll use scikit-learn again to do this.\n",
    "\n",
    "Here we're taking 140 node labels for training, 500 for validation, and the rest for testing."
   ]
  },
  {
   "cell_type": "code",
   "execution_count": 6,
   "metadata": {},
   "outputs": [],
   "source": [
    "train_data, test_data = model_selection.train_test_split(\n",
    "    node_data, train_size=140, test_size=None, stratify=node_data['subject']\n",
    ")\n",
    "val_data, test_data = model_selection.train_test_split(\n",
    "    test_data, train_size=500, test_size=None, stratify=test_data['subject']\n",
    ")"
   ]
  },
  {
   "cell_type": "markdown",
   "metadata": {},
   "source": [
    "Note using stratified sampling gives the following counts:"
   ]
  },
  {
   "cell_type": "code",
   "execution_count": 7,
   "metadata": {},
   "outputs": [
    {
     "data": {
      "text/plain": [
       "Counter({'Theory': 18,\n",
       "         'Neural_Networks': 42,\n",
       "         'Genetic_Algorithms': 22,\n",
       "         'Case_Based': 16,\n",
       "         'Probabilistic_Methods': 22,\n",
       "         'Reinforcement_Learning': 11,\n",
       "         'Rule_Learning': 9})"
      ]
     },
     "execution_count": 7,
     "metadata": {},
     "output_type": "execute_result"
    }
   ],
   "source": [
    "from collections import Counter\n",
    "Counter(train_data['subject'])"
   ]
  },
  {
   "cell_type": "markdown",
   "metadata": {},
   "source": [
    "The training set has class imbalance that might need to be compensated, e.g., via using a weighted cross-entropy loss in model training, with class weights inversely proportional to class support. However, we will ignore the class imbalance in this example, for simplicity."
   ]
  },
  {
   "cell_type": "markdown",
   "metadata": {},
   "source": [
    "### Converting to numeric arrays"
   ]
  },
  {
   "cell_type": "markdown",
   "metadata": {},
   "source": [
    "For our categorical target, we will use one-hot vectors that will be fed into a soft-max Keras layer during training. To do this conversion ..."
   ]
  },
  {
   "cell_type": "code",
   "execution_count": 8,
   "metadata": {},
   "outputs": [],
   "source": [
    "target_encoding = feature_extraction.DictVectorizer(sparse=False)\n",
    "\n",
    "train_targets = target_encoding.fit_transform(train_data[[\"subject\"]].to_dict('records'))\n",
    "val_targets = target_encoding.transform(val_data[[\"subject\"]].to_dict('records'))\n",
    "test_targets = target_encoding.transform(test_data[[\"subject\"]].to_dict('records'))"
   ]
  },
  {
   "cell_type": "markdown",
   "metadata": {},
   "source": [
    "We now do the same for the node attributes we want to use to predict the subject. These are the feature vectors that the Keras model will use as input. The CORA dataset contains attributes 'w_x' that correspond to words found in that publication. If a word occurs more than once in a publication the relevant attribute will be set to one, otherwise it will be zero."
   ]
  },
  {
   "cell_type": "code",
   "execution_count": 9,
   "metadata": {},
   "outputs": [],
   "source": [
    "node_features = node_data[feature_names]"
   ]
  },
  {
   "cell_type": "markdown",
   "metadata": {},
   "source": [
    "## Creating the PPNP model in Keras"
   ]
  },
  {
   "cell_type": "markdown",
   "metadata": {},
   "source": [
    "Now create a StellarGraph object from the NetworkX graph and the node features and targets. It is StellarGraph objects that we use in this library to perform machine learning tasks on."
   ]
  },
  {
   "cell_type": "code",
   "execution_count": 10,
   "metadata": {},
   "outputs": [],
   "source": [
    "G = sg.StellarGraph(nodes={\"paper\": node_features}, edges={\"cites\": edgelist})"
   ]
  },
  {
   "cell_type": "code",
   "execution_count": 11,
   "metadata": {},
   "outputs": [],
   "source": [
    "#print(G.info())"
   ]
  },
  {
   "cell_type": "markdown",
   "metadata": {},
   "source": [
    "To feed data from the graph to the Keras model we need a generator. Since PPNP is a full-batch model, we use the `FullBatchNodeGenerator` class to feed node features and the normalized graph Laplacian matrix to the model.\n",
    "\n",
    "Specifying the `method='ppnp'` argument to the `FullBatchNodeGenerator` will pre-process the adjacency matrix and supply the personalized page rank matrix necessary for PPNP.  The personalized page rank matrix is a dense matrix and so `sparse=False` must be passed to `FullBatchNodeGenerator`. `teleport_probability=0.1` specifies the probability of returning to the starting node in the propogation step as desribed in the paper (alpha in the paper). "
   ]
  },
  {
   "cell_type": "code",
   "execution_count": 12,
   "metadata": {},
   "outputs": [],
   "source": [
    "generator = FullBatchNodeGenerator(G, \n",
    "                                   method=\"ppnp\", \n",
    "                                   sparse=False, \n",
    "                                   teleport_probability=0.1\n",
    "                                  )"
   ]
  },
  {
   "cell_type": "markdown",
   "metadata": {},
   "source": [
    "For training we map only the training nodes returned from our splitter and the target values."
   ]
  },
  {
   "cell_type": "code",
   "execution_count": 13,
   "metadata": {},
   "outputs": [],
   "source": [
    "train_gen = generator.flow(train_data.index, train_targets)"
   ]
  },
  {
   "cell_type": "markdown",
   "metadata": {},
   "source": [
    "Now we can specify our machine learning model, we need a few more parameters for this:\n",
    "\n",
    " * the `layer_sizes` is a list of hidden feature sizes of each full fully connected layer in the model. In this example we use three fully connected layers with 64,64, and 7 hidden node features at each layer. \n",
    " * `activations` is a list of activations applied to each layer's output\n",
    " * `dropout=0.5` specifies a 50% dropout at each layer. \n",
    " * `kernel_regularizer=keras.regularizers.l2(0.001)` specifies a penality that prevents the model weights from become too large and helps limit overfitting\n",
    " \n",
    " #### Note that the size of the final fully connected layer must be equal to the number of classes you are trying to predict.\n"
   ]
  },
  {
   "cell_type": "markdown",
   "metadata": {},
   "source": [
    "We create a PPNP model as follows:"
   ]
  },
  {
   "cell_type": "code",
   "execution_count": 14,
   "metadata": {},
   "outputs": [],
   "source": [
    "ppnp = PPNP(layer_sizes=[64, 64, train_targets.shape[-1]], \n",
    "            activations=['relu', 'relu', 'relu'], \n",
    "            generator=generator, \n",
    "            dropout=0.5, \n",
    "            kernel_regularizer=keras.regularizers.l2(0.001))\n",
    "\n",
    "x_inp, x_out = ppnp.node_model()\n",
    "predictions = keras.layers.Softmax()(x_out)"
   ]
  },
  {
   "cell_type": "markdown",
   "metadata": {},
   "source": [
    "### Training the model"
   ]
  },
  {
   "cell_type": "markdown",
   "metadata": {},
   "source": [
    "Now let's create the actual Keras model with the input tensors `x_inp` and output tensors being the predictions `predictions` from the final dense layer"
   ]
  },
  {
   "cell_type": "code",
   "execution_count": 15,
   "metadata": {},
   "outputs": [],
   "source": [
    "ppnp_model = Model(inputs=x_inp, outputs=predictions)\n",
    "ppnp_model.compile(\n",
    "    optimizer=optimizers.Adam(lr=0.01),\n",
    "    loss=losses.categorical_crossentropy,\n",
    "    metrics=[\"acc\"],\n",
    ")"
   ]
  },
  {
   "cell_type": "markdown",
   "metadata": {},
   "source": [
    "Train the model, keeping track of its loss and accuracy on the training set, and its generalisation performance on the validation set (we need to create another generator over the validation data for this)"
   ]
  },
  {
   "cell_type": "code",
   "execution_count": 16,
   "metadata": {},
   "outputs": [],
   "source": [
    "val_gen = generator.flow(val_data.index, val_targets)"
   ]
  },
  {
   "cell_type": "markdown",
   "metadata": {},
   "source": [
    "Create callbacks for early stopping (if validation accuracy stops improving) and best model checkpoint saving:"
   ]
  },
  {
   "cell_type": "code",
   "execution_count": 17,
   "metadata": {},
   "outputs": [],
   "source": [
    "if not os.path.isdir(\"logs\"):\n",
    "    os.makedirs(\"logs\")"
   ]
  },
  {
   "cell_type": "code",
   "execution_count": 18,
   "metadata": {},
   "outputs": [],
   "source": [
    "es_callback = EarlyStopping(monitor=\"val_acc\", patience=50)  # patience is the number of epochs to wait before early stopping in case of no further improvement\n",
    "\n",
    "mc_callback = ModelCheckpoint(\n",
    "    \"logs/best_ppnp_model.h5\",\n",
    "    monitor=\"val_acc\",\n",
    "    save_best_only=True,\n",
    "    save_weights_only=True,\n",
    ")"
   ]
  },
  {
   "cell_type": "markdown",
   "metadata": {},
   "source": [
    "Train the model"
   ]
  },
  {
   "cell_type": "code",
   "execution_count": 19,
   "metadata": {},
   "outputs": [
    {
     "name": "stdout",
     "output_type": "stream",
     "text": [
      "Epoch 1/80\n",
      "WARNING:tensorflow:From /Users/wil9dw/.pyenv/versions/sg2/lib/python3.6/site-packages/tensorflow_core/python/ops/array_grad.py:502: _EagerTensorBase.cpu (from tensorflow.python.framework.ops) is deprecated and will be removed in a future version.\n",
      "Instructions for updating:\n",
      "Use tf.identity instead.\n",
      "1/1 - 0s - loss: 2.1392 - acc: 0.1571 - val_loss: 2.0705 - val_acc: 0.3020\n",
      "Epoch 2/80\n",
      "1/1 - 0s - loss: 2.0728 - acc: 0.2786 - val_loss: 2.0074 - val_acc: 0.3020\n",
      "Epoch 3/80\n",
      "1/1 - 0s - loss: 1.9838 - acc: 0.2857 - val_loss: 1.9452 - val_acc: 0.3020\n",
      "Epoch 4/80\n",
      "1/1 - 0s - loss: 1.9290 - acc: 0.3214 - val_loss: 1.8816 - val_acc: 0.3020\n",
      "Epoch 5/80\n",
      "1/1 - 0s - loss: 1.8817 - acc: 0.3071 - val_loss: 1.8090 - val_acc: 0.3200\n",
      "Epoch 6/80\n",
      "1/1 - 0s - loss: 1.8470 - acc: 0.3286 - val_loss: 1.7360 - val_acc: 0.4020\n",
      "Epoch 7/80\n",
      "1/1 - 0s - loss: 1.7086 - acc: 0.3786 - val_loss: 1.6699 - val_acc: 0.4780\n",
      "Epoch 8/80\n",
      "1/1 - 0s - loss: 1.6698 - acc: 0.4214 - val_loss: 1.5997 - val_acc: 0.5640\n",
      "Epoch 9/80\n",
      "1/1 - 0s - loss: 1.5649 - acc: 0.5286 - val_loss: 1.5221 - val_acc: 0.6180\n",
      "Epoch 10/80\n",
      "1/1 - 0s - loss: 1.5539 - acc: 0.5500 - val_loss: 1.4453 - val_acc: 0.6380\n",
      "Epoch 11/80\n",
      "1/1 - 0s - loss: 1.4290 - acc: 0.5857 - val_loss: 1.3831 - val_acc: 0.6300\n",
      "Epoch 12/80\n",
      "1/1 - 0s - loss: 1.4167 - acc: 0.5929 - val_loss: 1.3293 - val_acc: 0.6240\n",
      "Epoch 13/80\n",
      "1/1 - 0s - loss: 1.3462 - acc: 0.6000 - val_loss: 1.2863 - val_acc: 0.6440\n",
      "Epoch 14/80\n",
      "1/1 - 0s - loss: 1.2099 - acc: 0.6714 - val_loss: 1.2517 - val_acc: 0.6740\n",
      "Epoch 15/80\n",
      "1/1 - 0s - loss: 1.2240 - acc: 0.6786 - val_loss: 1.2239 - val_acc: 0.6960\n",
      "Epoch 16/80\n",
      "1/1 - 0s - loss: 1.2296 - acc: 0.6714 - val_loss: 1.2056 - val_acc: 0.7060\n",
      "Epoch 17/80\n",
      "1/1 - 0s - loss: 1.1210 - acc: 0.7000 - val_loss: 1.1974 - val_acc: 0.7160\n",
      "Epoch 18/80\n",
      "1/1 - 0s - loss: 1.1426 - acc: 0.7071 - val_loss: 1.1892 - val_acc: 0.7140\n",
      "Epoch 19/80\n",
      "1/1 - 0s - loss: 1.0885 - acc: 0.7071 - val_loss: 1.1831 - val_acc: 0.7140\n",
      "Epoch 20/80\n",
      "1/1 - 0s - loss: 1.0973 - acc: 0.7357 - val_loss: 1.1784 - val_acc: 0.7160\n",
      "Epoch 21/80\n",
      "1/1 - 0s - loss: 1.0071 - acc: 0.7643 - val_loss: 1.1699 - val_acc: 0.7220\n",
      "Epoch 22/80\n",
      "1/1 - 0s - loss: 1.0883 - acc: 0.7214 - val_loss: 1.1625 - val_acc: 0.7280\n",
      "Epoch 23/80\n",
      "1/1 - 0s - loss: 1.0323 - acc: 0.7643 - val_loss: 1.1499 - val_acc: 0.7360\n",
      "Epoch 24/80\n",
      "1/1 - 0s - loss: 1.0020 - acc: 0.7786 - val_loss: 1.1342 - val_acc: 0.7420\n",
      "Epoch 25/80\n",
      "1/1 - 0s - loss: 1.0861 - acc: 0.7286 - val_loss: 1.1278 - val_acc: 0.7340\n",
      "Epoch 26/80\n",
      "1/1 - 0s - loss: 1.0441 - acc: 0.7143 - val_loss: 1.1293 - val_acc: 0.7280\n",
      "Epoch 27/80\n",
      "1/1 - 0s - loss: 1.0387 - acc: 0.7429 - val_loss: 1.1278 - val_acc: 0.7260\n",
      "Epoch 28/80\n",
      "1/1 - 0s - loss: 1.0092 - acc: 0.7571 - val_loss: 1.1227 - val_acc: 0.7280\n",
      "Epoch 29/80\n",
      "1/1 - 0s - loss: 0.9658 - acc: 0.7643 - val_loss: 1.1197 - val_acc: 0.7380\n",
      "Epoch 30/80\n",
      "1/1 - 0s - loss: 0.9303 - acc: 0.7786 - val_loss: 1.1205 - val_acc: 0.7360\n",
      "Epoch 31/80\n",
      "1/1 - 0s - loss: 0.9178 - acc: 0.7929 - val_loss: 1.1291 - val_acc: 0.7320\n",
      "Epoch 32/80\n",
      "1/1 - 0s - loss: 0.9677 - acc: 0.7714 - val_loss: 1.1427 - val_acc: 0.7300\n",
      "Epoch 33/80\n",
      "1/1 - 0s - loss: 0.9656 - acc: 0.7929 - val_loss: 1.1479 - val_acc: 0.7280\n",
      "Epoch 34/80\n",
      "1/1 - 0s - loss: 0.9451 - acc: 0.7929 - val_loss: 1.1460 - val_acc: 0.7240\n",
      "Epoch 35/80\n",
      "1/1 - 0s - loss: 0.8372 - acc: 0.8286 - val_loss: 1.1456 - val_acc: 0.7260\n",
      "Epoch 36/80\n",
      "1/1 - 0s - loss: 0.9728 - acc: 0.7643 - val_loss: 1.1409 - val_acc: 0.7200\n",
      "Epoch 37/80\n",
      "1/1 - 0s - loss: 0.9347 - acc: 0.8000 - val_loss: 1.1305 - val_acc: 0.7280\n",
      "Epoch 38/80\n",
      "1/1 - 0s - loss: 0.8718 - acc: 0.8143 - val_loss: 1.1213 - val_acc: 0.7240\n",
      "Epoch 39/80\n",
      "1/1 - 0s - loss: 0.8844 - acc: 0.7929 - val_loss: 1.1097 - val_acc: 0.7380\n",
      "Epoch 40/80\n",
      "1/1 - 0s - loss: 0.8186 - acc: 0.7929 - val_loss: 1.1043 - val_acc: 0.7400\n",
      "Epoch 41/80\n",
      "1/1 - 0s - loss: 0.8013 - acc: 0.8071 - val_loss: 1.0998 - val_acc: 0.7460\n",
      "Epoch 42/80\n",
      "1/1 - 0s - loss: 0.7741 - acc: 0.8357 - val_loss: 1.0960 - val_acc: 0.7480\n",
      "Epoch 43/80\n",
      "1/1 - 0s - loss: 0.7720 - acc: 0.8429 - val_loss: 1.0954 - val_acc: 0.7580\n",
      "Epoch 44/80\n",
      "1/1 - 0s - loss: 0.8348 - acc: 0.8143 - val_loss: 1.0967 - val_acc: 0.7660\n",
      "Epoch 45/80\n",
      "1/1 - 0s - loss: 0.8792 - acc: 0.8071 - val_loss: 1.1057 - val_acc: 0.7420\n",
      "Epoch 46/80\n",
      "1/1 - 0s - loss: 0.7683 - acc: 0.8286 - val_loss: 1.1237 - val_acc: 0.7320\n",
      "Epoch 47/80\n",
      "1/1 - 0s - loss: 0.8181 - acc: 0.8071 - val_loss: 1.1466 - val_acc: 0.7320\n",
      "Epoch 48/80\n",
      "1/1 - 0s - loss: 0.7975 - acc: 0.8071 - val_loss: 1.1531 - val_acc: 0.7280\n",
      "Epoch 49/80\n",
      "1/1 - 0s - loss: 0.7775 - acc: 0.7929 - val_loss: 1.1466 - val_acc: 0.7320\n",
      "Epoch 50/80\n",
      "1/1 - 0s - loss: 0.8733 - acc: 0.8000 - val_loss: 1.1321 - val_acc: 0.7380\n",
      "Epoch 51/80\n",
      "1/1 - 0s - loss: 0.7541 - acc: 0.8286 - val_loss: 1.1181 - val_acc: 0.7480\n",
      "Epoch 52/80\n",
      "1/1 - 0s - loss: 0.7252 - acc: 0.8286 - val_loss: 1.1070 - val_acc: 0.7460\n",
      "Epoch 53/80\n",
      "1/1 - 0s - loss: 0.6944 - acc: 0.8786 - val_loss: 1.0978 - val_acc: 0.7480\n",
      "Epoch 54/80\n",
      "1/1 - 0s - loss: 0.6470 - acc: 0.8857 - val_loss: 1.0912 - val_acc: 0.7460\n",
      "Epoch 55/80\n",
      "1/1 - 0s - loss: 0.7031 - acc: 0.8500 - val_loss: 1.0898 - val_acc: 0.7680\n",
      "Epoch 56/80\n",
      "1/1 - 0s - loss: 0.7893 - acc: 0.8357 - val_loss: 1.0939 - val_acc: 0.7720\n",
      "Epoch 57/80\n",
      "1/1 - 0s - loss: 0.7271 - acc: 0.8143 - val_loss: 1.0975 - val_acc: 0.7780\n",
      "Epoch 58/80\n",
      "1/1 - 0s - loss: 0.8585 - acc: 0.8143 - val_loss: 1.0959 - val_acc: 0.7700\n",
      "Epoch 59/80\n",
      "1/1 - 0s - loss: 0.6701 - acc: 0.8929 - val_loss: 1.1037 - val_acc: 0.7740\n",
      "Epoch 60/80\n",
      "1/1 - 0s - loss: 0.7404 - acc: 0.8500 - val_loss: 1.1088 - val_acc: 0.7760\n",
      "Epoch 61/80\n",
      "1/1 - 0s - loss: 0.7076 - acc: 0.8429 - val_loss: 1.1153 - val_acc: 0.7840\n",
      "Epoch 62/80\n",
      "1/1 - 0s - loss: 0.7565 - acc: 0.8214 - val_loss: 1.1133 - val_acc: 0.7840\n",
      "Epoch 63/80\n",
      "1/1 - 0s - loss: 0.7401 - acc: 0.8357 - val_loss: 1.1128 - val_acc: 0.7740\n",
      "Epoch 64/80\n",
      "1/1 - 0s - loss: 0.7259 - acc: 0.8643 - val_loss: 1.1020 - val_acc: 0.7880\n",
      "Epoch 65/80\n",
      "1/1 - 0s - loss: 0.7130 - acc: 0.8714 - val_loss: 1.0823 - val_acc: 0.7980\n",
      "Epoch 66/80\n",
      "1/1 - 0s - loss: 0.7431 - acc: 0.8571 - val_loss: 1.0787 - val_acc: 0.7880\n",
      "Epoch 67/80\n",
      "1/1 - 0s - loss: 0.7666 - acc: 0.8571 - val_loss: 1.0793 - val_acc: 0.7900\n",
      "Epoch 68/80\n",
      "1/1 - 0s - loss: 0.7609 - acc: 0.8357 - val_loss: 1.0843 - val_acc: 0.7920\n",
      "Epoch 69/80\n",
      "1/1 - 0s - loss: 0.6512 - acc: 0.9000 - val_loss: 1.0895 - val_acc: 0.7920\n",
      "Epoch 70/80\n",
      "1/1 - 0s - loss: 0.7096 - acc: 0.8929 - val_loss: 1.0825 - val_acc: 0.7960\n",
      "Epoch 71/80\n",
      "1/1 - 0s - loss: 0.6231 - acc: 0.9214 - val_loss: 1.0692 - val_acc: 0.7960\n",
      "Epoch 72/80\n",
      "1/1 - 0s - loss: 0.6196 - acc: 0.8929 - val_loss: 1.0581 - val_acc: 0.7980\n",
      "Epoch 73/80\n",
      "1/1 - 0s - loss: 0.7413 - acc: 0.8643 - val_loss: 1.0589 - val_acc: 0.7920\n",
      "Epoch 74/80\n",
      "1/1 - 0s - loss: 0.7560 - acc: 0.8571 - val_loss: 1.0575 - val_acc: 0.7960\n",
      "Epoch 75/80\n",
      "1/1 - 0s - loss: 0.7064 - acc: 0.9143 - val_loss: 1.0517 - val_acc: 0.7940\n",
      "Epoch 76/80\n",
      "1/1 - 0s - loss: 0.7343 - acc: 0.8286 - val_loss: 1.0490 - val_acc: 0.7980\n",
      "Epoch 77/80\n",
      "1/1 - 0s - loss: 0.6580 - acc: 0.8929 - val_loss: 1.0514 - val_acc: 0.8000\n",
      "Epoch 78/80\n",
      "1/1 - 0s - loss: 0.7202 - acc: 0.8786 - val_loss: 1.0412 - val_acc: 0.8080\n",
      "Epoch 79/80\n",
      "1/1 - 0s - loss: 0.6768 - acc: 0.8929 - val_loss: 1.0399 - val_acc: 0.8020\n",
      "Epoch 80/80\n",
      "1/1 - 0s - loss: 0.6842 - acc: 0.9143 - val_loss: 1.0669 - val_acc: 0.7940\n"
     ]
    }
   ],
   "source": [
    "history = ppnp_model.fit_generator(\n",
    "    train_gen,\n",
    "    epochs=80,\n",
    "    validation_data=val_gen,\n",
    "    verbose=2,\n",
    "    shuffle=False,  # this should be False, since shuffling data means shuffling the whole graph\n",
    "    callbacks=[es_callback, mc_callback],\n",
    ")"
   ]
  },
  {
   "cell_type": "markdown",
   "metadata": {},
   "source": [
    "Plot the training history:"
   ]
  },
  {
   "cell_type": "code",
   "execution_count": 20,
   "metadata": {},
   "outputs": [],
   "source": [
    "import matplotlib.pyplot as plt\n",
    "%matplotlib inline\n",
    "\n",
    "def remove_prefix(text, prefix):\n",
    "    return text[text.startswith(prefix) and len(prefix):]\n",
    "\n",
    "def plot_history(history):\n",
    "    metrics = sorted(set([remove_prefix(m, \"val_\") for m in list(history.history.keys())]))\n",
    "    for m in metrics:\n",
    "        # summarize history for metric m\n",
    "        plt.plot(history.history[m])\n",
    "        plt.plot(history.history['val_' + m])\n",
    "        plt.title(m)\n",
    "        plt.ylabel(m)\n",
    "        plt.xlabel('epoch')\n",
    "        plt.legend(['train', 'validation'], loc='best')\n",
    "        plt.show()"
   ]
  },
  {
   "cell_type": "code",
   "execution_count": 21,
   "metadata": {},
   "outputs": [
    {
     "data": {
      "image/png": "[encoded data removed]",
      "text/plain": [
       "<Figure size 432x288 with 1 Axes>"
      ]
     },
     "metadata": {
      "needs_background": "light"
     },
     "output_type": "display_data"
    },
    {
     "data": {
      "image/png": "[encoded data removed]",
      "text/plain": [
       "<Figure size 432x288 with 1 Axes>"
      ]
     },
     "metadata": {
      "needs_background": "light"
     },
     "output_type": "display_data"
    }
   ],
   "source": [
    "plot_history(history)"
   ]
  },
  {
   "cell_type": "markdown",
   "metadata": {},
   "source": [
    "Reload the saved weights of the best model found during the training (according to validation accuracy)"
   ]
  },
  {
   "cell_type": "code",
   "execution_count": 22,
   "metadata": {},
   "outputs": [],
   "source": [
    "ppnp_model.load_weights(\"logs/best_ppnp_model.h5\")"
   ]
  },
  {
   "cell_type": "markdown",
   "metadata": {},
   "source": [
    "Evaluate the best model on the test set"
   ]
  },
  {
   "cell_type": "code",
   "execution_count": 23,
   "metadata": {},
   "outputs": [],
   "source": [
    "test_gen = generator.flow(test_data.index, test_targets)"
   ]
  },
  {
   "cell_type": "code",
   "execution_count": 24,
   "metadata": {},
   "outputs": [
    {
     "name": "stdout",
     "output_type": "stream",
     "text": [
      "\n",
      "Test Set Metrics:\n",
      "\tloss: 0.9557\n",
      "\tacc: 0.8221\n"
     ]
    }
   ],
   "source": [
    "test_metrics = ppnp_model.evaluate_generator(test_gen)\n",
    "print(\"\\nTest Set Metrics:\")\n",
    "for name, val in zip(ppnp_model.metrics_names, test_metrics):\n",
    "    print(\"\\t{}: {:0.4f}\".format(name, val))"
   ]
  },
  {
   "cell_type": "markdown",
   "metadata": {},
   "source": [
    "## Using the Approximate PPNP Model\n",
    "\n",
    "Lets repeat the training and testing steps with the APPNP model using the same dataset. The downside of the PPNP is that you have to invert the adjacency matrix - which is time inneficient for large graphs - and store that invert matrix - which is space innefficient. The approximate model avoids this issue by using a clever mathematical trick. \n",
    "\n",
    "The APPNP model uses the normalized graph Laplacian. To get the normalized graph Laplacian we create a new `FullBatchNodeGenerator` and set `method=\"gcn\"`. We have the option of choosing `sparse=True` or `sparse=False` but will use `sparse=True` for memory efficiency."
   ]
  },
  {
   "cell_type": "code",
   "execution_count": 25,
   "metadata": {},
   "outputs": [
    {
     "name": "stdout",
     "output_type": "stream",
     "text": [
      "Using GCN (local pooling) filters...\n",
      "Epoch 1/120\n",
      "1/1 - 0s - loss: 2.1534 - acc: 0.1714 - val_loss: 2.0744 - val_acc: 0.3020\n",
      "Epoch 2/120\n",
      "1/1 - 0s - loss: 2.0728 - acc: 0.2357 - val_loss: 2.0190 - val_acc: 0.3020\n",
      "Epoch 3/120\n",
      "1/1 - 0s - loss: 2.0325 - acc: 0.2643 - val_loss: 1.9722 - val_acc: 0.3020\n",
      "Epoch 4/120\n",
      "1/1 - 0s - loss: 1.9673 - acc: 0.2929 - val_loss: 1.9138 - val_acc: 0.3020\n",
      "Epoch 5/120\n",
      "1/1 - 0s - loss: 2.0655 - acc: 0.2857 - val_loss: 1.8803 - val_acc: 0.3140\n",
      "Epoch 6/120\n",
      "1/1 - 0s - loss: 1.8931 - acc: 0.2786 - val_loss: 1.8441 - val_acc: 0.4900\n",
      "Epoch 7/120\n",
      "1/1 - 0s - loss: 1.8393 - acc: 0.3571 - val_loss: 1.8027 - val_acc: 0.5600\n",
      "Epoch 8/120\n",
      "1/1 - 0s - loss: 1.8200 - acc: 0.3857 - val_loss: 1.7419 - val_acc: 0.5900\n",
      "Epoch 9/120\n",
      "1/1 - 0s - loss: 1.7678 - acc: 0.3786 - val_loss: 1.6673 - val_acc: 0.6000\n",
      "Epoch 10/120\n",
      "1/1 - 0s - loss: 1.6620 - acc: 0.4929 - val_loss: 1.5935 - val_acc: 0.6140\n",
      "Epoch 11/120\n",
      "1/1 - 0s - loss: 1.7164 - acc: 0.4714 - val_loss: 1.5293 - val_acc: 0.6180\n",
      "Epoch 12/120\n",
      "1/1 - 0s - loss: 1.5523 - acc: 0.5500 - val_loss: 1.4643 - val_acc: 0.6260\n",
      "Epoch 13/120\n",
      "1/1 - 0s - loss: 1.6197 - acc: 0.5214 - val_loss: 1.4150 - val_acc: 0.6380\n",
      "Epoch 14/120\n",
      "1/1 - 0s - loss: 1.5485 - acc: 0.5143 - val_loss: 1.3784 - val_acc: 0.6280\n",
      "Epoch 15/120\n",
      "1/1 - 0s - loss: 1.4337 - acc: 0.5714 - val_loss: 1.3570 - val_acc: 0.6300\n",
      "Epoch 16/120\n",
      "1/1 - 0s - loss: 1.3937 - acc: 0.5714 - val_loss: 1.3371 - val_acc: 0.6200\n",
      "Epoch 17/120\n",
      "1/1 - 0s - loss: 1.4028 - acc: 0.5929 - val_loss: 1.3169 - val_acc: 0.6180\n",
      "Epoch 18/120\n",
      "1/1 - 0s - loss: 1.3228 - acc: 0.6357 - val_loss: 1.2927 - val_acc: 0.6300\n",
      "Epoch 19/120\n",
      "1/1 - 0s - loss: 1.3810 - acc: 0.6071 - val_loss: 1.2774 - val_acc: 0.6460\n",
      "Epoch 20/120\n",
      "1/1 - 0s - loss: 1.3867 - acc: 0.5929 - val_loss: 1.2713 - val_acc: 0.6440\n",
      "Epoch 21/120\n",
      "1/1 - 0s - loss: 1.3151 - acc: 0.6500 - val_loss: 1.2745 - val_acc: 0.6440\n",
      "Epoch 22/120\n",
      "1/1 - 0s - loss: 1.2367 - acc: 0.6857 - val_loss: 1.2807 - val_acc: 0.6400\n",
      "Epoch 23/120\n",
      "1/1 - 0s - loss: 1.2464 - acc: 0.6786 - val_loss: 1.2894 - val_acc: 0.6420\n",
      "Epoch 24/120\n",
      "1/1 - 0s - loss: 1.2066 - acc: 0.7000 - val_loss: 1.2929 - val_acc: 0.6360\n",
      "Epoch 25/120\n",
      "1/1 - 0s - loss: 1.1579 - acc: 0.6571 - val_loss: 1.2892 - val_acc: 0.6360\n",
      "Epoch 26/120\n",
      "1/1 - 0s - loss: 1.1334 - acc: 0.7071 - val_loss: 1.2819 - val_acc: 0.6380\n",
      "Epoch 27/120\n",
      "1/1 - 0s - loss: 1.1592 - acc: 0.6857 - val_loss: 1.2746 - val_acc: 0.6420\n",
      "Epoch 28/120\n",
      "1/1 - 0s - loss: 1.1724 - acc: 0.7071 - val_loss: 1.2649 - val_acc: 0.6440\n",
      "Epoch 29/120\n",
      "1/1 - 0s - loss: 1.1317 - acc: 0.7000 - val_loss: 1.2604 - val_acc: 0.6440\n",
      "Epoch 30/120\n",
      "1/1 - 0s - loss: 1.1498 - acc: 0.7214 - val_loss: 1.2597 - val_acc: 0.6460\n",
      "Epoch 31/120\n",
      "1/1 - 0s - loss: 1.1377 - acc: 0.7143 - val_loss: 1.2661 - val_acc: 0.6460\n",
      "Epoch 32/120\n",
      "1/1 - 0s - loss: 1.2472 - acc: 0.6571 - val_loss: 1.2803 - val_acc: 0.6380\n",
      "Epoch 33/120\n",
      "1/1 - 0s - loss: 1.2234 - acc: 0.6571 - val_loss: 1.2897 - val_acc: 0.6320\n",
      "Epoch 34/120\n",
      "1/1 - 0s - loss: 1.1124 - acc: 0.6929 - val_loss: 1.2917 - val_acc: 0.6420\n",
      "Epoch 35/120\n",
      "1/1 - 0s - loss: 1.1133 - acc: 0.7143 - val_loss: 1.2911 - val_acc: 0.6700\n",
      "Epoch 36/120\n",
      "1/1 - 0s - loss: 1.1326 - acc: 0.7000 - val_loss: 1.2822 - val_acc: 0.6940\n",
      "Epoch 37/120\n",
      "1/1 - 0s - loss: 1.0661 - acc: 0.7643 - val_loss: 1.2762 - val_acc: 0.7020\n",
      "Epoch 38/120\n",
      "1/1 - 0s - loss: 1.1472 - acc: 0.7357 - val_loss: 1.2664 - val_acc: 0.7020\n",
      "Epoch 39/120\n",
      "1/1 - 0s - loss: 1.1776 - acc: 0.7143 - val_loss: 1.2547 - val_acc: 0.7020\n",
      "Epoch 40/120\n",
      "1/1 - 0s - loss: 0.9837 - acc: 0.7571 - val_loss: 1.2444 - val_acc: 0.7000\n",
      "Epoch 41/120\n",
      "1/1 - 0s - loss: 1.1259 - acc: 0.7429 - val_loss: 1.2341 - val_acc: 0.7140\n",
      "Epoch 42/120\n",
      "1/1 - 0s - loss: 1.1429 - acc: 0.7286 - val_loss: 1.2430 - val_acc: 0.7060\n",
      "Epoch 43/120\n",
      "1/1 - 0s - loss: 1.0739 - acc: 0.7429 - val_loss: 1.2846 - val_acc: 0.6980\n",
      "Epoch 44/120\n",
      "1/1 - 0s - loss: 1.0545 - acc: 0.7571 - val_loss: 1.3172 - val_acc: 0.6880\n",
      "Epoch 45/120\n",
      "1/1 - 0s - loss: 1.1468 - acc: 0.7357 - val_loss: 1.2976 - val_acc: 0.6860\n",
      "Epoch 46/120\n",
      "1/1 - 0s - loss: 1.0442 - acc: 0.7643 - val_loss: 1.2689 - val_acc: 0.6900\n",
      "Epoch 47/120\n",
      "1/1 - 0s - loss: 1.0766 - acc: 0.7643 - val_loss: 1.2471 - val_acc: 0.7080\n",
      "Epoch 48/120\n",
      "1/1 - 0s - loss: 1.0512 - acc: 0.7214 - val_loss: 1.2371 - val_acc: 0.7180\n",
      "Epoch 49/120\n",
      "1/1 - 0s - loss: 1.0751 - acc: 0.7429 - val_loss: 1.2362 - val_acc: 0.7240\n",
      "Epoch 50/120\n",
      "1/1 - 0s - loss: 1.0109 - acc: 0.7500 - val_loss: 1.2314 - val_acc: 0.7200\n",
      "Epoch 51/120\n",
      "1/1 - 0s - loss: 0.9993 - acc: 0.7714 - val_loss: 1.2242 - val_acc: 0.7180\n",
      "Epoch 52/120\n",
      "1/1 - 0s - loss: 1.0663 - acc: 0.7214 - val_loss: 1.2169 - val_acc: 0.7220\n",
      "Epoch 53/120\n",
      "1/1 - 0s - loss: 0.9968 - acc: 0.7571 - val_loss: 1.2200 - val_acc: 0.7220\n",
      "Epoch 54/120\n",
      "1/1 - 0s - loss: 1.0282 - acc: 0.7643 - val_loss: 1.2360 - val_acc: 0.7220\n",
      "Epoch 55/120\n",
      "1/1 - 0s - loss: 0.9945 - acc: 0.7643 - val_loss: 1.2562 - val_acc: 0.7160\n",
      "Epoch 56/120\n",
      "1/1 - 0s - loss: 0.9326 - acc: 0.7643 - val_loss: 1.2803 - val_acc: 0.6980\n",
      "Epoch 57/120\n",
      "1/1 - 0s - loss: 1.0095 - acc: 0.7357 - val_loss: 1.2872 - val_acc: 0.6880\n",
      "Epoch 58/120\n",
      "1/1 - 0s - loss: 1.0039 - acc: 0.7714 - val_loss: 1.2756 - val_acc: 0.6860\n",
      "Epoch 59/120\n",
      "1/1 - 0s - loss: 0.9722 - acc: 0.8000 - val_loss: 1.2587 - val_acc: 0.6980\n",
      "Epoch 60/120\n",
      "1/1 - 0s - loss: 0.9778 - acc: 0.7786 - val_loss: 1.2397 - val_acc: 0.7060\n",
      "Epoch 61/120\n",
      "1/1 - 0s - loss: 1.0490 - acc: 0.7643 - val_loss: 1.2300 - val_acc: 0.7100\n",
      "Epoch 62/120\n",
      "1/1 - 0s - loss: 0.9249 - acc: 0.8214 - val_loss: 1.2265 - val_acc: 0.7020\n",
      "Epoch 63/120\n",
      "1/1 - 0s - loss: 0.9559 - acc: 0.7857 - val_loss: 1.2202 - val_acc: 0.7020\n",
      "Epoch 64/120\n",
      "1/1 - 0s - loss: 0.9856 - acc: 0.7929 - val_loss: 1.2184 - val_acc: 0.7040\n",
      "Epoch 65/120\n",
      "1/1 - 0s - loss: 1.0981 - acc: 0.7429 - val_loss: 1.2090 - val_acc: 0.7120\n",
      "Epoch 66/120\n",
      "1/1 - 0s - loss: 1.0398 - acc: 0.7714 - val_loss: 1.2009 - val_acc: 0.7160\n",
      "Epoch 67/120\n",
      "1/1 - 0s - loss: 0.9908 - acc: 0.7714 - val_loss: 1.2021 - val_acc: 0.7260\n",
      "Epoch 68/120\n",
      "1/1 - 0s - loss: 1.0601 - acc: 0.7929 - val_loss: 1.2017 - val_acc: 0.7320\n",
      "Epoch 69/120\n",
      "1/1 - 0s - loss: 0.9822 - acc: 0.7571 - val_loss: 1.2041 - val_acc: 0.7220\n",
      "Epoch 70/120\n",
      "1/1 - 0s - loss: 0.9502 - acc: 0.8286 - val_loss: 1.2061 - val_acc: 0.7300\n",
      "Epoch 71/120\n",
      "1/1 - 0s - loss: 0.9865 - acc: 0.8000 - val_loss: 1.2055 - val_acc: 0.7440\n",
      "Epoch 72/120\n",
      "1/1 - 0s - loss: 0.9090 - acc: 0.8429 - val_loss: 1.2077 - val_acc: 0.7440\n",
      "Epoch 73/120\n",
      "1/1 - 0s - loss: 0.9465 - acc: 0.8071 - val_loss: 1.2060 - val_acc: 0.7420\n",
      "Epoch 74/120\n",
      "1/1 - 0s - loss: 0.9501 - acc: 0.7786 - val_loss: 1.2120 - val_acc: 0.7460\n",
      "Epoch 75/120\n",
      "1/1 - 0s - loss: 0.9360 - acc: 0.8214 - val_loss: 1.2177 - val_acc: 0.7380\n",
      "Epoch 76/120\n",
      "1/1 - 0s - loss: 1.1550 - acc: 0.7714 - val_loss: 1.2189 - val_acc: 0.7380\n",
      "Epoch 77/120\n",
      "1/1 - 0s - loss: 0.9155 - acc: 0.7857 - val_loss: 1.2237 - val_acc: 0.7300\n",
      "Epoch 78/120\n",
      "1/1 - 0s - loss: 1.1606 - acc: 0.7786 - val_loss: 1.2387 - val_acc: 0.7220\n",
      "Epoch 79/120\n",
      "1/1 - 0s - loss: 1.0291 - acc: 0.8286 - val_loss: 1.2556 - val_acc: 0.7100\n",
      "Epoch 80/120\n",
      "1/1 - 0s - loss: 0.8497 - acc: 0.8714 - val_loss: 1.2649 - val_acc: 0.7120\n",
      "Epoch 81/120\n",
      "1/1 - 0s - loss: 0.8432 - acc: 0.8643 - val_loss: 1.2567 - val_acc: 0.7160\n",
      "Epoch 82/120\n",
      "1/1 - 0s - loss: 0.8536 - acc: 0.8714 - val_loss: 1.2387 - val_acc: 0.7280\n",
      "Epoch 83/120\n",
      "1/1 - 0s - loss: 0.8795 - acc: 0.8429 - val_loss: 1.2145 - val_acc: 0.7420\n",
      "Epoch 84/120\n",
      "1/1 - 0s - loss: 0.7957 - acc: 0.8857 - val_loss: 1.1935 - val_acc: 0.7380\n",
      "Epoch 85/120\n",
      "1/1 - 0s - loss: 0.8501 - acc: 0.8571 - val_loss: 1.1713 - val_acc: 0.7520\n",
      "Epoch 86/120\n",
      "1/1 - 0s - loss: 0.9266 - acc: 0.8571 - val_loss: 1.1516 - val_acc: 0.7640\n",
      "Epoch 87/120\n",
      "1/1 - 0s - loss: 0.8370 - acc: 0.8500 - val_loss: 1.1363 - val_acc: 0.7760\n",
      "Epoch 88/120\n",
      "1/1 - 0s - loss: 0.9143 - acc: 0.8429 - val_loss: 1.1230 - val_acc: 0.7760\n",
      "Epoch 89/120\n",
      "1/1 - 0s - loss: 0.8413 - acc: 0.8714 - val_loss: 1.1141 - val_acc: 0.7780\n",
      "Epoch 90/120\n",
      "1/1 - 0s - loss: 0.8744 - acc: 0.8357 - val_loss: 1.1107 - val_acc: 0.7740\n",
      "Epoch 91/120\n",
      "1/1 - 0s - loss: 0.8570 - acc: 0.8714 - val_loss: 1.1180 - val_acc: 0.7620\n",
      "Epoch 92/120\n",
      "1/1 - 0s - loss: 0.8891 - acc: 0.8357 - val_loss: 1.1427 - val_acc: 0.7580\n",
      "Epoch 93/120\n",
      "1/1 - 0s - loss: 0.9343 - acc: 0.8857 - val_loss: 1.1467 - val_acc: 0.7680\n",
      "Epoch 94/120\n",
      "1/1 - 0s - loss: 0.8370 - acc: 0.8571 - val_loss: 1.1431 - val_acc: 0.7720\n",
      "Epoch 95/120\n",
      "1/1 - 0s - loss: 1.0088 - acc: 0.8571 - val_loss: 1.1286 - val_acc: 0.7720\n",
      "Epoch 96/120\n",
      "1/1 - 0s - loss: 0.7648 - acc: 0.9000 - val_loss: 1.1181 - val_acc: 0.7720\n",
      "Epoch 97/120\n",
      "1/1 - 0s - loss: 0.8262 - acc: 0.8500 - val_loss: 1.1090 - val_acc: 0.7780\n",
      "Epoch 98/120\n",
      "1/1 - 0s - loss: 0.7701 - acc: 0.9071 - val_loss: 1.1062 - val_acc: 0.7840\n",
      "Epoch 99/120\n",
      "1/1 - 0s - loss: 0.8014 - acc: 0.8500 - val_loss: 1.1039 - val_acc: 0.7880\n",
      "Epoch 100/120\n",
      "1/1 - 0s - loss: 0.9002 - acc: 0.8357 - val_loss: 1.1091 - val_acc: 0.7780\n",
      "Epoch 101/120\n",
      "1/1 - 0s - loss: 0.9095 - acc: 0.8429 - val_loss: 1.1152 - val_acc: 0.7760\n",
      "Epoch 102/120\n",
      "1/1 - 0s - loss: 0.7791 - acc: 0.8857 - val_loss: 1.1354 - val_acc: 0.7760\n",
      "Epoch 103/120\n",
      "1/1 - 0s - loss: 0.7540 - acc: 0.9071 - val_loss: 1.1557 - val_acc: 0.7640\n",
      "Epoch 104/120\n",
      "1/1 - 0s - loss: 0.7447 - acc: 0.8714 - val_loss: 1.1795 - val_acc: 0.7620\n",
      "Epoch 105/120\n",
      "1/1 - 0s - loss: 0.8673 - acc: 0.8429 - val_loss: 1.1878 - val_acc: 0.7660\n",
      "Epoch 106/120\n",
      "1/1 - 0s - loss: 1.1026 - acc: 0.8214 - val_loss: 1.1773 - val_acc: 0.7640\n",
      "Epoch 107/120\n",
      "1/1 - 0s - loss: 0.7721 - acc: 0.8500 - val_loss: 1.1500 - val_acc: 0.7680\n",
      "Epoch 108/120\n",
      "1/1 - 0s - loss: 0.8778 - acc: 0.8643 - val_loss: 1.1225 - val_acc: 0.7860\n",
      "Epoch 109/120\n",
      "1/1 - 0s - loss: 0.7136 - acc: 0.9286 - val_loss: 1.1060 - val_acc: 0.7860\n",
      "Epoch 110/120\n",
      "1/1 - 0s - loss: 0.9033 - acc: 0.8714 - val_loss: 1.1005 - val_acc: 0.7880\n",
      "Epoch 111/120\n",
      "1/1 - 0s - loss: 0.8197 - acc: 0.9000 - val_loss: 1.0989 - val_acc: 0.7960\n",
      "Epoch 112/120\n",
      "1/1 - 0s - loss: 0.7034 - acc: 0.9071 - val_loss: 1.1024 - val_acc: 0.7960\n",
      "Epoch 113/120\n",
      "1/1 - 0s - loss: 0.6859 - acc: 0.9143 - val_loss: 1.1042 - val_acc: 0.8060\n",
      "Epoch 114/120\n",
      "1/1 - 0s - loss: 0.8283 - acc: 0.8643 - val_loss: 1.0944 - val_acc: 0.7960\n",
      "Epoch 115/120\n",
      "1/1 - 0s - loss: 0.8921 - acc: 0.8643 - val_loss: 1.0900 - val_acc: 0.7900\n",
      "Epoch 116/120\n",
      "1/1 - 0s - loss: 0.6929 - acc: 0.9357 - val_loss: 1.0970 - val_acc: 0.7900\n",
      "Epoch 117/120\n",
      "1/1 - 0s - loss: 0.8586 - acc: 0.9000 - val_loss: 1.1055 - val_acc: 0.7880\n",
      "Epoch 118/120\n",
      "1/1 - 0s - loss: 0.7931 - acc: 0.8786 - val_loss: 1.1191 - val_acc: 0.7800\n",
      "Epoch 119/120\n",
      "1/1 - 0s - loss: 0.7546 - acc: 0.9000 - val_loss: 1.1319 - val_acc: 0.7820\n",
      "Epoch 120/120\n",
      "1/1 - 0s - loss: 0.8064 - acc: 0.8929 - val_loss: 1.1339 - val_acc: 0.7820\n"
     ]
    }
   ],
   "source": [
    "generator = FullBatchNodeGenerator(G, method=\"gcn\", sparse=True)\n",
    "\n",
    "train_gen = generator.flow(train_data.index, train_targets)\n",
    "val_gen = generator.flow(val_data.index, val_targets)\n",
    "test_gen = generator.flow(test_data.index, test_targets)\n",
    "\n",
    "appnp = APPNP(layer_sizes=[64, 64, train_targets.shape[-1]], \n",
    "              activations=['relu', 'relu', 'relu'], \n",
    "              bias=True,\n",
    "              generator=generator, \n",
    "              teleport_probability=0.1, \n",
    "              dropout=0.5, \n",
    "              kernel_regularizer=keras.regularizers.l2(0.001)\n",
    ")\n",
    "\n",
    "x_inp, x_out = appnp.node_model()\n",
    "predictions = keras.layers.Softmax()(x_out)\n",
    "\n",
    "appnp_model = keras.models.Model(inputs=x_inp, outputs=predictions)\n",
    "appnp_model.compile(loss='categorical_crossentropy', metrics=['acc'],\n",
    "                  optimizer=keras.optimizers.Adam(lr=0.01))\n",
    "\n",
    "es_callback = EarlyStopping(monitor=\"val_acc\", patience=50)  # patience is the number of epochs to wait before early stopping in case of no further improvement\n",
    "\n",
    "mc_callback = ModelCheckpoint(\n",
    "    \"logs/best_appnp_model.h5\",\n",
    "    monitor=\"val_acc\",\n",
    "    save_best_only=True,\n",
    "    save_weights_only=True,\n",
    ")\n",
    "\n",
    "history = appnp_model.fit_generator(\n",
    "    train_gen,\n",
    "    epochs=120,\n",
    "    validation_data=val_gen,\n",
    "    verbose=2,\n",
    "    shuffle=False,  # this should be False, since shuffling data means shuffling the whole graph\n",
    "    callbacks=[es_callback, mc_callback],\n",
    ")"
   ]
  },
  {
   "cell_type": "code",
   "execution_count": 26,
   "metadata": {},
   "outputs": [
    {
     "data": {
      "image/png": "[encoded data removed]",
      "text/plain": [
       "<Figure size 432x288 with 1 Axes>"
      ]
     },
     "metadata": {
      "needs_background": "light"
     },
     "output_type": "display_data"
    },
    {
     "data": {
      "image/png": "[encoded data removed]",
      "text/plain": [
       "<Figure size 432x288 with 1 Axes>"
      ]
     },
     "metadata": {
      "needs_background": "light"
     },
     "output_type": "display_data"
    }
   ],
   "source": [
    "plot_history(history)"
   ]
  },
  {
   "cell_type": "code",
   "execution_count": 27,
   "metadata": {},
   "outputs": [
    {
     "name": "stdout",
     "output_type": "stream",
     "text": [
      "\n",
      "Test Set Metrics:\n",
      "\tloss: 1.0331\n",
      "\tacc: 0.8283\n"
     ]
    }
   ],
   "source": [
    "appnp_model.load_weights(\"logs/best_appnp_model.h5\")\n",
    "test_metrics = appnp_model.evaluate_generator(test_gen)\n",
    "print(\"\\nTest Set Metrics:\")\n",
    "for name, val in zip(appnp_model.metrics_names, test_metrics):\n",
    "    print(\"\\t{}: {:0.4f}\".format(name, val))"
   ]
  },
  {
   "cell_type": "markdown",
   "metadata": {},
   "source": [
    "### Scalable APPNP Training\n",
    "\n",
    "Now we're going to exploit the structure of PPNP for scalable training. PPNP consists of a fully-connected neural network followed by a graph propogation step. For each node, the fully-connected network outputs a score for each class and the propogaiton step basically takes a weighted average of scores of nearby nodes (closer nodes are weighted higher). \n",
    "\n",
    "Above, we trained the whole network end-to-end which obtains the most accurate results but  requires us to load the entire graph onto our GPU memory. This is because we need the entire graph for the propogation step. Unfortunately, this limits the graph size by our GPU memory. To get around this, we can train the fully-connected network separately and once we have a trained fully connected network we can add the graph propagation step.  The advantage of this approach is that we can train on batches of node features instead of the entire graph.\n",
    "\n",
    "The model in the propagation step can be any keras model trained on node features to predict the target classes. In this example we use a fully connected neural network with bag of word features as input. We could easily swap out the bag of words features for the complete text and replace the fully connected network with a state-of-the-art NLP model (for example BERT [1]), fine-tune the model and propagate its predictions.\n",
    "\n",
    "\n",
    "<br>\n",
    "\n",
    "1. Devlin, J., Chang, M. W., Lee, K., & Toutanova, K. (2018). Bert: Pre-training of deep bidirectional transformers for language understanding. https://arxiv.org/abs/1810.04805"
   ]
  },
  {
   "cell_type": "markdown",
   "metadata": {},
   "source": [
    "First we create and train a fully connected model."
   ]
  },
  {
   "cell_type": "code",
   "execution_count": 28,
   "metadata": {},
   "outputs": [],
   "source": [
    "model = keras.models.Model()\n",
    "\n",
    "in_layer = layers.Input(shape=(len(feature_names),))\n",
    "\n",
    "layer = layers.Dropout(0.5)(in_layer)\n",
    "layer = layers.Dense(64, activation='relu', kernel_regularizer=\"l2\")(layer)\n",
    "layer = layers.Dropout(0.5)(layer)\n",
    "layer = layers.Dense(64, activation='relu', kernel_regularizer=\"l2\")(layer)\n",
    "layer = layers.Dropout(0.5)(layer)\n",
    "\n",
    "#note the dimension of the output should equal the number of classes to predict!\n",
    "layer = layers.Dense(train_targets.shape[-1], activation='relu')(layer)\n",
    "layer = layers.Softmax()(layer)\n",
    "\n",
    "fully_connected_model = keras.models.Model(inputs=in_layer, outputs=layer)\n",
    "\n",
    "fully_connected_model.compile(\n",
    "    loss='categorical_crossentropy', \n",
    "    metrics=['acc'],\n",
    "    optimizer=optimizers.Adam(lr=0.01)\n",
    ")\n",
    "\n",
    "#the inputs are just the node features\n",
    "X_train = train_data[feature_names].values.astype(np.float32)\n",
    "X_val = val_data[feature_names].values.astype(np.float32)"
   ]
  },
  {
   "cell_type": "code",
   "execution_count": 29,
   "metadata": {},
   "outputs": [
    {
     "name": "stdout",
     "output_type": "stream",
     "text": [
      "Train on 140 samples, validate on 500 samples\n",
      "Epoch 1/2000\n",
      "140/140 [==============================] - 1s 5ms/sample - loss: 3.7791 - acc: 0.2357 - val_loss: 3.2751 - val_acc: 0.3040\n",
      "Epoch 2/2000\n",
      "140/140 [==============================] - 0s 161us/sample - loss: 3.2731 - acc: 0.2071 - val_loss: 2.9062 - val_acc: 0.3080\n",
      "Epoch 3/2000\n",
      "140/140 [==============================] - 0s 130us/sample - loss: 2.8521 - acc: 0.3500 - val_loss: 2.6513 - val_acc: 0.3040\n",
      "Epoch 4/2000\n",
      "140/140 [==============================] - 0s 130us/sample - loss: 2.5888 - acc: 0.3071 - val_loss: 2.4822 - val_acc: 0.3020\n",
      "Epoch 5/2000\n",
      "140/140 [==============================] - 0s 124us/sample - loss: 2.3900 - acc: 0.3429 - val_loss: 2.3760 - val_acc: 0.3020\n",
      "Epoch 6/2000\n",
      "140/140 [==============================] - 0s 126us/sample - loss: 2.2794 - acc: 0.3357 - val_loss: 2.3159 - val_acc: 0.3020\n",
      "Epoch 7/2000\n",
      "140/140 [==============================] - 0s 135us/sample - loss: 2.1283 - acc: 0.3857 - val_loss: 2.2824 - val_acc: 0.3080\n",
      "Epoch 8/2000\n",
      "140/140 [==============================] - 0s 202us/sample - loss: 2.1116 - acc: 0.3786 - val_loss: 2.2579 - val_acc: 0.3300\n",
      "Epoch 9/2000\n",
      "140/140 [==============================] - 0s 194us/sample - loss: 2.0623 - acc: 0.3643 - val_loss: 2.2350 - val_acc: 0.3840\n",
      "Epoch 10/2000\n",
      "140/140 [==============================] - 0s 156us/sample - loss: 2.0200 - acc: 0.4429 - val_loss: 2.2130 - val_acc: 0.4360\n",
      "Epoch 11/2000\n",
      "140/140 [==============================] - 0s 127us/sample - loss: 1.9070 - acc: 0.4929 - val_loss: 2.1906 - val_acc: 0.4340\n",
      "Epoch 12/2000\n",
      "140/140 [==============================] - 0s 178us/sample - loss: 1.8546 - acc: 0.5571 - val_loss: 2.1605 - val_acc: 0.4520\n",
      "Epoch 13/2000\n",
      "140/140 [==============================] - 0s 185us/sample - loss: 1.7917 - acc: 0.5571 - val_loss: 2.1188 - val_acc: 0.4700\n",
      "Epoch 14/2000\n",
      "140/140 [==============================] - 0s 183us/sample - loss: 1.7040 - acc: 0.5714 - val_loss: 2.0703 - val_acc: 0.4900\n",
      "Epoch 15/2000\n",
      "140/140 [==============================] - 0s 189us/sample - loss: 1.6364 - acc: 0.6429 - val_loss: 2.0279 - val_acc: 0.5020\n",
      "Epoch 16/2000\n",
      "140/140 [==============================] - 0s 172us/sample - loss: 1.6312 - acc: 0.6357 - val_loss: 1.9991 - val_acc: 0.5160\n",
      "Epoch 17/2000\n",
      "140/140 [==============================] - 0s 112us/sample - loss: 1.5058 - acc: 0.6429 - val_loss: 1.9805 - val_acc: 0.5140\n",
      "Epoch 18/2000\n",
      "140/140 [==============================] - 0s 129us/sample - loss: 1.4607 - acc: 0.6714 - val_loss: 1.9653 - val_acc: 0.5100\n",
      "Epoch 19/2000\n",
      "140/140 [==============================] - 0s 130us/sample - loss: 1.4666 - acc: 0.6286 - val_loss: 1.9521 - val_acc: 0.5120\n",
      "Epoch 20/2000\n",
      "140/140 [==============================] - 0s 124us/sample - loss: 1.4554 - acc: 0.6857 - val_loss: 1.9416 - val_acc: 0.5080\n",
      "Epoch 21/2000\n",
      "140/140 [==============================] - 0s 188us/sample - loss: 1.3317 - acc: 0.7071 - val_loss: 1.9390 - val_acc: 0.5200\n",
      "Epoch 22/2000\n",
      "140/140 [==============================] - 0s 178us/sample - loss: 1.3815 - acc: 0.6857 - val_loss: 1.9360 - val_acc: 0.5240\n",
      "Epoch 23/2000\n",
      "140/140 [==============================] - 0s 164us/sample - loss: 1.3212 - acc: 0.7000 - val_loss: 1.9313 - val_acc: 0.5340\n",
      "Epoch 24/2000\n",
      "140/140 [==============================] - 0s 168us/sample - loss: 1.2833 - acc: 0.7643 - val_loss: 1.9217 - val_acc: 0.5480\n",
      "Epoch 25/2000\n",
      "140/140 [==============================] - 0s 117us/sample - loss: 1.2605 - acc: 0.7500 - val_loss: 1.9114 - val_acc: 0.5460\n",
      "Epoch 26/2000\n",
      "140/140 [==============================] - 0s 119us/sample - loss: 1.2736 - acc: 0.7714 - val_loss: 1.9023 - val_acc: 0.5440\n",
      "Epoch 27/2000\n",
      "140/140 [==============================] - 0s 135us/sample - loss: 1.2074 - acc: 0.7929 - val_loss: 1.8935 - val_acc: 0.5380\n",
      "Epoch 28/2000\n",
      "140/140 [==============================] - 0s 134us/sample - loss: 1.2301 - acc: 0.8214 - val_loss: 1.8901 - val_acc: 0.5320\n",
      "Epoch 29/2000\n",
      "140/140 [==============================] - 0s 136us/sample - loss: 1.1917 - acc: 0.8071 - val_loss: 1.8827 - val_acc: 0.5260\n",
      "Epoch 30/2000\n",
      "140/140 [==============================] - 0s 142us/sample - loss: 1.1702 - acc: 0.7786 - val_loss: 1.8740 - val_acc: 0.5300\n",
      "Epoch 31/2000\n",
      "140/140 [==============================] - 0s 157us/sample - loss: 1.1754 - acc: 0.8214 - val_loss: 1.8621 - val_acc: 0.5280\n",
      "Epoch 32/2000\n",
      "140/140 [==============================] - 0s 162us/sample - loss: 1.1339 - acc: 0.8214 - val_loss: 1.8517 - val_acc: 0.5300\n",
      "Epoch 33/2000\n",
      "140/140 [==============================] - 0s 137us/sample - loss: 1.1264 - acc: 0.8000 - val_loss: 1.8407 - val_acc: 0.5320\n",
      "Epoch 34/2000\n",
      "140/140 [==============================] - 0s 135us/sample - loss: 1.1315 - acc: 0.8143 - val_loss: 1.8344 - val_acc: 0.5380\n",
      "Epoch 35/2000\n",
      "140/140 [==============================] - 0s 157us/sample - loss: 1.1528 - acc: 0.7929 - val_loss: 1.8340 - val_acc: 0.5360\n",
      "Epoch 36/2000\n",
      "140/140 [==============================] - 0s 141us/sample - loss: 1.1303 - acc: 0.7714 - val_loss: 1.8379 - val_acc: 0.5320\n",
      "Epoch 37/2000\n",
      "140/140 [==============================] - 0s 131us/sample - loss: 1.0423 - acc: 0.8214 - val_loss: 1.8435 - val_acc: 0.5400\n",
      "Epoch 38/2000\n",
      "140/140 [==============================] - 0s 121us/sample - loss: 1.0797 - acc: 0.8000 - val_loss: 1.8493 - val_acc: 0.5280\n",
      "Epoch 39/2000\n",
      "140/140 [==============================] - 0s 115us/sample - loss: 1.0783 - acc: 0.8071 - val_loss: 1.8521 - val_acc: 0.5180\n",
      "Epoch 40/2000\n",
      "140/140 [==============================] - 0s 112us/sample - loss: 1.0726 - acc: 0.8143 - val_loss: 1.8619 - val_acc: 0.5100\n",
      "Epoch 41/2000\n",
      "140/140 [==============================] - 0s 124us/sample - loss: 1.1896 - acc: 0.7857 - val_loss: 1.8591 - val_acc: 0.5080\n",
      "Epoch 42/2000\n",
      "140/140 [==============================] - 0s 118us/sample - loss: 1.0480 - acc: 0.8000 - val_loss: 1.8536 - val_acc: 0.5160\n",
      "Epoch 43/2000\n",
      "140/140 [==============================] - 0s 120us/sample - loss: 1.0205 - acc: 0.8357 - val_loss: 1.8612 - val_acc: 0.5160\n",
      "Epoch 44/2000\n",
      "140/140 [==============================] - 0s 106us/sample - loss: 1.0831 - acc: 0.8071 - val_loss: 1.8555 - val_acc: 0.5200\n",
      "Epoch 45/2000\n",
      "140/140 [==============================] - 0s 113us/sample - loss: 1.0439 - acc: 0.8357 - val_loss: 1.8438 - val_acc: 0.5280\n",
      "Epoch 46/2000\n",
      "140/140 [==============================] - 0s 122us/sample - loss: 1.0510 - acc: 0.8000 - val_loss: 1.8342 - val_acc: 0.5260\n",
      "Epoch 47/2000\n",
      "140/140 [==============================] - 0s 121us/sample - loss: 1.0427 - acc: 0.8071 - val_loss: 1.8351 - val_acc: 0.5340\n",
      "Epoch 48/2000\n",
      "140/140 [==============================] - 0s 134us/sample - loss: 1.0023 - acc: 0.8286 - val_loss: 1.8441 - val_acc: 0.5420\n",
      "Epoch 49/2000\n",
      "140/140 [==============================] - 0s 115us/sample - loss: 1.0827 - acc: 0.8071 - val_loss: 1.8419 - val_acc: 0.5440\n",
      "Epoch 50/2000\n",
      "140/140 [==============================] - 0s 160us/sample - loss: 0.9794 - acc: 0.8214 - val_loss: 1.8331 - val_acc: 0.5520\n",
      "Epoch 51/2000\n",
      "140/140 [==============================] - 0s 180us/sample - loss: 1.0801 - acc: 0.8143 - val_loss: 1.8204 - val_acc: 0.5580\n",
      "Epoch 52/2000\n",
      "140/140 [==============================] - 0s 192us/sample - loss: 1.0976 - acc: 0.7786 - val_loss: 1.8158 - val_acc: 0.5620\n",
      "Epoch 53/2000\n",
      "140/140 [==============================] - 0s 127us/sample - loss: 1.0531 - acc: 0.8214 - val_loss: 1.8137 - val_acc: 0.5500\n",
      "Epoch 54/2000\n",
      "140/140 [==============================] - 0s 133us/sample - loss: 1.0612 - acc: 0.8071 - val_loss: 1.8175 - val_acc: 0.5440\n",
      "Epoch 55/2000\n",
      "140/140 [==============================] - 0s 126us/sample - loss: 1.0498 - acc: 0.8143 - val_loss: 1.8205 - val_acc: 0.5400\n",
      "Epoch 56/2000\n",
      "140/140 [==============================] - 0s 134us/sample - loss: 1.0348 - acc: 0.8143 - val_loss: 1.8282 - val_acc: 0.5340\n",
      "Epoch 57/2000\n",
      "140/140 [==============================] - 0s 130us/sample - loss: 1.0561 - acc: 0.8071 - val_loss: 1.8344 - val_acc: 0.5340\n",
      "Epoch 58/2000\n",
      "140/140 [==============================] - 0s 123us/sample - loss: 1.0077 - acc: 0.8071 - val_loss: 1.8471 - val_acc: 0.5360\n",
      "Epoch 59/2000\n",
      "140/140 [==============================] - 0s 129us/sample - loss: 1.0586 - acc: 0.7786 - val_loss: 1.8593 - val_acc: 0.5260\n",
      "Epoch 60/2000\n",
      "140/140 [==============================] - 0s 123us/sample - loss: 1.0077 - acc: 0.8286 - val_loss: 1.8672 - val_acc: 0.5260\n",
      "Epoch 61/2000\n",
      "140/140 [==============================] - 0s 126us/sample - loss: 1.0104 - acc: 0.8214 - val_loss: 1.8725 - val_acc: 0.5180\n",
      "Epoch 62/2000\n",
      "140/140 [==============================] - 0s 128us/sample - loss: 1.0484 - acc: 0.8000 - val_loss: 1.8853 - val_acc: 0.5140\n",
      "Epoch 63/2000\n",
      "140/140 [==============================] - 0s 132us/sample - loss: 1.0246 - acc: 0.8357 - val_loss: 1.8988 - val_acc: 0.5080\n",
      "Epoch 64/2000\n",
      "140/140 [==============================] - 0s 122us/sample - loss: 1.0230 - acc: 0.8071 - val_loss: 1.8902 - val_acc: 0.5120\n",
      "Epoch 65/2000\n",
      "140/140 [==============================] - 0s 135us/sample - loss: 1.0667 - acc: 0.7929 - val_loss: 1.8787 - val_acc: 0.5280\n",
      "Epoch 66/2000\n",
      "140/140 [==============================] - 0s 128us/sample - loss: 1.0813 - acc: 0.8071 - val_loss: 1.8768 - val_acc: 0.5420\n",
      "Epoch 67/2000\n",
      "140/140 [==============================] - 0s 138us/sample - loss: 0.9909 - acc: 0.8214 - val_loss: 1.8888 - val_acc: 0.5400\n",
      "Epoch 68/2000\n",
      "140/140 [==============================] - 0s 134us/sample - loss: 1.0961 - acc: 0.7929 - val_loss: 1.8933 - val_acc: 0.5460\n",
      "Epoch 69/2000\n",
      "140/140 [==============================] - 0s 116us/sample - loss: 1.1605 - acc: 0.7786 - val_loss: 1.8795 - val_acc: 0.5500\n",
      "Epoch 70/2000\n",
      "140/140 [==============================] - 0s 127us/sample - loss: 1.1933 - acc: 0.7643 - val_loss: 1.8634 - val_acc: 0.5300\n",
      "Epoch 71/2000\n",
      "140/140 [==============================] - 0s 126us/sample - loss: 1.1000 - acc: 0.8143 - val_loss: 1.8682 - val_acc: 0.5360\n",
      "Epoch 72/2000\n",
      "140/140 [==============================] - 0s 129us/sample - loss: 1.1184 - acc: 0.7857 - val_loss: 1.8842 - val_acc: 0.5260\n",
      "Epoch 73/2000\n",
      "140/140 [==============================] - 0s 129us/sample - loss: 1.0487 - acc: 0.8143 - val_loss: 1.8915 - val_acc: 0.5180\n",
      "Epoch 74/2000\n",
      "140/140 [==============================] - 0s 134us/sample - loss: 1.1164 - acc: 0.7929 - val_loss: 1.8846 - val_acc: 0.5220\n",
      "Epoch 75/2000\n",
      "140/140 [==============================] - 0s 130us/sample - loss: 1.1378 - acc: 0.7786 - val_loss: 1.8700 - val_acc: 0.5340\n",
      "Epoch 76/2000\n",
      "140/140 [==============================] - 0s 125us/sample - loss: 0.9836 - acc: 0.8429 - val_loss: 1.8676 - val_acc: 0.5440\n",
      "Epoch 77/2000\n",
      "140/140 [==============================] - 0s 137us/sample - loss: 1.0665 - acc: 0.8071 - val_loss: 1.8847 - val_acc: 0.5400\n",
      "Epoch 78/2000\n",
      "140/140 [==============================] - 0s 129us/sample - loss: 1.0948 - acc: 0.8143 - val_loss: 1.9061 - val_acc: 0.5260\n",
      "Epoch 79/2000\n",
      "140/140 [==============================] - 0s 134us/sample - loss: 1.0243 - acc: 0.8071 - val_loss: 1.9159 - val_acc: 0.5160\n",
      "Epoch 80/2000\n",
      "140/140 [==============================] - 0s 134us/sample - loss: 1.0020 - acc: 0.8214 - val_loss: 1.9088 - val_acc: 0.5260\n",
      "Epoch 81/2000\n",
      "140/140 [==============================] - 0s 130us/sample - loss: 1.1771 - acc: 0.7714 - val_loss: 1.8788 - val_acc: 0.5360\n",
      "Epoch 82/2000\n",
      "140/140 [==============================] - 0s 116us/sample - loss: 1.0689 - acc: 0.7929 - val_loss: 1.8632 - val_acc: 0.5440\n",
      "Epoch 83/2000\n",
      "140/140 [==============================] - 0s 123us/sample - loss: 1.0451 - acc: 0.8000 - val_loss: 1.8763 - val_acc: 0.5280\n",
      "Epoch 84/2000\n",
      "140/140 [==============================] - 0s 122us/sample - loss: 1.0736 - acc: 0.8143 - val_loss: 1.8887 - val_acc: 0.5100\n",
      "Epoch 85/2000\n",
      "140/140 [==============================] - 0s 127us/sample - loss: 1.0791 - acc: 0.8000 - val_loss: 1.8899 - val_acc: 0.5080\n",
      "Epoch 86/2000\n",
      "140/140 [==============================] - 0s 129us/sample - loss: 1.0488 - acc: 0.8000 - val_loss: 1.8865 - val_acc: 0.5040\n",
      "Epoch 87/2000\n",
      "140/140 [==============================] - 0s 124us/sample - loss: 1.1115 - acc: 0.7857 - val_loss: 1.8798 - val_acc: 0.5040\n",
      "Epoch 88/2000\n",
      "140/140 [==============================] - 0s 127us/sample - loss: 1.0083 - acc: 0.8214 - val_loss: 1.8704 - val_acc: 0.5100\n",
      "Epoch 89/2000\n",
      "140/140 [==============================] - 0s 125us/sample - loss: 1.0457 - acc: 0.7929 - val_loss: 1.8648 - val_acc: 0.5300\n",
      "Epoch 90/2000\n",
      "140/140 [==============================] - 0s 116us/sample - loss: 0.9899 - acc: 0.8286 - val_loss: 1.8604 - val_acc: 0.5260\n",
      "Epoch 91/2000\n",
      "140/140 [==============================] - 0s 132us/sample - loss: 1.0463 - acc: 0.8357 - val_loss: 1.8551 - val_acc: 0.5340\n",
      "Epoch 92/2000\n",
      "140/140 [==============================] - 0s 120us/sample - loss: 0.9886 - acc: 0.8571 - val_loss: 1.8526 - val_acc: 0.5600\n",
      "Epoch 93/2000\n",
      "140/140 [==============================] - 0s 186us/sample - loss: 1.0527 - acc: 0.8214 - val_loss: 1.8521 - val_acc: 0.5680\n",
      "Epoch 94/2000\n",
      "140/140 [==============================] - 0s 172us/sample - loss: 1.0386 - acc: 0.8000 - val_loss: 1.8501 - val_acc: 0.5700\n",
      "Epoch 95/2000\n",
      "140/140 [==============================] - 0s 126us/sample - loss: 1.0116 - acc: 0.8143 - val_loss: 1.8494 - val_acc: 0.5600\n",
      "Epoch 96/2000\n",
      "140/140 [==============================] - 0s 128us/sample - loss: 0.9430 - acc: 0.9143 - val_loss: 1.8550 - val_acc: 0.5540\n",
      "Epoch 97/2000\n",
      "140/140 [==============================] - 0s 126us/sample - loss: 0.9999 - acc: 0.8429 - val_loss: 1.8635 - val_acc: 0.5500\n",
      "Epoch 98/2000\n",
      "140/140 [==============================] - 0s 124us/sample - loss: 1.0219 - acc: 0.8500 - val_loss: 1.8711 - val_acc: 0.5500\n",
      "Epoch 99/2000\n",
      "140/140 [==============================] - 0s 128us/sample - loss: 0.9927 - acc: 0.8643 - val_loss: 1.8746 - val_acc: 0.5460\n",
      "Epoch 100/2000\n",
      "140/140 [==============================] - 0s 138us/sample - loss: 0.9968 - acc: 0.8714 - val_loss: 1.8737 - val_acc: 0.5560\n",
      "Epoch 101/2000\n",
      "140/140 [==============================] - 0s 128us/sample - loss: 0.9109 - acc: 0.8857 - val_loss: 1.8717 - val_acc: 0.5500\n",
      "Epoch 102/2000\n",
      "140/140 [==============================] - 0s 118us/sample - loss: 0.9261 - acc: 0.9000 - val_loss: 1.8734 - val_acc: 0.5640\n",
      "Epoch 103/2000\n",
      "140/140 [==============================] - 0s 111us/sample - loss: 1.0490 - acc: 0.8500 - val_loss: 1.8835 - val_acc: 0.5520\n",
      "Epoch 104/2000\n",
      "140/140 [==============================] - 0s 128us/sample - loss: 0.9874 - acc: 0.8857 - val_loss: 1.9035 - val_acc: 0.5320\n",
      "Epoch 105/2000\n",
      "140/140 [==============================] - 0s 130us/sample - loss: 1.0539 - acc: 0.8571 - val_loss: 1.9156 - val_acc: 0.5120\n",
      "Epoch 106/2000\n",
      "140/140 [==============================] - 0s 118us/sample - loss: 0.9698 - acc: 0.8857 - val_loss: 1.9139 - val_acc: 0.5220\n",
      "Epoch 107/2000\n",
      "140/140 [==============================] - 0s 125us/sample - loss: 1.0465 - acc: 0.8786 - val_loss: 1.9032 - val_acc: 0.5300\n",
      "Epoch 108/2000\n",
      "140/140 [==============================] - 0s 125us/sample - loss: 1.0132 - acc: 0.8857 - val_loss: 1.8958 - val_acc: 0.5280\n",
      "Epoch 109/2000\n",
      "140/140 [==============================] - 0s 121us/sample - loss: 0.9745 - acc: 0.8714 - val_loss: 1.8955 - val_acc: 0.5460\n",
      "Epoch 110/2000\n",
      "140/140 [==============================] - 0s 136us/sample - loss: 0.9697 - acc: 0.8643 - val_loss: 1.9046 - val_acc: 0.5340\n",
      "Epoch 111/2000\n",
      "140/140 [==============================] - 0s 112us/sample - loss: 1.0286 - acc: 0.8571 - val_loss: 1.9145 - val_acc: 0.5240\n",
      "Epoch 112/2000\n",
      "140/140 [==============================] - 0s 120us/sample - loss: 1.0271 - acc: 0.8643 - val_loss: 1.9125 - val_acc: 0.5220\n",
      "Epoch 113/2000\n",
      "140/140 [==============================] - 0s 113us/sample - loss: 0.9747 - acc: 0.8643 - val_loss: 1.9096 - val_acc: 0.5120\n",
      "Epoch 114/2000\n",
      "140/140 [==============================] - 0s 133us/sample - loss: 1.0075 - acc: 0.8571 - val_loss: 1.9114 - val_acc: 0.5140\n",
      "Epoch 115/2000\n",
      "140/140 [==============================] - 0s 119us/sample - loss: 1.0086 - acc: 0.8571 - val_loss: 1.9107 - val_acc: 0.5220\n",
      "Epoch 116/2000\n",
      "140/140 [==============================] - 0s 114us/sample - loss: 0.9446 - acc: 0.9071 - val_loss: 1.9147 - val_acc: 0.5200\n",
      "Epoch 117/2000\n",
      "140/140 [==============================] - 0s 110us/sample - loss: 0.9431 - acc: 0.8786 - val_loss: 1.9214 - val_acc: 0.5220\n",
      "Epoch 118/2000\n",
      "140/140 [==============================] - 0s 115us/sample - loss: 0.9548 - acc: 0.8714 - val_loss: 1.9221 - val_acc: 0.5180\n",
      "Epoch 119/2000\n",
      "140/140 [==============================] - 0s 123us/sample - loss: 0.9586 - acc: 0.8714 - val_loss: 1.9172 - val_acc: 0.5140\n",
      "Epoch 120/2000\n",
      "140/140 [==============================] - 0s 107us/sample - loss: 0.9858 - acc: 0.8786 - val_loss: 1.9081 - val_acc: 0.5240\n",
      "Epoch 121/2000\n",
      "140/140 [==============================] - 0s 115us/sample - loss: 1.0025 - acc: 0.8857 - val_loss: 1.9046 - val_acc: 0.5220\n",
      "Epoch 122/2000\n",
      "140/140 [==============================] - 0s 111us/sample - loss: 1.0690 - acc: 0.8429 - val_loss: 1.8898 - val_acc: 0.5240\n",
      "Epoch 123/2000\n",
      "140/140 [==============================] - 0s 111us/sample - loss: 0.9609 - acc: 0.8929 - val_loss: 1.8802 - val_acc: 0.5300\n",
      "Epoch 124/2000\n",
      "140/140 [==============================] - 0s 124us/sample - loss: 1.0585 - acc: 0.8500 - val_loss: 1.8760 - val_acc: 0.5420\n",
      "Epoch 125/2000\n",
      "140/140 [==============================] - 0s 108us/sample - loss: 0.9351 - acc: 0.8929 - val_loss: 1.8761 - val_acc: 0.5400\n",
      "Epoch 126/2000\n",
      "140/140 [==============================] - 0s 113us/sample - loss: 0.9486 - acc: 0.8786 - val_loss: 1.8823 - val_acc: 0.5200\n",
      "Epoch 127/2000\n",
      "140/140 [==============================] - 0s 116us/sample - loss: 0.9980 - acc: 0.8786 - val_loss: 1.8862 - val_acc: 0.5220\n",
      "Epoch 128/2000\n",
      "140/140 [==============================] - 0s 119us/sample - loss: 0.9520 - acc: 0.8714 - val_loss: 1.8844 - val_acc: 0.5260\n",
      "Epoch 129/2000\n",
      "140/140 [==============================] - 0s 113us/sample - loss: 0.9230 - acc: 0.8929 - val_loss: 1.8847 - val_acc: 0.5260\n",
      "Epoch 130/2000\n",
      "140/140 [==============================] - 0s 130us/sample - loss: 1.0516 - acc: 0.8429 - val_loss: 1.8833 - val_acc: 0.5260\n",
      "Epoch 131/2000\n",
      "140/140 [==============================] - 0s 127us/sample - loss: 1.0671 - acc: 0.8571 - val_loss: 1.8896 - val_acc: 0.5240\n",
      "Epoch 132/2000\n",
      "140/140 [==============================] - 0s 119us/sample - loss: 0.9135 - acc: 0.9071 - val_loss: 1.9004 - val_acc: 0.5200\n",
      "Epoch 133/2000\n",
      "140/140 [==============================] - 0s 123us/sample - loss: 0.9684 - acc: 0.9000 - val_loss: 1.8978 - val_acc: 0.5100\n",
      "Epoch 134/2000\n",
      "140/140 [==============================] - 0s 117us/sample - loss: 0.9809 - acc: 0.8929 - val_loss: 1.8900 - val_acc: 0.5200\n",
      "Epoch 135/2000\n",
      "140/140 [==============================] - 0s 117us/sample - loss: 1.0224 - acc: 0.8500 - val_loss: 1.8737 - val_acc: 0.5360\n",
      "Epoch 136/2000\n",
      "140/140 [==============================] - 0s 109us/sample - loss: 0.9859 - acc: 0.8714 - val_loss: 1.8664 - val_acc: 0.5480\n",
      "Epoch 137/2000\n",
      "140/140 [==============================] - 0s 121us/sample - loss: 0.9223 - acc: 0.8857 - val_loss: 1.8670 - val_acc: 0.5620\n",
      "Epoch 138/2000\n",
      "140/140 [==============================] - 0s 123us/sample - loss: 1.0345 - acc: 0.8500 - val_loss: 1.8669 - val_acc: 0.5660\n",
      "Epoch 139/2000\n",
      "140/140 [==============================] - 0s 124us/sample - loss: 0.9473 - acc: 0.8643 - val_loss: 1.8714 - val_acc: 0.5640\n",
      "Epoch 140/2000\n",
      "140/140 [==============================] - 0s 126us/sample - loss: 0.9912 - acc: 0.8643 - val_loss: 1.8779 - val_acc: 0.5680\n",
      "Epoch 141/2000\n",
      "140/140 [==============================] - 0s 128us/sample - loss: 0.9625 - acc: 0.8857 - val_loss: 1.8815 - val_acc: 0.5620\n",
      "Epoch 142/2000\n",
      "140/140 [==============================] - 0s 127us/sample - loss: 0.9843 - acc: 0.8786 - val_loss: 1.8795 - val_acc: 0.5580\n",
      "Epoch 143/2000\n",
      "140/140 [==============================] - 0s 124us/sample - loss: 0.9987 - acc: 0.8714 - val_loss: 1.8773 - val_acc: 0.5700\n",
      "Epoch 144/2000\n",
      "140/140 [==============================] - 0s 175us/sample - loss: 0.9950 - acc: 0.8571 - val_loss: 1.8800 - val_acc: 0.5720\n",
      "Epoch 145/2000\n",
      "140/140 [==============================] - 0s 108us/sample - loss: 0.9925 - acc: 0.8643 - val_loss: 1.8936 - val_acc: 0.5520\n",
      "Epoch 146/2000\n",
      "140/140 [==============================] - 0s 110us/sample - loss: 0.9466 - acc: 0.8857 - val_loss: 1.9163 - val_acc: 0.5380\n",
      "Epoch 147/2000\n",
      "140/140 [==============================] - 0s 116us/sample - loss: 0.9652 - acc: 0.8857 - val_loss: 1.9373 - val_acc: 0.5200\n",
      "Epoch 148/2000\n",
      "140/140 [==============================] - 0s 132us/sample - loss: 0.9870 - acc: 0.8786 - val_loss: 1.9483 - val_acc: 0.5160\n",
      "Epoch 149/2000\n",
      "140/140 [==============================] - 0s 137us/sample - loss: 0.9055 - acc: 0.9143 - val_loss: 1.9484 - val_acc: 0.5200\n",
      "Epoch 150/2000\n",
      "140/140 [==============================] - 0s 137us/sample - loss: 1.0171 - acc: 0.8714 - val_loss: 1.9427 - val_acc: 0.5180\n",
      "Epoch 151/2000\n",
      "140/140 [==============================] - 0s 141us/sample - loss: 0.9710 - acc: 0.8643 - val_loss: 1.9329 - val_acc: 0.5160\n",
      "Epoch 152/2000\n",
      "140/140 [==============================] - 0s 133us/sample - loss: 0.9600 - acc: 0.8714 - val_loss: 1.9235 - val_acc: 0.5220\n",
      "Epoch 153/2000\n",
      "140/140 [==============================] - 0s 127us/sample - loss: 0.9824 - acc: 0.8714 - val_loss: 1.9161 - val_acc: 0.5220\n",
      "Epoch 154/2000\n",
      "140/140 [==============================] - 0s 125us/sample - loss: 0.9185 - acc: 0.8929 - val_loss: 1.9106 - val_acc: 0.5280\n",
      "Epoch 155/2000\n",
      "140/140 [==============================] - 0s 134us/sample - loss: 0.9253 - acc: 0.8929 - val_loss: 1.9099 - val_acc: 0.5500\n",
      "Epoch 156/2000\n",
      "140/140 [==============================] - 0s 126us/sample - loss: 0.9770 - acc: 0.8714 - val_loss: 1.9018 - val_acc: 0.5580\n",
      "Epoch 157/2000\n",
      "140/140 [==============================] - 0s 136us/sample - loss: 1.1713 - acc: 0.8071 - val_loss: 1.8946 - val_acc: 0.5640\n",
      "Epoch 158/2000\n",
      "140/140 [==============================] - 0s 153us/sample - loss: 0.9610 - acc: 0.8643 - val_loss: 1.9086 - val_acc: 0.5540\n",
      "Epoch 159/2000\n",
      "140/140 [==============================] - 0s 145us/sample - loss: 0.9808 - acc: 0.8429 - val_loss: 1.9233 - val_acc: 0.5300\n",
      "Epoch 160/2000\n",
      "140/140 [==============================] - 0s 135us/sample - loss: 0.9257 - acc: 0.8857 - val_loss: 1.9372 - val_acc: 0.5160\n",
      "Epoch 161/2000\n",
      "140/140 [==============================] - 0s 137us/sample - loss: 0.9872 - acc: 0.8786 - val_loss: 1.9331 - val_acc: 0.5220\n",
      "Epoch 162/2000\n",
      "140/140 [==============================] - 0s 135us/sample - loss: 0.9455 - acc: 0.8929 - val_loss: 1.9127 - val_acc: 0.5340\n",
      "Epoch 163/2000\n",
      "140/140 [==============================] - 0s 129us/sample - loss: 0.9970 - acc: 0.8500 - val_loss: 1.8919 - val_acc: 0.5360\n",
      "Epoch 164/2000\n",
      "140/140 [==============================] - 0s 134us/sample - loss: 0.9970 - acc: 0.8714 - val_loss: 1.8937 - val_acc: 0.5320\n",
      "Epoch 165/2000\n",
      "140/140 [==============================] - 0s 130us/sample - loss: 1.0929 - acc: 0.8214 - val_loss: 1.9047 - val_acc: 0.5340\n",
      "Epoch 166/2000\n",
      "140/140 [==============================] - 0s 129us/sample - loss: 0.9631 - acc: 0.8714 - val_loss: 1.9157 - val_acc: 0.5420\n",
      "Epoch 167/2000\n",
      "140/140 [==============================] - 0s 133us/sample - loss: 0.9884 - acc: 0.8786 - val_loss: 1.9192 - val_acc: 0.5420\n",
      "Epoch 168/2000\n",
      "140/140 [==============================] - 0s 125us/sample - loss: 0.9447 - acc: 0.9000 - val_loss: 1.9226 - val_acc: 0.5440\n",
      "Epoch 169/2000\n",
      "140/140 [==============================] - 0s 135us/sample - loss: 0.9615 - acc: 0.9000 - val_loss: 1.9335 - val_acc: 0.5400\n",
      "Epoch 170/2000\n",
      "140/140 [==============================] - 0s 120us/sample - loss: 1.0146 - acc: 0.8571 - val_loss: 1.9449 - val_acc: 0.5340\n",
      "Epoch 171/2000\n",
      "140/140 [==============================] - 0s 126us/sample - loss: 0.9958 - acc: 0.8786 - val_loss: 1.9462 - val_acc: 0.5340\n",
      "Epoch 172/2000\n",
      "140/140 [==============================] - 0s 144us/sample - loss: 0.9852 - acc: 0.8500 - val_loss: 1.9530 - val_acc: 0.5280\n",
      "Epoch 173/2000\n",
      "140/140 [==============================] - 0s 154us/sample - loss: 1.0216 - acc: 0.8857 - val_loss: 1.9618 - val_acc: 0.5200\n",
      "Epoch 174/2000\n",
      "140/140 [==============================] - 0s 138us/sample - loss: 1.0168 - acc: 0.8786 - val_loss: 1.9650 - val_acc: 0.5100\n",
      "Epoch 175/2000\n",
      "140/140 [==============================] - 0s 137us/sample - loss: 1.0574 - acc: 0.8571 - val_loss: 1.9637 - val_acc: 0.5060\n",
      "Epoch 176/2000\n",
      "140/140 [==============================] - 0s 123us/sample - loss: 0.9525 - acc: 0.8929 - val_loss: 1.9552 - val_acc: 0.5100\n",
      "Epoch 177/2000\n",
      "140/140 [==============================] - 0s 131us/sample - loss: 1.0173 - acc: 0.8857 - val_loss: 1.9393 - val_acc: 0.5240\n",
      "Epoch 178/2000\n",
      "140/140 [==============================] - 0s 141us/sample - loss: 0.9768 - acc: 0.8857 - val_loss: 1.9289 - val_acc: 0.5360\n",
      "Epoch 179/2000\n",
      "140/140 [==============================] - 0s 143us/sample - loss: 1.0127 - acc: 0.8786 - val_loss: 1.9204 - val_acc: 0.5340\n",
      "Epoch 180/2000\n",
      "140/140 [==============================] - 0s 145us/sample - loss: 1.0403 - acc: 0.8643 - val_loss: 1.9204 - val_acc: 0.5360\n",
      "Epoch 181/2000\n",
      "140/140 [==============================] - 0s 147us/sample - loss: 1.0171 - acc: 0.8857 - val_loss: 1.9252 - val_acc: 0.5320\n",
      "Epoch 182/2000\n",
      "140/140 [==============================] - 0s 140us/sample - loss: 1.0351 - acc: 0.8643 - val_loss: 1.9351 - val_acc: 0.5280\n",
      "Epoch 183/2000\n",
      "140/140 [==============================] - 0s 133us/sample - loss: 1.0499 - acc: 0.8429 - val_loss: 1.9376 - val_acc: 0.5300\n",
      "Epoch 184/2000\n",
      "140/140 [==============================] - 0s 155us/sample - loss: 1.0327 - acc: 0.8500 - val_loss: 1.9359 - val_acc: 0.5320\n",
      "Epoch 185/2000\n",
      "140/140 [==============================] - 0s 127us/sample - loss: 0.9896 - acc: 0.8571 - val_loss: 1.9377 - val_acc: 0.5340\n",
      "Epoch 186/2000\n",
      "140/140 [==============================] - 0s 129us/sample - loss: 0.9174 - acc: 0.9071 - val_loss: 1.9421 - val_acc: 0.5440\n",
      "Epoch 187/2000\n",
      "140/140 [==============================] - 0s 154us/sample - loss: 0.9411 - acc: 0.9071 - val_loss: 1.9472 - val_acc: 0.5440\n",
      "Epoch 188/2000\n",
      "140/140 [==============================] - 0s 161us/sample - loss: 1.0063 - acc: 0.8500 - val_loss: 1.9534 - val_acc: 0.5560\n",
      "Epoch 189/2000\n",
      "140/140 [==============================] - 0s 167us/sample - loss: 1.0546 - acc: 0.8571 - val_loss: 1.9672 - val_acc: 0.5460\n",
      "Epoch 190/2000\n",
      "140/140 [==============================] - 0s 138us/sample - loss: 0.9706 - acc: 0.8714 - val_loss: 1.9878 - val_acc: 0.5380\n",
      "Epoch 191/2000\n",
      "140/140 [==============================] - 0s 127us/sample - loss: 0.9730 - acc: 0.8929 - val_loss: 1.9958 - val_acc: 0.5280\n",
      "Epoch 192/2000\n",
      "140/140 [==============================] - 0s 119us/sample - loss: 0.9673 - acc: 0.8857 - val_loss: 2.0171 - val_acc: 0.5040\n",
      "Epoch 193/2000\n",
      "140/140 [==============================] - 0s 128us/sample - loss: 1.0556 - acc: 0.8571 - val_loss: 2.0207 - val_acc: 0.5080\n",
      "Epoch 194/2000\n",
      "140/140 [==============================] - 0s 114us/sample - loss: 1.0290 - acc: 0.8500 - val_loss: 1.9960 - val_acc: 0.5140\n"
     ]
    }
   ],
   "source": [
    "es_callback = EarlyStopping(monitor=\"val_acc\", patience=50)  # patience is the number of epochs to wait before early stopping in case of no further improvement\n",
    "\n",
    "mc_callback = ModelCheckpoint(\n",
    "    \"logs/best_fc_model.h5\",\n",
    "    monitor=\"val_acc\",\n",
    "    save_best_only=True,\n",
    "    save_weights_only=True,\n",
    ")\n",
    "\n",
    "history = fully_connected_model.fit(X_train, train_targets, \n",
    "                          validation_data=(X_val, val_targets), \n",
    "                          epochs=2000, batch_size=200, shuffle=True, #we can shuffle the data here as \n",
    "                         callbacks=[es_callback, mc_callback]) #we're only working with node features"
   ]
  },
  {
   "cell_type": "markdown",
   "metadata": {},
   "source": [
    "By itself the fully connected model only gets ~60% accuracy on the test set."
   ]
  },
  {
   "cell_type": "code",
   "execution_count": 30,
   "metadata": {},
   "outputs": [
    {
     "name": "stdout",
     "output_type": "stream",
     "text": [
      "2068/1 - 0s - loss: 1.7862 - acc: 0.5513\n",
      "\n",
      "Test Set Metrics:\n",
      "\tloss: 1.8438\n",
      "\tacc: 0.5513\n"
     ]
    }
   ],
   "source": [
    "X_test = test_data[feature_names].values.astype(np.float32)\n",
    "\n",
    "fully_connected_model.load_weights(\"logs/best_fc_model.h5\") \n",
    "test_metrics = fully_connected_model.evaluate(X_test, test_targets, verbose=2)\n",
    "print(\"\\nTest Set Metrics:\")\n",
    "for name, val in zip(fully_connected_model.metrics_names, test_metrics):\n",
    "    print(\"\\t{}: {:0.4f}\".format(name, val))"
   ]
  },
  {
   "cell_type": "markdown",
   "metadata": {},
   "source": [
    "Now we propogate the fully connected network - no extra training required and we can re-use the APPNP object we've already created. First we create an intermediate fully connected model without the softmax layer, this is to avoid propagating the softmax layer which may cause issues with further training. We then propagate this intermediate network."
   ]
  },
  {
   "cell_type": "code",
   "execution_count": 31,
   "metadata": {},
   "outputs": [],
   "source": [
    "intermediate_model = Model(inputs=fully_connected_model.inputs, outputs=fully_connected_model.layers[-2].output)\n",
    "\n",
    "x_inp, x_out = appnp.propagate_model(intermediate_model)\n",
    "predictions = keras.layers.Softmax()(x_out)\n",
    "\n",
    "propagated_model = keras.models.Model(inputs=x_inp, outputs=predictions)\n",
    "propagated_model.compile(loss='categorical_crossentropy', metrics=['acc'],\n",
    "                  optimizer=keras.optimizers.Adam(lr=0.01))"
   ]
  },
  {
   "cell_type": "markdown",
   "metadata": {},
   "source": [
    "Our accuracy is better than the fully connected network by itself but less than end-to-end trained PPNP and APPNP. \n",
    "\n",
    "Note that this is partially because 140 data points isn't sufficient for the fully connected model to achieve optimal performance. As the number of training nodes increases the perfomance gap shrinks. "
   ]
  },
  {
   "cell_type": "code",
   "execution_count": 32,
   "metadata": {},
   "outputs": [
    {
     "name": "stdout",
     "output_type": "stream",
     "text": [
      "\n",
      "Test Set Metrics:\n",
      "\tloss: 1.6520\n",
      "\tacc: 0.7331\n"
     ]
    }
   ],
   "source": [
    "test_metrics = propagated_model.evaluate_generator(test_gen)\n",
    "print(\"\\nTest Set Metrics:\")\n",
    "for name, val in zip(propagated_model.metrics_names, test_metrics):\n",
    "    print(\"\\t{}: {:0.4f}\".format(name, val))"
   ]
  },
  {
   "cell_type": "markdown",
   "metadata": {},
   "source": [
    "### Making predictions with the model"
   ]
  },
  {
   "cell_type": "markdown",
   "metadata": {},
   "source": [
    "Now let's get the predictions for all nodes."
   ]
  },
  {
   "cell_type": "code",
   "execution_count": 33,
   "metadata": {},
   "outputs": [],
   "source": [
    "all_nodes = node_data.index\n",
    "all_gen = generator.flow(all_nodes)\n",
    "all_predictions = propagated_model.predict_generator(all_gen)"
   ]
  },
  {
   "cell_type": "markdown",
   "metadata": {},
   "source": [
    "These predictions will be the output of the softmax layer, so to get final categories we'll use the `inverse_transform` method of our target attribute specifcation to turn these values back to the original categories."
   ]
  },
  {
   "cell_type": "markdown",
   "metadata": {},
   "source": [
    "Note that for full-batch methods the batch size is 1 and the predictions have shape $(1, N_{nodes}, N_{classes})$ so we remove the batch dimension to obtain predictions of shape $(N_{nodes}, N_{classes})$ using the NumPy `squeeze` method."
   ]
  },
  {
   "cell_type": "code",
   "execution_count": 34,
   "metadata": {},
   "outputs": [],
   "source": [
    "node_predictions = target_encoding.inverse_transform(all_predictions.squeeze())"
   ]
  },
  {
   "cell_type": "markdown",
   "metadata": {},
   "source": [
    "Let's have a look at a few predictions after training the model:"
   ]
  },
  {
   "cell_type": "code",
   "execution_count": 35,
   "metadata": {},
   "outputs": [
    {
     "data": {
      "text/html": [
       "<div>\n",
       "<style scoped>\n",
       "    .dataframe tbody tr th:only-of-type {\n",
       "        vertical-align: middle;\n",
       "    }\n",
       "\n",
       "    .dataframe tbody tr th {\n",
       "        vertical-align: top;\n",
       "    }\n",
       "\n",
       "    .dataframe thead th {\n",
       "        text-align: right;\n",
       "    }\n",
       "</style>\n",
       "<table border=\"1\" class=\"dataframe\">\n",
       "  <thead>\n",
       "    <tr style=\"text-align: right;\">\n",
       "      <th></th>\n",
       "      <th>Predicted</th>\n",
       "      <th>True</th>\n",
       "    </tr>\n",
       "  </thead>\n",
       "  <tbody>\n",
       "    <tr>\n",
       "      <td>31336</td>\n",
       "      <td>subject=Probabilistic_Methods</td>\n",
       "      <td>Neural_Networks</td>\n",
       "    </tr>\n",
       "    <tr>\n",
       "      <td>1061127</td>\n",
       "      <td>subject=Reinforcement_Learning</td>\n",
       "      <td>Rule_Learning</td>\n",
       "    </tr>\n",
       "    <tr>\n",
       "      <td>1106406</td>\n",
       "      <td>subject=Reinforcement_Learning</td>\n",
       "      <td>Reinforcement_Learning</td>\n",
       "    </tr>\n",
       "    <tr>\n",
       "      <td>13195</td>\n",
       "      <td>subject=Reinforcement_Learning</td>\n",
       "      <td>Reinforcement_Learning</td>\n",
       "    </tr>\n",
       "    <tr>\n",
       "      <td>37879</td>\n",
       "      <td>subject=Probabilistic_Methods</td>\n",
       "      <td>Probabilistic_Methods</td>\n",
       "    </tr>\n",
       "    <tr>\n",
       "      <td>1126012</td>\n",
       "      <td>subject=Probabilistic_Methods</td>\n",
       "      <td>Probabilistic_Methods</td>\n",
       "    </tr>\n",
       "    <tr>\n",
       "      <td>1107140</td>\n",
       "      <td>subject=Case_Based</td>\n",
       "      <td>Theory</td>\n",
       "    </tr>\n",
       "    <tr>\n",
       "      <td>1102850</td>\n",
       "      <td>subject=Neural_Networks</td>\n",
       "      <td>Neural_Networks</td>\n",
       "    </tr>\n",
       "    <tr>\n",
       "      <td>31349</td>\n",
       "      <td>subject=Neural_Networks</td>\n",
       "      <td>Neural_Networks</td>\n",
       "    </tr>\n",
       "    <tr>\n",
       "      <td>1106418</td>\n",
       "      <td>subject=Theory</td>\n",
       "      <td>Theory</td>\n",
       "    </tr>\n",
       "    <tr>\n",
       "      <td>1123188</td>\n",
       "      <td>subject=Neural_Networks</td>\n",
       "      <td>Neural_Networks</td>\n",
       "    </tr>\n",
       "    <tr>\n",
       "      <td>1128990</td>\n",
       "      <td>subject=Genetic_Algorithms</td>\n",
       "      <td>Genetic_Algorithms</td>\n",
       "    </tr>\n",
       "    <tr>\n",
       "      <td>109323</td>\n",
       "      <td>subject=Probabilistic_Methods</td>\n",
       "      <td>Probabilistic_Methods</td>\n",
       "    </tr>\n",
       "    <tr>\n",
       "      <td>217139</td>\n",
       "      <td>subject=Case_Based</td>\n",
       "      <td>Case_Based</td>\n",
       "    </tr>\n",
       "    <tr>\n",
       "      <td>31353</td>\n",
       "      <td>subject=Neural_Networks</td>\n",
       "      <td>Neural_Networks</td>\n",
       "    </tr>\n",
       "    <tr>\n",
       "      <td>32083</td>\n",
       "      <td>subject=Neural_Networks</td>\n",
       "      <td>Neural_Networks</td>\n",
       "    </tr>\n",
       "    <tr>\n",
       "      <td>1126029</td>\n",
       "      <td>subject=Reinforcement_Learning</td>\n",
       "      <td>Reinforcement_Learning</td>\n",
       "    </tr>\n",
       "    <tr>\n",
       "      <td>1118017</td>\n",
       "      <td>subject=Neural_Networks</td>\n",
       "      <td>Neural_Networks</td>\n",
       "    </tr>\n",
       "    <tr>\n",
       "      <td>49482</td>\n",
       "      <td>subject=Neural_Networks</td>\n",
       "      <td>Neural_Networks</td>\n",
       "    </tr>\n",
       "    <tr>\n",
       "      <td>753265</td>\n",
       "      <td>subject=Neural_Networks</td>\n",
       "      <td>Neural_Networks</td>\n",
       "    </tr>\n",
       "  </tbody>\n",
       "</table>\n",
       "</div>"
      ],
      "text/plain": [
       "                              Predicted                    True\n",
       "31336     subject=Probabilistic_Methods         Neural_Networks\n",
       "1061127  subject=Reinforcement_Learning           Rule_Learning\n",
       "1106406  subject=Reinforcement_Learning  Reinforcement_Learning\n",
       "13195    subject=Reinforcement_Learning  Reinforcement_Learning\n",
       "37879     subject=Probabilistic_Methods   Probabilistic_Methods\n",
       "1126012   subject=Probabilistic_Methods   Probabilistic_Methods\n",
       "1107140              subject=Case_Based                  Theory\n",
       "1102850         subject=Neural_Networks         Neural_Networks\n",
       "31349           subject=Neural_Networks         Neural_Networks\n",
       "1106418                  subject=Theory                  Theory\n",
       "1123188         subject=Neural_Networks         Neural_Networks\n",
       "1128990      subject=Genetic_Algorithms      Genetic_Algorithms\n",
       "109323    subject=Probabilistic_Methods   Probabilistic_Methods\n",
       "217139               subject=Case_Based              Case_Based\n",
       "31353           subject=Neural_Networks         Neural_Networks\n",
       "32083           subject=Neural_Networks         Neural_Networks\n",
       "1126029  subject=Reinforcement_Learning  Reinforcement_Learning\n",
       "1118017         subject=Neural_Networks         Neural_Networks\n",
       "49482           subject=Neural_Networks         Neural_Networks\n",
       "753265          subject=Neural_Networks         Neural_Networks"
      ]
     },
     "execution_count": 35,
     "metadata": {},
     "output_type": "execute_result"
    }
   ],
   "source": [
    "results = pd.DataFrame(node_predictions, index=all_nodes).idxmax(axis=1)\n",
    "df = pd.DataFrame({\"Predicted\": results, \"True\": node_data['subject']})\n",
    "df.head(20)"
   ]
  },
  {
   "cell_type": "markdown",
   "metadata": {},
   "source": [
    "Now we have an accurate model that can handle large graphs."
   ]
  }
 ],
 "metadata": {
  "kernelspec": {
   "display_name": "sg2",
   "language": "python",
   "name": "sg2"
  },
  "language_info": {
   "codemirror_mode": {
    "name": "ipython",
    "version": 3
   },
   "file_extension": ".py",
   "mimetype": "text/x-python",
   "name": "python",
   "nbconvert_exporter": "python",
   "pygments_lexer": "ipython3",
   "version": "3.6.9"
  }
 },
 "nbformat": 4,
 "nbformat_minor": 4
}
