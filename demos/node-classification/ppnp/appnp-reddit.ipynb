{
 "cells": [
  {
   "cell_type": "markdown",
   "metadata": {},
   "source": [
    "# Classification of reddit user posts using graph machine learning with Stellargraph\n",
    "\n",
    "We apply the graph machine algorithm APPNP [1] to the task of classifying reddit user posts into 41 different categories using the dataset published in [2] which can be downloaded [here](https://www.kaggle.com/manoelribeiro/hateful-users-on-twitter/home).  \n",
    "\n",
    "The following is a description of the dataset [2]:\n",
    "\n",
    ">Reddit is a large online discussion forum where users post and comment on content in different topical\n",
    ">communities. We constructed a graph dataset from Reddit posts made in the month of September, 2014. The node label in this case is the community, or “subreddit”, that a post belongs to. We sampled\n",
    ">50 large communities and built a post-to-post graph, connecting posts if the same user comments\n",
    ">on both. In total this dataset contains 232,965 posts with an average degree of 492. We use the first\n",
    ">20 days for training and the remaining days for testing (with 30% used for validation). For features,\n",
    ">we use off-the-shelf 300-dimensional GloVe CommonCrawl word vectors [3]; for each post, we\n",
    ">concatenated (i) the average embedding of the post title, (ii) the average embedding of all the post’s\n",
    ">comments (iii) the post’s score, and (iv) the number of comments made on the post.\n",
    "\n",
    "\n",
    "We demonstrate the advantage of using graph features and the scalability of the APPNP algorithm for node classification on the reddit dataset.  We first train a MLP on the node features and then propagate this model using APPNP.  Training is only done on the node features, this approach allows model training to be completed in under a 1 minute on an 8th gen quad-core i7.\n",
    "\n",
    "\n",
    "**References**\n",
    "\n",
    "1. Predict then propagate: Graph neural networks meet personalized pagerank. J. Klicpera,  A. Bojchevski, & S. Günnemann arxiv:1810.05997, 2018.\n",
    "\n",
    "\n",
    "2. Inductive Representation Learning on Large Graphs. W.L. Hamilton, R. Ying, and J. Leskovec arXiv:1706.02216 [cs.SI], 2017.\n",
    "\n",
    "\n",
    "3. Glove: Global vectors for word representation. J. Pennington, R. Socher, and C. D. Manning. In EMNLP, 2014."
   ]
  },
  {
   "cell_type": "code",
   "execution_count": 2,
   "metadata": {},
   "outputs": [],
   "source": [
    "import networkx as nx\n",
    "import pandas as pd\n",
    "import numpy as np\n",
    "import seaborn as sns\n",
    "import itertools\n",
    "import os\n",
    "\n",
    "from sklearn.decomposition import PCA\n",
    "from sklearn.manifold import TSNE\n",
    "from sklearn.linear_model import LogisticRegressionCV\n",
    "\n",
    "import stellargraph as sg\n",
    "from stellargraph.mapper import GraphSAGENodeGenerator, FullBatchNodeGenerator\n",
    "from stellargraph.layer import GraphSAGE, GCN, GAT, APPNP\n",
    "from stellargraph.layer.appnp import APPNPPropagationLayer\n",
    "from stellargraph import globalvar\n",
    "from stellargraph.core.utils import GCN_Aadj_feats_op\n",
    "\n",
    "from tensorflow.keras import layers, optimizers, losses, metrics, Model, models\n",
    "from sklearn import preprocessing, feature_extraction\n",
    "from sklearn.model_selection import train_test_split\n",
    "from sklearn import metrics\n",
    "from scipy.sparse import coo_matrix\n",
    "\n",
    "import matplotlib.pyplot as plt\n",
    "import seaborn as sns\n",
    "import json\n",
    "\n",
    "%matplotlib inline"
   ]
  },
  {
   "cell_type": "markdown",
   "metadata": {},
   "source": [
    "## Loading the Reddit Dataset\n",
    "\n",
    "First, we load the reddit dataset which is stored as a series of json files.  We first load the graph data and then the node features and labels and ensure that indexing is consistent across the graph, labels, and node features."
   ]
  },
  {
   "cell_type": "code",
   "execution_count": 3,
   "metadata": {},
   "outputs": [],
   "source": [
    "data_dir = os.path.expanduser(\"~/data/reddit\")"
   ]
  },
  {
   "cell_type": "code",
   "execution_count": 4,
   "metadata": {},
   "outputs": [],
   "source": [
    "with open(os.path.join(data_dir, \"reddit-G.json\")) as gfile:\n",
    "    graph_data = json.load(gfile)\n",
    "    \n",
    "list_node_ids = list(d['id'] for d in graph_data['nodes'])\n",
    "\n",
    "adj_list = [(link['source'], link['target']) for link in graph_data['links']]\n",
    "\n",
    "gnx = nx.Graph()\n",
    "gnx.add_edges_from(adj_list)"
   ]
  },
  {
   "cell_type": "code",
   "execution_count": 5,
   "metadata": {},
   "outputs": [
    {
     "name": "stdout",
     "output_type": "stream",
     "text": [
      "Number of nodes: 231443\n",
      "Number of edges: 11606919\n"
     ]
    }
   ],
   "source": [
    "print(\"Number of nodes:\", gnx.number_of_nodes())\n",
    "print(\"Number of edges:\", gnx.number_of_edges())"
   ]
  },
  {
   "cell_type": "code",
   "execution_count": 4,
   "metadata": {},
   "outputs": [],
   "source": [
    "with open(os.path.join(data_dir, \"reddit-class_map.json\")) as tfile:\n",
    "    labels = json.load(tfile)\n",
    "\n",
    "feats = np.load(data_dir + \"/reddit-feats.npy\")\n",
    "\n",
    "feats[:,0] = np.log(feats[:,0]+1.0)\n",
    "feats[:,1] = np.log(feats[:,1]-min(np.min(feats[:,1]), -1))\n",
    "\n",
    "scaler = preprocessing.StandardScaler()\n",
    "feats = scaler.fit_transform(feats)\n",
    "\n",
    "feat_id_map = json.load(open(data_dir + \"/reddit-id_map.json\"))\n",
    "\n",
    "# sort node features to match the order of feat_id_map\n",
    "sorted_idxs = np.array([feat_id_map[key] for key in list_node_ids])\n",
    "feats = feats[sorted_idxs,:]\n",
    "\n",
    "#sort node labnels to match the order of feat_id_map\n",
    "labels = np.array([labels[key] for key in list_node_ids])"
   ]
  },
  {
   "cell_type": "code",
   "execution_count": 5,
   "metadata": {},
   "outputs": [],
   "source": [
    "node_data = pd.DataFrame(feats)\n",
    "\n",
    "target_encoding = preprocessing.OneHotEncoder(sparse=False, categories='auto')\n",
    "targets = target_encoding.fit_transform(labels.reshape(-1, 1))\n",
    "targets = pd.DataFrame(targets)"
   ]
  },
  {
   "cell_type": "code",
   "execution_count": 7,
   "metadata": {},
   "outputs": [],
   "source": [
    "G = sg.StellarGraph(gnx, node_features=node_data)\n",
    "\n",
    "gnx.clear()"
   ]
  },
  {
   "cell_type": "code",
   "execution_count": 8,
   "metadata": {},
   "outputs": [],
   "source": [
    "train_data, test_data, train_targets, test_targets = train_test_split(\n",
    "    node_data, targets, train_size=0.4, random_state=42)\n",
    "\n",
    "val_data, test_data, val_targets, test_targets = train_test_split(\n",
    "    test_data, test_targets, train_size=0.2, random_state=42)"
   ]
  },
  {
   "cell_type": "code",
   "execution_count": 10,
   "metadata": {},
   "outputs": [],
   "source": [
    "generator = FullBatchNodeGenerator(G, method=\"gcn\", sparse=True)\n",
    "test_gen = generator.flow(test_data.index, test_targets)"
   ]
  },
  {
   "cell_type": "markdown",
   "metadata": {},
   "source": [
    "## Training\n",
    "\n",
    "We now create a MLP and train on the node features."
   ]
  },
  {
   "cell_type": "code",
   "execution_count": 11,
   "metadata": {},
   "outputs": [
    {
     "name": "stdout",
     "output_type": "stream",
     "text": [
      "WARNING:tensorflow:From /Users/kieranricardo/anaconda3/envs/stellar-demos/lib/python3.6/site-packages/tensorflow/python/ops/init_ops.py:1251: calling VarianceScaling.__init__ (from tensorflow.python.ops.init_ops) with dtype is deprecated and will be removed in a future version.\n",
      "Instructions for updating:\n",
      "Call initializer instance with the dtype argument instead of passing it to the constructor\n"
     ]
    }
   ],
   "source": [
    "in_layer = layers.Input(shape=(train_data.shape[-1]))\n",
    "layer = layers.Dense(128, activation='relu', kernel_regularizer=\"l2\")(in_layer)\n",
    "layer = layers.Dropout(0.5)(layer)\n",
    "layer = layers.Dense(128, activation='relu', kernel_regularizer=\"l2\")(in_layer)\n",
    "layer = layers.Dropout(0.5)(layer)\n",
    "\n",
    "#note the dimension of the output should equal the number of classes to predict!\n",
    "layer = layers.Dense(train_targets.shape[-1], activation='softmax')(layer)\n",
    "\n",
    "fully_connected_model = Model(inputs=in_layer, outputs=layer)\n",
    "\n",
    "fully_connected_model.compile(\n",
    "    optimizer=optimizers.Adam(lr=0.0001),\n",
    "    loss=losses.categorical_crossentropy,\n",
    "    metrics=[\"acc\"],\n",
    ")"
   ]
  },
  {
   "cell_type": "code",
   "execution_count": 14,
   "metadata": {},
   "outputs": [],
   "source": [
    "history = fully_connected_model.fit(\n",
    "    train_data, train_targets,\n",
    "    epochs = 40,\n",
    "    validation_data = (val_data, val_targets),\n",
    "    batch_size = 300,\n",
    "    verbose=0\n",
    ")"
   ]
  },
  {
   "cell_type": "markdown",
   "metadata": {},
   "source": [
    "The MLP attains an accuracy of ~67% on the test set."
   ]
  },
  {
   "cell_type": "code",
   "execution_count": 18,
   "metadata": {},
   "outputs": [
    {
     "name": "stdout",
     "output_type": "stream",
     "text": [
      "111093/111093 [==============================] - 3s 29us/sample - loss: 1.3785 - acc: 0.6729\n",
      "\n",
      "Test Set Metrics:\n",
      "\tloss: 1.3785\n",
      "\tacc: 0.6729\n"
     ]
    }
   ],
   "source": [
    "test_metrics = fully_connected_model.evaluate(test_data, test_targets)\n",
    "print(\"\\nTest Set Metrics:\")\n",
    "for name, val in zip(fully_connected_model.metrics_names, test_metrics):\n",
    "    print(\"\\t{}: {:0.4f}\".format(name, val))"
   ]
  },
  {
   "cell_type": "markdown",
   "metadata": {},
   "source": [
    "## APPNP Propagation\n",
    "\n",
    "We now create a stellargraph generator.  We use this to create an APPNP model and propagate the MLP.  No further training is happening in this step.  We then test the propagated model on the test data."
   ]
  },
  {
   "cell_type": "code",
   "execution_count": 15,
   "metadata": {},
   "outputs": [
    {
     "name": "stdout",
     "output_type": "stream",
     "text": [
      "WARNING:tensorflow:Entity <bound method SqueezedSparseConversion.call of <stellargraph.layer.misc.SqueezedSparseConversion object at 0x61cabfcc0>> could not be transformed and will be executed as-is. Please report this to the AutgoGraph team. When filing the bug, set the verbosity to 10 (on Linux, `export AUTOGRAPH_VERBOSITY=10`) and attach the full output. Cause: converting <bound method SqueezedSparseConversion.call of <stellargraph.layer.misc.SqueezedSparseConversion object at 0x61cabfcc0>>: AttributeError: module 'gast' has no attribute 'Num'\n",
      "WARNING: Entity <bound method SqueezedSparseConversion.call of <stellargraph.layer.misc.SqueezedSparseConversion object at 0x61cabfcc0>> could not be transformed and will be executed as-is. Please report this to the AutgoGraph team. When filing the bug, set the verbosity to 10 (on Linux, `export AUTOGRAPH_VERBOSITY=10`) and attach the full output. Cause: converting <bound method SqueezedSparseConversion.call of <stellargraph.layer.misc.SqueezedSparseConversion object at 0x61cabfcc0>>: AttributeError: module 'gast' has no attribute 'Num'\n",
      "WARNING:tensorflow:Entity <bound method APPNPPropagationLayer.call of <stellargraph.layer.appnp.APPNPPropagationLayer object at 0x61c60a6a0>> could not be transformed and will be executed as-is. Please report this to the AutgoGraph team. When filing the bug, set the verbosity to 10 (on Linux, `export AUTOGRAPH_VERBOSITY=10`) and attach the full output. Cause: converting <bound method APPNPPropagationLayer.call of <stellargraph.layer.appnp.APPNPPropagationLayer object at 0x61c60a6a0>>: AttributeError: module 'gast' has no attribute 'Num'\n",
      "WARNING: Entity <bound method APPNPPropagationLayer.call of <stellargraph.layer.appnp.APPNPPropagationLayer object at 0x61c60a6a0>> could not be transformed and will be executed as-is. Please report this to the AutgoGraph team. When filing the bug, set the verbosity to 10 (on Linux, `export AUTOGRAPH_VERBOSITY=10`) and attach the full output. Cause: converting <bound method APPNPPropagationLayer.call of <stellargraph.layer.appnp.APPNPPropagationLayer object at 0x61c60a6a0>>: AttributeError: module 'gast' has no attribute 'Num'\n",
      "WARNING:tensorflow:Entity <bound method APPNPPropagationLayer.call of <stellargraph.layer.appnp.APPNPPropagationLayer object at 0x61c60a898>> could not be transformed and will be executed as-is. Please report this to the AutgoGraph team. When filing the bug, set the verbosity to 10 (on Linux, `export AUTOGRAPH_VERBOSITY=10`) and attach the full output. Cause: converting <bound method APPNPPropagationLayer.call of <stellargraph.layer.appnp.APPNPPropagationLayer object at 0x61c60a898>>: AttributeError: module 'gast' has no attribute 'Num'\n",
      "WARNING: Entity <bound method APPNPPropagationLayer.call of <stellargraph.layer.appnp.APPNPPropagationLayer object at 0x61c60a898>> could not be transformed and will be executed as-is. Please report this to the AutgoGraph team. When filing the bug, set the verbosity to 10 (on Linux, `export AUTOGRAPH_VERBOSITY=10`) and attach the full output. Cause: converting <bound method APPNPPropagationLayer.call of <stellargraph.layer.appnp.APPNPPropagationLayer object at 0x61c60a898>>: AttributeError: module 'gast' has no attribute 'Num'\n",
      "WARNING:tensorflow:Entity <bound method APPNPPropagationLayer.call of <stellargraph.layer.appnp.APPNPPropagationLayer object at 0x61c60aa90>> could not be transformed and will be executed as-is. Please report this to the AutgoGraph team. When filing the bug, set the verbosity to 10 (on Linux, `export AUTOGRAPH_VERBOSITY=10`) and attach the full output. Cause: converting <bound method APPNPPropagationLayer.call of <stellargraph.layer.appnp.APPNPPropagationLayer object at 0x61c60aa90>>: AttributeError: module 'gast' has no attribute 'Num'\n",
      "WARNING: Entity <bound method APPNPPropagationLayer.call of <stellargraph.layer.appnp.APPNPPropagationLayer object at 0x61c60aa90>> could not be transformed and will be executed as-is. Please report this to the AutgoGraph team. When filing the bug, set the verbosity to 10 (on Linux, `export AUTOGRAPH_VERBOSITY=10`) and attach the full output. Cause: converting <bound method APPNPPropagationLayer.call of <stellargraph.layer.appnp.APPNPPropagationLayer object at 0x61c60aa90>>: AttributeError: module 'gast' has no attribute 'Num'\n",
      "WARNING:tensorflow:Entity <bound method APPNPPropagationLayer.call of <stellargraph.layer.appnp.APPNPPropagationLayer object at 0x61c60ac88>> could not be transformed and will be executed as-is. Please report this to the AutgoGraph team. When filing the bug, set the verbosity to 10 (on Linux, `export AUTOGRAPH_VERBOSITY=10`) and attach the full output. Cause: converting <bound method APPNPPropagationLayer.call of <stellargraph.layer.appnp.APPNPPropagationLayer object at 0x61c60ac88>>: AttributeError: module 'gast' has no attribute 'Num'\n",
      "WARNING: Entity <bound method APPNPPropagationLayer.call of <stellargraph.layer.appnp.APPNPPropagationLayer object at 0x61c60ac88>> could not be transformed and will be executed as-is. Please report this to the AutgoGraph team. When filing the bug, set the verbosity to 10 (on Linux, `export AUTOGRAPH_VERBOSITY=10`) and attach the full output. Cause: converting <bound method APPNPPropagationLayer.call of <stellargraph.layer.appnp.APPNPPropagationLayer object at 0x61c60ac88>>: AttributeError: module 'gast' has no attribute 'Num'\n",
      "WARNING:tensorflow:Entity <bound method APPNPPropagationLayer.call of <stellargraph.layer.appnp.APPNPPropagationLayer object at 0x61c60ae80>> could not be transformed and will be executed as-is. Please report this to the AutgoGraph team. When filing the bug, set the verbosity to 10 (on Linux, `export AUTOGRAPH_VERBOSITY=10`) and attach the full output. Cause: converting <bound method APPNPPropagationLayer.call of <stellargraph.layer.appnp.APPNPPropagationLayer object at 0x61c60ae80>>: AttributeError: module 'gast' has no attribute 'Num'\n",
      "WARNING: Entity <bound method APPNPPropagationLayer.call of <stellargraph.layer.appnp.APPNPPropagationLayer object at 0x61c60ae80>> could not be transformed and will be executed as-is. Please report this to the AutgoGraph team. When filing the bug, set the verbosity to 10 (on Linux, `export AUTOGRAPH_VERBOSITY=10`) and attach the full output. Cause: converting <bound method APPNPPropagationLayer.call of <stellargraph.layer.appnp.APPNPPropagationLayer object at 0x61c60ae80>>: AttributeError: module 'gast' has no attribute 'Num'\n",
      "WARNING:tensorflow:Entity <bound method APPNPPropagationLayer.call of <stellargraph.layer.appnp.APPNPPropagationLayer object at 0x61cabf128>> could not be transformed and will be executed as-is. Please report this to the AutgoGraph team. When filing the bug, set the verbosity to 10 (on Linux, `export AUTOGRAPH_VERBOSITY=10`) and attach the full output. Cause: converting <bound method APPNPPropagationLayer.call of <stellargraph.layer.appnp.APPNPPropagationLayer object at 0x61cabf128>>: AttributeError: module 'gast' has no attribute 'Num'\n",
      "WARNING: Entity <bound method APPNPPropagationLayer.call of <stellargraph.layer.appnp.APPNPPropagationLayer object at 0x61cabf128>> could not be transformed and will be executed as-is. Please report this to the AutgoGraph team. When filing the bug, set the verbosity to 10 (on Linux, `export AUTOGRAPH_VERBOSITY=10`) and attach the full output. Cause: converting <bound method APPNPPropagationLayer.call of <stellargraph.layer.appnp.APPNPPropagationLayer object at 0x61cabf128>>: AttributeError: module 'gast' has no attribute 'Num'\n",
      "WARNING:tensorflow:Entity <bound method APPNPPropagationLayer.call of <stellargraph.layer.appnp.APPNPPropagationLayer object at 0x61cabf320>> could not be transformed and will be executed as-is. Please report this to the AutgoGraph team. When filing the bug, set the verbosity to 10 (on Linux, `export AUTOGRAPH_VERBOSITY=10`) and attach the full output. Cause: converting <bound method APPNPPropagationLayer.call of <stellargraph.layer.appnp.APPNPPropagationLayer object at 0x61cabf320>>: AttributeError: module 'gast' has no attribute 'Num'\n",
      "WARNING: Entity <bound method APPNPPropagationLayer.call of <stellargraph.layer.appnp.APPNPPropagationLayer object at 0x61cabf320>> could not be transformed and will be executed as-is. Please report this to the AutgoGraph team. When filing the bug, set the verbosity to 10 (on Linux, `export AUTOGRAPH_VERBOSITY=10`) and attach the full output. Cause: converting <bound method APPNPPropagationLayer.call of <stellargraph.layer.appnp.APPNPPropagationLayer object at 0x61cabf320>>: AttributeError: module 'gast' has no attribute 'Num'\n"
     ]
    },
    {
     "name": "stdout",
     "output_type": "stream",
     "text": [
      "WARNING:tensorflow:Entity <bound method APPNPPropagationLayer.call of <stellargraph.layer.appnp.APPNPPropagationLayer object at 0x61cabf518>> could not be transformed and will be executed as-is. Please report this to the AutgoGraph team. When filing the bug, set the verbosity to 10 (on Linux, `export AUTOGRAPH_VERBOSITY=10`) and attach the full output. Cause: converting <bound method APPNPPropagationLayer.call of <stellargraph.layer.appnp.APPNPPropagationLayer object at 0x61cabf518>>: AttributeError: module 'gast' has no attribute 'Num'\n",
      "WARNING: Entity <bound method APPNPPropagationLayer.call of <stellargraph.layer.appnp.APPNPPropagationLayer object at 0x61cabf518>> could not be transformed and will be executed as-is. Please report this to the AutgoGraph team. When filing the bug, set the verbosity to 10 (on Linux, `export AUTOGRAPH_VERBOSITY=10`) and attach the full output. Cause: converting <bound method APPNPPropagationLayer.call of <stellargraph.layer.appnp.APPNPPropagationLayer object at 0x61cabf518>>: AttributeError: module 'gast' has no attribute 'Num'\n",
      "WARNING:tensorflow:Entity <bound method APPNPPropagationLayer.call of <stellargraph.layer.appnp.APPNPPropagationLayer object at 0x61cabf710>> could not be transformed and will be executed as-is. Please report this to the AutgoGraph team. When filing the bug, set the verbosity to 10 (on Linux, `export AUTOGRAPH_VERBOSITY=10`) and attach the full output. Cause: converting <bound method APPNPPropagationLayer.call of <stellargraph.layer.appnp.APPNPPropagationLayer object at 0x61cabf710>>: AttributeError: module 'gast' has no attribute 'Num'\n",
      "WARNING: Entity <bound method APPNPPropagationLayer.call of <stellargraph.layer.appnp.APPNPPropagationLayer object at 0x61cabf710>> could not be transformed and will be executed as-is. Please report this to the AutgoGraph team. When filing the bug, set the verbosity to 10 (on Linux, `export AUTOGRAPH_VERBOSITY=10`) and attach the full output. Cause: converting <bound method APPNPPropagationLayer.call of <stellargraph.layer.appnp.APPNPPropagationLayer object at 0x61cabf710>>: AttributeError: module 'gast' has no attribute 'Num'\n",
      "WARNING:tensorflow:Entity <bound method APPNPPropagationLayer.call of <stellargraph.layer.appnp.APPNPPropagationLayer object at 0x61cabf908>> could not be transformed and will be executed as-is. Please report this to the AutgoGraph team. When filing the bug, set the verbosity to 10 (on Linux, `export AUTOGRAPH_VERBOSITY=10`) and attach the full output. Cause: converting <bound method APPNPPropagationLayer.call of <stellargraph.layer.appnp.APPNPPropagationLayer object at 0x61cabf908>>: AttributeError: module 'gast' has no attribute 'Num'\n",
      "WARNING: Entity <bound method APPNPPropagationLayer.call of <stellargraph.layer.appnp.APPNPPropagationLayer object at 0x61cabf908>> could not be transformed and will be executed as-is. Please report this to the AutgoGraph team. When filing the bug, set the verbosity to 10 (on Linux, `export AUTOGRAPH_VERBOSITY=10`) and attach the full output. Cause: converting <bound method APPNPPropagationLayer.call of <stellargraph.layer.appnp.APPNPPropagationLayer object at 0x61cabf908>>: AttributeError: module 'gast' has no attribute 'Num'\n"
     ]
    }
   ],
   "source": [
    "appnp = APPNP(layer_sizes=[train_targets.shape[-1]], \n",
    "              activations=['relu'], \n",
    "              bias=True,\n",
    "              generator=generator, \n",
    "              teleport_probability=0.9, \n",
    "              dropout=0.5, \n",
    "              kernel_regularizer='l2'\n",
    ")\n",
    "\n",
    "x_inp, x_out = appnp.propagate_model(fully_connected_model)\n",
    "predictions = layers.Softmax()(x_out)\n",
    "\n",
    "propagated_model = Model(inputs=x_inp, outputs=predictions)\n",
    "propagated_model.compile(loss='categorical_crossentropy', metrics=['acc'],\n",
    "                  optimizer='Adam')"
   ]
  },
  {
   "cell_type": "code",
   "execution_count": 19,
   "metadata": {},
   "outputs": [
    {
     "name": "stdout",
     "output_type": "stream",
     "text": [
      "\n",
      "Test Set Metrics:\n",
      "\tloss: 1.8850\n",
      "\tacc: 0.8035\n"
     ]
    }
   ],
   "source": [
    "test_metrics = propagated_model.evaluate_generator(test_gen)\n",
    "print(\"\\nTest Set Metrics:\")\n",
    "for name, val in zip(propagated_model.metrics_names, test_metrics):\n",
    "    print(\"\\t{}: {:0.4f}\".format(name, val))"
   ]
  },
  {
   "cell_type": "markdown",
   "metadata": {},
   "source": [
    "Propagating the MLP with APPNP increases the test set accuracy by ~15% without any further training.  "
   ]
  }
 ],
 "metadata": {
  "kernelspec": {
   "display_name": "Python 3",
   "language": "python",
   "name": "python3"
  },
  "language_info": {
   "codemirror_mode": {
    "name": "ipython",
    "version": 3
   },
   "file_extension": ".py",
   "mimetype": "text/x-python",
   "name": "python",
   "nbconvert_exporter": "python",
   "pygments_lexer": "ipython3",
   "version": "3.6.9"
  }
 },
 "nbformat": 4,
 "nbformat_minor": 2
}
