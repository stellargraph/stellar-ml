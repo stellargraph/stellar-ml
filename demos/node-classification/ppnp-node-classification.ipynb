{
 "cells": [
  {
   "cell_type": "markdown",
   "metadata": {},
   "source": [
    "# Node classification with Personalised Propagation of Neural Predictions (PPNP) and Approximate PPNP (APPNP)"
   ]
  },
  {
   "cell_type": "markdown",
   "metadata": {
    "nbsphinx": "hidden",
    "tags": [
     "CloudRunner"
    ]
   },
   "source": [
    "<table><tr><td>Run the latest release of this notebook:</td><td><a href=\"https://mybinder.org/v2/gh/stellargraph/stellargraph/master?urlpath=lab/tree/demos/node-classification/ppnp-node-classification.ipynb\" alt=\"Open In Binder\" target=\"_parent\"><img src=\"https://mybinder.org/badge_logo.svg\"/></a></td><td><a href=\"https://colab.research.google.com/github/stellargraph/stellargraph/blob/master/demos/node-classification/ppnp-node-classification.ipynb\" alt=\"Open In Colab\" target=\"_parent\"><img src=\"https://colab.research.google.com/assets/colab-badge.svg\"/></a></td></tr></table>"
   ]
  },
  {
   "cell_type": "markdown",
   "metadata": {},
   "source": [
    "Import NetworkX and stellargraph:"
   ]
  },
  {
   "cell_type": "code",
   "execution_count": 1,
   "metadata": {
    "nbsphinx": "hidden",
    "tags": [
     "CloudRunner"
    ]
   },
   "outputs": [],
   "source": [
    "# install StellarGraph if running on Google Colab\n",
    "import sys\n",
    "if 'google.colab' in sys.modules:\n",
    "  %pip install -q stellargraph[demos]==1.1.0b"
   ]
  },
  {
   "cell_type": "code",
   "execution_count": 2,
   "metadata": {
    "nbsphinx": "hidden",
    "tags": [
     "VersionCheck"
    ]
   },
   "outputs": [],
   "source": [
    "# verify that we're using the correct version of StellarGraph for this notebook\n",
    "import stellargraph as sg\n",
    "\n",
    "try:\n",
    "    sg.utils.validate_notebook_version(\"1.1.0b\")\n",
    "except AttributeError:\n",
    "    raise ValueError(\n",
    "        f\"This notebook requires StellarGraph version 1.1.0b, but a different version {sg.__version__} is installed.  Please see <https://github.com/stellargraph/stellargraph/issues/1172>.\"\n",
    "    ) from None"
   ]
  },
  {
   "cell_type": "code",
   "execution_count": 3,
   "metadata": {},
   "outputs": [],
   "source": [
    "import networkx as nx\n",
    "import pandas as pd\n",
    "import numpy as np\n",
    "import os\n",
    "from tensorflow import keras\n",
    "from tensorflow.keras import backend as K\n",
    "from tensorflow.keras.callbacks import EarlyStopping, ModelCheckpoint\n",
    "\n",
    "import stellargraph as sg\n",
    "from stellargraph.mapper import FullBatchNodeGenerator\n",
    "from stellargraph.layer.ppnp import PPNP\n",
    "from stellargraph.layer.appnp import APPNP\n",
    "\n",
    "from tensorflow.keras import layers, optimizers, losses, metrics, Model\n",
    "from sklearn import preprocessing, feature_extraction, model_selection\n",
    "from stellargraph import datasets\n",
    "from IPython.display import display, HTML\n",
    "import matplotlib.pyplot as plt\n",
    "%matplotlib inline"
   ]
  },
  {
   "cell_type": "markdown",
   "metadata": {},
   "source": [
    "## Loading the CORA network"
   ]
  },
  {
   "cell_type": "markdown",
   "metadata": {
    "tags": [
     "DataLoadingLinks"
    ]
   },
   "source": [
    "(See [the \"Loading from Pandas\" demo](../basics/loading-pandas.ipynb) for details on how data can be loaded.)"
   ]
  },
  {
   "cell_type": "code",
   "execution_count": 4,
   "metadata": {
    "tags": [
     "DataLoading"
    ]
   },
   "outputs": [
    {
     "data": {
      "text/html": [
       "The Cora dataset consists of 2708 scientific publications classified into one of seven classes. The citation network consists of 5429 links. Each publication in the dataset is described by a 0/1-valued word vector indicating the absence/presence of the corresponding word from the dictionary. The dictionary consists of 1433 unique words."
      ],
      "text/plain": [
       "<IPython.core.display.HTML object>"
      ]
     },
     "metadata": {},
     "output_type": "display_data"
    }
   ],
   "source": [
    "dataset = datasets.Cora()\n",
    "display(HTML(dataset.description))\n",
    "G, node_subjects = dataset.load()"
   ]
  },
  {
   "cell_type": "code",
   "execution_count": 5,
   "metadata": {},
   "outputs": [
    {
     "name": "stdout",
     "output_type": "stream",
     "text": [
      "StellarGraph: Undirected multigraph\n",
      " Nodes: 2708, Edges: 5429\n",
      "\n",
      " Node types:\n",
      "  paper: [2708]\n",
      "    Features: float32 vector, length 1433\n",
      "    Edge types: paper-cites->paper\n",
      "\n",
      " Edge types:\n",
      "    paper-cites->paper: [5429]\n"
     ]
    }
   ],
   "source": [
    "print(G.info())"
   ]
  },
  {
   "cell_type": "markdown",
   "metadata": {},
   "source": [
    "We aim to train a graph-ML model that will predict the \"subject\" attribute on the nodes. These subjects are one of 7 categories:"
   ]
  },
  {
   "cell_type": "code",
   "execution_count": 6,
   "metadata": {},
   "outputs": [
    {
     "data": {
      "text/html": [
       "<div>\n",
       "<style scoped>\n",
       "    .dataframe tbody tr th:only-of-type {\n",
       "        vertical-align: middle;\n",
       "    }\n",
       "\n",
       "    .dataframe tbody tr th {\n",
       "        vertical-align: top;\n",
       "    }\n",
       "\n",
       "    .dataframe thead th {\n",
       "        text-align: right;\n",
       "    }\n",
       "</style>\n",
       "<table border=\"1\" class=\"dataframe\">\n",
       "  <thead>\n",
       "    <tr style=\"text-align: right;\">\n",
       "      <th></th>\n",
       "      <th>subject</th>\n",
       "    </tr>\n",
       "  </thead>\n",
       "  <tbody>\n",
       "    <tr>\n",
       "      <td>Neural_Networks</td>\n",
       "      <td>818</td>\n",
       "    </tr>\n",
       "    <tr>\n",
       "      <td>Probabilistic_Methods</td>\n",
       "      <td>426</td>\n",
       "    </tr>\n",
       "    <tr>\n",
       "      <td>Genetic_Algorithms</td>\n",
       "      <td>418</td>\n",
       "    </tr>\n",
       "    <tr>\n",
       "      <td>Theory</td>\n",
       "      <td>351</td>\n",
       "    </tr>\n",
       "    <tr>\n",
       "      <td>Case_Based</td>\n",
       "      <td>298</td>\n",
       "    </tr>\n",
       "    <tr>\n",
       "      <td>Reinforcement_Learning</td>\n",
       "      <td>217</td>\n",
       "    </tr>\n",
       "    <tr>\n",
       "      <td>Rule_Learning</td>\n",
       "      <td>180</td>\n",
       "    </tr>\n",
       "  </tbody>\n",
       "</table>\n",
       "</div>"
      ],
      "text/plain": [
       "                        subject\n",
       "Neural_Networks             818\n",
       "Probabilistic_Methods       426\n",
       "Genetic_Algorithms          418\n",
       "Theory                      351\n",
       "Case_Based                  298\n",
       "Reinforcement_Learning      217\n",
       "Rule_Learning               180"
      ]
     },
     "execution_count": 67,
     "metadata": {},
     "output_type": "execute_result"
    }
   ],
   "source": [
    "node_subjects.value_counts().to_frame()"
   ]
  },
  {
   "cell_type": "markdown",
   "metadata": {},
   "source": [
    "### Splitting the data"
   ]
  },
  {
   "cell_type": "markdown",
   "metadata": {},
   "source": [
    "For machine learning we want to take a subset of the nodes for training, and use the rest for validation and testing. We'll use scikit-learn again to do this.\n",
    "\n",
    "Here we're taking 140 node labels for training, 500 for validation, and the rest for testing."
   ]
  },
  {
   "cell_type": "code",
   "execution_count": 7,
   "metadata": {},
   "outputs": [],
   "source": [
    "train_subjects, test_subjects = model_selection.train_test_split(\n",
    "    node_subjects, train_size=140, test_size=None, stratify=node_subjects\n",
    ")\n",
    "val_subjects, test_subjects = model_selection.train_test_split(\n",
    "    test_subjects, train_size=500, test_size=None, stratify=test_subjects\n",
    ")"
   ]
  },
  {
   "cell_type": "markdown",
   "metadata": {},
   "source": [
    "Note using stratified sampling gives the following counts:"
   ]
  },
  {
   "cell_type": "code",
   "execution_count": 8,
   "metadata": {},
   "outputs": [
    {
     "data": {
      "text/html": [
       "<div>\n",
       "<style scoped>\n",
       "    .dataframe tbody tr th:only-of-type {\n",
       "        vertical-align: middle;\n",
       "    }\n",
       "\n",
       "    .dataframe tbody tr th {\n",
       "        vertical-align: top;\n",
       "    }\n",
       "\n",
       "    .dataframe thead th {\n",
       "        text-align: right;\n",
       "    }\n",
       "</style>\n",
       "<table border=\"1\" class=\"dataframe\">\n",
       "  <thead>\n",
       "    <tr style=\"text-align: right;\">\n",
       "      <th></th>\n",
       "      <th>subject</th>\n",
       "    </tr>\n",
       "  </thead>\n",
       "  <tbody>\n",
       "    <tr>\n",
       "      <td>Neural_Networks</td>\n",
       "      <td>42</td>\n",
       "    </tr>\n",
       "    <tr>\n",
       "      <td>Genetic_Algorithms</td>\n",
       "      <td>22</td>\n",
       "    </tr>\n",
       "    <tr>\n",
       "      <td>Probabilistic_Methods</td>\n",
       "      <td>22</td>\n",
       "    </tr>\n",
       "    <tr>\n",
       "      <td>Theory</td>\n",
       "      <td>18</td>\n",
       "    </tr>\n",
       "    <tr>\n",
       "      <td>Case_Based</td>\n",
       "      <td>16</td>\n",
       "    </tr>\n",
       "    <tr>\n",
       "      <td>Reinforcement_Learning</td>\n",
       "      <td>11</td>\n",
       "    </tr>\n",
       "    <tr>\n",
       "      <td>Rule_Learning</td>\n",
       "      <td>9</td>\n",
       "    </tr>\n",
       "  </tbody>\n",
       "</table>\n",
       "</div>"
      ],
      "text/plain": [
       "                        subject\n",
       "Neural_Networks              42\n",
       "Genetic_Algorithms           22\n",
       "Probabilistic_Methods        22\n",
       "Theory                       18\n",
       "Case_Based                   16\n",
       "Reinforcement_Learning       11\n",
       "Rule_Learning                 9"
      ]
     },
     "execution_count": 69,
     "metadata": {},
     "output_type": "execute_result"
    }
   ],
   "source": [
    "train_subjects.value_counts().to_frame()"
   ]
  },
  {
   "cell_type": "markdown",
   "metadata": {},
   "source": [
    "The training set has class imbalance that might need to be compensated, e.g., via using a weighted cross-entropy loss in model training, with class weights inversely proportional to class support. However, we will ignore the class imbalance in this example, for simplicity."
   ]
  },
  {
   "cell_type": "markdown",
   "metadata": {},
   "source": [
    "### Converting to numeric arrays"
   ]
  },
  {
   "cell_type": "markdown",
   "metadata": {},
   "source": [
    "For our categorical target, we will use one-hot vectors that will be compared against the model's soft-max output."
   ]
  },
  {
   "cell_type": "code",
   "execution_count": 9,
   "metadata": {},
   "outputs": [],
   "source": [
    "target_encoding = preprocessing.LabelBinarizer()\n",
    "\n",
    "train_targets = target_encoding.fit_transform(train_subjects)\n",
    "val_targets = target_encoding.transform(val_subjects)\n",
    "test_targets = target_encoding.transform(test_subjects)"
   ]
  },
  {
   "cell_type": "markdown",
   "metadata": {},
   "source": [
    "## Creating the PPNP model in Keras"
   ]
  },
  {
   "cell_type": "markdown",
   "metadata": {},
   "source": [
    "Now create a StellarGraph object from the NetworkX graph and the node features and targets. It is StellarGraph objects that we use in this library to perform machine learning tasks on."
   ]
  },
  {
   "cell_type": "markdown",
   "metadata": {},
   "source": [
    "To feed data from the graph to the Keras model we need a generator. Since PPNP is a full-batch model, we use the `FullBatchNodeGenerator` class to feed node features and the normalized graph Laplacian matrix to the model.\n",
    "\n",
    "Specifying the `method='ppnp'` argument to the `FullBatchNodeGenerator` will pre-process the adjacency matrix and supply the personalized page rank matrix necessary for PPNP.  The personalized page rank matrix is a dense matrix and so `sparse=False` must be passed to `FullBatchNodeGenerator`. `teleport_probability=0.1` specifies the probability of returning to the starting node in the propogation step as desribed in the paper (alpha in the paper). "
   ]
  },
  {
   "cell_type": "code",
   "execution_count": 10,
   "metadata": {},
   "outputs": [],
   "source": [
    "generator = FullBatchNodeGenerator(\n",
    "    G, method=\"ppnp\", sparse=False, teleport_probability=0.1\n",
    ")"
   ]
  },
  {
   "cell_type": "markdown",
   "metadata": {},
   "source": [
    "For training we map only the training nodes returned from our splitter and the target values."
   ]
  },
  {
   "cell_type": "code",
   "execution_count": 11,
   "metadata": {},
   "outputs": [],
   "source": [
    "train_gen = generator.flow(train_subjects.index, train_targets)"
   ]
  },
  {
   "cell_type": "markdown",
   "metadata": {},
   "source": [
    "Now we can specify our machine learning model, we need a few more parameters for this:\n",
    "\n",
    " * the `layer_sizes` is a list of hidden feature sizes of each full fully connected layer in the model. In this example we use three fully connected layers with 64,64, and 7 hidden node features at each layer. \n",
    " * `activations` is a list of activations applied to each layer's output\n",
    " * `dropout=0.5` specifies a 50% dropout at each layer. \n",
    " * `kernel_regularizer=keras.regularizers.l2(0.001)` specifies a penality that prevents the model weights from become too large and helps limit overfitting\n",
    " \n",
    "**Note that the size of the final fully connected layer must be equal to the number of classes you are trying to predict.**\n"
   ]
  },
  {
   "cell_type": "markdown",
   "metadata": {},
   "source": [
    "We create a PPNP model as follows:"
   ]
  },
  {
   "cell_type": "code",
   "execution_count": 12,
   "metadata": {},
   "outputs": [],
   "source": [
    "ppnp = PPNP(\n",
    "    layer_sizes=[64, 64, train_targets.shape[-1]],\n",
    "    activations=[\"relu\", \"relu\", \"relu\"],\n",
    "    generator=generator,\n",
    "    dropout=0.5,\n",
    "    kernel_regularizer=keras.regularizers.l2(0.001),\n",
    ")\n",
    "\n",
    "x_inp, x_out = ppnp.in_out_tensors()\n",
    "predictions = keras.layers.Softmax()(x_out)"
   ]
  },
  {
   "cell_type": "markdown",
   "metadata": {},
   "source": [
    "### Training the model"
   ]
  },
  {
   "cell_type": "markdown",
   "metadata": {},
   "source": [
    "Now let's create the actual Keras model with the input tensors `x_inp` and output tensors being the predictions `predictions` from the final dense layer"
   ]
  },
  {
   "cell_type": "code",
   "execution_count": 13,
   "metadata": {},
   "outputs": [],
   "source": [
    "ppnp_model = Model(inputs=x_inp, outputs=predictions)\n",
    "ppnp_model.compile(\n",
    "    optimizer=optimizers.Adam(lr=0.01),\n",
    "    loss=losses.categorical_crossentropy,\n",
    "    metrics=[\"acc\"],\n",
    ")"
   ]
  },
  {
   "cell_type": "markdown",
   "metadata": {},
   "source": [
    "Train the model, keeping track of its loss and accuracy on the training set, and its generalisation performance on the validation set (we need to create another generator over the validation data for this)"
   ]
  },
  {
   "cell_type": "code",
   "execution_count": 14,
   "metadata": {},
   "outputs": [],
   "source": [
    "val_gen = generator.flow(val_subjects.index, val_targets)"
   ]
  },
  {
   "cell_type": "markdown",
   "metadata": {},
   "source": [
    "Create callbacks for early stopping (if validation accuracy stops improving) and best model checkpoint saving:"
   ]
  },
  {
   "cell_type": "code",
   "execution_count": 15,
   "metadata": {},
   "outputs": [],
   "source": [
    "if not os.path.isdir(\"logs\"):\n",
    "    os.makedirs(\"logs\")"
   ]
  },
  {
   "cell_type": "code",
   "execution_count": 16,
   "metadata": {},
   "outputs": [],
   "source": [
    "es_callback = EarlyStopping(\n",
    "    monitor=\"val_acc\", patience=50\n",
    ")  # patience is the number of epochs to wait before early stopping in case of no further improvement\n",
    "\n",
    "mc_callback = ModelCheckpoint(\n",
    "    \"logs/best_ppnp_model.h5\",\n",
    "    monitor=\"val_acc\",\n",
    "    save_best_only=True,\n",
    "    save_weights_only=True,\n",
    ")"
   ]
  },
  {
   "cell_type": "markdown",
   "metadata": {},
   "source": [
    "Train the model"
   ]
  },
  {
   "cell_type": "code",
   "execution_count": 17,
   "metadata": {},
   "outputs": [
    {
     "name": "stdout",
     "output_type": "stream",
     "text": [
      "  ['...']\n",
      "  ['...']\n",
      "Train for 1 steps, validate for 1 steps\n",
      "Epoch 1/80\n",
      "1/1 - 1s - loss: 2.1556 - acc: 0.1571 - val_loss: 2.0886 - val_acc: 0.3340\n",
      "Epoch 2/80\n",
      "1/1 - 0s - loss: 2.0775 - acc: 0.2643 - val_loss: 2.0250 - val_acc: 0.3020\n",
      "Epoch 3/80\n",
      "1/1 - 0s - loss: 2.0350 - acc: 0.3357 - val_loss: 1.9640 - val_acc: 0.3020\n",
      "Epoch 4/80\n",
      "1/1 - 0s - loss: 1.9686 - acc: 0.3500 - val_loss: 1.9072 - val_acc: 0.3020\n",
      "Epoch 5/80\n",
      "1/1 - 0s - loss: 1.9118 - acc: 0.3286 - val_loss: 1.8519 - val_acc: 0.3020\n",
      "Epoch 6/80\n",
      "1/1 - 0s - loss: 1.8614 - acc: 0.3286 - val_loss: 1.7883 - val_acc: 0.3300\n",
      "Epoch 7/80\n",
      "1/1 - 0s - loss: 1.8051 - acc: 0.3286 - val_loss: 1.7203 - val_acc: 0.3480\n",
      "Epoch 8/80\n",
      "1/1 - 0s - loss: 1.7383 - acc: 0.3786 - val_loss: 1.6565 - val_acc: 0.4700\n",
      "Epoch 9/80\n",
      "1/1 - 0s - loss: 1.7872 - acc: 0.3571 - val_loss: 1.6091 - val_acc: 0.6800\n",
      "Epoch 10/80\n",
      "1/1 - 0s - loss: 1.6437 - acc: 0.4929 - val_loss: 1.5580 - val_acc: 0.7120\n",
      "Epoch 11/80\n",
      "1/1 - 0s - loss: 1.5356 - acc: 0.6286 - val_loss: 1.4868 - val_acc: 0.7180\n",
      "Epoch 12/80\n",
      "1/1 - 0s - loss: 1.4670 - acc: 0.6429 - val_loss: 1.4052 - val_acc: 0.7120\n",
      "Epoch 13/80\n",
      "1/1 - 0s - loss: 1.4368 - acc: 0.6500 - val_loss: 1.3339 - val_acc: 0.6980\n",
      "Epoch 14/80\n",
      "1/1 - 0s - loss: 1.4221 - acc: 0.6357 - val_loss: 1.2761 - val_acc: 0.6920\n",
      "Epoch 15/80\n",
      "1/1 - 0s - loss: 1.3478 - acc: 0.6571 - val_loss: 1.2250 - val_acc: 0.6980\n",
      "Epoch 16/80\n",
      "1/1 - 0s - loss: 1.2365 - acc: 0.6714 - val_loss: 1.1672 - val_acc: 0.7160\n",
      "Epoch 17/80\n",
      "1/1 - 0s - loss: 1.1550 - acc: 0.7214 - val_loss: 1.1331 - val_acc: 0.7140\n",
      "Epoch 18/80\n",
      "1/1 - 0s - loss: 1.2100 - acc: 0.7000 - val_loss: 1.1136 - val_acc: 0.7120\n",
      "Epoch 19/80\n",
      "1/1 - 0s - loss: 1.1084 - acc: 0.7000 - val_loss: 1.1051 - val_acc: 0.7180\n",
      "Epoch 20/80\n",
      "1/1 - 0s - loss: 1.0961 - acc: 0.7143 - val_loss: 1.1169 - val_acc: 0.7140\n",
      "Epoch 21/80\n",
      "1/1 - 0s - loss: 1.1314 - acc: 0.7143 - val_loss: 1.1359 - val_acc: 0.7140\n",
      "Epoch 22/80\n",
      "1/1 - 0s - loss: 1.1363 - acc: 0.7143 - val_loss: 1.1387 - val_acc: 0.7280\n",
      "Epoch 23/80\n",
      "1/1 - 0s - loss: 1.0875 - acc: 0.7429 - val_loss: 1.1233 - val_acc: 0.7500\n",
      "Epoch 24/80\n",
      "1/1 - 0s - loss: 1.0232 - acc: 0.7429 - val_loss: 1.0945 - val_acc: 0.7540\n",
      "Epoch 25/80\n",
      "1/1 - 0s - loss: 1.0564 - acc: 0.7214 - val_loss: 1.0719 - val_acc: 0.7460\n",
      "Epoch 26/80\n",
      "1/1 - 0s - loss: 0.9832 - acc: 0.8143 - val_loss: 1.0603 - val_acc: 0.7540\n",
      "Epoch 27/80\n",
      "1/1 - 0s - loss: 0.9897 - acc: 0.7286 - val_loss: 1.0585 - val_acc: 0.7820\n",
      "Epoch 28/80\n",
      "1/1 - 0s - loss: 1.0085 - acc: 0.7500 - val_loss: 1.0713 - val_acc: 0.7640\n",
      "Epoch 29/80\n",
      "1/1 - 0s - loss: 0.9292 - acc: 0.7500 - val_loss: 1.0938 - val_acc: 0.7440\n",
      "Epoch 30/80\n",
      "1/1 - 0s - loss: 0.9356 - acc: 0.7571 - val_loss: 1.1067 - val_acc: 0.7300\n",
      "Epoch 31/80\n",
      "1/1 - 0s - loss: 0.8826 - acc: 0.7857 - val_loss: 1.1116 - val_acc: 0.7260\n",
      "Epoch 32/80\n",
      "1/1 - 0s - loss: 0.9411 - acc: 0.7643 - val_loss: 1.0897 - val_acc: 0.7380\n",
      "Epoch 33/80\n",
      "1/1 - 0s - loss: 0.9439 - acc: 0.7857 - val_loss: 1.0754 - val_acc: 0.7420\n",
      "Epoch 34/80\n",
      "1/1 - 0s - loss: 0.8490 - acc: 0.8143 - val_loss: 1.0711 - val_acc: 0.7500\n",
      "Epoch 35/80\n",
      "1/1 - 0s - loss: 0.8453 - acc: 0.7857 - val_loss: 1.0632 - val_acc: 0.7500\n",
      "Epoch 36/80\n",
      "1/1 - 0s - loss: 0.9247 - acc: 0.8143 - val_loss: 1.0490 - val_acc: 0.7620\n",
      "Epoch 37/80\n",
      "1/1 - 0s - loss: 0.8107 - acc: 0.8214 - val_loss: 1.0372 - val_acc: 0.7720\n",
      "Epoch 38/80\n",
      "1/1 - 0s - loss: 0.8992 - acc: 0.7714 - val_loss: 1.0296 - val_acc: 0.7840\n",
      "Epoch 39/80\n",
      "1/1 - 0s - loss: 0.7891 - acc: 0.8286 - val_loss: 1.0220 - val_acc: 0.7820\n",
      "Epoch 40/80\n",
      "1/1 - 0s - loss: 0.9525 - acc: 0.7857 - val_loss: 1.0094 - val_acc: 0.8060\n",
      "Epoch 41/80\n",
      "1/1 - 0s - loss: 0.8830 - acc: 0.8286 - val_loss: 1.0159 - val_acc: 0.8120\n",
      "Epoch 42/80\n",
      "1/1 - 0s - loss: 0.8916 - acc: 0.8143 - val_loss: 1.0131 - val_acc: 0.8080\n",
      "Epoch 43/80\n",
      "1/1 - 0s - loss: 0.8381 - acc: 0.8286 - val_loss: 1.0018 - val_acc: 0.8040\n",
      "Epoch 44/80\n",
      "1/1 - 0s - loss: 0.8140 - acc: 0.8143 - val_loss: 0.9910 - val_acc: 0.8080\n",
      "Epoch 45/80\n",
      "1/1 - 0s - loss: 0.8264 - acc: 0.8143 - val_loss: 0.9893 - val_acc: 0.8020\n",
      "Epoch 46/80\n",
      "1/1 - 0s - loss: 0.8354 - acc: 0.8429 - val_loss: 0.9942 - val_acc: 0.8000\n",
      "Epoch 47/80\n",
      "1/1 - 0s - loss: 0.8170 - acc: 0.8429 - val_loss: 0.9960 - val_acc: 0.8040\n",
      "Epoch 48/80\n",
      "1/1 - 0s - loss: 0.7662 - acc: 0.8500 - val_loss: 0.9941 - val_acc: 0.8080\n",
      "Epoch 49/80\n",
      "1/1 - 0s - loss: 0.8325 - acc: 0.8429 - val_loss: 0.9952 - val_acc: 0.8040\n",
      "Epoch 50/80\n",
      "1/1 - 0s - loss: 0.8063 - acc: 0.8643 - val_loss: 0.9960 - val_acc: 0.8020\n",
      "Epoch 51/80\n",
      "1/1 - 0s - loss: 0.7980 - acc: 0.8643 - val_loss: 0.9937 - val_acc: 0.8020\n",
      "Epoch 52/80\n",
      "1/1 - 0s - loss: 0.7730 - acc: 0.8571 - val_loss: 0.9832 - val_acc: 0.8040\n",
      "Epoch 53/80\n",
      "1/1 - 0s - loss: 0.8485 - acc: 0.8500 - val_loss: 0.9706 - val_acc: 0.8100\n",
      "Epoch 54/80\n",
      "1/1 - 0s - loss: 0.7297 - acc: 0.8714 - val_loss: 0.9555 - val_acc: 0.8160\n",
      "Epoch 55/80\n",
      "1/1 - 0s - loss: 0.8148 - acc: 0.8643 - val_loss: 0.9450 - val_acc: 0.8180\n",
      "Epoch 56/80\n",
      "1/1 - 0s - loss: 0.7451 - acc: 0.8857 - val_loss: 0.9424 - val_acc: 0.8140\n",
      "Epoch 57/80\n",
      "1/1 - 0s - loss: 0.7683 - acc: 0.8643 - val_loss: 0.9456 - val_acc: 0.8200\n",
      "Epoch 58/80\n",
      "1/1 - 0s - loss: 0.7997 - acc: 0.8500 - val_loss: 0.9535 - val_acc: 0.8160\n",
      "Epoch 59/80\n",
      "1/1 - 0s - loss: 0.7472 - acc: 0.8714 - val_loss: 0.9661 - val_acc: 0.8080\n",
      "Epoch 60/80\n",
      "1/1 - 0s - loss: 0.7238 - acc: 0.8714 - val_loss: 0.9792 - val_acc: 0.8060\n",
      "Epoch 61/80\n",
      "1/1 - 0s - loss: 0.7303 - acc: 0.8929 - val_loss: 0.9898 - val_acc: 0.8040\n",
      "Epoch 62/80\n",
      "1/1 - 0s - loss: 0.7680 - acc: 0.8714 - val_loss: 0.9973 - val_acc: 0.8060\n",
      "Epoch 63/80\n",
      "1/1 - 0s - loss: 0.8879 - acc: 0.8071 - val_loss: 1.0074 - val_acc: 0.8060\n",
      "Epoch 64/80\n",
      "1/1 - 0s - loss: 0.7826 - acc: 0.8714 - val_loss: 1.0149 - val_acc: 0.8040\n",
      "Epoch 65/80\n",
      "1/1 - 0s - loss: 0.6799 - acc: 0.8786 - val_loss: 1.0084 - val_acc: 0.8040\n",
      "Epoch 66/80\n",
      "1/1 - 0s - loss: 0.7639 - acc: 0.8500 - val_loss: 0.9935 - val_acc: 0.8040\n",
      "Epoch 67/80\n",
      "1/1 - 0s - loss: 0.7458 - acc: 0.8786 - val_loss: 0.9711 - val_acc: 0.8140\n",
      "Epoch 68/80\n",
      "1/1 - 0s - loss: 0.6320 - acc: 0.9000 - val_loss: 0.9564 - val_acc: 0.8180\n",
      "Epoch 69/80\n",
      "1/1 - 0s - loss: 0.7241 - acc: 0.8857 - val_loss: 0.9506 - val_acc: 0.8100\n",
      "Epoch 70/80\n",
      "1/1 - 0s - loss: 0.7390 - acc: 0.8286 - val_loss: 0.9448 - val_acc: 0.8220\n",
      "Epoch 71/80\n",
      "1/1 - 0s - loss: 0.6677 - acc: 0.8643 - val_loss: 0.9432 - val_acc: 0.8260\n",
      "Epoch 72/80\n",
      "1/1 - 0s - loss: 0.7128 - acc: 0.8929 - val_loss: 0.9440 - val_acc: 0.8260\n",
      "Epoch 73/80\n",
      "1/1 - 0s - loss: 0.6855 - acc: 0.9071 - val_loss: 0.9466 - val_acc: 0.8240\n",
      "Epoch 74/80\n",
      "1/1 - 0s - loss: 0.5749 - acc: 0.9071 - val_loss: 0.9514 - val_acc: 0.8160\n",
      "Epoch 75/80\n",
      "1/1 - 0s - loss: 0.7657 - acc: 0.8643 - val_loss: 0.9716 - val_acc: 0.8100\n",
      "Epoch 76/80\n",
      "1/1 - 0s - loss: 0.6559 - acc: 0.9143 - val_loss: 0.9918 - val_acc: 0.8140\n",
      "Epoch 77/80\n",
      "1/1 - 0s - loss: 0.6620 - acc: 0.8929 - val_loss: 1.0184 - val_acc: 0.8100\n",
      "Epoch 78/80\n",
      "1/1 - 0s - loss: 0.6626 - acc: 0.8929 - val_loss: 1.0408 - val_acc: 0.8100\n",
      "Epoch 79/80\n",
      "1/1 - 0s - loss: 0.6625 - acc: 0.8929 - val_loss: 1.0550 - val_acc: 0.8100\n",
      "Epoch 80/80\n",
      "1/1 - 0s - loss: 0.7359 - acc: 0.9000 - val_loss: 1.0519 - val_acc: 0.8140\n"
     ]
    }
   ],
   "source": [
    "history = ppnp_model.fit(\n",
    "    train_gen,\n",
    "    epochs=80,\n",
    "    validation_data=val_gen,\n",
    "    verbose=2,\n",
    "    shuffle=False,  # this should be False, since shuffling data means shuffling the whole graph\n",
    "    callbacks=[es_callback, mc_callback],\n",
    ")"
   ]
  },
  {
   "cell_type": "markdown",
   "metadata": {},
   "source": [
    "Plot the training history:"
   ]
  },
  {
   "cell_type": "code",
   "execution_count": 18,
   "metadata": {},
   "outputs": [
    {
     "data": {
      "image/png": "[encoded data removed]",
      "text/plain": [
       "<Figure size 504x576 with 2 Axes>"
      ]
     },
     "metadata": {
      "needs_background": "light"
     },
     "output_type": "display_data"
    }
   ],
   "source": [
    "sg.utils.plot_history(history)"
   ]
  },
  {
   "cell_type": "markdown",
   "metadata": {},
   "source": [
    "Reload the saved weights of the best model found during the training (according to validation accuracy)"
   ]
  },
  {
   "cell_type": "code",
   "execution_count": 19,
   "metadata": {},
   "outputs": [],
   "source": [
    "ppnp_model.load_weights(\"logs/best_ppnp_model.h5\")"
   ]
  },
  {
   "cell_type": "markdown",
   "metadata": {},
   "source": [
    "Evaluate the best model on the test set"
   ]
  },
  {
   "cell_type": "code",
   "execution_count": 20,
   "metadata": {},
   "outputs": [],
   "source": [
    "test_gen = generator.flow(test_subjects.index, test_targets)"
   ]
  },
  {
   "cell_type": "code",
   "execution_count": 21,
   "metadata": {},
   "outputs": [
    {
     "name": "stdout",
     "output_type": "stream",
     "text": [
      "  ['...']\n",
      "1/1 [==============================] - 0s 15ms/step - loss: 0.8854 - acc: 0.8351\n",
      "\n",
      "Test Set Metrics:\n",
      "\tloss: 0.8854\n",
      "\tacc: 0.8351\n"
     ]
    }
   ],
   "source": [
    "test_metrics = ppnp_model.evaluate(test_gen)\n",
    "print(\"\\nTest Set Metrics:\")\n",
    "for name, val in zip(ppnp_model.metrics_names, test_metrics):\n",
    "    print(\"\\t{}: {:0.4f}\".format(name, val))"
   ]
  },
  {
   "cell_type": "markdown",
   "metadata": {},
   "source": [
    "## Using the Approximate PPNP Model\n",
    "\n",
    "Lets repeat the training and testing steps with the APPNP model using the same dataset. The downside of the PPNP is that you have to invert the adjacency matrix - which is time inneficient for large graphs - and store that invert matrix - which is space innefficient. The approximate model avoids this issue by using a clever mathematical trick. \n",
    "\n",
    "The APPNP model uses the normalized graph Laplacian. To get the normalized graph Laplacian we create a new `FullBatchNodeGenerator` and set `method=\"gcn\"`. We have the option of choosing `sparse=True` or `sparse=False` but will use `sparse=True` for memory efficiency."
   ]
  },
  {
   "cell_type": "code",
   "execution_count": 22,
   "metadata": {},
   "outputs": [
    {
     "name": "stdout",
     "output_type": "stream",
     "text": [
      "Using GCN (local pooling) filters...\n",
      "  ['...']\n",
      "  ['...']\n",
      "Train for 1 steps, validate for 1 steps\n",
      "Epoch 1/120\n",
      "1/1 - 1s - loss: 2.1611 - acc: 0.1571 - val_loss: 2.0960 - val_acc: 0.3500\n",
      "Epoch 2/120\n",
      "1/1 - 0s - loss: 2.0830 - acc: 0.3214 - val_loss: 2.0560 - val_acc: 0.3780\n",
      "Epoch 3/120\n",
      "1/1 - 0s - loss: 2.0771 - acc: 0.2214 - val_loss: 2.0171 - val_acc: 0.3200\n",
      "Epoch 4/120\n",
      "1/1 - 0s - loss: 2.0152 - acc: 0.3286 - val_loss: 1.9767 - val_acc: 0.3040\n",
      "Epoch 5/120\n",
      "1/1 - 0s - loss: 1.9555 - acc: 0.3143 - val_loss: 1.9280 - val_acc: 0.3040\n",
      "Epoch 6/120\n",
      "1/1 - 0s - loss: 1.9276 - acc: 0.3357 - val_loss: 1.8699 - val_acc: 0.3160\n",
      "Epoch 7/120\n",
      "1/1 - 0s - loss: 1.9307 - acc: 0.3500 - val_loss: 1.8084 - val_acc: 0.3820\n",
      "Epoch 8/120\n",
      "1/1 - 0s - loss: 1.8068 - acc: 0.4286 - val_loss: 1.7449 - val_acc: 0.5320\n",
      "Epoch 9/120\n",
      "1/1 - 0s - loss: 1.7419 - acc: 0.4357 - val_loss: 1.6791 - val_acc: 0.6180\n",
      "Epoch 10/120\n",
      "1/1 - 0s - loss: 1.7992 - acc: 0.4429 - val_loss: 1.6142 - val_acc: 0.6160\n",
      "Epoch 11/120\n",
      "1/1 - 0s - loss: 1.6373 - acc: 0.5429 - val_loss: 1.5286 - val_acc: 0.6260\n",
      "Epoch 12/120\n",
      "1/1 - 0s - loss: 1.6104 - acc: 0.5000 - val_loss: 1.4470 - val_acc: 0.6480\n",
      "Epoch 13/120\n",
      "1/1 - 0s - loss: 1.5940 - acc: 0.5000 - val_loss: 1.3990 - val_acc: 0.6360\n",
      "Epoch 14/120\n",
      "1/1 - 0s - loss: 1.6000 - acc: 0.5286 - val_loss: 1.3676 - val_acc: 0.6400\n",
      "Epoch 15/120\n",
      "1/1 - 0s - loss: 1.4582 - acc: 0.5786 - val_loss: 1.3376 - val_acc: 0.6620\n",
      "Epoch 16/120\n",
      "1/1 - 0s - loss: 1.4981 - acc: 0.5643 - val_loss: 1.3105 - val_acc: 0.7040\n",
      "Epoch 17/120\n",
      "1/1 - 0s - loss: 1.4196 - acc: 0.6500 - val_loss: 1.2935 - val_acc: 0.7060\n",
      "Epoch 18/120\n",
      "1/1 - 0s - loss: 1.4223 - acc: 0.6286 - val_loss: 1.2826 - val_acc: 0.7040\n",
      "Epoch 19/120\n",
      "1/1 - 0s - loss: 1.6010 - acc: 0.5786 - val_loss: 1.2728 - val_acc: 0.7060\n",
      "Epoch 20/120\n",
      "1/1 - 0s - loss: 1.4398 - acc: 0.7000 - val_loss: 1.2584 - val_acc: 0.7200\n",
      "Epoch 21/120\n",
      "1/1 - 0s - loss: 1.3107 - acc: 0.6786 - val_loss: 1.2481 - val_acc: 0.7240\n",
      "Epoch 22/120\n",
      "1/1 - 0s - loss: 1.3125 - acc: 0.6714 - val_loss: 1.2400 - val_acc: 0.7180\n",
      "Epoch 23/120\n",
      "1/1 - 0s - loss: 1.3205 - acc: 0.6929 - val_loss: 1.2298 - val_acc: 0.7120\n",
      "Epoch 24/120\n",
      "1/1 - 0s - loss: 1.1782 - acc: 0.7500 - val_loss: 1.2171 - val_acc: 0.7020\n",
      "Epoch 25/120\n",
      "1/1 - 0s - loss: 1.2335 - acc: 0.7286 - val_loss: 1.2071 - val_acc: 0.6980\n",
      "Epoch 26/120\n",
      "1/1 - 0s - loss: 1.2707 - acc: 0.6714 - val_loss: 1.1907 - val_acc: 0.6980\n",
      "Epoch 27/120\n",
      "1/1 - 0s - loss: 1.2500 - acc: 0.6643 - val_loss: 1.1814 - val_acc: 0.7020\n",
      "Epoch 28/120\n",
      "1/1 - 0s - loss: 1.1690 - acc: 0.7500 - val_loss: 1.1774 - val_acc: 0.7040\n",
      "Epoch 29/120\n",
      "1/1 - 0s - loss: 1.3786 - acc: 0.7214 - val_loss: 1.1625 - val_acc: 0.7240\n",
      "Epoch 30/120\n",
      "1/1 - 0s - loss: 1.2246 - acc: 0.7429 - val_loss: 1.1497 - val_acc: 0.7360\n",
      "Epoch 31/120\n",
      "1/1 - 0s - loss: 1.1109 - acc: 0.7929 - val_loss: 1.1388 - val_acc: 0.7440\n",
      "Epoch 32/120\n",
      "1/1 - 0s - loss: 1.0982 - acc: 0.7929 - val_loss: 1.1308 - val_acc: 0.7600\n",
      "Epoch 33/120\n",
      "1/1 - 0s - loss: 1.0929 - acc: 0.7357 - val_loss: 1.1294 - val_acc: 0.7500\n",
      "Epoch 34/120\n",
      "1/1 - 0s - loss: 1.1645 - acc: 0.7429 - val_loss: 1.1390 - val_acc: 0.7360\n",
      "Epoch 35/120\n",
      "1/1 - 0s - loss: 1.0615 - acc: 0.7714 - val_loss: 1.1495 - val_acc: 0.7320\n",
      "Epoch 36/120\n",
      "1/1 - 0s - loss: 1.1692 - acc: 0.7643 - val_loss: 1.1454 - val_acc: 0.7340\n",
      "Epoch 37/120\n",
      "1/1 - 0s - loss: 1.1044 - acc: 0.8000 - val_loss: 1.1329 - val_acc: 0.7460\n",
      "Epoch 38/120\n",
      "1/1 - 0s - loss: 1.0422 - acc: 0.7857 - val_loss: 1.1178 - val_acc: 0.7580\n",
      "Epoch 39/120\n",
      "1/1 - 0s - loss: 1.0328 - acc: 0.8571 - val_loss: 1.1105 - val_acc: 0.7660\n",
      "Epoch 40/120\n",
      "1/1 - 0s - loss: 0.9567 - acc: 0.8357 - val_loss: 1.1098 - val_acc: 0.7680\n",
      "Epoch 41/120\n",
      "1/1 - 0s - loss: 0.9312 - acc: 0.8357 - val_loss: 1.1015 - val_acc: 0.7760\n",
      "Epoch 42/120\n",
      "1/1 - 0s - loss: 1.2391 - acc: 0.8071 - val_loss: 1.0930 - val_acc: 0.7740\n",
      "Epoch 43/120\n",
      "1/1 - 0s - loss: 1.5978 - acc: 0.8000 - val_loss: 1.0912 - val_acc: 0.7700\n",
      "Epoch 44/120\n",
      "1/1 - 0s - loss: 1.0150 - acc: 0.8071 - val_loss: 1.1093 - val_acc: 0.7520\n",
      "Epoch 45/120\n",
      "1/1 - 0s - loss: 0.9192 - acc: 0.8071 - val_loss: 1.1448 - val_acc: 0.7380\n",
      "Epoch 46/120\n",
      "1/1 - 0s - loss: 0.9793 - acc: 0.8071 - val_loss: 1.1717 - val_acc: 0.7380\n",
      "Epoch 47/120\n",
      "1/1 - 0s - loss: 1.1117 - acc: 0.7929 - val_loss: 1.1779 - val_acc: 0.7380\n",
      "Epoch 48/120\n",
      "1/1 - 0s - loss: 0.9973 - acc: 0.7929 - val_loss: 1.1706 - val_acc: 0.7420\n",
      "Epoch 49/120\n",
      "1/1 - 0s - loss: 1.0187 - acc: 0.7929 - val_loss: 1.1559 - val_acc: 0.7500\n",
      "Epoch 50/120\n",
      "1/1 - 0s - loss: 0.9383 - acc: 0.8571 - val_loss: 1.1413 - val_acc: 0.7580\n",
      "Epoch 51/120\n",
      "1/1 - 0s - loss: 0.9927 - acc: 0.8571 - val_loss: 1.1302 - val_acc: 0.7600\n",
      "Epoch 52/120\n",
      "1/1 - 0s - loss: 0.9229 - acc: 0.8571 - val_loss: 1.1256 - val_acc: 0.7660\n",
      "Epoch 53/120\n",
      "1/1 - 0s - loss: 1.1314 - acc: 0.7929 - val_loss: 1.1287 - val_acc: 0.7780\n",
      "Epoch 54/120\n",
      "1/1 - 0s - loss: 0.9056 - acc: 0.8357 - val_loss: 1.1345 - val_acc: 0.7760\n",
      "Epoch 55/120\n",
      "1/1 - 0s - loss: 1.0820 - acc: 0.8286 - val_loss: 1.1394 - val_acc: 0.7760\n",
      "Epoch 56/120\n",
      "1/1 - 0s - loss: 0.9782 - acc: 0.8357 - val_loss: 1.1435 - val_acc: 0.7820\n",
      "Epoch 57/120\n",
      "1/1 - 0s - loss: 0.9712 - acc: 0.8500 - val_loss: 1.1485 - val_acc: 0.7780\n",
      "Epoch 58/120\n",
      "1/1 - 0s - loss: 1.0927 - acc: 0.8071 - val_loss: 1.1563 - val_acc: 0.7740\n",
      "Epoch 59/120\n",
      "1/1 - 0s - loss: 1.0473 - acc: 0.8500 - val_loss: 1.1698 - val_acc: 0.7720\n",
      "Epoch 60/120\n",
      "1/1 - 0s - loss: 0.9803 - acc: 0.8286 - val_loss: 1.1760 - val_acc: 0.7640\n",
      "Epoch 61/120\n",
      "1/1 - 0s - loss: 1.0508 - acc: 0.8286 - val_loss: 1.1723 - val_acc: 0.7640\n",
      "Epoch 62/120\n",
      "1/1 - 0s - loss: 0.9952 - acc: 0.8214 - val_loss: 1.1675 - val_acc: 0.7640\n",
      "Epoch 63/120\n",
      "1/1 - 0s - loss: 0.8698 - acc: 0.8857 - val_loss: 1.1602 - val_acc: 0.7660\n",
      "Epoch 64/120\n",
      "1/1 - 0s - loss: 1.0041 - acc: 0.8500 - val_loss: 1.1508 - val_acc: 0.7700\n",
      "Epoch 65/120\n",
      "1/1 - 0s - loss: 0.8682 - acc: 0.8357 - val_loss: 1.1417 - val_acc: 0.7740\n",
      "Epoch 66/120\n",
      "1/1 - 0s - loss: 0.8056 - acc: 0.8786 - val_loss: 1.1343 - val_acc: 0.7720\n",
      "Epoch 67/120\n",
      "1/1 - 0s - loss: 0.9993 - acc: 0.8214 - val_loss: 1.1314 - val_acc: 0.7660\n",
      "Epoch 68/120\n",
      "1/1 - 0s - loss: 0.8606 - acc: 0.8357 - val_loss: 1.1302 - val_acc: 0.7740\n",
      "Epoch 69/120\n",
      "1/1 - 0s - loss: 0.9701 - acc: 0.7929 - val_loss: 1.1283 - val_acc: 0.7800\n",
      "Epoch 70/120\n",
      "1/1 - 0s - loss: 1.0286 - acc: 0.8286 - val_loss: 1.1265 - val_acc: 0.7740\n",
      "Epoch 71/120\n",
      "1/1 - 0s - loss: 0.9034 - acc: 0.8214 - val_loss: 1.1273 - val_acc: 0.7740\n",
      "Epoch 72/120\n",
      "1/1 - 0s - loss: 1.0693 - acc: 0.8071 - val_loss: 1.1319 - val_acc: 0.7840\n",
      "Epoch 73/120\n",
      "1/1 - 0s - loss: 0.8972 - acc: 0.8214 - val_loss: 1.1418 - val_acc: 0.7840\n",
      "Epoch 74/120\n",
      "1/1 - 0s - loss: 0.8502 - acc: 0.8571 - val_loss: 1.1508 - val_acc: 0.7880\n",
      "Epoch 75/120\n",
      "1/1 - 0s - loss: 0.9756 - acc: 0.8500 - val_loss: 1.1568 - val_acc: 0.7860\n",
      "Epoch 76/120\n",
      "1/1 - 0s - loss: 0.8226 - acc: 0.8714 - val_loss: 1.1593 - val_acc: 0.7880\n",
      "Epoch 77/120\n",
      "1/1 - 0s - loss: 0.8669 - acc: 0.8571 - val_loss: 1.1600 - val_acc: 0.7920\n",
      "Epoch 78/120\n",
      "1/1 - 0s - loss: 0.8231 - acc: 0.8929 - val_loss: 1.1553 - val_acc: 0.7940\n",
      "Epoch 79/120\n",
      "1/1 - 0s - loss: 0.9313 - acc: 0.8214 - val_loss: 1.1475 - val_acc: 0.7980\n",
      "Epoch 80/120\n",
      "1/1 - 0s - loss: 0.9309 - acc: 0.8643 - val_loss: 1.1389 - val_acc: 0.7920\n",
      "Epoch 81/120\n",
      "1/1 - 0s - loss: 0.9103 - acc: 0.9071 - val_loss: 1.1309 - val_acc: 0.7940\n",
      "Epoch 82/120\n",
      "1/1 - 0s - loss: 0.9027 - acc: 0.8714 - val_loss: 1.1249 - val_acc: 0.8060\n",
      "Epoch 83/120\n",
      "1/1 - 0s - loss: 0.7483 - acc: 0.8857 - val_loss: 1.1217 - val_acc: 0.7980\n",
      "Epoch 84/120\n",
      "1/1 - 0s - loss: 0.7934 - acc: 0.8857 - val_loss: 1.1188 - val_acc: 0.8040\n",
      "Epoch 85/120\n",
      "1/1 - 0s - loss: 0.7704 - acc: 0.8929 - val_loss: 1.1172 - val_acc: 0.7960\n",
      "Epoch 86/120\n",
      "1/1 - 0s - loss: 0.8442 - acc: 0.8643 - val_loss: 1.1168 - val_acc: 0.7960\n",
      "Epoch 87/120\n",
      "1/1 - 0s - loss: 0.7724 - acc: 0.9214 - val_loss: 1.1138 - val_acc: 0.8020\n",
      "Epoch 88/120\n",
      "1/1 - 0s - loss: 0.8009 - acc: 0.8929 - val_loss: 1.1145 - val_acc: 0.7960\n",
      "Epoch 89/120\n",
      "1/1 - 0s - loss: 0.7859 - acc: 0.8786 - val_loss: 1.1210 - val_acc: 0.7960\n",
      "Epoch 90/120\n",
      "1/1 - 0s - loss: 1.0622 - acc: 0.8143 - val_loss: 1.1252 - val_acc: 0.7940\n",
      "Epoch 91/120\n",
      "1/1 - 0s - loss: 1.0906 - acc: 0.8571 - val_loss: 1.1266 - val_acc: 0.7940\n",
      "Epoch 92/120\n",
      "1/1 - 0s - loss: 0.8647 - acc: 0.8571 - val_loss: 1.1287 - val_acc: 0.7940\n",
      "Epoch 93/120\n",
      "1/1 - 0s - loss: 0.9691 - acc: 0.8571 - val_loss: 1.1297 - val_acc: 0.7920\n",
      "Epoch 94/120\n",
      "1/1 - 0s - loss: 0.9680 - acc: 0.8214 - val_loss: 1.1307 - val_acc: 0.8080\n",
      "Epoch 95/120\n",
      "1/1 - 0s - loss: 0.7526 - acc: 0.8929 - val_loss: 1.1313 - val_acc: 0.8100\n",
      "Epoch 96/120\n",
      "1/1 - 0s - loss: 0.8328 - acc: 0.8857 - val_loss: 1.1308 - val_acc: 0.8080\n",
      "Epoch 97/120\n",
      "1/1 - 0s - loss: 0.7748 - acc: 0.9000 - val_loss: 1.1352 - val_acc: 0.8040\n",
      "Epoch 98/120\n",
      "1/1 - 0s - loss: 0.7760 - acc: 0.9286 - val_loss: 1.1388 - val_acc: 0.7980\n",
      "Epoch 99/120\n",
      "1/1 - 0s - loss: 0.8175 - acc: 0.9143 - val_loss: 1.1458 - val_acc: 0.7920\n",
      "Epoch 100/120\n",
      "1/1 - 0s - loss: 0.8016 - acc: 0.8786 - val_loss: 1.1541 - val_acc: 0.7860\n",
      "Epoch 101/120\n",
      "1/1 - 0s - loss: 0.9525 - acc: 0.8429 - val_loss: 1.1617 - val_acc: 0.7840\n",
      "Epoch 102/120\n",
      "1/1 - 0s - loss: 0.9398 - acc: 0.8857 - val_loss: 1.1624 - val_acc: 0.7820\n",
      "Epoch 103/120\n",
      "1/1 - 0s - loss: 0.8202 - acc: 0.9357 - val_loss: 1.1559 - val_acc: 0.7740\n",
      "Epoch 104/120\n",
      "1/1 - 0s - loss: 0.7174 - acc: 0.9429 - val_loss: 1.1506 - val_acc: 0.7720\n",
      "Epoch 105/120\n",
      "1/1 - 0s - loss: 0.7702 - acc: 0.8929 - val_loss: 1.1487 - val_acc: 0.7760\n",
      "Epoch 106/120\n",
      "1/1 - 0s - loss: 0.7437 - acc: 0.8929 - val_loss: 1.1464 - val_acc: 0.7700\n",
      "Epoch 107/120\n",
      "1/1 - 0s - loss: 0.9028 - acc: 0.9143 - val_loss: 1.1480 - val_acc: 0.7700\n",
      "Epoch 108/120\n",
      "1/1 - 0s - loss: 0.8906 - acc: 0.8643 - val_loss: 1.1473 - val_acc: 0.7800\n",
      "Epoch 109/120\n",
      "1/1 - 0s - loss: 0.6920 - acc: 0.8929 - val_loss: 1.1385 - val_acc: 0.7820\n",
      "Epoch 110/120\n",
      "1/1 - 0s - loss: 0.9391 - acc: 0.8643 - val_loss: 1.1308 - val_acc: 0.7900\n",
      "Epoch 111/120\n",
      "1/1 - 0s - loss: 0.8782 - acc: 0.8786 - val_loss: 1.1131 - val_acc: 0.7980\n",
      "Epoch 112/120\n",
      "1/1 - 0s - loss: 0.7309 - acc: 0.9071 - val_loss: 1.0996 - val_acc: 0.7960\n",
      "Epoch 113/120\n",
      "1/1 - 0s - loss: 0.7774 - acc: 0.9143 - val_loss: 1.0933 - val_acc: 0.8020\n",
      "Epoch 114/120\n",
      "1/1 - 0s - loss: 0.7890 - acc: 0.9000 - val_loss: 1.0939 - val_acc: 0.8080\n",
      "Epoch 115/120\n",
      "1/1 - 0s - loss: 0.9179 - acc: 0.8786 - val_loss: 1.1045 - val_acc: 0.8040\n",
      "Epoch 116/120\n",
      "1/1 - 0s - loss: 0.7260 - acc: 0.9357 - val_loss: 1.1189 - val_acc: 0.8000\n",
      "Epoch 117/120\n",
      "1/1 - 0s - loss: 0.7813 - acc: 0.9071 - val_loss: 1.1254 - val_acc: 0.7940\n",
      "Epoch 118/120\n",
      "1/1 - 0s - loss: 0.8243 - acc: 0.8929 - val_loss: 1.1271 - val_acc: 0.8040\n",
      "Epoch 119/120\n",
      "1/1 - 0s - loss: 0.9089 - acc: 0.8786 - val_loss: 1.1246 - val_acc: 0.8000\n",
      "Epoch 120/120\n",
      "1/1 - 0s - loss: 0.8312 - acc: 0.8929 - val_loss: 1.1206 - val_acc: 0.8060\n"
     ]
    }
   ],
   "source": [
    "generator = FullBatchNodeGenerator(G, method=\"gcn\", sparse=True)\n",
    "\n",
    "train_gen = generator.flow(train_subjects.index, train_targets)\n",
    "val_gen = generator.flow(val_subjects.index, val_targets)\n",
    "test_gen = generator.flow(test_subjects.index, test_targets)\n",
    "\n",
    "appnp = APPNP(\n",
    "    layer_sizes=[64, 64, train_targets.shape[-1]],\n",
    "    activations=[\"relu\", \"relu\", \"relu\"],\n",
    "    bias=True,\n",
    "    generator=generator,\n",
    "    teleport_probability=0.1,\n",
    "    dropout=0.5,\n",
    "    kernel_regularizer=keras.regularizers.l2(0.001),\n",
    ")\n",
    "\n",
    "x_inp, x_out = appnp.in_out_tensors()\n",
    "predictions = keras.layers.Softmax()(x_out)\n",
    "\n",
    "appnp_model = keras.models.Model(inputs=x_inp, outputs=predictions)\n",
    "appnp_model.compile(\n",
    "    loss=\"categorical_crossentropy\",\n",
    "    metrics=[\"acc\"],\n",
    "    optimizer=keras.optimizers.Adam(lr=0.01),\n",
    ")\n",
    "\n",
    "es_callback = EarlyStopping(\n",
    "    monitor=\"val_acc\", patience=50\n",
    ")  # patience is the number of epochs to wait before early stopping in case of no further improvement\n",
    "\n",
    "mc_callback = ModelCheckpoint(\n",
    "    \"logs/best_appnp_model.h5\",\n",
    "    monitor=\"val_acc\",\n",
    "    save_best_only=True,\n",
    "    save_weights_only=True,\n",
    ")\n",
    "\n",
    "history = appnp_model.fit(\n",
    "    train_gen,\n",
    "    epochs=120,\n",
    "    validation_data=val_gen,\n",
    "    verbose=2,\n",
    "    shuffle=False,  # this should be False, since shuffling data means shuffling the whole graph\n",
    "    callbacks=[es_callback, mc_callback],\n",
    ")"
   ]
  },
  {
   "cell_type": "code",
   "execution_count": 23,
   "metadata": {},
   "outputs": [
    {
     "data": {
      "image/png": "[encoded data removed]",
      "text/plain": [
       "<Figure size 504x576 with 2 Axes>"
      ]
     },
     "metadata": {
      "needs_background": "light"
     },
     "output_type": "display_data"
    }
   ],
   "source": [
    "sg.utils.plot_history(history)"
   ]
  },
  {
   "cell_type": "code",
   "execution_count": 24,
   "metadata": {},
   "outputs": [
    {
     "name": "stdout",
     "output_type": "stream",
     "text": [
      "  ['...']\n",
      "1/1 [==============================] - 0s 8ms/step - loss: 1.0577 - acc: 0.8158\n",
      "\n",
      "Test Set Metrics:\n",
      "\tloss: 1.0577\n",
      "\tacc: 0.8158\n"
     ]
    }
   ],
   "source": [
    "appnp_model.load_weights(\"logs/best_appnp_model.h5\")\n",
    "test_metrics = appnp_model.evaluate(test_gen)\n",
    "print(\"\\nTest Set Metrics:\")\n",
    "for name, val in zip(appnp_model.metrics_names, test_metrics):\n",
    "    print(\"\\t{}: {:0.4f}\".format(name, val))"
   ]
  },
  {
   "cell_type": "markdown",
   "metadata": {},
   "source": [
    "### Scalable APPNP Training\n",
    "\n",
    "Now we're going to exploit the structure of PPNP for scalable training. PPNP consists of a fully-connected neural network followed by a graph propogation step. For each node, the fully-connected network outputs a score for each class and the propogaiton step basically takes a weighted average of scores of nearby nodes (closer nodes are weighted higher). \n",
    "\n",
    "Above, we trained the whole network end-to-end which obtains the most accurate results but  requires us to load the entire graph onto our GPU memory. This is because we need the entire graph for the propogation step. Unfortunately, this limits the graph size by our GPU memory. To get around this, we can train the fully-connected network separately and once we have a trained fully connected network we can add the graph propagation step.  The advantage of this approach is that we can train on batches of node features instead of the entire graph.\n",
    "\n",
    "The model in the propagation step can be any keras model trained on node features to predict the target classes. In this example we use a fully connected neural network with bag of word features as input. We could easily swap out the bag of words features for the complete text and replace the fully connected network with a state-of-the-art NLP model (for example BERT [1]), fine-tune the model and propagate its predictions.\n",
    "\n",
    "\n",
    "<br>\n",
    "\n",
    "1. Devlin, J., Chang, M. W., Lee, K., & Toutanova, K. (2018). Bert: Pre-training of deep bidirectional transformers for language understanding. https://arxiv.org/abs/1810.04805"
   ]
  },
  {
   "cell_type": "markdown",
   "metadata": {},
   "source": [
    "First we create and train a fully connected model."
   ]
  },
  {
   "cell_type": "code",
   "execution_count": 25,
   "metadata": {},
   "outputs": [],
   "source": [
    "model = keras.models.Model()\n",
    "\n",
    "in_layer = layers.Input(shape=(G.node_feature_sizes()[\"paper\"],))\n",
    "\n",
    "layer = layers.Dropout(0.5)(in_layer)\n",
    "layer = layers.Dense(64, activation=\"relu\", kernel_regularizer=\"l2\")(layer)\n",
    "layer = layers.Dropout(0.5)(layer)\n",
    "layer = layers.Dense(64, activation=\"relu\", kernel_regularizer=\"l2\")(layer)\n",
    "layer = layers.Dropout(0.5)(layer)\n",
    "\n",
    "# note the dimension of the output should equal the number of classes to predict!\n",
    "layer = layers.Dense(train_targets.shape[-1], activation=\"relu\")(layer)\n",
    "layer = layers.Softmax()(layer)\n",
    "\n",
    "fully_connected_model = keras.models.Model(inputs=in_layer, outputs=layer)\n",
    "\n",
    "fully_connected_model.compile(\n",
    "    loss=\"categorical_crossentropy\", metrics=[\"acc\"], optimizer=optimizers.Adam(lr=0.01)\n",
    ")\n",
    "\n",
    "# the inputs are just the node features\n",
    "X_train = G.node_features(train_subjects.index)\n",
    "X_val = G.node_features(val_subjects.index)"
   ]
  },
  {
   "cell_type": "code",
   "execution_count": 26,
   "metadata": {},
   "outputs": [
    {
     "name": "stdout",
     "output_type": "stream",
     "text": [
      "Train on 140 samples, validate on 500 samples\n",
      "Epoch 1/2000\n",
      "140/140 [==============================] - 0s 3ms/sample - loss: 3.8201 - acc: 0.1286 - val_loss: 3.2912 - val_acc: 0.3080\n",
      "Epoch 2/2000\n",
      "140/140 [==============================] - 0s 83us/sample - loss: 3.2808 - acc: 0.2714 - val_loss: 2.9294 - val_acc: 0.3020\n",
      "Epoch 3/2000\n",
      "140/140 [==============================] - 0s 78us/sample - loss: 2.8792 - acc: 0.3214 - val_loss: 2.6845 - val_acc: 0.3020\n",
      "Epoch 4/2000\n",
      "140/140 [==============================] - 0s 84us/sample - loss: 2.6692 - acc: 0.3071 - val_loss: 2.5253 - val_acc: 0.3020\n",
      "Epoch 5/2000\n",
      "140/140 [==============================] - 0s 92us/sample - loss: 2.4449 - acc: 0.3214 - val_loss: 2.4298 - val_acc: 0.3020\n",
      "Epoch 6/2000\n",
      "140/140 [==============================] - 0s 79us/sample - loss: 2.3284 - acc: 0.3143 - val_loss: 2.3773 - val_acc: 0.3020\n",
      "Epoch 7/2000\n",
      "140/140 [==============================] - 0s 83us/sample - loss: 2.2412 - acc: 0.3286 - val_loss: 2.3464 - val_acc: 0.3020\n",
      "Epoch 8/2000\n",
      "140/140 [==============================] - 0s 103us/sample - loss: 2.2228 - acc: 0.3071 - val_loss: 2.3212 - val_acc: 0.3020\n",
      "Epoch 9/2000\n",
      "140/140 [==============================] - 0s 164us/sample - loss: 2.1642 - acc: 0.3429 - val_loss: 2.2951 - val_acc: 0.3220\n",
      "Epoch 10/2000\n",
      "140/140 [==============================] - 0s 143us/sample - loss: 2.0998 - acc: 0.3929 - val_loss: 2.2695 - val_acc: 0.3820\n",
      "Epoch 11/2000\n",
      "140/140 [==============================] - 0s 141us/sample - loss: 2.0418 - acc: 0.4214 - val_loss: 2.2445 - val_acc: 0.4320\n",
      "Epoch 12/2000\n",
      "140/140 [==============================] - 0s 142us/sample - loss: 1.9640 - acc: 0.5143 - val_loss: 2.2181 - val_acc: 0.4480\n",
      "Epoch 13/2000\n",
      "140/140 [==============================] - 0s 142us/sample - loss: 1.8945 - acc: 0.5214 - val_loss: 2.1876 - val_acc: 0.4760\n",
      "Epoch 14/2000\n",
      "140/140 [==============================] - 0s 151us/sample - loss: 1.8290 - acc: 0.5429 - val_loss: 2.1535 - val_acc: 0.4780\n",
      "Epoch 15/2000\n",
      "140/140 [==============================] - 0s 150us/sample - loss: 1.7720 - acc: 0.5786 - val_loss: 2.1225 - val_acc: 0.4800\n",
      "Epoch 16/2000\n",
      "140/140 [==============================] - 0s 157us/sample - loss: 1.8089 - acc: 0.5857 - val_loss: 2.0908 - val_acc: 0.4820\n",
      "Epoch 17/2000\n",
      "140/140 [==============================] - 0s 157us/sample - loss: 1.6867 - acc: 0.5929 - val_loss: 2.0573 - val_acc: 0.4900\n",
      "Epoch 18/2000\n",
      "140/140 [==============================] - 0s 146us/sample - loss: 1.5806 - acc: 0.6286 - val_loss: 2.0274 - val_acc: 0.4940\n",
      "Epoch 19/2000\n",
      "140/140 [==============================] - 0s 95us/sample - loss: 1.5333 - acc: 0.6357 - val_loss: 2.0046 - val_acc: 0.4920\n",
      "Epoch 20/2000\n",
      "140/140 [==============================] - 0s 95us/sample - loss: 1.4646 - acc: 0.6500 - val_loss: 1.9873 - val_acc: 0.4920\n",
      "Epoch 21/2000\n",
      "140/140 [==============================] - 0s 86us/sample - loss: 1.4614 - acc: 0.6500 - val_loss: 1.9709 - val_acc: 0.4940\n",
      "Epoch 22/2000\n",
      "140/140 [==============================] - 0s 149us/sample - loss: 1.4018 - acc: 0.7000 - val_loss: 1.9564 - val_acc: 0.5000\n",
      "Epoch 23/2000\n",
      "140/140 [==============================] - 0s 143us/sample - loss: 1.3746 - acc: 0.7071 - val_loss: 1.9532 - val_acc: 0.5160\n",
      "Epoch 24/2000\n",
      "140/140 [==============================] - 0s 147us/sample - loss: 1.3467 - acc: 0.7143 - val_loss: 1.9540 - val_acc: 0.5240\n",
      "Epoch 25/2000\n",
      "140/140 [==============================] - 0s 89us/sample - loss: 1.2373 - acc: 0.8071 - val_loss: 1.9415 - val_acc: 0.5120\n",
      "Epoch 26/2000\n",
      "140/140 [==============================] - 0s 94us/sample - loss: 1.3242 - acc: 0.7571 - val_loss: 1.9392 - val_acc: 0.5080\n",
      "Epoch 27/2000\n",
      "140/140 [==============================] - 0s 87us/sample - loss: 1.1863 - acc: 0.7857 - val_loss: 1.9469 - val_acc: 0.5080\n",
      "Epoch 28/2000\n",
      "140/140 [==============================] - 0s 89us/sample - loss: 1.3267 - acc: 0.7857 - val_loss: 1.9560 - val_acc: 0.4980\n",
      "Epoch 29/2000\n",
      "140/140 [==============================] - 0s 82us/sample - loss: 1.1390 - acc: 0.8429 - val_loss: 1.9454 - val_acc: 0.5160\n",
      "Epoch 30/2000\n",
      "140/140 [==============================] - 0s 92us/sample - loss: 1.1522 - acc: 0.8429 - val_loss: 1.9369 - val_acc: 0.5240\n",
      "Epoch 31/2000\n",
      "140/140 [==============================] - 0s 158us/sample - loss: 1.1971 - acc: 0.7929 - val_loss: 1.9244 - val_acc: 0.5360\n",
      "Epoch 32/2000\n",
      "140/140 [==============================] - 0s 88us/sample - loss: 1.1052 - acc: 0.8786 - val_loss: 1.9267 - val_acc: 0.5260\n",
      "Epoch 33/2000\n",
      "140/140 [==============================] - 0s 98us/sample - loss: 1.0775 - acc: 0.8786 - val_loss: 1.9390 - val_acc: 0.5320\n",
      "Epoch 34/2000\n",
      "140/140 [==============================] - 0s 148us/sample - loss: 1.1779 - acc: 0.8143 - val_loss: 1.9429 - val_acc: 0.5500\n",
      "Epoch 35/2000\n",
      "140/140 [==============================] - 0s 155us/sample - loss: 1.1674 - acc: 0.8143 - val_loss: 1.9438 - val_acc: 0.5540\n",
      "Epoch 36/2000\n",
      "140/140 [==============================] - 0s 92us/sample - loss: 1.0945 - acc: 0.8714 - val_loss: 1.9487 - val_acc: 0.5520\n",
      "Epoch 37/2000\n",
      "140/140 [==============================] - 0s 85us/sample - loss: 1.0334 - acc: 0.9000 - val_loss: 1.9659 - val_acc: 0.5460\n",
      "Epoch 38/2000\n",
      "140/140 [==============================] - 0s 90us/sample - loss: 1.1242 - acc: 0.8357 - val_loss: 1.9779 - val_acc: 0.5420\n",
      "Epoch 39/2000\n",
      "140/140 [==============================] - 0s 107us/sample - loss: 0.9863 - acc: 0.9429 - val_loss: 1.9859 - val_acc: 0.5420\n",
      "Epoch 40/2000\n",
      "140/140 [==============================] - 0s 88us/sample - loss: 1.0593 - acc: 0.9143 - val_loss: 1.9760 - val_acc: 0.5420\n",
      "Epoch 41/2000\n",
      "140/140 [==============================] - 0s 107us/sample - loss: 1.0438 - acc: 0.8786 - val_loss: 1.9663 - val_acc: 0.5360\n",
      "Epoch 42/2000\n",
      "140/140 [==============================] - 0s 92us/sample - loss: 1.0331 - acc: 0.8857 - val_loss: 1.9657 - val_acc: 0.5500\n",
      "Epoch 43/2000\n",
      "140/140 [==============================] - 0s 100us/sample - loss: 1.1313 - acc: 0.8643 - val_loss: 1.9746 - val_acc: 0.5500\n",
      "Epoch 44/2000\n",
      "140/140 [==============================] - 0s 94us/sample - loss: 0.9899 - acc: 0.9214 - val_loss: 1.9764 - val_acc: 0.5440\n",
      "Epoch 45/2000\n",
      "140/140 [==============================] - 0s 87us/sample - loss: 1.0035 - acc: 0.9214 - val_loss: 1.9694 - val_acc: 0.5500\n",
      "Epoch 46/2000\n",
      "140/140 [==============================] - 0s 95us/sample - loss: 1.1105 - acc: 0.8429 - val_loss: 1.9550 - val_acc: 0.5520\n",
      "Epoch 47/2000\n",
      "140/140 [==============================] - 0s 156us/sample - loss: 0.9754 - acc: 0.9071 - val_loss: 1.9484 - val_acc: 0.5580\n",
      "Epoch 48/2000\n",
      "140/140 [==============================] - 0s 97us/sample - loss: 1.0279 - acc: 0.8857 - val_loss: 1.9500 - val_acc: 0.5520\n",
      "Epoch 49/2000\n",
      "140/140 [==============================] - 0s 97us/sample - loss: 1.0529 - acc: 0.8786 - val_loss: 1.9544 - val_acc: 0.5400\n",
      "Epoch 50/2000\n",
      "140/140 [==============================] - 0s 105us/sample - loss: 1.1056 - acc: 0.8357 - val_loss: 1.9536 - val_acc: 0.5440\n",
      "Epoch 51/2000\n",
      "140/140 [==============================] - 0s 98us/sample - loss: 0.9449 - acc: 0.9357 - val_loss: 1.9526 - val_acc: 0.5320\n",
      "Epoch 52/2000\n",
      "140/140 [==============================] - 0s 100us/sample - loss: 0.9428 - acc: 0.9214 - val_loss: 1.9504 - val_acc: 0.5400\n",
      "Epoch 53/2000\n",
      "140/140 [==============================] - 0s 112us/sample - loss: 0.9933 - acc: 0.9000 - val_loss: 1.9406 - val_acc: 0.5500\n",
      "Epoch 54/2000\n",
      "140/140 [==============================] - 0s 104us/sample - loss: 0.9363 - acc: 0.9429 - val_loss: 1.9353 - val_acc: 0.5520\n",
      "Epoch 55/2000\n",
      "140/140 [==============================] - 0s 83us/sample - loss: 1.0300 - acc: 0.8643 - val_loss: 1.9259 - val_acc: 0.5560\n",
      "Epoch 56/2000\n",
      "140/140 [==============================] - 0s 152us/sample - loss: 0.9245 - acc: 0.9214 - val_loss: 1.9302 - val_acc: 0.5680\n",
      "Epoch 57/2000\n",
      "140/140 [==============================] - 0s 85us/sample - loss: 1.0145 - acc: 0.8929 - val_loss: 1.9363 - val_acc: 0.5660\n",
      "Epoch 58/2000\n",
      "140/140 [==============================] - 0s 87us/sample - loss: 0.9671 - acc: 0.8857 - val_loss: 1.9351 - val_acc: 0.5620\n",
      "Epoch 59/2000\n",
      "140/140 [==============================] - 0s 103us/sample - loss: 0.9474 - acc: 0.9143 - val_loss: 1.9316 - val_acc: 0.5680\n",
      "Epoch 60/2000\n",
      "140/140 [==============================] - 0s 84us/sample - loss: 1.0560 - acc: 0.8500 - val_loss: 1.9190 - val_acc: 0.5620\n",
      "Epoch 61/2000\n",
      "140/140 [==============================] - 0s 108us/sample - loss: 0.9253 - acc: 0.9357 - val_loss: 1.9100 - val_acc: 0.5500\n",
      "Epoch 62/2000\n",
      "140/140 [==============================] - 0s 89us/sample - loss: 0.9976 - acc: 0.9000 - val_loss: 1.9112 - val_acc: 0.5500\n",
      "Epoch 63/2000\n",
      "140/140 [==============================] - 0s 130us/sample - loss: 1.0005 - acc: 0.8857 - val_loss: 1.9208 - val_acc: 0.5300\n",
      "Epoch 64/2000\n",
      "140/140 [==============================] - 0s 111us/sample - loss: 0.8937 - acc: 0.9429 - val_loss: 1.9329 - val_acc: 0.5360\n",
      "Epoch 65/2000\n",
      "140/140 [==============================] - 0s 95us/sample - loss: 0.9581 - acc: 0.9071 - val_loss: 1.9383 - val_acc: 0.5440\n",
      "Epoch 66/2000\n",
      "140/140 [==============================] - 0s 87us/sample - loss: 1.0596 - acc: 0.8643 - val_loss: 1.9442 - val_acc: 0.5380\n",
      "Epoch 67/2000\n",
      "140/140 [==============================] - 0s 104us/sample - loss: 0.9023 - acc: 0.9286 - val_loss: 1.9479 - val_acc: 0.5420\n",
      "Epoch 68/2000\n",
      "140/140 [==============================] - 0s 92us/sample - loss: 0.9838 - acc: 0.9143 - val_loss: 1.9516 - val_acc: 0.5480\n",
      "Epoch 69/2000\n",
      "140/140 [==============================] - 0s 92us/sample - loss: 0.9933 - acc: 0.9000 - val_loss: 1.9460 - val_acc: 0.5420\n",
      "Epoch 70/2000\n",
      "140/140 [==============================] - 0s 83us/sample - loss: 0.9406 - acc: 0.9286 - val_loss: 1.9482 - val_acc: 0.5420\n",
      "Epoch 71/2000\n",
      "140/140 [==============================] - 0s 99us/sample - loss: 0.8976 - acc: 0.9357 - val_loss: 1.9552 - val_acc: 0.5420\n",
      "Epoch 72/2000\n",
      "140/140 [==============================] - 0s 107us/sample - loss: 0.9861 - acc: 0.8929 - val_loss: 1.9647 - val_acc: 0.5140\n",
      "Epoch 73/2000\n",
      "140/140 [==============================] - 0s 85us/sample - loss: 0.8325 - acc: 0.9500 - val_loss: 1.9713 - val_acc: 0.5180\n",
      "Epoch 74/2000\n",
      "140/140 [==============================] - 0s 99us/sample - loss: 0.8933 - acc: 0.9357 - val_loss: 1.9735 - val_acc: 0.5140\n",
      "Epoch 75/2000\n",
      "140/140 [==============================] - 0s 90us/sample - loss: 0.9264 - acc: 0.9000 - val_loss: 1.9686 - val_acc: 0.5100\n",
      "Epoch 76/2000\n",
      "140/140 [==============================] - 0s 93us/sample - loss: 0.9116 - acc: 0.9357 - val_loss: 1.9614 - val_acc: 0.5240\n",
      "Epoch 77/2000\n",
      "140/140 [==============================] - 0s 88us/sample - loss: 0.9926 - acc: 0.9071 - val_loss: 1.9484 - val_acc: 0.5260\n",
      "Epoch 78/2000\n",
      "140/140 [==============================] - 0s 87us/sample - loss: 0.9179 - acc: 0.9286 - val_loss: 1.9387 - val_acc: 0.5220\n",
      "Epoch 79/2000\n",
      "140/140 [==============================] - 0s 97us/sample - loss: 0.8961 - acc: 0.9357 - val_loss: 1.9363 - val_acc: 0.5220\n",
      "Epoch 80/2000\n",
      "140/140 [==============================] - 0s 89us/sample - loss: 1.0118 - acc: 0.8714 - val_loss: 1.9442 - val_acc: 0.5320\n",
      "Epoch 81/2000\n",
      "140/140 [==============================] - 0s 105us/sample - loss: 0.9812 - acc: 0.8857 - val_loss: 1.9578 - val_acc: 0.5320\n",
      "Epoch 82/2000\n",
      "140/140 [==============================] - 0s 93us/sample - loss: 0.9034 - acc: 0.9071 - val_loss: 1.9687 - val_acc: 0.5340\n",
      "Epoch 83/2000\n",
      "140/140 [==============================] - 0s 96us/sample - loss: 0.9148 - acc: 0.9214 - val_loss: 1.9721 - val_acc: 0.5260\n",
      "Epoch 84/2000\n",
      "140/140 [==============================] - 0s 94us/sample - loss: 0.9112 - acc: 0.9214 - val_loss: 1.9743 - val_acc: 0.5300\n",
      "Epoch 85/2000\n",
      "140/140 [==============================] - 0s 80us/sample - loss: 0.9514 - acc: 0.9000 - val_loss: 1.9675 - val_acc: 0.5480\n",
      "Epoch 86/2000\n",
      "140/140 [==============================] - 0s 98us/sample - loss: 1.0306 - acc: 0.9071 - val_loss: 1.9527 - val_acc: 0.5480\n",
      "Epoch 87/2000\n",
      "140/140 [==============================] - 0s 85us/sample - loss: 0.9282 - acc: 0.9357 - val_loss: 1.9466 - val_acc: 0.5500\n",
      "Epoch 88/2000\n",
      "140/140 [==============================] - 0s 90us/sample - loss: 0.9865 - acc: 0.9000 - val_loss: 1.9465 - val_acc: 0.5560\n",
      "Epoch 89/2000\n",
      "140/140 [==============================] - 0s 93us/sample - loss: 0.9454 - acc: 0.9286 - val_loss: 1.9484 - val_acc: 0.5520\n",
      "Epoch 90/2000\n",
      "140/140 [==============================] - 0s 86us/sample - loss: 0.9295 - acc: 0.9286 - val_loss: 1.9416 - val_acc: 0.5620\n",
      "Epoch 91/2000\n",
      "140/140 [==============================] - 0s 152us/sample - loss: 1.0591 - acc: 0.8500 - val_loss: 1.9329 - val_acc: 0.5700\n",
      "Epoch 92/2000\n",
      "140/140 [==============================] - 0s 85us/sample - loss: 0.9447 - acc: 0.8857 - val_loss: 1.9279 - val_acc: 0.5560\n",
      "Epoch 93/2000\n",
      "140/140 [==============================] - 0s 92us/sample - loss: 0.9101 - acc: 0.9357 - val_loss: 1.9303 - val_acc: 0.5500\n",
      "Epoch 94/2000\n",
      "140/140 [==============================] - 0s 87us/sample - loss: 0.8793 - acc: 0.9500 - val_loss: 1.9392 - val_acc: 0.5500\n",
      "Epoch 95/2000\n",
      "140/140 [==============================] - 0s 91us/sample - loss: 0.8725 - acc: 0.9571 - val_loss: 1.9488 - val_acc: 0.5600\n",
      "Epoch 96/2000\n",
      "140/140 [==============================] - 0s 86us/sample - loss: 0.9350 - acc: 0.9071 - val_loss: 1.9486 - val_acc: 0.5680\n",
      "Epoch 97/2000\n",
      "140/140 [==============================] - 0s 78us/sample - loss: 0.8988 - acc: 0.9357 - val_loss: 1.9448 - val_acc: 0.5700\n",
      "Epoch 98/2000\n",
      "140/140 [==============================] - 0s 94us/sample - loss: 0.9016 - acc: 0.9357 - val_loss: 1.9352 - val_acc: 0.5500\n",
      "Epoch 99/2000\n",
      "140/140 [==============================] - 0s 93us/sample - loss: 0.8885 - acc: 0.9357 - val_loss: 1.9327 - val_acc: 0.5420\n",
      "Epoch 100/2000\n",
      "140/140 [==============================] - 0s 105us/sample - loss: 0.9253 - acc: 0.9214 - val_loss: 1.9366 - val_acc: 0.5360\n",
      "Epoch 101/2000\n",
      "140/140 [==============================] - 0s 77us/sample - loss: 0.8266 - acc: 0.9714 - val_loss: 1.9448 - val_acc: 0.5280\n",
      "Epoch 102/2000\n",
      "140/140 [==============================] - 0s 85us/sample - loss: 0.8642 - acc: 0.9357 - val_loss: 1.9489 - val_acc: 0.5220\n",
      "Epoch 103/2000\n",
      "140/140 [==============================] - 0s 90us/sample - loss: 0.9301 - acc: 0.9000 - val_loss: 1.9628 - val_acc: 0.5280\n",
      "Epoch 104/2000\n",
      "140/140 [==============================] - 0s 81us/sample - loss: 0.8503 - acc: 0.9214 - val_loss: 1.9635 - val_acc: 0.5380\n",
      "Epoch 105/2000\n",
      "140/140 [==============================] - 0s 104us/sample - loss: 0.8412 - acc: 0.9357 - val_loss: 1.9618 - val_acc: 0.5440\n",
      "Epoch 106/2000\n",
      "140/140 [==============================] - 0s 96us/sample - loss: 0.9407 - acc: 0.9143 - val_loss: 1.9454 - val_acc: 0.5380\n",
      "Epoch 107/2000\n",
      "140/140 [==============================] - 0s 83us/sample - loss: 0.9286 - acc: 0.9071 - val_loss: 1.9270 - val_acc: 0.5200\n",
      "Epoch 108/2000\n",
      "140/140 [==============================] - 0s 94us/sample - loss: 0.9219 - acc: 0.9071 - val_loss: 1.9152 - val_acc: 0.5260\n",
      "Epoch 109/2000\n",
      "140/140 [==============================] - 0s 81us/sample - loss: 0.8760 - acc: 0.9286 - val_loss: 1.9144 - val_acc: 0.5260\n",
      "Epoch 110/2000\n",
      "140/140 [==============================] - 0s 95us/sample - loss: 0.8704 - acc: 0.9357 - val_loss: 1.9226 - val_acc: 0.5320\n",
      "Epoch 111/2000\n",
      "140/140 [==============================] - 0s 85us/sample - loss: 0.9061 - acc: 0.9143 - val_loss: 1.9322 - val_acc: 0.5380\n",
      "Epoch 112/2000\n",
      "140/140 [==============================] - 0s 88us/sample - loss: 0.9191 - acc: 0.9286 - val_loss: 1.9459 - val_acc: 0.5400\n",
      "Epoch 113/2000\n",
      "140/140 [==============================] - 0s 95us/sample - loss: 0.9249 - acc: 0.9214 - val_loss: 1.9543 - val_acc: 0.5480\n",
      "Epoch 114/2000\n",
      "140/140 [==============================] - 0s 98us/sample - loss: 0.9360 - acc: 0.9071 - val_loss: 1.9570 - val_acc: 0.5420\n",
      "Epoch 115/2000\n",
      "140/140 [==============================] - 0s 100us/sample - loss: 0.8688 - acc: 0.9286 - val_loss: 1.9520 - val_acc: 0.5340\n",
      "Epoch 116/2000\n",
      "140/140 [==============================] - 0s 86us/sample - loss: 0.8182 - acc: 0.9500 - val_loss: 1.9471 - val_acc: 0.5340\n",
      "Epoch 117/2000\n",
      "140/140 [==============================] - 0s 100us/sample - loss: 0.9340 - acc: 0.9000 - val_loss: 1.9407 - val_acc: 0.5480\n",
      "Epoch 118/2000\n",
      "140/140 [==============================] - 0s 93us/sample - loss: 0.8599 - acc: 0.9500 - val_loss: 1.9478 - val_acc: 0.5400\n",
      "Epoch 119/2000\n",
      "140/140 [==============================] - 0s 94us/sample - loss: 0.9156 - acc: 0.9214 - val_loss: 1.9593 - val_acc: 0.5480\n",
      "Epoch 120/2000\n",
      "140/140 [==============================] - 0s 93us/sample - loss: 0.9137 - acc: 0.9214 - val_loss: 1.9656 - val_acc: 0.5420\n",
      "Epoch 121/2000\n",
      "140/140 [==============================] - 0s 86us/sample - loss: 1.0899 - acc: 0.8643 - val_loss: 1.9542 - val_acc: 0.5580\n",
      "Epoch 122/2000\n",
      "140/140 [==============================] - 0s 92us/sample - loss: 0.8300 - acc: 0.9571 - val_loss: 1.9495 - val_acc: 0.5520\n",
      "Epoch 123/2000\n",
      "140/140 [==============================] - 0s 81us/sample - loss: 0.9260 - acc: 0.9143 - val_loss: 1.9414 - val_acc: 0.5480\n",
      "Epoch 124/2000\n",
      "140/140 [==============================] - 0s 88us/sample - loss: 0.9196 - acc: 0.9000 - val_loss: 1.9379 - val_acc: 0.5380\n",
      "Epoch 125/2000\n",
      "140/140 [==============================] - 0s 95us/sample - loss: 0.9593 - acc: 0.9143 - val_loss: 1.9339 - val_acc: 0.5580\n",
      "Epoch 126/2000\n",
      "140/140 [==============================] - 0s 86us/sample - loss: 0.9930 - acc: 0.9000 - val_loss: 1.9367 - val_acc: 0.5540\n",
      "Epoch 127/2000\n",
      "140/140 [==============================] - 0s 91us/sample - loss: 0.8355 - acc: 0.9500 - val_loss: 1.9413 - val_acc: 0.5560\n",
      "Epoch 128/2000\n",
      "140/140 [==============================] - 0s 87us/sample - loss: 0.9429 - acc: 0.9000 - val_loss: 1.9489 - val_acc: 0.5460\n",
      "Epoch 129/2000\n",
      "140/140 [==============================] - 0s 87us/sample - loss: 0.8404 - acc: 0.9643 - val_loss: 1.9557 - val_acc: 0.5440\n",
      "Epoch 130/2000\n",
      "140/140 [==============================] - 0s 81us/sample - loss: 0.9001 - acc: 0.9143 - val_loss: 1.9592 - val_acc: 0.5560\n",
      "Epoch 131/2000\n",
      "140/140 [==============================] - 0s 97us/sample - loss: 0.9761 - acc: 0.9000 - val_loss: 1.9608 - val_acc: 0.5500\n",
      "Epoch 132/2000\n",
      "140/140 [==============================] - 0s 113us/sample - loss: 1.0063 - acc: 0.8929 - val_loss: 1.9530 - val_acc: 0.5580\n",
      "Epoch 133/2000\n",
      "140/140 [==============================] - 0s 88us/sample - loss: 0.8973 - acc: 0.9357 - val_loss: 1.9471 - val_acc: 0.5580\n",
      "Epoch 134/2000\n",
      "140/140 [==============================] - 0s 148us/sample - loss: 0.9566 - acc: 0.9143 - val_loss: 1.9413 - val_acc: 0.5780\n",
      "Epoch 135/2000\n",
      "140/140 [==============================] - 0s 95us/sample - loss: 0.8656 - acc: 0.9286 - val_loss: 1.9347 - val_acc: 0.5660\n",
      "Epoch 136/2000\n",
      "140/140 [==============================] - 0s 107us/sample - loss: 0.8765 - acc: 0.9214 - val_loss: 1.9258 - val_acc: 0.5760\n",
      "Epoch 137/2000\n",
      "140/140 [==============================] - 0s 84us/sample - loss: 0.8905 - acc: 0.9071 - val_loss: 1.9186 - val_acc: 0.5740\n",
      "Epoch 138/2000\n",
      "140/140 [==============================] - 0s 90us/sample - loss: 0.9537 - acc: 0.8714 - val_loss: 1.9161 - val_acc: 0.5580\n",
      "Epoch 139/2000\n",
      "140/140 [==============================] - 0s 82us/sample - loss: 0.9438 - acc: 0.9000 - val_loss: 1.9166 - val_acc: 0.5500\n",
      "Epoch 140/2000\n",
      "140/140 [==============================] - 0s 100us/sample - loss: 0.8830 - acc: 0.9357 - val_loss: 1.9138 - val_acc: 0.5560\n",
      "Epoch 141/2000\n",
      "140/140 [==============================] - 0s 104us/sample - loss: 0.9715 - acc: 0.8857 - val_loss: 1.9105 - val_acc: 0.5540\n",
      "Epoch 142/2000\n",
      "140/140 [==============================] - 0s 93us/sample - loss: 0.8759 - acc: 0.9357 - val_loss: 1.9025 - val_acc: 0.5620\n",
      "Epoch 143/2000\n",
      "140/140 [==============================] - 0s 105us/sample - loss: 0.8466 - acc: 0.9429 - val_loss: 1.8982 - val_acc: 0.5600\n",
      "Epoch 144/2000\n",
      "140/140 [==============================] - 0s 103us/sample - loss: 0.8608 - acc: 0.9429 - val_loss: 1.8937 - val_acc: 0.5640\n",
      "Epoch 145/2000\n",
      "140/140 [==============================] - 0s 109us/sample - loss: 0.9898 - acc: 0.8643 - val_loss: 1.8865 - val_acc: 0.5680\n",
      "Epoch 146/2000\n",
      "140/140 [==============================] - 0s 100us/sample - loss: 0.9417 - acc: 0.9000 - val_loss: 1.8858 - val_acc: 0.5640\n",
      "Epoch 147/2000\n",
      "140/140 [==============================] - 0s 107us/sample - loss: 0.9533 - acc: 0.9071 - val_loss: 1.8988 - val_acc: 0.5540\n",
      "Epoch 148/2000\n",
      "140/140 [==============================] - 0s 92us/sample - loss: 0.9109 - acc: 0.9143 - val_loss: 1.8929 - val_acc: 0.5500\n",
      "Epoch 149/2000\n",
      "140/140 [==============================] - 0s 91us/sample - loss: 0.9624 - acc: 0.9000 - val_loss: 1.8700 - val_acc: 0.5600\n",
      "Epoch 150/2000\n",
      "140/140 [==============================] - 0s 100us/sample - loss: 0.8296 - acc: 0.9571 - val_loss: 1.8520 - val_acc: 0.5660\n",
      "Epoch 151/2000\n",
      "140/140 [==============================] - 0s 159us/sample - loss: 0.9041 - acc: 0.9071 - val_loss: 1.8461 - val_acc: 0.5860\n",
      "Epoch 152/2000\n",
      "140/140 [==============================] - 0s 85us/sample - loss: 0.8742 - acc: 0.9357 - val_loss: 1.8487 - val_acc: 0.5720\n",
      "Epoch 153/2000\n",
      "140/140 [==============================] - 0s 87us/sample - loss: 0.8634 - acc: 0.9214 - val_loss: 1.8508 - val_acc: 0.5680\n",
      "Epoch 154/2000\n",
      "140/140 [==============================] - 0s 97us/sample - loss: 0.8694 - acc: 0.9214 - val_loss: 1.8477 - val_acc: 0.5740\n",
      "Epoch 155/2000\n",
      "140/140 [==============================] - 0s 88us/sample - loss: 0.8465 - acc: 0.9357 - val_loss: 1.8468 - val_acc: 0.5780\n",
      "Epoch 156/2000\n",
      "140/140 [==============================] - 0s 97us/sample - loss: 0.8932 - acc: 0.9000 - val_loss: 1.8469 - val_acc: 0.5700\n",
      "Epoch 157/2000\n",
      "140/140 [==============================] - 0s 109us/sample - loss: 0.8758 - acc: 0.9286 - val_loss: 1.8585 - val_acc: 0.5560\n",
      "Epoch 158/2000\n",
      "140/140 [==============================] - 0s 116us/sample - loss: 0.8477 - acc: 0.9571 - val_loss: 1.8982 - val_acc: 0.5660\n",
      "Epoch 159/2000\n",
      "140/140 [==============================] - 0s 81us/sample - loss: 0.9012 - acc: 0.9214 - val_loss: 1.9359 - val_acc: 0.5520\n",
      "Epoch 160/2000\n",
      "140/140 [==============================] - 0s 108us/sample - loss: 0.9814 - acc: 0.9000 - val_loss: 1.9290 - val_acc: 0.5480\n",
      "Epoch 161/2000\n",
      "140/140 [==============================] - 0s 87us/sample - loss: 0.8479 - acc: 0.9500 - val_loss: 1.9168 - val_acc: 0.5440\n",
      "Epoch 162/2000\n",
      "140/140 [==============================] - 0s 74us/sample - loss: 0.9104 - acc: 0.9214 - val_loss: 1.9056 - val_acc: 0.5520\n",
      "Epoch 163/2000\n",
      "140/140 [==============================] - 0s 96us/sample - loss: 0.9247 - acc: 0.9214 - val_loss: 1.9101 - val_acc: 0.5560\n",
      "Epoch 164/2000\n",
      "140/140 [==============================] - 0s 92us/sample - loss: 0.8298 - acc: 0.9500 - val_loss: 1.9230 - val_acc: 0.5560\n",
      "Epoch 165/2000\n",
      "140/140 [==============================] - 0s 89us/sample - loss: 0.9262 - acc: 0.9071 - val_loss: 1.9357 - val_acc: 0.5620\n",
      "Epoch 166/2000\n",
      "140/140 [==============================] - 0s 92us/sample - loss: 0.8744 - acc: 0.9214 - val_loss: 1.9459 - val_acc: 0.5640\n",
      "Epoch 167/2000\n",
      "140/140 [==============================] - 0s 100us/sample - loss: 0.9255 - acc: 0.9143 - val_loss: 1.9505 - val_acc: 0.5600\n",
      "Epoch 168/2000\n",
      "140/140 [==============================] - 0s 99us/sample - loss: 0.8452 - acc: 0.9429 - val_loss: 1.9515 - val_acc: 0.5580\n",
      "Epoch 169/2000\n",
      "140/140 [==============================] - 0s 87us/sample - loss: 0.8825 - acc: 0.9214 - val_loss: 1.9397 - val_acc: 0.5520\n",
      "Epoch 170/2000\n",
      "140/140 [==============================] - 0s 103us/sample - loss: 0.9308 - acc: 0.9000 - val_loss: 1.9303 - val_acc: 0.5580\n",
      "Epoch 171/2000\n",
      "140/140 [==============================] - 0s 85us/sample - loss: 0.9189 - acc: 0.9214 - val_loss: 1.9237 - val_acc: 0.5620\n",
      "Epoch 172/2000\n",
      "140/140 [==============================] - 0s 93us/sample - loss: 0.9386 - acc: 0.9143 - val_loss: 1.9159 - val_acc: 0.5520\n",
      "Epoch 173/2000\n",
      "140/140 [==============================] - 0s 94us/sample - loss: 0.9751 - acc: 0.8786 - val_loss: 1.9132 - val_acc: 0.5540\n",
      "Epoch 174/2000\n",
      "140/140 [==============================] - 0s 96us/sample - loss: 0.9459 - acc: 0.8929 - val_loss: 1.9179 - val_acc: 0.5580\n",
      "Epoch 175/2000\n",
      "140/140 [==============================] - 0s 91us/sample - loss: 1.0002 - acc: 0.8714 - val_loss: 1.9227 - val_acc: 0.5480\n",
      "Epoch 176/2000\n",
      "140/140 [==============================] - 0s 85us/sample - loss: 0.9078 - acc: 0.9071 - val_loss: 1.9332 - val_acc: 0.5380\n",
      "Epoch 177/2000\n",
      "140/140 [==============================] - 0s 98us/sample - loss: 0.8872 - acc: 0.9214 - val_loss: 1.9514 - val_acc: 0.5320\n",
      "Epoch 178/2000\n",
      "140/140 [==============================] - 0s 90us/sample - loss: 0.8750 - acc: 0.9500 - val_loss: 1.9614 - val_acc: 0.5260\n",
      "Epoch 179/2000\n",
      "140/140 [==============================] - 0s 88us/sample - loss: 0.9659 - acc: 0.9071 - val_loss: 1.9632 - val_acc: 0.5240\n",
      "Epoch 180/2000\n",
      "140/140 [==============================] - 0s 97us/sample - loss: 0.9674 - acc: 0.9000 - val_loss: 1.9554 - val_acc: 0.5300\n",
      "Epoch 181/2000\n",
      "140/140 [==============================] - 0s 87us/sample - loss: 1.0248 - acc: 0.8857 - val_loss: 1.9430 - val_acc: 0.5380\n",
      "Epoch 182/2000\n",
      "140/140 [==============================] - 0s 84us/sample - loss: 0.8888 - acc: 0.9357 - val_loss: 1.9356 - val_acc: 0.5460\n",
      "Epoch 183/2000\n",
      "140/140 [==============================] - 0s 88us/sample - loss: 0.9461 - acc: 0.9214 - val_loss: 1.9399 - val_acc: 0.5380\n",
      "Epoch 184/2000\n",
      "140/140 [==============================] - 0s 94us/sample - loss: 1.0256 - acc: 0.8857 - val_loss: 1.9492 - val_acc: 0.5380\n",
      "Epoch 185/2000\n",
      "140/140 [==============================] - 0s 92us/sample - loss: 0.9040 - acc: 0.9143 - val_loss: 1.9593 - val_acc: 0.5320\n",
      "Epoch 186/2000\n",
      "140/140 [==============================] - 0s 88us/sample - loss: 0.9038 - acc: 0.9214 - val_loss: 1.9628 - val_acc: 0.5300\n",
      "Epoch 187/2000\n",
      "140/140 [==============================] - 0s 93us/sample - loss: 0.9496 - acc: 0.9286 - val_loss: 1.9648 - val_acc: 0.5300\n",
      "Epoch 188/2000\n",
      "140/140 [==============================] - 0s 87us/sample - loss: 0.9602 - acc: 0.8929 - val_loss: 1.9651 - val_acc: 0.5440\n",
      "Epoch 189/2000\n",
      "140/140 [==============================] - 0s 84us/sample - loss: 0.8971 - acc: 0.9214 - val_loss: 1.9638 - val_acc: 0.5400\n",
      "Epoch 190/2000\n",
      "140/140 [==============================] - 0s 85us/sample - loss: 0.8522 - acc: 0.9357 - val_loss: 1.9591 - val_acc: 0.5380\n",
      "Epoch 191/2000\n",
      "140/140 [==============================] - 0s 87us/sample - loss: 0.9650 - acc: 0.9143 - val_loss: 1.9527 - val_acc: 0.5340\n",
      "Epoch 192/2000\n",
      "140/140 [==============================] - 0s 81us/sample - loss: 1.0122 - acc: 0.8929 - val_loss: 1.9389 - val_acc: 0.5340\n",
      "Epoch 193/2000\n",
      "140/140 [==============================] - 0s 88us/sample - loss: 0.9168 - acc: 0.9286 - val_loss: 1.9256 - val_acc: 0.5540\n",
      "Epoch 194/2000\n",
      "140/140 [==============================] - 0s 82us/sample - loss: 0.9403 - acc: 0.9000 - val_loss: 1.9204 - val_acc: 0.5600\n",
      "Epoch 195/2000\n",
      "140/140 [==============================] - 0s 87us/sample - loss: 0.9763 - acc: 0.9071 - val_loss: 1.9203 - val_acc: 0.5700\n",
      "Epoch 196/2000\n",
      "140/140 [==============================] - 0s 88us/sample - loss: 0.9084 - acc: 0.9286 - val_loss: 1.9263 - val_acc: 0.5660\n",
      "Epoch 197/2000\n",
      "140/140 [==============================] - 0s 112us/sample - loss: 0.9424 - acc: 0.9000 - val_loss: 1.9334 - val_acc: 0.5620\n",
      "Epoch 198/2000\n",
      "140/140 [==============================] - 0s 92us/sample - loss: 0.8912 - acc: 0.9286 - val_loss: 1.9355 - val_acc: 0.5540\n",
      "Epoch 199/2000\n",
      "140/140 [==============================] - 0s 81us/sample - loss: 0.9526 - acc: 0.8929 - val_loss: 1.9298 - val_acc: 0.5480\n",
      "Epoch 200/2000\n",
      "140/140 [==============================] - 0s 89us/sample - loss: 0.8537 - acc: 0.9643 - val_loss: 1.9241 - val_acc: 0.5540\n",
      "Epoch 201/2000\n",
      "140/140 [==============================] - 0s 92us/sample - loss: 0.9466 - acc: 0.8929 - val_loss: 1.9094 - val_acc: 0.5520\n"
     ]
    }
   ],
   "source": [
    "es_callback = EarlyStopping(\n",
    "    monitor=\"val_acc\", patience=50\n",
    ")  # patience is the number of epochs to wait before early stopping in case of no further improvement\n",
    "\n",
    "mc_callback = ModelCheckpoint(\n",
    "    \"logs/best_fc_model.h5\",\n",
    "    monitor=\"val_acc\",\n",
    "    save_best_only=True,\n",
    "    save_weights_only=True,\n",
    ")\n",
    "\n",
    "history = fully_connected_model.fit(\n",
    "    X_train,\n",
    "    train_targets,\n",
    "    validation_data=(X_val, val_targets),\n",
    "    epochs=2000,\n",
    "    batch_size=200,\n",
    "    shuffle=True,  # we can shuffle the data here as\n",
    "    callbacks=[es_callback, mc_callback],\n",
    ")  # we're only working with node features"
   ]
  },
  {
   "cell_type": "markdown",
   "metadata": {},
   "source": [
    "By itself the fully connected model only gets ~60% accuracy on the test set."
   ]
  },
  {
   "cell_type": "code",
   "execution_count": 27,
   "metadata": {},
   "outputs": [
    {
     "name": "stdout",
     "output_type": "stream",
     "text": [
      "2068/2068 - 0s - loss: 1.8196 - acc: 0.5793\n",
      "\n",
      "Test Set Metrics:\n",
      "\tloss: 1.8196\n",
      "\tacc: 0.5793\n"
     ]
    }
   ],
   "source": [
    "X_test = G.node_features(test_subjects.index)\n",
    "\n",
    "fully_connected_model.load_weights(\"logs/best_fc_model.h5\")\n",
    "test_metrics = fully_connected_model.evaluate(X_test, test_targets, verbose=2)\n",
    "print(\"\\nTest Set Metrics:\")\n",
    "for name, val in zip(fully_connected_model.metrics_names, test_metrics):\n",
    "    print(\"\\t{}: {:0.4f}\".format(name, val))"
   ]
  },
  {
   "cell_type": "markdown",
   "metadata": {},
   "source": [
    "Now we propogate the fully connected network - no extra training required and we can re-use the APPNP object we've already created. First we create an intermediate fully connected model without the softmax layer, this is to avoid propagating the softmax layer which may cause issues with further training. We then propagate this intermediate network."
   ]
  },
  {
   "cell_type": "code",
   "execution_count": 28,
   "metadata": {},
   "outputs": [],
   "source": [
    "intermediate_model = Model(\n",
    "    inputs=fully_connected_model.inputs, outputs=fully_connected_model.layers[-2].output\n",
    ")\n",
    "\n",
    "x_inp, x_out = appnp.propagate_model(intermediate_model)\n",
    "predictions = keras.layers.Softmax()(x_out)\n",
    "\n",
    "propagated_model = keras.models.Model(inputs=x_inp, outputs=predictions)\n",
    "propagated_model.compile(\n",
    "    loss=\"categorical_crossentropy\",\n",
    "    metrics=[\"acc\"],\n",
    "    optimizer=keras.optimizers.Adam(lr=0.01),\n",
    ")"
   ]
  },
  {
   "cell_type": "markdown",
   "metadata": {},
   "source": [
    "Our accuracy is better than the fully connected network by itself but less than end-to-end trained PPNP and APPNP. \n",
    "\n",
    "Note that this is partially because 140 data points isn't sufficient for the fully connected model to achieve optimal performance. As the number of training nodes increases the perfomance gap shrinks. "
   ]
  },
  {
   "cell_type": "code",
   "execution_count": 29,
   "metadata": {},
   "outputs": [
    {
     "name": "stdout",
     "output_type": "stream",
     "text": [
      "  ['...']\n",
      "1/1 [==============================] - 0s 208ms/step - loss: 1.6038 - acc: 0.7273\n",
      "\n",
      "Test Set Metrics:\n",
      "\tloss: 1.6038\n",
      "\tacc: 0.7273\n"
     ]
    }
   ],
   "source": [
    "test_metrics = propagated_model.evaluate(test_gen)\n",
    "print(\"\\nTest Set Metrics:\")\n",
    "for name, val in zip(propagated_model.metrics_names, test_metrics):\n",
    "    print(\"\\t{}: {:0.4f}\".format(name, val))"
   ]
  },
  {
   "cell_type": "markdown",
   "metadata": {},
   "source": [
    "### Making predictions with the model"
   ]
  },
  {
   "cell_type": "markdown",
   "metadata": {},
   "source": [
    "Now let's get the predictions for all nodes."
   ]
  },
  {
   "cell_type": "code",
   "execution_count": 30,
   "metadata": {},
   "outputs": [],
   "source": [
    "all_nodes = node_subjects.index\n",
    "all_gen = generator.flow(all_nodes)\n",
    "all_predictions = propagated_model.predict(all_gen)"
   ]
  },
  {
   "cell_type": "markdown",
   "metadata": {},
   "source": [
    "These predictions will be the output of the softmax layer, so to get final categories we'll use the `inverse_transform` method of our target attribute specifcation to turn these values back to the original categories."
   ]
  },
  {
   "cell_type": "markdown",
   "metadata": {},
   "source": [
    "Note that for full-batch methods the batch size is 1 and the predictions have shape $(1, N_{nodes}, N_{classes})$ so we remove the batch dimension to obtain predictions of shape $(N_{nodes}, N_{classes})$ using the NumPy `squeeze` method."
   ]
  },
  {
   "cell_type": "code",
   "execution_count": 31,
   "metadata": {},
   "outputs": [],
   "source": [
    "node_predictions = target_encoding.inverse_transform(all_predictions.squeeze())"
   ]
  },
  {
   "cell_type": "markdown",
   "metadata": {},
   "source": [
    "Let's have a look at a few predictions after training the model:"
   ]
  },
  {
   "cell_type": "code",
   "execution_count": 32,
   "metadata": {},
   "outputs": [
    {
     "data": {
      "text/html": [
       "<div>\n",
       "<style scoped>\n",
       "    .dataframe tbody tr th:only-of-type {\n",
       "        vertical-align: middle;\n",
       "    }\n",
       "\n",
       "    .dataframe tbody tr th {\n",
       "        vertical-align: top;\n",
       "    }\n",
       "\n",
       "    .dataframe thead th {\n",
       "        text-align: right;\n",
       "    }\n",
       "</style>\n",
       "<table border=\"1\" class=\"dataframe\">\n",
       "  <thead>\n",
       "    <tr style=\"text-align: right;\">\n",
       "      <th></th>\n",
       "      <th>Predicted</th>\n",
       "      <th>True</th>\n",
       "    </tr>\n",
       "  </thead>\n",
       "  <tbody>\n",
       "    <tr>\n",
       "      <td>31336</td>\n",
       "      <td>Probabilistic_Methods</td>\n",
       "      <td>Neural_Networks</td>\n",
       "    </tr>\n",
       "    <tr>\n",
       "      <td>1061127</td>\n",
       "      <td>Theory</td>\n",
       "      <td>Rule_Learning</td>\n",
       "    </tr>\n",
       "    <tr>\n",
       "      <td>1106406</td>\n",
       "      <td>Reinforcement_Learning</td>\n",
       "      <td>Reinforcement_Learning</td>\n",
       "    </tr>\n",
       "    <tr>\n",
       "      <td>13195</td>\n",
       "      <td>Genetic_Algorithms</td>\n",
       "      <td>Reinforcement_Learning</td>\n",
       "    </tr>\n",
       "    <tr>\n",
       "      <td>37879</td>\n",
       "      <td>Probabilistic_Methods</td>\n",
       "      <td>Probabilistic_Methods</td>\n",
       "    </tr>\n",
       "    <tr>\n",
       "      <td>1126012</td>\n",
       "      <td>Genetic_Algorithms</td>\n",
       "      <td>Probabilistic_Methods</td>\n",
       "    </tr>\n",
       "    <tr>\n",
       "      <td>1107140</td>\n",
       "      <td>Case_Based</td>\n",
       "      <td>Theory</td>\n",
       "    </tr>\n",
       "    <tr>\n",
       "      <td>1102850</td>\n",
       "      <td>Neural_Networks</td>\n",
       "      <td>Neural_Networks</td>\n",
       "    </tr>\n",
       "    <tr>\n",
       "      <td>31349</td>\n",
       "      <td>Probabilistic_Methods</td>\n",
       "      <td>Neural_Networks</td>\n",
       "    </tr>\n",
       "    <tr>\n",
       "      <td>1106418</td>\n",
       "      <td>Theory</td>\n",
       "      <td>Theory</td>\n",
       "    </tr>\n",
       "    <tr>\n",
       "      <td>1123188</td>\n",
       "      <td>Neural_Networks</td>\n",
       "      <td>Neural_Networks</td>\n",
       "    </tr>\n",
       "    <tr>\n",
       "      <td>1128990</td>\n",
       "      <td>Genetic_Algorithms</td>\n",
       "      <td>Genetic_Algorithms</td>\n",
       "    </tr>\n",
       "    <tr>\n",
       "      <td>109323</td>\n",
       "      <td>Probabilistic_Methods</td>\n",
       "      <td>Probabilistic_Methods</td>\n",
       "    </tr>\n",
       "    <tr>\n",
       "      <td>217139</td>\n",
       "      <td>Case_Based</td>\n",
       "      <td>Case_Based</td>\n",
       "    </tr>\n",
       "    <tr>\n",
       "      <td>31353</td>\n",
       "      <td>Probabilistic_Methods</td>\n",
       "      <td>Neural_Networks</td>\n",
       "    </tr>\n",
       "    <tr>\n",
       "      <td>32083</td>\n",
       "      <td>Neural_Networks</td>\n",
       "      <td>Neural_Networks</td>\n",
       "    </tr>\n",
       "    <tr>\n",
       "      <td>1126029</td>\n",
       "      <td>Neural_Networks</td>\n",
       "      <td>Reinforcement_Learning</td>\n",
       "    </tr>\n",
       "    <tr>\n",
       "      <td>1118017</td>\n",
       "      <td>Neural_Networks</td>\n",
       "      <td>Neural_Networks</td>\n",
       "    </tr>\n",
       "    <tr>\n",
       "      <td>49482</td>\n",
       "      <td>Neural_Networks</td>\n",
       "      <td>Neural_Networks</td>\n",
       "    </tr>\n",
       "    <tr>\n",
       "      <td>753265</td>\n",
       "      <td>Neural_Networks</td>\n",
       "      <td>Neural_Networks</td>\n",
       "    </tr>\n",
       "  </tbody>\n",
       "</table>\n",
       "</div>"
      ],
      "text/plain": [
       "                      Predicted                    True\n",
       "31336     Probabilistic_Methods         Neural_Networks\n",
       "1061127                  Theory           Rule_Learning\n",
       "1106406  Reinforcement_Learning  Reinforcement_Learning\n",
       "13195        Genetic_Algorithms  Reinforcement_Learning\n",
       "37879     Probabilistic_Methods   Probabilistic_Methods\n",
       "1126012      Genetic_Algorithms   Probabilistic_Methods\n",
       "1107140              Case_Based                  Theory\n",
       "1102850         Neural_Networks         Neural_Networks\n",
       "31349     Probabilistic_Methods         Neural_Networks\n",
       "1106418                  Theory                  Theory\n",
       "1123188         Neural_Networks         Neural_Networks\n",
       "1128990      Genetic_Algorithms      Genetic_Algorithms\n",
       "109323    Probabilistic_Methods   Probabilistic_Methods\n",
       "217139               Case_Based              Case_Based\n",
       "31353     Probabilistic_Methods         Neural_Networks\n",
       "32083           Neural_Networks         Neural_Networks\n",
       "1126029         Neural_Networks  Reinforcement_Learning\n",
       "1118017         Neural_Networks         Neural_Networks\n",
       "49482           Neural_Networks         Neural_Networks\n",
       "753265          Neural_Networks         Neural_Networks"
      ]
     },
     "execution_count": 93,
     "metadata": {},
     "output_type": "execute_result"
    }
   ],
   "source": [
    "df = pd.DataFrame({\"Predicted\": node_predictions, \"True\": node_subjects})\n",
    "df.head(20)"
   ]
  },
  {
   "cell_type": "markdown",
   "metadata": {},
   "source": [
    "Now we have an accurate model that can handle large graphs."
   ]
  },
  {
   "cell_type": "markdown",
   "metadata": {
    "nbsphinx": "hidden",
    "tags": [
     "CloudRunner"
    ]
   },
   "source": [
    "<table><tr><td>Run the latest release of this notebook:</td><td><a href=\"https://mybinder.org/v2/gh/stellargraph/stellargraph/master?urlpath=lab/tree/demos/node-classification/ppnp-node-classification.ipynb\" alt=\"Open In Binder\" target=\"_parent\"><img src=\"https://mybinder.org/badge_logo.svg\"/></a></td><td><a href=\"https://colab.research.google.com/github/stellargraph/stellargraph/blob/master/demos/node-classification/ppnp-node-classification.ipynb\" alt=\"Open In Colab\" target=\"_parent\"><img src=\"https://colab.research.google.com/assets/colab-badge.svg\"/></a></td></tr></table>"
   ]
  }
 ],
 "metadata": {
  "kernelspec": {
   "display_name": "Python 3",
   "language": "python",
   "name": "python3"
  },
  "language_info": {
   "codemirror_mode": {
    "name": "ipython",
    "version": 3
   },
   "file_extension": ".py",
   "mimetype": "text/x-python",
   "name": "python",
   "nbconvert_exporter": "python",
   "pygments_lexer": "ipython3",
   "version": "3.6.9"
  }
 },
 "nbformat": 4,
 "nbformat_minor": 4
}
