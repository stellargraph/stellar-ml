{
 "cells": [
  {
   "cell_type": "markdown",
   "metadata": {},
   "source": [
    "# Stellargraph example: Graph Attention Network (GAT) on the CORA citation dataset"
   ]
  },
  {
   "cell_type": "markdown",
   "metadata": {},
   "source": [
    "Import NetworkX and stellar:"
   ]
  },
  {
   "cell_type": "code",
   "execution_count": null,
   "metadata": {},
   "outputs": [],
   "source": [
    "import networkx as nx\n",
    "import pandas as pd\n",
    "import os\n",
    "\n",
    "import stellargraph as sg\n",
    "from stellargraph.mapper import FullBatchNodeGenerator\n",
    "from stellargraph.layer import GAT\n",
    "\n",
    "from keras import layers, optimizers, losses, metrics, Model\n",
    "from sklearn import preprocessing, feature_extraction, model_selection"
   ]
  },
  {
   "cell_type": "markdown",
   "metadata": {},
   "source": [
    "### Loading the CORA network"
   ]
  },
  {
   "cell_type": "markdown",
   "metadata": {},
   "source": [
    "**Downloading the CORA dataset:**\n",
    "    \n",
    "The dataset used in this demo can be downloaded from https://linqs-data.soe.ucsc.edu/public/lbc/cora.tgz\n",
    "\n",
    "The following is the description of the dataset:\n",
    "> The Cora dataset consists of 2708 scientific publications classified into one of seven classes.\n",
    "> The citation network consists of 5429 links. Each publication in the dataset is described by a\n",
    "> 0/1-valued word vector indicating the absence/presence of the corresponding word from the dictionary.\n",
    "> The dictionary consists of 1433 unique words. The README file in the dataset provides more details.\n",
    "\n",
    "Download and unzip the cora.tgz file to a location on your computer and set the `data_dir` variable to\n",
    "point to the location of the dataset (the directory containing \"cora.cites\" and \"cora.content\")."
   ]
  },
  {
   "cell_type": "code",
   "execution_count": 2,
   "metadata": {},
   "outputs": [],
   "source": [
    "data_dir = os.path.expanduser(\"~/data/cora\")"
   ]
  },
  {
   "cell_type": "markdown",
   "metadata": {},
   "source": [
    "Load the graph from edgelist"
   ]
  },
  {
   "cell_type": "code",
   "execution_count": 3,
   "metadata": {},
   "outputs": [],
   "source": [
    "edgelist = pd.read_table(os.path.join(data_dir, \"cora.cites\"), header=None, names=[\"source\", \"target\"])\n",
    "edgelist[\"label\"] = \"cites\""
   ]
  },
  {
   "cell_type": "code",
   "execution_count": 4,
   "metadata": {},
   "outputs": [],
   "source": [
    "Gnx = nx.from_pandas_edgelist(edgelist, edge_attr=\"label\")"
   ]
  },
  {
   "cell_type": "code",
   "execution_count": 5,
   "metadata": {},
   "outputs": [],
   "source": [
    "nx.set_node_attributes(Gnx, \"paper\", \"label\")"
   ]
  },
  {
   "cell_type": "markdown",
   "metadata": {},
   "source": [
    "Load the features and subject for the nodes"
   ]
  },
  {
   "cell_type": "code",
   "execution_count": 6,
   "metadata": {},
   "outputs": [],
   "source": [
    "feature_names = [\"w_{}\".format(ii) for ii in range(1433)]\n",
    "column_names =  feature_names + [\"subject\"]\n",
    "node_data = pd.read_table(os.path.join(data_dir, \"cora.content\"), header=None, names=column_names)"
   ]
  },
  {
   "cell_type": "markdown",
   "metadata": {},
   "source": [
    "We aim to train a graph-ML model that will predict the \"subject\" attribute on the nodes. These subjects are one of 7 categories:"
   ]
  },
  {
   "cell_type": "code",
   "execution_count": 7,
   "metadata": {},
   "outputs": [
    {
     "data": {
      "text/plain": [
       "{'Case_Based',\n",
       " 'Genetic_Algorithms',\n",
       " 'Neural_Networks',\n",
       " 'Probabilistic_Methods',\n",
       " 'Reinforcement_Learning',\n",
       " 'Rule_Learning',\n",
       " 'Theory'}"
      ]
     },
     "execution_count": 7,
     "metadata": {},
     "output_type": "execute_result"
    }
   ],
   "source": [
    "set(node_data[\"subject\"])"
   ]
  },
  {
   "cell_type": "markdown",
   "metadata": {},
   "source": [
    "### Splitting the data"
   ]
  },
  {
   "cell_type": "markdown",
   "metadata": {},
   "source": [
    "For machine learning we want to take a subset of the nodes for training, and use the rest for validation and testing. We'll use scikit-learn again to do this.\n",
    "\n",
    "Here we're taking 140 node labels for training, 500 for validation, and the rest for testing."
   ]
  },
  {
   "cell_type": "code",
   "execution_count": 8,
   "metadata": {},
   "outputs": [],
   "source": [
    "train_data, test_data = model_selection.train_test_split(node_data, train_size=140, test_size=None, stratify=node_data['subject'])\n",
    "val_data, test_data = model_selection.train_test_split(test_data, train_size=500, test_size=None, stratify=test_data['subject'])"
   ]
  },
  {
   "cell_type": "markdown",
   "metadata": {},
   "source": [
    "Note using stratified sampling gives the following counts:"
   ]
  },
  {
   "cell_type": "code",
   "execution_count": 9,
   "metadata": {},
   "outputs": [
    {
     "data": {
      "text/plain": [
       "Counter({'Case_Based': 16,\n",
       "         'Probabilistic_Methods': 22,\n",
       "         'Neural_Networks': 42,\n",
       "         'Reinforcement_Learning': 11,\n",
       "         'Theory': 18,\n",
       "         'Genetic_Algorithms': 22,\n",
       "         'Rule_Learning': 9})"
      ]
     },
     "execution_count": 9,
     "metadata": {},
     "output_type": "execute_result"
    }
   ],
   "source": [
    "from collections import Counter\n",
    "Counter(train_data['subject'])"
   ]
  },
  {
   "cell_type": "markdown",
   "metadata": {},
   "source": [
    "The training set has class imbalance that might need to be compensated, e.g., via using a weighted cross-entropy loss in model training, with class weights inversely proportional to class support. However, we will ignore the class imbalance in this example, for simplicity."
   ]
  },
  {
   "cell_type": "markdown",
   "metadata": {},
   "source": [
    "### Converting to numeric arrays"
   ]
  },
  {
   "cell_type": "markdown",
   "metadata": {},
   "source": [
    "For our categorical target, we will use one-hot vectors that will be fed into a soft-max Keras layer during training. To do this conversion ..."
   ]
  },
  {
   "cell_type": "code",
   "execution_count": 10,
   "metadata": {},
   "outputs": [],
   "source": [
    "target_encoding = feature_extraction.DictVectorizer(sparse=False)\n",
    "\n",
    "train_targets = target_encoding.fit_transform(train_data[[\"subject\"]].to_dict('records'))\n",
    "val_targets = target_encoding.transform(val_data[[\"subject\"]].to_dict('records'))\n",
    "test_targets = target_encoding.transform(test_data[[\"subject\"]].to_dict('records'))"
   ]
  },
  {
   "cell_type": "markdown",
   "metadata": {},
   "source": [
    "We now do the same for the node attributes we want to use to predict the subject. These are the feature vectors that the Keras model will use as input. The CORA dataset contains attributes 'w_x' that correspond to words found in that publication. If a word occurs more than once in a publication the relevant attribute will be set to one, otherwise it will be zero."
   ]
  },
  {
   "cell_type": "code",
   "execution_count": 11,
   "metadata": {},
   "outputs": [],
   "source": [
    "node_features = node_data[feature_names]"
   ]
  },
  {
   "cell_type": "markdown",
   "metadata": {},
   "source": [
    "## Creating the GAT model in Keras"
   ]
  },
  {
   "cell_type": "markdown",
   "metadata": {},
   "source": [
    "Now create a StellarGraph object from the NetworkX graph and the node features and targets. It is StellarGraph objects that we use in this library to perform machine learning tasks on."
   ]
  },
  {
   "cell_type": "code",
   "execution_count": 12,
   "metadata": {},
   "outputs": [],
   "source": [
    "G = sg.StellarGraph(Gnx, node_features=node_features)"
   ]
  },
  {
   "cell_type": "code",
   "execution_count": 13,
   "metadata": {},
   "outputs": [
    {
     "name": "stdout",
     "output_type": "stream",
     "text": [
      "StellarGraph: Undirected multigraph\n",
      " Nodes: 2708, Edges: 5278\n",
      "\n",
      " Node types:\n",
      "  paper: [2708]\n",
      "    Edge types: paper-cites->paper\n",
      "\n",
      " Edge types:\n",
      "    paper-cites->paper: [5278]\n",
      "\n"
     ]
    }
   ],
   "source": [
    "print(G.info())"
   ]
  },
  {
   "cell_type": "markdown",
   "metadata": {},
   "source": [
    "To feed data from the graph to the Keras model we need a generator. Since GAT is a full-batch model, we use the `FullBatchNodeGenerator` class to feed node features and graph adjacency matrix to the model."
   ]
  },
  {
   "cell_type": "code",
   "execution_count": 14,
   "metadata": {},
   "outputs": [],
   "source": [
    "generator = FullBatchNodeGenerator(G)"
   ]
  },
  {
   "cell_type": "markdown",
   "metadata": {},
   "source": [
    "For training we map only the training nodes returned from our splitter and the target values."
   ]
  },
  {
   "cell_type": "code",
   "execution_count": 15,
   "metadata": {},
   "outputs": [],
   "source": [
    "train_gen = generator.flow(train_data.index, train_targets)"
   ]
  },
  {
   "cell_type": "markdown",
   "metadata": {},
   "source": [
    "Now we can specify our machine learning model, we need a few more parameters for this:\n",
    "\n",
    " * the `layer_sizes` is a list of hidden feature sizes of each layer in the model. In this example we use two GAT layers with 8-dimensional hidden node features at each layer.\n",
    " * `attn_heads` is the number of attention heads in all but the last GAT layer in the model\n",
    " * `activations` is a list of activations applied to each layer's output\n",
    " * Arguments such as `bias`, `in_dropout`, `attn_dropout` are internal parameters of the model, execute `?GAT` for details. "
   ]
  },
  {
   "cell_type": "markdown",
   "metadata": {},
   "source": [
    "To follow the GAT model architecture used for Cora dataset in the original paper [Graph Attention Networks. P. Velickovic et al. ICLR 2018 https://arxiv.org/abs/1710.10903], let's build a 2-layer GAT model, with the 2nd layer being the classifier that predicts paper subject: it thus should have the output size of `train_targets.shape[1]` (7 subjects) and a softmax activation."
   ]
  },
  {
   "cell_type": "code",
   "execution_count": 16,
   "metadata": {},
   "outputs": [],
   "source": [
    "gat = GAT(\n",
    "    layer_sizes=[8, train_targets.shape[1]],\n",
    "    attn_heads=8,\n",
    "    generator=generator,\n",
    "    bias=True,\n",
    "    in_dropout=0.5,\n",
    "    attn_dropout=0.5,\n",
    "    activations=[\"elu\",\"softmax\"],\n",
    "    normalize=None,\n",
    ")"
   ]
  },
  {
   "cell_type": "code",
   "execution_count": 17,
   "metadata": {},
   "outputs": [],
   "source": [
    "# Expose the input and output tensors of the GAT model for node prediction, via GAT.node_model() method:\n",
    "x_inp, predictions = gat.node_model()"
   ]
  },
  {
   "cell_type": "markdown",
   "metadata": {},
   "source": [
    "Note that `x_inp` is a list of two input tensors, one for node features, the other for graph adjacency matrix"
   ]
  },
  {
   "cell_type": "code",
   "execution_count": 18,
   "metadata": {},
   "outputs": [
    {
     "data": {
      "text/plain": [
       "[<tf.Tensor 'input_1:0' shape=(?, 1433) dtype=float32>,\n",
       " <tensorflow.python.framework.sparse_tensor.SparseTensor at 0x1044ad2b0>]"
      ]
     },
     "execution_count": 18,
     "metadata": {},
     "output_type": "execute_result"
    }
   ],
   "source": [
    "x_inp"
   ]
  },
  {
   "cell_type": "code",
   "execution_count": 19,
   "metadata": {},
   "outputs": [
    {
     "data": {
      "text/plain": [
       "TensorShape([Dimension(None), Dimension(7)])"
      ]
     },
     "execution_count": 19,
     "metadata": {},
     "output_type": "execute_result"
    }
   ],
   "source": [
    "predictions.shape"
   ]
  },
  {
   "cell_type": "markdown",
   "metadata": {},
   "source": [
    "### Training the model"
   ]
  },
  {
   "cell_type": "markdown",
   "metadata": {},
   "source": [
    "Now let's create the actual Keras model with the input tensors `x_inp` and output tensors being the predictions `predictions` from the final dense layer"
   ]
  },
  {
   "cell_type": "code",
   "execution_count": 20,
   "metadata": {},
   "outputs": [],
   "source": [
    "model = Model(inputs=x_inp, outputs=predictions)\n",
    "model.compile(\n",
    "    optimizer=optimizers.Adam(lr=0.005),\n",
    "    loss=losses.categorical_crossentropy,\n",
    "    weighted_metrics=[\"acc\"],\n",
    ")"
   ]
  },
  {
   "cell_type": "markdown",
   "metadata": {},
   "source": [
    "Train the model, keeping track of its loss and accuracy on the training set, and its generalisation performance on the validation set (we need to create another generator over the validation data for this)"
   ]
  },
  {
   "cell_type": "code",
   "execution_count": 21,
   "metadata": {},
   "outputs": [],
   "source": [
    "val_gen = generator.flow(val_data.index, val_targets)"
   ]
  },
  {
   "cell_type": "markdown",
   "metadata": {},
   "source": [
    "Create callbacks for early stopping (if validation accuracy stops improving) and best model checkpoint saving:"
   ]
  },
  {
   "cell_type": "code",
   "execution_count": 22,
   "metadata": {},
   "outputs": [],
   "source": [
    "from keras.callbacks import EarlyStopping, ModelCheckpoint\n",
    "if not os.path.isdir(\"logs\"):\n",
    "    os.makedirs(\"logs\")\n",
    "es_callback = EarlyStopping(monitor=\"val_weighted_acc\", patience=50)  # patience is the number of epochs to wait before early stopping in case of no further improvement\n",
    "mc_callback = ModelCheckpoint(\n",
    "    \"logs/best_model.h5\",\n",
    "    monitor=\"val_weighted_acc\",\n",
    "    save_best_only=True,\n",
    "    save_weights_only=True,\n",
    ")"
   ]
  },
  {
   "cell_type": "markdown",
   "metadata": {},
   "source": [
    "Train the model"
   ]
  },
  {
   "cell_type": "code",
   "execution_count": 23,
   "metadata": {},
   "outputs": [
    {
     "name": "stdout",
     "output_type": "stream",
     "text": [
      "Epoch 1/200\n",
      " - 4s - loss: 2.0515 - weighted_acc: 0.1643 - val_loss: 1.8610 - val_weighted_acc: 0.3220\n",
      "Epoch 2/200\n",
      " - 2s - loss: 1.9633 - weighted_acc: 0.1929 - val_loss: 1.7865 - val_weighted_acc: 0.3320\n",
      "Epoch 3/200\n",
      " - 2s - loss: 1.8128 - weighted_acc: 0.3357 - val_loss: 1.7214 - val_weighted_acc: 0.3480\n",
      "Epoch 4/200\n",
      " - 2s - loss: 1.8340 - weighted_acc: 0.2357 - val_loss: 1.6642 - val_weighted_acc: 0.3960\n",
      "Epoch 5/200\n",
      " - 2s - loss: 1.7082 - weighted_acc: 0.3286 - val_loss: 1.6094 - val_weighted_acc: 0.4500\n",
      "Epoch 6/200\n",
      " - 2s - loss: 1.6330 - weighted_acc: 0.4500 - val_loss: 1.5571 - val_weighted_acc: 0.4820\n",
      "Epoch 7/200\n",
      " - 2s - loss: 1.5967 - weighted_acc: 0.4357 - val_loss: 1.5089 - val_weighted_acc: 0.5200\n",
      "Epoch 8/200\n",
      " - 2s - loss: 1.4550 - weighted_acc: 0.4929 - val_loss: 1.4629 - val_weighted_acc: 0.5620\n",
      "Epoch 9/200\n",
      " - 2s - loss: 1.5104 - weighted_acc: 0.4929 - val_loss: 1.4191 - val_weighted_acc: 0.5880\n",
      "Epoch 10/200\n",
      " - 2s - loss: 1.5640 - weighted_acc: 0.4500 - val_loss: 1.3776 - val_weighted_acc: 0.6260\n",
      "Epoch 11/200\n",
      " - 2s - loss: 1.3152 - weighted_acc: 0.5857 - val_loss: 1.3371 - val_weighted_acc: 0.6720\n",
      "Epoch 12/200\n",
      " - 2s - loss: 1.4876 - weighted_acc: 0.4857 - val_loss: 1.2991 - val_weighted_acc: 0.6980\n",
      "Epoch 13/200\n",
      " - 2s - loss: 1.3409 - weighted_acc: 0.5286 - val_loss: 1.2622 - val_weighted_acc: 0.7200\n",
      "Epoch 14/200\n",
      " - 2s - loss: 1.3665 - weighted_acc: 0.5571 - val_loss: 1.2266 - val_weighted_acc: 0.7320\n",
      "Epoch 15/200\n",
      " - 2s - loss: 1.2450 - weighted_acc: 0.6000 - val_loss: 1.1917 - val_weighted_acc: 0.7420\n",
      "Epoch 16/200\n",
      " - 2s - loss: 1.2899 - weighted_acc: 0.5571 - val_loss: 1.1588 - val_weighted_acc: 0.7580\n",
      "Epoch 17/200\n",
      " - 2s - loss: 1.1838 - weighted_acc: 0.6500 - val_loss: 1.1278 - val_weighted_acc: 0.7580\n",
      "Epoch 18/200\n",
      " - 2s - loss: 1.0696 - weighted_acc: 0.7214 - val_loss: 1.0984 - val_weighted_acc: 0.7700\n",
      "Epoch 19/200\n",
      " - 2s - loss: 1.1993 - weighted_acc: 0.6786 - val_loss: 1.0710 - val_weighted_acc: 0.7660\n",
      "Epoch 20/200\n",
      " - 2s - loss: 1.2573 - weighted_acc: 0.5643 - val_loss: 1.0455 - val_weighted_acc: 0.7640\n",
      "Epoch 21/200\n",
      " - 2s - loss: 1.0924 - weighted_acc: 0.6786 - val_loss: 1.0214 - val_weighted_acc: 0.7640\n",
      "Epoch 22/200\n",
      " - 2s - loss: 1.0598 - weighted_acc: 0.6857 - val_loss: 0.9984 - val_weighted_acc: 0.7660\n",
      "Epoch 23/200\n",
      " - 2s - loss: 1.0878 - weighted_acc: 0.6286 - val_loss: 0.9768 - val_weighted_acc: 0.7820\n",
      "Epoch 24/200\n",
      " - 2s - loss: 1.1013 - weighted_acc: 0.6429 - val_loss: 0.9573 - val_weighted_acc: 0.7840\n",
      "Epoch 25/200\n",
      " - 2s - loss: 1.0587 - weighted_acc: 0.6357 - val_loss: 0.9391 - val_weighted_acc: 0.7840\n",
      "Epoch 26/200\n",
      " - 2s - loss: 1.0941 - weighted_acc: 0.6357 - val_loss: 0.9220 - val_weighted_acc: 0.7920\n",
      "Epoch 27/200\n",
      " - 2s - loss: 1.1445 - weighted_acc: 0.6429 - val_loss: 0.9051 - val_weighted_acc: 0.7940\n",
      "Epoch 28/200\n",
      " - 2s - loss: 0.9532 - weighted_acc: 0.7143 - val_loss: 0.8891 - val_weighted_acc: 0.8000\n",
      "Epoch 29/200\n",
      " - 2s - loss: 1.0581 - weighted_acc: 0.6857 - val_loss: 0.8745 - val_weighted_acc: 0.8060\n",
      "Epoch 30/200\n",
      " - 2s - loss: 1.0590 - weighted_acc: 0.6643 - val_loss: 0.8609 - val_weighted_acc: 0.8040\n",
      "Epoch 31/200\n",
      " - 2s - loss: 1.0901 - weighted_acc: 0.6643 - val_loss: 0.8475 - val_weighted_acc: 0.8020\n",
      "Epoch 32/200\n",
      " - 2s - loss: 0.8228 - weighted_acc: 0.7571 - val_loss: 0.8347 - val_weighted_acc: 0.8040\n",
      "Epoch 33/200\n",
      " - 2s - loss: 0.9381 - weighted_acc: 0.6929 - val_loss: 0.8229 - val_weighted_acc: 0.8040\n",
      "Epoch 34/200\n",
      " - 2s - loss: 0.9584 - weighted_acc: 0.7143 - val_loss: 0.8119 - val_weighted_acc: 0.7980\n",
      "Epoch 35/200\n",
      " - 2s - loss: 0.9927 - weighted_acc: 0.7071 - val_loss: 0.8018 - val_weighted_acc: 0.7980\n",
      "Epoch 36/200\n",
      " - 2s - loss: 0.9061 - weighted_acc: 0.7071 - val_loss: 0.7919 - val_weighted_acc: 0.7980\n",
      "Epoch 37/200\n",
      " - 2s - loss: 1.0482 - weighted_acc: 0.6500 - val_loss: 0.7839 - val_weighted_acc: 0.8020\n",
      "Epoch 38/200\n",
      " - 2s - loss: 0.9612 - weighted_acc: 0.6571 - val_loss: 0.7764 - val_weighted_acc: 0.8000\n",
      "Epoch 39/200\n",
      " - 2s - loss: 0.9439 - weighted_acc: 0.7143 - val_loss: 0.7689 - val_weighted_acc: 0.8020\n",
      "Epoch 40/200\n",
      " - 2s - loss: 0.8437 - weighted_acc: 0.7286 - val_loss: 0.7612 - val_weighted_acc: 0.8020\n",
      "Epoch 41/200\n",
      " - 2s - loss: 0.9915 - weighted_acc: 0.6357 - val_loss: 0.7542 - val_weighted_acc: 0.8020\n",
      "Epoch 42/200\n",
      " - 2s - loss: 0.9832 - weighted_acc: 0.6714 - val_loss: 0.7471 - val_weighted_acc: 0.8020\n",
      "Epoch 43/200\n",
      " - 2s - loss: 0.9112 - weighted_acc: 0.7214 - val_loss: 0.7406 - val_weighted_acc: 0.8020\n",
      "Epoch 44/200\n",
      " - 2s - loss: 0.9371 - weighted_acc: 0.6500 - val_loss: 0.7343 - val_weighted_acc: 0.8020\n",
      "Epoch 45/200\n",
      " - 2s - loss: 0.9870 - weighted_acc: 0.6429 - val_loss: 0.7286 - val_weighted_acc: 0.8040\n",
      "Epoch 46/200\n",
      " - 2s - loss: 0.8114 - weighted_acc: 0.7571 - val_loss: 0.7230 - val_weighted_acc: 0.8020\n",
      "Epoch 47/200\n",
      " - 2s - loss: 0.9349 - weighted_acc: 0.6929 - val_loss: 0.7180 - val_weighted_acc: 0.8000\n",
      "Epoch 48/200\n",
      " - 2s - loss: 0.8120 - weighted_acc: 0.7357 - val_loss: 0.7138 - val_weighted_acc: 0.8040\n",
      "Epoch 49/200\n",
      " - 2s - loss: 0.9291 - weighted_acc: 0.7000 - val_loss: 0.7095 - val_weighted_acc: 0.8020\n",
      "Epoch 50/200\n",
      " - 2s - loss: 0.9398 - weighted_acc: 0.6714 - val_loss: 0.7055 - val_weighted_acc: 0.8000\n",
      "Epoch 51/200\n",
      " - 2s - loss: 0.9630 - weighted_acc: 0.6571 - val_loss: 0.7025 - val_weighted_acc: 0.8020\n",
      "Epoch 52/200\n",
      " - 2s - loss: 0.8239 - weighted_acc: 0.7286 - val_loss: 0.7003 - val_weighted_acc: 0.7940\n",
      "Epoch 53/200\n",
      " - 2s - loss: 0.8485 - weighted_acc: 0.7286 - val_loss: 0.6986 - val_weighted_acc: 0.7980\n",
      "Epoch 54/200\n",
      " - 2s - loss: 0.9525 - weighted_acc: 0.6786 - val_loss: 0.6971 - val_weighted_acc: 0.7980\n",
      "Epoch 55/200\n",
      " - 2s - loss: 0.8561 - weighted_acc: 0.7286 - val_loss: 0.6963 - val_weighted_acc: 0.7960\n",
      "Epoch 56/200\n",
      " - 2s - loss: 0.8788 - weighted_acc: 0.7143 - val_loss: 0.6957 - val_weighted_acc: 0.7960\n",
      "Epoch 57/200\n",
      " - 2s - loss: 0.9710 - weighted_acc: 0.7000 - val_loss: 0.6960 - val_weighted_acc: 0.7980\n",
      "Epoch 58/200\n",
      " - 2s - loss: 0.8889 - weighted_acc: 0.7214 - val_loss: 0.6970 - val_weighted_acc: 0.7940\n",
      "Epoch 59/200\n",
      " - 2s - loss: 0.8325 - weighted_acc: 0.7143 - val_loss: 0.6977 - val_weighted_acc: 0.7900\n",
      "Epoch 60/200\n",
      " - 2s - loss: 0.9711 - weighted_acc: 0.6357 - val_loss: 0.6973 - val_weighted_acc: 0.7880\n",
      "Epoch 61/200\n",
      " - 2s - loss: 1.0318 - weighted_acc: 0.6357 - val_loss: 0.6957 - val_weighted_acc: 0.7880\n",
      "Epoch 62/200\n",
      " - 2s - loss: 0.9331 - weighted_acc: 0.6786 - val_loss: 0.6932 - val_weighted_acc: 0.7920\n",
      "Epoch 63/200\n",
      " - 2s - loss: 0.9142 - weighted_acc: 0.6857 - val_loss: 0.6914 - val_weighted_acc: 0.7880\n",
      "Epoch 64/200\n",
      " - 2s - loss: 0.9126 - weighted_acc: 0.6786 - val_loss: 0.6884 - val_weighted_acc: 0.7920\n",
      "Epoch 65/200\n",
      " - 2s - loss: 0.8728 - weighted_acc: 0.6857 - val_loss: 0.6848 - val_weighted_acc: 0.7960\n",
      "Epoch 66/200\n",
      " - 2s - loss: 0.9364 - weighted_acc: 0.7071 - val_loss: 0.6810 - val_weighted_acc: 0.8040\n",
      "Epoch 67/200\n",
      " - 2s - loss: 0.7756 - weighted_acc: 0.7286 - val_loss: 0.6779 - val_weighted_acc: 0.8040\n",
      "Epoch 68/200\n",
      " - 2s - loss: 0.8037 - weighted_acc: 0.7357 - val_loss: 0.6754 - val_weighted_acc: 0.8120\n",
      "Epoch 69/200\n",
      " - 2s - loss: 0.7866 - weighted_acc: 0.7357 - val_loss: 0.6729 - val_weighted_acc: 0.8160\n",
      "Epoch 70/200\n",
      " - 2s - loss: 0.7974 - weighted_acc: 0.7357 - val_loss: 0.6701 - val_weighted_acc: 0.8080\n",
      "Epoch 71/200\n",
      " - 2s - loss: 0.8225 - weighted_acc: 0.7214 - val_loss: 0.6679 - val_weighted_acc: 0.8040\n",
      "Epoch 72/200\n",
      " - 2s - loss: 0.8246 - weighted_acc: 0.7286 - val_loss: 0.6661 - val_weighted_acc: 0.8020\n",
      "Epoch 73/200\n",
      " - 2s - loss: 0.7697 - weighted_acc: 0.7214 - val_loss: 0.6646 - val_weighted_acc: 0.7980\n",
      "Epoch 74/200\n",
      " - 2s - loss: 0.7895 - weighted_acc: 0.7143 - val_loss: 0.6643 - val_weighted_acc: 0.8000\n",
      "Epoch 75/200\n",
      " - 2s - loss: 0.7994 - weighted_acc: 0.7214 - val_loss: 0.6628 - val_weighted_acc: 0.8020\n",
      "Epoch 76/200\n",
      " - 2s - loss: 0.7132 - weighted_acc: 0.7786 - val_loss: 0.6606 - val_weighted_acc: 0.8020\n",
      "Epoch 77/200\n",
      " - 2s - loss: 0.7624 - weighted_acc: 0.7286 - val_loss: 0.6584 - val_weighted_acc: 0.8040\n",
      "Epoch 78/200\n",
      " - 2s - loss: 0.9012 - weighted_acc: 0.7143 - val_loss: 0.6567 - val_weighted_acc: 0.8040\n",
      "Epoch 79/200\n",
      " - 2s - loss: 0.7494 - weighted_acc: 0.7429 - val_loss: 0.6546 - val_weighted_acc: 0.8020\n",
      "Epoch 80/200\n",
      " - 2s - loss: 0.7210 - weighted_acc: 0.7429 - val_loss: 0.6526 - val_weighted_acc: 0.8020\n"
     ]
    },
    {
     "name": "stdout",
     "output_type": "stream",
     "text": [
      "Epoch 81/200\n",
      " - 2s - loss: 0.7768 - weighted_acc: 0.7000 - val_loss: 0.6507 - val_weighted_acc: 0.8020\n",
      "Epoch 82/200\n",
      " - 2s - loss: 0.8150 - weighted_acc: 0.7429 - val_loss: 0.6487 - val_weighted_acc: 0.8040\n",
      "Epoch 83/200\n",
      " - 2s - loss: 0.7470 - weighted_acc: 0.7571 - val_loss: 0.6468 - val_weighted_acc: 0.8040\n",
      "Epoch 84/200\n",
      " - 2s - loss: 0.7559 - weighted_acc: 0.7500 - val_loss: 0.6447 - val_weighted_acc: 0.8060\n",
      "Epoch 85/200\n",
      " - 2s - loss: 0.7774 - weighted_acc: 0.7429 - val_loss: 0.6424 - val_weighted_acc: 0.8120\n",
      "Epoch 86/200\n",
      " - 2s - loss: 0.6494 - weighted_acc: 0.7929 - val_loss: 0.6406 - val_weighted_acc: 0.8080\n",
      "Epoch 87/200\n",
      " - 2s - loss: 0.7666 - weighted_acc: 0.7286 - val_loss: 0.6395 - val_weighted_acc: 0.8120\n",
      "Epoch 88/200\n",
      " - 2s - loss: 0.6762 - weighted_acc: 0.8000 - val_loss: 0.6382 - val_weighted_acc: 0.8160\n",
      "Epoch 89/200\n",
      " - 2s - loss: 0.7939 - weighted_acc: 0.7000 - val_loss: 0.6373 - val_weighted_acc: 0.8160\n",
      "Epoch 90/200\n",
      " - 2s - loss: 0.8664 - weighted_acc: 0.7143 - val_loss: 0.6357 - val_weighted_acc: 0.8140\n",
      "Epoch 91/200\n",
      " - 2s - loss: 0.7957 - weighted_acc: 0.7143 - val_loss: 0.6348 - val_weighted_acc: 0.8100\n",
      "Epoch 92/200\n",
      " - 2s - loss: 0.7081 - weighted_acc: 0.7571 - val_loss: 0.6336 - val_weighted_acc: 0.8080\n",
      "Epoch 93/200\n",
      " - 2s - loss: 0.5598 - weighted_acc: 0.8143 - val_loss: 0.6322 - val_weighted_acc: 0.8060\n",
      "Epoch 94/200\n",
      " - 2s - loss: 0.6682 - weighted_acc: 0.7714 - val_loss: 0.6312 - val_weighted_acc: 0.8040\n",
      "Epoch 95/200\n",
      " - 2s - loss: 0.6992 - weighted_acc: 0.7571 - val_loss: 0.6306 - val_weighted_acc: 0.8040\n",
      "Epoch 96/200\n",
      " - 2s - loss: 0.7520 - weighted_acc: 0.7429 - val_loss: 0.6292 - val_weighted_acc: 0.8040\n",
      "Epoch 97/200\n",
      " - 2s - loss: 0.8061 - weighted_acc: 0.7071 - val_loss: 0.6277 - val_weighted_acc: 0.8020\n",
      "Epoch 98/200\n",
      " - 2s - loss: 0.7926 - weighted_acc: 0.7214 - val_loss: 0.6258 - val_weighted_acc: 0.8080\n",
      "Epoch 99/200\n",
      " - 2s - loss: 0.8207 - weighted_acc: 0.7286 - val_loss: 0.6235 - val_weighted_acc: 0.8120\n",
      "Epoch 100/200\n",
      " - 2s - loss: 0.8652 - weighted_acc: 0.6786 - val_loss: 0.6218 - val_weighted_acc: 0.8120\n",
      "Epoch 101/200\n",
      " - 2s - loss: 0.7220 - weighted_acc: 0.7643 - val_loss: 0.6203 - val_weighted_acc: 0.8140\n",
      "Epoch 102/200\n",
      " - 2s - loss: 0.7053 - weighted_acc: 0.7429 - val_loss: 0.6185 - val_weighted_acc: 0.8120\n",
      "Epoch 103/200\n",
      " - 2s - loss: 0.6550 - weighted_acc: 0.7929 - val_loss: 0.6168 - val_weighted_acc: 0.8140\n",
      "Epoch 104/200\n",
      " - 2s - loss: 0.7166 - weighted_acc: 0.7357 - val_loss: 0.6149 - val_weighted_acc: 0.8100\n",
      "Epoch 105/200\n",
      " - 2s - loss: 0.6732 - weighted_acc: 0.7429 - val_loss: 0.6128 - val_weighted_acc: 0.8100\n",
      "Epoch 106/200\n",
      " - 2s - loss: 0.5986 - weighted_acc: 0.8071 - val_loss: 0.6106 - val_weighted_acc: 0.8120\n",
      "Epoch 107/200\n",
      " - 2s - loss: 0.7868 - weighted_acc: 0.7500 - val_loss: 0.6082 - val_weighted_acc: 0.8140\n",
      "Epoch 108/200\n",
      " - 2s - loss: 0.6986 - weighted_acc: 0.7643 - val_loss: 0.6060 - val_weighted_acc: 0.8160\n",
      "Epoch 109/200\n",
      " - 2s - loss: 0.7865 - weighted_acc: 0.7071 - val_loss: 0.6044 - val_weighted_acc: 0.8180\n",
      "Epoch 110/200\n",
      " - 2s - loss: 0.6500 - weighted_acc: 0.8000 - val_loss: 0.6031 - val_weighted_acc: 0.8180\n",
      "Epoch 111/200\n",
      " - 2s - loss: 0.7503 - weighted_acc: 0.7500 - val_loss: 0.6023 - val_weighted_acc: 0.8220\n",
      "Epoch 112/200\n",
      " - 2s - loss: 0.7545 - weighted_acc: 0.7071 - val_loss: 0.6021 - val_weighted_acc: 0.8220\n",
      "Epoch 113/200\n",
      " - 2s - loss: 0.7638 - weighted_acc: 0.7571 - val_loss: 0.6019 - val_weighted_acc: 0.8200\n",
      "Epoch 114/200\n",
      " - 2s - loss: 0.7786 - weighted_acc: 0.7429 - val_loss: 0.6014 - val_weighted_acc: 0.8180\n",
      "Epoch 115/200\n",
      " - 2s - loss: 0.6985 - weighted_acc: 0.7500 - val_loss: 0.6007 - val_weighted_acc: 0.8140\n",
      "Epoch 116/200\n",
      " - 2s - loss: 0.7225 - weighted_acc: 0.7786 - val_loss: 0.5996 - val_weighted_acc: 0.8080\n",
      "Epoch 117/200\n",
      " - 2s - loss: 0.6832 - weighted_acc: 0.7357 - val_loss: 0.5986 - val_weighted_acc: 0.8080\n",
      "Epoch 118/200\n",
      " - 2s - loss: 0.7822 - weighted_acc: 0.7000 - val_loss: 0.5980 - val_weighted_acc: 0.8100\n",
      "Epoch 119/200\n",
      " - 2s - loss: 0.7962 - weighted_acc: 0.7071 - val_loss: 0.5972 - val_weighted_acc: 0.8060\n",
      "Epoch 120/200\n",
      " - 2s - loss: 0.7659 - weighted_acc: 0.6857 - val_loss: 0.5968 - val_weighted_acc: 0.8060\n",
      "Epoch 121/200\n",
      " - 2s - loss: 0.6797 - weighted_acc: 0.7857 - val_loss: 0.5966 - val_weighted_acc: 0.8080\n",
      "Epoch 122/200\n",
      " - 2s - loss: 0.7129 - weighted_acc: 0.7429 - val_loss: 0.5965 - val_weighted_acc: 0.8060\n",
      "Epoch 123/200\n",
      " - 2s - loss: 0.6594 - weighted_acc: 0.8000 - val_loss: 0.5965 - val_weighted_acc: 0.8080\n",
      "Epoch 124/200\n",
      " - 2s - loss: 0.5471 - weighted_acc: 0.8357 - val_loss: 0.5967 - val_weighted_acc: 0.8080\n",
      "Epoch 125/200\n",
      " - 2s - loss: 0.6495 - weighted_acc: 0.7786 - val_loss: 0.5968 - val_weighted_acc: 0.8080\n",
      "Epoch 126/200\n",
      " - 2s - loss: 0.6784 - weighted_acc: 0.7143 - val_loss: 0.5968 - val_weighted_acc: 0.8080\n",
      "Epoch 127/200\n",
      " - 2s - loss: 0.7700 - weighted_acc: 0.7071 - val_loss: 0.5980 - val_weighted_acc: 0.8040\n",
      "Epoch 128/200\n",
      " - 2s - loss: 0.8230 - weighted_acc: 0.7143 - val_loss: 0.5986 - val_weighted_acc: 0.8020\n",
      "Epoch 129/200\n",
      " - 2s - loss: 0.7465 - weighted_acc: 0.7786 - val_loss: 0.5982 - val_weighted_acc: 0.8000\n",
      "Epoch 130/200\n",
      " - 2s - loss: 0.6847 - weighted_acc: 0.7357 - val_loss: 0.5981 - val_weighted_acc: 0.8020\n",
      "Epoch 131/200\n",
      " - 2s - loss: 0.7231 - weighted_acc: 0.7429 - val_loss: 0.5975 - val_weighted_acc: 0.8020\n",
      "Epoch 132/200\n",
      " - 2s - loss: 0.7343 - weighted_acc: 0.7500 - val_loss: 0.5973 - val_weighted_acc: 0.8020\n",
      "Epoch 133/200\n",
      " - 2s - loss: 0.6695 - weighted_acc: 0.7643 - val_loss: 0.5965 - val_weighted_acc: 0.8040\n",
      "Epoch 134/200\n",
      " - 2s - loss: 0.7142 - weighted_acc: 0.7929 - val_loss: 0.5961 - val_weighted_acc: 0.8040\n",
      "Epoch 135/200\n",
      " - 2s - loss: 0.6717 - weighted_acc: 0.7786 - val_loss: 0.5957 - val_weighted_acc: 0.8100\n",
      "Epoch 136/200\n",
      " - 2s - loss: 0.7976 - weighted_acc: 0.7286 - val_loss: 0.5961 - val_weighted_acc: 0.8060\n",
      "Epoch 137/200\n",
      " - 2s - loss: 0.8100 - weighted_acc: 0.7000 - val_loss: 0.5962 - val_weighted_acc: 0.8100\n",
      "Epoch 138/200\n",
      " - 2s - loss: 0.7237 - weighted_acc: 0.8000 - val_loss: 0.5968 - val_weighted_acc: 0.8100\n",
      "Epoch 139/200\n",
      " - 2s - loss: 0.7620 - weighted_acc: 0.7500 - val_loss: 0.5980 - val_weighted_acc: 0.8140\n",
      "Epoch 140/200\n",
      " - 2s - loss: 0.6951 - weighted_acc: 0.7500 - val_loss: 0.5994 - val_weighted_acc: 0.8160\n",
      "Epoch 141/200\n",
      " - 2s - loss: 0.5785 - weighted_acc: 0.8143 - val_loss: 0.6003 - val_weighted_acc: 0.8160\n",
      "Epoch 142/200\n",
      " - 2s - loss: 0.7372 - weighted_acc: 0.7071 - val_loss: 0.6012 - val_weighted_acc: 0.8120\n",
      "Epoch 143/200\n",
      " - 2s - loss: 0.7244 - weighted_acc: 0.7357 - val_loss: 0.6027 - val_weighted_acc: 0.8140\n",
      "Epoch 144/200\n",
      " - 2s - loss: 0.6600 - weighted_acc: 0.7643 - val_loss: 0.6033 - val_weighted_acc: 0.8160\n",
      "Epoch 145/200\n",
      " - 2s - loss: 0.7069 - weighted_acc: 0.7786 - val_loss: 0.6032 - val_weighted_acc: 0.8140\n",
      "Epoch 146/200\n",
      " - 2s - loss: 0.5947 - weighted_acc: 0.8000 - val_loss: 0.6028 - val_weighted_acc: 0.8160\n",
      "Epoch 147/200\n",
      " - 2s - loss: 0.6238 - weighted_acc: 0.7429 - val_loss: 0.6022 - val_weighted_acc: 0.8180\n",
      "Epoch 148/200\n",
      " - 2s - loss: 0.6883 - weighted_acc: 0.7500 - val_loss: 0.6016 - val_weighted_acc: 0.8180\n",
      "Epoch 149/200\n",
      " - 2s - loss: 0.7276 - weighted_acc: 0.7286 - val_loss: 0.6005 - val_weighted_acc: 0.8200\n",
      "Epoch 150/200\n",
      " - 2s - loss: 0.6997 - weighted_acc: 0.7214 - val_loss: 0.5994 - val_weighted_acc: 0.8180\n",
      "Epoch 151/200\n",
      " - 2s - loss: 0.6741 - weighted_acc: 0.7500 - val_loss: 0.5986 - val_weighted_acc: 0.8140\n",
      "Epoch 152/200\n",
      " - 2s - loss: 0.5516 - weighted_acc: 0.8071 - val_loss: 0.5981 - val_weighted_acc: 0.8140\n",
      "Epoch 153/200\n",
      " - 2s - loss: 0.6549 - weighted_acc: 0.8071 - val_loss: 0.5976 - val_weighted_acc: 0.8120\n",
      "Epoch 154/200\n",
      " - 2s - loss: 0.6364 - weighted_acc: 0.7429 - val_loss: 0.5972 - val_weighted_acc: 0.8160\n",
      "Epoch 155/200\n",
      " - 2s - loss: 0.7709 - weighted_acc: 0.7571 - val_loss: 0.5968 - val_weighted_acc: 0.8160\n",
      "Epoch 156/200\n",
      " - 2s - loss: 0.6469 - weighted_acc: 0.7643 - val_loss: 0.5966 - val_weighted_acc: 0.8140\n",
      "Epoch 157/200\n",
      " - 2s - loss: 0.6228 - weighted_acc: 0.7571 - val_loss: 0.5965 - val_weighted_acc: 0.8160\n",
      "Epoch 158/200\n",
      " - 2s - loss: 0.7561 - weighted_acc: 0.7286 - val_loss: 0.5966 - val_weighted_acc: 0.8160\n",
      "Epoch 159/200\n",
      " - 2s - loss: 0.5180 - weighted_acc: 0.8214 - val_loss: 0.5969 - val_weighted_acc: 0.8160\n"
     ]
    },
    {
     "name": "stdout",
     "output_type": "stream",
     "text": [
      "Epoch 160/200\n",
      " - 2s - loss: 0.6589 - weighted_acc: 0.7571 - val_loss: 0.5975 - val_weighted_acc: 0.8180\n",
      "Epoch 161/200\n",
      " - 2s - loss: 0.7624 - weighted_acc: 0.7286 - val_loss: 0.5981 - val_weighted_acc: 0.8200\n"
     ]
    }
   ],
   "source": [
    "history = model.fit_generator(\n",
    "    train_gen,\n",
    "    epochs=200,\n",
    "    validation_data=val_gen,\n",
    "    verbose=2,\n",
    "    shuffle=False,  # this should be False, since shuffling data means shuffling the whole graph\n",
    "    callbacks=[es_callback, mc_callback],\n",
    ")"
   ]
  },
  {
   "cell_type": "markdown",
   "metadata": {},
   "source": [
    "Plot the training history:"
   ]
  },
  {
   "cell_type": "code",
   "execution_count": 24,
   "metadata": {},
   "outputs": [],
   "source": [
    "import matplotlib.pyplot as plt\n",
    "%matplotlib inline\n",
    "\n",
    "def remove_prefix(text, prefix):\n",
    "    return text[text.startswith(prefix) and len(prefix):]\n",
    "\n",
    "def plot_history(history):\n",
    "    metrics = sorted(set([remove_prefix(m, \"val_\") for m in list(history.history.keys())]))\n",
    "    for m in metrics:\n",
    "        # summarize history for metric m\n",
    "        plt.plot(history.history[m])\n",
    "        plt.plot(history.history['val_' + m])\n",
    "        plt.title(m)\n",
    "        plt.ylabel(m)\n",
    "        plt.xlabel('epoch')\n",
    "        plt.legend(['train', 'validation'], loc='best')\n",
    "        plt.show()"
   ]
  },
  {
   "cell_type": "code",
   "execution_count": 25,
   "metadata": {},
   "outputs": [
    {
     "data": {
      "image/png": "[encoded data removed]",
      "text/plain": [
       "<Figure size 432x288 with 1 Axes>"
      ]
     },
     "metadata": {
      "needs_background": "light"
     },
     "output_type": "display_data"
    },
    {
     "data": {
      "image/png": "[encoded data removed]",
      "text/plain": [
       "<Figure size 432x288 with 1 Axes>"
      ]
     },
     "metadata": {
      "needs_background": "light"
     },
     "output_type": "display_data"
    }
   ],
   "source": [
    "plot_history(history)"
   ]
  },
  {
   "cell_type": "markdown",
   "metadata": {},
   "source": [
    "Reload the saved weights of the best model found during the training (according to validation accuracy)"
   ]
  },
  {
   "cell_type": "code",
   "execution_count": 26,
   "metadata": {},
   "outputs": [],
   "source": [
    "model.load_weights(\"logs/best_model.h5\")"
   ]
  },
  {
   "cell_type": "markdown",
   "metadata": {},
   "source": [
    "Evaluate the best model on the test set"
   ]
  },
  {
   "cell_type": "code",
   "execution_count": 27,
   "metadata": {},
   "outputs": [],
   "source": [
    "test_gen = generator.flow(test_data.index, test_targets)"
   ]
  },
  {
   "cell_type": "code",
   "execution_count": 28,
   "metadata": {},
   "outputs": [
    {
     "name": "stdout",
     "output_type": "stream",
     "text": [
      "\n",
      "Test Set Metrics:\n",
      "\tloss: 0.6155\n",
      "\tweighted_acc: 0.8235\n"
     ]
    }
   ],
   "source": [
    "test_metrics = model.evaluate_generator(test_gen)\n",
    "print(\"\\nTest Set Metrics:\")\n",
    "for name, val in zip(model.metrics_names, test_metrics):\n",
    "    print(\"\\t{}: {:0.4f}\".format(name, val))"
   ]
  },
  {
   "cell_type": "markdown",
   "metadata": {},
   "source": [
    "### Making predictions with the model"
   ]
  },
  {
   "cell_type": "markdown",
   "metadata": {},
   "source": [
    "Now let's get the predictions for all nodes:\n",
    "\n",
    "Note that the `predict` or `predict_generator` function now operates differently to the `GraphSAGE` or `HinSAGE` models\n",
    "in that if you give it a set of nodes, it will still return predictions for **all** nodes in the graph, and in a fixed order defined by the order of nodes in `X` and `A` (which is defined by the order of `G.nodes()`)."
   ]
  },
  {
   "cell_type": "code",
   "execution_count": 29,
   "metadata": {},
   "outputs": [],
   "source": [
    "all_nodes = node_data.index\n",
    "all_gen = generator.flow(all_nodes)\n",
    "all_predictions = model.predict_generator(all_gen)"
   ]
  },
  {
   "cell_type": "markdown",
   "metadata": {},
   "source": [
    "These predictions will be the output of the softmax layer, so to get final categories we'll use the `inverse_transform` method of our target attribute specifcation to turn these values back to the original categories"
   ]
  },
  {
   "cell_type": "code",
   "execution_count": 30,
   "metadata": {},
   "outputs": [],
   "source": [
    "node_predictions = target_encoding.inverse_transform(all_predictions)"
   ]
  },
  {
   "cell_type": "markdown",
   "metadata": {},
   "source": [
    "Let's have a look at a few (note that generator orders nodes according to the order in G.nodes(), so the predictions are ordered like that as well. We thus need to index results as `G.nodes()`"
   ]
  },
  {
   "cell_type": "code",
   "execution_count": 31,
   "metadata": {},
   "outputs": [
    {
     "data": {
      "text/html": [
       "<div>\n",
       "<style scoped>\n",
       "    .dataframe tbody tr th:only-of-type {\n",
       "        vertical-align: middle;\n",
       "    }\n",
       "\n",
       "    .dataframe tbody tr th {\n",
       "        vertical-align: top;\n",
       "    }\n",
       "\n",
       "    .dataframe thead th {\n",
       "        text-align: right;\n",
       "    }\n",
       "</style>\n",
       "<table border=\"1\" class=\"dataframe\">\n",
       "  <thead>\n",
       "    <tr style=\"text-align: right;\">\n",
       "      <th></th>\n",
       "      <th>Predicted</th>\n",
       "      <th>True</th>\n",
       "    </tr>\n",
       "  </thead>\n",
       "  <tbody>\n",
       "    <tr>\n",
       "      <th>35</th>\n",
       "      <td>subject=Genetic_Algorithms</td>\n",
       "      <td>Genetic_Algorithms</td>\n",
       "    </tr>\n",
       "    <tr>\n",
       "      <th>40</th>\n",
       "      <td>subject=Genetic_Algorithms</td>\n",
       "      <td>Genetic_Algorithms</td>\n",
       "    </tr>\n",
       "    <tr>\n",
       "      <th>114</th>\n",
       "      <td>subject=Reinforcement_Learning</td>\n",
       "      <td>Reinforcement_Learning</td>\n",
       "    </tr>\n",
       "    <tr>\n",
       "      <th>117</th>\n",
       "      <td>subject=Reinforcement_Learning</td>\n",
       "      <td>Reinforcement_Learning</td>\n",
       "    </tr>\n",
       "    <tr>\n",
       "      <th>128</th>\n",
       "      <td>subject=Reinforcement_Learning</td>\n",
       "      <td>Reinforcement_Learning</td>\n",
       "    </tr>\n",
       "    <tr>\n",
       "      <th>130</th>\n",
       "      <td>subject=Reinforcement_Learning</td>\n",
       "      <td>Reinforcement_Learning</td>\n",
       "    </tr>\n",
       "    <tr>\n",
       "      <th>164</th>\n",
       "      <td>subject=Theory</td>\n",
       "      <td>Theory</td>\n",
       "    </tr>\n",
       "    <tr>\n",
       "      <th>288</th>\n",
       "      <td>subject=Reinforcement_Learning</td>\n",
       "      <td>Reinforcement_Learning</td>\n",
       "    </tr>\n",
       "    <tr>\n",
       "      <th>424</th>\n",
       "      <td>subject=Neural_Networks</td>\n",
       "      <td>Rule_Learning</td>\n",
       "    </tr>\n",
       "    <tr>\n",
       "      <th>434</th>\n",
       "      <td>subject=Neural_Networks</td>\n",
       "      <td>Reinforcement_Learning</td>\n",
       "    </tr>\n",
       "    <tr>\n",
       "      <th>463</th>\n",
       "      <td>subject=Case_Based</td>\n",
       "      <td>Case_Based</td>\n",
       "    </tr>\n",
       "    <tr>\n",
       "      <th>504</th>\n",
       "      <td>subject=Probabilistic_Methods</td>\n",
       "      <td>Probabilistic_Methods</td>\n",
       "    </tr>\n",
       "    <tr>\n",
       "      <th>506</th>\n",
       "      <td>subject=Probabilistic_Methods</td>\n",
       "      <td>Probabilistic_Methods</td>\n",
       "    </tr>\n",
       "    <tr>\n",
       "      <th>887</th>\n",
       "      <td>subject=Reinforcement_Learning</td>\n",
       "      <td>Genetic_Algorithms</td>\n",
       "    </tr>\n",
       "    <tr>\n",
       "      <th>906</th>\n",
       "      <td>subject=Neural_Networks</td>\n",
       "      <td>Neural_Networks</td>\n",
       "    </tr>\n",
       "    <tr>\n",
       "      <th>910</th>\n",
       "      <td>subject=Neural_Networks</td>\n",
       "      <td>Neural_Networks</td>\n",
       "    </tr>\n",
       "    <tr>\n",
       "      <th>936</th>\n",
       "      <td>subject=Case_Based</td>\n",
       "      <td>Case_Based</td>\n",
       "    </tr>\n",
       "    <tr>\n",
       "      <th>940</th>\n",
       "      <td>subject=Case_Based</td>\n",
       "      <td>Case_Based</td>\n",
       "    </tr>\n",
       "    <tr>\n",
       "      <th>941</th>\n",
       "      <td>subject=Case_Based</td>\n",
       "      <td>Case_Based</td>\n",
       "    </tr>\n",
       "    <tr>\n",
       "      <th>943</th>\n",
       "      <td>subject=Case_Based</td>\n",
       "      <td>Case_Based</td>\n",
       "    </tr>\n",
       "  </tbody>\n",
       "</table>\n",
       "</div>"
      ],
      "text/plain": [
       "                          Predicted                    True\n",
       "35       subject=Genetic_Algorithms      Genetic_Algorithms\n",
       "40       subject=Genetic_Algorithms      Genetic_Algorithms\n",
       "114  subject=Reinforcement_Learning  Reinforcement_Learning\n",
       "117  subject=Reinforcement_Learning  Reinforcement_Learning\n",
       "128  subject=Reinforcement_Learning  Reinforcement_Learning\n",
       "130  subject=Reinforcement_Learning  Reinforcement_Learning\n",
       "164                  subject=Theory                  Theory\n",
       "288  subject=Reinforcement_Learning  Reinforcement_Learning\n",
       "424         subject=Neural_Networks           Rule_Learning\n",
       "434         subject=Neural_Networks  Reinforcement_Learning\n",
       "463              subject=Case_Based              Case_Based\n",
       "504   subject=Probabilistic_Methods   Probabilistic_Methods\n",
       "506   subject=Probabilistic_Methods   Probabilistic_Methods\n",
       "887  subject=Reinforcement_Learning      Genetic_Algorithms\n",
       "906         subject=Neural_Networks         Neural_Networks\n",
       "910         subject=Neural_Networks         Neural_Networks\n",
       "936              subject=Case_Based              Case_Based\n",
       "940              subject=Case_Based              Case_Based\n",
       "941              subject=Case_Based              Case_Based\n",
       "943              subject=Case_Based              Case_Based"
      ]
     },
     "execution_count": 31,
     "metadata": {},
     "output_type": "execute_result"
    }
   ],
   "source": [
    "results = pd.DataFrame(node_predictions, index=G.nodes()).idxmax(axis=1)\n",
    "df = pd.DataFrame({\"Predicted\": results, \"True\": node_data['subject']})\n",
    "df.head(20)"
   ]
  },
  {
   "cell_type": "markdown",
   "metadata": {},
   "source": [
    "## Node embeddings\n",
    "Evaluate node embeddings as activations of the output of the 1st GraphAttention layer in GAT layer stack (the one before the top classification layer predicting paper subjects), and visualise them, coloring nodes by their true subject label. We expect to see nice clusters of papers in the node embedding space, with papers of the same subject belonging to the same cluster.\n",
    "\n",
    "The GAT embeddings are the output of the 1st GraphAttention layer in the GAT layers stack, namely the 3rd layer in model.layers. Let's create a new model with the same inputs as we used previously `x_inp` but now the output is the embeddings rather than the predicted class. Additionally note that the weights trained previously are kept in the new model."
   ]
  },
  {
   "cell_type": "code",
   "execution_count": 32,
   "metadata": {},
   "outputs": [
    {
     "name": "stdout",
     "output_type": "stream",
     "text": [
      "Embedding layer: graph_attention_1, output shape (None, 64)\n"
     ]
    }
   ],
   "source": [
    "emb_layer = model.layers[3]\n",
    "print(\"Embedding layer: {}, output shape {}\".format(emb_layer.name, emb_layer.output_shape))"
   ]
  },
  {
   "cell_type": "code",
   "execution_count": 33,
   "metadata": {},
   "outputs": [],
   "source": [
    "embedding_model = Model(inputs=x_inp, outputs=emb_layer.output)"
   ]
  },
  {
   "cell_type": "code",
   "execution_count": 34,
   "metadata": {},
   "outputs": [
    {
     "data": {
      "text/plain": [
       "(2708, 64)"
      ]
     },
     "execution_count": 34,
     "metadata": {},
     "output_type": "execute_result"
    }
   ],
   "source": [
    "emb = embedding_model.predict_generator(all_gen)\n",
    "emb.shape"
   ]
  },
  {
   "cell_type": "markdown",
   "metadata": {},
   "source": [
    "Project the embeddings to 2d using either TSNE or PCA transform, and visualise, coloring nodes by their true subject label"
   ]
  },
  {
   "cell_type": "code",
   "execution_count": null,
   "metadata": {},
   "outputs": [],
   "source": [
    "from sklearn.decomposition import PCA\n",
    "from sklearn.manifold import TSNE\n",
    "import pandas as pd\n",
    "import numpy as np"
   ]
  },
  {
   "cell_type": "markdown",
   "metadata": {},
   "source": [
    "Note that the generator orders nodes according to the order in G.nodes(), so we need to re-index node_data"
   ]
  },
  {
   "cell_type": "code",
   "execution_count": 36,
   "metadata": {},
   "outputs": [],
   "source": [
    "X = emb\n",
    "y = np.argmax(target_encoding.transform(node_data.reindex(G.nodes())[[\"subject\"]].to_dict('records')), axis=1)"
   ]
  },
  {
   "cell_type": "code",
   "execution_count": 37,
   "metadata": {},
   "outputs": [],
   "source": [
    "if X.shape[1] > 2:\n",
    "    transform = TSNE #PCA \n",
    "\n",
    "    trans = transform(n_components=2)\n",
    "    emb_transformed = pd.DataFrame(trans.fit_transform(X), index=list(G.nodes()))\n",
    "    emb_transformed['label'] = y\n",
    "else:\n",
    "    emb_transformed = pd.DataFrame(X, index=list(G.nodes()))\n",
    "    emb_transformed = emb_transformed.rename(columns = {'0':0, '1':1})\n",
    "    emb_transformed['label'] = y"
   ]
  },
  {
   "cell_type": "code",
   "execution_count": 38,
   "metadata": {},
   "outputs": [
    {
     "data": {
      "image/png": "[encoded data removed]",
      "text/plain": [
       "<Figure size 504x504 with 1 Axes>"
      ]
     },
     "metadata": {
      "needs_background": "light"
     },
     "output_type": "display_data"
    }
   ],
   "source": [
    "alpha = 0.7\n",
    "\n",
    "fig, ax = plt.subplots(figsize=(7,7))\n",
    "ax.scatter(emb_transformed[0], emb_transformed[1], c=emb_transformed['label'].astype(\"category\"), \n",
    "            cmap=\"jet\", alpha=alpha)\n",
    "ax.set(aspect=\"equal\", xlabel=\"$X_1$\", ylabel=\"$X_2$\")\n",
    "plt.title('{} visualization of GAT embeddings for cora dataset'.format(transform.__name__))\n",
    "plt.show()"
   ]
  }
 ],
 "metadata": {
  "kernelspec": {
   "display_name": "Python 3",
   "language": "python",
   "name": "python3"
  },
  "language_info": {
   "codemirror_mode": {
    "name": "ipython",
    "version": 3
   },
   "file_extension": ".py",
   "mimetype": "text/x-python",
   "name": "python",
   "nbconvert_exporter": "python",
   "pygments_lexer": "ipython3",
   "version": "3.6.6"
  }
 },
 "nbformat": 4,
 "nbformat_minor": 2
}
