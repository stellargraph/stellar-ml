{
 "cells": [
  {
   "cell_type": "markdown",
   "metadata": {},
   "source": [
    "# Detection of Twitter users who use hateful lexicon using graph machine learning with Stellargraph\n",
    "\n",
    "We consider the use-case of identifying hateful users on Twitter motivated by the work in [1] and using the dataset also published in [1]. Classification is based on a graph based on users' retweets and attributes as related to their account activity, and the content of tweets.\n",
    "\n",
    "We pose identifying hateful users as a binary classification problem. We demonstrate the advantage of connected vs unconnected data in a semi-supervised setting with few training examples.\n",
    "\n",
    "For connected data, we use Graph Neural Network methods, GCN [2], GAT [3], and GraphSAGE [4] as implemented in the `stellargraph` library. We pose the problem of identifying hateful tweeter users as node attribute inference in graphs.\n",
    "\n",
    "**References**\n",
    "\n",
    "1. \"Like Sheep Among Wolves\": Characterizing Hateful Users on Twitter. M. H. Ribeiro, P. H. Calais, Y. A. Santos, V. A. F. Almeida, and W. Meira Jr.  arXiv preprint arXiv:1801.00317 (2017).\n",
    "\n",
    "\n",
    "2. Semi-Supervised Classification with Graph Convolutional Networks. T. Kipf, M. Welling. ICLR 2017. arXiv:1609.02907 \n",
    "\n",
    "\n",
    "3. Graph Attention Networks. P. Velickovic et al. ICLR 2018\n",
    "\n",
    "\n",
    "4. Inductive Representation Learning on Large Graphs. W.L. Hamilton, R. Ying, and J. Leskovec arXiv:1706.02216 \n",
    "[cs.SI], 2017."
   ]
  },
  {
   "cell_type": "code",
   "execution_count": 2,
   "metadata": {},
   "outputs": [],
   "source": [
    "import networkx as nx\n",
    "import pandas as pd\n",
    "import numpy as np\n",
    "import seaborn as sns\n",
    "import itertools\n",
    "import os\n",
    "\n",
    "from sklearn.decomposition import PCA\n",
    "from sklearn.manifold import TSNE\n",
    "from sklearn.linear_model import LogisticRegressionCV\n",
    "\n",
    "import stellargraph as sg\n",
    "from stellargraph.mapper import GraphSAGENodeGenerator, FullBatchNodeGenerator\n",
    "from stellargraph.layer import GraphSAGE, GCN, GAT, APPNP\n",
    "from stellargraph import globalvar\n",
    "\n",
    "from tensorflow.keras import layers, optimizers, losses, metrics, Model, models\n",
    "from sklearn import preprocessing, feature_extraction\n",
    "from sklearn.model_selection import train_test_split\n",
    "from sklearn import metrics\n",
    "\n",
    "import matplotlib.pyplot as plt\n",
    "import seaborn as sns\n",
    "\n",
    "%matplotlib inline"
   ]
  },
  {
   "cell_type": "code",
   "execution_count": 3,
   "metadata": {},
   "outputs": [],
   "source": [
    "import matplotlib.pyplot as plt\n",
    "%matplotlib inline\n",
    "\n",
    "def remove_prefix(text, prefix):\n",
    "    return text[text.startswith(prefix) and len(prefix):]\n",
    "\n",
    "def plot_history(history):\n",
    "    metrics = sorted(set([remove_prefix(m, \"val_\") for m in list(history.history.keys())]))\n",
    "    for m in metrics:\n",
    "        # summarize history for metric m\n",
    "        plt.plot(history.history[m])\n",
    "        plt.plot(history.history['val_' + m])\n",
    "        plt.title(m, fontsize=18)\n",
    "        plt.ylabel(m, fontsize=18)\n",
    "        plt.xlabel('epoch', fontsize=18)\n",
    "        plt.legend(['train', 'validation'], loc='best')\n",
    "        plt.show()\n"
   ]
  },
  {
   "cell_type": "markdown",
   "metadata": {},
   "source": [
    "### Loading the data"
   ]
  },
  {
   "cell_type": "markdown",
   "metadata": {},
   "source": [
    "**Downloading the dataset:**\n",
    "\n",
    "The dataset for this demo was published in [1] and it is freely available to download from Kaggle [here](https://www.kaggle.com/manoelribeiro/hateful-users-on-twitter/home).\n",
    "\n",
    "The following is the description of the datasets:\n",
    "\n",
    ">This dataset contains a network of 100k users, out of which ~5k were annotated as hateful or\n",
    ">not. For each user, several content-related, network-related and activity related features\n",
    ">were provided. \n",
    "\n",
    "Additional files of hateful lexicon can be found [here]( \n",
    "https://github.com/manoelhortaribeiro/HatefulUsersTwitter/tree/master/data/extra)\n",
    "\n",
    "Download the dataset and then set the `data_dir` variable to point to the download location."
   ]
  },
  {
   "cell_type": "code",
   "execution_count": 4,
   "metadata": {},
   "outputs": [],
   "source": [
    "data_dir = os.path.expanduser(\"~/data/hateful-twitter-users\")"
   ]
  },
  {
   "cell_type": "markdown",
   "metadata": {},
   "source": [
    "### First load and prepare the node features\n",
    "\n",
    "Each node in the graph is associated with a large number of features (also referred to as attributes). \n",
    "\n",
    "The list of features is given [here](https://www.kaggle.com/manoelribeiro/hateful-users-on-twitter). We repeated here for convenience.\n",
    "\n",
    "hate :(\"hateful\"|\"normal\"|\"other\")\n",
    "  if user was annotated as hateful, normal, or not annotated.\n",
    "  \n",
    "  (is_50|is_50_2) :bool\n",
    "  whether user was deleted up to 12/12/17 or 14/01/18. \n",
    "  \n",
    "  (is_63|is_63_2) :bool\n",
    "  whether user was suspended up to 12/12/17 or 14/01/18. \n",
    "        \n",
    "  (hate|normal)_neigh :bool\n",
    "  is the user on the neighborhood of a (hateful|normal) user? \n",
    "  \n",
    "  [c_] (statuses|follower|followees|favorites)_count :int\n",
    "  number of (tweets|follower|followees|favorites) a user has.\n",
    "  \n",
    "  [c_] listed_count:int\n",
    "  number of lists a user is in.\n",
    "\n",
    "  [c_] (betweenness|eigenvector|in_degree|outdegree) :float\n",
    "  centrality measurements for each user in the retweet graph.\n",
    "  \n",
    "  [c_] *_empath :float\n",
    "  occurrences of empath categories in the users latest 200 tweets.\n",
    "\n",
    "  [c_] *_glove :float          \n",
    "  glove vector calculated for users latest 200 tweets.\n",
    "  \n",
    "  [c_] (sentiment|subjectivity) :float\n",
    "  average sentiment and subjectivity of users tweets.\n",
    "  \n",
    "  [c_] (time_diff|time_diff_median) :float\n",
    "  average and median time difference between tweets.\n",
    "  \n",
    "  [c_] (tweet|retweet|quote) number :float\n",
    "  percentage of direct tweets, retweets and quotes of an user.\n",
    "  \n",
    "  [c_] (number urls|number hashtags|baddies|mentions) :float\n",
    "  number of bad words|mentions|urls|hashtags per tweet in average.\n",
    "  \n",
    "  [c_] status length :float\n",
    "  average status length.\n",
    "  \n",
    "  hashtags :string\n",
    "  all hashtags employed by the user separated by spaces.\n",
    "  \n",
    "**Notice** that c_ are attributes calculated for the 1-neighborhood of a user in the retweet network (averaged out)."
   ]
  },
  {
   "cell_type": "markdown",
   "metadata": {},
   "source": [
    "First, we are going to load the user features and prepare them for machine learning."
   ]
  },
  {
   "cell_type": "code",
   "execution_count": 5,
   "metadata": {},
   "outputs": [
    {
     "data": {
      "text/html": [
       "<div>\n",
       "<style scoped>\n",
       "    .dataframe tbody tr th:only-of-type {\n",
       "        vertical-align: middle;\n",
       "    }\n",
       "\n",
       "    .dataframe tbody tr th {\n",
       "        vertical-align: top;\n",
       "    }\n",
       "\n",
       "    .dataframe thead th {\n",
       "        text-align: right;\n",
       "    }\n",
       "</style>\n",
       "<table border=\"1\" class=\"dataframe\">\n",
       "  <thead>\n",
       "    <tr style=\"text-align: right;\">\n",
       "      <th></th>\n",
       "      <th>user_id</th>\n",
       "      <th>hate</th>\n",
       "      <th>hate_neigh</th>\n",
       "      <th>normal_neigh</th>\n",
       "      <th>statuses_count</th>\n",
       "      <th>followers_count</th>\n",
       "      <th>followees_count</th>\n",
       "      <th>favorites_count</th>\n",
       "      <th>listed_count</th>\n",
       "      <th>betweenness</th>\n",
       "      <th>...</th>\n",
       "      <th>c_feminine_empath</th>\n",
       "      <th>c_medieval_empath</th>\n",
       "      <th>c_journalism_empath</th>\n",
       "      <th>c_farming_empath</th>\n",
       "      <th>c_plant_empath</th>\n",
       "      <th>c_shopping_empath</th>\n",
       "      <th>c_ship_empath</th>\n",
       "      <th>c_religion_empath</th>\n",
       "      <th>c_tourism_empath</th>\n",
       "      <th>c_power_empath</th>\n",
       "    </tr>\n",
       "  </thead>\n",
       "  <tbody>\n",
       "    <tr>\n",
       "      <td>0</td>\n",
       "      <td>0</td>\n",
       "      <td>normal</td>\n",
       "      <td>True</td>\n",
       "      <td>True</td>\n",
       "      <td>101767</td>\n",
       "      <td>3504</td>\n",
       "      <td>3673</td>\n",
       "      <td>81635</td>\n",
       "      <td>53</td>\n",
       "      <td>100467.895084</td>\n",
       "      <td>...</td>\n",
       "      <td>0.001380</td>\n",
       "      <td>0.003288</td>\n",
       "      <td>0.000255</td>\n",
       "      <td>0.002189</td>\n",
       "      <td>0.000593</td>\n",
       "      <td>0.003689</td>\n",
       "      <td>0.003559</td>\n",
       "      <td>0.001634</td>\n",
       "      <td>0.002662</td>\n",
       "      <td>0.007487</td>\n",
       "    </tr>\n",
       "    <tr>\n",
       "      <td>1</td>\n",
       "      <td>1</td>\n",
       "      <td>other</td>\n",
       "      <td>False</td>\n",
       "      <td>False</td>\n",
       "      <td>2352</td>\n",
       "      <td>19609</td>\n",
       "      <td>309</td>\n",
       "      <td>61</td>\n",
       "      <td>197</td>\n",
       "      <td>0.000000</td>\n",
       "      <td>...</td>\n",
       "      <td>0.000802</td>\n",
       "      <td>0.004465</td>\n",
       "      <td>0.000444</td>\n",
       "      <td>0.001632</td>\n",
       "      <td>0.001298</td>\n",
       "      <td>0.002183</td>\n",
       "      <td>0.008969</td>\n",
       "      <td>0.004975</td>\n",
       "      <td>0.000647</td>\n",
       "      <td>0.003419</td>\n",
       "    </tr>\n",
       "    <tr>\n",
       "      <td>2</td>\n",
       "      <td>2</td>\n",
       "      <td>other</td>\n",
       "      <td>False</td>\n",
       "      <td>False</td>\n",
       "      <td>1044</td>\n",
       "      <td>2371</td>\n",
       "      <td>2246</td>\n",
       "      <td>561</td>\n",
       "      <td>16</td>\n",
       "      <td>4897.117853</td>\n",
       "      <td>...</td>\n",
       "      <td>0.000985</td>\n",
       "      <td>0.005284</td>\n",
       "      <td>0.000554</td>\n",
       "      <td>0.001084</td>\n",
       "      <td>0.001359</td>\n",
       "      <td>0.002041</td>\n",
       "      <td>0.016846</td>\n",
       "      <td>0.004881</td>\n",
       "      <td>0.001214</td>\n",
       "      <td>0.003347</td>\n",
       "    </tr>\n",
       "    <tr>\n",
       "      <td>3</td>\n",
       "      <td>3</td>\n",
       "      <td>other</td>\n",
       "      <td>False</td>\n",
       "      <td>False</td>\n",
       "      <td>167172</td>\n",
       "      <td>3004</td>\n",
       "      <td>298</td>\n",
       "      <td>3242</td>\n",
       "      <td>53</td>\n",
       "      <td>9.864754</td>\n",
       "      <td>...</td>\n",
       "      <td>0.001391</td>\n",
       "      <td>0.002061</td>\n",
       "      <td>0.001116</td>\n",
       "      <td>0.001282</td>\n",
       "      <td>0.000000</td>\n",
       "      <td>0.001951</td>\n",
       "      <td>0.015423</td>\n",
       "      <td>0.000446</td>\n",
       "      <td>0.000446</td>\n",
       "      <td>0.005241</td>\n",
       "    </tr>\n",
       "    <tr>\n",
       "      <td>4</td>\n",
       "      <td>4</td>\n",
       "      <td>other</td>\n",
       "      <td>False</td>\n",
       "      <td>False</td>\n",
       "      <td>1998</td>\n",
       "      <td>17643</td>\n",
       "      <td>19355</td>\n",
       "      <td>485</td>\n",
       "      <td>239</td>\n",
       "      <td>0.000000</td>\n",
       "      <td>...</td>\n",
       "      <td>0.000633</td>\n",
       "      <td>0.035382</td>\n",
       "      <td>0.000317</td>\n",
       "      <td>0.000475</td>\n",
       "      <td>0.000475</td>\n",
       "      <td>0.002431</td>\n",
       "      <td>0.007656</td>\n",
       "      <td>0.033273</td>\n",
       "      <td>0.072792</td>\n",
       "      <td>0.003698</td>\n",
       "    </tr>\n",
       "  </tbody>\n",
       "</table>\n",
       "<p>5 rows × 1039 columns</p>\n",
       "</div>"
      ],
      "text/plain": [
       "   user_id    hate  hate_neigh  normal_neigh  statuses_count  followers_count  \\\n",
       "0        0  normal        True          True          101767             3504   \n",
       "1        1   other       False         False            2352            19609   \n",
       "2        2   other       False         False            1044             2371   \n",
       "3        3   other       False         False          167172             3004   \n",
       "4        4   other       False         False            1998            17643   \n",
       "\n",
       "   followees_count  favorites_count  listed_count    betweenness  ...  \\\n",
       "0             3673            81635            53  100467.895084  ...   \n",
       "1              309               61           197       0.000000  ...   \n",
       "2             2246              561            16    4897.117853  ...   \n",
       "3              298             3242            53       9.864754  ...   \n",
       "4            19355              485           239       0.000000  ...   \n",
       "\n",
       "   c_feminine_empath  c_medieval_empath  c_journalism_empath  \\\n",
       "0           0.001380           0.003288             0.000255   \n",
       "1           0.000802           0.004465             0.000444   \n",
       "2           0.000985           0.005284             0.000554   \n",
       "3           0.001391           0.002061             0.001116   \n",
       "4           0.000633           0.035382             0.000317   \n",
       "\n",
       "   c_farming_empath  c_plant_empath  c_shopping_empath  c_ship_empath  \\\n",
       "0          0.002189        0.000593           0.003689       0.003559   \n",
       "1          0.001632        0.001298           0.002183       0.008969   \n",
       "2          0.001084        0.001359           0.002041       0.016846   \n",
       "3          0.001282        0.000000           0.001951       0.015423   \n",
       "4          0.000475        0.000475           0.002431       0.007656   \n",
       "\n",
       "   c_religion_empath  c_tourism_empath  c_power_empath  \n",
       "0           0.001634          0.002662        0.007487  \n",
       "1           0.004975          0.000647        0.003419  \n",
       "2           0.004881          0.001214        0.003347  \n",
       "3           0.000446          0.000446        0.005241  \n",
       "4           0.033273          0.072792        0.003698  \n",
       "\n",
       "[5 rows x 1039 columns]"
      ]
     },
     "execution_count": 5,
     "metadata": {},
     "output_type": "execute_result"
    }
   ],
   "source": [
    "users_feat = pd.read_csv(os.path.join(data_dir, \n",
    "                                      'users_neighborhood_anon.csv'))\n",
    "users_feat.head()"
   ]
  },
  {
   "cell_type": "markdown",
   "metadata": {},
   "source": [
    "Let's have a look at the distribution of hateful, normal (not hateful), and other (unknown) users in the dataset"
   ]
  },
  {
   "cell_type": "code",
   "execution_count": 6,
   "metadata": {},
   "outputs": [
    {
     "name": "stdout",
     "output_type": "stream",
     "text": [
      "Initial hateful/normal users distribution\n",
      "(100386, 1039)\n",
      "other      95415\n",
      "normal      4427\n",
      "hateful      544\n",
      "Name: hate, dtype: int64\n"
     ]
    }
   ],
   "source": [
    "print(\"Initial hateful/normal users distribution\")\n",
    "print(users_feat.shape)\n",
    "print(users_feat.hate.value_counts())"
   ]
  },
  {
   "cell_type": "markdown",
   "metadata": {},
   "source": [
    "There is a clear imbalance on the number of users tagged as hateful vs normal and unknown."
   ]
  },
  {
   "cell_type": "markdown",
   "metadata": {},
   "source": [
    "### Data cleaning and preprocessing"
   ]
  },
  {
   "cell_type": "markdown",
   "metadata": {},
   "source": [
    "The dataset as given includes a large number of graph related features that are manually extracted. \n",
    "\n",
    "Since we are going to employ modern graph neural networks methods for classification, we are going to drop these manually engineered features. \n",
    "\n",
    "The power of Graph Neural Networks stems from their ability to learn useful graph-related features eliminating the need for manual feature engineering."
   ]
  },
  {
   "cell_type": "code",
   "execution_count": 7,
   "metadata": {},
   "outputs": [],
   "source": [
    "def data_cleaning(feat):\n",
    "    feat = feat.drop(columns=[\"hate_neigh\", \"normal_neigh\"])\n",
    "    \n",
    "    # Convert target values in hate column from strings to integers (0,1,2)\n",
    "    feat['hate'] = np.where(feat['hate']=='hateful', 1, np.where(feat['hate']=='normal', 0, 2))\n",
    "    \n",
    "    # missing information\n",
    "    number_of_missing = feat.isnull().sum()\n",
    "    number_of_missing[number_of_missing!=0]\n",
    "    \n",
    "    # Replace NA with 0\n",
    "    feat.fillna(0, inplace=True)\n",
    "\n",
    "    # droping info about suspension and deletion as it is should not be use din the predictive model\n",
    "    feat.drop(feat.columns[feat.columns.str.contains(\"is_\")], axis=1, inplace=True)\n",
    "\n",
    "    # drop glove features\n",
    "    feat.drop(feat.columns[feat.columns.str.contains(\"_glove\")], axis=1, inplace=True)\n",
    "\n",
    "    # drop c_ features\n",
    "    feat.drop(feat.columns[feat.columns.str.contains(\"c_\")], axis=1, inplace=True)\n",
    "\n",
    "    # drop sentiment features for now\n",
    "    feat.drop(feat.columns[feat.columns.str.contains(\"sentiment\")], axis=1, inplace=True)\n",
    "\n",
    "    # drop hashtag feature\n",
    "    feat.drop(['hashtags'], axis=1, inplace=True)\n",
    "\n",
    "    # Drop centrality based measures\n",
    "    feat.drop(columns=['betweenness', 'eigenvector', 'in_degree', 'out_degree'], inplace=True)\n",
    "    \n",
    "    feat.drop(columns=['created_at'], inplace=True)\n",
    "    \n",
    "    return feat"
   ]
  },
  {
   "cell_type": "code",
   "execution_count": 8,
   "metadata": {},
   "outputs": [],
   "source": [
    "node_data = data_cleaning(users_feat)"
   ]
  },
  {
   "cell_type": "markdown",
   "metadata": {},
   "source": [
    "Of the original **1037** node features, we are keeping only **204** that are based on a user's attributes and tweet lexicon. We have removed any manually engineered graph features since the graph neural network algorithms we are going to use will automatically determine the best features to use during training."
   ]
  },
  {
   "cell_type": "code",
   "execution_count": 9,
   "metadata": {},
   "outputs": [
    {
     "data": {
      "text/plain": [
       "(100386, 206)"
      ]
     },
     "execution_count": 9,
     "metadata": {},
     "output_type": "execute_result"
    }
   ],
   "source": [
    "node_data.shape"
   ]
  },
  {
   "cell_type": "code",
   "execution_count": 10,
   "metadata": {},
   "outputs": [
    {
     "data": {
      "text/html": [
       "<div>\n",
       "<style scoped>\n",
       "    .dataframe tbody tr th:only-of-type {\n",
       "        vertical-align: middle;\n",
       "    }\n",
       "\n",
       "    .dataframe tbody tr th {\n",
       "        vertical-align: top;\n",
       "    }\n",
       "\n",
       "    .dataframe thead th {\n",
       "        text-align: right;\n",
       "    }\n",
       "</style>\n",
       "<table border=\"1\" class=\"dataframe\">\n",
       "  <thead>\n",
       "    <tr style=\"text-align: right;\">\n",
       "      <th></th>\n",
       "      <th>user_id</th>\n",
       "      <th>hate</th>\n",
       "      <th>statuses_count</th>\n",
       "      <th>followers_count</th>\n",
       "      <th>followees_count</th>\n",
       "      <th>favorites_count</th>\n",
       "      <th>listed_count</th>\n",
       "      <th>negotiate_empath</th>\n",
       "      <th>vehicle_empath</th>\n",
       "      <th>science_empath</th>\n",
       "      <th>...</th>\n",
       "      <th>number hashtags</th>\n",
       "      <th>tweet number</th>\n",
       "      <th>retweet number</th>\n",
       "      <th>quote number</th>\n",
       "      <th>status length</th>\n",
       "      <th>number urls</th>\n",
       "      <th>baddies</th>\n",
       "      <th>mentions</th>\n",
       "      <th>time_diff</th>\n",
       "      <th>time_diff_median</th>\n",
       "    </tr>\n",
       "  </thead>\n",
       "  <tbody>\n",
       "    <tr>\n",
       "      <td>0</td>\n",
       "      <td>0</td>\n",
       "      <td>0</td>\n",
       "      <td>101767</td>\n",
       "      <td>3504</td>\n",
       "      <td>3673</td>\n",
       "      <td>81635</td>\n",
       "      <td>53</td>\n",
       "      <td>0.000513</td>\n",
       "      <td>0.002564</td>\n",
       "      <td>0.002564</td>\n",
       "      <td>...</td>\n",
       "      <td>16.0</td>\n",
       "      <td>121.0</td>\n",
       "      <td>79.0</td>\n",
       "      <td>5.0</td>\n",
       "      <td>75.565000</td>\n",
       "      <td>82.0</td>\n",
       "      <td>18.0</td>\n",
       "      <td>159.0</td>\n",
       "      <td>356.020101</td>\n",
       "      <td>74.0</td>\n",
       "    </tr>\n",
       "    <tr>\n",
       "      <td>1</td>\n",
       "      <td>1</td>\n",
       "      <td>2</td>\n",
       "      <td>2352</td>\n",
       "      <td>19609</td>\n",
       "      <td>309</td>\n",
       "      <td>61</td>\n",
       "      <td>197</td>\n",
       "      <td>0.003180</td>\n",
       "      <td>0.000867</td>\n",
       "      <td>0.003469</td>\n",
       "      <td>...</td>\n",
       "      <td>40.0</td>\n",
       "      <td>199.0</td>\n",
       "      <td>0.0</td>\n",
       "      <td>0.0</td>\n",
       "      <td>101.713568</td>\n",
       "      <td>20.0</td>\n",
       "      <td>10.0</td>\n",
       "      <td>6.0</td>\n",
       "      <td>17519.116162</td>\n",
       "      <td>45.0</td>\n",
       "    </tr>\n",
       "    <tr>\n",
       "      <td>2</td>\n",
       "      <td>2</td>\n",
       "      <td>2</td>\n",
       "      <td>1044</td>\n",
       "      <td>2371</td>\n",
       "      <td>2246</td>\n",
       "      <td>561</td>\n",
       "      <td>16</td>\n",
       "      <td>0.005272</td>\n",
       "      <td>0.000000</td>\n",
       "      <td>0.005272</td>\n",
       "      <td>...</td>\n",
       "      <td>328.0</td>\n",
       "      <td>113.0</td>\n",
       "      <td>87.0</td>\n",
       "      <td>0.0</td>\n",
       "      <td>128.130000</td>\n",
       "      <td>219.0</td>\n",
       "      <td>16.0</td>\n",
       "      <td>158.0</td>\n",
       "      <td>46417.758794</td>\n",
       "      <td>2010.0</td>\n",
       "    </tr>\n",
       "    <tr>\n",
       "      <td>3</td>\n",
       "      <td>3</td>\n",
       "      <td>2</td>\n",
       "      <td>167172</td>\n",
       "      <td>3004</td>\n",
       "      <td>298</td>\n",
       "      <td>3242</td>\n",
       "      <td>53</td>\n",
       "      <td>0.004016</td>\n",
       "      <td>0.005801</td>\n",
       "      <td>0.001339</td>\n",
       "      <td>...</td>\n",
       "      <td>127.0</td>\n",
       "      <td>69.0</td>\n",
       "      <td>131.0</td>\n",
       "      <td>3.0</td>\n",
       "      <td>85.760000</td>\n",
       "      <td>149.0</td>\n",
       "      <td>10.0</td>\n",
       "      <td>26.0</td>\n",
       "      <td>656.889447</td>\n",
       "      <td>72.0</td>\n",
       "    </tr>\n",
       "    <tr>\n",
       "      <td>4</td>\n",
       "      <td>4</td>\n",
       "      <td>2</td>\n",
       "      <td>1998</td>\n",
       "      <td>17643</td>\n",
       "      <td>19355</td>\n",
       "      <td>485</td>\n",
       "      <td>239</td>\n",
       "      <td>0.001134</td>\n",
       "      <td>0.000000</td>\n",
       "      <td>0.000756</td>\n",
       "      <td>...</td>\n",
       "      <td>1710.0</td>\n",
       "      <td>101.0</td>\n",
       "      <td>99.0</td>\n",
       "      <td>0.0</td>\n",
       "      <td>152.175000</td>\n",
       "      <td>198.0</td>\n",
       "      <td>35.0</td>\n",
       "      <td>7.0</td>\n",
       "      <td>55991.356784</td>\n",
       "      <td>48197.0</td>\n",
       "    </tr>\n",
       "  </tbody>\n",
       "</table>\n",
       "<p>5 rows × 206 columns</p>\n",
       "</div>"
      ],
      "text/plain": [
       "   user_id  hate  statuses_count  followers_count  followees_count  \\\n",
       "0        0     0          101767             3504             3673   \n",
       "1        1     2            2352            19609              309   \n",
       "2        2     2            1044             2371             2246   \n",
       "3        3     2          167172             3004              298   \n",
       "4        4     2            1998            17643            19355   \n",
       "\n",
       "   favorites_count  listed_count  negotiate_empath  vehicle_empath  \\\n",
       "0            81635            53          0.000513        0.002564   \n",
       "1               61           197          0.003180        0.000867   \n",
       "2              561            16          0.005272        0.000000   \n",
       "3             3242            53          0.004016        0.005801   \n",
       "4              485           239          0.001134        0.000000   \n",
       "\n",
       "   science_empath  ...  number hashtags  tweet number  retweet number  \\\n",
       "0        0.002564  ...             16.0         121.0            79.0   \n",
       "1        0.003469  ...             40.0         199.0             0.0   \n",
       "2        0.005272  ...            328.0         113.0            87.0   \n",
       "3        0.001339  ...            127.0          69.0           131.0   \n",
       "4        0.000756  ...           1710.0         101.0            99.0   \n",
       "\n",
       "   quote number  status length  number urls  baddies  mentions     time_diff  \\\n",
       "0           5.0      75.565000         82.0     18.0     159.0    356.020101   \n",
       "1           0.0     101.713568         20.0     10.0       6.0  17519.116162   \n",
       "2           0.0     128.130000        219.0     16.0     158.0  46417.758794   \n",
       "3           3.0      85.760000        149.0     10.0      26.0    656.889447   \n",
       "4           0.0     152.175000        198.0     35.0       7.0  55991.356784   \n",
       "\n",
       "   time_diff_median  \n",
       "0              74.0  \n",
       "1              45.0  \n",
       "2            2010.0  \n",
       "3              72.0  \n",
       "4           48197.0  \n",
       "\n",
       "[5 rows x 206 columns]"
      ]
     },
     "execution_count": 10,
     "metadata": {},
     "output_type": "execute_result"
    }
   ],
   "source": [
    "node_data.head()"
   ]
  },
  {
   "cell_type": "markdown",
   "metadata": {},
   "source": [
    "The continous features in our dataset have distributions with very long tails. We apply normalization to correct for this."
   ]
  },
  {
   "cell_type": "code",
   "execution_count": 11,
   "metadata": {},
   "outputs": [],
   "source": [
    "# Ignore the first two columns because those are user_id and hate (the target variable)\n",
    "df_values = node_data.iloc[:, 2:].values"
   ]
  },
  {
   "cell_type": "code",
   "execution_count": 12,
   "metadata": {},
   "outputs": [],
   "source": [
    "pt = preprocessing.PowerTransformer(method='yeo-johnson', \n",
    "                                    standardize=True) "
   ]
  },
  {
   "cell_type": "code",
   "execution_count": 13,
   "metadata": {},
   "outputs": [],
   "source": [
    "df_values_log = pt.fit_transform(df_values)"
   ]
  },
  {
   "cell_type": "markdown",
   "metadata": {},
   "source": [
    "Let's have a look at one of the normalized features before and after the power transform was applied.\n",
    "\n",
    "The feature we are going to look at is a user's number of followers."
   ]
  },
  {
   "cell_type": "code",
   "execution_count": 14,
   "metadata": {},
   "outputs": [],
   "source": [
    "sns_rc = {'lines.linewidth': 3, 'figure.figsize':(12,6)}\n",
    "sns.set_context(\"paper\", rc = sns_rc) \n",
    "sns.set_style(\"whitegrid\", {'axes.grid' : False})"
   ]
  },
  {
   "cell_type": "code",
   "execution_count": 15,
   "metadata": {},
   "outputs": [
    {
     "data": {
      "image/png": "[encoded data removed]",
      "text/plain": [
       "<Figure size 432x288 with 1 Axes>"
      ]
     },
     "metadata": {},
     "output_type": "display_data"
    }
   ],
   "source": [
    "sns.kdeplot(df_values[:, 1])\n",
    "s = plt.ylabel(\"Density\", fontsize=18)\n",
    "s = plt.xlabel(\"Feature value\", fontsize=18)\n",
    "s = plt.title(\"Number of followers, before Power Transform\", fontsize=18)"
   ]
  },
  {
   "cell_type": "code",
   "execution_count": 16,
   "metadata": {},
   "outputs": [
    {
     "data": {
      "image/png": "[encoded data removed]",
      "text/plain": [
       "<Figure size 432x288 with 1 Axes>"
      ]
     },
     "metadata": {},
     "output_type": "display_data"
    }
   ],
   "source": [
    "sns.kdeplot(df_values_log[:, 1])\n",
    "s = plt.ylabel(\"Density\", fontsize=18)\n",
    "s = plt.xlabel(\"Feature value\", fontsize=18)\n",
    "s = plt.title(\"Number of followers after Power Transform\", fontsize=18)"
   ]
  },
  {
   "cell_type": "markdown",
   "metadata": {},
   "source": [
    "Feature normalization looks like it is doing the right thing as the raw features have long tails that are eliminated after applying the power transform. \n",
    "\n",
    "So let us use the normalized features from now on."
   ]
  },
  {
   "cell_type": "code",
   "execution_count": 17,
   "metadata": {},
   "outputs": [],
   "source": [
    "node_data.iloc[:, 2:] = df_values_log"
   ]
  },
  {
   "cell_type": "code",
   "execution_count": 18,
   "metadata": {},
   "outputs": [],
   "source": [
    "# Set the dataframe index to be the same as the user_id and drop the user_id columns\n",
    "node_data.index = node_data.index.map(str)\n",
    "node_data.drop(columns=['user_id'], inplace=True)"
   ]
  },
  {
   "cell_type": "markdown",
   "metadata": {},
   "source": [
    "Node features are now ready for machine learning."
   ]
  },
  {
   "cell_type": "code",
   "execution_count": 19,
   "metadata": {},
   "outputs": [
    {
     "data": {
      "text/html": [
       "<div>\n",
       "<style scoped>\n",
       "    .dataframe tbody tr th:only-of-type {\n",
       "        vertical-align: middle;\n",
       "    }\n",
       "\n",
       "    .dataframe tbody tr th {\n",
       "        vertical-align: top;\n",
       "    }\n",
       "\n",
       "    .dataframe thead th {\n",
       "        text-align: right;\n",
       "    }\n",
       "</style>\n",
       "<table border=\"1\" class=\"dataframe\">\n",
       "  <thead>\n",
       "    <tr style=\"text-align: right;\">\n",
       "      <th></th>\n",
       "      <th>hate</th>\n",
       "      <th>statuses_count</th>\n",
       "      <th>followers_count</th>\n",
       "      <th>followees_count</th>\n",
       "      <th>favorites_count</th>\n",
       "      <th>listed_count</th>\n",
       "      <th>negotiate_empath</th>\n",
       "      <th>vehicle_empath</th>\n",
       "      <th>science_empath</th>\n",
       "      <th>timidity_empath</th>\n",
       "      <th>...</th>\n",
       "      <th>number hashtags</th>\n",
       "      <th>tweet number</th>\n",
       "      <th>retweet number</th>\n",
       "      <th>quote number</th>\n",
       "      <th>status length</th>\n",
       "      <th>number urls</th>\n",
       "      <th>baddies</th>\n",
       "      <th>mentions</th>\n",
       "      <th>time_diff</th>\n",
       "      <th>time_diff_median</th>\n",
       "    </tr>\n",
       "  </thead>\n",
       "  <tbody>\n",
       "    <tr>\n",
       "      <td>0</td>\n",
       "      <td>0</td>\n",
       "      <td>1.541150</td>\n",
       "      <td>0.046773</td>\n",
       "      <td>1.104767</td>\n",
       "      <td>1.869391</td>\n",
       "      <td>0.017835</td>\n",
       "      <td>-1.752256</td>\n",
       "      <td>0.164900</td>\n",
       "      <td>0.181173</td>\n",
       "      <td>0.875069</td>\n",
       "      <td>...</td>\n",
       "      <td>-0.632488</td>\n",
       "      <td>-0.049013</td>\n",
       "      <td>0.321929</td>\n",
       "      <td>-0.369992</td>\n",
       "      <td>-1.036127</td>\n",
       "      <td>-0.796091</td>\n",
       "      <td>0.047430</td>\n",
       "      <td>0.356495</td>\n",
       "      <td>-1.888186</td>\n",
       "      <td>-1.299249</td>\n",
       "    </tr>\n",
       "    <tr>\n",
       "      <td>1</td>\n",
       "      <td>2</td>\n",
       "      <td>-0.700240</td>\n",
       "      <td>0.772450</td>\n",
       "      <td>-0.526061</td>\n",
       "      <td>-1.434183</td>\n",
       "      <td>0.613187</td>\n",
       "      <td>-0.735320</td>\n",
       "      <td>-0.864337</td>\n",
       "      <td>0.599279</td>\n",
       "      <td>1.610977</td>\n",
       "      <td>...</td>\n",
       "      <td>-0.071721</td>\n",
       "      <td>1.479066</td>\n",
       "      <td>-1.999580</td>\n",
       "      <td>-1.545285</td>\n",
       "      <td>-0.188945</td>\n",
       "      <td>-1.875745</td>\n",
       "      <td>-0.626192</td>\n",
       "      <td>-1.972207</td>\n",
       "      <td>0.160925</td>\n",
       "      <td>-1.512603</td>\n",
       "    </tr>\n",
       "    <tr>\n",
       "      <td>2</td>\n",
       "      <td>2</td>\n",
       "      <td>-1.077284</td>\n",
       "      <td>-0.127775</td>\n",
       "      <td>0.767345</td>\n",
       "      <td>-0.669050</td>\n",
       "      <td>-0.523882</td>\n",
       "      <td>-0.118440</td>\n",
       "      <td>-1.573040</td>\n",
       "      <td>1.211083</td>\n",
       "      <td>-0.154213</td>\n",
       "      <td>...</td>\n",
       "      <td>1.618609</td>\n",
       "      <td>-0.201320</td>\n",
       "      <td>0.452537</td>\n",
       "      <td>-1.545285</td>\n",
       "      <td>0.637869</td>\n",
       "      <td>0.884530</td>\n",
       "      <td>-0.096918</td>\n",
       "      <td>0.348954</td>\n",
       "      <td>0.698841</td>\n",
       "      <td>0.122176</td>\n",
       "    </tr>\n",
       "    <tr>\n",
       "      <td>3</td>\n",
       "      <td>2</td>\n",
       "      <td>1.908494</td>\n",
       "      <td>-0.021575</td>\n",
       "      <td>-0.548705</td>\n",
       "      <td>0.078540</td>\n",
       "      <td>0.017835</td>\n",
       "      <td>-0.472125</td>\n",
       "      <td>1.281633</td>\n",
       "      <td>-0.544862</td>\n",
       "      <td>1.259492</td>\n",
       "      <td>...</td>\n",
       "      <td>0.781915</td>\n",
       "      <td>-1.018822</td>\n",
       "      <td>1.085858</td>\n",
       "      <td>-0.662393</td>\n",
       "      <td>-0.701835</td>\n",
       "      <td>0.088472</td>\n",
       "      <td>-0.626192</td>\n",
       "      <td>-1.254997</td>\n",
       "      <td>-1.576801</td>\n",
       "      <td>-1.311031</td>\n",
       "    </tr>\n",
       "    <tr>\n",
       "      <td>4</td>\n",
       "      <td>2</td>\n",
       "      <td>-0.778589</td>\n",
       "      <td>0.729918</td>\n",
       "      <td>2.296049</td>\n",
       "      <td>-0.725089</td>\n",
       "      <td>0.700128</td>\n",
       "      <td>-1.488804</td>\n",
       "      <td>-1.573040</td>\n",
       "      <td>-0.969812</td>\n",
       "      <td>0.199834</td>\n",
       "      <td>...</td>\n",
       "      <td>3.422701</td>\n",
       "      <td>-0.427866</td>\n",
       "      <td>0.638106</td>\n",
       "      <td>-1.545285</td>\n",
       "      <td>1.370832</td>\n",
       "      <td>0.655433</td>\n",
       "      <td>0.955922</td>\n",
       "      <td>-1.914894</td>\n",
       "      <td>0.803553</td>\n",
       "      <td>1.472247</td>\n",
       "    </tr>\n",
       "  </tbody>\n",
       "</table>\n",
       "<p>5 rows × 205 columns</p>\n",
       "</div>"
      ],
      "text/plain": [
       "   hate  statuses_count  followers_count  followees_count  favorites_count  \\\n",
       "0     0        1.541150         0.046773         1.104767         1.869391   \n",
       "1     2       -0.700240         0.772450        -0.526061        -1.434183   \n",
       "2     2       -1.077284        -0.127775         0.767345        -0.669050   \n",
       "3     2        1.908494        -0.021575        -0.548705         0.078540   \n",
       "4     2       -0.778589         0.729918         2.296049        -0.725089   \n",
       "\n",
       "   listed_count  negotiate_empath  vehicle_empath  science_empath  \\\n",
       "0      0.017835         -1.752256        0.164900        0.181173   \n",
       "1      0.613187         -0.735320       -0.864337        0.599279   \n",
       "2     -0.523882         -0.118440       -1.573040        1.211083   \n",
       "3      0.017835         -0.472125        1.281633       -0.544862   \n",
       "4      0.700128         -1.488804       -1.573040       -0.969812   \n",
       "\n",
       "   timidity_empath  ...  number hashtags  tweet number  retweet number  \\\n",
       "0         0.875069  ...        -0.632488     -0.049013        0.321929   \n",
       "1         1.610977  ...        -0.071721      1.479066       -1.999580   \n",
       "2        -0.154213  ...         1.618609     -0.201320        0.452537   \n",
       "3         1.259492  ...         0.781915     -1.018822        1.085858   \n",
       "4         0.199834  ...         3.422701     -0.427866        0.638106   \n",
       "\n",
       "   quote number  status length  number urls   baddies  mentions  time_diff  \\\n",
       "0     -0.369992      -1.036127    -0.796091  0.047430  0.356495  -1.888186   \n",
       "1     -1.545285      -0.188945    -1.875745 -0.626192 -1.972207   0.160925   \n",
       "2     -1.545285       0.637869     0.884530 -0.096918  0.348954   0.698841   \n",
       "3     -0.662393      -0.701835     0.088472 -0.626192 -1.254997  -1.576801   \n",
       "4     -1.545285       1.370832     0.655433  0.955922 -1.914894   0.803553   \n",
       "\n",
       "   time_diff_median  \n",
       "0         -1.299249  \n",
       "1         -1.512603  \n",
       "2          0.122176  \n",
       "3         -1.311031  \n",
       "4          1.472247  \n",
       "\n",
       "[5 rows x 205 columns]"
      ]
     },
     "execution_count": 19,
     "metadata": {},
     "output_type": "execute_result"
    }
   ],
   "source": [
    "node_data.head()"
   ]
  },
  {
   "cell_type": "markdown",
   "metadata": {},
   "source": [
    "### Next load the graph\n",
    "\n",
    "Now that we have the node features prepared for machine learning, let us load the retweet graph."
   ]
  },
  {
   "cell_type": "code",
   "execution_count": 20,
   "metadata": {},
   "outputs": [],
   "source": [
    "g_nx = nx.read_edgelist(path=os.path.expanduser(os.path.join(data_dir,\n",
    "                                                             \"users.edges\")))"
   ]
  },
  {
   "cell_type": "code",
   "execution_count": 21,
   "metadata": {},
   "outputs": [
    {
     "data": {
      "text/plain": [
       "(100386, 2194979)"
      ]
     },
     "execution_count": 21,
     "metadata": {},
     "output_type": "execute_result"
    }
   ],
   "source": [
    "g_nx.number_of_nodes(), g_nx.number_of_edges()"
   ]
  },
  {
   "cell_type": "markdown",
   "metadata": {},
   "source": [
    "The graph has just over 100k nodes and approximately 2.2m edges.\n",
    "\n",
    "We aim to train a graph neural network model that will predict the \"hate\"attribute on the nodes.\n",
    "\n",
    "For computation convenience, we have mapped the target labels **normal**, **hateful**, and **other** to the numeric values **0**, **1**, and **2** respectively."
   ]
  },
  {
   "cell_type": "code",
   "execution_count": 22,
   "metadata": {},
   "outputs": [
    {
     "name": "stdout",
     "output_type": "stream",
     "text": [
      "{0, 1, 2}\n"
     ]
    }
   ],
   "source": [
    "print(set(node_data[\"hate\"]))"
   ]
  },
  {
   "cell_type": "markdown",
   "metadata": {},
   "source": [
    "### Splitting the data"
   ]
  },
  {
   "cell_type": "markdown",
   "metadata": {},
   "source": [
    "For machine learning we want to take a subset of the nodes for training, and use the rest for validation and testing. We'll use scikit-learn again to split our data into training and test sets.\n",
    "\n",
    "The total number of annotated nodes is very small when compared to the total number of nodes in the graph. We are only going to use 15% of the annotated nodes for training and the remaining 85% of nodes for testing.\n",
    "\n",
    "First, we are going to select the subset of nodes that are annotated as hateful or normal. These will be the nodes that have 'hate' values that are either 0 or 1."
   ]
  },
  {
   "cell_type": "code",
   "execution_count": 23,
   "metadata": {},
   "outputs": [],
   "source": [
    "# choose the nodes annotated with normal or hateful classes\n",
    "annotated_users = node_data[node_data['hate']!=2]"
   ]
  },
  {
   "cell_type": "code",
   "execution_count": 24,
   "metadata": {},
   "outputs": [
    {
     "data": {
      "text/html": [
       "<div>\n",
       "<style scoped>\n",
       "    .dataframe tbody tr th:only-of-type {\n",
       "        vertical-align: middle;\n",
       "    }\n",
       "\n",
       "    .dataframe tbody tr th {\n",
       "        vertical-align: top;\n",
       "    }\n",
       "\n",
       "    .dataframe thead th {\n",
       "        text-align: right;\n",
       "    }\n",
       "</style>\n",
       "<table border=\"1\" class=\"dataframe\">\n",
       "  <thead>\n",
       "    <tr style=\"text-align: right;\">\n",
       "      <th></th>\n",
       "      <th>hate</th>\n",
       "      <th>statuses_count</th>\n",
       "      <th>followers_count</th>\n",
       "      <th>followees_count</th>\n",
       "      <th>favorites_count</th>\n",
       "      <th>listed_count</th>\n",
       "      <th>negotiate_empath</th>\n",
       "      <th>vehicle_empath</th>\n",
       "      <th>science_empath</th>\n",
       "      <th>timidity_empath</th>\n",
       "      <th>...</th>\n",
       "      <th>number hashtags</th>\n",
       "      <th>tweet number</th>\n",
       "      <th>retweet number</th>\n",
       "      <th>quote number</th>\n",
       "      <th>status length</th>\n",
       "      <th>number urls</th>\n",
       "      <th>baddies</th>\n",
       "      <th>mentions</th>\n",
       "      <th>time_diff</th>\n",
       "      <th>time_diff_median</th>\n",
       "    </tr>\n",
       "  </thead>\n",
       "  <tbody>\n",
       "    <tr>\n",
       "      <td>0</td>\n",
       "      <td>0</td>\n",
       "      <td>1.541150</td>\n",
       "      <td>0.046773</td>\n",
       "      <td>1.104767</td>\n",
       "      <td>1.869391</td>\n",
       "      <td>0.017835</td>\n",
       "      <td>-1.752256</td>\n",
       "      <td>0.164900</td>\n",
       "      <td>0.181173</td>\n",
       "      <td>0.875069</td>\n",
       "      <td>...</td>\n",
       "      <td>-0.632488</td>\n",
       "      <td>-0.049013</td>\n",
       "      <td>0.321929</td>\n",
       "      <td>-0.369992</td>\n",
       "      <td>-1.036127</td>\n",
       "      <td>-0.796091</td>\n",
       "      <td>0.047430</td>\n",
       "      <td>0.356495</td>\n",
       "      <td>-1.888186</td>\n",
       "      <td>-1.299249</td>\n",
       "    </tr>\n",
       "    <tr>\n",
       "      <td>22</td>\n",
       "      <td>0</td>\n",
       "      <td>1.610235</td>\n",
       "      <td>-0.311474</td>\n",
       "      <td>0.224841</td>\n",
       "      <td>-1.350517</td>\n",
       "      <td>-0.883454</td>\n",
       "      <td>-1.178383</td>\n",
       "      <td>-1.035463</td>\n",
       "      <td>-0.172829</td>\n",
       "      <td>-0.253731</td>\n",
       "      <td>...</td>\n",
       "      <td>-1.291040</td>\n",
       "      <td>1.239586</td>\n",
       "      <td>-1.215177</td>\n",
       "      <td>1.557857</td>\n",
       "      <td>-1.689390</td>\n",
       "      <td>-0.914795</td>\n",
       "      <td>-0.023220</td>\n",
       "      <td>-0.029203</td>\n",
       "      <td>-0.850158</td>\n",
       "      <td>-1.073416</td>\n",
       "    </tr>\n",
       "    <tr>\n",
       "      <td>29</td>\n",
       "      <td>0</td>\n",
       "      <td>0.676296</td>\n",
       "      <td>0.907563</td>\n",
       "      <td>-0.583110</td>\n",
       "      <td>-0.473819</td>\n",
       "      <td>1.029022</td>\n",
       "      <td>0.133058</td>\n",
       "      <td>-0.272510</td>\n",
       "      <td>0.154618</td>\n",
       "      <td>1.168792</td>\n",
       "      <td>...</td>\n",
       "      <td>-0.448834</td>\n",
       "      <td>1.060920</td>\n",
       "      <td>-0.907346</td>\n",
       "      <td>0.969577</td>\n",
       "      <td>0.747312</td>\n",
       "      <td>-0.432903</td>\n",
       "      <td>0.529664</td>\n",
       "      <td>0.791479</td>\n",
       "      <td>-0.834524</td>\n",
       "      <td>-0.737971</td>\n",
       "    </tr>\n",
       "    <tr>\n",
       "      <td>44</td>\n",
       "      <td>0</td>\n",
       "      <td>-0.564326</td>\n",
       "      <td>-0.167266</td>\n",
       "      <td>0.174262</td>\n",
       "      <td>-0.364344</td>\n",
       "      <td>-0.689414</td>\n",
       "      <td>0.560514</td>\n",
       "      <td>-0.332782</td>\n",
       "      <td>0.226878</td>\n",
       "      <td>1.359779</td>\n",
       "      <td>...</td>\n",
       "      <td>0.483518</td>\n",
       "      <td>-1.269935</td>\n",
       "      <td>1.264966</td>\n",
       "      <td>-0.254387</td>\n",
       "      <td>0.863865</td>\n",
       "      <td>0.543677</td>\n",
       "      <td>0.047430</td>\n",
       "      <td>0.661312</td>\n",
       "      <td>0.758658</td>\n",
       "      <td>1.137312</td>\n",
       "    </tr>\n",
       "    <tr>\n",
       "      <td>85</td>\n",
       "      <td>0</td>\n",
       "      <td>1.036340</td>\n",
       "      <td>-0.137409</td>\n",
       "      <td>-0.777300</td>\n",
       "      <td>1.135700</td>\n",
       "      <td>-0.145647</td>\n",
       "      <td>-0.882219</td>\n",
       "      <td>-1.107841</td>\n",
       "      <td>1.624682</td>\n",
       "      <td>0.028468</td>\n",
       "      <td>...</td>\n",
       "      <td>-0.476405</td>\n",
       "      <td>0.374573</td>\n",
       "      <td>-0.074243</td>\n",
       "      <td>0.355409</td>\n",
       "      <td>-0.302047</td>\n",
       "      <td>-0.340005</td>\n",
       "      <td>-0.524781</td>\n",
       "      <td>0.271756</td>\n",
       "      <td>-0.559000</td>\n",
       "      <td>-0.665185</td>\n",
       "    </tr>\n",
       "  </tbody>\n",
       "</table>\n",
       "<p>5 rows × 205 columns</p>\n",
       "</div>"
      ],
      "text/plain": [
       "    hate  statuses_count  followers_count  followees_count  favorites_count  \\\n",
       "0      0        1.541150         0.046773         1.104767         1.869391   \n",
       "22     0        1.610235        -0.311474         0.224841        -1.350517   \n",
       "29     0        0.676296         0.907563        -0.583110        -0.473819   \n",
       "44     0       -0.564326        -0.167266         0.174262        -0.364344   \n",
       "85     0        1.036340        -0.137409        -0.777300         1.135700   \n",
       "\n",
       "    listed_count  negotiate_empath  vehicle_empath  science_empath  \\\n",
       "0       0.017835         -1.752256        0.164900        0.181173   \n",
       "22     -0.883454         -1.178383       -1.035463       -0.172829   \n",
       "29      1.029022          0.133058       -0.272510        0.154618   \n",
       "44     -0.689414          0.560514       -0.332782        0.226878   \n",
       "85     -0.145647         -0.882219       -1.107841        1.624682   \n",
       "\n",
       "    timidity_empath  ...  number hashtags  tweet number  retweet number  \\\n",
       "0          0.875069  ...        -0.632488     -0.049013        0.321929   \n",
       "22        -0.253731  ...        -1.291040      1.239586       -1.215177   \n",
       "29         1.168792  ...        -0.448834      1.060920       -0.907346   \n",
       "44         1.359779  ...         0.483518     -1.269935        1.264966   \n",
       "85         0.028468  ...        -0.476405      0.374573       -0.074243   \n",
       "\n",
       "    quote number  status length  number urls   baddies  mentions  time_diff  \\\n",
       "0      -0.369992      -1.036127    -0.796091  0.047430  0.356495  -1.888186   \n",
       "22      1.557857      -1.689390    -0.914795 -0.023220 -0.029203  -0.850158   \n",
       "29      0.969577       0.747312    -0.432903  0.529664  0.791479  -0.834524   \n",
       "44     -0.254387       0.863865     0.543677  0.047430  0.661312   0.758658   \n",
       "85      0.355409      -0.302047    -0.340005 -0.524781  0.271756  -0.559000   \n",
       "\n",
       "    time_diff_median  \n",
       "0          -1.299249  \n",
       "22         -1.073416  \n",
       "29         -0.737971  \n",
       "44          1.137312  \n",
       "85         -0.665185  \n",
       "\n",
       "[5 rows x 205 columns]"
      ]
     },
     "execution_count": 24,
     "metadata": {},
     "output_type": "execute_result"
    }
   ],
   "source": [
    "annotated_users.head()"
   ]
  },
  {
   "cell_type": "code",
   "execution_count": 25,
   "metadata": {},
   "outputs": [
    {
     "data": {
      "text/plain": [
       "(4971, 205)"
      ]
     },
     "execution_count": 25,
     "metadata": {},
     "output_type": "execute_result"
    }
   ],
   "source": [
    "annotated_users.shape"
   ]
  },
  {
   "cell_type": "code",
   "execution_count": 26,
   "metadata": {},
   "outputs": [],
   "source": [
    "annotated_user_features = annotated_users.drop(columns=['hate'])\n",
    "annotated_user_targets = annotated_users[['hate']]"
   ]
  },
  {
   "cell_type": "markdown",
   "metadata": {},
   "source": [
    "There are 4971 annoted nodes out of a possible, approximately, 100k nodes."
   ]
  },
  {
   "cell_type": "code",
   "execution_count": 27,
   "metadata": {},
   "outputs": [
    {
     "name": "stdout",
     "output_type": "stream",
     "text": [
      "0    4427\n",
      "1     544\n",
      "Name: hate, dtype: int64\n"
     ]
    }
   ],
   "source": [
    "print(annotated_user_targets.hate.value_counts())"
   ]
  },
  {
   "cell_type": "code",
   "execution_count": 28,
   "metadata": {},
   "outputs": [
    {
     "name": "stdout",
     "output_type": "stream",
     "text": [
      "Sizes and class distributions for train/test data\n",
      "Shape train_data (745, 204)\n",
      "Shape test_data (4226, 204)\n",
      "Train data number of 0s 664 and 1s 81\n",
      "Test data number of 0s 3763 and 1s 463\n"
     ]
    }
   ],
   "source": [
    "# split the data\n",
    "train_data, test_data, train_targets, test_targets = train_test_split(annotated_user_features,\n",
    "                                         annotated_user_targets,\n",
    "                                         test_size=0.85,\n",
    "                                         random_state=101)\n",
    "train_targets = train_targets.values\n",
    "test_targets = test_targets.values\n",
    "print(\"Sizes and class distributions for train/test data\")\n",
    "print(\"Shape train_data {}\".format(train_data.shape))\n",
    "print(\"Shape test_data {}\".format(test_data.shape))\n",
    "print(\"Train data number of 0s {} and 1s {}\".format(np.sum(train_targets==0), \n",
    "                                                    np.sum(train_targets==1)))\n",
    "print(\"Test data number of 0s {} and 1s {}\".format(np.sum(test_targets==0), \n",
    "                                                   np.sum(test_targets==1)))"
   ]
  },
  {
   "cell_type": "code",
   "execution_count": 29,
   "metadata": {},
   "outputs": [
    {
     "data": {
      "text/plain": [
       "((745, 1), (4226, 1))"
      ]
     },
     "execution_count": 29,
     "metadata": {},
     "output_type": "execute_result"
    }
   ],
   "source": [
    "train_targets.shape, test_targets.shape"
   ]
  },
  {
   "cell_type": "code",
   "execution_count": 30,
   "metadata": {},
   "outputs": [
    {
     "data": {
      "text/plain": [
       "((745, 204), (4226, 204))"
      ]
     },
     "execution_count": 30,
     "metadata": {},
     "output_type": "execute_result"
    }
   ],
   "source": [
    "train_data.shape, test_data.shape"
   ]
  },
  {
   "cell_type": "markdown",
   "metadata": {},
   "source": [
    "We are going to use 745 nodes for training and 4226 nodes for testing."
   ]
  },
  {
   "cell_type": "code",
   "execution_count": 31,
   "metadata": {},
   "outputs": [],
   "source": [
    "# choosing features to assign to a graph, excluding target variable\n",
    "node_features = node_data.drop(columns=['hate'])"
   ]
  },
  {
   "cell_type": "markdown",
   "metadata": {},
   "source": [
    "### Dealing with imbalanced data\n",
    "\n",
    "Because the training data exhibit high imbalance, we introduce class weights."
   ]
  },
  {
   "cell_type": "code",
   "execution_count": 32,
   "metadata": {},
   "outputs": [
    {
     "data": {
      "text/plain": [
       "{0: 0.5609939759036144, 1: 4.598765432098766}"
      ]
     },
     "execution_count": 32,
     "metadata": {},
     "output_type": "execute_result"
    }
   ],
   "source": [
    "from sklearn.utils.class_weight import compute_class_weight\n",
    "class_weights = compute_class_weight('balanced', \n",
    "                                     np.unique(train_targets), \n",
    "                                     train_targets[:,0])\n",
    "train_class_weights = dict(zip(np.unique(train_targets), \n",
    "                               class_weights))\n",
    "train_class_weights"
   ]
  },
  {
   "cell_type": "markdown",
   "metadata": {},
   "source": [
    "Our data is now ready for machine learning.\n",
    "\n",
    "Node features are stored in the Pandas DataFrame `node_features`.\n",
    "\n",
    "The graph in networkx format is stored in the variable `g_nx`."
   ]
  },
  {
   "cell_type": "markdown",
   "metadata": {},
   "source": [
    "### Specify global parameters\n",
    "\n",
    "Here we specify some parameters that control the type of model we are going to use. For example, we specify the base model type, e.g., GCN, GraphSAGE, etc, as well as model-specific parameters."
   ]
  },
  {
   "cell_type": "code",
   "execution_count": 251,
   "metadata": {},
   "outputs": [],
   "source": [
    "model_type = 'appnp'    # Can be either gcn, gat, or graphsage\n",
    "\n",
    "if model_type == \"graphsage\":\n",
    "    # For GraphSAGE model\n",
    "    batch_size = 50; \n",
    "    num_samples = [20, 10]\n",
    "    epochs = 30          # The number of training epochs\n",
    "elif model_type == \"gcn\":\n",
    "    # For GCN model\n",
    "    epochs = 20          # The number of training epochs\n",
    "elif model_type == \"gat\":\n",
    "    # For GAT model\n",
    "    layer_sizes = [8, 1]\n",
    "    attention_heads = 8\n",
    "    epochs = 20         # The number of training epochs  \n",
    "elif model_type == 'appnp':\n",
    "    teleport_probability = 0.1\n",
    "    epochs = 20"
   ]
  },
  {
   "cell_type": "markdown",
   "metadata": {},
   "source": [
    "## Creating the base graph machine learning model in Keras"
   ]
  },
  {
   "cell_type": "markdown",
   "metadata": {},
   "source": [
    "Now create a `StellarGraph` object from the `NetworkX` graph and the node features and targets. It is `StellarGraph` objects that we use in this library to perform machine learning tasks on."
   ]
  },
  {
   "cell_type": "code",
   "execution_count": 250,
   "metadata": {},
   "outputs": [
    {
     "ename": "KeyboardInterrupt",
     "evalue": "",
     "output_type": "error",
     "traceback": [
      "\u001b[0;31m---------------------------------------------------------------------------\u001b[0m",
      "\u001b[0;31mKeyboardInterrupt\u001b[0m                         Traceback (most recent call last)",
      "\u001b[0;32m<ipython-input-250-dbe3377bdb98>\u001b[0m in \u001b[0;36m<module>\u001b[0;34m\u001b[0m\n\u001b[0;32m----> 1\u001b[0;31m \u001b[0mG\u001b[0m \u001b[0;34m=\u001b[0m \u001b[0msg\u001b[0m\u001b[0;34m.\u001b[0m\u001b[0mStellarGraph\u001b[0m\u001b[0;34m(\u001b[0m\u001b[0mg_nx\u001b[0m\u001b[0;34m,\u001b[0m \u001b[0mnode_features\u001b[0m\u001b[0;34m=\u001b[0m\u001b[0mnode_features\u001b[0m\u001b[0;34m)\u001b[0m\u001b[0;34m\u001b[0m\u001b[0;34m\u001b[0m\u001b[0m\n\u001b[0m",
      "\u001b[0;32m~/PycharmProjects/origin-stellargaph/stellargraph/stellargraph/core/graph.py\u001b[0m in \u001b[0;36m__init__\u001b[0;34m(self, incoming_graph_data, **attr)\u001b[0m\n\u001b[1;32m    746\u001b[0m \u001b[0;32mclass\u001b[0m \u001b[0mStellarGraph\u001b[0m\u001b[0;34m(\u001b[0m\u001b[0mStellarGraphBase\u001b[0m\u001b[0;34m,\u001b[0m \u001b[0mMultiGraph\u001b[0m\u001b[0;34m)\u001b[0m\u001b[0;34m:\u001b[0m\u001b[0;34m\u001b[0m\u001b[0;34m\u001b[0m\u001b[0m\n\u001b[1;32m    747\u001b[0m     \u001b[0;32mdef\u001b[0m \u001b[0m__init__\u001b[0m\u001b[0;34m(\u001b[0m\u001b[0mself\u001b[0m\u001b[0;34m,\u001b[0m \u001b[0mincoming_graph_data\u001b[0m\u001b[0;34m=\u001b[0m\u001b[0;32mNone\u001b[0m\u001b[0;34m,\u001b[0m \u001b[0;34m**\u001b[0m\u001b[0mattr\u001b[0m\u001b[0;34m)\u001b[0m\u001b[0;34m:\u001b[0m\u001b[0;34m\u001b[0m\u001b[0;34m\u001b[0m\u001b[0m\n\u001b[0;32m--> 748\u001b[0;31m         \u001b[0msuper\u001b[0m\u001b[0;34m(\u001b[0m\u001b[0;34m)\u001b[0m\u001b[0;34m.\u001b[0m\u001b[0m__init__\u001b[0m\u001b[0;34m(\u001b[0m\u001b[0mincoming_graph_data\u001b[0m\u001b[0;34m,\u001b[0m \u001b[0;34m**\u001b[0m\u001b[0mattr\u001b[0m\u001b[0;34m)\u001b[0m\u001b[0;34m\u001b[0m\u001b[0;34m\u001b[0m\u001b[0m\n\u001b[0m\u001b[1;32m    749\u001b[0m \u001b[0;34m\u001b[0m\u001b[0m\n\u001b[1;32m    750\u001b[0m \u001b[0;34m\u001b[0m\u001b[0m\n",
      "\u001b[0;32m~/PycharmProjects/origin-stellargaph/stellargraph/stellargraph/core/graph.py\u001b[0m in \u001b[0;36m__init__\u001b[0;34m(self, incoming_graph_data, **attr)\u001b[0m\n\u001b[1;32m    379\u001b[0m         \u001b[0;32melif\u001b[0m \u001b[0mnode_features\u001b[0m \u001b[0;32mis\u001b[0m \u001b[0;32mnot\u001b[0m \u001b[0;32mNone\u001b[0m\u001b[0;34m:\u001b[0m\u001b[0;34m\u001b[0m\u001b[0;34m\u001b[0m\u001b[0m\n\u001b[1;32m    380\u001b[0m             data_index_maps, data_arrays = _convert_from_node_data(\n\u001b[0;32m--> 381\u001b[0;31m                 \u001b[0mnode_features\u001b[0m\u001b[0;34m,\u001b[0m \u001b[0mtype_for_node\u001b[0m\u001b[0;34m,\u001b[0m \u001b[0mnode_types\u001b[0m\u001b[0;34m,\u001b[0m \u001b[0mdtype\u001b[0m\u001b[0;34m\u001b[0m\u001b[0;34m\u001b[0m\u001b[0m\n\u001b[0m\u001b[1;32m    382\u001b[0m             )\n\u001b[1;32m    383\u001b[0m \u001b[0;34m\u001b[0m\u001b[0m\n",
      "\u001b[0;32m~/PycharmProjects/origin-stellargaph/stellargraph/stellargraph/core/graph.py\u001b[0m in \u001b[0;36m_convert_from_node_data\u001b[0;34m(data, node_type_map, node_types, dtype)\u001b[0m\n\u001b[1;32m    214\u001b[0m         \u001b[0mnode_type\u001b[0m \u001b[0;34m=\u001b[0m \u001b[0mnext\u001b[0m\u001b[0;34m(\u001b[0m\u001b[0miter\u001b[0m\u001b[0;34m(\u001b[0m\u001b[0mnode_types\u001b[0m\u001b[0;34m)\u001b[0m\u001b[0;34m)\u001b[0m\u001b[0;34m\u001b[0m\u001b[0;34m\u001b[0m\u001b[0m\n\u001b[1;32m    215\u001b[0m         data_index, data_arrays = _convert_from_node_data(\n\u001b[0;32m--> 216\u001b[0;31m             \u001b[0;34m{\u001b[0m\u001b[0mnode_type\u001b[0m\u001b[0;34m:\u001b[0m \u001b[0mdata\u001b[0m\u001b[0;34m}\u001b[0m\u001b[0;34m,\u001b[0m \u001b[0mnode_type_map\u001b[0m\u001b[0;34m,\u001b[0m \u001b[0mnode_types\u001b[0m\u001b[0;34m,\u001b[0m \u001b[0mdtype\u001b[0m\u001b[0;34m\u001b[0m\u001b[0;34m\u001b[0m\u001b[0m\n\u001b[0m\u001b[1;32m    217\u001b[0m         )\n\u001b[1;32m    218\u001b[0m \u001b[0;34m\u001b[0m\u001b[0m\n",
      "\u001b[0;32m~/PycharmProjects/origin-stellargaph/stellargraph/stellargraph/core/graph.py\u001b[0m in \u001b[0;36m_convert_from_node_data\u001b[0;34m(data, node_type_map, node_types, dtype)\u001b[0m\n\u001b[1;32m    180\u001b[0m                 \u001b[0mnode_index_map\u001b[0m \u001b[0;34m=\u001b[0m \u001b[0;34m{\u001b[0m\u001b[0mnid\u001b[0m\u001b[0;34m:\u001b[0m \u001b[0mnii\u001b[0m \u001b[0;32mfor\u001b[0m \u001b[0mnii\u001b[0m\u001b[0;34m,\u001b[0m \u001b[0mnid\u001b[0m \u001b[0;32min\u001b[0m \u001b[0menumerate\u001b[0m\u001b[0;34m(\u001b[0m\u001b[0marr\u001b[0m\u001b[0;34m.\u001b[0m\u001b[0mindex\u001b[0m\u001b[0;34m)\u001b[0m\u001b[0;34m}\u001b[0m\u001b[0;34m\u001b[0m\u001b[0;34m\u001b[0m\u001b[0m\n\u001b[1;32m    181\u001b[0m                 \u001b[0;32mtry\u001b[0m\u001b[0;34m:\u001b[0m\u001b[0;34m\u001b[0m\u001b[0;34m\u001b[0m\u001b[0m\n\u001b[0;32m--> 182\u001b[0;31m                     \u001b[0mdata_arr\u001b[0m \u001b[0;34m=\u001b[0m \u001b[0marr\u001b[0m\u001b[0;34m.\u001b[0m\u001b[0mvalues\u001b[0m\u001b[0;34m.\u001b[0m\u001b[0mastype\u001b[0m\u001b[0;34m(\u001b[0m\u001b[0mdtype\u001b[0m\u001b[0;34m)\u001b[0m\u001b[0;34m\u001b[0m\u001b[0;34m\u001b[0m\u001b[0m\n\u001b[0m\u001b[1;32m    183\u001b[0m                 \u001b[0;32mexcept\u001b[0m \u001b[0mValueError\u001b[0m\u001b[0;34m:\u001b[0m\u001b[0;34m\u001b[0m\u001b[0;34m\u001b[0m\u001b[0m\n\u001b[1;32m    184\u001b[0m                     raise ValueError(\n",
      "\u001b[0;31mKeyboardInterrupt\u001b[0m: "
     ]
    }
   ],
   "source": [
    "G = sg.StellarGraph(g_nx, node_features=node_features)"
   ]
  },
  {
   "cell_type": "markdown",
   "metadata": {},
   "source": [
    "To feed data from the graph to the Keras model we need a generator. The generators are specialized to the model and the learning task. "
   ]
  },
  {
   "cell_type": "markdown",
   "metadata": {},
   "source": [
    "For training we map only the training nodes returned from our splitter and the target values."
   ]
  },
  {
   "cell_type": "code",
   "execution_count": 252,
   "metadata": {},
   "outputs": [
    {
     "ename": "KeyboardInterrupt",
     "evalue": "",
     "output_type": "error",
     "traceback": [
      "\u001b[0;31m---------------------------------------------------------------------------\u001b[0m",
      "\u001b[0;31mKeyboardInterrupt\u001b[0m                         Traceback (most recent call last)",
      "\u001b[0;32m<ipython-input-252-d89758eaae45>\u001b[0m in \u001b[0;36m<module>\u001b[0;34m\u001b[0m\n\u001b[1;32m      5\u001b[0m                                shuffle=True)\n\u001b[1;32m      6\u001b[0m \u001b[0;32melif\u001b[0m \u001b[0;34m(\u001b[0m\u001b[0mmodel_type\u001b[0m \u001b[0;34m==\u001b[0m \u001b[0;34m'gcn'\u001b[0m\u001b[0;34m)\u001b[0m \u001b[0;32mor\u001b[0m \u001b[0;34m(\u001b[0m\u001b[0mmodel_type\u001b[0m \u001b[0;34m==\u001b[0m \u001b[0;34m'appnp'\u001b[0m\u001b[0;34m)\u001b[0m\u001b[0;34m:\u001b[0m\u001b[0;34m\u001b[0m\u001b[0;34m\u001b[0m\u001b[0m\n\u001b[0;32m----> 7\u001b[0;31m     \u001b[0mgenerator\u001b[0m \u001b[0;34m=\u001b[0m \u001b[0mFullBatchNodeGenerator\u001b[0m\u001b[0;34m(\u001b[0m\u001b[0mG\u001b[0m\u001b[0;34m,\u001b[0m \u001b[0mmethod\u001b[0m\u001b[0;34m=\u001b[0m\u001b[0;34m\"gcn\"\u001b[0m\u001b[0;34m,\u001b[0m \u001b[0msparse\u001b[0m\u001b[0;34m=\u001b[0m\u001b[0;32mTrue\u001b[0m\u001b[0;34m)\u001b[0m\u001b[0;34m\u001b[0m\u001b[0;34m\u001b[0m\u001b[0m\n\u001b[0m\u001b[1;32m      8\u001b[0m     train_gen = generator.flow(train_data.index, \n\u001b[1;32m      9\u001b[0m                                train_targets, )\n",
      "\u001b[0;32m~/PycharmProjects/origin-stellargaph/stellargraph/stellargraph/mapper/node_mappers.py\u001b[0m in \u001b[0;36m__init__\u001b[0;34m(self, G, name, method, k, sparse, transform, teleport_probability)\u001b[0m\n\u001b[1;32m    746\u001b[0m \u001b[0;34m\u001b[0m\u001b[0m\n\u001b[1;32m    747\u001b[0m         \u001b[0;31m# We need a schema to check compatibility with GAT, GCN\u001b[0m\u001b[0;34m\u001b[0m\u001b[0;34m\u001b[0m\u001b[0;34m\u001b[0m\u001b[0m\n\u001b[0;32m--> 748\u001b[0;31m         \u001b[0mself\u001b[0m\u001b[0;34m.\u001b[0m\u001b[0mschema\u001b[0m \u001b[0;34m=\u001b[0m \u001b[0mG\u001b[0m\u001b[0;34m.\u001b[0m\u001b[0mcreate_graph_schema\u001b[0m\u001b[0;34m(\u001b[0m\u001b[0mcreate_type_maps\u001b[0m\u001b[0;34m=\u001b[0m\u001b[0;32mTrue\u001b[0m\u001b[0;34m)\u001b[0m\u001b[0;34m\u001b[0m\u001b[0;34m\u001b[0m\u001b[0m\n\u001b[0m\u001b[1;32m    749\u001b[0m \u001b[0;34m\u001b[0m\u001b[0m\n\u001b[1;32m    750\u001b[0m         \u001b[0;31m# Check that there is only a single node type for GAT or GCN\u001b[0m\u001b[0;34m\u001b[0m\u001b[0;34m\u001b[0m\u001b[0;34m\u001b[0m\u001b[0m\n",
      "\u001b[0;32m~/PycharmProjects/origin-stellargaph/stellargraph/stellargraph/core/graph.py\u001b[0m in \u001b[0;36mcreate_graph_schema\u001b[0;34m(self, create_type_maps, nodes)\u001b[0m\n\u001b[1;32m    735\u001b[0m                     )\n\u001b[1;32m    736\u001b[0m                 )\n\u001b[0;32m--> 737\u001b[0;31m                 \u001b[0;32mfor\u001b[0m \u001b[0medge\u001b[0m \u001b[0;32min\u001b[0m \u001b[0mself\u001b[0m\u001b[0;34m.\u001b[0m\u001b[0medges\u001b[0m\u001b[0;34m(\u001b[0m\u001b[0mkeys\u001b[0m\u001b[0;34m=\u001b[0m\u001b[0;32mTrue\u001b[0m\u001b[0;34m,\u001b[0m \u001b[0mdata\u001b[0m\u001b[0;34m=\u001b[0m\u001b[0;32mTrue\u001b[0m\u001b[0;34m)\u001b[0m\u001b[0;34m\u001b[0m\u001b[0;34m\u001b[0m\u001b[0m\n\u001b[0m\u001b[1;32m    738\u001b[0m             }\n\u001b[1;32m    739\u001b[0m \u001b[0;34m\u001b[0m\u001b[0m\n",
      "\u001b[0;32m~/PycharmProjects/origin-stellargaph/stellargraph/stellargraph/core/graph.py\u001b[0m in \u001b[0;36m<dictcomp>\u001b[0;34m(.0)\u001b[0m\n\u001b[1;32m    735\u001b[0m                     )\n\u001b[1;32m    736\u001b[0m                 )\n\u001b[0;32m--> 737\u001b[0;31m                 \u001b[0;32mfor\u001b[0m \u001b[0medge\u001b[0m \u001b[0;32min\u001b[0m \u001b[0mself\u001b[0m\u001b[0;34m.\u001b[0m\u001b[0medges\u001b[0m\u001b[0;34m(\u001b[0m\u001b[0mkeys\u001b[0m\u001b[0;34m=\u001b[0m\u001b[0;32mTrue\u001b[0m\u001b[0;34m,\u001b[0m \u001b[0mdata\u001b[0m\u001b[0;34m=\u001b[0m\u001b[0;32mTrue\u001b[0m\u001b[0;34m)\u001b[0m\u001b[0;34m\u001b[0m\u001b[0;34m\u001b[0m\u001b[0m\n\u001b[0m\u001b[1;32m    738\u001b[0m             }\n\u001b[1;32m    739\u001b[0m \u001b[0;34m\u001b[0m\u001b[0m\n",
      "\u001b[0;31mKeyboardInterrupt\u001b[0m: "
     ]
    }
   ],
   "source": [
    "if model_type == 'graphsage':\n",
    "    generator = GraphSAGENodeGenerator(G, batch_size, num_samples)\n",
    "    train_gen = generator.flow(train_data.index, \n",
    "                               train_targets, \n",
    "                               shuffle=True)\n",
    "elif (model_type == 'gcn') or (model_type == 'appnp'): \n",
    "    generator = FullBatchNodeGenerator(G, method=\"gcn\", sparse=True)\n",
    "    train_gen = generator.flow(train_data.index, \n",
    "                               train_targets, )\n",
    "elif model_type == 'gat':\n",
    "    generator = FullBatchNodeGenerator(G, method=\"gat\", sparse=True)\n",
    "    train_gen = generator.flow(train_data.index, \n",
    "                               train_targets,)"
   ]
  },
  {
   "cell_type": "markdown",
   "metadata": {},
   "source": [
    "Next we create the GNN model. We need to specify model-specific parameters based on whether we want to use GCN, GAT, or GraphSAGE."
   ]
  },
  {
   "cell_type": "code",
   "execution_count": 292,
   "metadata": {},
   "outputs": [],
   "source": [
    "if model_type == 'graphsage':\n",
    "    base_model = GraphSAGE(\n",
    "        layer_sizes=[32, 32],\n",
    "        generator=train_gen,\n",
    "        bias=True,\n",
    "        dropout=0.5,\n",
    "    )\n",
    "    x_inp, x_out = base_model.default_model(flatten_output=True)\n",
    "    prediction = layers.Dense(units=1, activation=\"sigmoid\")(x_out)\n",
    "elif model_type == 'gcn':\n",
    "    base_model = GCN(\n",
    "        layer_sizes=[32, 16],\n",
    "        generator = generator,\n",
    "        bias=True,\n",
    "        dropout=0.5,\n",
    "        activations=[\"elu\", \"elu\"]\n",
    "    )\n",
    "    x_inp, x_out = base_model.node_model()\n",
    "    prediction = layers.Dense(units=1, activation=\"sigmoid\")(x_out)\n",
    "elif model_type == 'gat':\n",
    "    base_model = GAT(\n",
    "        layer_sizes=layer_sizes,\n",
    "        attn_heads=attention_heads,\n",
    "        generator=generator,\n",
    "        bias=True,\n",
    "        in_dropout=0.5,\n",
    "        attn_dropout=0.5,\n",
    "        activations=[\"elu\", \"sigmoid\"],\n",
    "        normalize=None,\n",
    "    )\n",
    "    x_inp, prediction = base_model.node_model()\n",
    "    \n",
    "elif model_type == 'appnp':\n",
    "    \n",
    "    appnp = APPNP(layer_sizes=[train_targets.shape[-1]], \n",
    "              activations=['relu', 'relu'], \n",
    "              bias=True,\n",
    "              generator=generator, \n",
    "              teleport_probability=0.1, \n",
    "              dropout=0.5, \n",
    "              kernel_regularizer='l2'\n",
    "    )\n",
    "    \n",
    "    in_layer = layers.Input(shape=(len(train_data.columns),))\n",
    "    layer = layers.Dense(32, activation='relu', kernel_regularizer=\"l2\")(in_layer)\n",
    "    layer = layers.Dropout(0.5)(layer)\n",
    "    layer = layers.Dense(32, activation='relu', kernel_regularizer=\"l2\")(layer)\n",
    "    layer = layers.Dropout(0.5)(layer)\n",
    "\n",
    "    #note the dimension of the output should equal the number of classes to predict!\n",
    "    layer = layers.Dense(train_targets.shape[-1], activation='sigmoid')(layer)\n",
    "\n",
    "    mlp_model = Model(inputs=in_layer, outputs=layer)\n",
    "    \n",
    "    mlp_model.compile(\n",
    "        optimizer=optimizers.Adam(lr=0.005),\n",
    "        loss=losses.binary_crossentropy,\n",
    "        metrics=[\"acc\"],\n",
    "    )"
   ]
  },
  {
   "cell_type": "markdown",
   "metadata": {},
   "source": [
    "### Create a Keras model"
   ]
  },
  {
   "cell_type": "markdown",
   "metadata": {},
   "source": [
    "Now let's create the actual Keras model with the graph inputs `x_inp` provided by the `base_model` and outputs being the predictions from the softmax layer."
   ]
  },
  {
   "cell_type": "code",
   "execution_count": 293,
   "metadata": {},
   "outputs": [],
   "source": [
    "if model_type != 'appnp':\n",
    "    model = Model(inputs=x_inp, outputs=prediction)"
   ]
  },
  {
   "cell_type": "markdown",
   "metadata": {},
   "source": [
    "We compile our Keras model to use the `Adam` optimiser and the binary cross entropy loss."
   ]
  },
  {
   "cell_type": "code",
   "execution_count": 294,
   "metadata": {},
   "outputs": [],
   "source": [
    "if model_type != 'appnp':\n",
    "    model.compile(\n",
    "        optimizer=optimizers.Adam(lr=0.005),\n",
    "        loss=losses.binary_crossentropy,\n",
    "        metrics=[\"acc\"],\n",
    "    )\n",
    "    model "
   ]
  },
  {
   "cell_type": "markdown",
   "metadata": {},
   "source": [
    "Train the model, keeping track of its loss and accuracy on the training set, and its performance on the test set during the training. We don't use the test set during training but only for measuring the trained model's generalization performance."
   ]
  },
  {
   "cell_type": "code",
   "execution_count": 295,
   "metadata": {},
   "outputs": [
    {
     "ename": "KeyboardInterrupt",
     "evalue": "",
     "output_type": "error",
     "traceback": [
      "\u001b[0;31m---------------------------------------------------------------------------\u001b[0m",
      "\u001b[0;31mKeyboardInterrupt\u001b[0m                         Traceback (most recent call last)",
      "\u001b[0;32m<ipython-input-295-1d0549291332>\u001b[0m in \u001b[0;36m<module>\u001b[0;34m\u001b[0m\n\u001b[0;32m----> 1\u001b[0;31m \u001b[0mtest_gen\u001b[0m \u001b[0;34m=\u001b[0m \u001b[0mgenerator\u001b[0m\u001b[0;34m.\u001b[0m\u001b[0mflow\u001b[0m\u001b[0;34m(\u001b[0m\u001b[0mtest_data\u001b[0m\u001b[0;34m.\u001b[0m\u001b[0mindex\u001b[0m\u001b[0;34m,\u001b[0m \u001b[0mtest_targets\u001b[0m\u001b[0;34m)\u001b[0m\u001b[0;34m\u001b[0m\u001b[0;34m\u001b[0m\u001b[0m\n\u001b[0m",
      "\u001b[0;32m~/PycharmProjects/origin-stellargaph/stellargraph/stellargraph/mapper/node_mappers.py\u001b[0m in \u001b[0;36mflow\u001b[0;34m(self, node_ids, targets)\u001b[0m\n\u001b[1;32m    822\u001b[0m \u001b[0;34m\u001b[0m\u001b[0m\n\u001b[1;32m    823\u001b[0m         \u001b[0;31m# The list of indices of the target nodes in self.node_list\u001b[0m\u001b[0;34m\u001b[0m\u001b[0;34m\u001b[0m\u001b[0;34m\u001b[0m\u001b[0m\n\u001b[0;32m--> 824\u001b[0;31m         \u001b[0mnode_indices\u001b[0m \u001b[0;34m=\u001b[0m \u001b[0mnp\u001b[0m\u001b[0;34m.\u001b[0m\u001b[0marray\u001b[0m\u001b[0;34m(\u001b[0m\u001b[0;34m[\u001b[0m\u001b[0mself\u001b[0m\u001b[0;34m.\u001b[0m\u001b[0mnode_list\u001b[0m\u001b[0;34m.\u001b[0m\u001b[0mindex\u001b[0m\u001b[0;34m(\u001b[0m\u001b[0mn\u001b[0m\u001b[0;34m)\u001b[0m \u001b[0;32mfor\u001b[0m \u001b[0mn\u001b[0m \u001b[0;32min\u001b[0m \u001b[0mnode_ids\u001b[0m\u001b[0;34m]\u001b[0m\u001b[0;34m)\u001b[0m\u001b[0;34m\u001b[0m\u001b[0;34m\u001b[0m\u001b[0m\n\u001b[0m\u001b[1;32m    825\u001b[0m \u001b[0;34m\u001b[0m\u001b[0m\n\u001b[1;32m    826\u001b[0m         \u001b[0;32mif\u001b[0m \u001b[0mself\u001b[0m\u001b[0;34m.\u001b[0m\u001b[0muse_sparse\u001b[0m\u001b[0;34m:\u001b[0m\u001b[0;34m\u001b[0m\u001b[0;34m\u001b[0m\u001b[0m\n",
      "\u001b[0;32m~/PycharmProjects/origin-stellargaph/stellargraph/stellargraph/mapper/node_mappers.py\u001b[0m in \u001b[0;36m<listcomp>\u001b[0;34m(.0)\u001b[0m\n\u001b[1;32m    822\u001b[0m \u001b[0;34m\u001b[0m\u001b[0m\n\u001b[1;32m    823\u001b[0m         \u001b[0;31m# The list of indices of the target nodes in self.node_list\u001b[0m\u001b[0;34m\u001b[0m\u001b[0;34m\u001b[0m\u001b[0;34m\u001b[0m\u001b[0m\n\u001b[0;32m--> 824\u001b[0;31m         \u001b[0mnode_indices\u001b[0m \u001b[0;34m=\u001b[0m \u001b[0mnp\u001b[0m\u001b[0;34m.\u001b[0m\u001b[0marray\u001b[0m\u001b[0;34m(\u001b[0m\u001b[0;34m[\u001b[0m\u001b[0mself\u001b[0m\u001b[0;34m.\u001b[0m\u001b[0mnode_list\u001b[0m\u001b[0;34m.\u001b[0m\u001b[0mindex\u001b[0m\u001b[0;34m(\u001b[0m\u001b[0mn\u001b[0m\u001b[0;34m)\u001b[0m \u001b[0;32mfor\u001b[0m \u001b[0mn\u001b[0m \u001b[0;32min\u001b[0m \u001b[0mnode_ids\u001b[0m\u001b[0;34m]\u001b[0m\u001b[0;34m)\u001b[0m\u001b[0;34m\u001b[0m\u001b[0;34m\u001b[0m\u001b[0m\n\u001b[0m\u001b[1;32m    825\u001b[0m \u001b[0;34m\u001b[0m\u001b[0m\n\u001b[1;32m    826\u001b[0m         \u001b[0;32mif\u001b[0m \u001b[0mself\u001b[0m\u001b[0;34m.\u001b[0m\u001b[0muse_sparse\u001b[0m\u001b[0;34m:\u001b[0m\u001b[0;34m\u001b[0m\u001b[0;34m\u001b[0m\u001b[0m\n",
      "\u001b[0;31mKeyboardInterrupt\u001b[0m: "
     ]
    }
   ],
   "source": [
    "test_gen = generator.flow(test_data.index, test_targets)"
   ]
  },
  {
   "cell_type": "markdown",
   "metadata": {},
   "source": [
    "Now we can train the model by calling the `fit_generator` method."
   ]
  },
  {
   "cell_type": "code",
   "execution_count": 296,
   "metadata": {},
   "outputs": [
    {
     "name": "stdout",
     "output_type": "stream",
     "text": [
      "Train on 745 samples, validate on 4226 samples\n",
      "Epoch 1/10\n",
      "745/745 [==============================] - 1s 904us/sample - loss: 1.2403 - acc: 0.7772 - val_loss: 0.9260 - val_acc: 0.8904\n",
      "Epoch 2/10\n",
      "745/745 [==============================] - 0s 155us/sample - loss: 0.8645 - acc: 0.8819 - val_loss: 0.7378 - val_acc: 0.8904\n",
      "Epoch 3/10\n",
      "745/745 [==============================] - 0s 155us/sample - loss: 0.6736 - acc: 0.8886 - val_loss: 0.5926 - val_acc: 0.8904\n",
      "Epoch 4/10\n",
      "745/745 [==============================] - 0s 152us/sample - loss: 0.5466 - acc: 0.8913 - val_loss: 0.5019 - val_acc: 0.8904\n",
      "Epoch 5/10\n",
      "745/745 [==============================] - 0s 149us/sample - loss: 0.4560 - acc: 0.8899 - val_loss: 0.4571 - val_acc: 0.8904\n",
      "Epoch 6/10\n",
      "745/745 [==============================] - 0s 146us/sample - loss: 0.4005 - acc: 0.8913 - val_loss: 0.4146 - val_acc: 0.8904\n",
      "Epoch 7/10\n",
      "745/745 [==============================] - 0s 145us/sample - loss: 0.3633 - acc: 0.8913 - val_loss: 0.3915 - val_acc: 0.8904\n",
      "Epoch 8/10\n",
      "745/745 [==============================] - 0s 153us/sample - loss: 0.3329 - acc: 0.8913 - val_loss: 0.3736 - val_acc: 0.8904\n",
      "Epoch 9/10\n",
      "745/745 [==============================] - 0s 146us/sample - loss: 0.3210 - acc: 0.8913 - val_loss: 0.3732 - val_acc: 0.8904\n",
      "Epoch 10/10\n",
      "745/745 [==============================] - 0s 156us/sample - loss: 0.2986 - acc: 0.8913 - val_loss: 0.3614 - val_acc: 0.8904\n",
      "WARNING:tensorflow:Entity <bound method SqueezedSparseConversion.call of <stellargraph.layer.misc.SqueezedSparseConversion object at 0x2e2ae2320>> could not be transformed and will be executed as-is. Please report this to the AutgoGraph team. When filing the bug, set the verbosity to 10 (on Linux, `export AUTOGRAPH_VERBOSITY=10`) and attach the full output. Cause: converting <bound method SqueezedSparseConversion.call of <stellargraph.layer.misc.SqueezedSparseConversion object at 0x2e2ae2320>>: AttributeError: module 'gast' has no attribute 'Num'\n",
      "WARNING: Entity <bound method SqueezedSparseConversion.call of <stellargraph.layer.misc.SqueezedSparseConversion object at 0x2e2ae2320>> could not be transformed and will be executed as-is. Please report this to the AutgoGraph team. When filing the bug, set the verbosity to 10 (on Linux, `export AUTOGRAPH_VERBOSITY=10`) and attach the full output. Cause: converting <bound method SqueezedSparseConversion.call of <stellargraph.layer.misc.SqueezedSparseConversion object at 0x2e2ae2320>>: AttributeError: module 'gast' has no attribute 'Num'\n",
      "WARNING:tensorflow:Entity <bound method APPNPPropagationLayer.call of <stellargraph.layer.appnp.APPNPPropagationLayer object at 0x2d99083c8>> could not be transformed and will be executed as-is. Please report this to the AutgoGraph team. When filing the bug, set the verbosity to 10 (on Linux, `export AUTOGRAPH_VERBOSITY=10`) and attach the full output. Cause: converting <bound method APPNPPropagationLayer.call of <stellargraph.layer.appnp.APPNPPropagationLayer object at 0x2d99083c8>>: AttributeError: module 'gast' has no attribute 'Num'\n",
      "WARNING: Entity <bound method APPNPPropagationLayer.call of <stellargraph.layer.appnp.APPNPPropagationLayer object at 0x2d99083c8>> could not be transformed and will be executed as-is. Please report this to the AutgoGraph team. When filing the bug, set the verbosity to 10 (on Linux, `export AUTOGRAPH_VERBOSITY=10`) and attach the full output. Cause: converting <bound method APPNPPropagationLayer.call of <stellargraph.layer.appnp.APPNPPropagationLayer object at 0x2d99083c8>>: AttributeError: module 'gast' has no attribute 'Num'\n",
      "WARNING:tensorflow:Entity <bound method APPNPPropagationLayer.call of <stellargraph.layer.appnp.APPNPPropagationLayer object at 0x2d99085c0>> could not be transformed and will be executed as-is. Please report this to the AutgoGraph team. When filing the bug, set the verbosity to 10 (on Linux, `export AUTOGRAPH_VERBOSITY=10`) and attach the full output. Cause: converting <bound method APPNPPropagationLayer.call of <stellargraph.layer.appnp.APPNPPropagationLayer object at 0x2d99085c0>>: AttributeError: module 'gast' has no attribute 'Num'\n",
      "WARNING: Entity <bound method APPNPPropagationLayer.call of <stellargraph.layer.appnp.APPNPPropagationLayer object at 0x2d99085c0>> could not be transformed and will be executed as-is. Please report this to the AutgoGraph team. When filing the bug, set the verbosity to 10 (on Linux, `export AUTOGRAPH_VERBOSITY=10`) and attach the full output. Cause: converting <bound method APPNPPropagationLayer.call of <stellargraph.layer.appnp.APPNPPropagationLayer object at 0x2d99085c0>>: AttributeError: module 'gast' has no attribute 'Num'\n",
      "WARNING:tensorflow:Entity <bound method APPNPPropagationLayer.call of <stellargraph.layer.appnp.APPNPPropagationLayer object at 0x2d99087b8>> could not be transformed and will be executed as-is. Please report this to the AutgoGraph team. When filing the bug, set the verbosity to 10 (on Linux, `export AUTOGRAPH_VERBOSITY=10`) and attach the full output. Cause: converting <bound method APPNPPropagationLayer.call of <stellargraph.layer.appnp.APPNPPropagationLayer object at 0x2d99087b8>>: AttributeError: module 'gast' has no attribute 'Num'\n",
      "WARNING: Entity <bound method APPNPPropagationLayer.call of <stellargraph.layer.appnp.APPNPPropagationLayer object at 0x2d99087b8>> could not be transformed and will be executed as-is. Please report this to the AutgoGraph team. When filing the bug, set the verbosity to 10 (on Linux, `export AUTOGRAPH_VERBOSITY=10`) and attach the full output. Cause: converting <bound method APPNPPropagationLayer.call of <stellargraph.layer.appnp.APPNPPropagationLayer object at 0x2d99087b8>>: AttributeError: module 'gast' has no attribute 'Num'\n",
      "WARNING:tensorflow:Entity <bound method APPNPPropagationLayer.call of <stellargraph.layer.appnp.APPNPPropagationLayer object at 0x2d9908a20>> could not be transformed and will be executed as-is. Please report this to the AutgoGraph team. When filing the bug, set the verbosity to 10 (on Linux, `export AUTOGRAPH_VERBOSITY=10`) and attach the full output. Cause: converting <bound method APPNPPropagationLayer.call of <stellargraph.layer.appnp.APPNPPropagationLayer object at 0x2d9908a20>>: AttributeError: module 'gast' has no attribute 'Num'\n",
      "WARNING: Entity <bound method APPNPPropagationLayer.call of <stellargraph.layer.appnp.APPNPPropagationLayer object at 0x2d9908a20>> could not be transformed and will be executed as-is. Please report this to the AutgoGraph team. When filing the bug, set the verbosity to 10 (on Linux, `export AUTOGRAPH_VERBOSITY=10`) and attach the full output. Cause: converting <bound method APPNPPropagationLayer.call of <stellargraph.layer.appnp.APPNPPropagationLayer object at 0x2d9908a20>>: AttributeError: module 'gast' has no attribute 'Num'\n",
      "WARNING:tensorflow:Entity <bound method APPNPPropagationLayer.call of <stellargraph.layer.appnp.APPNPPropagationLayer object at 0x2d9908c18>> could not be transformed and will be executed as-is. Please report this to the AutgoGraph team. When filing the bug, set the verbosity to 10 (on Linux, `export AUTOGRAPH_VERBOSITY=10`) and attach the full output. Cause: converting <bound method APPNPPropagationLayer.call of <stellargraph.layer.appnp.APPNPPropagationLayer object at 0x2d9908c18>>: AttributeError: module 'gast' has no attribute 'Num'\n",
      "WARNING: Entity <bound method APPNPPropagationLayer.call of <stellargraph.layer.appnp.APPNPPropagationLayer object at 0x2d9908c18>> could not be transformed and will be executed as-is. Please report this to the AutgoGraph team. When filing the bug, set the verbosity to 10 (on Linux, `export AUTOGRAPH_VERBOSITY=10`) and attach the full output. Cause: converting <bound method APPNPPropagationLayer.call of <stellargraph.layer.appnp.APPNPPropagationLayer object at 0x2d9908c18>>: AttributeError: module 'gast' has no attribute 'Num'\n",
      "WARNING:tensorflow:Entity <bound method APPNPPropagationLayer.call of <stellargraph.layer.appnp.APPNPPropagationLayer object at 0x2d9908e10>> could not be transformed and will be executed as-is. Please report this to the AutgoGraph team. When filing the bug, set the verbosity to 10 (on Linux, `export AUTOGRAPH_VERBOSITY=10`) and attach the full output. Cause: converting <bound method APPNPPropagationLayer.call of <stellargraph.layer.appnp.APPNPPropagationLayer object at 0x2d9908e10>>: AttributeError: module 'gast' has no attribute 'Num'\n"
     ]
    },
    {
     "name": "stdout",
     "output_type": "stream",
     "text": [
      "WARNING: Entity <bound method APPNPPropagationLayer.call of <stellargraph.layer.appnp.APPNPPropagationLayer object at 0x2d9908e10>> could not be transformed and will be executed as-is. Please report this to the AutgoGraph team. When filing the bug, set the verbosity to 10 (on Linux, `export AUTOGRAPH_VERBOSITY=10`) and attach the full output. Cause: converting <bound method APPNPPropagationLayer.call of <stellargraph.layer.appnp.APPNPPropagationLayer object at 0x2d9908e10>>: AttributeError: module 'gast' has no attribute 'Num'\n",
      "WARNING:tensorflow:Entity <bound method APPNPPropagationLayer.call of <stellargraph.layer.appnp.APPNPPropagationLayer object at 0x27e8c0048>> could not be transformed and will be executed as-is. Please report this to the AutgoGraph team. When filing the bug, set the verbosity to 10 (on Linux, `export AUTOGRAPH_VERBOSITY=10`) and attach the full output. Cause: converting <bound method APPNPPropagationLayer.call of <stellargraph.layer.appnp.APPNPPropagationLayer object at 0x27e8c0048>>: AttributeError: module 'gast' has no attribute 'Num'\n",
      "WARNING: Entity <bound method APPNPPropagationLayer.call of <stellargraph.layer.appnp.APPNPPropagationLayer object at 0x27e8c0048>> could not be transformed and will be executed as-is. Please report this to the AutgoGraph team. When filing the bug, set the verbosity to 10 (on Linux, `export AUTOGRAPH_VERBOSITY=10`) and attach the full output. Cause: converting <bound method APPNPPropagationLayer.call of <stellargraph.layer.appnp.APPNPPropagationLayer object at 0x27e8c0048>>: AttributeError: module 'gast' has no attribute 'Num'\n",
      "WARNING:tensorflow:Entity <bound method APPNPPropagationLayer.call of <stellargraph.layer.appnp.APPNPPropagationLayer object at 0x27e8c0240>> could not be transformed and will be executed as-is. Please report this to the AutgoGraph team. When filing the bug, set the verbosity to 10 (on Linux, `export AUTOGRAPH_VERBOSITY=10`) and attach the full output. Cause: converting <bound method APPNPPropagationLayer.call of <stellargraph.layer.appnp.APPNPPropagationLayer object at 0x27e8c0240>>: AttributeError: module 'gast' has no attribute 'Num'\n",
      "WARNING: Entity <bound method APPNPPropagationLayer.call of <stellargraph.layer.appnp.APPNPPropagationLayer object at 0x27e8c0240>> could not be transformed and will be executed as-is. Please report this to the AutgoGraph team. When filing the bug, set the verbosity to 10 (on Linux, `export AUTOGRAPH_VERBOSITY=10`) and attach the full output. Cause: converting <bound method APPNPPropagationLayer.call of <stellargraph.layer.appnp.APPNPPropagationLayer object at 0x27e8c0240>>: AttributeError: module 'gast' has no attribute 'Num'\n",
      "WARNING:tensorflow:Entity <bound method APPNPPropagationLayer.call of <stellargraph.layer.appnp.APPNPPropagationLayer object at 0x27e8c0438>> could not be transformed and will be executed as-is. Please report this to the AutgoGraph team. When filing the bug, set the verbosity to 10 (on Linux, `export AUTOGRAPH_VERBOSITY=10`) and attach the full output. Cause: converting <bound method APPNPPropagationLayer.call of <stellargraph.layer.appnp.APPNPPropagationLayer object at 0x27e8c0438>>: AttributeError: module 'gast' has no attribute 'Num'\n",
      "WARNING: Entity <bound method APPNPPropagationLayer.call of <stellargraph.layer.appnp.APPNPPropagationLayer object at 0x27e8c0438>> could not be transformed and will be executed as-is. Please report this to the AutgoGraph team. When filing the bug, set the verbosity to 10 (on Linux, `export AUTOGRAPH_VERBOSITY=10`) and attach the full output. Cause: converting <bound method APPNPPropagationLayer.call of <stellargraph.layer.appnp.APPNPPropagationLayer object at 0x27e8c0438>>: AttributeError: module 'gast' has no attribute 'Num'\n",
      "WARNING:tensorflow:Entity <bound method APPNPPropagationLayer.call of <stellargraph.layer.appnp.APPNPPropagationLayer object at 0x27e8c0630>> could not be transformed and will be executed as-is. Please report this to the AutgoGraph team. When filing the bug, set the verbosity to 10 (on Linux, `export AUTOGRAPH_VERBOSITY=10`) and attach the full output. Cause: converting <bound method APPNPPropagationLayer.call of <stellargraph.layer.appnp.APPNPPropagationLayer object at 0x27e8c0630>>: AttributeError: module 'gast' has no attribute 'Num'\n",
      "WARNING: Entity <bound method APPNPPropagationLayer.call of <stellargraph.layer.appnp.APPNPPropagationLayer object at 0x27e8c0630>> could not be transformed and will be executed as-is. Please report this to the AutgoGraph team. When filing the bug, set the verbosity to 10 (on Linux, `export AUTOGRAPH_VERBOSITY=10`) and attach the full output. Cause: converting <bound method APPNPPropagationLayer.call of <stellargraph.layer.appnp.APPNPPropagationLayer object at 0x27e8c0630>>: AttributeError: module 'gast' has no attribute 'Num'\n"
     ]
    }
   ],
   "source": [
    "class_weight = None\n",
    "if model_type == 'graphsage':\n",
    "    class_weight=train_class_weights\n",
    "\n",
    "if model_type == 'appnp':\n",
    "    history = mlp_model.fit(\n",
    "        train_data,\n",
    "        train_targets,\n",
    "        epochs=10,\n",
    "        validation_data=(test_data, test_targets),\n",
    "        verbose=1,\n",
    "        shuffle=True,\n",
    "        class_weight=class_weight,\n",
    "    )\n",
    "    \n",
    "    x_inp, x_out = appnp.propagate_model(mlp_model)\n",
    "    model = Model(inputs=x_inp, outputs=x_out)\n",
    "    \n",
    "    model.compile(\n",
    "        optimizer=optimizers.Adam(lr=0.005),\n",
    "        loss=losses.binary_crossentropy,\n",
    "        metrics=[\"acc\"],\n",
    "    )\n",
    "\n",
    "else:\n",
    "    history = model.fit_generator(\n",
    "        train_gen,\n",
    "        epochs=epochs,\n",
    "        validation_data=test_gen,\n",
    "        verbose=1,\n",
    "        shuffle=False,\n",
    "        class_weight=class_weight,\n",
    "    )"
   ]
  },
  {
   "cell_type": "code",
   "execution_count": 297,
   "metadata": {},
   "outputs": [
    {
     "data": {
      "image/png": "[encoded data removed]",
      "text/plain": [
       "<Figure size 432x288 with 1 Axes>"
      ]
     },
     "metadata": {},
     "output_type": "display_data"
    },
    {
     "data": {
      "image/png": "[encoded data removed]",
      "text/plain": [
       "<Figure size 432x288 with 1 Axes>"
      ]
     },
     "metadata": {},
     "output_type": "display_data"
    }
   ],
   "source": [
    "plot_history(history)"
   ]
  },
  {
   "cell_type": "markdown",
   "metadata": {},
   "source": [
    "### Model Evaluation"
   ]
  },
  {
   "cell_type": "markdown",
   "metadata": {},
   "source": [
    "Now we have trained the model, let's evaluate it on the test set.\n",
    "\n",
    "We are going to consider 4 evaluation metrics calculated on the test set: Accuracy, Area Under the ROC curve (AU-ROC), the ROC curve, and the confusion table."
   ]
  },
  {
   "cell_type": "markdown",
   "metadata": {},
   "source": [
    "#### Accuracy"
   ]
  },
  {
   "cell_type": "code",
   "execution_count": 298,
   "metadata": {},
   "outputs": [
    {
     "name": "stdout",
     "output_type": "stream",
     "text": [
      "\n",
      "Test Set Metrics:\n",
      "\tloss: 0.3650\n",
      "\tacc: 0.8935\n"
     ]
    }
   ],
   "source": [
    "test_metrics = model.evaluate_generator(test_gen)\n",
    "print(\"\\nTest Set Metrics:\")\n",
    "for name, val in zip(model.metrics_names, test_metrics):\n",
    "    print(\"\\t{}: {:0.4f}\".format(name, val))"
   ]
  },
  {
   "cell_type": "markdown",
   "metadata": {},
   "source": [
    "#### AU-ROC\n",
    "\n",
    "Let's use the trained GNN model to make a prediction for each node in the graph.\n",
    "\n",
    "Then, select only the predictions for the nodes in the test set and calculate the AU-ROC as another performance metric in addition to the accuracy shown above."
   ]
  },
  {
   "cell_type": "code",
   "execution_count": 272,
   "metadata": {},
   "outputs": [],
   "source": [
    "all_nodes = node_data.index\n",
    "all_gen = generator.flow(all_nodes)"
   ]
  },
  {
   "cell_type": "code",
   "execution_count": 273,
   "metadata": {},
   "outputs": [],
   "source": [
    "all_predictions = model.predict_generator(all_gen).squeeze()[..., np.newaxis]"
   ]
  },
  {
   "cell_type": "code",
   "execution_count": 274,
   "metadata": {},
   "outputs": [
    {
     "data": {
      "text/plain": [
       "(100386, 1)"
      ]
     },
     "execution_count": 274,
     "metadata": {},
     "output_type": "execute_result"
    }
   ],
   "source": [
    "all_predictions.shape"
   ]
  },
  {
   "cell_type": "code",
   "execution_count": 275,
   "metadata": {},
   "outputs": [],
   "source": [
    "all_predictions_df = pd.DataFrame(all_predictions, \n",
    "                                  index=node_data.index)"
   ]
  },
  {
   "cell_type": "markdown",
   "metadata": {},
   "source": [
    "Let's extract the predictions for the test data only."
   ]
  },
  {
   "cell_type": "code",
   "execution_count": 276,
   "metadata": {},
   "outputs": [],
   "source": [
    "test_preds = all_predictions_df.loc[test_data.index, :]"
   ]
  },
  {
   "cell_type": "code",
   "execution_count": 277,
   "metadata": {},
   "outputs": [
    {
     "data": {
      "text/plain": [
       "(4226, 1)"
      ]
     },
     "execution_count": 277,
     "metadata": {},
     "output_type": "execute_result"
    }
   ],
   "source": [
    "test_preds.shape"
   ]
  },
  {
   "cell_type": "markdown",
   "metadata": {},
   "source": [
    "The predictions are the probability of the true class that in this case is the probability of a user being hateful."
   ]
  },
  {
   "cell_type": "code",
   "execution_count": 278,
   "metadata": {},
   "outputs": [
    {
     "data": {
      "text/html": [
       "<div>\n",
       "<style scoped>\n",
       "    .dataframe tbody tr th:only-of-type {\n",
       "        vertical-align: middle;\n",
       "    }\n",
       "\n",
       "    .dataframe tbody tr th {\n",
       "        vertical-align: top;\n",
       "    }\n",
       "\n",
       "    .dataframe thead th {\n",
       "        text-align: right;\n",
       "    }\n",
       "</style>\n",
       "<table border=\"1\" class=\"dataframe\">\n",
       "  <thead>\n",
       "    <tr style=\"text-align: right;\">\n",
       "      <th></th>\n",
       "      <th>0</th>\n",
       "    </tr>\n",
       "  </thead>\n",
       "  <tbody>\n",
       "    <tr>\n",
       "      <td>11717</td>\n",
       "      <td>0.292819</td>\n",
       "    </tr>\n",
       "    <tr>\n",
       "      <td>63824</td>\n",
       "      <td>0.097813</td>\n",
       "    </tr>\n",
       "    <tr>\n",
       "      <td>19161</td>\n",
       "      <td>0.016217</td>\n",
       "    </tr>\n",
       "    <tr>\n",
       "      <td>57412</td>\n",
       "      <td>0.065965</td>\n",
       "    </tr>\n",
       "    <tr>\n",
       "      <td>98222</td>\n",
       "      <td>0.106488</td>\n",
       "    </tr>\n",
       "  </tbody>\n",
       "</table>\n",
       "</div>"
      ],
      "text/plain": [
       "              0\n",
       "11717  0.292819\n",
       "63824  0.097813\n",
       "19161  0.016217\n",
       "57412  0.065965\n",
       "98222  0.106488"
      ]
     },
     "execution_count": 278,
     "metadata": {},
     "output_type": "execute_result"
    }
   ],
   "source": [
    "test_preds.head()"
   ]
  },
  {
   "cell_type": "code",
   "execution_count": 279,
   "metadata": {},
   "outputs": [
    {
     "name": "stdout",
     "output_type": "stream",
     "text": [
      "The AUC on test set:\n",
      "\n",
      "0.8824997747190587\n"
     ]
    }
   ],
   "source": [
    "test_predictions = test_preds.values\n",
    "test_predictions_class = ((test_predictions>0.5)*1).flatten()\n",
    "test_df = pd.DataFrame({\"Predicted_score\": test_predictions.flatten(), \n",
    "                        \"Predicted_class\": test_predictions_class, \n",
    "                        \"True\": test_targets[:,0]})\n",
    "roc_auc = metrics.roc_auc_score(test_df['True'].values, \n",
    "                                test_df['Predicted_score'].values)\n",
    "print(\"The AUC on test set:\\n\")\n",
    "print(roc_auc)"
   ]
  },
  {
   "cell_type": "markdown",
   "metadata": {},
   "source": [
    "#### Confusion table"
   ]
  },
  {
   "cell_type": "code",
   "execution_count": 280,
   "metadata": {},
   "outputs": [
    {
     "data": {
      "text/html": [
       "<div>\n",
       "<style scoped>\n",
       "    .dataframe tbody tr th:only-of-type {\n",
       "        vertical-align: middle;\n",
       "    }\n",
       "\n",
       "    .dataframe tbody tr th {\n",
       "        vertical-align: top;\n",
       "    }\n",
       "\n",
       "    .dataframe thead th {\n",
       "        text-align: right;\n",
       "    }\n",
       "</style>\n",
       "<table border=\"1\" class=\"dataframe\">\n",
       "  <thead>\n",
       "    <tr style=\"text-align: right;\">\n",
       "      <th>Predicted_class</th>\n",
       "      <th>0</th>\n",
       "      <th>1</th>\n",
       "    </tr>\n",
       "    <tr>\n",
       "      <th>True</th>\n",
       "      <th></th>\n",
       "      <th></th>\n",
       "    </tr>\n",
       "  </thead>\n",
       "  <tbody>\n",
       "    <tr>\n",
       "      <td>0</td>\n",
       "      <td>3763</td>\n",
       "      <td>0</td>\n",
       "    </tr>\n",
       "    <tr>\n",
       "      <td>1</td>\n",
       "      <td>458</td>\n",
       "      <td>5</td>\n",
       "    </tr>\n",
       "  </tbody>\n",
       "</table>\n",
       "</div>"
      ],
      "text/plain": [
       "Predicted_class     0  1\n",
       "True                    \n",
       "0                3763  0\n",
       "1                 458  5"
      ]
     },
     "execution_count": 280,
     "metadata": {},
     "output_type": "execute_result"
    }
   ],
   "source": [
    "pd.crosstab(test_df['True'], test_df['Predicted_class'])"
   ]
  },
  {
   "cell_type": "markdown",
   "metadata": {},
   "source": [
    "#### ROC curve"
   ]
  },
  {
   "cell_type": "code",
   "execution_count": 281,
   "metadata": {},
   "outputs": [
    {
     "data": {
      "image/png": "[encoded data removed]",
      "text/plain": [
       "<Figure size 864x432 with 1 Axes>"
      ]
     },
     "metadata": {},
     "output_type": "display_data"
    }
   ],
   "source": [
    "fpr, tpr, thresholds = metrics.roc_curve(test_df['True'], test_df['Predicted_score'], pos_label=1)\n",
    "plt.figure(figsize=(12,6,))\n",
    "\n",
    "lw = 2\n",
    "plt.plot(fpr, tpr, color='darkblue',\n",
    "         lw=lw, label='GNN ROC curve (area = %0.2f)' % roc_auc)\n",
    "plt.plot([0, 1], [0, 1], color='navy', lw=lw, linestyle='--')\n",
    "plt.xlim([0.0, 1.0])\n",
    "plt.ylim([0.0, 1.05])\n",
    "plt.xlabel('False Positive Rate', fontsize=18)\n",
    "plt.ylabel('True Positive Rate', fontsize=18)\n",
    "plt.title('Receiver operating characteristic curve', fontsize=18)\n",
    "plt.legend(loc=\"lower right\")\n",
    "plt.show()"
   ]
  },
  {
   "cell_type": "markdown",
   "metadata": {},
   "source": [
    "## Visualisation of node embeddings\n",
    "\n",
    "Evaluate node embeddings as activations of the output of one of the graph convolutional or aggregation layers in the Keras model, and visualise them, coloring nodes by their subject label.\n",
    "\n",
    "You can find the index of the layer of interest by calling `model.layers`."
   ]
  },
  {
   "cell_type": "markdown",
   "metadata": {},
   "source": [
    "First, create a Keras model for calculating the embeddings"
   ]
  },
  {
   "cell_type": "code",
   "execution_count": 299,
   "metadata": {},
   "outputs": [
    {
     "name": "stdout",
     "output_type": "stream",
     "text": [
      "WARNING:tensorflow:Model inputs must come from `tf.keras.Input` (thus holding past layer metadata), they cannot be the output of a previous non-Input layer. Here, a tensor specified as input to \"model_50\" was not an Input tensor, it was generated by layer input_90.\n",
      "Note that input tensors are instantiated via `tensor = tf.keras.Input(shape)`.\n",
      "The tensor that caused the issue was: input_90:0\n",
      "WARNING:tensorflow:Entity <bound method SqueezedSparseConversion.call of <stellargraph.layer.misc.SqueezedSparseConversion object at 0x27ec3cc18>> could not be transformed and will be executed as-is. Please report this to the AutgoGraph team. When filing the bug, set the verbosity to 10 (on Linux, `export AUTOGRAPH_VERBOSITY=10`) and attach the full output. Cause: converting <bound method SqueezedSparseConversion.call of <stellargraph.layer.misc.SqueezedSparseConversion object at 0x27ec3cc18>>: AttributeError: module 'gast' has no attribute 'Num'\n",
      "WARNING: Entity <bound method SqueezedSparseConversion.call of <stellargraph.layer.misc.SqueezedSparseConversion object at 0x27ec3cc18>> could not be transformed and will be executed as-is. Please report this to the AutgoGraph team. When filing the bug, set the verbosity to 10 (on Linux, `export AUTOGRAPH_VERBOSITY=10`) and attach the full output. Cause: converting <bound method SqueezedSparseConversion.call of <stellargraph.layer.misc.SqueezedSparseConversion object at 0x27ec3cc18>>: AttributeError: module 'gast' has no attribute 'Num'\n",
      "WARNING:tensorflow:Entity <bound method APPNPPropagationLayer.call of <stellargraph.layer.appnp.APPNPPropagationLayer object at 0x2d99083c8>> could not be transformed and will be executed as-is. Please report this to the AutgoGraph team. When filing the bug, set the verbosity to 10 (on Linux, `export AUTOGRAPH_VERBOSITY=10`) and attach the full output. Cause: converting <bound method APPNPPropagationLayer.call of <stellargraph.layer.appnp.APPNPPropagationLayer object at 0x2d99083c8>>: AttributeError: module 'gast' has no attribute 'Num'\n",
      "WARNING: Entity <bound method APPNPPropagationLayer.call of <stellargraph.layer.appnp.APPNPPropagationLayer object at 0x2d99083c8>> could not be transformed and will be executed as-is. Please report this to the AutgoGraph team. When filing the bug, set the verbosity to 10 (on Linux, `export AUTOGRAPH_VERBOSITY=10`) and attach the full output. Cause: converting <bound method APPNPPropagationLayer.call of <stellargraph.layer.appnp.APPNPPropagationLayer object at 0x2d99083c8>>: AttributeError: module 'gast' has no attribute 'Num'\n",
      "WARNING:tensorflow:Entity <bound method APPNPPropagationLayer.call of <stellargraph.layer.appnp.APPNPPropagationLayer object at 0x2d99085c0>> could not be transformed and will be executed as-is. Please report this to the AutgoGraph team. When filing the bug, set the verbosity to 10 (on Linux, `export AUTOGRAPH_VERBOSITY=10`) and attach the full output. Cause: converting <bound method APPNPPropagationLayer.call of <stellargraph.layer.appnp.APPNPPropagationLayer object at 0x2d99085c0>>: AttributeError: module 'gast' has no attribute 'Num'\n",
      "WARNING: Entity <bound method APPNPPropagationLayer.call of <stellargraph.layer.appnp.APPNPPropagationLayer object at 0x2d99085c0>> could not be transformed and will be executed as-is. Please report this to the AutgoGraph team. When filing the bug, set the verbosity to 10 (on Linux, `export AUTOGRAPH_VERBOSITY=10`) and attach the full output. Cause: converting <bound method APPNPPropagationLayer.call of <stellargraph.layer.appnp.APPNPPropagationLayer object at 0x2d99085c0>>: AttributeError: module 'gast' has no attribute 'Num'\n",
      "WARNING:tensorflow:Entity <bound method APPNPPropagationLayer.call of <stellargraph.layer.appnp.APPNPPropagationLayer object at 0x2d99087b8>> could not be transformed and will be executed as-is. Please report this to the AutgoGraph team. When filing the bug, set the verbosity to 10 (on Linux, `export AUTOGRAPH_VERBOSITY=10`) and attach the full output. Cause: converting <bound method APPNPPropagationLayer.call of <stellargraph.layer.appnp.APPNPPropagationLayer object at 0x2d99087b8>>: AttributeError: module 'gast' has no attribute 'Num'\n",
      "WARNING: Entity <bound method APPNPPropagationLayer.call of <stellargraph.layer.appnp.APPNPPropagationLayer object at 0x2d99087b8>> could not be transformed and will be executed as-is. Please report this to the AutgoGraph team. When filing the bug, set the verbosity to 10 (on Linux, `export AUTOGRAPH_VERBOSITY=10`) and attach the full output. Cause: converting <bound method APPNPPropagationLayer.call of <stellargraph.layer.appnp.APPNPPropagationLayer object at 0x2d99087b8>>: AttributeError: module 'gast' has no attribute 'Num'\n",
      "WARNING:tensorflow:Entity <bound method APPNPPropagationLayer.call of <stellargraph.layer.appnp.APPNPPropagationLayer object at 0x2d9908a20>> could not be transformed and will be executed as-is. Please report this to the AutgoGraph team. When filing the bug, set the verbosity to 10 (on Linux, `export AUTOGRAPH_VERBOSITY=10`) and attach the full output. Cause: converting <bound method APPNPPropagationLayer.call of <stellargraph.layer.appnp.APPNPPropagationLayer object at 0x2d9908a20>>: AttributeError: module 'gast' has no attribute 'Num'\n",
      "WARNING: Entity <bound method APPNPPropagationLayer.call of <stellargraph.layer.appnp.APPNPPropagationLayer object at 0x2d9908a20>> could not be transformed and will be executed as-is. Please report this to the AutgoGraph team. When filing the bug, set the verbosity to 10 (on Linux, `export AUTOGRAPH_VERBOSITY=10`) and attach the full output. Cause: converting <bound method APPNPPropagationLayer.call of <stellargraph.layer.appnp.APPNPPropagationLayer object at 0x2d9908a20>>: AttributeError: module 'gast' has no attribute 'Num'\n",
      "WARNING:tensorflow:Entity <bound method APPNPPropagationLayer.call of <stellargraph.layer.appnp.APPNPPropagationLayer object at 0x2d9908c18>> could not be transformed and will be executed as-is. Please report this to the AutgoGraph team. When filing the bug, set the verbosity to 10 (on Linux, `export AUTOGRAPH_VERBOSITY=10`) and attach the full output. Cause: converting <bound method APPNPPropagationLayer.call of <stellargraph.layer.appnp.APPNPPropagationLayer object at 0x2d9908c18>>: AttributeError: module 'gast' has no attribute 'Num'\n",
      "WARNING: Entity <bound method APPNPPropagationLayer.call of <stellargraph.layer.appnp.APPNPPropagationLayer object at 0x2d9908c18>> could not be transformed and will be executed as-is. Please report this to the AutgoGraph team. When filing the bug, set the verbosity to 10 (on Linux, `export AUTOGRAPH_VERBOSITY=10`) and attach the full output. Cause: converting <bound method APPNPPropagationLayer.call of <stellargraph.layer.appnp.APPNPPropagationLayer object at 0x2d9908c18>>: AttributeError: module 'gast' has no attribute 'Num'\n",
      "WARNING:tensorflow:Entity <bound method APPNPPropagationLayer.call of <stellargraph.layer.appnp.APPNPPropagationLayer object at 0x2d9908e10>> could not be transformed and will be executed as-is. Please report this to the AutgoGraph team. When filing the bug, set the verbosity to 10 (on Linux, `export AUTOGRAPH_VERBOSITY=10`) and attach the full output. Cause: converting <bound method APPNPPropagationLayer.call of <stellargraph.layer.appnp.APPNPPropagationLayer object at 0x2d9908e10>>: AttributeError: module 'gast' has no attribute 'Num'\n",
      "WARNING: Entity <bound method APPNPPropagationLayer.call of <stellargraph.layer.appnp.APPNPPropagationLayer object at 0x2d9908e10>> could not be transformed and will be executed as-is. Please report this to the AutgoGraph team. When filing the bug, set the verbosity to 10 (on Linux, `export AUTOGRAPH_VERBOSITY=10`) and attach the full output. Cause: converting <bound method APPNPPropagationLayer.call of <stellargraph.layer.appnp.APPNPPropagationLayer object at 0x2d9908e10>>: AttributeError: module 'gast' has no attribute 'Num'\n",
      "WARNING:tensorflow:Entity <bound method APPNPPropagationLayer.call of <stellargraph.layer.appnp.APPNPPropagationLayer object at 0x27e8c0048>> could not be transformed and will be executed as-is. Please report this to the AutgoGraph team. When filing the bug, set the verbosity to 10 (on Linux, `export AUTOGRAPH_VERBOSITY=10`) and attach the full output. Cause: converting <bound method APPNPPropagationLayer.call of <stellargraph.layer.appnp.APPNPPropagationLayer object at 0x27e8c0048>>: AttributeError: module 'gast' has no attribute 'Num'\n"
     ]
    },
    {
     "name": "stdout",
     "output_type": "stream",
     "text": [
      "WARNING: Entity <bound method APPNPPropagationLayer.call of <stellargraph.layer.appnp.APPNPPropagationLayer object at 0x27e8c0048>> could not be transformed and will be executed as-is. Please report this to the AutgoGraph team. When filing the bug, set the verbosity to 10 (on Linux, `export AUTOGRAPH_VERBOSITY=10`) and attach the full output. Cause: converting <bound method APPNPPropagationLayer.call of <stellargraph.layer.appnp.APPNPPropagationLayer object at 0x27e8c0048>>: AttributeError: module 'gast' has no attribute 'Num'\n",
      "WARNING:tensorflow:Entity <bound method APPNPPropagationLayer.call of <stellargraph.layer.appnp.APPNPPropagationLayer object at 0x27e8c0240>> could not be transformed and will be executed as-is. Please report this to the AutgoGraph team. When filing the bug, set the verbosity to 10 (on Linux, `export AUTOGRAPH_VERBOSITY=10`) and attach the full output. Cause: converting <bound method APPNPPropagationLayer.call of <stellargraph.layer.appnp.APPNPPropagationLayer object at 0x27e8c0240>>: AttributeError: module 'gast' has no attribute 'Num'\n",
      "WARNING: Entity <bound method APPNPPropagationLayer.call of <stellargraph.layer.appnp.APPNPPropagationLayer object at 0x27e8c0240>> could not be transformed and will be executed as-is. Please report this to the AutgoGraph team. When filing the bug, set the verbosity to 10 (on Linux, `export AUTOGRAPH_VERBOSITY=10`) and attach the full output. Cause: converting <bound method APPNPPropagationLayer.call of <stellargraph.layer.appnp.APPNPPropagationLayer object at 0x27e8c0240>>: AttributeError: module 'gast' has no attribute 'Num'\n",
      "WARNING:tensorflow:Entity <bound method APPNPPropagationLayer.call of <stellargraph.layer.appnp.APPNPPropagationLayer object at 0x27e8c0438>> could not be transformed and will be executed as-is. Please report this to the AutgoGraph team. When filing the bug, set the verbosity to 10 (on Linux, `export AUTOGRAPH_VERBOSITY=10`) and attach the full output. Cause: converting <bound method APPNPPropagationLayer.call of <stellargraph.layer.appnp.APPNPPropagationLayer object at 0x27e8c0438>>: AttributeError: module 'gast' has no attribute 'Num'\n",
      "WARNING: Entity <bound method APPNPPropagationLayer.call of <stellargraph.layer.appnp.APPNPPropagationLayer object at 0x27e8c0438>> could not be transformed and will be executed as-is. Please report this to the AutgoGraph team. When filing the bug, set the verbosity to 10 (on Linux, `export AUTOGRAPH_VERBOSITY=10`) and attach the full output. Cause: converting <bound method APPNPPropagationLayer.call of <stellargraph.layer.appnp.APPNPPropagationLayer object at 0x27e8c0438>>: AttributeError: module 'gast' has no attribute 'Num'\n",
      "WARNING:tensorflow:Entity <bound method APPNPPropagationLayer.call of <stellargraph.layer.appnp.APPNPPropagationLayer object at 0x27e8c0630>> could not be transformed and will be executed as-is. Please report this to the AutgoGraph team. When filing the bug, set the verbosity to 10 (on Linux, `export AUTOGRAPH_VERBOSITY=10`) and attach the full output. Cause: converting <bound method APPNPPropagationLayer.call of <stellargraph.layer.appnp.APPNPPropagationLayer object at 0x27e8c0630>>: AttributeError: module 'gast' has no attribute 'Num'\n",
      "WARNING: Entity <bound method APPNPPropagationLayer.call of <stellargraph.layer.appnp.APPNPPropagationLayer object at 0x27e8c0630>> could not be transformed and will be executed as-is. Please report this to the AutgoGraph team. When filing the bug, set the verbosity to 10 (on Linux, `export AUTOGRAPH_VERBOSITY=10`) and attach the full output. Cause: converting <bound method APPNPPropagationLayer.call of <stellargraph.layer.appnp.APPNPPropagationLayer object at 0x27e8c0630>>: AttributeError: module 'gast' has no attribute 'Num'\n"
     ]
    }
   ],
   "source": [
    "if model_type == 'graphsage':\n",
    "    # For GraphSAGE, we are going to use the output activations \n",
    "    # of the second GraphSAGE layer as the node embeddings\n",
    "    # x_inp, prediction\n",
    "    emb_model = Model(inputs=x_inp, outputs=model.layers[-4].output)\n",
    "    emb = emb_model.predict_generator(generator=all_gen, )\n",
    "elif model_type == 'gcn':\n",
    "    # For GCN, we are going to use the output activations of \n",
    "    # the second GCN layer as the node embeddings\n",
    "    emb_model = Model(inputs=x_inp, outputs=model.layers[6].output)\n",
    "    emb = emb_model.predict_generator(generator=all_gen)\n",
    "elif model_type == 'gat':\n",
    "    # For GAT, we are going to use the output activations of the \n",
    "    # first Graph Attention layer as the node embeddings\n",
    "    emb_model = Model(inputs=x_inp, outputs=model.layers[6].output)\n",
    "    emb = emb_model.predict_generator(generator=all_gen)\n",
    "elif model_type == 'appnp':\n",
    "    # the hidden layers of the model have only been trained on node features\n",
    "    # will these embeddings be useful?\n",
    "    mlp_emb_model = Model(inputs=in_layer, outputs=mlp_model.layers[-2].output) \n",
    "\n",
    "    x_in_emb, x_out_emb = appnp.propagate_model(mlp_emb_model)\n",
    "\n",
    "    emb_model = Model(inputs=x_in_emb, outputs=x_out_emb)\n",
    "    emb = emb_model.predict_generator(generator=all_gen)"
   ]
  },
  {
   "cell_type": "code",
   "execution_count": 300,
   "metadata": {},
   "outputs": [],
   "source": [
    "emb = emb.squeeze()"
   ]
  },
  {
   "cell_type": "code",
   "execution_count": 301,
   "metadata": {},
   "outputs": [],
   "source": [
    "if model_type == \"graphsage\":\n",
    "    emb_all_df = pd.DataFrame(emb, index=node_data.index)\n",
    "elif model_type == \"gcn\" or model_type == \"gat\" or model_type == \"appnp\":\n",
    "    emb_all_df = pd.DataFrame(emb, index=G.nodes())"
   ]
  },
  {
   "cell_type": "markdown",
   "metadata": {},
   "source": [
    "Select the embeddings for the test set. We are only going to visualise the test set embeddings."
   ]
  },
  {
   "cell_type": "code",
   "execution_count": 302,
   "metadata": {},
   "outputs": [],
   "source": [
    "emb_test = emb_all_df.loc[test_data.index, :]"
   ]
  },
  {
   "cell_type": "markdown",
   "metadata": {},
   "source": [
    "Project the embeddings to 2d using either TSNE or PCA transform, and visualise, coloring nodes by their subject label"
   ]
  },
  {
   "cell_type": "code",
   "execution_count": 303,
   "metadata": {},
   "outputs": [],
   "source": [
    "X = emb_test\n",
    "y = test_targets"
   ]
  },
  {
   "cell_type": "code",
   "execution_count": 304,
   "metadata": {},
   "outputs": [
    {
     "data": {
      "text/plain": [
       "(4226, 16)"
      ]
     },
     "execution_count": 304,
     "metadata": {},
     "output_type": "execute_result"
    }
   ],
   "source": [
    "X.shape"
   ]
  },
  {
   "cell_type": "code",
   "execution_count": 305,
   "metadata": {},
   "outputs": [],
   "source": [
    "transform = TSNE # or use PCA \n",
    "\n",
    "trans = transform(n_components=2)\n",
    "emb_transformed = pd.DataFrame(trans.fit_transform(X), index=test_data.index)\n",
    "emb_transformed['label'] = y"
   ]
  },
  {
   "cell_type": "code",
   "execution_count": 306,
   "metadata": {},
   "outputs": [
    {
     "data": {
      "image/png": "[encoded data removed]",
      "text/plain": [
       "<Figure size 1008x576 with 1 Axes>"
      ]
     },
     "metadata": {},
     "output_type": "display_data"
    }
   ],
   "source": [
    "alpha = 0.7\n",
    "\n",
    "fig, ax = plt.subplots(figsize=(14,8,))\n",
    "ax.scatter(emb_transformed[0], emb_transformed[1], c=emb_transformed['label'].astype(\"category\"), \n",
    "            cmap=\"jet\", alpha=alpha)\n",
    "ax.set(xlabel=\"$X_1$\", ylabel=\"$X_2$\")\n",
    "plt.title('{} visualization of embeddings for tweeter dataset'.format(transform.__name__), fontsize=24)\n",
    "plt.show()"
   ]
  },
  {
   "cell_type": "markdown",
   "metadata": {},
   "source": [
    "The node embeddings shown above indicate that the majority of hateful users tend to cluster together. However, some normal users are also in the same neighbourhood and these will be difficult to distinguish from hateful ones. Similarly, there is a small number of hateful users dispersed among normal users and these will also be difficult classify correctly."
   ]
  },
  {
   "cell_type": "markdown",
   "metadata": {},
   "source": [
    "### Predictions using Logistic Regression\n",
    "\n",
    "Finally, we train a Logistic Regression model on the same train and test data but this time ignoring the graph structure and focusing entirely on the node features."
   ]
  },
  {
   "cell_type": "markdown",
   "metadata": {},
   "source": [
    "The variables `train_data`, `test_data`, `train_targets`, and `test_targets`, hold the data we need to train the Logistic Regression classifier. "
   ]
  },
  {
   "cell_type": "code",
   "execution_count": 100,
   "metadata": {},
   "outputs": [],
   "source": [
    "lr = LogisticRegressionCV(cv=5, \n",
    "                          class_weight=class_weight, \n",
    "                          max_iter=10000)  # Let's use the default parameters"
   ]
  },
  {
   "cell_type": "code",
   "execution_count": 101,
   "metadata": {},
   "outputs": [
    {
     "data": {
      "text/plain": [
       "LogisticRegressionCV(Cs=10, class_weight=None, cv=5, dual=False,\n",
       "                     fit_intercept=True, intercept_scaling=1.0, l1_ratios=None,\n",
       "                     max_iter=10000, multi_class='warn', n_jobs=None,\n",
       "                     penalty='l2', random_state=None, refit=True, scoring=None,\n",
       "                     solver='lbfgs', tol=0.0001, verbose=0)"
      ]
     },
     "execution_count": 101,
     "metadata": {},
     "output_type": "execute_result"
    }
   ],
   "source": [
    "lr.fit(train_data, train_targets.ravel())"
   ]
  },
  {
   "cell_type": "markdown",
   "metadata": {},
   "source": [
    "We can now use the trained model to predict the test data"
   ]
  },
  {
   "cell_type": "code",
   "execution_count": 102,
   "metadata": {},
   "outputs": [],
   "source": [
    "test_preds_lr = lr.predict_proba(test_data)"
   ]
  },
  {
   "cell_type": "code",
   "execution_count": 103,
   "metadata": {},
   "outputs": [
    {
     "data": {
      "text/plain": [
       "(4226, 2)"
      ]
     },
     "execution_count": 103,
     "metadata": {},
     "output_type": "execute_result"
    }
   ],
   "source": [
    "test_preds_lr.shape"
   ]
  },
  {
   "cell_type": "markdown",
   "metadata": {},
   "source": [
    "#### Accuracy"
   ]
  },
  {
   "cell_type": "code",
   "execution_count": 104,
   "metadata": {},
   "outputs": [
    {
     "data": {
      "text/plain": [
       "0.907950780880265"
      ]
     },
     "execution_count": 104,
     "metadata": {},
     "output_type": "execute_result"
    }
   ],
   "source": [
    "lr.score(test_data, test_targets)"
   ]
  },
  {
   "cell_type": "markdown",
   "metadata": {},
   "source": [
    "#### Calculate AU-ROC metric"
   ]
  },
  {
   "cell_type": "code",
   "execution_count": 105,
   "metadata": {},
   "outputs": [
    {
     "name": "stdout",
     "output_type": "stream",
     "text": [
      "The AUC on test set:\n",
      "\n",
      "0.8581269597289513\n"
     ]
    }
   ],
   "source": [
    "test_predictions_class_lr = ((test_preds_lr[:, 1]>0.5)*1).flatten()\n",
    "test_df_lr = pd.DataFrame({\"Predicted_score\": test_preds_lr[:, 1].flatten(), \n",
    "                        \"Predicted_class\": test_predictions_class_lr, \n",
    "                        \"True\": test_targets[:,0]})\n",
    "roc_auc_lr = metrics.roc_auc_score(test_df_lr['True'].values, test_df_lr['Predicted_score'].values)\n",
    "print(\"The AUC on test set:\\n\")\n",
    "print(roc_auc_lr)"
   ]
  },
  {
   "cell_type": "markdown",
   "metadata": {},
   "source": [
    "#### The confusion table"
   ]
  },
  {
   "cell_type": "code",
   "execution_count": 106,
   "metadata": {},
   "outputs": [
    {
     "data": {
      "text/html": [
       "<div>\n",
       "<style scoped>\n",
       "    .dataframe tbody tr th:only-of-type {\n",
       "        vertical-align: middle;\n",
       "    }\n",
       "\n",
       "    .dataframe tbody tr th {\n",
       "        vertical-align: top;\n",
       "    }\n",
       "\n",
       "    .dataframe thead th {\n",
       "        text-align: right;\n",
       "    }\n",
       "</style>\n",
       "<table border=\"1\" class=\"dataframe\">\n",
       "  <thead>\n",
       "    <tr style=\"text-align: right;\">\n",
       "      <th>Predicted_class</th>\n",
       "      <th>0</th>\n",
       "      <th>1</th>\n",
       "    </tr>\n",
       "    <tr>\n",
       "      <th>True</th>\n",
       "      <th></th>\n",
       "      <th></th>\n",
       "    </tr>\n",
       "  </thead>\n",
       "  <tbody>\n",
       "    <tr>\n",
       "      <td>0</td>\n",
       "      <td>3652</td>\n",
       "      <td>111</td>\n",
       "    </tr>\n",
       "    <tr>\n",
       "      <td>1</td>\n",
       "      <td>278</td>\n",
       "      <td>185</td>\n",
       "    </tr>\n",
       "  </tbody>\n",
       "</table>\n",
       "</div>"
      ],
      "text/plain": [
       "Predicted_class     0    1\n",
       "True                      \n",
       "0                3652  111\n",
       "1                 278  185"
      ]
     },
     "execution_count": 106,
     "metadata": {},
     "output_type": "execute_result"
    }
   ],
   "source": [
    "pd.crosstab(test_df_lr['True'], test_df_lr['Predicted_class'])"
   ]
  },
  {
   "cell_type": "markdown",
   "metadata": {},
   "source": [
    "#### The ROC curve"
   ]
  },
  {
   "cell_type": "code",
   "execution_count": 107,
   "metadata": {
    "scrolled": false
   },
   "outputs": [
    {
     "data": {
      "image/png": "[encoded data removed]",
      "text/plain": [
       "<Figure size 864x432 with 1 Axes>"
      ]
     },
     "metadata": {},
     "output_type": "display_data"
    }
   ],
   "source": [
    "fpr_lr, tpr_lr, thresholds_lr = metrics.roc_curve(test_df_lr['True'], test_df_lr['Predicted_score'], pos_label=1)\n",
    "plt.figure(figsize=(12,6,))\n",
    "lw = 2\n",
    "plt.plot(fpr_lr, tpr_lr, color='darkorange',\n",
    "         lw=lw, label='LR ROC curve (area = %0.2f)' % roc_auc_lr)\n",
    "plt.plot(fpr, tpr, color='darkblue',\n",
    "         lw=lw, label='GNN ROC curve (area = %0.2f)' % roc_auc)\n",
    "plt.plot([0, 1], [0, 1], color='navy', lw=lw, linestyle='--')\n",
    "plt.xlim([0.0, 1.0])\n",
    "plt.ylim([0.0, 1.05])\n",
    "plt.xlabel('False Positive Rate', fontsize=18)\n",
    "plt.ylabel('True Positive Rate', fontsize=18)\n",
    "plt.title('Receiver operating characteristic curve', fontsize=18)\n",
    "plt.legend(loc=\"lower right\")\n",
    "plt.show()"
   ]
  },
  {
   "cell_type": "markdown",
   "metadata": {},
   "source": [
    "Let's have a closer look at the True Positive Rate for the GNN and Logistic Regression models at 2% False Positive Rate."
   ]
  },
  {
   "cell_type": "code",
   "execution_count": 283,
   "metadata": {},
   "outputs": [
    {
     "name": "stdout",
     "output_type": "stream",
     "text": [
      "At 2% FPR, GNN TPR=0.395, LR TPR=0.346\n"
     ]
    }
   ],
   "source": [
    "print(\"At 2% FPR, GNN TPR={:.3f}, LR TPR={:.3f}\".format(np.interp(0.02, fpr, tpr), \n",
    "                                                        np.interp(0.02, fpr_lr, tpr_lr)))"
   ]
  },
  {
   "cell_type": "markdown",
   "metadata": {
    "collapsed": true
   },
   "source": [
    "#### Comparison between LR and GNN"
   ]
  },
  {
   "cell_type": "markdown",
   "metadata": {
    "collapsed": true
   },
   "source": [
    "**Note:** This comparison is valid when comparing GraphSAGE with Logistic Regression using a specific split of the data. Using a different GNN algorithm will very likely produce different numerical results, although, the conclusion below still generally stands.\n",
    "\n",
    "Comparing the ROC curves between the two machine leanring methods, we see that adding the relatioship information in our machine learning model via the training of a GNN, improves overall performance.\n",
    "\n",
    "When classifying a user as hateful, it is important to minimise the number of false positives that is the number of normal users that are incorrectly classified as hateful. At the same time, we would like to classify as many hateful users as possible. We can achieve both of these goals by setting decision thresholds guided by the ROC curve. \n",
    "\n",
    "If we are willing to tolerate 2% false positive rate, then the GNN model achieves a true positive rate of >10% higher than the logistic regression model. That is we can correctly identify more hateful users for the same, low number, of misclassified users. "
   ]
  }
 ],
 "metadata": {
  "kernelspec": {
   "display_name": "Python 3",
   "language": "python",
   "name": "python3"
  },
  "language_info": {
   "codemirror_mode": {
    "name": "ipython",
    "version": 3
   },
   "file_extension": ".py",
   "mimetype": "text/x-python",
   "name": "python",
   "nbconvert_exporter": "python",
   "pygments_lexer": "ipython3",
   "version": "3.6.9"
  }
 },
 "nbformat": 4,
 "nbformat_minor": 2
}
