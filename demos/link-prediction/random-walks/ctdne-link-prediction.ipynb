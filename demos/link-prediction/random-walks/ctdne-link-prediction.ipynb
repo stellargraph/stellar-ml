{
 "cells": [
  {
   "cell_type": "markdown",
   "metadata": {},
   "source": [
    "# Continuous-Time Dynamic Network Embeddings\n",
    "\n",
    "Reference Paper: http://ryanrossi.com/pubs/nguyen-et-al-WWW18-BigNet.pdf\n",
    "\n",
    "This is a demo of StellarGraph's implementation of Continuous-Time Dynamic Network Embeddings. The steps outlined in this notebook show how time respecting random walks can be obtained from a graph containing time information on edges, and how these walks can be used to generate network embeddings for a link prediction task.\n",
    "\n",
    "We compare the embeddings learnt from temporal walks with non-temporal walks in this demo."
   ]
  },
  {
   "cell_type": "code",
   "execution_count": 1,
   "metadata": {},
   "outputs": [],
   "source": [
    "import numpy as np\n",
    "import pandas as pd\n",
    "import random\n",
    "import matplotlib.pyplot as plt\n",
    "from IPython.display import display, HTML\n",
    "from sklearn.manifold import TSNE\n",
    "from sklearn.model_selection import train_test_split\n",
    "from stellargraph import StellarGraph\n",
    "from stellargraph.datasets import IAEnronEmployees\n",
    "\n",
    "%matplotlib inline"
   ]
  },
  {
   "cell_type": "markdown",
   "metadata": {},
   "source": [
    "## Dataset\n",
    "\n",
    "The dataset used in this demo is called `enron-ia-employees`, available in Network Repository: http://networkrepository.com/ia-enron-employees.php"
   ]
  },
  {
   "cell_type": "code",
   "execution_count": 2,
   "metadata": {},
   "outputs": [
    {
     "data": {
      "text/html": [
       "A dataset of edges that represent emails sent from one employee to another.There are 50572 edges, and each of them contains timestamp information. Edges refer to 151 unique node IDs in total.Ryan A. Rossi and Nesreen K. Ahmed “The Network Data Repository with Interactive Graph Analytics and Visualization” (2015)"
      ],
      "text/plain": [
       "<IPython.core.display.HTML object>"
      ]
     },
     "metadata": {},
     "output_type": "display_data"
    }
   ],
   "source": [
    "dataset = IAEnronEmployees()\n",
    "display(HTML(dataset.description))\n",
    "\n",
    "full_graph, edges = dataset.load()"
   ]
  },
  {
   "cell_type": "markdown",
   "metadata": {},
   "source": [
    "## Split edges\n",
    "\n",
    "We want to split the edges into parts that can be used for our link prediction task:\n",
    "* the oldest edges are used to create the graph structure\n",
    "* the recent edges are what we are interested in predicting - we randomly split this part further into training and test sets."
   ]
  },
  {
   "cell_type": "code",
   "execution_count": 3,
   "metadata": {},
   "outputs": [
    {
     "name": "stdout",
     "output_type": "stream",
     "text": [
      "Number of edges in graph: 37929\n",
      "Number of edges in training set: 9482\n",
      "Number of edges in test set: 3161\n"
     ]
    }
   ],
   "source": [
    "# subset of edges to split\n",
    "train_subset = 0.25\n",
    "test_subset = 0.25\n",
    "\n",
    "# number of edges to be kept in the graph\n",
    "num_edges_graph = int(len(edges) * (1 - train_subset))\n",
    "\n",
    "# keep older edges in graph, and predict more recent edges\n",
    "edges_graph = edges[:num_edges_graph]\n",
    "edges_other = edges[num_edges_graph:]\n",
    "\n",
    "# split recent edges further to train and test sets\n",
    "edges_train, edges_test = train_test_split(edges_other, test_size=test_subset)\n",
    "\n",
    "print(\n",
    "    f\"Number of edges in graph: {len(edges_graph)}\\n\"\n",
    "    f\"Number of edges in training set: {len(edges_train)}\\n\"\n",
    "    f\"Number of edges in test set: {len(edges_test)}\"\n",
    ")"
   ]
  },
  {
   "cell_type": "markdown",
   "metadata": {},
   "source": [
    "## Create a StellarGraph\n",
    "\n",
    "Now we can use the edges we've reserved for the graph to create an instance of the StellarGraph class"
   ]
  },
  {
   "cell_type": "code",
   "execution_count": 4,
   "metadata": {},
   "outputs": [],
   "source": [
    "graph = StellarGraph(\n",
    "    nodes=pd.DataFrame(index=full_graph.nodes()),\n",
    "    edges=edges_graph,\n",
    "    edge_weight_column=\"time\",\n",
    ")"
   ]
  },
  {
   "cell_type": "markdown",
   "metadata": {},
   "source": [
    "## Create link examples for training and testing\n",
    "\n",
    "The edges that we've reserved for the train/test sets become examples of positive links. \n",
    "\n",
    "We also need to randomly generate some examples of negative links in order to train our classifier."
   ]
  },
  {
   "cell_type": "code",
   "execution_count": 5,
   "metadata": {},
   "outputs": [],
   "source": [
    "def positive_and_negative_links(g, edges):\n",
    "    pos = list(edges[[\"source\", \"target\"]].itertuples(index=False))\n",
    "    neg = sample_negative_examples(g, pos)\n",
    "    return pos, neg\n",
    "\n",
    "\n",
    "def sample_negative_examples(g, positive_examples):\n",
    "    positive_set = set(positive_examples)\n",
    "\n",
    "    def valid_neg_edge(src, tgt):\n",
    "        return (\n",
    "            # no self-loops\n",
    "            src != tgt\n",
    "            and\n",
    "            # neither direction of the edge should be a positive one\n",
    "            (src, tgt) not in positive_set\n",
    "            and (tgt, src) not in positive_set\n",
    "        )\n",
    "\n",
    "    possible_neg_edges = [\n",
    "        (src, tgt) for src in g.nodes() for tgt in g.nodes() if valid_neg_edge(src, tgt)\n",
    "    ]\n",
    "    return random.sample(possible_neg_edges, k=len(positive_examples))\n",
    "\n",
    "\n",
    "pos, neg = positive_and_negative_links(graph, edges_train)\n",
    "pos_test, neg_test = positive_and_negative_links(graph, edges_test)"
   ]
  },
  {
   "cell_type": "markdown",
   "metadata": {},
   "source": [
    "It's good to verify that the data structures we've created so far from the raw data look reasonable.\n",
    "\n",
    "`StellarGraph.info` is a useful method for inspecting the graph we've created, and we can also check that the number of link examples correspond to the train/test subset values we defined earlier.\n",
    "\n",
    "And we can also check that the number of link examples correspond to the train/test subset values we defined earlier."
   ]
  },
  {
   "cell_type": "code",
   "execution_count": 6,
   "metadata": {},
   "outputs": [
    {
     "name": "stdout",
     "output_type": "stream",
     "text": [
      "StellarGraph: Undirected multigraph\n",
      " Nodes: 151, Edges: 37929\n",
      "\n",
      " Node types:\n",
      "  default: [151]\n",
      "    Features: none\n",
      "    Edge types: default-default->default\n",
      "\n",
      " Edge types:\n",
      "    default-default->default: [37929]\n",
      "\n",
      "Training examples: 9482 positive links, 9482 negative links\n",
      "Test examples: 3161 positive links, 3161 negative links\n"
     ]
    }
   ],
   "source": [
    "print(graph.info())\n",
    "print()\n",
    "print(f\"Training examples: {len(pos)} positive links, {len(neg)} negative links\")\n",
    "print(f\"Test examples: {len(pos_test)} positive links, {len(neg_test)} negative links\")"
   ]
  },
  {
   "cell_type": "markdown",
   "metadata": {},
   "source": [
    "## Running random walks\n",
    "Define the random walk parameters we'd like to use:\n",
    "* `num_walks_per_node` - Number of random walks to perform per starting node.\n",
    "* `walk_length` - Length of each random walk. For temporal walks, this is the *maximum* length of a walk, since walks may end up being shorter when there are not enough time respecting edges to traverse.\n",
    "* `context_window_size` - Size of the context window used to train the Word2Vec model."
   ]
  },
  {
   "cell_type": "code",
   "execution_count": 7,
   "metadata": {
    "tags": [
     "parameters"
    ]
   },
   "outputs": [],
   "source": [
    "num_walks_per_node = 10\n",
    "walk_length = 80\n",
    "context_window_size = 10"
   ]
  },
  {
   "cell_type": "markdown",
   "metadata": {},
   "source": [
    "We try to keep the setup comparable between the use of temporal and biased (static) random walks. For temporal walks, the input parameter is defined in terms of the total number of context windows you are interested in obtaining, which differs from the traditional approach of specifying the number of walks to run per node in the graph. We calculate the number of context windows we need in terms of the traditional parameters as:"
   ]
  },
  {
   "cell_type": "code",
   "execution_count": 8,
   "metadata": {},
   "outputs": [],
   "source": [
    "num_cw = len(graph.nodes()) * num_walks_per_node * (walk_length - context_window_size + 1)"
   ]
  },
  {
   "cell_type": "markdown",
   "metadata": {},
   "source": [
    "We're now ready to do the walks"
   ]
  },
  {
   "cell_type": "code",
   "execution_count": 9,
   "metadata": {},
   "outputs": [
    {
     "name": "stdout",
     "output_type": "stream",
     "text": [
      "Number of temporal random walks: 1824\n"
     ]
    }
   ],
   "source": [
    "from stellargraph.data import TemporalRandomWalk\n",
    "\n",
    "temporal_rw = TemporalRandomWalk(graph)\n",
    "temporal_walks = temporal_rw.run(\n",
    "    num_cw=num_cw,\n",
    "    cw_size=context_window_size,\n",
    "    max_walk_length=walk_length,\n",
    "    initial_edge_bias=None,\n",
    "    walk_bias=\"exponential\",\n",
    "    p_walk_success_threshold=0.2,\n",
    ")\n",
    "\n",
    "print(\"Number of temporal random walks: {}\".format(len(temporal_walks)))"
   ]
  },
  {
   "cell_type": "code",
   "execution_count": 10,
   "metadata": {},
   "outputs": [
    {
     "name": "stdout",
     "output_type": "stream",
     "text": [
      "Number of static random walks: 1510\n"
     ]
    }
   ],
   "source": [
    "from stellargraph.data import BiasedRandomWalk\n",
    "\n",
    "static_rw = BiasedRandomWalk(graph)\n",
    "static_walks = static_rw.run(\n",
    "    nodes=graph.nodes(), n=num_walks_per_node, length=walk_length\n",
    ")\n",
    "\n",
    "print(\"Number of static random walks: {}\".format(len(static_walks)))"
   ]
  },
  {
   "cell_type": "markdown",
   "metadata": {},
   "source": [
    "Using the random walks obtained, we can train our Word2Vec models to generate node embeddings"
   ]
  },
  {
   "cell_type": "code",
   "execution_count": 11,
   "metadata": {},
   "outputs": [],
   "source": [
    "from gensim.models import Word2Vec\n",
    "\n",
    "embedding_size = 128\n",
    "temporal_model = Word2Vec(\n",
    "    temporal_walks,\n",
    "    size=embedding_size,\n",
    "    window=context_window_size,\n",
    "    min_count=0,\n",
    "    sg=1,\n",
    "    workers=2,\n",
    "    iter=1,\n",
    ")\n",
    "static_model = Word2Vec(\n",
    "    static_walks,\n",
    "    size=embedding_size,\n",
    "    window=context_window_size,\n",
    "    min_count=0,\n",
    "    sg=1,\n",
    "    workers=2,\n",
    "    iter=1,\n",
    ")"
   ]
  },
  {
   "cell_type": "markdown",
   "metadata": {},
   "source": [
    "For convenience, we can use the trained Word2Vec models to define helper functions that transform a node ID into a node embedding.\n",
    "\n",
    "NOTE: Temporal walks may not generate an embedding for every node in the graph; if there's no temporal walks that involve a particular node or they are all too short, the node won't appear in any context window. We handle this by using zeros as embeddings for such nodes to indicate that they are uninformative."
   ]
  },
  {
   "cell_type": "code",
   "execution_count": 12,
   "metadata": {},
   "outputs": [],
   "source": [
    "unseen_node_embedding = np.zeros(embedding_size)\n",
    "\n",
    "\n",
    "def temporal_embedding(u):\n",
    "    try:\n",
    "        return temporal_model.wv[u]\n",
    "    except KeyError:\n",
    "        return unseen_node_embedding\n",
    "\n",
    "\n",
    "def static_embedding(u):\n",
    "    return static_model.wv[u]"
   ]
  },
  {
   "cell_type": "markdown",
   "metadata": {},
   "source": [
    "## Node Embedding Visualisation\n",
    "\n",
    "For visualisation of embeddings, we'll first define a helper function that we can also use later to show the TSNE visualisation."
   ]
  },
  {
   "cell_type": "code",
   "execution_count": 13,
   "metadata": {},
   "outputs": [],
   "source": [
    "def plot_tsne(title, x, y=None):\n",
    "    tsne = TSNE(n_components=2)\n",
    "    x_t = tsne.fit_transform(x)\n",
    "\n",
    "    plt.figure(figsize=(7, 7))\n",
    "    plt.title(title)\n",
    "    alpha = 0.7 if y is None else 0.5\n",
    "\n",
    "    scatter = plt.scatter(x_t[:, 0], x_t[:, 1], c=y, cmap=\"jet\", alpha=alpha)\n",
    "    if y is not None:\n",
    "        plt.legend(*scatter.legend_elements(), loc=\"lower left\", title=\"Classes\")"
   ]
  },
  {
   "cell_type": "markdown",
   "metadata": {},
   "source": [
    "We can visualise the node embeddings to take a glance at how the temporal walks have resulted in groups of nodes being clustered together"
   ]
  },
  {
   "cell_type": "code",
   "execution_count": 14,
   "metadata": {},
   "outputs": [
    {
     "data": {
      "image/png": "[encoded data removed]",
      "text/plain": [
       "<Figure size 504x504 with 1 Axes>"
      ]
     },
     "metadata": {
      "needs_background": "light"
     },
     "output_type": "display_data"
    },
    {
     "data": {
      "image/png": "[encoded data removed]",
      "text/plain": [
       "<Figure size 504x504 with 1 Axes>"
      ]
     },
     "metadata": {
      "needs_background": "light"
     },
     "output_type": "display_data"
    }
   ],
   "source": [
    "temporal_node_embeddings = temporal_model.wv.vectors\n",
    "static_node_embeddings = static_model.wv.vectors\n",
    "plot_tsne(\"TSNE visualisation of temporal node embeddings\", temporal_node_embeddings)\n",
    "plot_tsne(\"TSNE visualisation of static node embeddings\", static_node_embeddings)"
   ]
  },
  {
   "cell_type": "markdown",
   "metadata": {},
   "source": [
    "## Link Prediction using Node Embeddings\n",
    "\n",
    "The node embeddings we've generated can now be used as input for a link prediction task. The reported AUC scores from the reference paper for this dataset are:\n",
    "\n",
    "* Node2Vec: 0.759 \n",
    "* CTDNE: 0.777\n",
    "\n",
    "It turns out both the Node2Vec and CTDNE in this notebook perform much better than the paper. We may not have exactly reproduced the conditions under which the paper was testing.\n",
    "\n",
    "Below are a set of helper functions we can use to train and evaluate a link prediction classifier. The rest of the notebook will use the binary operator defined in the cell below.\n",
    "\n",
    "Other commonly used binary operators are `hadamard`, `average`, and `L1` operators. Alternatively, other user defined function taking two node embeddings to produce a link embedding could be used, but may affect convergence of the classifier model."
   ]
  },
  {
   "cell_type": "code",
   "execution_count": 15,
   "metadata": {},
   "outputs": [],
   "source": [
    "def operator_l2(u, v):\n",
    "    return (u - v) ** 2\n",
    "\n",
    "\n",
    "binary_operator = operator_l2"
   ]
  },
  {
   "cell_type": "code",
   "execution_count": 16,
   "metadata": {},
   "outputs": [],
   "source": [
    "from sklearn.pipeline import Pipeline\n",
    "from sklearn.linear_model import LogisticRegressionCV\n",
    "from sklearn.metrics import roc_auc_score\n",
    "from sklearn.preprocessing import StandardScaler\n",
    "\n",
    "\n",
    "def link_examples_to_features(link_examples, transform_node):\n",
    "    op_func = (\n",
    "        operator_func[binary_operator]\n",
    "        if isinstance(binary_operator, str)\n",
    "        else binary_operator\n",
    "    )\n",
    "    return [\n",
    "        op_func(transform_node(src), transform_node(dst)) for src, dst in link_examples\n",
    "    ]\n",
    "\n",
    "\n",
    "def link_prediction_classifier(max_iter=2000):\n",
    "    lr_clf = LogisticRegressionCV(Cs=10, cv=10, scoring=\"roc_auc\", max_iter=max_iter)\n",
    "    return Pipeline(steps=[(\"sc\", StandardScaler()), (\"clf\", lr_clf)])\n",
    "\n",
    "\n",
    "def evaluate_roc_auc(clf, link_features, link_labels):\n",
    "    predicted = clf.predict_proba(link_features)\n",
    "\n",
    "    # check which class corresponds to positive links\n",
    "    positive_column = list(clf.classes_).index(1)\n",
    "    return roc_auc_score(link_labels, predicted[:, positive_column])"
   ]
  },
  {
   "cell_type": "markdown",
   "metadata": {},
   "source": [
    "We'll create some positive and negative examples to train our classifier on. The negative examples can be randomly generated from the available nodes in the graph."
   ]
  },
  {
   "cell_type": "code",
   "execution_count": 17,
   "metadata": {},
   "outputs": [],
   "source": [
    "def labelled_links(positive_examples, negative_examples):\n",
    "    return (\n",
    "        positive_examples + negative_examples,\n",
    "        np.repeat([1, 0], [len(positive_examples), len(negative_examples)]),\n",
    "    )\n",
    "\n",
    "\n",
    "link_examples, link_labels = labelled_links(pos, neg)\n",
    "link_examples_test, link_labels_test = labelled_links(pos_test, neg_test)"
   ]
  },
  {
   "cell_type": "markdown",
   "metadata": {},
   "source": [
    "#### Link prediction classifier using temporal embeddings"
   ]
  },
  {
   "cell_type": "code",
   "execution_count": 18,
   "metadata": {},
   "outputs": [
    {
     "name": "stdout",
     "output_type": "stream",
     "text": [
      "Score (ROC AUC): 0.96\n"
     ]
    }
   ],
   "source": [
    "temporal_clf = link_prediction_classifier()\n",
    "temporal_link_features = link_examples_to_features(link_examples, temporal_embedding)\n",
    "temporal_link_features_test = link_examples_to_features(\n",
    "    link_examples_test, temporal_embedding\n",
    ")\n",
    "temporal_clf.fit(temporal_link_features, link_labels)\n",
    "temporal_score = evaluate_roc_auc(\n",
    "    temporal_clf, temporal_link_features_test, link_labels_test\n",
    ")\n",
    "\n",
    "print(f\"Score (ROC AUC): {temporal_score:.2f}\")"
   ]
  },
  {
   "cell_type": "markdown",
   "metadata": {},
   "source": [
    "#### Link prediction classifier using static embeddings"
   ]
  },
  {
   "cell_type": "code",
   "execution_count": 19,
   "metadata": {},
   "outputs": [],
   "source": [
    "static_clf = link_prediction_classifier()\n",
    "static_link_features = link_examples_to_features(link_examples, static_embedding)\n",
    "static_link_features_test = link_examples_to_features(\n",
    "    link_examples_test, static_embedding\n",
    ")\n",
    "static_clf.fit(static_link_features, link_labels)\n",
    "static_score = evaluate_roc_auc(static_clf, static_link_features_test, link_labels_test)\n",
    "\n",
    "print(f\"Score (ROC AUC): {static_score:.2f}\")"
   ]
  },
  {
   "cell_type": "markdown",
   "metadata": {},
   "source": [
    "## Link Embedding Visualisation\n",
    "\n",
    "As with the nodes, we can visualise the embeddings for each link to see how the positive links (with class `1` ) are reasonably well clustered and similarly for the false links (with class `0` )."
   ]
  },
  {
   "cell_type": "code",
   "execution_count": 20,
   "metadata": {},
   "outputs": [],
   "source": [
    "plot_tsne(\"temporal link embeddings\", temporal_link_features_test, link_labels_test)\n",
    "plot_tsne(\"static link embeddings\", static_link_features_test, link_labels_test)"
   ]
  }
 ],
 "metadata": {
  "kernelspec": {
   "display_name": "Python 3",
   "language": "python",
   "name": "python3"
  },
  "language_info": {
   "codemirror_mode": {
    "name": "ipython",
    "version": 3
   },
   "file_extension": ".py",
   "mimetype": "text/x-python",
   "name": "python",
   "nbconvert_exporter": "python",
   "pygments_lexer": "ipython3",
   "version": "3.7.5"
  }
 },
 "nbformat": 4,
 "nbformat_minor": 4
}
