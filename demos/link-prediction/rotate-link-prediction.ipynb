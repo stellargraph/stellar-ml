{
 "cells": [
  {
   "cell_type": "markdown",
   "metadata": {},
   "source": [
    "# Knowledge graph link prediction with RotatE\n"
   ]
  },
  {
   "cell_type": "markdown",
   "metadata": {
    "nbsphinx": "hidden",
    "tags": [
     "CloudRunner"
    ]
   },
   "source": [
    "<table><tr><td>Run the latest release of this notebook:</td><td><a href=\"https://mybinder.org/v2/gh/stellargraph/stellargraph/master?urlpath=lab/tree/demos/link-prediction/complex-link-prediction.ipynb\" alt=\"Open In Binder\" target=\"_parent\"><img src=\"https://mybinder.org/badge_logo.svg\"/></a></td><td><a href=\"https://colab.research.google.com/github/stellargraph/stellargraph/blob/master/demos/link-prediction/complex-link-prediction.ipynb\" alt=\"Open In Colab\" target=\"_parent\"><img src=\"https://colab.research.google.com/assets/colab-badge.svg\"/></a></td></tr></table>"
   ]
  },
  {
   "cell_type": "markdown",
   "metadata": {},
   "source": [
    "This notebook reproduces the experiments done in the paper [1] that introduced the RotatE algorithm.\n",
    "\n",
    "[1]Z. Sun, Z.-H. Deng, J.-Y. Nie, and J. Tang, “RotatE: Knowledge Graph Embedding by Relational Rotation in Complex Space,” [arXiv:1902.10197](http://arxiv.org/abs/1902.10197), Feb. 2019.\n",
    "\n",
    "In table 5, the paper reports several metrics measured on the WN18RR and FB15K-237 datasets including mean rank (MR), mean reciprocal rank (MRR) and Hits at {1, 3, 10}. This notebook measures all of these metrics, as well as \"raw\" versions of each, for the WN18RR dataset.\n",
    "\n",
    "## Introduction\n",
    "\n",
    "The RotatE algorithm is designed for knowledge graphs. These graphs typically consist of a fixed number of nodes or entities, with a large number of edges or relations between them, consisting of many different edge types. All of the information in the graph is captured by the edges and their types. Knowledge graphs are often represented just by their edges, as \"triples\", consisting of the source ID, the edge type and the target ID.\n",
    "\n",
    "The RotatE algorithm learns to score these triples. For a fixed embedding dimension $k$, margin $\\gamma > 0$ and norm order $p$, the RotatE algorithm learns embedding vectors for the nodes and each edge type. The scoring function is:\n",
    "\n",
    "$$\n",
    "f(s, r, t) = \\gamma - \\| \\mathbf{e}_s \\circ \\mathbf{e}_r - \\mathbf{e}_t \\|_p\n",
    "$$\n",
    "\n",
    "where $\\mathbf{e}_x \\in \\mathbb{C}^k$ is the embedding vector for element $x$ and $\\circ$ represents the Hadamard (or, elementwise) product. The edge type embeddings are constrained to have $|\\mathbf{e}_r[i]| = 1$ for each index $i$, making them an elementwise rotation of the source embedding.\n",
    "\n",
    "For correct edges, the rotated source embedding and target embedding should be close together, giving a smaller distance and thus a higher score. For incorrect edges, the embeddings should be far apart, giving a larger distance and thus a lower score.\n",
    "\n",
    "The model is typically trained by negative sampling, where a small set of correct edges is augmented with a large set of incorrect edges, randomly sampled from the graph. This is done by randomly corrupting either the source or the target nodes of the correct edges."
   ]
  },
  {
   "cell_type": "code",
   "execution_count": 1,
   "metadata": {
    "nbsphinx": "hidden",
    "tags": [
     "CloudRunner"
    ]
   },
   "outputs": [],
   "source": [
    "# install StellarGraph if running on Google Colab\n",
    "import sys\n",
    "if 'google.colab' in sys.modules:\n",
    "  %pip install -q stellargraph[demos]==1.2.0b"
   ]
  },
  {
   "cell_type": "code",
   "execution_count": 2,
   "metadata": {
    "nbsphinx": "hidden",
    "tags": [
     "VersionCheck"
    ]
   },
   "outputs": [
    {
     "data": {
      "text/markdown": [
       "<div class=\"alert alert-block alert-danger\">This notebook is designed for an older StellarGraph version 1.2.0b and may not function correctly with the newer installed version 1.3.0b. Please see: <a href=\"https://github.com/stellargraph/stellargraph/issues/1172\">https://github.com/stellargraph/stellargraph/issues/1172</a>.</div>"
      ],
      "text/plain": [
       "<IPython.core.display.Markdown object>"
      ]
     },
     "metadata": {},
     "output_type": "display_data"
    },
    {
     "name": "stderr",
     "output_type": "stream",
     "text": [
      "/Users/wil9dw/.pyenv/versions/sg/lib/python3.6/site-packages/ipykernel/__main__.py:5: DeprecationWarning: This notebook is designed for an older StellarGraph version 1.2.0b and may not function correctly with the newer installed version 1.3.0b. Please see: <https://github.com/stellargraph/stellargraph/issues/1172>.\n"
     ]
    }
   ],
   "source": [
    "# verify that we're using the correct version of StellarGraph for this notebook\n",
    "import stellargraph as sg\n",
    "\n",
    "try:\n",
    "    sg.utils.validate_notebook_version(\"1.2.0b\")\n",
    "except AttributeError:\n",
    "    raise ValueError(\n",
    "        f\"This notebook requires StellarGraph version 1.2.0b, but a different version {sg.__version__} is installed.  Please see <https://github.com/stellargraph/stellargraph/issues/1172>.\"\n",
    "    ) from None"
   ]
  },
  {
   "cell_type": "code",
   "execution_count": 3,
   "metadata": {},
   "outputs": [],
   "source": [
    "import stellargraph as sg\n",
    "from stellargraph import datasets, utils\n",
    "from tensorflow.keras import callbacks, optimizers, losses, metrics, regularizers, Model\n",
    "import numpy as np\n",
    "import pandas as pd\n",
    "\n",
    "from stellargraph.mapper import KGTripleGenerator\n",
    "from stellargraph.layer import RotatE\n",
    "\n",
    "from IPython.display import HTML"
   ]
  },
  {
   "cell_type": "markdown",
   "metadata": {},
   "source": [
    "## Initialisation\n",
    "\n",
    "We need to set up our model parameters, like the number of epochs to train for, and the dimension of the embedding vectors we compute for each node and for each edge type.\n",
    "\n",
    "The evaluation is performed in three steps:\n",
    "\n",
    "1. Load the data\n",
    "2. Train a model\n",
    "3. Evaluate the model\n",
    "\n",
    "The [reference implementation](https://github.com/DeepGraphLearning/KnowledgeGraphEmbedding) uses values in the following ranges, depending on the dataset:\n",
    "\n",
    "- embedding dimension $k$: 500 or 1000\n",
    "- batch size: 512 or 1024\n",
    "- number of negative samples: 64 to 1024\n",
    "- margin $\\gamma$: 0.1 to 24\n",
    "- norm $p$: 2\n",
    "\n",
    "The best configuration for the WN18RR dataset specifically is as follows."
   ]
  },
  {
   "cell_type": "code",
   "execution_count": 4,
   "metadata": {
    "tags": [
     "parameters"
    ]
   },
   "outputs": [],
   "source": [
    "epochs = 50\n",
    "embedding_dimension = 500\n",
    "negative_samples = 16"
   ]
  },
  {
   "cell_type": "markdown",
   "metadata": {},
   "source": [
    "## WN18RR\n",
    "\n",
    "The paper uses the WN18RR and FB15k-237 datasets for validation. These datasets are improved versions of the WN18 and FB15k versions: those old versions contain \"inverse relations\", where `(s, r1, o)` implies `(o, r2, s)` for a pair of relation types `r1` and `r2` (for instance, `_hyponym` (\"is more specific than\") and `_hypernym` (\"is more general than\") in WN18).\n",
    "\n",
    "### Load the data\n",
    "\n",
    "The dataset comes with a defined train, test and validation split, each consisting of subject, relation, object triples. We can load a `StellarGraph` object with all of the triples, as well as the individual splits as Pandas DataFrames, using the `load` method of the `WN18` dataset."
   ]
  },
  {
   "cell_type": "markdown",
   "metadata": {
    "tags": [
     "DataLoadingLinks"
    ]
   },
   "source": [
    "(See [the \"Loading from Pandas\" demo](../basics/loading-pandas.ipynb) for details on how data can be loaded.)"
   ]
  },
  {
   "cell_type": "code",
   "execution_count": 5,
   "metadata": {
    "tags": [
     "DataLoading"
    ]
   },
   "outputs": [
    {
     "data": {
      "text/html": [
       "The WN18RR dataset consists of triplets from WordNet 3.0 (http://wordnet.princeton.edu). There are 40,943 synsets and 11 relation types among them. The training set contains 86835 triplets, the validation set 3034 and the test set 3134. It is a reduced version of WN18 where inverse relations have been removed.Tim Dettmers, Pasquale Minervini, Pontus Stenetorp and Sebastian Riedel “Convolutional 2D Knowledge Graph Embeddings” (2017)."
      ],
      "text/plain": [
       "<IPython.core.display.HTML object>"
      ]
     },
     "metadata": {},
     "output_type": "display_data"
    }
   ],
   "source": [
    "wn18rr = datasets.WN18RR()\n",
    "display(HTML(wn18rr.description))\n",
    "wn18rr_graph, wn18rr_train, wn18rr_test, wn18rr_valid = wn18rr.load()"
   ]
  },
  {
   "cell_type": "code",
   "execution_count": 6,
   "metadata": {},
   "outputs": [
    {
     "name": "stdout",
     "output_type": "stream",
     "text": [
      "StellarDiGraph: Directed multigraph\n",
      " Nodes: 40943, Edges: 93003\n",
      "\n",
      " Node types:\n",
      "  default: [40943]\n",
      "    Features: none\n",
      "    Edge types: default-_also_see->default, default-_derivationally_related_form->default, default-_has_part->default, default-_hypernym->default, default-_instance_hypernym->default, ... (6 more)\n",
      "\n",
      " Edge types:\n",
      "    default-_hypernym->default: [37221]\n",
      "        Weights: all 1 (default)\n",
      "        Features: none\n",
      "    default-_derivationally_related_form->default: [31867]\n",
      "        Weights: all 1 (default)\n",
      "        Features: none\n",
      "    default-_member_meronym->default: [7928]\n",
      "        Weights: all 1 (default)\n",
      "        Features: none\n",
      "    default-_has_part->default: [5142]\n",
      "        Weights: all 1 (default)\n",
      "        Features: none\n",
      "    default-_synset_domain_topic_of->default: [3335]\n",
      "        Weights: all 1 (default)\n",
      "        Features: none\n",
      "    default-_instance_hypernym->default: [3150]\n",
      "        Weights: all 1 (default)\n",
      "        Features: none\n",
      "    default-_also_see->default: [1396]\n",
      "        Weights: all 1 (default)\n",
      "        Features: none\n",
      "    default-_verb_group->default: [1220]\n",
      "        Weights: all 1 (default)\n",
      "        Features: none\n",
      "    default-_member_of_domain_region->default: [983]\n",
      "        Weights: all 1 (default)\n",
      "        Features: none\n",
      "    default-_member_of_domain_usage->default: [675]\n",
      "        Weights: all 1 (default)\n",
      "        Features: none\n",
      "    default-_similar_to->default: [86]\n",
      "        Weights: all 1 (default)\n",
      "        Features: none\n"
     ]
    }
   ],
   "source": [
    "print(wn18rr_graph.info())"
   ]
  },
  {
   "cell_type": "markdown",
   "metadata": {},
   "source": [
    "### Train a model\n",
    "\n",
    "The RotatE algorithm consists of some embedding layers and a scoring layer, but the `RotatE` object means these details are invisible to us. The `RotatE` model consumes \"knowledge-graph triples\", which can be produced in the appropriate format using `KGTripleGenerator`."
   ]
  },
  {
   "cell_type": "code",
   "execution_count": 15,
   "metadata": {},
   "outputs": [
    {
     "name": "stderr",
     "output_type": "stream",
     "text": [
      "/Users/wil9dw/.pyenv/versions/sg/lib/python3.6/site-packages/ipykernel/__main__.py:6: ExperimentalWarning: RotatE is experimental: demo and documentation is missing (see: https://github.com/stellargraph/stellargraph/issues/1549, https://github.com/stellargraph/stellargraph/issues/1550). It may be difficult to use and may have major changes at any time.\n"
     ]
    }
   ],
   "source": [
    "wn18rr_gen = KGTripleGenerator(wn18rr_graph, batch_size=512)\n",
    "\n",
    "wn18rr_rotate = RotatE(\n",
    "    wn18rr_gen,\n",
    "    embedding_dimension=embedding_dimension,\n",
    "    margin=6,\n",
    ")\n",
    "\n",
    "wn18rr_inp, wn18rr_out = wn18rr_rotate.in_out_tensors()\n",
    "\n",
    "wn18rr_model = Model(inputs=wn18rr_inp, outputs=wn18rr_out)\n",
    "\n",
    "wn18rr_model.compile(\n",
    "    optimizer=optimizers.Adam(lr=0.01),\n",
    "    loss=sg.losses.SelfAdversarialNegativeSampling(temperature=0.5),\n",
    ")"
   ]
  },
  {
   "cell_type": "markdown",
   "metadata": {},
   "source": [
    "Inputs for training are produced by calling the `KGTripleGenerator.flow` method, this takes a dataframe with `source`, `label` and `target` columns, where each row is a true edge in the knowledge graph.  The `negative_samples` parameter controls how many random edges are created for each positive edge to use as negative examples for training."
   ]
  },
  {
   "cell_type": "code",
   "execution_count": 16,
   "metadata": {},
   "outputs": [],
   "source": [
    "wn18rr_train_gen = wn18rr_gen.flow(\n",
    "    wn18rr_train, negative_samples=negative_samples, sample_strategy=\"self-adversarial\", shuffle=True\n",
    ")\n",
    "wn18rr_valid_gen = wn18rr_gen.flow(wn18rr_valid, negative_samples=negative_samples, sample_strategy=\"self-adversarial\")"
   ]
  },
  {
   "cell_type": "code",
   "execution_count": 17,
   "metadata": {},
   "outputs": [
    {
     "name": "stdout",
     "output_type": "stream",
     "text": [
      "Epoch 1/50\n",
      "170/170 [==============================] - 76s 448ms/step - loss: 0.1276 - val_loss: 0.0774\n",
      "Epoch 2/50\n",
      "170/170 [==============================] - 76s 450ms/step - loss: 0.0621 - val_loss: 0.0694\n",
      "Epoch 3/50\n",
      "170/170 [==============================] - 79s 463ms/step - loss: 0.0374 - val_loss: 0.0718\n",
      "Epoch 4/50\n",
      "170/170 [==============================] - 81s 475ms/step - loss: 0.0268 - val_loss: 0.0748\n",
      "Epoch 5/50\n",
      "170/170 [==============================] - 81s 474ms/step - loss: 0.0207 - val_loss: 0.0773\n",
      "Epoch 6/50\n",
      "170/170 [==============================] - 80s 472ms/step - loss: 0.0169 - val_loss: 0.0789\n",
      "Epoch 7/50\n",
      "170/170 [==============================] - 83s 486ms/step - loss: 0.0144 - val_loss: 0.0799\n",
      "Epoch 8/50\n",
      "170/170 [==============================] - 83s 487ms/step - loss: 0.0127 - val_loss: 0.0803\n",
      "Epoch 9/50\n",
      "170/170 [==============================] - 81s 479ms/step - loss: 0.0114 - val_loss: 0.0805\n",
      "Epoch 10/50\n",
      "170/170 [==============================] - 80s 469ms/step - loss: 0.0105 - val_loss: 0.0803\n",
      "Epoch 11/50\n",
      "170/170 [==============================] - 80s 468ms/step - loss: 0.0097 - val_loss: 0.0803\n",
      "Epoch 12/50\n",
      "170/170 [==============================] - 80s 470ms/step - loss: 0.0091 - val_loss: 0.0802\n"
     ]
    }
   ],
   "source": [
    "wn18rr_es = callbacks.EarlyStopping(monitor=\"val_loss\", patience=10)\n",
    "wn18rr_history = wn18rr_model.fit(\n",
    "    wn18rr_train_gen, validation_data=wn18rr_valid_gen, epochs=epochs, callbacks=[wn18rr_es]\n",
    ")"
   ]
  },
  {
   "cell_type": "code",
   "execution_count": 18,
   "metadata": {},
   "outputs": [
    {
     "data": {
      "image/png": "[encoded data removed]",
      "text/plain": [
       "<Figure size 504x288 with 1 Axes>"
      ]
     },
     "metadata": {
      "needs_background": "light"
     },
     "output_type": "display_data"
    }
   ],
   "source": [
    "utils.plot_history(wn18rr_history)"
   ]
  },
  {
   "cell_type": "markdown",
   "metadata": {},
   "source": [
    "### Evaluate the model\n",
    "\n",
    "We've now trained a model, so we can apply the evaluation procedure from the paper to it. This is done by taking each test edge `E = (s, r, o)`, and scoring it against all mutations `(s, r, n)` and `(n, r, o)` for every node `n` in the graph, that is, doing a prediction for every one of these edges similar to `E`. The \"raw\" rank is the number of mutated edges that have a higher predicted score than the true `E`."
   ]
  },
  {
   "cell_type": "code",
   "execution_count": 19,
   "metadata": {},
   "outputs": [],
   "source": [
    "wn18rr_smaller_gen = KGTripleGenerator(wn18rr_graph, batch_size=64)\n",
    "\n",
    "wn18rr_raw_ranks, wn18rr_filtered_ranks = wn18rr_rotate.rank_edges_against_all_nodes(\n",
    "    wn18rr_smaller_gen.flow(wn18rr_test), wn18rr_graph\n",
    ")"
   ]
  },
  {
   "cell_type": "code",
   "execution_count": 20,
   "metadata": {},
   "outputs": [],
   "source": [
    "# helper function to compute metrics from a dictionary of name -> array of ranks\n",
    "def results_as_dataframe(name_to_results):\n",
    "    return pd.DataFrame(\n",
    "        name_to_results.values(),\n",
    "        columns=[\"MR\", \"MRR\", \"hits at 1\", \"hits at 3\", \"hits at 10\"],\n",
    "        index=name_to_results.keys(),\n",
    "    )\n",
    "\n",
    "\n",
    "def summarise(name_to_ranks):\n",
    "    return results_as_dataframe(\n",
    "        {\n",
    "            name: (\n",
    "                np.mean(ranks),\n",
    "                np.mean(1 / ranks),\n",
    "                np.mean(ranks <= 1),\n",
    "                np.mean(ranks < 3),\n",
    "                np.mean(ranks <= 10),\n",
    "            )\n",
    "            for name, ranks in name_to_ranks.items()\n",
    "        }\n",
    "    )"
   ]
  },
  {
   "cell_type": "code",
   "execution_count": 21,
   "metadata": {},
   "outputs": [
    {
     "data": {
      "text/html": [
       "<div>\n",
       "<style scoped>\n",
       "    .dataframe tbody tr th:only-of-type {\n",
       "        vertical-align: middle;\n",
       "    }\n",
       "\n",
       "    .dataframe tbody tr th {\n",
       "        vertical-align: top;\n",
       "    }\n",
       "\n",
       "    .dataframe thead th {\n",
       "        text-align: right;\n",
       "    }\n",
       "</style>\n",
       "<table border=\"1\" class=\"dataframe\">\n",
       "  <thead>\n",
       "    <tr style=\"text-align: right;\">\n",
       "      <th></th>\n",
       "      <th>MR</th>\n",
       "      <th>MRR</th>\n",
       "      <th>hits at 1</th>\n",
       "      <th>hits at 3</th>\n",
       "      <th>hits at 10</th>\n",
       "    </tr>\n",
       "  </thead>\n",
       "  <tbody>\n",
       "    <tr>\n",
       "      <th>raw</th>\n",
       "      <td>4602.560785</td>\n",
       "      <td>0.118231</td>\n",
       "      <td>0.000160</td>\n",
       "      <td>0.080249</td>\n",
       "      <td>0.383535</td>\n",
       "    </tr>\n",
       "    <tr>\n",
       "      <th>filtered</th>\n",
       "      <td>4588.452616</td>\n",
       "      <td>0.146406</td>\n",
       "      <td>0.000319</td>\n",
       "      <td>0.149649</td>\n",
       "      <td>0.411136</td>\n",
       "    </tr>\n",
       "  </tbody>\n",
       "</table>\n",
       "</div>"
      ],
      "text/plain": [
       "                   MR       MRR  hits at 1  hits at 3  hits at 10\n",
       "raw       4602.560785  0.118231   0.000160   0.080249    0.383535\n",
       "filtered  4588.452616  0.146406   0.000319   0.149649    0.411136"
      ]
     },
     "execution_count": 21,
     "metadata": {},
     "output_type": "execute_result"
    }
   ],
   "source": [
    "summarise({\"raw\": wn18rr_raw_ranks, \"filtered\": wn18rr_filtered_ranks})"
   ]
  },
  {
   "cell_type": "markdown",
   "metadata": {},
   "source": [
    "For comparison, Table 5 in the paper gives the following results for WN18RR. All of the numbers are similar:"
   ]
  },
  {
   "cell_type": "code",
   "execution_count": 22,
   "metadata": {},
   "outputs": [
    {
     "data": {
      "text/html": [
       "<div>\n",
       "<style scoped>\n",
       "    .dataframe tbody tr th:only-of-type {\n",
       "        vertical-align: middle;\n",
       "    }\n",
       "\n",
       "    .dataframe tbody tr th {\n",
       "        vertical-align: top;\n",
       "    }\n",
       "\n",
       "    .dataframe thead th {\n",
       "        text-align: right;\n",
       "    }\n",
       "</style>\n",
       "<table border=\"1\" class=\"dataframe\">\n",
       "  <thead>\n",
       "    <tr style=\"text-align: right;\">\n",
       "      <th></th>\n",
       "      <th>MR</th>\n",
       "      <th>MRR</th>\n",
       "      <th>hits at 1</th>\n",
       "      <th>hits at 3</th>\n",
       "      <th>hits at 10</th>\n",
       "    </tr>\n",
       "  </thead>\n",
       "  <tbody>\n",
       "    <tr>\n",
       "      <th>filtered</th>\n",
       "      <td>3340</td>\n",
       "      <td>0.476</td>\n",
       "      <td>0.428</td>\n",
       "      <td>0.492</td>\n",
       "      <td>0.571</td>\n",
       "    </tr>\n",
       "  </tbody>\n",
       "</table>\n",
       "</div>"
      ],
      "text/plain": [
       "            MR    MRR  hits at 1  hits at 3  hits at 10\n",
       "filtered  3340  0.476      0.428      0.492       0.571"
      ]
     },
     "execution_count": 22,
     "metadata": {},
     "output_type": "execute_result"
    }
   ],
   "source": [
    "results_as_dataframe(\n",
    "    {\"filtered\": (3340, 0.476, 0.428, 0.492, 0.571)}\n",
    ")"
   ]
  },
  {
   "cell_type": "markdown",
   "metadata": {},
   "source": [
    "## FB15k-237\n",
    "\n",
    "Now that we know the process, we can apply the model on the FB15k-237 dataset in the same way.\n",
    "\n",
    "### Loading the data"
   ]
  },
  {
   "cell_type": "code",
   "execution_count": null,
   "metadata": {
    "tags": [
     "DataLoading"
    ]
   },
   "outputs": [],
   "source": [
    "fb15k237 = datasets.FB15k_237()\n",
    "display(HTML(fb15k237.description))\n",
    "fb15k237_graph, fb15k237_train, fb15k237_test, fb15k237_valid = fb15k237.load()"
   ]
  },
  {
   "cell_type": "code",
   "execution_count": null,
   "metadata": {},
   "outputs": [],
   "source": [
    "print(fb15k237_graph.info())"
   ]
  },
  {
   "cell_type": "markdown",
   "metadata": {},
   "source": [
    "### Train a model"
   ]
  },
  {
   "cell_type": "code",
   "execution_count": null,
   "metadata": {},
   "outputs": [],
   "source": [
    "fb15k237_gen = KGTripleGenerator(\n",
    "    fb15k237_graph, batch_size=1024  # ~100 batches per epoch\n",
    ")\n",
    "\n",
    "fb15k237_rotate = RotatE(\n",
    "    fb15k237_gen,\n",
    "    embedding_dimension=embedding_dimension,\n",
    "    margin=9,\n",
    ")\n",
    "\n",
    "fb15k237_inp, fb15k237_out = fb15k237_rotate.in_out_tensors()\n",
    "\n",
    "fb15k237_model = Model(inputs=fb15k237_inp, outputs=fb15k237_out)\n",
    "fb15k237_model.compile(\n",
    "    optimizer=optimizers.Adam(lr=0.001),\n",
    "    loss=losses.BinaryCrossentropy(from_logits=True),\n",
    "    metrics=[metrics.BinaryAccuracy(threshold=0.0)],\n",
    ")"
   ]
  },
  {
   "cell_type": "code",
   "execution_count": null,
   "metadata": {},
   "outputs": [],
   "source": [
    "fb15k237_train_gen = fb15k237_gen.flow(\n",
    "    fb15k237_train, negative_samples=negative_samples, shuffle=True\n",
    ")\n",
    "fb15k237_valid_gen = fb15k237_gen.flow(fb15k237_valid, negative_samples=negative_samples)"
   ]
  },
  {
   "cell_type": "code",
   "execution_count": null,
   "metadata": {},
   "outputs": [],
   "source": [
    "fb15k237_es = callbacks.EarlyStopping(monitor=\"val_loss\", patience=10)\n",
    "fb15k237_history = fb15k237_model.fit(\n",
    "    fb15k237_train_gen, validation_data=fb15k237_valid_gen, epochs=20, callbacks=[fb15k237_es]\n",
    ")"
   ]
  },
  {
   "cell_type": "code",
   "execution_count": null,
   "metadata": {},
   "outputs": [],
   "source": [
    "utils.plot_history(fb15k237_history)"
   ]
  },
  {
   "cell_type": "markdown",
   "metadata": {},
   "source": [
    "### Evaluate the model"
   ]
  },
  {
   "cell_type": "code",
   "execution_count": null,
   "metadata": {},
   "outputs": [],
   "source": [
    "fb15k237_smaller_gen = KGTripleGenerator(fb15k237_graph, batch_size=128)\n",
    "\n",
    "fb15k237_raw_ranks, fb15k237_filtered_ranks = fb15k237_rotate.rank_edges_against_all_nodes(\n",
    "    fb15k237_smaller_gen.flow(fb15k237_test), fb15k237_graph\n",
    ")"
   ]
  },
  {
   "cell_type": "code",
   "execution_count": null,
   "metadata": {},
   "outputs": [],
   "source": [
    "summarise({\"raw\": fb15k237_raw_ranks, \"filtered\": fb15k237_filtered_ranks})"
   ]
  },
  {
   "cell_type": "markdown",
   "metadata": {},
   "source": [
    "For comparison, Table 5 in the paper gives the following results for FB15k-237:"
   ]
  },
  {
   "cell_type": "code",
   "execution_count": null,
   "metadata": {},
   "outputs": [],
   "source": [
    "results_as_dataframe(\n",
    "    {\"filtered\": (177, 0.338, 0.241, 0.375, 0.533)}\n",
    ")"
   ]
  },
  {
   "cell_type": "markdown",
   "metadata": {
    "nbsphinx": "hidden",
    "tags": [
     "CloudRunner"
    ]
   },
   "source": [
    "<table><tr><td>Run the latest release of this notebook:</td><td><a href=\"https://mybinder.org/v2/gh/stellargraph/stellargraph/master?urlpath=lab/tree/demos/link-prediction/complex-link-prediction.ipynb\" alt=\"Open In Binder\" target=\"_parent\"><img src=\"https://mybinder.org/badge_logo.svg\"/></a></td><td><a href=\"https://colab.research.google.com/github/stellargraph/stellargraph/blob/master/demos/link-prediction/complex-link-prediction.ipynb\" alt=\"Open In Colab\" target=\"_parent\"><img src=\"https://colab.research.google.com/assets/colab-badge.svg\"/></a></td></tr></table>"
   ]
  }
 ],
 "metadata": {
  "kernelspec": {
   "display_name": "sg",
   "language": "python",
   "name": "sg"
  },
  "language_info": {
   "codemirror_mode": {
    "name": "ipython",
    "version": 3
   },
   "file_extension": ".py",
   "mimetype": "text/x-python",
   "name": "python",
   "nbconvert_exporter": "python",
   "pygments_lexer": "ipython3",
   "version": "3.6.9"
  }
 },
 "nbformat": 4,
 "nbformat_minor": 4
}
