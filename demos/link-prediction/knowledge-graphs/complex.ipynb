{
 "cells": [
  {
   "cell_type": "markdown",
   "metadata": {},
   "source": [
    "# ComplEx on WN18 and FB15K\n",
    "\n",
    "This notebook reproduces the experiments done in the paper that introduced the ComplEx algorith: Complex Embeddings for Simple Link Prediction, Théo Trouillon, Johannes Welbl, Sebastian Riedel, Éric Gaussier and Guillaume Bouchard, ICML 2016. http://jmlr.org/proceedings/papers/v48/trouillon16.pdf\n",
    "\n",
    "In table 2, the paper reports five metrics measured on the WN18 and FB15K datasets: \"raw\" MRR (mean reciprocal rank), \"filtered\" MRR and filtered Hits at {1, 3, 10}. This notebook measures only the \"raw\" metrics, because the filtered ones are currently more difficult to compute."
   ]
  },
  {
   "cell_type": "code",
   "execution_count": 1,
   "metadata": {},
   "outputs": [],
   "source": [
    "from stellargraph import datasets, utils\n",
    "from tensorflow.keras import callbacks, optimizers, losses, metrics, regularizers, Model\n",
    "import numpy as np\n",
    "import pandas as pd\n",
    "\n",
    "from stellargraph.mapper import KGTripleGenerator\n",
    "from stellargraph.layer import ComplEx\n",
    "\n",
    "from IPython.display import HTML"
   ]
  },
  {
   "cell_type": "markdown",
   "metadata": {},
   "source": [
    "## Initialisation\n",
    "\n",
    "We need to set up our model parameters, like the number of epochs to train for, and the dimension of the embedding vectors we compute for each node and for each edge type. We'll also define a function to do our evaluation, so we can easily apply it to both WN18 and FB15k.\n",
    "\n",
    "The evaluation is performed in three steps:\n",
    "\n",
    "1. Load the data\n",
    "2. Train a model\n",
    "3. Evaluate the model\n",
    "\n",
    "The paper describes using the AdaGrad optimiser for 1000 epochs with an early stopping criterion evaluated every 50 epochs. We've found using the Adam optimiser allows for much fewer epochs. The paper says that the best choices of embedding dimension are generally 150 or 200, with close results. The paper evaluated using 1, 2, 5 and 10 negative samples, and found that using 10 improved performance on FB15k noticably (comparing to 1), but did not make much difference on WN18."
   ]
  },
  {
   "cell_type": "code",
   "execution_count": 2,
   "metadata": {
    "tags": [
     "parameters"
    ]
   },
   "outputs": [],
   "source": [
    "epochs = 50\n",
    "embedding_dimension = 150\n",
    "negative_samples = 10"
   ]
  },
  {
   "cell_type": "markdown",
   "metadata": {},
   "source": [
    "## WN18\n",
    "\n",
    "The paper uses the WN18 and FB15k datasets for validation. These datasets are not good for evaluating algorithms because they contain \"inverse relations\", where `(s, r1, o)` implies `(o, r2, s)` for a pair of relation types `r1` and `r2` (for instance, `_hyponym` (\"is more specific than\") and `_hypernym` (\"is more general than\") in WN18), however, they work fine to demonstrate StellarGraph's functionality, and are appropriate to compare against the published results.\n",
    "\n",
    "### Load the data\n",
    "\n",
    "The dataset comes with a defined train, test and validation split, each consisting of subject, relation, object triples. We can load a `StellarGraph` object with all of the triples, as well as the individual splits as Pandas DataFrames, using the `load` method of the `WN18` dataset."
   ]
  },
  {
   "cell_type": "code",
   "execution_count": 3,
   "metadata": {},
   "outputs": [
    {
     "data": {
      "text/html": [
       "The WN18 dataset consists of triplets from WordNet 3.0 (http://wordnet.princeton.edu). There are 40,943 synsets and 18 relation types among them. The training set contains 141442 triplets, the validation set 5000 and the test set 5000. Antoine Bordes, Xavier Glorot, Jason Weston and Yoshua Bengio “A Semantic Matching Energy Function for Learning with Multi-relational Data” (2014).\n",
       "\n",
       "Note: this dataset contains many inverse relations, and so should only be used to compare against published results. Prefer WN18RR. See: Kristina Toutanova and Danqi Chen “Observed versus latent features for knowledge base and text inference” (2015), and Dettmers, Tim, Pasquale Minervini, Pontus Stenetorp and Sebastian Riedel “Convolutional 2D Knowledge Graph Embeddings” (2017)."
      ],
      "text/plain": [
       "<IPython.core.display.HTML object>"
      ]
     },
     "metadata": {},
     "output_type": "display_data"
    }
   ],
   "source": [
    "wn18 = datasets.WN18()\n",
    "display(HTML(wn18.description))\n",
    "wn18_graph, wn18_train, wn18_test, wn18_valid = wn18.load()"
   ]
  },
  {
   "cell_type": "code",
   "execution_count": 4,
   "metadata": {},
   "outputs": [
    {
     "name": "stdout",
     "output_type": "stream",
     "text": [
      "StellarDiGraph: Directed multigraph\n",
      " Nodes: 40943, Edges: 151442\n",
      "\n",
      " Node types:\n",
      "  default: [40943]\n",
      "    Features: none\n",
      "    Edge types: default-_also_see->default, default-_derivationally_related_form->default, default-_has_part->default, default-_hypernym->default, default-_hyponym->default, ... (13 more)\n",
      "\n",
      " Edge types:\n",
      "    default-_hyponym->default: [37221]\n",
      "    default-_hypernym->default: [37221]\n",
      "    default-_derivationally_related_form->default: [31867]\n",
      "    default-_member_meronym->default: [7928]\n",
      "    default-_member_holonym->default: [7928]\n",
      "    default-_part_of->default: [5148]\n",
      "    default-_has_part->default: [5142]\n",
      "    default-_member_of_domain_topic->default: [3341]\n",
      "    default-_synset_domain_topic_of->default: [3335]\n",
      "    default-_instance_hyponym->default: [3150]\n",
      "    default-_instance_hypernym->default: [3150]\n",
      "    default-_also_see->default: [1396]\n",
      "    default-_verb_group->default: [1220]\n",
      "    default-_member_of_domain_region->default: [983]\n",
      "    default-_synset_domain_region_of->default: [982]\n",
      "    default-_member_of_domain_usage->default: [675]\n",
      "    default-_synset_domain_usage_of->default: [669]\n",
      "    default-_similar_to->default: [86]\n"
     ]
    }
   ],
   "source": [
    "print(wn18_graph.info())"
   ]
  },
  {
   "cell_type": "markdown",
   "metadata": {},
   "source": [
    "### Train a model\n",
    "\n",
    "The ComplEx algorithm consists of some embedding layers and a scoring layer, but the `ComplEx` object means these details are invisible to us. The `ComplEx` model consumes \"knowledge-graph triples\", which can be produced in the appropriate format using `KGTripleGenerator`."
   ]
  },
  {
   "cell_type": "code",
   "execution_count": 5,
   "metadata": {},
   "outputs": [],
   "source": [
    "wn18_gen = KGTripleGenerator(\n",
    "    wn18_graph, batch_size=len(wn18_train) // 100  # ~100 batches per epoch\n",
    ")\n",
    "\n",
    "wn18_complex = ComplEx(\n",
    "    wn18_gen, k=embedding_dimension, embeddings_regularizer=regularizers.l2(1e-7)\n",
    ")\n",
    "\n",
    "wn18_inp, wn18_out = wn18_complex.build()\n",
    "\n",
    "wn18_model = Model(inputs=wn18_inp, outputs=wn18_out)\n",
    "\n",
    "wn18_model.compile(\n",
    "    optimizer=optimizers.Adam(lr=0.001),\n",
    "    loss=losses.BinaryCrossentropy(from_logits=True),\n",
    "    metrics=[metrics.BinaryAccuracy(threshold=0.0)],\n",
    ")"
   ]
  },
  {
   "cell_type": "markdown",
   "metadata": {},
   "source": [
    "Inputs for training are produced by calling the `KGTripleGenerator.flow` method, this takes a dataframe with `source`, `label` and `target` columns, where each row is a true edge in the knowledge graph.  The `negative_samples` parameter controls how many random edges are created for each positive edge to use as negative examples for training."
   ]
  },
  {
   "cell_type": "code",
   "execution_count": 6,
   "metadata": {},
   "outputs": [],
   "source": [
    "wn18_train_gen = wn18_gen.flow(\n",
    "    wn18_train, negative_samples=negative_samples, shuffle=True\n",
    ")\n",
    "wn18_valid_gen = wn18_gen.flow(wn18_valid, negative_samples=negative_samples)"
   ]
  },
  {
   "cell_type": "code",
   "execution_count": 7,
   "metadata": {},
   "outputs": [
    {
     "name": "stdout",
     "output_type": "stream",
     "text": [
      "Train for 101 steps, validate for 4 steps\n",
      "Epoch 1/50\n",
      "101/101 [==============================] - 20s 195ms/step - loss: 0.6961 - binary_accuracy: 0.5004 - val_loss: 0.6960 - val_binary_accuracy: 0.4978\n",
      "Epoch 2/50\n",
      "101/101 [==============================] - 20s 197ms/step - loss: 0.6958 - binary_accuracy: 0.5056 - val_loss: 0.6957 - val_binary_accuracy: 0.4996\n",
      "Epoch 3/50\n",
      "101/101 [==============================] - 20s 194ms/step - loss: 0.6955 - binary_accuracy: 0.5150 - val_loss: 0.6954 - val_binary_accuracy: 0.5066\n",
      "Epoch 4/50\n",
      "101/101 [==============================] - 22s 217ms/step - loss: 0.6951 - binary_accuracy: 0.5267 - val_loss: 0.6951 - val_binary_accuracy: 0.5129\n",
      "Epoch 5/50\n",
      "101/101 [==============================] - 19s 187ms/step - loss: 0.6947 - binary_accuracy: 0.5405 - val_loss: 0.6947 - val_binary_accuracy: 0.5315\n",
      "Epoch 6/50\n",
      "101/101 [==============================] - 19s 190ms/step - loss: 0.6939 - binary_accuracy: 0.5927 - val_loss: 0.6927 - val_binary_accuracy: 0.6891\n",
      "Epoch 7/50\n",
      "101/101 [==============================] - 17s 173ms/step - loss: 0.6782 - binary_accuracy: 0.8742 - val_loss: 0.6457 - val_binary_accuracy: 0.9091\n",
      "Epoch 8/50\n",
      "101/101 [==============================] - 17s 171ms/step - loss: 0.5525 - binary_accuracy: 0.9091 - val_loss: 0.4497 - val_binary_accuracy: 0.9091\n",
      "Epoch 9/50\n",
      "101/101 [==============================] - 18s 177ms/step - loss: 0.3657 - binary_accuracy: 0.9102 - val_loss: 0.3202 - val_binary_accuracy: 0.9100\n",
      "Epoch 10/50\n",
      "101/101 [==============================] - 19s 185ms/step - loss: 0.2728 - binary_accuracy: 0.9171 - val_loss: 0.2650 - val_binary_accuracy: 0.9162\n",
      "Epoch 11/50\n",
      "101/101 [==============================] - 17s 165ms/step - loss: 0.2065 - binary_accuracy: 0.9321 - val_loss: 0.2155 - val_binary_accuracy: 0.9269\n",
      "Epoch 12/50\n",
      "101/101 [==============================] - 17s 165ms/step - loss: 0.1468 - binary_accuracy: 0.9581 - val_loss: 0.1701 - val_binary_accuracy: 0.9446\n",
      "Epoch 13/50\n",
      "101/101 [==============================] - 16s 162ms/step - loss: 0.1040 - binary_accuracy: 0.9796 - val_loss: 0.1343 - val_binary_accuracy: 0.9621\n",
      "Epoch 14/50\n",
      "101/101 [==============================] - 17s 173ms/step - loss: 0.0780 - binary_accuracy: 0.9909 - val_loss: 0.1104 - val_binary_accuracy: 0.9759\n",
      "Epoch 15/50\n",
      "101/101 [==============================] - 17s 165ms/step - loss: 0.0635 - binary_accuracy: 0.9958 - val_loss: 0.0948 - val_binary_accuracy: 0.9848\n",
      "Epoch 16/50\n",
      "101/101 [==============================] - 16s 161ms/step - loss: 0.0553 - binary_accuracy: 0.9976 - val_loss: 0.0859 - val_binary_accuracy: 0.9901\n",
      "Epoch 17/50\n",
      "101/101 [==============================] - 17s 164ms/step - loss: 0.0503 - binary_accuracy: 0.9984 - val_loss: 0.0808 - val_binary_accuracy: 0.9919\n",
      "Epoch 18/50\n",
      "101/101 [==============================] - 17s 166ms/step - loss: 0.0471 - binary_accuracy: 0.9989 - val_loss: 0.0778 - val_binary_accuracy: 0.9931\n",
      "Epoch 19/50\n",
      "101/101 [==============================] - 18s 174ms/step - loss: 0.0449 - binary_accuracy: 0.9992 - val_loss: 0.0759 - val_binary_accuracy: 0.9935\n",
      "Epoch 20/50\n",
      "101/101 [==============================] - 17s 170ms/step - loss: 0.0436 - binary_accuracy: 0.9993 - val_loss: 0.0736 - val_binary_accuracy: 0.9938\n",
      "Epoch 21/50\n",
      "101/101 [==============================] - 18s 174ms/step - loss: 0.0425 - binary_accuracy: 0.9993 - val_loss: 0.0723 - val_binary_accuracy: 0.9938\n",
      "Epoch 22/50\n",
      "101/101 [==============================] - 17s 172ms/step - loss: 0.0416 - binary_accuracy: 0.9994 - val_loss: 0.0711 - val_binary_accuracy: 0.9939\n",
      "Epoch 23/50\n",
      "101/101 [==============================] - 17s 171ms/step - loss: 0.0410 - binary_accuracy: 0.9994 - val_loss: 0.0712 - val_binary_accuracy: 0.9939\n",
      "Epoch 24/50\n",
      "101/101 [==============================] - 18s 175ms/step - loss: 0.0403 - binary_accuracy: 0.9994 - val_loss: 0.0698 - val_binary_accuracy: 0.9941\n",
      "Epoch 25/50\n",
      "101/101 [==============================] - 17s 172ms/step - loss: 0.0396 - binary_accuracy: 0.9995 - val_loss: 0.0697 - val_binary_accuracy: 0.9940\n",
      "Epoch 26/50\n",
      "101/101 [==============================] - 18s 175ms/step - loss: 0.0393 - binary_accuracy: 0.9994 - val_loss: 0.0689 - val_binary_accuracy: 0.9940\n",
      "Epoch 27/50\n",
      "101/101 [==============================] - 17s 173ms/step - loss: 0.0389 - binary_accuracy: 0.9994 - val_loss: 0.0688 - val_binary_accuracy: 0.9939\n",
      "Epoch 28/50\n",
      "101/101 [==============================] - 18s 179ms/step - loss: 0.0383 - binary_accuracy: 0.9995 - val_loss: 0.0681 - val_binary_accuracy: 0.9940\n",
      "Epoch 29/50\n",
      "101/101 [==============================] - 18s 174ms/step - loss: 0.0379 - binary_accuracy: 0.9994 - val_loss: 0.0677 - val_binary_accuracy: 0.9941\n",
      "Epoch 30/50\n",
      "101/101 [==============================] - 17s 165ms/step - loss: 0.0375 - binary_accuracy: 0.9994 - val_loss: 0.0671 - val_binary_accuracy: 0.9940\n",
      "Epoch 31/50\n",
      "101/101 [==============================] - 17s 172ms/step - loss: 0.0372 - binary_accuracy: 0.9994 - val_loss: 0.0672 - val_binary_accuracy: 0.9938\n",
      "Epoch 32/50\n",
      "101/101 [==============================] - 18s 175ms/step - loss: 0.0367 - binary_accuracy: 0.9994 - val_loss: 0.0665 - val_binary_accuracy: 0.9939\n",
      "Epoch 33/50\n",
      "101/101 [==============================] - 17s 168ms/step - loss: 0.0364 - binary_accuracy: 0.9994 - val_loss: 0.0662 - val_binary_accuracy: 0.9939\n",
      "Epoch 34/50\n",
      "101/101 [==============================] - 17s 164ms/step - loss: 0.0361 - binary_accuracy: 0.9994 - val_loss: 0.0648 - val_binary_accuracy: 0.9941\n",
      "Epoch 35/50\n",
      "101/101 [==============================] - 17s 165ms/step - loss: 0.0358 - binary_accuracy: 0.9994 - val_loss: 0.0655 - val_binary_accuracy: 0.9937\n",
      "Epoch 36/50\n",
      "101/101 [==============================] - 17s 170ms/step - loss: 0.0353 - binary_accuracy: 0.9994 - val_loss: 0.0652 - val_binary_accuracy: 0.9939\n",
      "Epoch 37/50\n",
      "101/101 [==============================] - 17s 172ms/step - loss: 0.0352 - binary_accuracy: 0.9994 - val_loss: 0.0641 - val_binary_accuracy: 0.9941\n",
      "Epoch 38/50\n",
      "101/101 [==============================] - 17s 165ms/step - loss: 0.0348 - binary_accuracy: 0.9994 - val_loss: 0.0639 - val_binary_accuracy: 0.9939\n",
      "Epoch 39/50\n",
      "101/101 [==============================] - 17s 170ms/step - loss: 0.0343 - binary_accuracy: 0.9994 - val_loss: 0.0639 - val_binary_accuracy: 0.9940\n",
      "Epoch 40/50\n",
      "101/101 [==============================] - 17s 165ms/step - loss: 0.0339 - binary_accuracy: 0.9994 - val_loss: 0.0631 - val_binary_accuracy: 0.9940\n",
      "Epoch 41/50\n",
      "101/101 [==============================] - 17s 171ms/step - loss: 0.0336 - binary_accuracy: 0.9994 - val_loss: 0.0629 - val_binary_accuracy: 0.9939\n",
      "Epoch 42/50\n",
      "101/101 [==============================] - 17s 164ms/step - loss: 0.0333 - binary_accuracy: 0.9994 - val_loss: 0.0623 - val_binary_accuracy: 0.9941\n",
      "Epoch 43/50\n",
      "101/101 [==============================] - 17s 168ms/step - loss: 0.0330 - binary_accuracy: 0.9994 - val_loss: 0.0617 - val_binary_accuracy: 0.9941\n",
      "Epoch 44/50\n",
      "101/101 [==============================] - 17s 165ms/step - loss: 0.0327 - binary_accuracy: 0.9994 - val_loss: 0.0620 - val_binary_accuracy: 0.9940\n",
      "Epoch 45/50\n",
      "101/101 [==============================] - 17s 166ms/step - loss: 0.0323 - binary_accuracy: 0.9994 - val_loss: 0.0617 - val_binary_accuracy: 0.9941\n",
      "Epoch 46/50\n",
      "101/101 [==============================] - 17s 169ms/step - loss: 0.0322 - binary_accuracy: 0.9994 - val_loss: 0.0609 - val_binary_accuracy: 0.9942\n",
      "Epoch 47/50\n",
      "101/101 [==============================] - 17s 173ms/step - loss: 0.0319 - binary_accuracy: 0.9994 - val_loss: 0.0607 - val_binary_accuracy: 0.9941\n",
      "Epoch 48/50\n",
      "101/101 [==============================] - 17s 170ms/step - loss: 0.0315 - binary_accuracy: 0.9994 - val_loss: 0.0609 - val_binary_accuracy: 0.9939\n",
      "Epoch 49/50\n",
      "101/101 [==============================] - 19s 189ms/step - loss: 0.0314 - binary_accuracy: 0.9993 - val_loss: 0.0606 - val_binary_accuracy: 0.9939\n",
      "Epoch 50/50\n",
      "101/101 [==============================] - 20s 194ms/step - loss: 0.0308 - binary_accuracy: 0.9994 - val_loss: 0.0604 - val_binary_accuracy: 0.9939\n"
     ]
    }
   ],
   "source": [
    "wn18_es = callbacks.EarlyStopping(monitor=\"val_loss\", patience=10)\n",
    "wn18_history = wn18_model.fit(\n",
    "    wn18_train_gen, validation_data=wn18_valid_gen, epochs=epochs, callbacks=[wn18_es]\n",
    ")"
   ]
  },
  {
   "cell_type": "code",
   "execution_count": 8,
   "metadata": {},
   "outputs": [
    {
     "data": {
      "image/png": "[encoded data removed]",
      "text/plain": [
       "<Figure size 504x576 with 2 Axes>"
      ]
     },
     "metadata": {
      "needs_background": "light"
     },
     "output_type": "display_data"
    }
   ],
   "source": [
    "utils.plot_history(wn18_history)"
   ]
  },
  {
   "cell_type": "markdown",
   "metadata": {},
   "source": [
    "### Evaluate the model\n",
    "\n",
    "We've now trained a model, so we can apply the evaluation procedure from the paper to it. This is done by taking each test edge `E = (s, r, o)`, and scoring it against all mutations `(s, r, n)` and `(n, r, o)` for every node `n` in the graph, that is, doing a prediction for every one of these edges similar to `E`. The \"raw\" rank is the number of mutated edges that have a higher predicted score than the true `E`."
   ]
  },
  {
   "cell_type": "code",
   "execution_count": 9,
   "metadata": {},
   "outputs": [],
   "source": [
    "wn18_raw_ranks = ComplEx.rank_edges_against_all_nodes(\n",
    "    wn18_model, wn18_gen.flow(wn18_test), wn18_graph\n",
    ")"
   ]
  },
  {
   "cell_type": "code",
   "execution_count": 10,
   "metadata": {},
   "outputs": [],
   "source": [
    "# helper function to compute metrics from a dictionary of name -> array of ranks\n",
    "def results_as_dataframe(name_to_results):\n",
    "    return pd.DataFrame(\n",
    "        name_to_results.values(),\n",
    "        columns=[\"mrr\", \"hits at 1\", \"hits at 3\", \"hits at 10\"],\n",
    "        index=name_to_results.keys(),\n",
    "    )\n",
    "\n",
    "\n",
    "def summarise(name_to_ranks):\n",
    "    return results_as_dataframe(\n",
    "        {\n",
    "            name: (\n",
    "                np.mean(1 / ranks),\n",
    "                np.mean(ranks <= 1),\n",
    "                np.mean(ranks < 3),\n",
    "                np.mean(ranks <= 10),\n",
    "            )\n",
    "            for name, ranks in name_to_ranks.items()\n",
    "        }\n",
    "    )"
   ]
  },
  {
   "cell_type": "code",
   "execution_count": 11,
   "metadata": {},
   "outputs": [
    {
     "data": {
      "text/html": [
       "<div>\n",
       "<style scoped>\n",
       "    .dataframe tbody tr th:only-of-type {\n",
       "        vertical-align: middle;\n",
       "    }\n",
       "\n",
       "    .dataframe tbody tr th {\n",
       "        vertical-align: top;\n",
       "    }\n",
       "\n",
       "    .dataframe thead th {\n",
       "        text-align: right;\n",
       "    }\n",
       "</style>\n",
       "<table border=\"1\" class=\"dataframe\">\n",
       "  <thead>\n",
       "    <tr style=\"text-align: right;\">\n",
       "      <th></th>\n",
       "      <th>mrr</th>\n",
       "      <th>hits at 1</th>\n",
       "      <th>hits at 3</th>\n",
       "      <th>hits at 10</th>\n",
       "    </tr>\n",
       "  </thead>\n",
       "  <tbody>\n",
       "    <tr>\n",
       "      <th>raw</th>\n",
       "      <td>0.597158</td>\n",
       "      <td>0.4789</td>\n",
       "      <td>0.6058</td>\n",
       "      <td>0.8186</td>\n",
       "    </tr>\n",
       "  </tbody>\n",
       "</table>\n",
       "</div>"
      ],
      "text/plain": [
       "          mrr  hits at 1  hits at 3  hits at 10\n",
       "raw  0.597158     0.4789     0.6058      0.8186"
      ]
     },
     "execution_count": 12,
     "metadata": {},
     "output_type": "execute_result"
    }
   ],
   "source": [
    "summarise({\"raw\": wn18_raw_ranks})"
   ]
  },
  {
   "cell_type": "markdown",
   "metadata": {},
   "source": [
    "For comparison, Table 2 in the paper gives the following results for WN18 (`NaN` denotes values the paper does not include). The raw MRR is similar."
   ]
  },
  {
   "cell_type": "code",
   "execution_count": 12,
   "metadata": {},
   "outputs": [
    {
     "data": {
      "text/html": [
       "<div>\n",
       "<style scoped>\n",
       "    .dataframe tbody tr th:only-of-type {\n",
       "        vertical-align: middle;\n",
       "    }\n",
       "\n",
       "    .dataframe tbody tr th {\n",
       "        vertical-align: top;\n",
       "    }\n",
       "\n",
       "    .dataframe thead th {\n",
       "        text-align: right;\n",
       "    }\n",
       "</style>\n",
       "<table border=\"1\" class=\"dataframe\">\n",
       "  <thead>\n",
       "    <tr style=\"text-align: right;\">\n",
       "      <th></th>\n",
       "      <th>mrr</th>\n",
       "      <th>hits at 1</th>\n",
       "      <th>hits at 3</th>\n",
       "      <th>hits at 10</th>\n",
       "    </tr>\n",
       "  </thead>\n",
       "  <tbody>\n",
       "    <tr>\n",
       "      <th>raw</th>\n",
       "      <td>0.587</td>\n",
       "      <td>NaN</td>\n",
       "      <td>NaN</td>\n",
       "      <td>NaN</td>\n",
       "    </tr>\n",
       "    <tr>\n",
       "      <th>filtered</th>\n",
       "      <td>0.941</td>\n",
       "      <td>0.936</td>\n",
       "      <td>0.945</td>\n",
       "      <td>0.947</td>\n",
       "    </tr>\n",
       "  </tbody>\n",
       "</table>\n",
       "</div>"
      ],
      "text/plain": [
       "            mrr  hits at 1  hits at 3  hits at 10\n",
       "raw       0.587        NaN        NaN         NaN\n",
       "filtered  0.941      0.936      0.945       0.947"
      ]
     },
     "execution_count": 13,
     "metadata": {},
     "output_type": "execute_result"
    }
   ],
   "source": [
    "results_as_dataframe(\n",
    "    {\"raw\": (0.587, None, None, None), \"filtered\": (0.941, 0.936, 0.945, 0.947)}\n",
    ")"
   ]
  },
  {
   "cell_type": "markdown",
   "metadata": {},
   "source": [
    "## FB15k\n",
    "\n",
    "Now that we know the process, we can apply the model on the FB15k dataset in the same way.\n",
    "\n",
    "### Loading the data"
   ]
  },
  {
   "cell_type": "code",
   "execution_count": 13,
   "metadata": {},
   "outputs": [
    {
     "data": {
      "text/html": [
       "This FREEBASE FB15k DATA consists of a collection of triplets (synset, relation_type, triplet)extracted from Freebase (http://www.freebase.com). There are 14,951 mids and 1,345 relation types among them. The training set contains 483142 triplets, the validation set 50000 and the test set 59071. Antoine Bordes, Nicolas Usunier, Alberto Garcia-Durán, Jason Weston and Oksana Yakhnenko “Translating Embeddings for Modeling Multi-relational Data” (2013).\n",
       "\n",
       "Note: this dataset contains many inverse relations, and so should only be used to compare against published results. Prefer FB15k_237. See: Kristina Toutanova and Danqi Chen “Observed versus latent features for knowledge base and text inference” (2015), and Dettmers, Tim, Pasquale Minervini, Pontus Stenetorp and Sebastian Riedel “Convolutional 2D Knowledge Graph Embeddings” (2017)."
      ],
      "text/plain": [
       "<IPython.core.display.HTML object>"
      ]
     },
     "metadata": {},
     "output_type": "display_data"
    }
   ],
   "source": [
    "fb15k = datasets.FB15k()\n",
    "display(HTML(fb15k.description))\n",
    "fb15k_graph, fb15k_train, fb15k_test, fb15k_valid = fb15k.load()"
   ]
  },
  {
   "cell_type": "code",
   "execution_count": 14,
   "metadata": {},
   "outputs": [
    {
     "name": "stdout",
     "output_type": "stream",
     "text": [
      "StellarDiGraph: Directed multigraph\n",
      " Nodes: 14951, Edges: 592213\n",
      "\n",
      " Node types:\n",
      "  default: [14951]\n",
      "    Features: none\n",
      "    Edge types: default-/american_football/football_coach/coaching_history./american_football/football_historical_coach_position/position->default, default-/american_football/football_coach/coaching_history./american_football/football_historical_coach_position/team->default, default-/american_football/football_coach_position/coaches_holding_this_position./american_football/football_historical_coach_position/coach->default, default-/american_football/football_coach_position/coaches_holding_this_position./american_football/football_historical_coach_position/team->default, default-/american_football/football_player/current_team./american_football/football_roster_position/position->default, ... (1340 more)\n",
      "\n",
      " Edge types:\n",
      "    default-/award/award_nominee/award_nominations./award/award_nomination/award_nominee->default: [19764]\n",
      "    default-/film/film/release_date_s./film/film_regional_release_date/film_release_region->default: [15837]\n",
      "    default-/award/award_nominee/award_nominations./award/award_nomination/award->default: [14921]\n",
      "    default-/award/award_category/nominees./award/award_nomination/award_nominee->default: [14921]\n",
      "    default-/people/profession/people_with_this_profession->default: [14220]\n",
      "    default-/people/person/profession->default: [14220]\n",
      "    default-/film/film/starring./film/performance/actor->default: [11638]\n",
      "    default-/film/actor/film./film/performance/film->default: [11638]\n",
      "    default-/award/award_nominated_work/award_nominations./award/award_nomination/award->default: [11594]\n",
      "    default-/award/award_category/nominees./award/award_nomination/nominated_for->default: [11594]\n",
      "    default-/award/award_winner/awards_won./award/award_honor/award_winner->default: [10378]\n",
      "    default-/film/film_genre/films_in_this_genre->default: [8946]\n",
      "    default-/film/film/genre->default: [8946]\n",
      "    default-/award/award_nominee/award_nominations./award/award_nomination/nominated_for->default: [7632]\n",
      "    default-/award/award_nominated_work/award_nominations./award/award_nomination/award_nominee->default: [7632]\n",
      "    default-/film/film_job/films_with_this_crew_job./film/film_crew_gig/film->default: [7400]\n",
      "    default-/film/film/other_crew./film/film_crew_gig/film_crew_role->default: [7400]\n",
      "    default-/common/topic/webpage./common/webpage/category->default: [7232]\n",
      "    default-/common/annotation_category/annotations./common/webpage/topic->default: [7232]\n",
      "    default-/music/genre/artists->default: [7229]\n",
      "    ... (1325 more)\n"
     ]
    }
   ],
   "source": [
    "print(fb15k_graph.info())"
   ]
  },
  {
   "cell_type": "markdown",
   "metadata": {},
   "source": [
    "### Train a model"
   ]
  },
  {
   "cell_type": "code",
   "execution_count": 15,
   "metadata": {},
   "outputs": [],
   "source": [
    "fb15k_gen = KGTripleGenerator(\n",
    "    fb15k_graph, batch_size=len(fb15k_train) // 100  # ~100 batches per epoch\n",
    ")\n",
    "\n",
    "fb15k_complex = ComplEx(\n",
    "    fb15k_gen, k=embedding_dimension, embeddings_regularizer=regularizers.l2(1e-8)\n",
    ")\n",
    "\n",
    "fb15k_inp, fb15k_out = fb15k_complex.build()\n",
    "\n",
    "fb15k_model = Model(inputs=fb15k_inp, outputs=fb15k_out)\n",
    "fb15k_model.compile(\n",
    "    optimizer=optimizers.Adam(lr=0.001),\n",
    "    loss=losses.BinaryCrossentropy(from_logits=True),\n",
    "    metrics=[metrics.BinaryAccuracy(threshold=0.0)],\n",
    ")"
   ]
  },
  {
   "cell_type": "code",
   "execution_count": 16,
   "metadata": {},
   "outputs": [],
   "source": [
    "fb15k_train_gen = fb15k_gen.flow(\n",
    "    fb15k_train, negative_samples=negative_samples, shuffle=True\n",
    ")\n",
    "fb15k_valid_gen = fb15k_gen.flow(fb15k_valid, negative_samples=negative_samples)"
   ]
  },
  {
   "cell_type": "code",
   "execution_count": 17,
   "metadata": {},
   "outputs": [
    {
     "name": "stdout",
     "output_type": "stream",
     "text": [
      "Train for 101 steps, validate for 11 steps\n",
      "Epoch 1/50\n",
      "101/101 [==============================] - 32s 322ms/step - loss: 0.6933 - binary_accuracy: 0.5002 - val_loss: 0.6933 - val_binary_accuracy: 0.5009\n",
      "Epoch 2/50\n",
      "101/101 [==============================] - 30s 300ms/step - loss: 0.6933 - binary_accuracy: 0.5032 - val_loss: 0.6933 - val_binary_accuracy: 0.5018\n",
      "Epoch 3/50\n",
      "101/101 [==============================] - 31s 307ms/step - loss: 0.6932 - binary_accuracy: 0.5094 - val_loss: 0.6932 - val_binary_accuracy: 0.5108\n",
      "Epoch 4/50\n",
      "101/101 [==============================] - 33s 322ms/step - loss: 0.6930 - binary_accuracy: 0.5362 - val_loss: 0.6924 - val_binary_accuracy: 0.5728\n",
      "Epoch 5/50\n",
      "101/101 [==============================] - 34s 332ms/step - loss: 0.6776 - binary_accuracy: 0.7682 - val_loss: 0.6286 - val_binary_accuracy: 0.8984\n",
      "Epoch 6/50\n",
      "101/101 [==============================] - 32s 320ms/step - loss: 0.4787 - binary_accuracy: 0.9069 - val_loss: 0.3421 - val_binary_accuracy: 0.9083\n",
      "Epoch 7/50\n",
      "101/101 [==============================] - 32s 319ms/step - loss: 0.2886 - binary_accuracy: 0.9119 - val_loss: 0.2536 - val_binary_accuracy: 0.9161\n",
      "Epoch 8/50\n",
      "101/101 [==============================] - 39s 384ms/step - loss: 0.2269 - binary_accuracy: 0.9210 - val_loss: 0.2075 - val_binary_accuracy: 0.9243\n",
      "Epoch 9/50\n",
      "101/101 [==============================] - 36s 352ms/step - loss: 0.1845 - binary_accuracy: 0.9306 - val_loss: 0.1717 - val_binary_accuracy: 0.9330\n",
      "Epoch 10/50\n",
      "101/101 [==============================] - 33s 329ms/step - loss: 0.1519 - binary_accuracy: 0.9411 - val_loss: 0.1447 - val_binary_accuracy: 0.9425\n",
      "Epoch 11/50\n",
      "101/101 [==============================] - 32s 322ms/step - loss: 0.1280 - binary_accuracy: 0.9499 - val_loss: 0.1265 - val_binary_accuracy: 0.9488\n",
      "Epoch 12/50\n",
      "101/101 [==============================] - 30s 294ms/step - loss: 0.1107 - binary_accuracy: 0.9567 - val_loss: 0.1134 - val_binary_accuracy: 0.9536\n",
      "Epoch 13/50\n",
      "101/101 [==============================] - 33s 323ms/step - loss: 0.0978 - binary_accuracy: 0.9622 - val_loss: 0.1034 - val_binary_accuracy: 0.9577\n",
      "Epoch 14/50\n",
      "101/101 [==============================] - 33s 323ms/step - loss: 0.0874 - binary_accuracy: 0.9669 - val_loss: 0.0956 - val_binary_accuracy: 0.9611\n",
      "Epoch 15/50\n",
      "101/101 [==============================] - 32s 317ms/step - loss: 0.0789 - binary_accuracy: 0.9709 - val_loss: 0.0902 - val_binary_accuracy: 0.9634\n",
      "Epoch 16/50\n",
      "101/101 [==============================] - 32s 314ms/step - loss: 0.0721 - binary_accuracy: 0.9741 - val_loss: 0.0853 - val_binary_accuracy: 0.9656\n",
      "Epoch 17/50\n",
      "101/101 [==============================] - 32s 312ms/step - loss: 0.0667 - binary_accuracy: 0.9765 - val_loss: 0.0811 - val_binary_accuracy: 0.9673\n",
      "Epoch 18/50\n",
      "101/101 [==============================] - 32s 317ms/step - loss: 0.0617 - binary_accuracy: 0.9786 - val_loss: 0.0777 - val_binary_accuracy: 0.9692\n",
      "Epoch 19/50\n",
      "101/101 [==============================] - 31s 308ms/step - loss: 0.0579 - binary_accuracy: 0.9802 - val_loss: 0.0756 - val_binary_accuracy: 0.9700\n",
      "Epoch 20/50\n",
      "101/101 [==============================] - 30s 302ms/step - loss: 0.0548 - binary_accuracy: 0.9813 - val_loss: 0.0740 - val_binary_accuracy: 0.9710\n",
      "Epoch 21/50\n",
      "101/101 [==============================] - 32s 320ms/step - loss: 0.0522 - binary_accuracy: 0.9824 - val_loss: 0.0721 - val_binary_accuracy: 0.9720\n",
      "Epoch 22/50\n",
      "101/101 [==============================] - 36s 359ms/step - loss: 0.0498 - binary_accuracy: 0.9832 - val_loss: 0.0708 - val_binary_accuracy: 0.9729\n",
      "Epoch 23/50\n",
      "101/101 [==============================] - 33s 331ms/step - loss: 0.0479 - binary_accuracy: 0.9839 - val_loss: 0.0699 - val_binary_accuracy: 0.9733\n",
      "Epoch 24/50\n",
      "101/101 [==============================] - 31s 311ms/step - loss: 0.0464 - binary_accuracy: 0.9844 - val_loss: 0.0692 - val_binary_accuracy: 0.9738\n",
      "Epoch 25/50\n",
      "101/101 [==============================] - 34s 333ms/step - loss: 0.0448 - binary_accuracy: 0.9849 - val_loss: 0.0688 - val_binary_accuracy: 0.9743\n",
      "Epoch 26/50\n",
      "101/101 [==============================] - 33s 328ms/step - loss: 0.0435 - binary_accuracy: 0.9854 - val_loss: 0.0685 - val_binary_accuracy: 0.9745\n",
      "Epoch 27/50\n",
      "101/101 [==============================] - 33s 331ms/step - loss: 0.0423 - binary_accuracy: 0.9858 - val_loss: 0.0684 - val_binary_accuracy: 0.9747\n",
      "Epoch 28/50\n",
      "101/101 [==============================] - 34s 333ms/step - loss: 0.0413 - binary_accuracy: 0.9862 - val_loss: 0.0685 - val_binary_accuracy: 0.9749\n",
      "Epoch 29/50\n",
      "101/101 [==============================] - 34s 341ms/step - loss: 0.0405 - binary_accuracy: 0.9864 - val_loss: 0.0682 - val_binary_accuracy: 0.9753\n",
      "Epoch 30/50\n",
      "101/101 [==============================] - 35s 344ms/step - loss: 0.0397 - binary_accuracy: 0.9867 - val_loss: 0.0682 - val_binary_accuracy: 0.9752\n",
      "Epoch 31/50\n",
      "101/101 [==============================] - 34s 332ms/step - loss: 0.0390 - binary_accuracy: 0.9869 - val_loss: 0.0679 - val_binary_accuracy: 0.9754\n",
      "Epoch 32/50\n",
      "101/101 [==============================] - 33s 331ms/step - loss: 0.0383 - binary_accuracy: 0.9871 - val_loss: 0.0685 - val_binary_accuracy: 0.9754\n",
      "Epoch 33/50\n",
      "101/101 [==============================] - 37s 365ms/step - loss: 0.0377 - binary_accuracy: 0.9872 - val_loss: 0.0686 - val_binary_accuracy: 0.9756\n",
      "Epoch 34/50\n",
      "101/101 [==============================] - 36s 358ms/step - loss: 0.0371 - binary_accuracy: 0.9875 - val_loss: 0.0681 - val_binary_accuracy: 0.9761\n",
      "Epoch 35/50\n",
      "101/101 [==============================] - 36s 360ms/step - loss: 0.0367 - binary_accuracy: 0.9875 - val_loss: 0.0689 - val_binary_accuracy: 0.9760\n",
      "Epoch 36/50\n",
      "101/101 [==============================] - 34s 341ms/step - loss: 0.0365 - binary_accuracy: 0.9876 - val_loss: 0.0695 - val_binary_accuracy: 0.9758\n",
      "Epoch 37/50\n",
      "101/101 [==============================] - 35s 345ms/step - loss: 0.0358 - binary_accuracy: 0.9878 - val_loss: 0.0697 - val_binary_accuracy: 0.9754\n",
      "Epoch 38/50\n",
      "101/101 [==============================] - 37s 364ms/step - loss: 0.0357 - binary_accuracy: 0.9879 - val_loss: 0.0699 - val_binary_accuracy: 0.9757\n",
      "Epoch 39/50\n",
      "101/101 [==============================] - 33s 325ms/step - loss: 0.0354 - binary_accuracy: 0.9879 - val_loss: 0.0706 - val_binary_accuracy: 0.9757\n",
      "Epoch 40/50\n",
      "101/101 [==============================] - 35s 342ms/step - loss: 0.0351 - binary_accuracy: 0.9881 - val_loss: 0.0708 - val_binary_accuracy: 0.9757\n",
      "Epoch 41/50\n",
      "101/101 [==============================] - 35s 343ms/step - loss: 0.0348 - binary_accuracy: 0.9881 - val_loss: 0.0713 - val_binary_accuracy: 0.9755\n"
     ]
    }
   ],
   "source": [
    "fb15k_es = callbacks.EarlyStopping(monitor=\"val_loss\", patience=10)\n",
    "fb15k_history = fb15k_model.fit(\n",
    "    fb15k_train_gen, validation_data=fb15k_valid_gen, epochs=epochs, callbacks=[fb15k_es]\n",
    ")"
   ]
  },
  {
   "cell_type": "code",
   "execution_count": 18,
   "metadata": {},
   "outputs": [
    {
     "data": {
      "image/png": "[encoded data removed]",
      "text/plain": [
       "<Figure size 504x576 with 2 Axes>"
      ]
     },
     "metadata": {
      "needs_background": "light"
     },
     "output_type": "display_data"
    }
   ],
   "source": [
    "utils.plot_history(fb15k_history)"
   ]
  },
  {
   "cell_type": "markdown",
   "metadata": {},
   "source": [
    "### Evaluate the model"
   ]
  },
  {
   "cell_type": "code",
   "execution_count": 19,
   "metadata": {},
   "outputs": [],
   "source": [
    "fb15k_raw_ranks = ComplEx.rank_edges_against_all_nodes(\n",
    "    fb15k_model, fb15k_gen.flow(fb15k_test), fb15k_graph\n",
    ")"
   ]
  },
  {
   "cell_type": "code",
   "execution_count": 20,
   "metadata": {},
   "outputs": [
    {
     "data": {
      "text/html": [
       "<div>\n",
       "<style scoped>\n",
       "    .dataframe tbody tr th:only-of-type {\n",
       "        vertical-align: middle;\n",
       "    }\n",
       "\n",
       "    .dataframe tbody tr th {\n",
       "        vertical-align: top;\n",
       "    }\n",
       "\n",
       "    .dataframe thead th {\n",
       "        text-align: right;\n",
       "    }\n",
       "</style>\n",
       "<table border=\"1\" class=\"dataframe\">\n",
       "  <thead>\n",
       "    <tr style=\"text-align: right;\">\n",
       "      <th></th>\n",
       "      <th>mrr</th>\n",
       "      <th>hits at 1</th>\n",
       "      <th>hits at 3</th>\n",
       "      <th>hits at 10</th>\n",
       "    </tr>\n",
       "  </thead>\n",
       "  <tbody>\n",
       "    <tr>\n",
       "      <th>raw</th>\n",
       "      <td>0.253014</td>\n",
       "      <td>0.135379</td>\n",
       "      <td>0.22164</td>\n",
       "      <td>0.511749</td>\n",
       "    </tr>\n",
       "  </tbody>\n",
       "</table>\n",
       "</div>"
      ],
      "text/plain": [
       "          mrr  hits at 1  hits at 3  hits at 10\n",
       "raw  0.253014   0.135379    0.22164    0.511749"
      ]
     },
     "execution_count": 21,
     "metadata": {},
     "output_type": "execute_result"
    }
   ],
   "source": [
    "summarise({\"raw\": fb15k_raw_ranks})"
   ]
  },
  {
   "cell_type": "markdown",
   "metadata": {},
   "source": [
    "For comparison, Table 2 in the paper gives the following results for FB15k:"
   ]
  },
  {
   "cell_type": "code",
   "execution_count": 21,
   "metadata": {},
   "outputs": [
    {
     "data": {
      "text/html": [
       "<div>\n",
       "<style scoped>\n",
       "    .dataframe tbody tr th:only-of-type {\n",
       "        vertical-align: middle;\n",
       "    }\n",
       "\n",
       "    .dataframe tbody tr th {\n",
       "        vertical-align: top;\n",
       "    }\n",
       "\n",
       "    .dataframe thead th {\n",
       "        text-align: right;\n",
       "    }\n",
       "</style>\n",
       "<table border=\"1\" class=\"dataframe\">\n",
       "  <thead>\n",
       "    <tr style=\"text-align: right;\">\n",
       "      <th></th>\n",
       "      <th>mrr</th>\n",
       "      <th>hits at 1</th>\n",
       "      <th>hits at 3</th>\n",
       "      <th>hits at 10</th>\n",
       "    </tr>\n",
       "  </thead>\n",
       "  <tbody>\n",
       "    <tr>\n",
       "      <th>raw</th>\n",
       "      <td>0.242</td>\n",
       "      <td>NaN</td>\n",
       "      <td>NaN</td>\n",
       "      <td>NaN</td>\n",
       "    </tr>\n",
       "    <tr>\n",
       "      <th>filtered</th>\n",
       "      <td>0.692</td>\n",
       "      <td>0.599</td>\n",
       "      <td>0.759</td>\n",
       "      <td>0.85</td>\n",
       "    </tr>\n",
       "  </tbody>\n",
       "</table>\n",
       "</div>"
      ],
      "text/plain": [
       "            mrr  hits at 1  hits at 3  hits at 10\n",
       "raw       0.242        NaN        NaN         NaN\n",
       "filtered  0.692      0.599      0.759        0.85"
      ]
     },
     "execution_count": 22,
     "metadata": {},
     "output_type": "execute_result"
    }
   ],
   "source": [
    "results_as_dataframe(\n",
    "    {\"raw\": (0.242, None, None, None), \"filtered\": (0.692, 0.599, 0.759, 0.850)}\n",
    ")"
   ]
  }
 ],
 "metadata": {
  "kernelspec": {
   "display_name": "Python 3",
   "language": "python",
   "name": "python3"
  },
  "language_info": {
   "codemirror_mode": {
    "name": "ipython",
    "version": 3
   },
   "file_extension": ".py",
   "mimetype": "text/x-python",
   "name": "python",
   "nbconvert_exporter": "python",
   "pygments_lexer": "ipython3",
   "version": "3.6.9"
  }
 },
 "nbformat": 4,
 "nbformat_minor": 4
}
