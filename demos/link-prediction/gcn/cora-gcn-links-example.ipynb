{
 "cells": [
  {
   "cell_type": "markdown",
   "metadata": {},
   "source": [
    "# Link prediction example: GCN on the Cora citation dataset"
   ]
  },
  {
   "cell_type": "markdown",
   "metadata": {},
   "source": [
    "In this example, we use our implementation of the [GCN](https://arxiv.org/abs/1609.02907) algorithm to build a model that predicts citation links in the Cora dataset (see below). The problem is treated as a supervised link prediction problem on a homogeneous citation network with nodes representing papers (with attributes such as binary keyword indicators and categorical subject) and links corresponding to paper-paper citations. \n",
    "\n",
    "To address this problem, we build a model with the following architecture. First we build a two-layer GCN model that takes labeled node pairs (`citing-paper` -> `cited-paper`)  corresponding to possible citation links, and outputs a pair of node embeddings for the `citing-paper` and `cited-paper` nodes of the pair. These embeddings are then fed into a link classification layer, which first applies a binary operator to those node embeddings (e.g., concatenating them) to construct the embedding of the potential link. Thus obtained link embeddings are passed through the dense link classification layer to obtain link predictions - probability for these candidate links to actually exist in the network. The entire model is trained end-to-end by minimizing the loss function of choice (e.g., binary cross-entropy between predicted link probabilities and true link labels, with true/false citation links having labels 1/0) using stochastic gradient descent (SGD) updates of the model parameters, with minibatches of 'training' links fed into the model."
   ]
  },
  {
   "cell_type": "code",
   "execution_count": 1,
   "metadata": {},
   "outputs": [],
   "source": [
    "import stellargraph as sg\n",
    "from stellargraph.data import EdgeSplitter\n",
    "from stellargraph.mapper import FullBatchLinkGenerator\n",
    "from stellargraph.layer import GCN, LinkEmbedding\n",
    "\n",
    "\n",
    "from tensorflow import keras\n",
    "from sklearn import preprocessing, feature_extraction, model_selection\n",
    "\n",
    "from stellargraph import globalvar\n",
    "from stellargraph import datasets\n",
    "from IPython.display import display, HTML\n",
    "%matplotlib inline"
   ]
  },
  {
   "cell_type": "markdown",
   "metadata": {},
   "source": [
    "### Loading the CORA network data"
   ]
  },
  {
   "cell_type": "code",
   "execution_count": 2,
   "metadata": {},
   "outputs": [
    {
     "data": {
      "text/html": [
       "The Cora dataset consists of 2708 scientific publications classified into one of seven classes. The citation network consists of 5429 links. Each publication in the dataset is described by a 0/1-valued word vector indicating the absence/presence of the corresponding word from the dictionary. The dictionary consists of 1433 unique words."
      ],
      "text/plain": [
       "<IPython.core.display.HTML object>"
      ]
     },
     "metadata": {},
     "output_type": "display_data"
    }
   ],
   "source": [
    "dataset = datasets.Cora()\n",
    "display(HTML(dataset.description))\n",
    "G, _ = dataset.load(subject_as_feature=True)"
   ]
  },
  {
   "cell_type": "code",
   "execution_count": 3,
   "metadata": {},
   "outputs": [
    {
     "name": "stdout",
     "output_type": "stream",
     "text": [
      "StellarGraph: Undirected multigraph\n",
      " Nodes: 2708, Edges: 5429\n",
      "\n",
      " Node types:\n",
      "  paper: [2708]\n",
      "    Features: float32 vector, length 1440\n",
      "    Edge types: paper-cites->paper\n",
      "\n",
      " Edge types:\n",
      "    paper-cites->paper: [5429]\n"
     ]
    }
   ],
   "source": [
    "print(G.info())"
   ]
  },
  {
   "cell_type": "markdown",
   "metadata": {},
   "source": [
    "We aim to train a link prediction model, hence we need to prepare the train and test sets of links and the corresponding graphs with those links removed.\n",
    "\n",
    "We are going to split our input graph into a train and test graphs using the EdgeSplitter class in `stellargraph.data`. We will use the train graph for training the model (a binary classifier that, given two nodes, predicts whether a link between these two nodes should exist or not) and the test graph for evaluating the model's performance on hold out data.\n",
    "Each of these graphs will have the same number of nodes as the input graph, but the number of links will differ (be reduced) as some of the links will be removed during each split and used as the positive samples for training/testing the link prediction classifier."
   ]
  },
  {
   "cell_type": "markdown",
   "metadata": {},
   "source": [
    "From the original graph G, extract a randomly sampled subset of test edges (true and false citation links) and the reduced graph G_test with the positive test edges removed:"
   ]
  },
  {
   "cell_type": "code",
   "execution_count": 4,
   "metadata": {},
   "outputs": [
    {
     "name": "stdout",
     "output_type": "stream",
     "text": [
      "** Sampled 542 positive and 542 negative edges. **\n"
     ]
    }
   ],
   "source": [
    "# Define an edge splitter on the original graph G:\n",
    "edge_splitter_test = EdgeSplitter(G)\n",
    "\n",
    "# Randomly sample a fraction p=0.1 of all positive links, and same number of negative links, from G, and obtain the\n",
    "# reduced graph G_test with the sampled links removed:\n",
    "G_test, edge_ids_test, edge_labels_test = edge_splitter_test.train_test_split(\n",
    "    p=0.1, method=\"global\", keep_connected=True\n",
    ")"
   ]
  },
  {
   "cell_type": "markdown",
   "metadata": {},
   "source": [
    "The reduced graph G_test, together with the test ground truth set of links (edge_ids_test, edge_labels_test), will be used for testing the model.\n",
    "\n",
    "Now repeat this procedure to obtain the training data for the model. From the reduced graph G_test, extract a randomly sampled subset of train edges (true and false citation links) and the reduced graph G_train with the positive train edges removed:"
   ]
  },
  {
   "cell_type": "code",
   "execution_count": 5,
   "metadata": {},
   "outputs": [
    {
     "name": "stdout",
     "output_type": "stream",
     "text": [
      "** Sampled 488 positive and 488 negative edges. **\n"
     ]
    }
   ],
   "source": [
    "# Define an edge splitter on the reduced graph G_test:\n",
    "edge_splitter_train = EdgeSplitter(G_test)\n",
    "\n",
    "# Randomly sample a fraction p=0.1 of all positive links, and same number of negative links, from G_test, and obtain the\n",
    "# reduced graph G_train with the sampled links removed:\n",
    "G_train, edge_ids_train, edge_labels_train = edge_splitter_train.train_test_split(\n",
    "    p=0.1, method=\"global\", keep_connected=True\n",
    ")"
   ]
  },
  {
   "cell_type": "markdown",
   "metadata": {},
   "source": [
    "G_train, together with the train ground truth set of links (edge_ids_train, edge_labels_train), will be used for training the model."
   ]
  },
  {
   "cell_type": "markdown",
   "metadata": {},
   "source": [
    "#### Creating the GCN link model"
   ]
  },
  {
   "cell_type": "markdown",
   "metadata": {},
   "source": [
    "Next, we create the link generators for the train and test link examples to the model. The link generators take the pairs of nodes (`citing-paper`, `cited-paper`) that are given in the `.flow` method to the Keras model, together with the corresponding binary labels indicating whether those pairs represent true or false links.\n",
    "\n",
    "The number of epochs for training the model:"
   ]
  },
  {
   "cell_type": "code",
   "execution_count": 6,
   "metadata": {},
   "outputs": [],
   "source": [
    "epochs = 50"
   ]
  },
  {
   "cell_type": "markdown",
   "metadata": {},
   "source": [
    "For training we create a generator on the `G_train` graph, and make an iterator over the training links using the generator's `flow()` method:"
   ]
  },
  {
   "cell_type": "code",
   "execution_count": 7,
   "metadata": {},
   "outputs": [
    {
     "name": "stdout",
     "output_type": "stream",
     "text": [
      "Using GCN (local pooling) filters...\n"
     ]
    }
   ],
   "source": [
    "train_gen = FullBatchLinkGenerator(G_train, method=\"gcn\")\n",
    "train_flow = train_gen.flow(edge_ids_train, edge_labels_train)"
   ]
  },
  {
   "cell_type": "code",
   "execution_count": 8,
   "metadata": {},
   "outputs": [
    {
     "name": "stdout",
     "output_type": "stream",
     "text": [
      "Using GCN (local pooling) filters...\n"
     ]
    }
   ],
   "source": [
    "test_gen = FullBatchLinkGenerator(G_test, method=\"gcn\")\n",
    "test_flow = train_gen.flow(edge_ids_test, edge_labels_test)"
   ]
  },
  {
   "cell_type": "markdown",
   "metadata": {},
   "source": [
    "Now we can specify our machine learning model, we need a few more parameters for this:\n",
    "\n",
    " * the `layer_sizes` is a list of hidden feature sizes of each layer in the model. In this example we use two GCN layers with 16-dimensional hidden node features at each layer.\n",
    " * `activations` is a list of activations applied to each layer's output\n",
    " * `dropout=0.3` specifies a 30% dropout at each layer. "
   ]
  },
  {
   "cell_type": "markdown",
   "metadata": {},
   "source": [
    "We create a GCN model as follows:"
   ]
  },
  {
   "cell_type": "code",
   "execution_count": 9,
   "metadata": {},
   "outputs": [],
   "source": [
    "gcn = GCN(\n",
    "    layer_sizes=[16, 16], activations=[\"relu\", \"relu\"], generator=train_gen, dropout=0.3\n",
    ")"
   ]
  },
  {
   "cell_type": "markdown",
   "metadata": {},
   "source": [
    "To create a Keras model we now expose the input and output tensors of the GCN model for link prediction, via the `GCN.build` method:"
   ]
  },
  {
   "cell_type": "code",
   "execution_count": 10,
   "metadata": {},
   "outputs": [],
   "source": [
    "x_inp, x_out = gcn.build()"
   ]
  },
  {
   "cell_type": "markdown",
   "metadata": {},
   "source": [
    "Final link classification layer that takes a pair of node embeddings produced by the GCN model, applies a binary operator to them to produce the corresponding link embedding ('ip' for inner product; other options for the binary operator can be seen by running a cell with `?LinkEmbedding` in it), and passes it through a dense layer:"
   ]
  },
  {
   "cell_type": "code",
   "execution_count": 11,
   "metadata": {},
   "outputs": [],
   "source": [
    "prediction = LinkEmbedding(activation=\"relu\", method=\"ip\")(x_out)"
   ]
  },
  {
   "cell_type": "markdown",
   "metadata": {},
   "source": [
    "The predictions need to be reshaped from `(X, 1)` to `(X,)` to match the shape of the targets we have supplied above."
   ]
  },
  {
   "cell_type": "code",
   "execution_count": 12,
   "metadata": {},
   "outputs": [],
   "source": [
    "prediction = keras.layers.Reshape((-1,))(prediction)"
   ]
  },
  {
   "cell_type": "markdown",
   "metadata": {},
   "source": [
    "Stack the GCN and prediction layers into a Keras model, and specify the loss"
   ]
  },
  {
   "cell_type": "code",
   "execution_count": 13,
   "metadata": {},
   "outputs": [],
   "source": [
    "model = keras.Model(inputs=x_inp, outputs=prediction)\n",
    "\n",
    "model.compile(\n",
    "    optimizer=keras.optimizers.Adam(lr=0.01),\n",
    "    loss=keras.losses.binary_crossentropy,\n",
    "    metrics=[\"acc\"],\n",
    ")"
   ]
  },
  {
   "cell_type": "markdown",
   "metadata": {},
   "source": [
    "Evaluate the initial (untrained) model on the train and test set:"
   ]
  },
  {
   "cell_type": "code",
   "execution_count": 14,
   "metadata": {},
   "outputs": [
    {
     "name": "stdout",
     "output_type": "stream",
     "text": [
      "  ['...']\n",
      "  ['...']\n",
      "\n",
      "Train Set Metrics of the initial (untrained) model:\n",
      "\tloss: 7.4799\n",
      "\tacc: 0.5000\n",
      "\n",
      "Test Set Metrics of the initial (untrained) model:\n",
      "\tloss: 7.3813\n",
      "\tacc: 0.5000\n"
     ]
    }
   ],
   "source": [
    "init_train_metrics = model.evaluate(train_flow)\n",
    "init_test_metrics = model.evaluate(test_flow)\n",
    "\n",
    "print(\"\\nTrain Set Metrics of the initial (untrained) model:\")\n",
    "for name, val in zip(model.metrics_names, init_train_metrics):\n",
    "    print(\"\\t{}: {:0.4f}\".format(name, val))\n",
    "\n",
    "print(\"\\nTest Set Metrics of the initial (untrained) model:\")\n",
    "for name, val in zip(model.metrics_names, init_test_metrics):\n",
    "    print(\"\\t{}: {:0.4f}\".format(name, val))"
   ]
  },
  {
   "cell_type": "markdown",
   "metadata": {},
   "source": [
    "Train the model:"
   ]
  },
  {
   "cell_type": "code",
   "execution_count": 15,
   "metadata": {},
   "outputs": [
    {
     "name": "stdout",
     "output_type": "stream",
     "text": [
      "  ['...']\n",
      "  ['...']\n",
      "Train for 1 steps, validate for 1 steps\n",
      "Epoch 1/50\n",
      "1/1 - 0s - loss: 7.1329 - acc: 0.5000 - val_loss: 0.7175 - val_acc: 0.5517\n",
      "Epoch 2/50\n",
      "1/1 - 0s - loss: 0.7070 - acc: 0.5574 - val_loss: 0.7923 - val_acc: 0.5185\n",
      "Epoch 3/50\n",
      "1/1 - 0s - loss: 0.7758 - acc: 0.5164 - val_loss: 0.7376 - val_acc: 0.5664\n",
      "Epoch 4/50\n",
      "1/1 - 0s - loss: 0.7165 - acc: 0.5850 - val_loss: 0.7666 - val_acc: 0.5461\n",
      "Epoch 5/50\n",
      "1/1 - 0s - loss: 0.7115 - acc: 0.5799 - val_loss: 0.7166 - val_acc: 0.5738\n",
      "Epoch 6/50\n",
      "1/1 - 0s - loss: 0.6786 - acc: 0.6127 - val_loss: 0.6706 - val_acc: 0.6531\n",
      "Epoch 7/50\n",
      "1/1 - 0s - loss: 0.6997 - acc: 0.6301 - val_loss: 0.6741 - val_acc: 0.6522\n",
      "Epoch 8/50\n",
      "1/1 - 0s - loss: 0.8039 - acc: 0.6588 - val_loss: 0.6633 - val_acc: 0.6679\n",
      "Epoch 9/50\n",
      "1/1 - 0s - loss: 0.7382 - acc: 0.6465 - val_loss: 0.6572 - val_acc: 0.6485\n",
      "Epoch 10/50\n",
      "1/1 - 0s - loss: 0.6495 - acc: 0.6701 - val_loss: 0.6952 - val_acc: 0.6061\n",
      "Epoch 11/50\n",
      "1/1 - 0s - loss: 0.6085 - acc: 0.6588 - val_loss: 0.6982 - val_acc: 0.5839\n",
      "Epoch 12/50\n",
      "1/1 - 0s - loss: 0.6499 - acc: 0.6137 - val_loss: 0.6885 - val_acc: 0.5775\n",
      "Epoch 13/50\n",
      "1/1 - 0s - loss: 0.6383 - acc: 0.6240 - val_loss: 0.6692 - val_acc: 0.5803\n",
      "Epoch 14/50\n",
      "1/1 - 0s - loss: 0.6342 - acc: 0.6342 - val_loss: 0.6491 - val_acc: 0.6070\n",
      "Epoch 15/50\n",
      "1/1 - 0s - loss: 0.5826 - acc: 0.6967 - val_loss: 0.6457 - val_acc: 0.6504\n",
      "Epoch 16/50\n",
      "1/1 - 0s - loss: 0.5666 - acc: 0.7080 - val_loss: 0.6854 - val_acc: 0.6697\n",
      "Epoch 17/50\n",
      "1/1 - 0s - loss: 0.5536 - acc: 0.7490 - val_loss: 0.7320 - val_acc: 0.6827\n",
      "Epoch 18/50\n",
      "1/1 - 0s - loss: 0.6376 - acc: 0.7490 - val_loss: 0.7907 - val_acc: 0.6910\n",
      "Epoch 19/50\n",
      "1/1 - 0s - loss: 0.5950 - acc: 0.7480 - val_loss: 0.7544 - val_acc: 0.7030\n",
      "Epoch 20/50\n",
      "1/1 - 0s - loss: 0.5801 - acc: 0.7592 - val_loss: 0.6953 - val_acc: 0.6965\n",
      "Epoch 21/50\n",
      "1/1 - 0s - loss: 0.5646 - acc: 0.7766 - val_loss: 0.6356 - val_acc: 0.6836\n",
      "Epoch 22/50\n",
      "1/1 - 0s - loss: 0.5087 - acc: 0.7725 - val_loss: 0.6145 - val_acc: 0.6910\n",
      "Epoch 23/50\n",
      "1/1 - 0s - loss: 0.4809 - acc: 0.8012 - val_loss: 0.6061 - val_acc: 0.6863\n",
      "Epoch 24/50\n",
      "1/1 - 0s - loss: 0.4740 - acc: 0.7889 - val_loss: 0.6050 - val_acc: 0.6836\n",
      "Epoch 25/50\n",
      "1/1 - 0s - loss: 0.4603 - acc: 0.8023 - val_loss: 0.6043 - val_acc: 0.6882\n",
      "Epoch 26/50\n",
      "1/1 - 0s - loss: 0.4841 - acc: 0.7859 - val_loss: 0.5918 - val_acc: 0.6937\n",
      "Epoch 27/50\n",
      "1/1 - 0s - loss: 0.4464 - acc: 0.8094 - val_loss: 0.6142 - val_acc: 0.7002\n",
      "Epoch 28/50\n",
      "1/1 - 0s - loss: 0.4557 - acc: 0.8074 - val_loss: 0.6896 - val_acc: 0.7085\n",
      "Epoch 29/50\n",
      "1/1 - 0s - loss: 0.4446 - acc: 0.8217 - val_loss: 0.7367 - val_acc: 0.7196\n",
      "Epoch 30/50\n",
      "1/1 - 0s - loss: 0.4553 - acc: 0.8064 - val_loss: 0.7515 - val_acc: 0.7196\n",
      "Epoch 31/50\n",
      "1/1 - 0s - loss: 0.4244 - acc: 0.8309 - val_loss: 0.7646 - val_acc: 0.7223\n",
      "Epoch 32/50\n",
      "1/1 - 0s - loss: 0.4330 - acc: 0.8412 - val_loss: 0.8232 - val_acc: 0.7205\n",
      "Epoch 33/50\n",
      "1/1 - 0s - loss: 0.3857 - acc: 0.8473 - val_loss: 0.8160 - val_acc: 0.7149\n",
      "Epoch 34/50\n",
      "1/1 - 0s - loss: 0.4034 - acc: 0.8484 - val_loss: 0.8218 - val_acc: 0.7159\n",
      "Epoch 35/50\n",
      "1/1 - 0s - loss: 0.3954 - acc: 0.8750 - val_loss: 0.8280 - val_acc: 0.7196\n",
      "Epoch 36/50\n",
      "1/1 - 0s - loss: 0.3849 - acc: 0.8811 - val_loss: 0.8188 - val_acc: 0.7177\n",
      "Epoch 37/50\n",
      "1/1 - 0s - loss: 0.4004 - acc: 0.8535 - val_loss: 0.8230 - val_acc: 0.7325\n",
      "Epoch 38/50\n",
      "1/1 - 0s - loss: 0.3784 - acc: 0.8658 - val_loss: 0.8361 - val_acc: 0.7297\n",
      "Epoch 39/50\n",
      "1/1 - 0s - loss: 0.4003 - acc: 0.8658 - val_loss: 0.9029 - val_acc: 0.7251\n",
      "Epoch 40/50\n",
      "1/1 - 0s - loss: 0.3779 - acc: 0.8545 - val_loss: 0.8822 - val_acc: 0.7288\n",
      "Epoch 41/50\n",
      "1/1 - 0s - loss: 0.3827 - acc: 0.8730 - val_loss: 0.8629 - val_acc: 0.7325\n",
      "Epoch 42/50\n",
      "1/1 - 0s - loss: 0.3288 - acc: 0.8668 - val_loss: 0.8478 - val_acc: 0.7325\n",
      "Epoch 43/50\n",
      "1/1 - 0s - loss: 0.3469 - acc: 0.8822 - val_loss: 0.8395 - val_acc: 0.7306\n",
      "Epoch 44/50\n",
      "1/1 - 0s - loss: 0.2861 - acc: 0.8873 - val_loss: 0.8616 - val_acc: 0.7279\n",
      "Epoch 45/50\n",
      "1/1 - 0s - loss: 0.3068 - acc: 0.8822 - val_loss: 0.9310 - val_acc: 0.7297\n",
      "Epoch 46/50\n",
      "1/1 - 0s - loss: 0.3361 - acc: 0.8955 - val_loss: 0.9893 - val_acc: 0.7306\n",
      "Epoch 47/50\n",
      "1/1 - 0s - loss: 0.3022 - acc: 0.8832 - val_loss: 1.0094 - val_acc: 0.7334\n",
      "Epoch 48/50\n",
      "1/1 - 0s - loss: 0.2931 - acc: 0.8945 - val_loss: 1.0269 - val_acc: 0.7343\n",
      "Epoch 49/50\n",
      "1/1 - 0s - loss: 0.3060 - acc: 0.9047 - val_loss: 1.0851 - val_acc: 0.7389\n",
      "Epoch 50/50\n",
      "1/1 - 0s - loss: 0.3040 - acc: 0.8924 - val_loss: 1.0500 - val_acc: 0.7445\n"
     ]
    }
   ],
   "source": [
    "history = model.fit(\n",
    "    train_flow, epochs=epochs, validation_data=test_flow, verbose=2, shuffle=False\n",
    ")"
   ]
  },
  {
   "cell_type": "markdown",
   "metadata": {},
   "source": [
    "Plot the training history:"
   ]
  },
  {
   "cell_type": "code",
   "execution_count": 16,
   "metadata": {},
   "outputs": [
    {
     "data": {
      "image/png": "[encoded data removed]",
      "text/plain": [
       "<Figure size 504x576 with 2 Axes>"
      ]
     },
     "metadata": {
      "needs_background": "light"
     },
     "output_type": "display_data"
    }
   ],
   "source": [
    "sg.utils.plot_history(history)"
   ]
  },
  {
   "cell_type": "markdown",
   "metadata": {},
   "source": [
    "Evaluate the trained model on test citation links:"
   ]
  },
  {
   "cell_type": "code",
   "execution_count": 17,
   "metadata": {},
   "outputs": [
    {
     "name": "stdout",
     "output_type": "stream",
     "text": [
      "  ['...']\n",
      "  ['...']\n",
      "\n",
      "Train Set Metrics of the trained model:\n",
      "\tloss: 0.2085\n",
      "\tacc: 0.9355\n",
      "\n",
      "Test Set Metrics of the trained model:\n",
      "\tloss: 1.0500\n",
      "\tacc: 0.7445\n"
     ]
    }
   ],
   "source": [
    "train_metrics = model.evaluate(train_flow)\n",
    "test_metrics = model.evaluate(test_flow)\n",
    "\n",
    "print(\"\\nTrain Set Metrics of the trained model:\")\n",
    "for name, val in zip(model.metrics_names, train_metrics):\n",
    "    print(\"\\t{}: {:0.4f}\".format(name, val))\n",
    "\n",
    "print(\"\\nTest Set Metrics of the trained model:\")\n",
    "for name, val in zip(model.metrics_names, test_metrics):\n",
    "    print(\"\\t{}: {:0.4f}\".format(name, val))"
   ]
  }
 ],
 "metadata": {
  "file_extension": ".py",
  "kernelspec": {
   "display_name": "Python 3",
   "language": "python",
   "name": "python3"
  },
  "language_info": {
   "codemirror_mode": {
    "name": "ipython",
    "version": 3
   },
   "file_extension": ".py",
   "mimetype": "text/x-python",
   "name": "python",
   "nbconvert_exporter": "python",
   "pygments_lexer": "ipython3",
   "version": "3.6.9"
  },
  "mimetype": "text/x-python",
  "name": "python",
  "npconvert_exporter": "python",
  "pygments_lexer": "ipython3",
  "version": 3
 },
 "nbformat": 4,
 "nbformat_minor": 4
}
