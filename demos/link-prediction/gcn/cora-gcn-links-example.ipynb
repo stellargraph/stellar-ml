{
 "cells": [
  {
   "cell_type": "markdown",
   "metadata": {},
   "source": [
    "# Link prediction example: GCN on the Cora citation dataset"
   ]
  },
  {
   "cell_type": "markdown",
   "metadata": {},
   "source": [
    "In this example, we use our implementation of the [GCN](https://arxiv.org/abs/1609.02907) algorithm to build a model that predicts citation links in the Cora dataset (see below). The problem is treated as a supervised link prediction problem on a homogeneous citation network with nodes representing papers (with attributes such as binary keyword indicators and categorical subject) and links corresponding to paper-paper citations. \n",
    "\n",
    "To address this problem, we build a model with the following architecture. First we build a two-layer GCN model that takes labeled node pairs (`citing-paper` -> `cited-paper`)  corresponding to possible citation links, and outputs a pair of node embeddings for the `citing-paper` and `cited-paper` nodes of the pair. These embeddings are then fed into a link classification layer, which first applies a binary operator to those node embeddings (e.g., concatenating them) to construct the embedding of the potential link. Thus obtained link embeddings are passed through the dense link classification layer to obtain link predictions - probability for these candidate links to actually exist in the network. The entire model is trained end-to-end by minimizing the loss function of choice (e.g., binary cross-entropy between predicted link probabilities and true link labels, with true/false citation links having labels 1/0) using stochastic gradient descent (SGD) updates of the model parameters, with minibatches of 'training' links fed into the model."
   ]
  },
  {
   "cell_type": "code",
   "execution_count": 1,
   "metadata": {},
   "outputs": [],
   "source": [
    "import networkx as nx\n",
    "import pandas as pd\n",
    "import os\n",
    "\n",
    "import stellargraph as sg\n",
    "from stellargraph.data import EdgeSplitter\n",
    "from stellargraph.mapper import FullBatchLinkGenerator\n",
    "from stellargraph.layer import GCN, LinkEmbedding\n",
    "\n",
    "\n",
    "from tensorflow import keras\n",
    "from sklearn import preprocessing, feature_extraction, model_selection\n",
    "\n",
    "from stellargraph import globalvar\n",
    "from stellargraph import datasets\n",
    "from IPython.display import display, HTML\n",
    "%matplotlib inline"
   ]
  },
  {
   "cell_type": "markdown",
   "metadata": {},
   "source": [
    "### Loading the CORA network data"
   ]
  },
  {
   "cell_type": "code",
   "execution_count": 2,
   "metadata": {},
   "outputs": [
    {
     "data": {
      "text/html": [
       "The Cora dataset consists of 2708 scientific publications classified into one of seven classes. The citation network consists of 5429 links. Each publication in the dataset is described by a 0/1-valued word vector indicating the absence/presence of the corresponding word from the dictionary. The dictionary consists of 1433 unique words."
      ],
      "text/plain": [
       "<IPython.core.display.HTML object>"
      ]
     },
     "metadata": {},
     "output_type": "display_data"
    }
   ],
   "source": [
    "dataset = datasets.Cora()\n",
    "display(HTML(dataset.description))\n",
    "dataset.download()"
   ]
  },
  {
   "cell_type": "markdown",
   "metadata": {},
   "source": [
    "Load the graph from edgelist (in `cited-paper`,`citing-paper` order)"
   ]
  },
  {
   "cell_type": "code",
   "execution_count": 3,
   "metadata": {},
   "outputs": [],
   "source": [
    "edgelist = pd.read_csv(\n",
    "    os.path.join(dataset.data_directory, \"cora.cites\"),\n",
    "    sep=\"\\t\",\n",
    "    header=None,\n",
    "    names=[\"target\", \"source\"],\n",
    ")\n",
    "edgelist[\"label\"] = \"cites\"  # set the edge type"
   ]
  },
  {
   "cell_type": "code",
   "execution_count": 4,
   "metadata": {},
   "outputs": [],
   "source": [
    "G = nx.from_pandas_edgelist(edgelist, edge_attr=\"label\")"
   ]
  },
  {
   "cell_type": "markdown",
   "metadata": {},
   "source": [
    "Load the features and subject for the nodes"
   ]
  },
  {
   "cell_type": "code",
   "execution_count": 5,
   "metadata": {},
   "outputs": [],
   "source": [
    "feature_names = [\"w_{}\".format(ii) for ii in range(1433)]\n",
    "column_names = feature_names + [\"subject\"]\n",
    "node_data = pd.read_csv(\n",
    "    os.path.join(dataset.data_directory, \"cora.content\"),\n",
    "    sep=\"\\t\",\n",
    "    header=None,\n",
    "    names=column_names,\n",
    ")"
   ]
  },
  {
   "cell_type": "markdown",
   "metadata": {},
   "source": [
    "Define a set of node features that will be used by the model as the difference between the set of all node features and a list of user-defined node attributes to ignore:"
   ]
  },
  {
   "cell_type": "code",
   "execution_count": 6,
   "metadata": {},
   "outputs": [],
   "source": [
    "ignore_attr = []\n",
    "feature_names = sorted(set(column_names) - set(ignore_attr))"
   ]
  },
  {
   "cell_type": "markdown",
   "metadata": {},
   "source": [
    "We need to convert node features that will be used by the model to numeric values. Note that all node features in the Cora dataset, except the categorical \"subject\" feature, are already numeric, and don't require the conversion."
   ]
  },
  {
   "cell_type": "code",
   "execution_count": 7,
   "metadata": {},
   "outputs": [],
   "source": [
    "if \"subject\" in feature_names:\n",
    "    # Convert node features to numeric vectors\n",
    "    feature_encoding = feature_extraction.DictVectorizer(sparse=False)\n",
    "    node_features = feature_encoding.fit_transform(\n",
    "        node_data[feature_names].to_dict(\"records\")\n",
    "    )\n",
    "else:  # node features are already numeric, no further conversion is needed\n",
    "    node_features = node_data[feature_names].values"
   ]
  },
  {
   "cell_type": "markdown",
   "metadata": {},
   "source": [
    "Add node data to G:"
   ]
  },
  {
   "cell_type": "code",
   "execution_count": 8,
   "metadata": {},
   "outputs": [],
   "source": [
    "for nid, f in zip(node_data.index, node_features):\n",
    "    G.nodes[nid][globalvar.TYPE_ATTR_NAME] = \"paper\"  # specify node type\n",
    "    G.nodes[nid][\"feature\"] = f"
   ]
  },
  {
   "cell_type": "markdown",
   "metadata": {},
   "source": [
    "We aim to train a link prediction model, hence we need to prepare the train and test sets of links and the corresponding graphs with those links removed.\n",
    "\n",
    "We are going to split our input graph into a train and test graphs using the EdgeSplitter class in `stellargraph.data`. We will use the train graph for training the model (a binary classifier that, given two nodes, predicts whether a link between these two nodes should exist or not) and the test graph for evaluating the model's performance on hold out data.\n",
    "Each of these graphs will have the same number of nodes as the input graph, but the number of links will differ (be reduced) as some of the links will be removed during each split and used as the positive samples for training/testing the link prediction classifier."
   ]
  },
  {
   "cell_type": "markdown",
   "metadata": {},
   "source": [
    "From the original graph G, extract a randomly sampled subset of test edges (true and false citation links) and the reduced graph G_test with the positive test edges removed:"
   ]
  },
  {
   "cell_type": "code",
   "execution_count": 9,
   "metadata": {},
   "outputs": [
    {
     "name": "stdout",
     "output_type": "stream",
     "text": [
      "** Sampled 527 positive and 527 negative edges. **\n"
     ]
    }
   ],
   "source": [
    "# Define an edge splitter on the original graph G:\n",
    "edge_splitter_test = EdgeSplitter(G)\n",
    "\n",
    "# Randomly sample a fraction p=0.1 of all positive links, and same number of negative links, from G, and obtain the\n",
    "# reduced graph G_test with the sampled links removed:\n",
    "G_test, edge_ids_test, edge_labels_test = edge_splitter_test.train_test_split(\n",
    "    p=0.1, method=\"global\", keep_connected=True\n",
    ")"
   ]
  },
  {
   "cell_type": "markdown",
   "metadata": {},
   "source": [
    "The reduced graph G_test, together with the test ground truth set of links (edge_ids_test, edge_labels_test), will be used for testing the model.\n",
    "\n",
    "Now repeat this procedure to obtain the training data for the model. From the reduced graph G_test, extract a randomly sampled subset of train edges (true and false citation links) and the reduced graph G_train with the positive train edges removed:"
   ]
  },
  {
   "cell_type": "code",
   "execution_count": 10,
   "metadata": {},
   "outputs": [
    {
     "name": "stdout",
     "output_type": "stream",
     "text": [
      "** Sampled 475 positive and 475 negative edges. **\n"
     ]
    }
   ],
   "source": [
    "# Define an edge splitter on the reduced graph G_test:\n",
    "edge_splitter_train = EdgeSplitter(G_test)\n",
    "\n",
    "# Randomly sample a fraction p=0.1 of all positive links, and same number of negative links, from G_test, and obtain the\n",
    "# reduced graph G_train with the sampled links removed:\n",
    "G_train, edge_ids_train, edge_labels_train = edge_splitter_train.train_test_split(\n",
    "    p=0.1, method=\"global\", keep_connected=True\n",
    ")"
   ]
  },
  {
   "cell_type": "markdown",
   "metadata": {},
   "source": [
    "G_train, together with the train ground truth set of links (edge_ids_train, edge_labels_train), will be used for training the model."
   ]
  },
  {
   "cell_type": "markdown",
   "metadata": {},
   "source": [
    "Convert G_train and G_test to StellarGraph objects (undirected, as required by GCN) for ML:"
   ]
  },
  {
   "cell_type": "code",
   "execution_count": 11,
   "metadata": {},
   "outputs": [],
   "source": [
    "G_train = sg.StellarGraph.from_networkx(G_train, node_features=\"feature\")\n",
    "G_test = sg.StellarGraph.from_networkx(G_test, node_features=\"feature\")"
   ]
  },
  {
   "cell_type": "markdown",
   "metadata": {},
   "source": [
    "#### Creating the GCN link model"
   ]
  },
  {
   "cell_type": "markdown",
   "metadata": {},
   "source": [
    "Next, we create the link generators for the train and test link examples to the model. The link generators take the pairs of nodes (`citing-paper`, `cited-paper`) that are given in the `.flow` method to the Keras model, together with the corresponding binary labels indicating whether those pairs represent true or false links.\n",
    "\n",
    "The number of epochs for training the model:"
   ]
  },
  {
   "cell_type": "code",
   "execution_count": 12,
   "metadata": {},
   "outputs": [],
   "source": [
    "epochs = 50"
   ]
  },
  {
   "cell_type": "markdown",
   "metadata": {},
   "source": [
    "For training we create a generator on the `G_train` graph, and make an iterator over the training links using the generator's `flow()` method:"
   ]
  },
  {
   "cell_type": "code",
   "execution_count": 13,
   "metadata": {},
   "outputs": [
    {
     "name": "stdout",
     "output_type": "stream",
     "text": [
      "Using GCN (local pooling) filters...\n"
     ]
    }
   ],
   "source": [
    "train_gen = FullBatchLinkGenerator(G_train, method=\"gcn\")\n",
    "train_flow = train_gen.flow(edge_ids_train, edge_labels_train)"
   ]
  },
  {
   "cell_type": "code",
   "execution_count": 14,
   "metadata": {},
   "outputs": [
    {
     "name": "stdout",
     "output_type": "stream",
     "text": [
      "Using GCN (local pooling) filters...\n"
     ]
    }
   ],
   "source": [
    "test_gen = FullBatchLinkGenerator(G_test, method=\"gcn\")\n",
    "test_flow = train_gen.flow(edge_ids_test, edge_labels_test)"
   ]
  },
  {
   "cell_type": "markdown",
   "metadata": {},
   "source": [
    "Now we can specify our machine learning model, we need a few more parameters for this:\n",
    "\n",
    " * the `layer_sizes` is a list of hidden feature sizes of each layer in the model. In this example we use two GCN layers with 16-dimensional hidden node features at each layer.\n",
    " * `activations` is a list of activations applied to each layer's output\n",
    " * `dropout=0.3` specifies a 30% dropout at each layer. "
   ]
  },
  {
   "cell_type": "markdown",
   "metadata": {},
   "source": [
    "We create a GCN model as follows:"
   ]
  },
  {
   "cell_type": "code",
   "execution_count": 15,
   "metadata": {},
   "outputs": [],
   "source": [
    "gcn = GCN(\n",
    "    layer_sizes=[16, 16], activations=[\"relu\", \"relu\"], generator=train_gen, dropout=0.3\n",
    ")"
   ]
  },
  {
   "cell_type": "markdown",
   "metadata": {},
   "source": [
    "To create a Keras model we now expose the input and output tensors of the GCN model for link prediction, via the `GCN.build` method:"
   ]
  },
  {
   "cell_type": "code",
   "execution_count": 16,
   "metadata": {},
   "outputs": [],
   "source": [
    "x_inp, x_out = gcn.build()"
   ]
  },
  {
   "cell_type": "markdown",
   "metadata": {},
   "source": [
    "Final link classification layer that takes a pair of node embeddings produced by the GCN model, applies a binary operator to them to produce the corresponding link embedding ('ip' for inner product; other options for the binary operator can be seen by running a cell with `?LinkEmbedding` in it), and passes it through a dense layer:"
   ]
  },
  {
   "cell_type": "code",
   "execution_count": 17,
   "metadata": {},
   "outputs": [],
   "source": [
    "prediction = LinkEmbedding(activation=\"relu\", method=\"ip\")(x_out)"
   ]
  },
  {
   "cell_type": "markdown",
   "metadata": {},
   "source": [
    "The predictions need to be reshaped from `(X, 1)` to `(X,)` to match the shape of the targets we have supplied above."
   ]
  },
  {
   "cell_type": "code",
   "execution_count": 18,
   "metadata": {},
   "outputs": [],
   "source": [
    "prediction = keras.layers.Reshape((-1,))(prediction)"
   ]
  },
  {
   "cell_type": "markdown",
   "metadata": {},
   "source": [
    "Stack the GCN and prediction layers into a Keras model, and specify the loss"
   ]
  },
  {
   "cell_type": "code",
   "execution_count": 19,
   "metadata": {},
   "outputs": [],
   "source": [
    "model = keras.Model(inputs=x_inp, outputs=prediction)\n",
    "\n",
    "model.compile(\n",
    "    optimizer=keras.optimizers.Adam(lr=0.01),\n",
    "    loss=keras.losses.binary_crossentropy,\n",
    "    metrics=[\"acc\"],\n",
    ")"
   ]
  },
  {
   "cell_type": "markdown",
   "metadata": {},
   "source": [
    "Evaluate the initial (untrained) model on the train and test set:"
   ]
  },
  {
   "cell_type": "code",
   "execution_count": 20,
   "metadata": {},
   "outputs": [
    {
     "name": "stdout",
     "output_type": "stream",
     "text": [
      "\n",
      "Train Set Metrics of the initial (untrained) model:\n",
      "\tloss: 1.2439\n",
      "\tacc: 0.4989\n",
      "\n",
      "Test Set Metrics of the initial (untrained) model:\n",
      "\tloss: 1.2806\n",
      "\tacc: 0.5000\n"
     ]
    }
   ],
   "source": [
    "init_train_metrics = model.evaluate(train_flow)\n",
    "init_test_metrics = model.evaluate(test_flow)\n",
    "\n",
    "print(\"\\nTrain Set Metrics of the initial (untrained) model:\")\n",
    "for name, val in zip(model.metrics_names, init_train_metrics):\n",
    "    print(\"\\t{}: {:0.4f}\".format(name, val))\n",
    "\n",
    "print(\"\\nTest Set Metrics of the initial (untrained) model:\")\n",
    "for name, val in zip(model.metrics_names, init_test_metrics):\n",
    "    print(\"\\t{}: {:0.4f}\".format(name, val))"
   ]
  },
  {
   "cell_type": "markdown",
   "metadata": {},
   "source": [
    "Train the model:"
   ]
  },
  {
   "cell_type": "code",
   "execution_count": 21,
   "metadata": {},
   "outputs": [
    {
     "name": "stdout",
     "output_type": "stream",
     "text": [
      "Epoch 1/50\n",
      "1/1 - 0s - loss: 1.5128 - acc: 0.5074 - val_loss: 0.8144 - val_acc: 0.5228\n",
      "Epoch 2/50\n",
      "1/1 - 0s - loss: 0.8644 - acc: 0.5095 - val_loss: 0.9247 - val_acc: 0.5028\n",
      "Epoch 3/50\n",
      "1/1 - 0s - loss: 0.9369 - acc: 0.5000 - val_loss: 0.8854 - val_acc: 0.5047\n",
      "Epoch 4/50\n",
      "1/1 - 0s - loss: 0.8861 - acc: 0.5000 - val_loss: 0.8149 - val_acc: 0.5142\n",
      "Epoch 5/50\n",
      "1/1 - 0s - loss: 0.8163 - acc: 0.5063 - val_loss: 0.7519 - val_acc: 0.5285\n",
      "Epoch 6/50\n",
      "1/1 - 0s - loss: 0.7574 - acc: 0.5305 - val_loss: 0.6981 - val_acc: 0.5531\n",
      "Epoch 7/50\n",
      "1/1 - 0s - loss: 0.6965 - acc: 0.5589 - val_loss: 0.6599 - val_acc: 0.6015\n",
      "Epoch 8/50\n",
      "1/1 - 0s - loss: 0.6564 - acc: 0.6379 - val_loss: 0.6598 - val_acc: 0.6224\n",
      "Epoch 9/50\n",
      "1/1 - 0s - loss: 0.6298 - acc: 0.6505 - val_loss: 0.7063 - val_acc: 0.5550\n",
      "Epoch 10/50\n",
      "1/1 - 0s - loss: 0.6870 - acc: 0.6032 - val_loss: 0.7450 - val_acc: 0.5199\n",
      "Epoch 11/50\n",
      "1/1 - 0s - loss: 0.7497 - acc: 0.5874 - val_loss: 0.7515 - val_acc: 0.5209\n",
      "Epoch 12/50\n",
      "1/1 - 0s - loss: 0.7165 - acc: 0.6011 - val_loss: 0.7102 - val_acc: 0.5550\n",
      "Epoch 13/50\n",
      "1/1 - 0s - loss: 0.6573 - acc: 0.6495 - val_loss: 0.6734 - val_acc: 0.6006\n",
      "Epoch 14/50\n",
      "1/1 - 0s - loss: 0.6450 - acc: 0.6821 - val_loss: 0.6647 - val_acc: 0.6243\n",
      "Epoch 15/50\n",
      "1/1 - 0s - loss: 0.6125 - acc: 0.6800 - val_loss: 0.6640 - val_acc: 0.6091\n",
      "Epoch 16/50\n",
      "1/1 - 0s - loss: 0.6203 - acc: 0.6589 - val_loss: 0.6712 - val_acc: 0.5977\n",
      "Epoch 17/50\n",
      "1/1 - 0s - loss: 0.6336 - acc: 0.6495 - val_loss: 0.6702 - val_acc: 0.5987\n",
      "Epoch 18/50\n",
      "1/1 - 0s - loss: 0.6149 - acc: 0.6600 - val_loss: 0.6641 - val_acc: 0.6015\n",
      "Epoch 19/50\n",
      "1/1 - 0s - loss: 0.6124 - acc: 0.6716 - val_loss: 0.6681 - val_acc: 0.6262\n",
      "Epoch 20/50\n",
      "1/1 - 0s - loss: 0.5910 - acc: 0.7084 - val_loss: 0.6736 - val_acc: 0.6290\n",
      "Epoch 21/50\n",
      "1/1 - 0s - loss: 0.5751 - acc: 0.7326 - val_loss: 0.6714 - val_acc: 0.6214\n",
      "Epoch 22/50\n",
      "1/1 - 0s - loss: 0.5643 - acc: 0.7168 - val_loss: 0.6869 - val_acc: 0.6110\n",
      "Epoch 23/50\n",
      "1/1 - 0s - loss: 0.5826 - acc: 0.7253 - val_loss: 0.7070 - val_acc: 0.5939\n",
      "Epoch 24/50\n",
      "1/1 - 0s - loss: 0.5875 - acc: 0.7021 - val_loss: 0.7379 - val_acc: 0.5873\n",
      "Epoch 25/50\n",
      "1/1 - 0s - loss: 0.5872 - acc: 0.6916 - val_loss: 0.7427 - val_acc: 0.5882\n",
      "Epoch 26/50\n",
      "1/1 - 0s - loss: 0.5885 - acc: 0.7063 - val_loss: 0.7064 - val_acc: 0.6262\n",
      "Epoch 27/50\n",
      "1/1 - 0s - loss: 0.5492 - acc: 0.7326 - val_loss: 0.6993 - val_acc: 0.6243\n",
      "Epoch 28/50\n",
      "1/1 - 0s - loss: 0.5419 - acc: 0.7326 - val_loss: 0.6960 - val_acc: 0.6148\n",
      "Epoch 29/50\n",
      "1/1 - 0s - loss: 0.5564 - acc: 0.7095 - val_loss: 0.6956 - val_acc: 0.6195\n",
      "Epoch 30/50\n",
      "1/1 - 0s - loss: 0.5495 - acc: 0.7305 - val_loss: 0.6907 - val_acc: 0.6319\n",
      "Epoch 31/50\n",
      "1/1 - 0s - loss: 0.5389 - acc: 0.7379 - val_loss: 0.6872 - val_acc: 0.6309\n",
      "Epoch 32/50\n",
      "1/1 - 0s - loss: 0.5281 - acc: 0.7474 - val_loss: 0.7043 - val_acc: 0.6319\n",
      "Epoch 33/50\n",
      "1/1 - 0s - loss: 0.5204 - acc: 0.7463 - val_loss: 0.7029 - val_acc: 0.6309\n",
      "Epoch 34/50\n",
      "1/1 - 0s - loss: 0.5206 - acc: 0.7516 - val_loss: 0.7143 - val_acc: 0.6262\n",
      "Epoch 35/50\n",
      "1/1 - 0s - loss: 0.5140 - acc: 0.7568 - val_loss: 0.7395 - val_acc: 0.6214\n",
      "Epoch 36/50\n",
      "1/1 - 0s - loss: 0.5174 - acc: 0.7611 - val_loss: 0.7439 - val_acc: 0.6101\n",
      "Epoch 37/50\n",
      "1/1 - 0s - loss: 0.5035 - acc: 0.7621 - val_loss: 0.7451 - val_acc: 0.6120\n",
      "Epoch 38/50\n",
      "1/1 - 0s - loss: 0.4928 - acc: 0.7842 - val_loss: 0.7565 - val_acc: 0.6157\n",
      "Epoch 39/50\n",
      "1/1 - 0s - loss: 0.5040 - acc: 0.7589 - val_loss: 0.7587 - val_acc: 0.6224\n",
      "Epoch 40/50\n",
      "1/1 - 0s - loss: 0.4667 - acc: 0.7874 - val_loss: 0.7598 - val_acc: 0.6309\n",
      "Epoch 41/50\n",
      "1/1 - 0s - loss: 0.4647 - acc: 0.7737 - val_loss: 0.7633 - val_acc: 0.6281\n",
      "Epoch 42/50\n",
      "1/1 - 0s - loss: 0.4537 - acc: 0.7874 - val_loss: 0.7624 - val_acc: 0.6233\n",
      "Epoch 43/50\n",
      "1/1 - 0s - loss: 0.4520 - acc: 0.7821 - val_loss: 0.7876 - val_acc: 0.6243\n",
      "Epoch 44/50\n",
      "1/1 - 0s - loss: 0.4565 - acc: 0.7768 - val_loss: 0.8132 - val_acc: 0.6338\n",
      "Epoch 45/50\n",
      "1/1 - 0s - loss: 0.4656 - acc: 0.7958 - val_loss: 0.8316 - val_acc: 0.6319\n",
      "Epoch 46/50\n",
      "1/1 - 0s - loss: 0.4284 - acc: 0.7979 - val_loss: 0.8610 - val_acc: 0.6338\n",
      "Epoch 47/50\n",
      "1/1 - 0s - loss: 0.4422 - acc: 0.7968 - val_loss: 0.8666 - val_acc: 0.6480\n",
      "Epoch 48/50\n",
      "1/1 - 0s - loss: 0.4157 - acc: 0.8053 - val_loss: 0.8792 - val_acc: 0.6537\n",
      "Epoch 49/50\n",
      "1/1 - 0s - loss: 0.4349 - acc: 0.8116 - val_loss: 0.8934 - val_acc: 0.6622\n",
      "Epoch 50/50\n",
      "1/1 - 0s - loss: 0.4058 - acc: 0.8179 - val_loss: 0.9238 - val_acc: 0.6660\n"
     ]
    }
   ],
   "source": [
    "history = model.fit(\n",
    "    train_flow, epochs=epochs, validation_data=test_flow, verbose=2, shuffle=False\n",
    ")"
   ]
  },
  {
   "cell_type": "markdown",
   "metadata": {},
   "source": [
    "Plot the training history:"
   ]
  },
  {
   "cell_type": "code",
   "execution_count": 22,
   "metadata": {},
   "outputs": [
    {
     "data": {
      "image/png": "[encoded data removed]",
      "text/plain": [
       "<Figure size 504x576 with 2 Axes>"
      ]
     },
     "metadata": {
      "needs_background": "light"
     },
     "output_type": "display_data"
    }
   ],
   "source": [
    "sg.utils.plot_history(history)"
   ]
  },
  {
   "cell_type": "markdown",
   "metadata": {},
   "source": [
    "Evaluate the trained model on test citation links:"
   ]
  },
  {
   "cell_type": "code",
   "execution_count": 23,
   "metadata": {},
   "outputs": [
    {
     "name": "stdout",
     "output_type": "stream",
     "text": [
      "\n",
      "Train Set Metrics of the trained model:\n",
      "\tloss: 0.3443\n",
      "\tacc: 0.8747\n",
      "\n",
      "Test Set Metrics of the trained model:\n",
      "\tloss: 0.9238\n",
      "\tacc: 0.6660\n"
     ]
    }
   ],
   "source": [
    "train_metrics = model.evaluate(train_flow)\n",
    "test_metrics = model.evaluate(test_flow)\n",
    "\n",
    "print(\"\\nTrain Set Metrics of the trained model:\")\n",
    "for name, val in zip(model.metrics_names, train_metrics):\n",
    "    print(\"\\t{}: {:0.4f}\".format(name, val))\n",
    "\n",
    "print(\"\\nTest Set Metrics of the trained model:\")\n",
    "for name, val in zip(model.metrics_names, test_metrics):\n",
    "    print(\"\\t{}: {:0.4f}\".format(name, val))"
   ]
  }
 ],
 "metadata": {
  "file_extension": ".py",
  "kernelspec": {
   "display_name": "Python 3",
   "language": "python",
   "name": "python3"
  },
  "language_info": {
   "codemirror_mode": {
    "name": "ipython",
    "version": 3
   },
   "file_extension": ".py",
   "mimetype": "text/x-python",
   "name": "python",
   "nbconvert_exporter": "python",
   "pygments_lexer": "ipython3",
   "version": "3.6.9"
  },
  "mimetype": "text/x-python",
  "name": "python",
  "npconvert_exporter": "python",
  "pygments_lexer": "ipython3",
  "version": 3
 },
 "nbformat": 4,
 "nbformat_minor": 4
}
