{
 "cells": [
  {
   "cell_type": "markdown",
   "metadata": {},
   "source": [
    "# Link prediction example: GCN on the Cora citation dataset"
   ]
  },
  {
   "cell_type": "markdown",
   "metadata": {},
   "source": [
    "In this example, we use our implementation of the [GCN](https://arxiv.org/abs/1609.02907) algorithm to build a model that predicts citation links in the Cora dataset (see below). The problem is treated as a supervised link prediction problem on a homogeneous citation network with nodes representing papers (with attributes such as binary keyword indicators and categorical subject) and links corresponding to paper-paper citations. \n",
    "\n",
    "To address this problem, we build a model with the following architecture. First we build a two-layer GCN model that takes labeled node pairs (`citing-paper` -> `cited-paper`)  corresponding to possible citation links, and outputs a pair of node embeddings for the `citing-paper` and `cited-paper` nodes of the pair. These embeddings are then fed into a link classification layer, which first applies a binary operator to those node embeddings (e.g., concatenating them) to construct the embedding of the potential link. Thus obtained link embeddings are passed through the dense link classification layer to obtain link predictions - probability for these candidate links to actually exist in the network. The entire model is trained end-to-end by minimizing the loss function of choice (e.g., binary cross-entropy between predicted link probabilities and true link labels, with true/false citation links having labels 1/0) using stochastic gradient descent (SGD) updates of the model parameters, with minibatches of 'training' links fed into the model."
   ]
  },
  {
   "cell_type": "code",
   "execution_count": 1,
   "metadata": {},
   "outputs": [],
   "source": [
    "import networkx as nx\n",
    "import pandas as pd\n",
    "import os\n",
    "\n",
    "import stellargraph as sg\n",
    "from stellargraph.data import EdgeSplitter\n",
    "from stellargraph.mapper import FullBatchLinkGenerator\n",
    "from stellargraph.layer import GCN, LinkEmbedding\n",
    "\n",
    "\n",
    "from tensorflow import keras\n",
    "from sklearn import preprocessing, feature_extraction, model_selection\n",
    "\n",
    "from stellargraph import globalvar\n",
    "from stellargraph import datasets\n",
    "from IPython.display import display, HTML"
   ]
  },
  {
   "cell_type": "markdown",
   "metadata": {},
   "source": [
    "### Loading the CORA network data"
   ]
  },
  {
   "cell_type": "code",
   "execution_count": 2,
   "metadata": {},
   "outputs": [
    {
     "data": {
      "text/html": [
       "The Cora dataset consists of 2708 scientific publications classified into one of seven classes. The citation network consists of 5429 links. Each publication in the dataset is described by a 0/1-valued word vector indicating the absence/presence of the corresponding word from the dictionary. The dictionary consists of 1433 unique words."
      ],
      "text/plain": [
       "<IPython.core.display.HTML object>"
      ]
     },
     "metadata": {},
     "output_type": "display_data"
    }
   ],
   "source": [
    "dataset = datasets.Cora()\n",
    "display(HTML(dataset.description))\n",
    "dataset.download()"
   ]
  },
  {
   "cell_type": "markdown",
   "metadata": {},
   "source": [
    "Load the graph from edgelist (in `cited-paper`,`citing-paper` order)"
   ]
  },
  {
   "cell_type": "code",
   "execution_count": 3,
   "metadata": {},
   "outputs": [],
   "source": [
    "edgelist = pd.read_csv(\n",
    "    os.path.join(dataset.data_directory, \"cora.cites\"),\n",
    "    sep=\"\\t\",\n",
    "    header=None,\n",
    "    names=[\"target\", \"source\"],\n",
    ")\n",
    "edgelist[\"label\"] = \"cites\"  # set the edge type"
   ]
  },
  {
   "cell_type": "code",
   "execution_count": 4,
   "metadata": {},
   "outputs": [],
   "source": [
    "G = nx.from_pandas_edgelist(edgelist, edge_attr=\"label\")"
   ]
  },
  {
   "cell_type": "markdown",
   "metadata": {},
   "source": [
    "Load the features and subject for the nodes"
   ]
  },
  {
   "cell_type": "code",
   "execution_count": 5,
   "metadata": {},
   "outputs": [],
   "source": [
    "feature_names = [\"w_{}\".format(ii) for ii in range(1433)]\n",
    "column_names = feature_names + [\"subject\"]\n",
    "node_data = pd.read_csv(\n",
    "    os.path.join(dataset.data_directory, \"cora.content\"),\n",
    "    sep=\"\\t\",\n",
    "    header=None,\n",
    "    names=column_names,\n",
    ")"
   ]
  },
  {
   "cell_type": "markdown",
   "metadata": {},
   "source": [
    "Define a set of node features that will be used by the model as the difference between the set of all node features and a list of user-defined node attributes to ignore:"
   ]
  },
  {
   "cell_type": "code",
   "execution_count": 6,
   "metadata": {},
   "outputs": [],
   "source": [
    "ignore_attr = []\n",
    "feature_names = sorted(set(column_names) - set(ignore_attr))"
   ]
  },
  {
   "cell_type": "markdown",
   "metadata": {},
   "source": [
    "We need to convert node features that will be used by the model to numeric values. Note that all node features in the Cora dataset, except the categorical \"subject\" feature, are already numeric, and don't require the conversion."
   ]
  },
  {
   "cell_type": "code",
   "execution_count": 7,
   "metadata": {},
   "outputs": [],
   "source": [
    "if \"subject\" in feature_names:\n",
    "    # Convert node features to numeric vectors\n",
    "    feature_encoding = feature_extraction.DictVectorizer(sparse=False)\n",
    "    node_features = feature_encoding.fit_transform(\n",
    "        node_data[feature_names].to_dict(\"records\")\n",
    "    )\n",
    "else:  # node features are already numeric, no further conversion is needed\n",
    "    node_features = node_data[feature_names].values"
   ]
  },
  {
   "cell_type": "markdown",
   "metadata": {},
   "source": [
    "Add node data to G:"
   ]
  },
  {
   "cell_type": "code",
   "execution_count": 8,
   "metadata": {},
   "outputs": [],
   "source": [
    "for nid, f in zip(node_data.index, node_features):\n",
    "    G.nodes[nid][globalvar.TYPE_ATTR_NAME] = \"paper\"  # specify node type\n",
    "    G.nodes[nid][\"feature\"] = f"
   ]
  },
  {
   "cell_type": "markdown",
   "metadata": {},
   "source": [
    "We aim to train a link prediction model, hence we need to prepare the train and test sets of links and the corresponding graphs with those links removed.\n",
    "\n",
    "We are going to split our input graph into a train and test graphs using the EdgeSplitter class in `stellargraph.data`. We will use the train graph for training the model (a binary classifier that, given two nodes, predicts whether a link between these two nodes should exist or not) and the test graph for evaluating the model's performance on hold out data.\n",
    "Each of these graphs will have the same number of nodes as the input graph, but the number of links will differ (be reduced) as some of the links will be removed during each split and used as the positive samples for training/testing the link prediction classifier."
   ]
  },
  {
   "cell_type": "markdown",
   "metadata": {},
   "source": [
    "From the original graph G, extract a randomly sampled subset of test edges (true and false citation links) and the reduced graph G_test with the positive test edges removed:"
   ]
  },
  {
   "cell_type": "code",
   "execution_count": 9,
   "metadata": {},
   "outputs": [
    {
     "name": "stdout",
     "output_type": "stream",
     "text": [
      "** Sampled 527 positive and 527 negative edges. **\n"
     ]
    }
   ],
   "source": [
    "# Define an edge splitter on the original graph G:\n",
    "edge_splitter_test = EdgeSplitter(G)\n",
    "\n",
    "# Randomly sample a fraction p=0.1 of all positive links, and same number of negative links, from G, and obtain the\n",
    "# reduced graph G_test with the sampled links removed:\n",
    "G_test, edge_ids_test, edge_labels_test = edge_splitter_test.train_test_split(\n",
    "    p=0.1, method=\"global\", keep_connected=True\n",
    ")"
   ]
  },
  {
   "cell_type": "markdown",
   "metadata": {},
   "source": [
    "The reduced graph G_test, together with the test ground truth set of links (edge_ids_test, edge_labels_test), will be used for testing the model.\n",
    "\n",
    "Now repeat this procedure to obtain the training data for the model. From the reduced graph G_test, extract a randomly sampled subset of train edges (true and false citation links) and the reduced graph G_train with the positive train edges removed:"
   ]
  },
  {
   "cell_type": "code",
   "execution_count": 10,
   "metadata": {},
   "outputs": [
    {
     "name": "stdout",
     "output_type": "stream",
     "text": [
      "** Sampled 475 positive and 475 negative edges. **\n"
     ]
    }
   ],
   "source": [
    "# Define an edge splitter on the reduced graph G_test:\n",
    "edge_splitter_train = EdgeSplitter(G_test)\n",
    "\n",
    "# Randomly sample a fraction p=0.1 of all positive links, and same number of negative links, from G_test, and obtain the\n",
    "# reduced graph G_train with the sampled links removed:\n",
    "G_train, edge_ids_train, edge_labels_train = edge_splitter_train.train_test_split(\n",
    "    p=0.1, method=\"global\", keep_connected=True\n",
    ")"
   ]
  },
  {
   "cell_type": "markdown",
   "metadata": {},
   "source": [
    "G_train, together with the train ground truth set of links (edge_ids_train, edge_labels_train), will be used for training the model."
   ]
  },
  {
   "cell_type": "markdown",
   "metadata": {},
   "source": [
    "Convert G_train and G_test to StellarGraph objects (undirected, as required by GCN) for ML:"
   ]
  },
  {
   "cell_type": "code",
   "execution_count": 11,
   "metadata": {},
   "outputs": [],
   "source": [
    "G_train = sg.StellarGraph(G_train, node_features=\"feature\")\n",
    "G_test = sg.StellarGraph(G_test, node_features=\"feature\")"
   ]
  },
  {
   "cell_type": "markdown",
   "metadata": {},
   "source": [
    "#### Creating the GCN link model"
   ]
  },
  {
   "cell_type": "markdown",
   "metadata": {},
   "source": [
    "Next, we create the link generators for the train and test link examples to the model. The link generators take the pairs of nodes (`citing-paper`, `cited-paper`) that are given in the `.flow` method to the Keras model, together with the corresponding binary labels indicating whether those pairs represent true or false links.\n",
    "\n",
    "The number of epochs for training the model:"
   ]
  },
  {
   "cell_type": "code",
   "execution_count": 12,
   "metadata": {},
   "outputs": [],
   "source": [
    "epochs = 50"
   ]
  },
  {
   "cell_type": "markdown",
   "metadata": {},
   "source": [
    "For training we create a generator on the `G_train` graph, and make an iterator over the training links using the generator's `flow()` method:"
   ]
  },
  {
   "cell_type": "code",
   "execution_count": 13,
   "metadata": {},
   "outputs": [
    {
     "name": "stdout",
     "output_type": "stream",
     "text": [
      "Using GCN (local pooling) filters...\n"
     ]
    }
   ],
   "source": [
    "train_gen = FullBatchLinkGenerator(G_train, method=\"gcn\")\n",
    "train_flow = train_gen.flow(edge_ids_train, edge_labels_train)"
   ]
  },
  {
   "cell_type": "code",
   "execution_count": 14,
   "metadata": {},
   "outputs": [
    {
     "name": "stdout",
     "output_type": "stream",
     "text": [
      "Using GCN (local pooling) filters...\n"
     ]
    }
   ],
   "source": [
    "test_gen = FullBatchLinkGenerator(G_test, method=\"gcn\")\n",
    "test_flow = train_gen.flow(edge_ids_test, edge_labels_test)"
   ]
  },
  {
   "cell_type": "markdown",
   "metadata": {},
   "source": [
    "Now we can specify our machine learning model, we need a few more parameters for this:\n",
    "\n",
    " * the `layer_sizes` is a list of hidden feature sizes of each layer in the model. In this example we use two GCN layers with 16-dimensional hidden node features at each layer.\n",
    " * `activations` is a list of activations applied to each layer's output\n",
    " * `dropout=0.3` specifies a 30% dropout at each layer. "
   ]
  },
  {
   "cell_type": "markdown",
   "metadata": {},
   "source": [
    "We create a GCN model as follows:"
   ]
  },
  {
   "cell_type": "code",
   "execution_count": 15,
   "metadata": {},
   "outputs": [],
   "source": [
    "gcn = GCN(\n",
    "    layer_sizes=[16, 16], activations=[\"relu\", \"relu\"], generator=train_gen, dropout=0.3\n",
    ")"
   ]
  },
  {
   "cell_type": "markdown",
   "metadata": {},
   "source": [
    "To create a Keras model we now expose the input and output tensors of the GCN model for link prediction, via the `GCN.build` method:"
   ]
  },
  {
   "cell_type": "code",
   "execution_count": 16,
   "metadata": {},
   "outputs": [],
   "source": [
    "x_inp, x_out = gcn.build()"
   ]
  },
  {
   "cell_type": "markdown",
   "metadata": {},
   "source": [
    "Final link classification layer that takes a pair of node embeddings produced by the GCN model, applies a binary operator to them to produce the corresponding link embedding ('ip' for inner product; other options for the binary operator can be seen by running a cell with `?LinkEmbedding` in it), and passes it through a dense layer:"
   ]
  },
  {
   "cell_type": "code",
   "execution_count": 17,
   "metadata": {},
   "outputs": [],
   "source": [
    "prediction = LinkEmbedding(activation=\"relu\", method=\"ip\")(x_out)"
   ]
  },
  {
   "cell_type": "markdown",
   "metadata": {},
   "source": [
    "The predictions need to be reshaped from `(X, 1)` to `(X,)` to match the shape of the targets we have supplied above."
   ]
  },
  {
   "cell_type": "code",
   "execution_count": 18,
   "metadata": {},
   "outputs": [],
   "source": [
    "prediction = keras.layers.Reshape((-1,))(prediction)"
   ]
  },
  {
   "cell_type": "markdown",
   "metadata": {},
   "source": [
    "Stack the GCN and prediction layers into a Keras model, and specify the loss"
   ]
  },
  {
   "cell_type": "code",
   "execution_count": 19,
   "metadata": {},
   "outputs": [],
   "source": [
    "model = keras.Model(inputs=x_inp, outputs=prediction)\n",
    "\n",
    "model.compile(\n",
    "    optimizer=keras.optimizers.Adam(lr=0.01),\n",
    "    loss=keras.losses.binary_crossentropy,\n",
    "    metrics=[\"acc\"],\n",
    ")"
   ]
  },
  {
   "cell_type": "markdown",
   "metadata": {},
   "source": [
    "Evaluate the initial (untrained) model on the train and test set:"
   ]
  },
  {
   "cell_type": "code",
   "execution_count": 20,
   "metadata": {},
   "outputs": [
    {
     "name": "stdout",
     "output_type": "stream",
     "text": [
      "  ['...']\n",
      "  ['...']\n",
      "\n",
      "Train Set Metrics of the initial (untrained) model:\n",
      "\tloss: 2.4878\n",
      "\tacc: 0.5000\n",
      "\n",
      "Test Set Metrics of the initial (untrained) model:\n",
      "\tloss: 2.5596\n",
      "\tacc: 0.5000\n"
     ]
    }
   ],
   "source": [
    "init_train_metrics = model.evaluate_generator(train_flow)\n",
    "init_test_metrics = model.evaluate_generator(test_flow)\n",
    "\n",
    "print(\"\\nTrain Set Metrics of the initial (untrained) model:\")\n",
    "for name, val in zip(model.metrics_names, init_train_metrics):\n",
    "    print(\"\\t{}: {:0.4f}\".format(name, val))\n",
    "\n",
    "print(\"\\nTest Set Metrics of the initial (untrained) model:\")\n",
    "for name, val in zip(model.metrics_names, init_test_metrics):\n",
    "    print(\"\\t{}: {:0.4f}\".format(name, val))"
   ]
  },
  {
   "cell_type": "markdown",
   "metadata": {},
   "source": [
    "Train the model:"
   ]
  },
  {
   "cell_type": "code",
   "execution_count": 21,
   "metadata": {},
   "outputs": [
    {
     "name": "stdout",
     "output_type": "stream",
     "text": [
      "  ['...']\n",
      "  ['...']\n",
      "Train for 1 steps, validate for 1 steps\n",
      "Epoch 1/50\n",
      "1/1 - 0s - loss: 2.4500 - acc: 0.5000 - val_loss: 0.7966 - val_acc: 0.5408\n",
      "Epoch 2/50\n",
      "1/1 - 0s - loss: 0.7856 - acc: 0.5547 - val_loss: 2.9508 - val_acc: 0.5190\n",
      "Epoch 3/50\n",
      "1/1 - 0s - loss: 3.0601 - acc: 0.5337 - val_loss: 1.3757 - val_acc: 0.5579\n",
      "Epoch 4/50\n",
      "1/1 - 0s - loss: 1.7043 - acc: 0.5653 - val_loss: 0.6728 - val_acc: 0.6252\n",
      "Epoch 5/50\n",
      "1/1 - 0s - loss: 0.6647 - acc: 0.6453 - val_loss: 0.7923 - val_acc: 0.5465\n",
      "Epoch 6/50\n",
      "1/1 - 0s - loss: 0.7591 - acc: 0.5716 - val_loss: 0.9080 - val_acc: 0.5275\n",
      "Epoch 7/50\n",
      "1/1 - 0s - loss: 0.8537 - acc: 0.5389 - val_loss: 0.9219 - val_acc: 0.5313\n",
      "Epoch 8/50\n",
      "1/1 - 0s - loss: 0.8643 - acc: 0.5484 - val_loss: 0.8485 - val_acc: 0.5541\n",
      "Epoch 9/50\n",
      "1/1 - 0s - loss: 0.7806 - acc: 0.5737 - val_loss: 0.7511 - val_acc: 0.5797\n",
      "Epoch 10/50\n",
      "1/1 - 0s - loss: 0.7162 - acc: 0.6095 - val_loss: 0.6848 - val_acc: 0.6148\n",
      "Epoch 11/50\n",
      "1/1 - 0s - loss: 0.7384 - acc: 0.6032 - val_loss: 0.7950 - val_acc: 0.6148\n",
      "Epoch 12/50\n",
      "1/1 - 0s - loss: 0.8312 - acc: 0.6200 - val_loss: 0.8829 - val_acc: 0.6063\n",
      "Epoch 13/50\n",
      "1/1 - 0s - loss: 1.0317 - acc: 0.6453 - val_loss: 0.7606 - val_acc: 0.6290\n",
      "Epoch 14/50\n",
      "1/1 - 0s - loss: 0.7468 - acc: 0.6905 - val_loss: 0.6624 - val_acc: 0.6452\n",
      "Epoch 15/50\n",
      "1/1 - 0s - loss: 0.6501 - acc: 0.6874 - val_loss: 0.6708 - val_acc: 0.6537\n",
      "Epoch 16/50\n",
      "1/1 - 0s - loss: 0.6120 - acc: 0.6884 - val_loss: 0.7092 - val_acc: 0.6271\n",
      "Epoch 17/50\n",
      "1/1 - 0s - loss: 0.6388 - acc: 0.6484 - val_loss: 0.7233 - val_acc: 0.6129\n",
      "Epoch 18/50\n",
      "1/1 - 0s - loss: 0.6867 - acc: 0.6421 - val_loss: 0.7282 - val_acc: 0.5996\n",
      "Epoch 19/50\n",
      "1/1 - 0s - loss: 0.6571 - acc: 0.6695 - val_loss: 0.7257 - val_acc: 0.6091\n",
      "Epoch 20/50\n",
      "1/1 - 0s - loss: 0.7098 - acc: 0.6568 - val_loss: 0.6997 - val_acc: 0.6214\n",
      "Epoch 21/50\n",
      "1/1 - 0s - loss: 0.5992 - acc: 0.6842 - val_loss: 0.6794 - val_acc: 0.6423\n",
      "Epoch 22/50\n",
      "1/1 - 0s - loss: 0.5995 - acc: 0.6884 - val_loss: 0.6709 - val_acc: 0.6537\n",
      "Epoch 23/50\n",
      "1/1 - 0s - loss: 0.5781 - acc: 0.7179 - val_loss: 0.6442 - val_acc: 0.6660\n",
      "Epoch 24/50\n",
      "1/1 - 0s - loss: 0.5729 - acc: 0.7389 - val_loss: 0.6626 - val_acc: 0.6708\n",
      "Epoch 25/50\n",
      "1/1 - 0s - loss: 0.5755 - acc: 0.7453 - val_loss: 0.7080 - val_acc: 0.6736\n",
      "Epoch 26/50\n",
      "1/1 - 0s - loss: 0.6672 - acc: 0.7484 - val_loss: 0.6484 - val_acc: 0.6793\n",
      "Epoch 27/50\n",
      "1/1 - 0s - loss: 0.5816 - acc: 0.7537 - val_loss: 0.6475 - val_acc: 0.6565\n",
      "Epoch 28/50\n",
      "1/1 - 0s - loss: 0.5102 - acc: 0.7347 - val_loss: 0.6499 - val_acc: 0.6461\n",
      "Epoch 29/50\n",
      "1/1 - 0s - loss: 0.5360 - acc: 0.7421 - val_loss: 0.6463 - val_acc: 0.6471\n",
      "Epoch 30/50\n",
      "1/1 - 0s - loss: 0.5270 - acc: 0.7179 - val_loss: 0.6449 - val_acc: 0.6509\n",
      "Epoch 31/50\n",
      "1/1 - 0s - loss: 0.5160 - acc: 0.7263 - val_loss: 0.6381 - val_acc: 0.6575\n",
      "Epoch 32/50\n",
      "1/1 - 0s - loss: 0.5078 - acc: 0.7232 - val_loss: 0.6515 - val_acc: 0.6613\n",
      "Epoch 33/50\n",
      "1/1 - 0s - loss: 0.5130 - acc: 0.7274 - val_loss: 0.6620 - val_acc: 0.6670\n",
      "Epoch 34/50\n",
      "1/1 - 0s - loss: 0.5305 - acc: 0.7516 - val_loss: 0.6644 - val_acc: 0.6632\n",
      "Epoch 35/50\n",
      "1/1 - 0s - loss: 0.5314 - acc: 0.7516 - val_loss: 0.6713 - val_acc: 0.6641\n",
      "Epoch 36/50\n",
      "1/1 - 0s - loss: 0.5197 - acc: 0.7579 - val_loss: 0.6660 - val_acc: 0.6755\n",
      "Epoch 37/50\n",
      "1/1 - 0s - loss: 0.4484 - acc: 0.7653 - val_loss: 0.6606 - val_acc: 0.6822\n",
      "Epoch 38/50\n",
      "1/1 - 0s - loss: 0.5195 - acc: 0.7695 - val_loss: 0.6673 - val_acc: 0.6926\n",
      "Epoch 39/50\n",
      "1/1 - 0s - loss: 0.4663 - acc: 0.7905 - val_loss: 0.6948 - val_acc: 0.6973\n",
      "Epoch 40/50\n",
      "1/1 - 0s - loss: 0.4735 - acc: 0.7821 - val_loss: 0.7012 - val_acc: 0.6983\n",
      "Epoch 41/50\n",
      "1/1 - 0s - loss: 0.4508 - acc: 0.8084 - val_loss: 0.7155 - val_acc: 0.7097\n",
      "Epoch 42/50\n",
      "1/1 - 0s - loss: 0.4532 - acc: 0.7958 - val_loss: 0.7255 - val_acc: 0.7097\n",
      "Epoch 43/50\n",
      "1/1 - 0s - loss: 0.4404 - acc: 0.7905 - val_loss: 0.7346 - val_acc: 0.7068\n",
      "Epoch 44/50\n",
      "1/1 - 0s - loss: 0.4297 - acc: 0.8305 - val_loss: 0.7465 - val_acc: 0.7068\n",
      "Epoch 45/50\n",
      "1/1 - 0s - loss: 0.3886 - acc: 0.8242 - val_loss: 0.7382 - val_acc: 0.7125\n",
      "Epoch 46/50\n",
      "1/1 - 0s - loss: 0.4563 - acc: 0.8337 - val_loss: 0.7296 - val_acc: 0.7116\n",
      "Epoch 47/50\n",
      "1/1 - 0s - loss: 0.4494 - acc: 0.8400 - val_loss: 0.7061 - val_acc: 0.7125\n",
      "Epoch 48/50\n",
      "1/1 - 0s - loss: 0.3988 - acc: 0.8253 - val_loss: 0.7037 - val_acc: 0.7097\n",
      "Epoch 49/50\n",
      "1/1 - 0s - loss: 0.4139 - acc: 0.8326 - val_loss: 0.7067 - val_acc: 0.7116\n",
      "Epoch 50/50\n",
      "1/1 - 0s - loss: 0.4342 - acc: 0.8389 - val_loss: 0.6897 - val_acc: 0.7059\n"
     ]
    }
   ],
   "source": [
    "history = model.fit_generator(\n",
    "    train_flow, epochs=epochs, validation_data=test_flow, verbose=2, shuffle=False\n",
    ")"
   ]
  },
  {
   "cell_type": "markdown",
   "metadata": {},
   "source": [
    "Plot the training history:"
   ]
  },
  {
   "cell_type": "code",
   "execution_count": 22,
   "metadata": {},
   "outputs": [],
   "source": [
    "import matplotlib.pyplot as plt\n",
    "%matplotlib inline\n",
    "\n",
    "def plot_history(history):\n",
    "    metrics = sorted(history.history.keys())\n",
    "    metrics = metrics[:len(metrics)//2]\n",
    "    \n",
    "    f,axs = plt.subplots(1, len(metrics), figsize=(12,4))\n",
    "\n",
    "    for m,ax in zip(metrics,axs):\n",
    "        # summarize history for metric m\n",
    "        ax.plot(history.history[m])\n",
    "        ax.plot(history.history['val_' + m])\n",
    "        ax.set_title(m)\n",
    "        ax.set_ylabel(m)\n",
    "        ax.set_xlabel('epoch')\n",
    "        ax.legend(['train', 'test'], loc='best')"
   ]
  },
  {
   "cell_type": "code",
   "execution_count": 23,
   "metadata": {},
   "outputs": [
    {
     "data": {
      "image/png": "[encoded data removed]",
      "text/plain": [
       "<Figure size 864x288 with 2 Axes>"
      ]
     },
     "metadata": {
      "needs_background": "light"
     },
     "output_type": "display_data"
    }
   ],
   "source": [
    "plot_history(history)"
   ]
  },
  {
   "cell_type": "markdown",
   "metadata": {},
   "source": [
    "Evaluate the trained model on test citation links:"
   ]
  },
  {
   "cell_type": "code",
   "execution_count": 24,
   "metadata": {},
   "outputs": [
    {
     "name": "stdout",
     "output_type": "stream",
     "text": [
      "  ['...']\n",
      "  ['...']\n",
      "\n",
      "Train Set Metrics of the trained model:\n",
      "\tloss: 0.3185\n",
      "\tacc: 0.8800\n",
      "\n",
      "Test Set Metrics of the trained model:\n",
      "\tloss: 0.6897\n",
      "\tacc: 0.7059\n"
     ]
    }
   ],
   "source": [
    "train_metrics = model.evaluate_generator(train_flow)\n",
    "test_metrics = model.evaluate_generator(test_flow)\n",
    "\n",
    "print(\"\\nTrain Set Metrics of the trained model:\")\n",
    "for name, val in zip(model.metrics_names, train_metrics):\n",
    "    print(\"\\t{}: {:0.4f}\".format(name, val))\n",
    "\n",
    "print(\"\\nTest Set Metrics of the trained model:\")\n",
    "for name, val in zip(model.metrics_names, test_metrics):\n",
    "    print(\"\\t{}: {:0.4f}\".format(name, val))"
   ]
  }
 ],
 "metadata": {
  "file_extension": ".py",
  "kernelspec": {
   "display_name": "Python 3",
   "language": "python",
   "name": "python3"
  },
  "language_info": {
   "codemirror_mode": {
    "name": "ipython",
    "version": 3
   },
   "file_extension": ".py",
   "mimetype": "text/x-python",
   "name": "python",
   "nbconvert_exporter": "python",
   "pygments_lexer": "ipython3",
   "version": "3.6.10"
  },
  "mimetype": "text/x-python",
  "name": "python",
  "npconvert_exporter": "python",
  "pygments_lexer": "ipython3",
  "version": 3
 },
 "nbformat": 4,
 "nbformat_minor": 4
}
