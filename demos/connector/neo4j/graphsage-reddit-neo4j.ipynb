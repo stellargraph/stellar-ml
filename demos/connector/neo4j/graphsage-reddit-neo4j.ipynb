{
 "cells": [
  {
   "cell_type": "markdown",
   "metadata": {},
   "source": [
    "# GraphSAGE on the reddit dataset ingested from Neo4j\n",
    "\n",
    "This notebook provides an example of running the the GraphSAGE algorithm with data loaded from Neo4J. The dataset used is `reddit`. \n",
    "\n",
    "Key summary:\n",
    "- End-to-end ingestion: The reddit dataset is entirely loaded in Neo4j, including node features, node class labels (from 0 - 40), information about which nodes are used for training/validation/testing. This eliminates the need for loading any other auxiliary data during the process.\n",
    "\n",
    "- Graph structure is then stored in a networkX object, while all node features are preserved within pandas dataframe. "
   ]
  },
  {
   "cell_type": "code",
   "execution_count": 1,
   "metadata": {},
   "outputs": [],
   "source": [
    "import json\n",
    "import numpy as np\n",
    "import networkx as nx\n",
    "import pandas as pd\n",
    "import os\n",
    "import time\n",
    "import py2neo\n",
    "\n",
    "import stellargraph as sg\n",
    "from stellargraph.mapper import GraphSAGENodeGenerator\n",
    "from stellargraph.layer import GraphSAGE\n",
    "\n",
    "from tensorflow.keras import layers, optimizers, losses, metrics, Model\n",
    "from sklearn import preprocessing, feature_extraction, model_selection\n",
    "\n",
    "from collections import Counter\n",
    "\n",
    "import matplotlib.pyplot as plt\n",
    "%matplotlib inline\n",
    "\n",
    "cal = False"
   ]
  },
  {
   "cell_type": "markdown",
   "metadata": {},
   "source": [
    "## Load reddit dataset from Neo4J\n",
    "\n",
    "The reddit dataset can be downloaded from <a href=\"http://snap.stanford.edu/graphsage/\">here</a>.\n",
    "\n",
    "<blockquote>Reddit is a large online discussion forum where users post and comment on content in different topical communities. We constructed a graph dataset from Reddit posts made in the month of September, 2014. The node label in this case is the community, or “subreddit”, that a post belongs to. We sampled 50 large communities and built a post-to-post graph, connecting posts if the same user comments on both source and destination node.</blockquote>"
   ]
  },
  {
   "cell_type": "code",
   "execution_count": 2,
   "metadata": {},
   "outputs": [
    {
     "name": "stdout",
     "output_type": "stream",
     "text": [
      "117.29327344894409 s: Loading all edges from neo4j database to memory.\n"
     ]
    }
   ],
   "source": [
    "def get_edges_from_neo4j(scheme, host, username, password):\n",
    "    \n",
    "    neo4j_graphdb = py2neo.Graph(scheme=scheme, host=host, auth=(username, password))\n",
    "    \n",
    "    fetch_rel_query = \"MATCH (source)-[relationship]->(target) RETURN id(source) as source, id(target) as target;\"\n",
    "    \n",
    "    rel_records = neo4j_graphdb.run(fetch_rel_query)    \n",
    "    \n",
    "    return pd.DataFrame(rel_records).rename(columns={0:'source', 1:'target'})\n",
    "\n",
    "start = time.time()\n",
    "edge_df = get_edges_from_neo4j(scheme=\"bolt\", host=\"localhost\", username=\"neo4j\", password=\"reddit\")\n",
    "edge_df['label'] = 'same_user'\n",
    "end = time.time()\n",
    "\n",
    "print(f\"{end - start} s: Loading all edges from neo4j database to memory.\")\n",
    "\n",
    "\n",
    "#import the edge dataframe into NetworkX graph object\n",
    "#nx_graph = nx.from_pandas_edgelist(edge_df, 'SOURCE', 'TARGET', create_using=nx.MultiGraph())"
   ]
  },
  {
   "cell_type": "code",
   "execution_count": 3,
   "metadata": {
    "scrolled": true
   },
   "outputs": [
    {
     "name": "stdout",
     "output_type": "stream",
     "text": [
      "151.06284642219543 s: Loading all vertices from neo4j database to memory\n"
     ]
    },
    {
     "data": {
      "text/html": [
       "<div>\n",
       "<style scoped>\n",
       "    .dataframe tbody tr th:only-of-type {\n",
       "        vertical-align: middle;\n",
       "    }\n",
       "\n",
       "    .dataframe tbody tr th {\n",
       "        vertical-align: top;\n",
       "    }\n",
       "\n",
       "    .dataframe thead th {\n",
       "        text-align: right;\n",
       "    }\n",
       "</style>\n",
       "<table border=\"1\" class=\"dataframe\">\n",
       "  <thead>\n",
       "    <tr style=\"text-align: right;\">\n",
       "      <th></th>\n",
       "      <th>id</th>\n",
       "      <th>attr</th>\n",
       "    </tr>\n",
       "  </thead>\n",
       "  <tbody>\n",
       "    <tr>\n",
       "      <th>0</th>\n",
       "      <td>0</td>\n",
       "      <td>{'val': False, 'features': [254.0, 3093.0, 0.0...</td>\n",
       "    </tr>\n",
       "    <tr>\n",
       "      <th>1</th>\n",
       "      <td>1</td>\n",
       "      <td>{'val': False, 'features': [5.0, 1.0, 0.024994...</td>\n",
       "    </tr>\n",
       "    <tr>\n",
       "      <th>2</th>\n",
       "      <td>2</td>\n",
       "      <td>{'val': False, 'features': [6.0, 3.0, 0.021834...</td>\n",
       "    </tr>\n",
       "    <tr>\n",
       "      <th>3</th>\n",
       "      <td>3</td>\n",
       "      <td>{'val': False, 'features': [5.0, 1.0, 0.026114...</td>\n",
       "    </tr>\n",
       "    <tr>\n",
       "      <th>4</th>\n",
       "      <td>4</td>\n",
       "      <td>{'val': False, 'features': [2.0, 73.0, 0.00260...</td>\n",
       "    </tr>\n",
       "  </tbody>\n",
       "</table>\n",
       "</div>"
      ],
      "text/plain": [
       "   id                                               attr\n",
       "0   0  {'val': False, 'features': [254.0, 3093.0, 0.0...\n",
       "1   1  {'val': False, 'features': [5.0, 1.0, 0.024994...\n",
       "2   2  {'val': False, 'features': [6.0, 3.0, 0.021834...\n",
       "3   3  {'val': False, 'features': [5.0, 1.0, 0.026114...\n",
       "4   4  {'val': False, 'features': [2.0, 73.0, 0.00260..."
      ]
     },
     "execution_count": 3,
     "metadata": {},
     "output_type": "execute_result"
    }
   ],
   "source": [
    "def get_nodes_from_neo4j(scheme, host, username, password):\n",
    "    \n",
    "    neo4j_graphdb = py2neo.Graph(scheme=scheme, host=host, auth=(username, password))\n",
    "    \n",
    "    fetch_node_query = \"MATCH (node) RETURN id(node), properties(node)\"\n",
    "\n",
    "    #run the node-fetching query\n",
    "    node_records = neo4j_graphdb.run(fetch_node_query)\n",
    "\n",
    "    #convert the node records into pandas dataframe\n",
    "    return pd.DataFrame(node_records).rename(columns = {0:'id', 1:'attr'})\n",
    "\n",
    "start = time.time()\n",
    "node_df = get_nodes_from_neo4j(scheme=\"bolt\", host=\"localhost\", username=\"neo4j\", password=\"reddit\")\n",
    "end = time.time()\n",
    "\n",
    "print(f\"{end - start} s: Loading all vertices from neo4j database to memory\")\n",
    "node_df.head(5)"
   ]
  },
  {
   "cell_type": "markdown",
   "metadata": {},
   "source": [
    "### Data preprocessing\n",
    "Flatten the attribute dictionary and concatenate with the Neo4J node id."
   ]
  },
  {
   "cell_type": "code",
   "execution_count": 4,
   "metadata": {},
   "outputs": [
    {
     "data": {
      "text/html": [
       "<div>\n",
       "<style scoped>\n",
       "    .dataframe tbody tr th:only-of-type {\n",
       "        vertical-align: middle;\n",
       "    }\n",
       "\n",
       "    .dataframe tbody tr th {\n",
       "        vertical-align: top;\n",
       "    }\n",
       "\n",
       "    .dataframe thead th {\n",
       "        text-align: right;\n",
       "    }\n",
       "</style>\n",
       "<table border=\"1\" class=\"dataframe\">\n",
       "  <thead>\n",
       "    <tr style=\"text-align: right;\">\n",
       "      <th></th>\n",
       "      <th>val</th>\n",
       "      <th>features</th>\n",
       "      <th>test</th>\n",
       "      <th>post_name</th>\n",
       "      <th>class</th>\n",
       "    </tr>\n",
       "    <tr>\n",
       "      <th>id</th>\n",
       "      <th></th>\n",
       "      <th></th>\n",
       "      <th></th>\n",
       "      <th></th>\n",
       "      <th></th>\n",
       "    </tr>\n",
       "  </thead>\n",
       "  <tbody>\n",
       "    <tr>\n",
       "      <th>0</th>\n",
       "      <td>False</td>\n",
       "      <td>[254.0, 3093.0, 0.0038812849670648575, 0.01511...</td>\n",
       "      <td>True</td>\n",
       "      <td>2hgylt</td>\n",
       "      <td>30</td>\n",
       "    </tr>\n",
       "    <tr>\n",
       "      <th>1</th>\n",
       "      <td>False</td>\n",
       "      <td>[5.0, 1.0, 0.02499435469508171, -0.00836942344...</td>\n",
       "      <td>False</td>\n",
       "      <td>2g1zkx</td>\n",
       "      <td>17</td>\n",
       "    </tr>\n",
       "    <tr>\n",
       "      <th>2</th>\n",
       "      <td>False</td>\n",
       "      <td>[6.0, 3.0, 0.02183488756418228, 0.003199644386...</td>\n",
       "      <td>True</td>\n",
       "      <td>2hgyls</td>\n",
       "      <td>18</td>\n",
       "    </tr>\n",
       "    <tr>\n",
       "      <th>3</th>\n",
       "      <td>False</td>\n",
       "      <td>[5.0, 1.0, 0.026114029809832573, 0.00734782963...</td>\n",
       "      <td>False</td>\n",
       "      <td>2f6ifj</td>\n",
       "      <td>23</td>\n",
       "    </tr>\n",
       "    <tr>\n",
       "      <th>4</th>\n",
       "      <td>False</td>\n",
       "      <td>[2.0, 73.0, 0.0026064557023346424, 0.024893743...</td>\n",
       "      <td>False</td>\n",
       "      <td>2g3fjh</td>\n",
       "      <td>22</td>\n",
       "    </tr>\n",
       "    <tr>\n",
       "      <th>5</th>\n",
       "      <td>True</td>\n",
       "      <td>[7.0, 0.0, 0.04457723721861839, 0.003822805127...</td>\n",
       "      <td>False</td>\n",
       "      <td>2h74lt</td>\n",
       "      <td>15</td>\n",
       "    </tr>\n",
       "    <tr>\n",
       "      <th>6</th>\n",
       "      <td>False</td>\n",
       "      <td>[12.0, 4.0, 0.004076262470334768, -0.006458249...</td>\n",
       "      <td>False</td>\n",
       "      <td>2g9w2s</td>\n",
       "      <td>33</td>\n",
       "    </tr>\n",
       "    <tr>\n",
       "      <th>7</th>\n",
       "      <td>True</td>\n",
       "      <td>[5.0, 0.0, -0.018937064334750175, -0.000587218...</td>\n",
       "      <td>False</td>\n",
       "      <td>2h5erw</td>\n",
       "      <td>14</td>\n",
       "    </tr>\n",
       "    <tr>\n",
       "      <th>8</th>\n",
       "      <td>False</td>\n",
       "      <td>[2.0, 2.0, 0.1045636236667633, 0.0002368068089...</td>\n",
       "      <td>False</td>\n",
       "      <td>2fj5f2</td>\n",
       "      <td>38</td>\n",
       "    </tr>\n",
       "    <tr>\n",
       "      <th>9</th>\n",
       "      <td>False</td>\n",
       "      <td>[2.0, 1.0, 0.041126880794763565, 0.00064589333...</td>\n",
       "      <td>False</td>\n",
       "      <td>2f6ifq</td>\n",
       "      <td>18</td>\n",
       "    </tr>\n",
       "    <tr>\n",
       "      <th>10</th>\n",
       "      <td>False</td>\n",
       "      <td>[28.0, 847.0, -0.005384513642638922, 0.0068056...</td>\n",
       "      <td>False</td>\n",
       "      <td>2g1zkh</td>\n",
       "      <td>6</td>\n",
       "    </tr>\n",
       "    <tr>\n",
       "      <th>11</th>\n",
       "      <td>False</td>\n",
       "      <td>[16.0, 1.0, -0.016536656767129898, -0.04205972...</td>\n",
       "      <td>False</td>\n",
       "      <td>2fj5f6</td>\n",
       "      <td>3</td>\n",
       "    </tr>\n",
       "    <tr>\n",
       "      <th>12</th>\n",
       "      <td>False</td>\n",
       "      <td>[17.0, 3.0, 0.04523821175098419, 0.00434496719...</td>\n",
       "      <td>False</td>\n",
       "      <td>2gfwu7</td>\n",
       "      <td>6</td>\n",
       "    </tr>\n",
       "    <tr>\n",
       "      <th>13</th>\n",
       "      <td>True</td>\n",
       "      <td>[5.0, 1.0, 0.02496836520731449, 0.000716608657...</td>\n",
       "      <td>False</td>\n",
       "      <td>2hk2a7</td>\n",
       "      <td>18</td>\n",
       "    </tr>\n",
       "    <tr>\n",
       "      <th>14</th>\n",
       "      <td>False</td>\n",
       "      <td>[3.0, 1.0, 0.01946604810655117, 0.005891351494...</td>\n",
       "      <td>True</td>\n",
       "      <td>2hk2a8</td>\n",
       "      <td>18</td>\n",
       "    </tr>\n",
       "    <tr>\n",
       "      <th>15</th>\n",
       "      <td>False</td>\n",
       "      <td>[1.0, 0.0, 0.024040812626481056, 0.00107717420...</td>\n",
       "      <td>True</td>\n",
       "      <td>2h5erc</td>\n",
       "      <td>0</td>\n",
       "    </tr>\n",
       "    <tr>\n",
       "      <th>16</th>\n",
       "      <td>False</td>\n",
       "      <td>[1.0, 0.0, 0.027347691357135773, -0.0012946602...</td>\n",
       "      <td>False</td>\n",
       "      <td>2fmexp</td>\n",
       "      <td>31</td>\n",
       "    </tr>\n",
       "    <tr>\n",
       "      <th>17</th>\n",
       "      <td>False</td>\n",
       "      <td>[1.0, 1.0, 0.004468608647584915, 0.00710491463...</td>\n",
       "      <td>False</td>\n",
       "      <td>2fb9m4</td>\n",
       "      <td>8</td>\n",
       "    </tr>\n",
       "    <tr>\n",
       "      <th>18</th>\n",
       "      <td>False</td>\n",
       "      <td>[2.0, 8.0, 0.046008430421352386, 0.00976294651...</td>\n",
       "      <td>False</td>\n",
       "      <td>2fmexr</td>\n",
       "      <td>22</td>\n",
       "    </tr>\n",
       "    <tr>\n",
       "      <th>19</th>\n",
       "      <td>False</td>\n",
       "      <td>[9.0, 2.0, 0.031079348176717758, 0.01142069045...</td>\n",
       "      <td>True</td>\n",
       "      <td>2hgylk</td>\n",
       "      <td>28</td>\n",
       "    </tr>\n",
       "    <tr>\n",
       "      <th>20</th>\n",
       "      <td>False</td>\n",
       "      <td>[6.0, 17.0, 0.021532529965043068, -0.010094227...</td>\n",
       "      <td>False</td>\n",
       "      <td>2glkrv</td>\n",
       "      <td>19</td>\n",
       "    </tr>\n",
       "    <tr>\n",
       "      <th>21</th>\n",
       "      <td>False</td>\n",
       "      <td>[21.0, 0.0, 0.019281934946775436, -0.008778337...</td>\n",
       "      <td>False</td>\n",
       "      <td>2grcu8</td>\n",
       "      <td>5</td>\n",
       "    </tr>\n",
       "    <tr>\n",
       "      <th>22</th>\n",
       "      <td>False</td>\n",
       "      <td>[5.0, 0.0, 0.03142596408724785, -0.01978543214...</td>\n",
       "      <td>False</td>\n",
       "      <td>2glkru</td>\n",
       "      <td>15</td>\n",
       "    </tr>\n",
       "    <tr>\n",
       "      <th>23</th>\n",
       "      <td>False</td>\n",
       "      <td>[14.0, 22.0, 0.0032148584723472595, 0.00828380...</td>\n",
       "      <td>True</td>\n",
       "      <td>2h50et</td>\n",
       "      <td>18</td>\n",
       "    </tr>\n",
       "    <tr>\n",
       "      <th>24</th>\n",
       "      <td>False</td>\n",
       "      <td>[3.0, 5.0, 0.0015967985382303596, 0.0120960874...</td>\n",
       "      <td>False</td>\n",
       "      <td>2f5dwb</td>\n",
       "      <td>22</td>\n",
       "    </tr>\n",
       "    <tr>\n",
       "      <th>25</th>\n",
       "      <td>True</td>\n",
       "      <td>[90.0, 547.0, 0.008615005761384964, -0.0012060...</td>\n",
       "      <td>False</td>\n",
       "      <td>2hp9br</td>\n",
       "      <td>6</td>\n",
       "    </tr>\n",
       "    <tr>\n",
       "      <th>26</th>\n",
       "      <td>True</td>\n",
       "      <td>[9.0, 2.0, 0.006596846040338278, -0.0186013244...</td>\n",
       "      <td>False</td>\n",
       "      <td>2hqyrt</td>\n",
       "      <td>26</td>\n",
       "    </tr>\n",
       "    <tr>\n",
       "      <th>27</th>\n",
       "      <td>False</td>\n",
       "      <td>[74.0, 144.0, 0.0576469823718071, -0.005350391...</td>\n",
       "      <td>True</td>\n",
       "      <td>2hh5o7</td>\n",
       "      <td>9</td>\n",
       "    </tr>\n",
       "    <tr>\n",
       "      <th>28</th>\n",
       "      <td>False</td>\n",
       "      <td>[2.0, 1.0, 0.039318718016147614, -0.0058837872...</td>\n",
       "      <td>True</td>\n",
       "      <td>2htxgr</td>\n",
       "      <td>15</td>\n",
       "    </tr>\n",
       "    <tr>\n",
       "      <th>29</th>\n",
       "      <td>True</td>\n",
       "      <td>[10.0, 0.0, 0.02022261545062065, 0.01401503942...</td>\n",
       "      <td>False</td>\n",
       "      <td>2h7sdb</td>\n",
       "      <td>15</td>\n",
       "    </tr>\n",
       "    <tr>\n",
       "      <th>...</th>\n",
       "      <td>...</td>\n",
       "      <td>...</td>\n",
       "      <td>...</td>\n",
       "      <td>...</td>\n",
       "      <td>...</td>\n",
       "    </tr>\n",
       "    <tr>\n",
       "      <th>235357</th>\n",
       "      <td>False</td>\n",
       "      <td>[1.0, 11.0, -0.04924912750720978, 0.0125037636...</td>\n",
       "      <td>False</td>\n",
       "      <td>2fo0og</td>\n",
       "      <td>22</td>\n",
       "    </tr>\n",
       "    <tr>\n",
       "      <th>235358</th>\n",
       "      <td>False</td>\n",
       "      <td>[2.0, 1.0, -0.001530572772026062, 0.0153240235...</td>\n",
       "      <td>False</td>\n",
       "      <td>2gdlxr</td>\n",
       "      <td>8</td>\n",
       "    </tr>\n",
       "    <tr>\n",
       "      <th>235359</th>\n",
       "      <td>False</td>\n",
       "      <td>[1.0, 1.0, 0.017763124778866768, -0.0009394476...</td>\n",
       "      <td>False</td>\n",
       "      <td>2gbh2l</td>\n",
       "      <td>15</td>\n",
       "    </tr>\n",
       "    <tr>\n",
       "      <th>235360</th>\n",
       "      <td>False</td>\n",
       "      <td>[3.0, 1.0, 0.006024685688316822, 0.00768003659...</td>\n",
       "      <td>False</td>\n",
       "      <td>2fhaoj</td>\n",
       "      <td>27</td>\n",
       "    </tr>\n",
       "    <tr>\n",
       "      <th>235361</th>\n",
       "      <td>False</td>\n",
       "      <td>[1.0, 0.0, 0.02155154198408127, 0.005520640872...</td>\n",
       "      <td>False</td>\n",
       "      <td>2f7all</td>\n",
       "      <td>4</td>\n",
       "    </tr>\n",
       "    <tr>\n",
       "      <th>235362</th>\n",
       "      <td>False</td>\n",
       "      <td>[2.0, 0.0, 0.0062329573556780815, -0.000422022...</td>\n",
       "      <td>False</td>\n",
       "      <td>2hfr4e</td>\n",
       "      <td>15</td>\n",
       "    </tr>\n",
       "    <tr>\n",
       "      <th>235363</th>\n",
       "      <td>False</td>\n",
       "      <td>[4.0, 0.0, 0.032527629286050797, -0.0182030722...</td>\n",
       "      <td>False</td>\n",
       "      <td>2hrc9w</td>\n",
       "      <td>15</td>\n",
       "    </tr>\n",
       "    <tr>\n",
       "      <th>235364</th>\n",
       "      <td>False</td>\n",
       "      <td>[3.0, 2.0, 0.0031011851970106363, 0.0122169563...</td>\n",
       "      <td>False</td>\n",
       "      <td>2gyhiw</td>\n",
       "      <td>27</td>\n",
       "    </tr>\n",
       "    <tr>\n",
       "      <th>235365</th>\n",
       "      <td>False</td>\n",
       "      <td>[2.0, 3.0, 0.04906705021858215, -0.01292944885...</td>\n",
       "      <td>False</td>\n",
       "      <td>2hxloj</td>\n",
       "      <td>27</td>\n",
       "    </tr>\n",
       "    <tr>\n",
       "      <th>235366</th>\n",
       "      <td>False</td>\n",
       "      <td>[2.0, 1.0, -0.015208017081022263, 0.0158133506...</td>\n",
       "      <td>False</td>\n",
       "      <td>2fympd</td>\n",
       "      <td>8</td>\n",
       "    </tr>\n",
       "    <tr>\n",
       "      <th>235367</th>\n",
       "      <td>False</td>\n",
       "      <td>[1.0, 4.0, 0.0643947646021843, 0.0039659594185...</td>\n",
       "      <td>False</td>\n",
       "      <td>2fkw9s</td>\n",
       "      <td>23</td>\n",
       "    </tr>\n",
       "    <tr>\n",
       "      <th>235368</th>\n",
       "      <td>False</td>\n",
       "      <td>[2.0, 2.0, 0.05872594937682152, -0.00901814643...</td>\n",
       "      <td>False</td>\n",
       "      <td>2fcje0</td>\n",
       "      <td>30</td>\n",
       "    </tr>\n",
       "    <tr>\n",
       "      <th>235369</th>\n",
       "      <td>False</td>\n",
       "      <td>[1.0, 4.0, 0.02231479436159134, 0.010850778780...</td>\n",
       "      <td>False</td>\n",
       "      <td>2hrsaf</td>\n",
       "      <td>23</td>\n",
       "    </tr>\n",
       "    <tr>\n",
       "      <th>235370</th>\n",
       "      <td>False</td>\n",
       "      <td>[1.0, 4.0, 0.006270109210163355, 0.00500648282...</td>\n",
       "      <td>False</td>\n",
       "      <td>2gz4ua</td>\n",
       "      <td>22</td>\n",
       "    </tr>\n",
       "    <tr>\n",
       "      <th>235371</th>\n",
       "      <td>False</td>\n",
       "      <td>[1.0, 1.0, 0.006953633390367031, -0.0091199120...</td>\n",
       "      <td>False</td>\n",
       "      <td>2fdw60</td>\n",
       "      <td>37</td>\n",
       "    </tr>\n",
       "    <tr>\n",
       "      <th>235372</th>\n",
       "      <td>False</td>\n",
       "      <td>[1.0, 8.0, 0.031669486314058304, -0.0142089016...</td>\n",
       "      <td>False</td>\n",
       "      <td>2g151y</td>\n",
       "      <td>32</td>\n",
       "    </tr>\n",
       "    <tr>\n",
       "      <th>235373</th>\n",
       "      <td>False</td>\n",
       "      <td>[1.0, 108.0, 0.02978856861591339, -0.000668358...</td>\n",
       "      <td>False</td>\n",
       "      <td>2g8guu</td>\n",
       "      <td>22</td>\n",
       "    </tr>\n",
       "    <tr>\n",
       "      <th>235374</th>\n",
       "      <td>False</td>\n",
       "      <td>[1.0, 1.0, 0.027859214693307877, -0.0021198594...</td>\n",
       "      <td>False</td>\n",
       "      <td>2gk82p</td>\n",
       "      <td>37</td>\n",
       "    </tr>\n",
       "    <tr>\n",
       "      <th>235375</th>\n",
       "      <td>False</td>\n",
       "      <td>[5.0, 4.0, 0.01621810905635357, -0.01440049707...</td>\n",
       "      <td>False</td>\n",
       "      <td>2h7t5j</td>\n",
       "      <td>0</td>\n",
       "    </tr>\n",
       "    <tr>\n",
       "      <th>235376</th>\n",
       "      <td>False</td>\n",
       "      <td>[2.0, 14.0, 0.006514785811305046, 0.0073511810...</td>\n",
       "      <td>False</td>\n",
       "      <td>2h9v7j</td>\n",
       "      <td>22</td>\n",
       "    </tr>\n",
       "    <tr>\n",
       "      <th>235377</th>\n",
       "      <td>False</td>\n",
       "      <td>[1.0, 2.0, 0.02160307951271534, -0.02052789367...</td>\n",
       "      <td>False</td>\n",
       "      <td>2h1qe2</td>\n",
       "      <td>13</td>\n",
       "    </tr>\n",
       "    <tr>\n",
       "      <th>235378</th>\n",
       "      <td>False</td>\n",
       "      <td>[2.0, 3.0, 0.016985896974802017, -0.0246522668...</td>\n",
       "      <td>False</td>\n",
       "      <td>2fybrl</td>\n",
       "      <td>35</td>\n",
       "    </tr>\n",
       "    <tr>\n",
       "      <th>235379</th>\n",
       "      <td>False</td>\n",
       "      <td>[1.0, 7.0, 0.013584248721599579, 0.00302970805...</td>\n",
       "      <td>False</td>\n",
       "      <td>2g1uq3</td>\n",
       "      <td>18</td>\n",
       "    </tr>\n",
       "    <tr>\n",
       "      <th>235380</th>\n",
       "      <td>False</td>\n",
       "      <td>[1.0, 1.0, 0.030073639005422592, -0.0087862582...</td>\n",
       "      <td>False</td>\n",
       "      <td>2f6bwr</td>\n",
       "      <td>15</td>\n",
       "    </tr>\n",
       "    <tr>\n",
       "      <th>235381</th>\n",
       "      <td>False</td>\n",
       "      <td>[3.0, 1.0, 0.023701868951320648, -0.0181434825...</td>\n",
       "      <td>False</td>\n",
       "      <td>2fgvjp</td>\n",
       "      <td>23</td>\n",
       "    </tr>\n",
       "    <tr>\n",
       "      <th>235382</th>\n",
       "      <td>False</td>\n",
       "      <td>[2.0, 4.0, 0.041923023760318756, -0.0210747569...</td>\n",
       "      <td>False</td>\n",
       "      <td>2gehec</td>\n",
       "      <td>9</td>\n",
       "    </tr>\n",
       "    <tr>\n",
       "      <th>235383</th>\n",
       "      <td>False</td>\n",
       "      <td>[1.0, 1.0, 0.04170667752623558, -0.00947492476...</td>\n",
       "      <td>False</td>\n",
       "      <td>2hg854</td>\n",
       "      <td>29</td>\n",
       "    </tr>\n",
       "    <tr>\n",
       "      <th>235384</th>\n",
       "      <td>False</td>\n",
       "      <td>[1.0, 2.0, 0.051931232213974, -0.0315692983567...</td>\n",
       "      <td>False</td>\n",
       "      <td>2g207d</td>\n",
       "      <td>15</td>\n",
       "    </tr>\n",
       "    <tr>\n",
       "      <th>235385</th>\n",
       "      <td>False</td>\n",
       "      <td>[1.0, 0.0, 0.028111709281802177, -0.0008836188...</td>\n",
       "      <td>False</td>\n",
       "      <td>2fl6eu</td>\n",
       "      <td>7</td>\n",
       "    </tr>\n",
       "    <tr>\n",
       "      <th>235386</th>\n",
       "      <td>False</td>\n",
       "      <td>[1.0, 0.0, 0.04729914665222168, -0.00186486425...</td>\n",
       "      <td>False</td>\n",
       "      <td>2g0vg1</td>\n",
       "      <td>15</td>\n",
       "    </tr>\n",
       "  </tbody>\n",
       "</table>\n",
       "<p>232965 rows × 5 columns</p>\n",
       "</div>"
      ],
      "text/plain": [
       "          val                                           features   test  \\\n",
       "id                                                                        \n",
       "0       False  [254.0, 3093.0, 0.0038812849670648575, 0.01511...   True   \n",
       "1       False  [5.0, 1.0, 0.02499435469508171, -0.00836942344...  False   \n",
       "2       False  [6.0, 3.0, 0.02183488756418228, 0.003199644386...   True   \n",
       "3       False  [5.0, 1.0, 0.026114029809832573, 0.00734782963...  False   \n",
       "4       False  [2.0, 73.0, 0.0026064557023346424, 0.024893743...  False   \n",
       "5        True  [7.0, 0.0, 0.04457723721861839, 0.003822805127...  False   \n",
       "6       False  [12.0, 4.0, 0.004076262470334768, -0.006458249...  False   \n",
       "7        True  [5.0, 0.0, -0.018937064334750175, -0.000587218...  False   \n",
       "8       False  [2.0, 2.0, 0.1045636236667633, 0.0002368068089...  False   \n",
       "9       False  [2.0, 1.0, 0.041126880794763565, 0.00064589333...  False   \n",
       "10      False  [28.0, 847.0, -0.005384513642638922, 0.0068056...  False   \n",
       "11      False  [16.0, 1.0, -0.016536656767129898, -0.04205972...  False   \n",
       "12      False  [17.0, 3.0, 0.04523821175098419, 0.00434496719...  False   \n",
       "13       True  [5.0, 1.0, 0.02496836520731449, 0.000716608657...  False   \n",
       "14      False  [3.0, 1.0, 0.01946604810655117, 0.005891351494...   True   \n",
       "15      False  [1.0, 0.0, 0.024040812626481056, 0.00107717420...   True   \n",
       "16      False  [1.0, 0.0, 0.027347691357135773, -0.0012946602...  False   \n",
       "17      False  [1.0, 1.0, 0.004468608647584915, 0.00710491463...  False   \n",
       "18      False  [2.0, 8.0, 0.046008430421352386, 0.00976294651...  False   \n",
       "19      False  [9.0, 2.0, 0.031079348176717758, 0.01142069045...   True   \n",
       "20      False  [6.0, 17.0, 0.021532529965043068, -0.010094227...  False   \n",
       "21      False  [21.0, 0.0, 0.019281934946775436, -0.008778337...  False   \n",
       "22      False  [5.0, 0.0, 0.03142596408724785, -0.01978543214...  False   \n",
       "23      False  [14.0, 22.0, 0.0032148584723472595, 0.00828380...   True   \n",
       "24      False  [3.0, 5.0, 0.0015967985382303596, 0.0120960874...  False   \n",
       "25       True  [90.0, 547.0, 0.008615005761384964, -0.0012060...  False   \n",
       "26       True  [9.0, 2.0, 0.006596846040338278, -0.0186013244...  False   \n",
       "27      False  [74.0, 144.0, 0.0576469823718071, -0.005350391...   True   \n",
       "28      False  [2.0, 1.0, 0.039318718016147614, -0.0058837872...   True   \n",
       "29       True  [10.0, 0.0, 0.02022261545062065, 0.01401503942...  False   \n",
       "...       ...                                                ...    ...   \n",
       "235357  False  [1.0, 11.0, -0.04924912750720978, 0.0125037636...  False   \n",
       "235358  False  [2.0, 1.0, -0.001530572772026062, 0.0153240235...  False   \n",
       "235359  False  [1.0, 1.0, 0.017763124778866768, -0.0009394476...  False   \n",
       "235360  False  [3.0, 1.0, 0.006024685688316822, 0.00768003659...  False   \n",
       "235361  False  [1.0, 0.0, 0.02155154198408127, 0.005520640872...  False   \n",
       "235362  False  [2.0, 0.0, 0.0062329573556780815, -0.000422022...  False   \n",
       "235363  False  [4.0, 0.0, 0.032527629286050797, -0.0182030722...  False   \n",
       "235364  False  [3.0, 2.0, 0.0031011851970106363, 0.0122169563...  False   \n",
       "235365  False  [2.0, 3.0, 0.04906705021858215, -0.01292944885...  False   \n",
       "235366  False  [2.0, 1.0, -0.015208017081022263, 0.0158133506...  False   \n",
       "235367  False  [1.0, 4.0, 0.0643947646021843, 0.0039659594185...  False   \n",
       "235368  False  [2.0, 2.0, 0.05872594937682152, -0.00901814643...  False   \n",
       "235369  False  [1.0, 4.0, 0.02231479436159134, 0.010850778780...  False   \n",
       "235370  False  [1.0, 4.0, 0.006270109210163355, 0.00500648282...  False   \n",
       "235371  False  [1.0, 1.0, 0.006953633390367031, -0.0091199120...  False   \n",
       "235372  False  [1.0, 8.0, 0.031669486314058304, -0.0142089016...  False   \n",
       "235373  False  [1.0, 108.0, 0.02978856861591339, -0.000668358...  False   \n",
       "235374  False  [1.0, 1.0, 0.027859214693307877, -0.0021198594...  False   \n",
       "235375  False  [5.0, 4.0, 0.01621810905635357, -0.01440049707...  False   \n",
       "235376  False  [2.0, 14.0, 0.006514785811305046, 0.0073511810...  False   \n",
       "235377  False  [1.0, 2.0, 0.02160307951271534, -0.02052789367...  False   \n",
       "235378  False  [2.0, 3.0, 0.016985896974802017, -0.0246522668...  False   \n",
       "235379  False  [1.0, 7.0, 0.013584248721599579, 0.00302970805...  False   \n",
       "235380  False  [1.0, 1.0, 0.030073639005422592, -0.0087862582...  False   \n",
       "235381  False  [3.0, 1.0, 0.023701868951320648, -0.0181434825...  False   \n",
       "235382  False  [2.0, 4.0, 0.041923023760318756, -0.0210747569...  False   \n",
       "235383  False  [1.0, 1.0, 0.04170667752623558, -0.00947492476...  False   \n",
       "235384  False  [1.0, 2.0, 0.051931232213974, -0.0315692983567...  False   \n",
       "235385  False  [1.0, 0.0, 0.028111709281802177, -0.0008836188...  False   \n",
       "235386  False  [1.0, 0.0, 0.04729914665222168, -0.00186486425...  False   \n",
       "\n",
       "       post_name  class  \n",
       "id                       \n",
       "0         2hgylt     30  \n",
       "1         2g1zkx     17  \n",
       "2         2hgyls     18  \n",
       "3         2f6ifj     23  \n",
       "4         2g3fjh     22  \n",
       "5         2h74lt     15  \n",
       "6         2g9w2s     33  \n",
       "7         2h5erw     14  \n",
       "8         2fj5f2     38  \n",
       "9         2f6ifq     18  \n",
       "10        2g1zkh      6  \n",
       "11        2fj5f6      3  \n",
       "12        2gfwu7      6  \n",
       "13        2hk2a7     18  \n",
       "14        2hk2a8     18  \n",
       "15        2h5erc      0  \n",
       "16        2fmexp     31  \n",
       "17        2fb9m4      8  \n",
       "18        2fmexr     22  \n",
       "19        2hgylk     28  \n",
       "20        2glkrv     19  \n",
       "21        2grcu8      5  \n",
       "22        2glkru     15  \n",
       "23        2h50et     18  \n",
       "24        2f5dwb     22  \n",
       "25        2hp9br      6  \n",
       "26        2hqyrt     26  \n",
       "27        2hh5o7      9  \n",
       "28        2htxgr     15  \n",
       "29        2h7sdb     15  \n",
       "...          ...    ...  \n",
       "235357    2fo0og     22  \n",
       "235358    2gdlxr      8  \n",
       "235359    2gbh2l     15  \n",
       "235360    2fhaoj     27  \n",
       "235361    2f7all      4  \n",
       "235362    2hfr4e     15  \n",
       "235363    2hrc9w     15  \n",
       "235364    2gyhiw     27  \n",
       "235365    2hxloj     27  \n",
       "235366    2fympd      8  \n",
       "235367    2fkw9s     23  \n",
       "235368    2fcje0     30  \n",
       "235369    2hrsaf     23  \n",
       "235370    2gz4ua     22  \n",
       "235371    2fdw60     37  \n",
       "235372    2g151y     32  \n",
       "235373    2g8guu     22  \n",
       "235374    2gk82p     37  \n",
       "235375    2h7t5j      0  \n",
       "235376    2h9v7j     22  \n",
       "235377    2h1qe2     13  \n",
       "235378    2fybrl     35  \n",
       "235379    2g1uq3     18  \n",
       "235380    2f6bwr     15  \n",
       "235381    2fgvjp     23  \n",
       "235382    2gehec      9  \n",
       "235383    2hg854     29  \n",
       "235384    2g207d     15  \n",
       "235385    2fl6eu      7  \n",
       "235386    2g0vg1     15  \n",
       "\n",
       "[232965 rows x 5 columns]"
      ]
     },
     "execution_count": 4,
     "metadata": {},
     "output_type": "execute_result"
    }
   ],
   "source": [
    "attr_df = node_df['attr'].apply(pd.Series).drop(labels = ['postID'], axis = 1)\n",
    "\n",
    "node_df = pd.concat([node_df['id'], attr_df], axis = 1) #.sort_values(by='id', ascending = True)\n",
    "\n",
    "#set index to id column so that nodes on NetworkX object will be matched correctly with its features\n",
    "node_df = node_df.set_index('id')\n",
    "node_df"
   ]
  },
  {
   "cell_type": "code",
   "execution_count": 5,
   "metadata": {},
   "outputs": [],
   "source": [
    "feats_df = pd.DataFrame(node_df['features'].values.tolist(), index=node_df.index)"
   ]
  },
  {
   "cell_type": "code",
   "execution_count": 6,
   "metadata": {},
   "outputs": [],
   "source": [
    "if not cal:\n",
    "    feats_df[0] = np.log(feats_df[0] + 1.0)\n",
    "    feats_df[1] = np.log(feats_df[1] - min(np.min(feats_df[1]), -1))\n",
    "    cal = True"
   ]
  },
  {
   "cell_type": "code",
   "execution_count": 7,
   "metadata": {},
   "outputs": [],
   "source": [
    "labels = np.array(node_df['class'])\n",
    "\n",
    "target_encoding = preprocessing.OneHotEncoder(sparse=False, categories='auto')\n",
    "targets = target_encoding.fit_transform(labels.reshape(-1, 1))\n",
    "targets = pd.DataFrame(targets, index=node_df.index)"
   ]
  },
  {
   "cell_type": "markdown",
   "metadata": {},
   "source": [
    "### Split the data\n",
    "Split the dataset based on the provided attributes __test__ and __val__"
   ]
  },
  {
   "cell_type": "code",
   "execution_count": 8,
   "metadata": {
    "scrolled": true
   },
   "outputs": [
    {
     "data": {
      "text/plain": [
       "StandardScaler(copy=True, with_mean=True, with_std=True)"
      ]
     },
     "execution_count": 8,
     "metadata": {},
     "output_type": "execute_result"
    }
   ],
   "source": [
    "train_mask = (node_df['test'] == False) & (node_df['val'] == False)\n",
    "val_mask = (node_df['val'] == True)\n",
    "test_mask = (node_df['test'] == True)\n",
    "\n",
    "scaler = preprocessing.StandardScaler()\n",
    "scaler.fit(feats_df[train_mask].values)"
   ]
  },
  {
   "cell_type": "code",
   "execution_count": 9,
   "metadata": {
    "scrolled": true
   },
   "outputs": [
    {
     "name": "stdout",
     "output_type": "stream",
     "text": [
      "153932 training nodes\n",
      "23699 validation nodes\n",
      "55334 testing nodes\n"
     ]
    }
   ],
   "source": [
    "train_data, train_targets = feats_df[train_mask], targets[train_mask]\n",
    "val_data, val_targets = feats_df[val_mask], targets[val_mask]\n",
    "test_data, test_targets = feats_df[test_mask], targets[test_mask]\n",
    "\n",
    "print(f\"{len(train_data)} training nodes\")\n",
    "print(f\"{len(val_data)} validation nodes\")\n",
    "print(f\"{len(test_data)} testing nodes\")"
   ]
  },
  {
   "cell_type": "markdown",
   "metadata": {},
   "source": [
    "Create the networkx object to store the graph structure"
   ]
  },
  {
   "cell_type": "code",
   "execution_count": 10,
   "metadata": {},
   "outputs": [
    {
     "data": {
      "text/plain": [
       "'Name: \\nType: Graph\\nNumber of nodes: 232965\\nNumber of edges: 11606919\\nAverage degree:  99.6452'"
      ]
     },
     "execution_count": 10,
     "metadata": {},
     "output_type": "execute_result"
    }
   ],
   "source": [
    "Gnx = nx.from_pandas_edgelist(edge_df, edge_attr='label')\n",
    "Gnx.add_nodes_from(list(node_df.index))\n",
    "nx.set_node_attributes(Gnx, 'post', 'label')\n",
    "nx.info(Gnx)"
   ]
  },
  {
   "cell_type": "markdown",
   "metadata": {},
   "source": [
    "## Creating GraphSAGE model in Keras\n",
    "\n",
    "Create the StellarGraph object from the graph structure stored in NetworkX. GraphSAGE algorithm will be performed in this object."
   ]
  },
  {
   "cell_type": "code",
   "execution_count": 11,
   "metadata": {},
   "outputs": [
    {
     "name": "stdout",
     "output_type": "stream",
     "text": [
      "NetworkXStellarGraph: Undirected multigraph\n",
      " Nodes: 232965, Edges: 11606919\n",
      "\n",
      " Node types:\n",
      "  post: [232965]\n",
      "    Edge types: post-same_user->post\n",
      "\n",
      " Edge types:\n",
      "    post-same_user->post: [11606919]\n",
      "\n"
     ]
    }
   ],
   "source": [
    "sgG = sg.StellarGraph(Gnx, node_features = feats_df)\n",
    "print(sgG.info())"
   ]
  },
  {
   "cell_type": "markdown",
   "metadata": {},
   "source": [
    "We need a data generator that feeds data from the graph to the model. The generators are specific to the model and the learning task so we choose the `GraphSAGENodeGenerator` as we are predicting node attributes with a GraphSAGE model.\n",
    "\n",
    "We need two other parameters, the `batch_size` to use for training and the number of nodes to sample at each level of the model. Here we choose a two-level model with 10 nodes sampled in the first layer, and 5 in the second layer."
   ]
  },
  {
   "cell_type": "code",
   "execution_count": 12,
   "metadata": {},
   "outputs": [],
   "source": [
    "batch_size = 300\n",
    "num_samples = [10, 5]\n",
    "generator = GraphSAGENodeGenerator(sgG, batch_size, num_samples)\n",
    "\n",
    "train_gen = generator.flow(train_data.index, train_targets, shuffle = True)\n",
    "test_gen  = generator.flow(test_data.index, test_targets)\n",
    "val_gen   = generator.flow(val_data.index, val_targets)"
   ]
  },
  {
   "cell_type": "code",
   "execution_count": 13,
   "metadata": {},
   "outputs": [],
   "source": [
    "graphsage_model = GraphSAGE(\n",
    "    layer_sizes=[32, 32],\n",
    "    generator=generator,\n",
    "    bias=True,\n",
    "    dropout=0.5,\n",
    ")"
   ]
  },
  {
   "cell_type": "code",
   "execution_count": 14,
   "metadata": {},
   "outputs": [],
   "source": [
    "#create a model to predict 41 subreddit communities using Keras softmax layers.\n",
    "x_inp, x_out = graphsage_model.build()\n",
    "prediction = layers.Dense(units=train_targets.shape[1], activation=\"softmax\")(x_out)"
   ]
  },
  {
   "cell_type": "markdown",
   "metadata": {},
   "source": [
    "### Training the model"
   ]
  },
  {
   "cell_type": "code",
   "execution_count": 15,
   "metadata": {},
   "outputs": [],
   "source": [
    "model = Model(inputs=x_inp, outputs=prediction)\n",
    "model.compile(\n",
    "    optimizer = optimizers.Adam(lr=0.005),\n",
    "    loss=losses.categorical_crossentropy,\n",
    "    metrics=[\"acc\"]\n",
    ")"
   ]
  },
  {
   "cell_type": "code",
   "execution_count": 16,
   "metadata": {},
   "outputs": [
    {
     "name": "stdout",
     "output_type": "stream",
     "text": [
      "WARNING:tensorflow:From <ipython-input-16-8f4d30cb1775>:6: Model.fit_generator (from tensorflow.python.keras.engine.training) is deprecated and will be removed in a future version.\n",
      "Instructions for updating:\n",
      "Please use Model.fit, which supports generators.\n",
      "WARNING:tensorflow:sample_weight modes were coerced from\n",
      "  ...\n",
      "    to  \n",
      "  ['...']\n",
      "WARNING:tensorflow:sample_weight modes were coerced from\n",
      "  ...\n",
      "    to  \n",
      "  ['...']\n",
      "Train for 514 steps, validate for 79 steps\n",
      "Epoch 1/20\n",
      "514/514 - 359s - loss: 1.9488 - acc: 0.5100 - val_loss: 0.9342 - val_acc: 0.7876\n",
      "Epoch 2/20\n",
      "514/514 - 360s - loss: 1.0627 - acc: 0.7236 - val_loss: 0.6460 - val_acc: 0.8426\n",
      "Epoch 3/20\n",
      "514/514 - 361s - loss: 0.8863 - acc: 0.7661 - val_loss: 0.5041 - val_acc: 0.8849\n",
      "Epoch 4/20\n",
      "514/514 - 362s - loss: 0.8084 - acc: 0.7856 - val_loss: 0.4659 - val_acc: 0.8836\n",
      "Epoch 5/20\n",
      "514/514 - 362s - loss: 0.7714 - acc: 0.7946 - val_loss: 0.4271 - val_acc: 0.8960\n",
      "Epoch 6/20\n",
      "514/514 - 362s - loss: 0.7422 - acc: 0.8022 - val_loss: 0.4069 - val_acc: 0.9031\n",
      "Epoch 7/20\n",
      "514/514 - 372s - loss: 0.7255 - acc: 0.8066 - val_loss: 0.4032 - val_acc: 0.9009\n",
      "Epoch 8/20\n",
      "514/514 - 361s - loss: 0.7057 - acc: 0.8113 - val_loss: 0.3912 - val_acc: 0.9021\n",
      "Epoch 9/20\n",
      "514/514 - 361s - loss: 0.6978 - acc: 0.8139 - val_loss: 0.4057 - val_acc: 0.8967\n",
      "Epoch 10/20\n",
      "514/514 - 361s - loss: 0.6875 - acc: 0.8166 - val_loss: 0.3859 - val_acc: 0.9023\n",
      "Epoch 11/20\n",
      "514/514 - 361s - loss: 0.6831 - acc: 0.8187 - val_loss: 0.4007 - val_acc: 0.9032\n",
      "Epoch 12/20\n",
      "514/514 - 361s - loss: 0.6739 - acc: 0.8207 - val_loss: 0.3774 - val_acc: 0.9075\n",
      "Epoch 13/20\n",
      "514/514 - 361s - loss: 0.6758 - acc: 0.8195 - val_loss: 0.3797 - val_acc: 0.9051\n",
      "Epoch 14/20\n",
      "514/514 - 361s - loss: 0.6653 - acc: 0.8235 - val_loss: 0.3696 - val_acc: 0.9081\n",
      "Epoch 15/20\n",
      "514/514 - 361s - loss: 0.6626 - acc: 0.8238 - val_loss: 0.3898 - val_acc: 0.9051\n",
      "Epoch 16/20\n",
      "514/514 - 360s - loss: 0.6617 - acc: 0.8252 - val_loss: 0.3758 - val_acc: 0.9072\n",
      "Epoch 17/20\n",
      "514/514 - 361s - loss: 0.6556 - acc: 0.8264 - val_loss: 0.3916 - val_acc: 0.9019\n",
      "Epoch 18/20\n",
      "514/514 - 361s - loss: 0.6527 - acc: 0.8260 - val_loss: 0.3658 - val_acc: 0.9086\n",
      "Epoch 19/20\n",
      "514/514 - 362s - loss: 0.6469 - acc: 0.8272 - val_loss: 0.3666 - val_acc: 0.9081\n",
      "Epoch 20/20\n",
      "514/514 - 363s - loss: 0.6414 - acc: 0.8287 - val_loss: 0.3742 - val_acc: 0.9071\n"
     ]
    }
   ],
   "source": [
    "history = model.fit_generator(\n",
    "    train_gen,\n",
    "    epochs=20,\n",
    "    validation_data =val_gen,\n",
    "    verbose = 2,\n",
    "    shuffle=False\n",
    ")"
   ]
  },
  {
   "cell_type": "code",
   "execution_count": 17,
   "metadata": {},
   "outputs": [],
   "source": [
    "def plot_history(history):\n",
    "    \n",
    "    metrics = sorted(history.history.keys())\n",
    "    metrics = metrics[:len(metrics)//2]\n",
    "    \n",
    "    for m in metrics:\n",
    "        plt.plot(history.history[m])\n",
    "        plt.plot(history.history['val_' + m])\n",
    "        plt.title(m)\n",
    "        plt.ylabel(m)\n",
    "        plt.xlabel('epoch')\n",
    "        plt.legend(['train', 'val'], loc='best')\n",
    "        plt.show()"
   ]
  },
  {
   "cell_type": "code",
   "execution_count": 18,
   "metadata": {},
   "outputs": [
    {
     "data": {
      "image/png": "[encoded data removed]",
      "text/plain": [
       "<Figure size 432x288 with 1 Axes>"
      ]
     },
     "metadata": {
      "needs_background": "light"
     },
     "output_type": "display_data"
    },
    {
     "data": {
      "image/png": "[encoded data removed]",
      "text/plain": [
       "<Figure size 432x288 with 1 Axes>"
      ]
     },
     "metadata": {
      "needs_background": "light"
     },
     "output_type": "display_data"
    }
   ],
   "source": [
    "plot_history(history)"
   ]
  },
  {
   "cell_type": "markdown",
   "metadata": {},
   "source": [
    "Evaluate the model on the test set"
   ]
  },
  {
   "cell_type": "code",
   "execution_count": 19,
   "metadata": {},
   "outputs": [
    {
     "name": "stdout",
     "output_type": "stream",
     "text": [
      "WARNING:tensorflow:From <ipython-input-19-a1feeebf3615>:1: Model.evaluate_generator (from tensorflow.python.keras.engine.training) is deprecated and will be removed in a future version.\n",
      "Instructions for updating:\n",
      "Please use Model.evaluate, which supports generators.\n",
      "WARNING:tensorflow:sample_weight modes were coerced from\n",
      "  ...\n",
      "    to  \n",
      "  ['...']\n",
      "\n",
      "Test Set Metrics:\n",
      "\tloss: 0.3878\n",
      "\tacc: 0.9053\n"
     ]
    }
   ],
   "source": [
    "test_metrics = model.evaluate_generator(test_gen)\n",
    "\n",
    "print(\"\\nTest Set Metrics:\")\n",
    "\n",
    "for name, val in zip(model.metrics_names, test_metrics):\n",
    "    print(f\"\\t{name}: {val:0.4f}\")"
   ]
  },
  {
   "cell_type": "markdown",
   "metadata": {},
   "source": [
    "### Making predictions with the model\n",
    "Present the prediction on the test set"
   ]
  },
  {
   "cell_type": "code",
   "execution_count": 20,
   "metadata": {},
   "outputs": [],
   "source": [
    "#truth value of the test set\n",
    "test_labels = labels[test_mask]"
   ]
  },
  {
   "cell_type": "code",
   "execution_count": 21,
   "metadata": {},
   "outputs": [
    {
     "name": "stdout",
     "output_type": "stream",
     "text": [
      "WARNING:tensorflow:From <ipython-input-21-48d160f44927>:3: Model.predict_generator (from tensorflow.python.keras.engine.training) is deprecated and will be removed in a future version.\n",
      "Instructions for updating:\n",
      "Please use Model.predict, which supports generators.\n"
     ]
    }
   ],
   "source": [
    "test_nodes = test_data.index\n",
    "test_mapper = generator.flow(test_nodes)\n",
    "test_predictions = model.predict_generator(test_mapper)"
   ]
  },
  {
   "cell_type": "markdown",
   "metadata": {},
   "source": [
    "Use `inverse_transform` to turn the values back to the categories"
   ]
  },
  {
   "cell_type": "code",
   "execution_count": 22,
   "metadata": {},
   "outputs": [],
   "source": [
    "#prediction value\n",
    "node_predictions = target_encoding.inverse_transform(test_predictions)"
   ]
  },
  {
   "cell_type": "code",
   "execution_count": 23,
   "metadata": {},
   "outputs": [
    {
     "data": {
      "text/html": [
       "<div>\n",
       "<style scoped>\n",
       "    .dataframe tbody tr th:only-of-type {\n",
       "        vertical-align: middle;\n",
       "    }\n",
       "\n",
       "    .dataframe tbody tr th {\n",
       "        vertical-align: top;\n",
       "    }\n",
       "\n",
       "    .dataframe thead th {\n",
       "        text-align: right;\n",
       "    }\n",
       "</style>\n",
       "<table border=\"1\" class=\"dataframe\">\n",
       "  <thead>\n",
       "    <tr style=\"text-align: right;\">\n",
       "      <th></th>\n",
       "      <th>Prediction</th>\n",
       "      <th>Truth</th>\n",
       "    </tr>\n",
       "  </thead>\n",
       "  <tbody>\n",
       "    <tr>\n",
       "      <th>0</th>\n",
       "      <td>30</td>\n",
       "      <td>30</td>\n",
       "    </tr>\n",
       "    <tr>\n",
       "      <th>1</th>\n",
       "      <td>18</td>\n",
       "      <td>18</td>\n",
       "    </tr>\n",
       "    <tr>\n",
       "      <th>2</th>\n",
       "      <td>18</td>\n",
       "      <td>18</td>\n",
       "    </tr>\n",
       "    <tr>\n",
       "      <th>3</th>\n",
       "      <td>0</td>\n",
       "      <td>0</td>\n",
       "    </tr>\n",
       "    <tr>\n",
       "      <th>4</th>\n",
       "      <td>3</td>\n",
       "      <td>28</td>\n",
       "    </tr>\n",
       "    <tr>\n",
       "      <th>5</th>\n",
       "      <td>18</td>\n",
       "      <td>18</td>\n",
       "    </tr>\n",
       "    <tr>\n",
       "      <th>6</th>\n",
       "      <td>9</td>\n",
       "      <td>9</td>\n",
       "    </tr>\n",
       "    <tr>\n",
       "      <th>7</th>\n",
       "      <td>15</td>\n",
       "      <td>15</td>\n",
       "    </tr>\n",
       "    <tr>\n",
       "      <th>8</th>\n",
       "      <td>19</td>\n",
       "      <td>19</td>\n",
       "    </tr>\n",
       "    <tr>\n",
       "      <th>9</th>\n",
       "      <td>31</td>\n",
       "      <td>31</td>\n",
       "    </tr>\n",
       "  </tbody>\n",
       "</table>\n",
       "</div>"
      ],
      "text/plain": [
       "   Prediction  Truth\n",
       "0          30     30\n",
       "1          18     18\n",
       "2          18     18\n",
       "3           0      0\n",
       "4           3     28\n",
       "5          18     18\n",
       "6           9      9\n",
       "7          15     15\n",
       "8          19     19\n",
       "9          31     31"
      ]
     },
     "execution_count": 23,
     "metadata": {},
     "output_type": "execute_result"
    }
   ],
   "source": [
    "eval_df = pd.DataFrame({\"Prediction\": np.amax(node_predictions, axis=1), \"Truth\": test_labels})\n",
    "eval_df.head(10)"
   ]
  },
  {
   "cell_type": "markdown",
   "metadata": {},
   "source": [
    "Save the whole graph in the form of `graphml`, for further visualisation in [Gephi](https://gephi.org)"
   ]
  },
  {
   "cell_type": "code",
   "execution_count": 24,
   "metadata": {},
   "outputs": [],
   "source": [
    "all_nodes = node_df.index\n",
    "all_mapper = generator.flow(all_nodes)\n",
    "all_predictions = np.argmax(model.predict_generator(all_mapper), axis=1)\n",
    "all_df = pd.DataFrame({\"Prediction\" : all_predictions, \"Truth\": labels}, index=node_df.index)"
   ]
  },
  {
   "cell_type": "code",
   "execution_count": 25,
   "metadata": {},
   "outputs": [],
   "source": [
    "for node_id, pred, truth in zip(all_df.index, all_df[\"Prediction\"], all_df[\"Truth\"]):\n",
    "    Gnx.nodes[node_id][\"class\"] = truth\n",
    "    Gnx.nodes[node_id][\"PREDICTED_class\"] = pred"
   ]
  },
  {
   "cell_type": "code",
   "execution_count": 26,
   "metadata": {},
   "outputs": [],
   "source": [
    "for node_id in train_data.index:\n",
    "    Gnx.nodes[node_id][\"isTrain\"] = True\n",
    "\n",
    "for node_id in test_data.index:\n",
    "    Gnx.nodes[node_id][\"isTrain\"] = False\n",
    "    \n",
    "for node_id in val_data.index:\n",
    "    Gnx.nodes[node_id][\"isTrain\"] = False\n",
    "\n",
    "for node_id in Gnx.nodes():\n",
    "    Gnx.nodes[node_id][\"isCorrect\"] = Gnx.nodes[node_id][\"class\"] == Gnx.nodes[node_id][\"PREDICTED_class\"]"
   ]
  },
  {
   "cell_type": "markdown",
   "metadata": {},
   "source": [
    "Save in GraphML format"
   ]
  },
  {
   "cell_type": "code",
   "execution_count": 27,
   "metadata": {},
   "outputs": [],
   "source": [
    "output_dir = os.path.expanduser('~/data/reddit/result')"
   ]
  },
  {
   "cell_type": "code",
   "execution_count": 28,
   "metadata": {},
   "outputs": [],
   "source": [
    "pred_fname = f\"pred_n={num_samples}.graphml\"\n",
    "nx.write_graphml(Gnx, os.path.join(output_dir, pred_fname))"
   ]
  },
  {
   "cell_type": "markdown",
   "metadata": {},
   "source": [
    "## Node embeddings\n",
    "\n",
    "Evaluate node embeddings as activations of the output of graphsage layer stack, and visualise them, coloring nodes by their class label.\n",
    "\n",
    "The GraphSAGE embeddings are the output of the GraphSAGE layers, namely the `x_out` variable. Let's create a new model with the same inputs as we used previously `x_inp` but now the output is the embeddings rather than the predicted class. Additionally note that the weights trained previously are kept in the new model."
   ]
  },
  {
   "cell_type": "code",
   "execution_count": 29,
   "metadata": {},
   "outputs": [],
   "source": [
    "embedding_model = Model(inputs=x_inp, outputs=x_out)"
   ]
  },
  {
   "cell_type": "code",
   "execution_count": 30,
   "metadata": {},
   "outputs": [
    {
     "name": "stdout",
     "output_type": "stream",
     "text": [
      "(55334, 32)\n"
     ]
    }
   ],
   "source": [
    "emb = embedding_model.predict_generator(test_mapper)\n",
    "print(emb.shape)"
   ]
  },
  {
   "cell_type": "code",
   "execution_count": 31,
   "metadata": {},
   "outputs": [],
   "source": [
    "from sklearn.decomposition import PCA\n",
    "from sklearn.manifold import TSNE"
   ]
  },
  {
   "cell_type": "code",
   "execution_count": 34,
   "metadata": {},
   "outputs": [],
   "source": [
    "X = emb\n",
    "Y = np.argmax(target_encoding.transform(eval_df[[\"Truth\"]]), axis=1)"
   ]
  },
  {
   "cell_type": "markdown",
   "metadata": {},
   "source": [
    "Project the embeddings to 2d using either TSNE or PCA transform, and visualise, coloring nodes by their class label."
   ]
  },
  {
   "cell_type": "code",
   "execution_count": 35,
   "metadata": {},
   "outputs": [],
   "source": [
    "if X.shape[1] > 2:\n",
    "    transform = TSNE\n",
    "    \n",
    "    trans = transform(n_components=2)\n",
    "    emb_transformed = pd.DataFrame(trans.fit_transform(X), index=test_data.index)\n",
    "    emb_transformed['label'] = Y\n",
    "\n",
    "else:\n",
    "    emb_transformed = pd.DataFrame(X, index=node_df.index)\n",
    "    emb_transformed = emb_transformed.rename(columns = {'0':0, '1':1})\n",
    "    emb_transformed['label'] = Y\n",
    "    "
   ]
  },
  {
   "cell_type": "code",
   "execution_count": 36,
   "metadata": {},
   "outputs": [
    {
     "data": {
      "image/png": "[encoded data removed]",
      "text/plain": [
       "<Figure size 504x504 with 1 Axes>"
      ]
     },
     "metadata": {
      "needs_background": "light"
     },
     "output_type": "display_data"
    }
   ],
   "source": [
    "alpha = 0.7\n",
    "\n",
    "fig, ax = plt.subplots(figsize=(7,7))\n",
    "\n",
    "ax.scatter(emb_transformed[0], emb_transformed[1], c = emb_transformed['label'].astype(\"category\"), \n",
    "          cmap = \"jet\", alpha=alpha)\n",
    "\n",
    "ax.set(aspect=\"equal\", xlabel=\"$X_1$\", ylabel=\"$X_2$\")\n",
    "\n",
    "plt.title(f\"{transform.__name__} visualization of GraphSAGE embeddings for reddit dataset\")\n",
    "plt.show()"
   ]
  },
  {
   "cell_type": "markdown",
   "metadata": {},
   "source": [
    "## Export result into csv for visualization in NeoStack\n",
    "\n",
    "Create dataframe for exporting, especially for node list."
   ]
  },
  {
   "cell_type": "code",
   "execution_count": 38,
   "metadata": {},
   "outputs": [
    {
     "name": "stderr",
     "output_type": "stream",
     "text": [
      "/home/ho049/anaconda3/lib/python3.7/site-packages/ipykernel_launcher.py:4: SettingWithCopyWarning: \n",
      "A value is trying to be set on a copy of a slice from a DataFrame\n",
      "\n",
      "See the caveats in the documentation: http://pandas.pydata.org/pandas-docs/stable/indexing.html#indexing-view-versus-copy\n",
      "  after removing the cwd from sys.path.\n",
      "/home/ho049/anaconda3/lib/python3.7/site-packages/ipykernel_launcher.py:5: SettingWithCopyWarning: \n",
      "A value is trying to be set on a copy of a slice from a DataFrame\n",
      "\n",
      "See the caveats in the documentation: http://pandas.pydata.org/pandas-docs/stable/indexing.html#indexing-view-versus-copy\n",
      "  \"\"\"\n",
      "/home/ho049/anaconda3/lib/python3.7/site-packages/ipykernel_launcher.py:6: SettingWithCopyWarning: \n",
      "A value is trying to be set on a copy of a slice from a DataFrame\n",
      "\n",
      "See the caveats in the documentation: http://pandas.pydata.org/pandas-docs/stable/indexing.html#indexing-view-versus-copy\n",
      "  \n"
     ]
    }
   ],
   "source": [
    "node_df['predicted'] = all_predictions\n",
    "node_df['usage'] = None\n",
    "\n",
    "node_df['usage'][train_mask] = 'train'\n",
    "node_df['usage'][val_mask] = 'val'\n",
    "node_df['usage'][test_mask] = 'test'\n",
    "\n",
    "result = node_df.drop(labels = ['test','val','features'], axis = 1)\n"
   ]
  },
  {
   "cell_type": "code",
   "execution_count": 39,
   "metadata": {},
   "outputs": [],
   "source": [
    "result.to_csv(os.path.join(output_dir, 'nodelist.csv'), header = True, index = True)\n",
    "edge_df.to_csv(os.path.join(output_dir, 'edgelist.csv'), header = True, index = True)"
   ]
  },
  {
   "cell_type": "code",
   "execution_count": null,
   "metadata": {},
   "outputs": [],
   "source": []
  }
 ],
 "metadata": {
  "kernelspec": {
   "display_name": "Python 3",
   "language": "python",
   "name": "python3"
  },
  "language_info": {
   "codemirror_mode": {
    "name": "ipython",
    "version": 3
   },
   "file_extension": ".py",
   "mimetype": "text/x-python",
   "name": "python",
   "nbconvert_exporter": "python",
   "pygments_lexer": "ipython3",
   "version": "3.7.3"
  }
 },
 "nbformat": 4,
 "nbformat_minor": 2
}
