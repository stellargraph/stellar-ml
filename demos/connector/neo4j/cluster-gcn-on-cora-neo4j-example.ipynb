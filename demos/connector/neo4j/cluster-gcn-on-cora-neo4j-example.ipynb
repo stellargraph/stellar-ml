{
 "cells": [
  {
   "cell_type": "markdown",
   "metadata": {},
   "source": [
    "# Cluster GCN on Neo4j"
   ]
  },
  {
   "cell_type": "markdown",
   "metadata": {
    "nbsphinx": "hidden",
    "tags": [
     "CloudRunner"
    ]
   },
   "source": [
    "<table><tr><td>Run the latest release of this notebook:</td><td><a href=\"https://mybinder.org/v2/gh/stellargraph/stellargraph/master?urlpath=lab/tree/demos/connector/neo4j/cluster-gcn-on-cora-neo4j-example.ipynb\" alt=\"Open In Binder\" target=\"_parent\"><img src=\"https://mybinder.org/badge_logo.svg\"/></a></td><td><a href=\"https://colab.research.google.com/github/stellargraph/stellargraph/blob/master/demos/connector/neo4j/cluster-gcn-on-cora-neo4j-example.ipynb\" alt=\"Open In Colab\" target=\"_parent\"><img src=\"https://colab.research.google.com/assets/colab-badge.svg\"/></a></td></tr></table>"
   ]
  },
  {
   "cell_type": "markdown",
   "metadata": {},
   "source": [
    "This example demonstrates how to run Cluster GCN on a dataset stored entirely on disk with Neo4j. Our Neo4j Cluster GCN implementation iterates through user specified graph clusters and only ever stores the edges and features of one cluster in memory at any given time. This enables Cluster GCN to be used on extremely large datasets that don't fit into memory. \n",
    "\n",
    "\n",
    "We use Cora here as an example, see [this notebook](./load-cora-into-neo4j.ipynb) for instructions on how to load the Cora dataset into Neo4j. "
   ]
  },
  {
   "cell_type": "code",
   "execution_count": 1,
   "metadata": {
    "nbsphinx": "hidden",
    "tags": [
     "CloudRunner"
    ]
   },
   "outputs": [],
   "source": [
    "# install StellarGraph if running on Google Colab\n",
    "import sys\n",
    "if 'google.colab' in sys.modules:\n",
    "  %pip install -q stellargraph[demos]==1.1.0b"
   ]
  },
  {
   "cell_type": "code",
   "execution_count": 2,
   "metadata": {
    "nbsphinx": "hidden",
    "tags": [
     "VersionCheck"
    ]
   },
   "outputs": [],
   "source": [
    "# verify that we're using the correct version of StellarGraph for this notebook\n",
    "import stellargraph as sg\n",
    "\n",
    "try:\n",
    "    sg.utils.validate_notebook_version(\"1.1.0b\")\n",
    "except AttributeError:\n",
    "    raise ValueError(\n",
    "        f\"This notebook requires StellarGraph version 1.1.0b, but a different version {sg.__version__} is installed.  Please see <https://github.com/stellargraph/stellargraph/issues/1172>.\"\n",
    "    ) from None"
   ]
  },
  {
   "cell_type": "code",
   "execution_count": 3,
   "metadata": {},
   "outputs": [],
   "source": [
    "import stellargraph as sg\n",
    "from stellargraph.connector.neo4j import Neo4jStellarGraph\n",
    "from stellargraph.layer import ClusterGCN\n",
    "from stellargraph.mapper import ClusterNodeGenerator\n",
    "import tensorflow as tf\n",
    "import py2neo\n",
    "import os\n",
    "from sklearn import preprocessing, feature_extraction, model_selection\n",
    "\n",
    "import numpy as np\n",
    "import scipy.sparse as sps\n",
    "import pandas as pd"
   ]
  },
  {
   "cell_type": "markdown",
   "metadata": {},
   "source": [
    "## Connect to Neo4j\n",
    "\n",
    "First we connect to the Neo4j with `py2neo`, we then create a `Neo4jStellarGraph` object."
   ]
  },
  {
   "cell_type": "code",
   "execution_count": 4,
   "metadata": {},
   "outputs": [],
   "source": [
    "default_host = os.environ.get(\"STELLARGRAPH_NEO4J_HOST\")\n",
    "\n",
    "# Create the Neo4j Graph database object;\n",
    "# the arguments can be edited to specify location and authentication\n",
    "graph = py2neo.Graph(host=default_host, port=None, user=None, password=\"pass\")\n",
    "neo4j_sg = Neo4jStellarGraph(graph)"
   ]
  },
  {
   "cell_type": "markdown",
   "metadata": {},
   "source": [
    "## Data labels\n",
    "\n",
    "Here we get the node labels. Cluster GCN is semi-supervised and requires labels to be specified for some nodes."
   ]
  },
  {
   "cell_type": "code",
   "execution_count": 5,
   "metadata": {},
   "outputs": [],
   "source": [
    "# read the node labels from a seperate file\n",
    "# note this function also returns a StellarGraph\n",
    "# which we won't be using for this demo - we only need Neo4jStellarGraph!\n",
    "_, labels = sg.datasets.Cora().load()"
   ]
  },
  {
   "cell_type": "code",
   "execution_count": 6,
   "metadata": {},
   "outputs": [],
   "source": [
    "# split the node labels into train/test/val\n",
    "\n",
    "train_labels, test_labels = model_selection.train_test_split(\n",
    "    labels, train_size=140, test_size=None, stratify=labels\n",
    ")\n",
    "val_labels, test_labels = model_selection.train_test_split(\n",
    "    test_labels, train_size=500, test_size=None, stratify=test_labels\n",
    ")\n",
    "\n",
    "target_encoding = preprocessing.LabelBinarizer()\n",
    "\n",
    "train_targets = target_encoding.fit_transform(train_labels)\n",
    "val_targets = target_encoding.transform(val_labels)\n",
    "test_targets = target_encoding.transform(test_labels)"
   ]
  },
  {
   "cell_type": "markdown",
   "metadata": {},
   "source": [
    "## Keras sequences\n",
    "\n",
    "We now use `StellarGraph` to create keras sequences for taining, testing, and validation. Under the hood, these sequences connect to your Neo4j database and lazily load data for each cluster."
   ]
  },
  {
   "cell_type": "code",
   "execution_count": 7,
   "metadata": {},
   "outputs": [
    {
     "name": "stdout",
     "output_type": "stream",
     "text": [
      "Number of clusters 5\n",
      "0 cluster has size 541\n",
      "1 cluster has size 541\n",
      "2 cluster has size 541\n",
      "3 cluster has size 541\n",
      "4 cluster has size 544\n"
     ]
    }
   ],
   "source": [
    "# create the Neo4jClusterNodeGenerator\n",
    "# and the keras sequence objects\n",
    "\n",
    "generator = ClusterNodeGenerator(neo4j_sg, clusters=5)\n",
    "\n",
    "train_gen = generator.flow(train_labels.index, targets=train_targets)\n",
    "val_gen = generator.flow(val_labels.index, targets=val_targets)\n",
    "test_gen = generator.flow(test_labels.index, targets=test_targets)"
   ]
  },
  {
   "cell_type": "markdown",
   "metadata": {},
   "source": [
    "## Create and train your model!\n",
    "\n",
    "Now we create and train the Cluster GCN model."
   ]
  },
  {
   "cell_type": "code",
   "execution_count": 8,
   "metadata": {},
   "outputs": [],
   "source": [
    "# create the model\n",
    "cluster_gcn = ClusterGCN(\n",
    "    layer_sizes=[32, 32], generator=generator, activations=[\"relu\", \"relu\"], dropout=0.5,\n",
    ")\n",
    "\n",
    "x_in, x_out = cluster_gcn.in_out_tensors()\n",
    "predictions = tf.keras.layers.Dense(units=val_targets.shape[1], activation=\"softmax\")(\n",
    "    x_out\n",
    ")\n",
    "model = tf.keras.Model(x_in, predictions)\n",
    "model.compile(\n",
    "    optimizer=tf.keras.optimizers.Adam(lr=0.01),\n",
    "    loss=tf.keras.losses.categorical_crossentropy,\n",
    "    metrics=[\"acc\"],\n",
    ")"
   ]
  },
  {
   "cell_type": "code",
   "execution_count": 9,
   "metadata": {},
   "outputs": [
    {
     "name": "stdout",
     "output_type": "stream",
     "text": [
      "  ['...']\n",
      "  ['...']\n",
      "Train for 5 steps, validate for 5 steps\n",
      "Epoch 1/10\n",
      "5/5 [==============================] - 5s 1s/step - loss: 1.9063 - acc: 0.2500 - val_loss: 1.8195 - val_acc: 0.3020\n",
      "Epoch 2/10\n",
      "5/5 [==============================] - 5s 954ms/step - loss: 1.7024 - acc: 0.3000 - val_loss: 1.6901 - val_acc: 0.3060\n",
      "Epoch 3/10\n",
      "5/5 [==============================] - 5s 954ms/step - loss: 1.5102 - acc: 0.3929 - val_loss: 1.5511 - val_acc: 0.4360\n",
      "Epoch 4/10\n",
      "5/5 [==============================] - 5s 985ms/step - loss: 1.3074 - acc: 0.5714 - val_loss: 1.3999 - val_acc: 0.5360\n",
      "Epoch 5/10\n",
      "5/5 [==============================] - 5s 965ms/step - loss: 1.0225 - acc: 0.7071 - val_loss: 1.2929 - val_acc: 0.5640\n",
      "Epoch 6/10\n",
      "5/5 [==============================] - 5s 979ms/step - loss: 0.8131 - acc: 0.7571 - val_loss: 1.1961 - val_acc: 0.6000\n",
      "Epoch 7/10\n",
      "5/5 [==============================] - 5s 990ms/step - loss: 0.6240 - acc: 0.7929 - val_loss: 1.1764 - val_acc: 0.5840\n",
      "Epoch 8/10\n",
      "5/5 [==============================] - 5s 1s/step - loss: 0.5292 - acc: 0.8357 - val_loss: 1.1906 - val_acc: 0.6120\n",
      "Epoch 9/10\n",
      "5/5 [==============================] - 5s 987ms/step - loss: 0.4032 - acc: 0.8286 - val_loss: 1.2252 - val_acc: 0.6100\n",
      "Epoch 10/10\n",
      "5/5 [==============================] - 5s 996ms/step - loss: 0.5031 - acc: 0.8786 - val_loss: 1.2474 - val_acc: 0.6120\n"
     ]
    }
   ],
   "source": [
    "# train the model!\n",
    "history = model.fit(train_gen, validation_data=val_gen, epochs=10)"
   ]
  },
  {
   "cell_type": "code",
   "execution_count": 10,
   "metadata": {},
   "outputs": [
    {
     "name": "stdout",
     "output_type": "stream",
     "text": [
      "  ['...']\n",
      "5/5 [==============================] - 2s 497ms/step - loss: 1.1848 - acc: 0.6306\n"
     ]
    },
    {
     "data": {
      "text/plain": [
       "[1.1847997188568116, 0.63056093]"
      ]
     },
     "execution_count": 10,
     "metadata": {},
     "output_type": "execute_result"
    }
   ],
   "source": [
    "# evaluate the model\n",
    "model.evaluate(test_gen)"
   ]
  },
  {
   "cell_type": "code",
   "execution_count": 11,
   "metadata": {},
   "outputs": [
    {
     "data": {
      "image/png": "[encoded data removed]",
      "text/plain": [
       "<Figure size 504x576 with 2 Axes>"
      ]
     },
     "metadata": {
      "needs_background": "light"
     },
     "output_type": "display_data"
    }
   ],
   "source": [
    "sg.utils.plot_history(history)"
   ]
  },
  {
   "cell_type": "markdown",
   "metadata": {},
   "source": [
    "And that's it! We've trained a graph neural network without ever loading the whole graph into memory.\n",
    "\n",
    "Please refer to [cluster-gcn-node-classification](./../../node-classification/cluster-gcn-node-classification.ipynb) for **node embedding visualization**."
   ]
  },
  {
   "cell_type": "markdown",
   "metadata": {
    "nbsphinx": "hidden",
    "tags": [
     "CloudRunner"
    ]
   },
   "source": [
    "<table><tr><td>Run the latest release of this notebook:</td><td><a href=\"https://mybinder.org/v2/gh/stellargraph/stellargraph/master?urlpath=lab/tree/demos/connector/neo4j/cluster-gcn-on-cora-neo4j-example.ipynb\" alt=\"Open In Binder\" target=\"_parent\"><img src=\"https://mybinder.org/badge_logo.svg\"/></a></td><td><a href=\"https://colab.research.google.com/github/stellargraph/stellargraph/blob/master/demos/connector/neo4j/cluster-gcn-on-cora-neo4j-example.ipynb\" alt=\"Open In Colab\" target=\"_parent\"><img src=\"https://colab.research.google.com/assets/colab-badge.svg\"/></a></td></tr></table>"
   ]
  }
 ],
 "metadata": {
  "kernelspec": {
   "display_name": "Python 3",
   "language": "python",
   "name": "python3"
  },
  "language_info": {
   "codemirror_mode": {
    "name": "ipython",
    "version": 3
   },
   "file_extension": ".py",
   "mimetype": "text/x-python",
   "name": "python",
   "nbconvert_exporter": "python",
   "pygments_lexer": "ipython3",
   "version": "3.6.9"
  }
 },
 "nbformat": 4,
 "nbformat_minor": 2
}
