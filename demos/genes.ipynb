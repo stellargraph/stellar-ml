{
 "cells": [
  {
   "cell_type": "code",
   "execution_count": 2,
   "metadata": {},
   "outputs": [
    {
     "name": "stderr",
     "output_type": "stream",
     "text": [
      "/home/ubuntu/projects/stellar-ml/venv/lib/python3.5/site-packages/h5py/__init__.py:36: FutureWarning: Conversion of the second argument of issubdtype from `float` to `np.floating` is deprecated. In future, it will be treated as `np.float64 == np.dtype(float).type`.\n",
      "  from ._conv import register_converters as _register_converters\n",
      "Using TensorFlow backend.\n"
     ]
    }
   ],
   "source": [
    "from stellar.layer.hinsage import Hinsage\n",
    "import keras\n",
    "from keras import backend as K\n",
    "import numpy as np\n",
    "import pandas as pd\n",
    "from typing import List"
   ]
  },
  {
   "cell_type": "code",
   "execution_count": 3,
   "metadata": {},
   "outputs": [
    {
     "name": "stderr",
     "output_type": "stream",
     "text": [
      "/home/ubuntu/projects/stellar-ml/venv/lib/python3.5/site-packages/ipykernel_launcher.py:16: FutureWarning: \n",
      "Passing list-likes to .loc or [] with any missing label will raise\n",
      "KeyError in the future, you can use .reindex() as an alternative.\n",
      "\n",
      "See the documentation here:\n",
      "http://pandas.pydata.org/pandas-docs/stable/indexing.html#deprecate-loc-reindex-listlike\n",
      "  app.launch_new_instance()\n"
     ]
    }
   ],
   "source": [
    "# Read edge data\n",
    "edge_data = pd.read_csv(\n",
    "    '/home/ubuntu/genes/max_cc_int_num_indices.txt', \n",
    "    delim_whitespace=True\n",
    ").drop(['score', 'data_source'], axis=1)\n",
    "\n",
    "# Read attribute data\n",
    "gene_attr = pd.read_csv(\n",
    "    '/home/ubuntu/genes/maxcc_node_attr_cleaned_num_indices.txt', \n",
    "    index_col=1\n",
    ").drop(['Unnamed: 0'], axis=1)\n",
    "\n",
    "# List of IDs\n",
    "rnd = np.random.uniform(0, 1, len(gene_attr))\n",
    "ids_train = gene_attr.loc[rnd <= 0.5].index.values\n",
    "ids_val = gene_attr.loc[(rnd > 0.5) & (rnd < 0.7)].index.values\n",
    "ids_test = gene_attr.loc[rnd >= 0.7].index.values\n",
    "\n",
    "# Features\n",
    "feats = gene_attr.drop(['node_type'], axis=1)\n",
    "def get_feats(indices: List[int]):\n",
    "    return feats.loc[indices].fillna(0).as_matrix()\n",
    "\n",
    "# Labels\n",
    "labels = gene_attr['node_type'].map(lambda x: x == 'alz')\n",
    "def get_labels(indices: List[int]):\n",
    "    return np.array(labels[indices], dtype=np.float64)\n",
    "\n",
    "# Adjacency lists of each edge type\n",
    "adj_coex = edge_data.loc[\n",
    "    edge_data['interaction_type']=='coexpression'\n",
    "].groupby(['ensg.A'])['ensg.B'].apply(list)\n",
    "adj_ppi = edge_data.loc[\n",
    "    edge_data['interaction_type']=='PPI'\n",
    "].groupby(['ensg.A'])['ensg.B'].apply(list)\n",
    "adj_epis = edge_data.loc[\n",
    "    edge_data['interaction_type']=='epistasis'\n",
    "].groupby(['ensg.A'])['ensg.B'].apply(list)\n",
    "def sample_neighs(indices: List[int], ns: int):\n",
    "    def with_adj(adj_curr):\n",
    "        return [[-1]*ns if (not isinstance(adj, list)) and pd.isnull(adj) \n",
    "                else [adj[i] for i in np.random.randint(len(adj), size=ns)]\n",
    "                for adj in adj_ppi.loc[indices].values]\n",
    "    return (with_adj(adj_coex), with_adj(adj_ppi), with_adj(adj_epis))\n",
    "\n",
    "# Get batch, given root node IDs and number of samples per \"hop\"\n",
    "def get_batch(indices: List[int], ns: List[int]):\n",
    "    nb = len(indices)\n",
    "    flatten = lambda l: [item for sublist in l for item in sublist]\n",
    "    coex, ppi, epis = sample_neighs(indices, ns[0])\n",
    "    coex_1 = sample_neighs(flatten(coex), ns[1])\n",
    "    ppi_1 = sample_neighs(flatten(ppi), ns[1])\n",
    "    epis_1 = sample_neighs(flatten(ppi), ns[1])\n",
    "    return (get_labels(indices),\n",
    "            [get_feats(flatten(inds)).reshape([nb,-1,414]) \n",
    "             for inds in [[indices], coex, ppi, epis, *coex_1, *ppi_1, *epis_1]])"
   ]
  },
  {
   "cell_type": "code",
   "execution_count": 21,
   "metadata": {},
   "outputs": [],
   "source": [
    "class DataGenerator(keras.utils.Sequence):\n",
    "    'Generates data for Keras'\n",
    "    def __init__(self, ids, nf, ns, batch_size=1000, name='train'):\n",
    "        'Initialization'\n",
    "        self.batch_size = batch_size\n",
    "        self.ids = ids\n",
    "        self.data_size = len(ids)\n",
    "        self.nf = nf\n",
    "        self.ns = ns\n",
    "        self.idx = 0\n",
    "        self.name = name\n",
    "        self.on_epoch_end()\n",
    "\n",
    "    def __len__(self):\n",
    "        'Denotes the number of batches per epoch'\n",
    "        return int(np.ceil(self.data_size/self.batch_size))\n",
    "\n",
    "    def __getitem__(self, index):\n",
    "        'Generate one batch of data'\n",
    "        if (self.idx >= self.data_size):\n",
    "            print(\"this shouldn't happen, but it does\")\n",
    "            self.on_epoch_end()\n",
    "        end = min(self.idx + self.batch_size, self.data_size)\n",
    "#         print(\"Fetching {} batch {}:{}\".format(self.name, str(self.idx), str(end)))\n",
    "        indices = list(self.ids[range(self.idx, end)])\n",
    "        tgt, inp = get_batch(indices, self.ns)\n",
    "        self.idx = end\n",
    "\n",
    "        return inp, tgt\n",
    "\n",
    "    def on_epoch_end(self):\n",
    "        'Updates indexes after each epoch'\n",
    "        self.idx = 0\n",
    "#         print('end of {} epoch!'.format(self.name))\n",
    "        np.random.shuffle(self.ids)"
   ]
  },
  {
   "cell_type": "code",
   "execution_count": 56,
   "metadata": {},
   "outputs": [],
   "source": [
    "nf = 414\n",
    "n_samples = [5, 5]\n",
    "\n",
    "def n_at(i):\n",
    "    return np.product(n_samples[:i])\n",
    "\n",
    "def create_weighted_binary_crossentropy(zero_weight, one_weight):\n",
    "    def weighted_binary_crossentropy(y_true, y_pred):\n",
    "        b_ce = K.binary_crossentropy(y_true, y_pred)\n",
    "        weight_vector = y_true * one_weight + (1. - y_true) * zero_weight\n",
    "        weighted_b_ce = weight_vector * b_ce\n",
    "        return K.mean(weighted_b_ce)\n",
    "\n",
    "    return weighted_binary_crossentropy\n",
    "\n",
    "hs = Hinsage(\n",
    "    output_dims=[256, 256],\n",
    "    n_samples=n_samples,\n",
    "    input_neigh_tree=[('gene', [1, 2, 3]), \n",
    "                      ('gene', [4, 5, 6]), ('gene', [7, 8, 9]), ('gene', [10, 11, 12]), \n",
    "                      ('gene', []), ('gene', []), ('gene', []), \n",
    "                      ('gene', []), ('gene', []), ('gene', []),\n",
    "                      ('gene', []), ('gene', []), ('gene', [])],\n",
    "    input_dim={'gene': nf}\n",
    ")\n",
    "\n",
    "x_inp = [\n",
    "    keras.Input(shape=(1, nf)),\n",
    "    keras.Input(shape=(n_at(1), nf)),\n",
    "    keras.Input(shape=(n_at(1), nf)),\n",
    "    keras.Input(shape=(n_at(1), nf)),\n",
    "    keras.Input(shape=(n_at(2), nf)),\n",
    "    keras.Input(shape=(n_at(2), nf)),\n",
    "    keras.Input(shape=(n_at(2), nf)),\n",
    "    keras.Input(shape=(n_at(2), nf)),\n",
    "    keras.Input(shape=(n_at(2), nf)),\n",
    "    keras.Input(shape=(n_at(2), nf)),\n",
    "    keras.Input(shape=(n_at(2), nf)),\n",
    "    keras.Input(shape=(n_at(2), nf)),\n",
    "    keras.Input(shape=(n_at(2), nf))\n",
    "]\n",
    "\n",
    "x_out = keras.layers.Reshape((256,))(hs(x_inp))\n",
    "pred = keras.layers.Activation('sigmoid')(keras.layers.Dense(1)(x_out))\n",
    "\n",
    "model = keras.Model(inputs=x_inp, outputs=pred)\n",
    "model.compile(\n",
    "    optimizer=keras.optimizers.Adam(lr=0.01), \n",
    "    loss=create_weighted_binary_crossentropy(0.6, 9), \n",
    "    metrics=['accuracy']\n",
    ")"
   ]
  },
  {
   "cell_type": "code",
   "execution_count": 57,
   "metadata": {},
   "outputs": [
    {
     "name": "stdout",
     "output_type": "stream",
     "text": [
      "Epoch 1/10\n"
     ]
    },
    {
     "name": "stderr",
     "output_type": "stream",
     "text": [
      "/home/ubuntu/projects/stellar-ml/venv/lib/python3.5/site-packages/ipykernel_launcher.py:43: FutureWarning: \n",
      "Passing list-likes to .loc or [] with any missing label will raise\n",
      "KeyError in the future, you can use .reindex() as an alternative.\n",
      "\n",
      "See the documentation here:\n",
      "http://pandas.pydata.org/pandas-docs/stable/indexing.html#deprecate-loc-reindex-listlike\n",
      "/home/ubuntu/projects/stellar-ml/venv/lib/python3.5/site-packages/ipykernel_launcher.py:22: FutureWarning: \n",
      "Passing list-likes to .loc or [] with any missing label will raise\n",
      "KeyError in the future, you can use .reindex() as an alternative.\n",
      "\n",
      "See the documentation here:\n",
      "http://pandas.pydata.org/pandas-docs/stable/indexing.html#deprecate-loc-reindex-listlike\n"
     ]
    },
    {
     "name": "stdout",
     "output_type": "stream",
     "text": [
      " - 31s - loss: 0.6818 - acc: 0.8126\n",
      "Epoch 2/10\n",
      " - 31s - loss: 0.6718 - acc: 0.7988\n",
      "Epoch 3/10\n",
      " - 31s - loss: 0.6675 - acc: 0.8420\n",
      "Epoch 4/10\n",
      " - 30s - loss: 0.6621 - acc: 0.7535\n",
      "Epoch 5/10\n",
      " - 31s - loss: 0.6601 - acc: 0.8208\n",
      "Epoch 6/10\n",
      " - 31s - loss: 0.6580 - acc: 0.7367\n",
      "Epoch 7/10\n",
      " - 31s - loss: 0.6564 - acc: 0.7871\n",
      "Epoch 8/10\n",
      " - 31s - loss: 0.6531 - acc: 0.7893\n",
      "Epoch 9/10\n",
      " - 30s - loss: 0.6509 - acc: 0.7709\n",
      "Epoch 10/10\n",
      " - 31s - loss: 0.6516 - acc: 0.7954\n"
     ]
    },
    {
     "data": {
      "text/plain": [
       "<keras.callbacks.History at 0x7fd13c0a3240>"
      ]
     },
     "execution_count": 57,
     "metadata": {},
     "output_type": "execute_result"
    }
   ],
   "source": [
    "batch_iter = DataGenerator(ids_train, nf, n_samples)\n",
    "# batch_iter_val = DataGenerator(ids_val, nf, n_samples, name='val')\n",
    "# batch_iter_test = DataGenerator(ids_test, nf, n_samples, name='test')\n",
    "model.fit_generator(batch_iter, epochs=10, verbose=2)\n",
    "# model.evaluate_generator(batch_iter_test)"
   ]
  },
  {
   "cell_type": "code",
   "execution_count": 58,
   "metadata": {},
   "outputs": [],
   "source": [
    "class TestDataGenerator(keras.utils.Sequence):\n",
    "    'Generates data for Keras'\n",
    "    def __init__(self, ids, nf, ns, batch_size=1000):\n",
    "        'Initialization'\n",
    "        self.batch_size = batch_size\n",
    "        self.ids = ids\n",
    "        self.data_size = len(ids)\n",
    "        self.nf = nf\n",
    "        self.ns = ns\n",
    "        self.idx = 0\n",
    "        self.y_true = []\n",
    "        self.on_epoch_end()\n",
    "\n",
    "    def __len__(self):\n",
    "        'Denotes the number of batches per epoch'\n",
    "        return int(np.ceil(self.data_size/self.batch_size))\n",
    "\n",
    "    def __getitem__(self, index):\n",
    "        'Generate one batch of data'\n",
    "        end = min(self.idx + self.batch_size, self.data_size)\n",
    "        indices = list(self.ids[range(self.idx, end)])\n",
    "        tgt, inp = get_batch(indices, self.ns)\n",
    "        self.y_true += [tgt]\n",
    "        self.idx = end\n",
    "\n",
    "        return inp\n",
    "\n",
    "    def on_epoch_end(self):\n",
    "        'Updates indexes after each epoch'\n",
    "        self.idx = 0"
   ]
  },
  {
   "cell_type": "code",
   "execution_count": 59,
   "metadata": {},
   "outputs": [
    {
     "name": "stderr",
     "output_type": "stream",
     "text": [
      "/home/ubuntu/projects/stellar-ml/venv/lib/python3.5/site-packages/ipykernel_launcher.py:43: FutureWarning: \n",
      "Passing list-likes to .loc or [] with any missing label will raise\n",
      "KeyError in the future, you can use .reindex() as an alternative.\n",
      "\n",
      "See the documentation here:\n",
      "http://pandas.pydata.org/pandas-docs/stable/indexing.html#deprecate-loc-reindex-listlike\n",
      "/home/ubuntu/projects/stellar-ml/venv/lib/python3.5/site-packages/ipykernel_launcher.py:22: FutureWarning: \n",
      "Passing list-likes to .loc or [] with any missing label will raise\n",
      "KeyError in the future, you can use .reindex() as an alternative.\n",
      "\n",
      "See the documentation here:\n",
      "http://pandas.pydata.org/pandas-docs/stable/indexing.html#deprecate-loc-reindex-listlike\n"
     ]
    }
   ],
   "source": [
    "test_iter = TestDataGenerator(ids_test, nf, n_samples)\n",
    "y_preds = model.predict_generator(test_iter)"
   ]
  },
  {
   "cell_type": "code",
   "execution_count": 60,
   "metadata": {},
   "outputs": [],
   "source": [
    "y_trues_bin = np.concatenate(test_iter.y_true).ravel()[:len(ids_test)]\n",
    "y_preds_bin = np.array(np.reshape(y_preds, (-1,)) >= 0.5, dtype=np.float64)"
   ]
  },
  {
   "cell_type": "code",
   "execution_count": 63,
   "metadata": {},
   "outputs": [],
   "source": [
    "met = lambda f,k: sum([f(y_trues_bin[i], y_preds_bin[i]) and y_preds_bin[i] == k for i in range(len(ids_test))])\n",
    "confu_mat = {'tn': met(lambda t, p: t == p, 0), 'fp': met(lambda t, p: t != p, 1),\n",
    "             'fn': met(lambda t, p: t != p, 0), 'tp': met(lambda t, p: t == p, 1)}"
   ]
  },
  {
   "cell_type": "code",
   "execution_count": 64,
   "metadata": {},
   "outputs": [
    {
     "data": {
      "text/plain": [
       "{'fn': 280, 'fp': 2404, 'tn': 6591, 'tp': 194}"
      ]
     },
     "execution_count": 64,
     "metadata": {},
     "output_type": "execute_result"
    }
   ],
   "source": [
    "confu_mat"
   ]
  },
  {
   "cell_type": "code",
   "execution_count": null,
   "metadata": {},
   "outputs": [],
   "source": []
  }
 ],
 "metadata": {
  "kernelspec": {
   "display_name": "Python 3",
   "language": "python",
   "name": "python3"
  },
  "language_info": {
   "codemirror_mode": {
    "name": "ipython",
    "version": 3
   },
   "file_extension": ".py",
   "mimetype": "text/x-python",
   "name": "python",
   "nbconvert_exporter": "python",
   "pygments_lexer": "ipython3",
   "version": "3.5.2"
  }
 },
 "nbformat": 4,
 "nbformat_minor": 2
}
