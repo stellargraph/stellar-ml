{
 "cells": [
  {
   "cell_type": "markdown",
   "metadata": {},
   "source": [
    "# Supervised graph classification example\n"
   ]
  },
  {
   "cell_type": "markdown",
   "metadata": {
    "tags": [
     "CloudRunner"
    ]
   },
   "source": [
    "> Run the master version of this notebook: [![Open In Binder](https://mybinder.org/badge_logo.svg)](https://mybinder.org/v2/gh/stellargraph/stellargraph/master?urlpath=lab/tree/demos/graph-classification/supervised-graph-classification.ipynb) [![Open In Colab](https://colab.research.google.com/assets/colab-badge.svg)](https://colab.research.google.com/github/stellargraph/stellargraph/blob/master/demos/graph-classification/supervised-graph-classification.ipynb)"
   ]
  },
  {
   "cell_type": "markdown",
   "metadata": {},
   "source": [
    "This notebook demonstrates how to train a graph classification model in a supervised setting using graph convolutional layers followed by a mean pooling layer as well as any number of fully connected layers.\n",
    "\n",
    "The graph convolutional classification model architecture is based on the one proposed in [1] (see Figure 5 in [1]) using the graph convolutional layers from [2]. This demo differs from [1] in the dataset, MUTAG, used here; MUTAG is a collection of static graphs representing chemical compounds with each graph associated with a binary label. Furthermore, none of the graph convolutional layers in our model utilise an attention head as proposed in [1].\n",
    "\n",
    "Evaluation data for graph kernel-based approaches shown in the very last cell in this notebook are taken from [3].\n",
    "\n",
    "**References**\n",
    "\n",
    "[1] Fake News Detection on Social Media using Geometric Deep Learning, F. Monti, F. Frasca, D. Eynard, D. Mannion, and M. M. Bronstein, ICLR 2019. ([link](https://arxiv.org/abs/1902.06673))\n",
    "\n",
    "[2] Semi-supervised Classification with Graph Convolutional Networks, T. N. Kipf and M. Welling, ICLR 2017. ([link](https://arxiv.org/abs/1609.02907))\n",
    "\n",
    "[3] An End-to-End Deep Learning Architecture for Graph Classification, M. Zhang, Z. Cui, M. Neumann, Y. Chen, AAAI-18. ([link](https://www.aaai.org/ocs/index.php/AAAI/AAAI18/paper/viewPaper/17146))"
   ]
  },
  {
   "cell_type": "code",
   "execution_count": 1,
   "metadata": {
    "nbsphinx": "hidden",
    "tags": [
     "CloudRunner"
    ]
   },
   "outputs": [],
   "source": [
    "# install StellarGraph if running on Google Colab\n",
    "import sys\n",
    "if 'google.colab' in sys.modules:\n",
    "  %pip install -q stellargraph[demos]==1.0.0rc2"
   ]
  },
  {
   "cell_type": "code",
   "execution_count": 2,
   "metadata": {
    "nbsphinx": "hidden",
    "tags": [
     "VersionCheck"
    ]
   },
   "outputs": [],
   "source": [
    "# verify that we're using the correct version of StellarGraph for this notebook\n",
    "import stellargraph as sg\n",
    "\n",
    "try:\n",
    "    sg.utils.validate_notebook_version(\"1.0.0rc2\")\n",
    "except AttributeError:\n",
    "    raise ValueError(\n",
    "        f\"This notebook requires StellarGraph version 1.0.0rc2, but a different version {sg.__version__} is installed.  Please see <https://github.com/stellargraph/stellargraph/issues/1172>.\"\n",
    "    ) from None"
   ]
  },
  {
   "cell_type": "code",
   "execution_count": 3,
   "metadata": {},
   "outputs": [],
   "source": [
    "import pandas as pd\n",
    "import numpy as np\n",
    "\n",
    "import stellargraph as sg\n",
    "from stellargraph.mapper import PaddedGraphGenerator\n",
    "from stellargraph.layer import GCNSupervisedGraphClassification\n",
    "from stellargraph import StellarGraph\n",
    "\n",
    "from stellargraph import datasets\n",
    "\n",
    "from sklearn import model_selection\n",
    "from IPython.display import display, HTML\n",
    "\n",
    "from tensorflow.keras import Model\n",
    "from tensorflow.keras.optimizers import Adam\n",
    "from tensorflow.keras.layers import Dense\n",
    "from tensorflow.keras.losses import binary_crossentropy\n",
    "from tensorflow.keras.callbacks import EarlyStopping\n",
    "import tensorflow as tf\n",
    "import matplotlib.pyplot as plt"
   ]
  },
  {
   "cell_type": "markdown",
   "metadata": {},
   "source": [
    "## Import the data"
   ]
  },
  {
   "cell_type": "code",
   "execution_count": 4,
   "metadata": {},
   "outputs": [
    {
     "data": {
      "text/html": [
       "Each graph represents a chemical compound and graph labels represent 'their mutagenic effect on a specific gram negative bacterium.'The dataset includes 188 graphs with 18 nodes and 20 edges on average for each graph. Graph nodes have 7 labels and each graph is labelled as belonging to 1 of 2 classes."
      ],
      "text/plain": [
       "<IPython.core.display.HTML object>"
      ]
     },
     "metadata": {},
     "output_type": "display_data"
    }
   ],
   "source": [
    "dataset = datasets.MUTAG()\n",
    "display(HTML(dataset.description))\n",
    "graphs, graph_labels = dataset.load()"
   ]
  },
  {
   "cell_type": "code",
   "execution_count": 5,
   "metadata": {},
   "outputs": [],
   "source": [
    "graph_labels = pd.get_dummies(graph_labels, drop_first=True)"
   ]
  },
  {
   "cell_type": "markdown",
   "metadata": {},
   "source": [
    "### Prepare graph generator\n",
    "\n",
    "To feed data to the `tf.Keras` model that we will create later, we need a data generator. For supervised graph classification, we create an instance of `StellarGraph`'s `PaddedGraphGenerator` class. Note that `graphs` is a list of `StellarGraph` graph objects."
   ]
  },
  {
   "cell_type": "code",
   "execution_count": 6,
   "metadata": {},
   "outputs": [],
   "source": [
    "generator = PaddedGraphGenerator(graphs=graphs)"
   ]
  },
  {
   "cell_type": "markdown",
   "metadata": {},
   "source": [
    "### Create the Keras graph classification model\n",
    "\n",
    "We are now ready to create a `tf.Keras` graph classification model using `StellarGraph`'s `GraphClassification` class together with standard `tf.Keras` layers, e.g., `Dense`. \n",
    "\n",
    "The input is the graph represented by its adjacency and node features matrices. The first two layers are Graph Convolutional as in [2] with each layer having 64 units and `relu` activations. The next layer is a mean pooling layer where the learned node representation are summarized to create a graph representation. The graph representation is input to two fully connected layers with 32 and 16 units respectively and `relu` activations. The last layer is the output layer with a single unit and `sigmoid` activation."
   ]
  },
  {
   "cell_type": "markdown",
   "metadata": {},
   "source": [
    "![](graph_classification_architecture.png)"
   ]
  },
  {
   "cell_type": "code",
   "execution_count": 7,
   "metadata": {},
   "outputs": [],
   "source": [
    "def create_graph_classification_model(generator):\n",
    "    gc_model = GCNSupervisedGraphClassification(\n",
    "        layer_sizes=[64, 64],\n",
    "        activations=[\"relu\", \"relu\"],\n",
    "        generator=generator,\n",
    "        dropout=0.5,\n",
    "    )\n",
    "    x_inp, x_out = gc_model.in_out_tensors()\n",
    "    predictions = Dense(units=32, activation=\"relu\")(x_out)\n",
    "    predictions = Dense(units=16, activation=\"relu\")(predictions)\n",
    "    predictions = Dense(units=1, activation=\"sigmoid\")(predictions)\n",
    "\n",
    "    # Let's create the Keras model and prepare it for training\n",
    "    model = Model(inputs=x_inp, outputs=predictions)\n",
    "    model.compile(optimizer=Adam(0.005), loss=binary_crossentropy, metrics=[\"acc\"])\n",
    "\n",
    "    return model"
   ]
  },
  {
   "cell_type": "markdown",
   "metadata": {},
   "source": [
    "### Train the model\n",
    "\n",
    "We can now train the model using the model's `fit` method. First, we specify some important training parameters such as the number of training epochs, number of fold for cross validation and the number of time to repeat cross validation."
   ]
  },
  {
   "cell_type": "code",
   "execution_count": 8,
   "metadata": {
    "tags": [
     "parameters"
    ]
   },
   "outputs": [],
   "source": [
    "epochs = 200  # maximum number of training epochs\n",
    "folds = 10  # the number of folds for k-fold cross validation\n",
    "n_repeats = 5  # the number of repeats for repeated k-fold cross validation"
   ]
  },
  {
   "cell_type": "code",
   "execution_count": 9,
   "metadata": {},
   "outputs": [],
   "source": [
    "es = EarlyStopping(\n",
    "    monitor=\"val_loss\", min_delta=0, patience=25, restore_best_weights=True\n",
    ")"
   ]
  },
  {
   "cell_type": "markdown",
   "metadata": {},
   "source": [
    "The method `train_fold` is used to traing a graph classification model for a single fold of the data."
   ]
  },
  {
   "cell_type": "code",
   "execution_count": 10,
   "metadata": {},
   "outputs": [],
   "source": [
    "def train_fold(model, train_gen, test_gen, es, epochs):\n",
    "    history = model.fit(\n",
    "        train_gen, epochs=epochs, validation_data=test_gen, verbose=0, callbacks=[es],\n",
    "    )\n",
    "    # calculate performance on the test data and return along with history\n",
    "    test_metrics = model.evaluate(test_gen, verbose=0)\n",
    "    test_acc = test_metrics[model.metrics_names.index(\"acc\")]\n",
    "\n",
    "    return history, test_acc"
   ]
  },
  {
   "cell_type": "code",
   "execution_count": 11,
   "metadata": {},
   "outputs": [],
   "source": [
    "def get_generators(train_index, test_index, graph_labels, batch_size):\n",
    "    train_gen = generator.flow(\n",
    "        train_index, targets=graph_labels.iloc[train_index].values, batch_size=batch_size\n",
    "    )\n",
    "    test_gen = generator.flow(\n",
    "        test_index, targets=graph_labels.iloc[test_index].values, batch_size=batch_size\n",
    "    )\n",
    "\n",
    "    return train_gen, test_gen"
   ]
  },
  {
   "cell_type": "markdown",
   "metadata": {},
   "source": [
    "The code below puts all the above functionality together in a training loop for repeated k-fold cross-validation where the number of folds is 10, `folds=10`; that is we do 10-fold cross validation `n_repeats` times where `n_repeats=5`.\n",
    "\n",
    "**Note**: The below code may take a long time to run depending on the value set for `n_repeats`. The larger the latter, the longer it takes since for each repeat we train and evaluate 10 graph classification models, one for each fold of the data. For progess updates, we recommend that you set `verbose=2` in the call to the `fit` method is cell 10, line 3."
   ]
  },
  {
   "cell_type": "code",
   "execution_count": 12,
   "metadata": {},
   "outputs": [
    {
     "name": "stdout",
     "output_type": "stream",
     "text": [
      "  ['...']\n",
      "  ['...']\n",
      "  ['...']\n",
      "  ['...']\n",
      "  ['...']\n",
      "  ['...']\n",
      "  ['...']\n",
      "  ['...']\n",
      "  ['...']\n",
      "  ['...']\n",
      "  ['...']\n",
      "  ['...']\n",
      "  ['...']\n",
      "  ['...']\n",
      "  ['...']\n",
      "  ['...']\n",
      "  ['...']\n",
      "  ['...']\n",
      "  ['...']\n",
      "  ['...']\n",
      "  ['...']\n",
      "  ['...']\n",
      "  ['...']\n",
      "  ['...']\n",
      "  ['...']\n",
      "  ['...']\n",
      "  ['...']\n",
      "  ['...']\n",
      "  ['...']\n",
      "  ['...']\n",
      "  ['...']\n",
      "  ['...']\n",
      "  ['...']\n",
      "  ['...']\n",
      "  ['...']\n",
      "  ['...']\n",
      "  ['...']\n",
      "  ['...']\n",
      "  ['...']\n",
      "  ['...']\n",
      "  ['...']\n",
      "  ['...']\n",
      "  ['...']\n",
      "  ['...']\n",
      "  ['...']\n",
      "  ['...']\n",
      "  ['...']\n",
      "  ['...']\n",
      "  ['...']\n",
      "  ['...']\n",
      "  ['...']\n",
      "  ['...']\n",
      "  ['...']\n",
      "  ['...']\n",
      "  ['...']\n",
      "  ['...']\n",
      "  ['...']\n",
      "  ['...']\n",
      "  ['...']\n",
      "  ['...']\n",
      "  ['...']\n",
      "  ['...']\n",
      "  ['...']\n",
      "  ['...']\n",
      "  ['...']\n",
      "  ['...']\n",
      "  ['...']\n",
      "  ['...']\n",
      "  ['...']\n",
      "  ['...']\n",
      "  ['...']\n",
      "  ['...']\n",
      "  ['...']\n",
      "  ['...']\n",
      "  ['...']\n",
      "  ['...']\n",
      "  ['...']\n",
      "  ['...']\n",
      "  ['...']\n",
      "  ['...']\n",
      "  ['...']\n",
      "  ['...']\n",
      "  ['...']\n",
      "  ['...']\n",
      "  ['...']\n",
      "  ['...']\n",
      "  ['...']\n",
      "  ['...']\n",
      "  ['...']\n",
      "  ['...']\n",
      "  ['...']\n",
      "  ['...']\n",
      "  ['...']\n",
      "  ['...']\n",
      "  ['...']\n",
      "  ['...']\n",
      "  ['...']\n",
      "  ['...']\n",
      "  ['...']\n",
      "  ['...']\n",
      "  ['...']\n",
      "  ['...']\n",
      "  ['...']\n",
      "  ['...']\n",
      "  ['...']\n",
      "  ['...']\n",
      "  ['...']\n",
      "  ['...']\n",
      "  ['...']\n",
      "  ['...']\n",
      "  ['...']\n",
      "  ['...']\n",
      "  ['...']\n",
      "  ['...']\n",
      "  ['...']\n",
      "  ['...']\n",
      "  ['...']\n",
      "  ['...']\n",
      "  ['...']\n",
      "  ['...']\n",
      "  ['...']\n",
      "  ['...']\n",
      "  ['...']\n",
      "  ['...']\n",
      "  ['...']\n",
      "  ['...']\n",
      "  ['...']\n",
      "  ['...']\n",
      "  ['...']\n",
      "  ['...']\n",
      "  ['...']\n",
      "  ['...']\n",
      "  ['...']\n",
      "  ['...']\n",
      "  ['...']\n",
      "  ['...']\n",
      "  ['...']\n",
      "  ['...']\n",
      "  ['...']\n",
      "  ['...']\n",
      "  ['...']\n",
      "  ['...']\n",
      "  ['...']\n",
      "  ['...']\n",
      "  ['...']\n",
      "  ['...']\n",
      "  ['...']\n",
      "  ['...']\n",
      "  ['...']\n",
      "  ['...']\n"
     ]
    }
   ],
   "source": [
    "test_accs = []\n",
    "\n",
    "for train_index, test_index in model_selection.RepeatedStratifiedKFold(\n",
    "    n_splits=folds, n_repeats=n_repeats\n",
    ").split(graph_labels, graph_labels):\n",
    "\n",
    "    train_gen, test_gen = get_generators(\n",
    "        train_index, test_index, graph_labels, batch_size=30\n",
    "    )\n",
    "\n",
    "    model = create_graph_classification_model(generator)\n",
    "\n",
    "    history, acc = train_fold(model, train_gen, test_gen, es, epochs)\n",
    "\n",
    "    test_accs.append(acc)"
   ]
  },
  {
   "cell_type": "code",
   "execution_count": 13,
   "metadata": {},
   "outputs": [
    {
     "name": "stdout",
     "output_type": "stream",
     "text": [
<<<<<<< HEAD
      "Best model test accuracy: 0.8947368264198303\n"
     ]
    }
   ],
   "source": [
    "print(f\"Best model test accuracy: {best_model_test_acc}\")"
   ]
  },
  {
   "cell_type": "code",
   "execution_count": 14,
   "metadata": {},
   "outputs": [
    {
     "name": "stdout",
     "output_type": "stream",
     "text": [
      "Accuracy over all folds mean: 78.8% and std: 7.4%\n"
=======
      "Accuracy over all folds mean: 75.4% and std: 7.8%\n"
>>>>>>> develop
     ]
    }
   ],
   "source": [
    "print(\n",
    "    f\"Accuracy over all folds mean: {np.mean(test_accs)*100:.3}% and std: {np.std(test_accs)*100:.2}%\"\n",
    ")"
   ]
  },
  {
   "cell_type": "markdown",
   "metadata": {},
   "source": [
    "Finally, we plot a histogram of the accuracy of all `n_repeats x folds` models trained (50 in total)."
   ]
  },
  {
   "cell_type": "code",
   "execution_count": 14,
   "metadata": {},
   "outputs": [
    {
     "data": {
<<<<<<< HEAD
      "image/png": "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\n",
=======
      "image/png": "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\n",
>>>>>>> develop
      "text/plain": [
       "<Figure size 576x432 with 1 Axes>"
      ]
     },
     "metadata": {
      "needs_background": "light"
     },
     "output_type": "display_data"
    }
   ],
   "source": [
    "plt.figure(figsize=(8, 6))\n",
    "plt.hist(test_accs)\n",
    "plt.xlabel(\"Accuracy\")\n",
    "plt.ylabel(\"Count\")"
   ]
  },
  {
   "cell_type": "markdown",
   "metadata": {},
   "source": [
    "The histogram shown above indicates the difficulty of training a good model on the MUTAG dataset due to the following factors,\n",
    "- small amount of available data, i.e., only 188 graphs\n",
    "- small amount of validation data since for a single fold only 19 graphs are used for validation\n",
    "- the data are unbalanced since the majority class is twice as prelevant in the data\n",
    "\n",
<<<<<<< HEAD
    "\n",
    "Given the above, average performance as estimated using 10-fold cross validation is $78.8\\pm7.4$. The high variance for this results is likely the result of the small dataset size.\n",
=======
    "Given the above, average performance as estimated using repeated 10-fold cross validation displays high variance but overall good performance for a straightforward application of graph convolutional neural networks to supervised graph classification. The high variance is likely the result of the small dataset size.\n",
>>>>>>> develop
    "\n",
    "Generally, performance is a bit lower than SOTA in recent literature. However, we have not tuned the model for the best performance possible so some improvement over the current baseline may be attainable.\n",
    "\n",
    "When comparing to graph kernel-based approaches, our straightforward GCN with mean pooling graph classification model is competitive, with the WL kernel being the exception.\n",
    "\n",
    "For comparison, some performance numbers repeated from [3] for graph kernel-based approaches are, \n",
    "- Graphlet Kernel (GK): $81.39\\pm1.74$\n",
    "- Random Walk Kernel (RW): $79.17\\pm2.07$\n",
    "- Propagation Kernel (PK): $76.00\\pm2.69$\n",
    "- Weisfeiler-Lehman Subtree Kernel (WL): $84.11\\pm1.91$"
   ]
  },
  {
   "cell_type": "markdown",
   "metadata": {
    "tags": [
     "CloudRunner"
    ]
   },
   "source": [
    "> Run the master version of this notebook: [![Open In Binder](https://mybinder.org/badge_logo.svg)](https://mybinder.org/v2/gh/stellargraph/stellargraph/master?urlpath=lab/tree/demos/graph-classification/supervised-graph-classification.ipynb) [![Open In Colab](https://colab.research.google.com/assets/colab-badge.svg)](https://colab.research.google.com/github/stellargraph/stellargraph/blob/master/demos/graph-classification/supervised-graph-classification.ipynb)"
   ]
  }
 ],
 "metadata": {
  "kernelspec": {
   "display_name": "Python 3",
   "language": "python",
   "name": "python3"
  },
  "language_info": {
   "codemirror_mode": {
    "name": "ipython",
    "version": 3
   },
   "file_extension": ".py",
   "mimetype": "text/x-python",
   "name": "python",
   "nbconvert_exporter": "python",
   "pygments_lexer": "ipython3",
   "version": "3.6.9"
  }
 },
 "nbformat": 4,
 "nbformat_minor": 2
}
