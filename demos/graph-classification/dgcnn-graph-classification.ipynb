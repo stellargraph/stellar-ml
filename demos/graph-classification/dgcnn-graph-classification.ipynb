{
 "cells": [
  {
   "cell_type": "markdown",
   "metadata": {},
   "source": [
    "# Supervised graph classification with Deep Graph Convolutional Neural Networks"
   ]
  },
  {
   "cell_type": "markdown",
   "metadata": {
    "tags": [
     "CloudRunner"
    ]
   },
   "source": [
    "<table><tr><td>Run the master version of this notebook:</td><td><a href=\"https://mybinder.org/v2/gh/stellargraph/stellargraph/master?urlpath=lab/tree/demos/graph-classification/dgcnn-graph-classification.ipynb\" alt=\"Open In Binder\" target=\"_parent\"><img src=\"https://mybinder.org/badge_logo.svg\"/></a></td><td><a href=\"https://colab.research.google.com/github/stellargraph/stellargraph/blob/master/demos/graph-classification/dgcnn-graph-classification.ipynb\" alt=\"Open In Colab\" target=\"_parent\"><img src=\"https://colab.research.google.com/assets/colab-badge.svg\"/></a></td></tr></table>"
   ]
  },
  {
   "cell_type": "markdown",
   "metadata": {},
   "source": [
    "This notebook demonstrates how to train a graph classification model in a supervised setting using the Deep Graph Convolutional Neural Network (DGCNN) [1] algorithm.\n",
    "\n",
    "In supervised graph classification, we are given a collection of graphs each with an attached categorical label. For example, the PROTEINS dataset we use for this demo is a collection of graphs each representing a chemical compound and labelled as either an enzyme or not. Our goal is to train a machine learning model that uses the graph structure of the data together with any information available for the graph's nodes, e.g., chemical properties for the compounds in PROTEINS, to predict the correct label for a previously unseen graph; a previously unseen graph is one that was not used for training and validating the model.\n",
    "\n",
    "The DGCNN architecture was proposed in [1] (see Figure 5 in [1]) using the graph convolutional layers from [2] but with a modified propagation rule (see [1] for details). DGCNN introduces a new `SortPooling` layer to generate a representation (also know as embedding) for each given graph using as input the representations learned for each node via a stack of graph convolutional layers. The output of the `SortPooling` layer is then used as input to one-dimensional convolutional, max pooling, and dense layers that learn graph-level features suitable for predicting graph labels.\n",
    "\n",
    "**References**\n",
    "\n",
    "[1] An End-to-End Deep Learning Architecture for Graph Classification, M. Zhang, Z. Cui, M. Neumann, Y. Chen, AAAI-18. ([link](https://www.aaai.org/ocs/index.php/AAAI/AAAI18/paper/viewPaper/17146))\n",
    "\n",
    "[2] Semi-supervised Classification with Graph Convolutional Networks, T. N. Kipf and M. Welling, ICLR 2017. ([link](https://arxiv.org/abs/1609.02907))\n"
   ]
  },
  {
   "cell_type": "code",
   "execution_count": 1,
   "metadata": {
    "nbsphinx": "hidden",
    "tags": [
     "CloudRunner"
    ]
   },
   "outputs": [],
   "source": [
    "# install StellarGraph if running on Google Colab\n",
    "import sys\n",
    "if 'google.colab' in sys.modules:\n",
    "  %pip install -q stellargraph[demos]==1.0.0rc2"
   ]
  },
  {
   "cell_type": "code",
   "execution_count": 2,
   "metadata": {
    "nbsphinx": "hidden",
    "tags": [
     "VersionCheck"
    ]
   },
   "outputs": [],
   "source": [
    "# verify that we're using the correct version of StellarGraph for this notebook\n",
    "import stellargraph as sg\n",
    "\n",
    "try:\n",
    "    sg.utils.validate_notebook_version(\"1.0.0rc2\")\n",
    "except AttributeError:\n",
    "    raise ValueError(\n",
    "        f\"This notebook requires StellarGraph version 1.0.0rc2, but a different version {sg.__version__} is installed.  Please see <https://github.com/stellargraph/stellargraph/issues/1172>.\"\n",
    "    ) from None"
   ]
  },
  {
   "cell_type": "code",
   "execution_count": 3,
   "metadata": {},
   "outputs": [],
   "source": [
    "import pandas as pd\n",
    "import numpy as np\n",
    "\n",
    "import stellargraph as sg\n",
    "from stellargraph.mapper import PaddedGraphGenerator\n",
    "from stellargraph.layer import DeepGraphConvolutionalNeuralNetwork\n",
    "from stellargraph import StellarGraph\n",
    "\n",
    "from stellargraph import datasets\n",
    "\n",
    "from sklearn import model_selection\n",
    "from IPython.display import display, HTML\n",
    "\n",
    "from tensorflow.keras import Model\n",
    "from tensorflow.keras.optimizers import Adam\n",
    "from tensorflow.keras.layers import Dense, Conv1D, MaxPool1D, Dropout, Flatten\n",
    "from tensorflow.keras.losses import binary_crossentropy\n",
    "from tensorflow.keras.callbacks import EarlyStopping\n",
    "import tensorflow as tf"
   ]
  },
  {
   "cell_type": "markdown",
   "metadata": {},
   "source": [
    "## Import the data"
   ]
  },
  {
   "cell_type": "code",
   "execution_count": 4,
   "metadata": {},
   "outputs": [
    {
     "data": {
      "text/html": [
       "Each graph represents a protein and graph labels represent whether they are are enzymes or non-enzymes. The dataset includes 1113 graphs with 39 nodes and 73 edges on average for each graph. Graph nodes have 4 attributes (including a one-hot encoding of their label), and each graph is labelled as belonging to 1 of 2 classes."
      ],
      "text/plain": [
       "<IPython.core.display.HTML object>"
      ]
     },
     "metadata": {},
     "output_type": "display_data"
    }
   ],
   "source": [
    "dataset = datasets.PROTEINS()\n",
    "display(HTML(dataset.description))\n",
    "graphs, graph_labels = dataset.load()"
   ]
  },
  {
   "cell_type": "code",
   "execution_count": 5,
   "metadata": {},
   "outputs": [],
   "source": [
    "graph_labels = pd.get_dummies(graph_labels, drop_first=True)"
   ]
  },
  {
   "cell_type": "markdown",
   "metadata": {},
   "source": [
    "### Prepare graph generator\n",
    "\n",
    "To feed data to the `tf.Keras` model that we will create later, we need a data generator. For supervised graph classification, we create an instance of `StellarGraph`'s `PaddedGraphGenerator` class."
   ]
  },
  {
   "cell_type": "code",
   "execution_count": 6,
   "metadata": {},
   "outputs": [],
   "source": [
    "generator = PaddedGraphGenerator(graphs=graphs)"
   ]
  },
  {
   "cell_type": "markdown",
   "metadata": {},
   "source": [
    "### Create the Keras graph classification model\n",
    "\n",
    "We are now ready to create a `tf.Keras` graph classification model using `StellarGraph`'s `DeepGraphConvolutionalNeuralNetwork` class together with standard `tf.Keras` layers `Conv1D`, `MapPool1D`, `Dropout`, and `Dense`. \n",
    "\n",
    "The model's input is the graph represented by its adjacency and node features matrices. The first four layers are Graph Convolutional as in [2] but using the adjacency normalisation from [1], $D^{-1}A$ where $A$ is the adjacency matrix with self loops and $D$ is the corresponding degree matrix. The graph convolutional layers each have 32, 32, 32, 1 units and `tanh` activations. \n",
    "\n",
    "The next layer is a one dimensional convolutional layer, `Conv1D`, followed by a max pooling, `MaxPool1D`, layer. Next is a second `Conv1D` layer that is followed by two `Dense` layers the second used for binary classification. The convolutional and dense layers use `relu` activation except for the last dense layer that uses `sigmoid` for classification. As described in [1], we add a `Dropout` layer after the first `Dense` layer."
   ]
  },
  {
   "cell_type": "markdown",
   "metadata": {},
   "source": [
    "![](dgcnn_architecture.png)"
   ]
  },
  {
   "cell_type": "markdown",
   "metadata": {},
   "source": [
    "First we create the base DGCNN model that includes the graph convolutional and `SortPooling` layers."
   ]
  },
  {
   "cell_type": "code",
   "execution_count": 7,
   "metadata": {},
   "outputs": [],
   "source": [
    "k = 35  # the number of rows for the output tensor\n",
    "layer_sizes = [32, 32, 32, 1]\n",
    "\n",
    "dgcnn_model = DeepGraphConvolutionalNeuralNetwork(\n",
    "    layer_sizes=layer_sizes,\n",
    "    activations=[\"tanh\", \"tanh\", \"tanh\", \"tanh\"],\n",
    "    k=k,\n",
    "    bias=False,\n",
    "    generator=generator,\n",
    ")\n",
    "x_inp, x_out = dgcnn_model.in_out_tensors()"
   ]
  },
  {
   "cell_type": "markdown",
   "metadata": {},
   "source": [
    "Next, we add the convolutional, max pooling, and dense layers."
   ]
  },
  {
   "cell_type": "code",
   "execution_count": 8,
   "metadata": {},
   "outputs": [],
   "source": [
    "x_out = Conv1D(filters=16, kernel_size=sum(layer_sizes), strides=sum(layer_sizes))(x_out)\n",
    "x_out = MaxPool1D(pool_size=2)(x_out)\n",
    "\n",
    "x_out = Conv1D(filters=32, kernel_size=5, strides=1)(x_out)\n",
    "\n",
    "x_out = Flatten()(x_out)\n",
    "\n",
    "x_out = Dense(units=128, activation=\"relu\")(x_out)\n",
    "x_out = Dropout(rate=0.5)(x_out)\n",
    "\n",
    "predictions = Dense(units=1, activation=\"sigmoid\")(x_out)"
   ]
  },
  {
   "cell_type": "markdown",
   "metadata": {},
   "source": [
    "Finally, we create the `Keras` model and prepare it for training by specifying the loss and optimisation algorithm."
   ]
  },
  {
   "cell_type": "code",
   "execution_count": 9,
   "metadata": {},
   "outputs": [],
   "source": [
    "model = Model(inputs=x_inp, outputs=predictions)\n",
    "\n",
    "model.compile(\n",
    "    optimizer=Adam(lr=0.0001), loss=binary_crossentropy, metrics=[\"acc\"],\n",
    ")"
   ]
  },
  {
   "cell_type": "markdown",
   "metadata": {},
   "source": [
    "### Train the model\n",
    "\n",
    "We can now train the model using the model's `fit` method.\n",
    "\n",
    "But first we need to split our data to training and test sets. We are going to use 90% of the data for training and the remaining 10% for testing. This 90/10 split is the equivalent of a single fold in the 10-fold cross validation scheme used in [1]."
   ]
  },
  {
   "cell_type": "code",
   "execution_count": 10,
   "metadata": {},
   "outputs": [],
   "source": [
    "train_graphs, test_graphs = model_selection.train_test_split(\n",
    "    graph_labels, train_size=0.9, test_size=None, stratify=graph_labels,\n",
    ")"
   ]
  },
  {
   "cell_type": "markdown",
   "metadata": {},
   "source": [
    "Given the data split into train and test sets, we create a `StellarGraph.PaddedGenerator` generator object that prepares the data for training. We create data generators suitable for training at `tf.keras` model by calling the latter generator's `flow` method specifying the train and test data."
   ]
  },
  {
   "cell_type": "code",
   "execution_count": 11,
   "metadata": {},
   "outputs": [],
   "source": [
    "gen = PaddedGraphGenerator(graphs=graphs)\n",
    "\n",
    "train_gen = gen.flow(\n",
    "    list(train_graphs.index - 1),\n",
    "    targets=train_graphs.values,\n",
    "    batch_size=50,\n",
    "    symmetric_normalization=False,\n",
    ")\n",
    "\n",
    "test_gen = gen.flow(\n",
    "    list(test_graphs.index - 1),\n",
    "    targets=test_graphs.values,\n",
    "    batch_size=1,\n",
    "    symmetric_normalization=False,\n",
    ")"
   ]
  },
  {
   "cell_type": "markdown",
   "metadata": {},
   "source": [
    "**Note**: We set the number of epochs to a large value so the call to `model.fit(...)` later might take a long time to complete. For faster performance set `epochs` to a smaller value; but if you do accuracy of the model found may be low."
   ]
  },
  {
   "cell_type": "code",
   "execution_count": 12,
   "metadata": {
    "tags": [
     "parameters"
    ]
   },
   "outputs": [],
   "source": [
    "epochs = 100"
   ]
  },
  {
   "cell_type": "markdown",
   "metadata": {},
   "source": [
    "We will use early stopping to prevent overfitting."
   ]
  },
  {
   "cell_type": "code",
   "execution_count": 13,
   "metadata": {},
   "outputs": [],
   "source": [
    "es = EarlyStopping(\n",
    "    monitor=\"val_loss\", min_delta=0, patience=25, restore_best_weights=True\n",
    ")"
   ]
  },
  {
   "cell_type": "markdown",
   "metadata": {},
   "source": [
    "We can now train the model by calling it's `fit` method."
   ]
  },
  {
   "cell_type": "code",
   "execution_count": 14,
   "metadata": {},
   "outputs": [
    {
     "name": "stdout",
     "output_type": "stream",
     "text": [
      "  ['...']\n",
      "  ['...']\n",
      "Train for 21 steps, validate for 112 steps\n",
      "Epoch 1/100\n",
      "21/21 [==============================] - 4s 177ms/step - loss: 0.6726 - acc: 0.5335 - val_loss: 0.6232 - val_acc: 0.6071\n",
      "Epoch 2/100\n",
      "21/21 [==============================] - 2s 104ms/step - loss: 0.6059 - acc: 0.6214 - val_loss: 0.5896 - val_acc: 0.6339\n",
      "Epoch 3/100\n",
      "21/21 [==============================] - 2s 102ms/step - loss: 0.5994 - acc: 0.6783 - val_loss: 0.5759 - val_acc: 0.7411\n",
      "Epoch 4/100\n",
      "21/21 [==============================] - 2s 101ms/step - loss: 0.5815 - acc: 0.7073 - val_loss: 0.5643 - val_acc: 0.7232\n",
      "Epoch 5/100\n",
      "21/21 [==============================] - 3s 127ms/step - loss: 0.5851 - acc: 0.7213 - val_loss: 0.5579 - val_acc: 0.7232\n",
      "Epoch 6/100\n",
      "21/21 [==============================] - 3s 127ms/step - loss: 0.5786 - acc: 0.7253 - val_loss: 0.5526 - val_acc: 0.7321\n",
      "Epoch 7/100\n",
      "21/21 [==============================] - 2s 118ms/step - loss: 0.5812 - acc: 0.7193 - val_loss: 0.5485 - val_acc: 0.7232\n",
      "Epoch 8/100\n",
      "21/21 [==============================] - 2s 102ms/step - loss: 0.5748 - acc: 0.7283 - val_loss: 0.5458 - val_acc: 0.7321\n",
      "Epoch 9/100\n",
      "21/21 [==============================] - 3s 126ms/step - loss: 0.5737 - acc: 0.7243 - val_loss: 0.5442 - val_acc: 0.7321\n",
      "Epoch 10/100\n",
      "21/21 [==============================] - 3s 129ms/step - loss: 0.5715 - acc: 0.7233 - val_loss: 0.5423 - val_acc: 0.7321\n",
      "Epoch 11/100\n",
      "21/21 [==============================] - 2s 117ms/step - loss: 0.5645 - acc: 0.7313 - val_loss: 0.5408 - val_acc: 0.7232\n",
      "Epoch 12/100\n",
      "21/21 [==============================] - 2s 104ms/step - loss: 0.5610 - acc: 0.7273 - val_loss: 0.5397 - val_acc: 0.7321\n",
      "Epoch 13/100\n",
      "21/21 [==============================] - 2s 101ms/step - loss: 0.5539 - acc: 0.7323 - val_loss: 0.5378 - val_acc: 0.7411\n",
      "Epoch 14/100\n",
      "21/21 [==============================] - 2s 106ms/step - loss: 0.5478 - acc: 0.7203 - val_loss: 0.5371 - val_acc: 0.7411\n",
      "Epoch 15/100\n",
      "21/21 [==============================] - 2s 105ms/step - loss: 0.5573 - acc: 0.7253 - val_loss: 0.5355 - val_acc: 0.7411\n",
      "Epoch 16/100\n",
      "21/21 [==============================] - 2s 99ms/step - loss: 0.5529 - acc: 0.7313 - val_loss: 0.5334 - val_acc: 0.7411\n",
      "Epoch 17/100\n",
      "21/21 [==============================] - 2s 100ms/step - loss: 0.5465 - acc: 0.7353 - val_loss: 0.5286 - val_acc: 0.7411\n",
      "Epoch 18/100\n",
      "21/21 [==============================] - 2s 100ms/step - loss: 0.5538 - acc: 0.7323 - val_loss: 0.5284 - val_acc: 0.7500\n",
      "Epoch 19/100\n",
      "21/21 [==============================] - 2s 100ms/step - loss: 0.5446 - acc: 0.7243 - val_loss: 0.5262 - val_acc: 0.7589\n",
      "Epoch 20/100\n",
      "21/21 [==============================] - 2s 100ms/step - loss: 0.5403 - acc: 0.7243 - val_loss: 0.5263 - val_acc: 0.7589\n",
      "Epoch 21/100\n",
      "21/21 [==============================] - 2s 116ms/step - loss: 0.5431 - acc: 0.7303 - val_loss: 0.5251 - val_acc: 0.7500\n",
      "Epoch 22/100\n",
      "21/21 [==============================] - 3s 127ms/step - loss: 0.5365 - acc: 0.7273 - val_loss: 0.5264 - val_acc: 0.7411\n",
      "Epoch 23/100\n",
      "21/21 [==============================] - 3s 119ms/step - loss: 0.5410 - acc: 0.7203 - val_loss: 0.5266 - val_acc: 0.7411\n",
      "Epoch 24/100\n",
      "21/21 [==============================] - 2s 99ms/step - loss: 0.5530 - acc: 0.7243 - val_loss: 0.5230 - val_acc: 0.7411\n",
      "Epoch 25/100\n",
      "21/21 [==============================] - 2s 98ms/step - loss: 0.5495 - acc: 0.7233 - val_loss: 0.5250 - val_acc: 0.7500\n",
      "Epoch 26/100\n",
      "21/21 [==============================] - 2s 100ms/step - loss: 0.5401 - acc: 0.7203 - val_loss: 0.5217 - val_acc: 0.7411\n",
      "Epoch 27/100\n",
      "21/21 [==============================] - 2s 105ms/step - loss: 0.5347 - acc: 0.7283 - val_loss: 0.5192 - val_acc: 0.7321\n",
      "Epoch 28/100\n",
      "21/21 [==============================] - 2s 100ms/step - loss: 0.5403 - acc: 0.7373 - val_loss: 0.5213 - val_acc: 0.7679\n",
      "Epoch 29/100\n",
      "21/21 [==============================] - 2s 103ms/step - loss: 0.5373 - acc: 0.7223 - val_loss: 0.5165 - val_acc: 0.7321\n",
      "Epoch 30/100\n",
      "21/21 [==============================] - 2s 104ms/step - loss: 0.5388 - acc: 0.7213 - val_loss: 0.5175 - val_acc: 0.7411\n",
      "Epoch 31/100\n",
      "21/21 [==============================] - 2s 100ms/step - loss: 0.5374 - acc: 0.7143 - val_loss: 0.5161 - val_acc: 0.7411\n",
      "Epoch 32/100\n",
      "21/21 [==============================] - 2s 95ms/step - loss: 0.5323 - acc: 0.7273 - val_loss: 0.5166 - val_acc: 0.7500\n",
      "Epoch 33/100\n",
      "21/21 [==============================] - 2s 104ms/step - loss: 0.5422 - acc: 0.7303 - val_loss: 0.5156 - val_acc: 0.7500\n",
      "Epoch 34/100\n",
      "21/21 [==============================] - 2s 95ms/step - loss: 0.5316 - acc: 0.7323 - val_loss: 0.5109 - val_acc: 0.7589\n",
      "Epoch 35/100\n",
      "21/21 [==============================] - 2s 97ms/step - loss: 0.5382 - acc: 0.7193 - val_loss: 0.5124 - val_acc: 0.7768\n",
      "Epoch 36/100\n",
      "21/21 [==============================] - 2s 97ms/step - loss: 0.5319 - acc: 0.7323 - val_loss: 0.5105 - val_acc: 0.7589\n",
      "Epoch 37/100\n",
      "21/21 [==============================] - 2s 100ms/step - loss: 0.5322 - acc: 0.7253 - val_loss: 0.5084 - val_acc: 0.7589\n",
      "Epoch 38/100\n",
      "21/21 [==============================] - 2s 97ms/step - loss: 0.5275 - acc: 0.7253 - val_loss: 0.5094 - val_acc: 0.7589\n",
      "Epoch 39/100\n",
      "21/21 [==============================] - 2s 95ms/step - loss: 0.5302 - acc: 0.7373 - val_loss: 0.5068 - val_acc: 0.7589\n",
      "Epoch 40/100\n",
      "21/21 [==============================] - 2s 98ms/step - loss: 0.5404 - acc: 0.7223 - val_loss: 0.5078 - val_acc: 0.7768\n",
      "Epoch 41/100\n",
      "21/21 [==============================] - 2s 99ms/step - loss: 0.5371 - acc: 0.7233 - val_loss: 0.5070 - val_acc: 0.7679\n",
      "Epoch 42/100\n",
      "21/21 [==============================] - 2s 101ms/step - loss: 0.5280 - acc: 0.7263 - val_loss: 0.5075 - val_acc: 0.7857\n",
      "Epoch 43/100\n",
      "21/21 [==============================] - 2s 96ms/step - loss: 0.5311 - acc: 0.7213 - val_loss: 0.5019 - val_acc: 0.7679\n",
      "Epoch 44/100\n",
      "21/21 [==============================] - 2s 96ms/step - loss: 0.5277 - acc: 0.7243 - val_loss: 0.5025 - val_acc: 0.7589\n",
      "Epoch 45/100\n",
      "21/21 [==============================] - 2s 99ms/step - loss: 0.5323 - acc: 0.7353 - val_loss: 0.5028 - val_acc: 0.7679\n",
      "Epoch 46/100\n",
      "21/21 [==============================] - 2s 100ms/step - loss: 0.5350 - acc: 0.7313 - val_loss: 0.5027 - val_acc: 0.7679\n",
      "Epoch 47/100\n",
      "21/21 [==============================] - 2s 104ms/step - loss: 0.5272 - acc: 0.7323 - val_loss: 0.5037 - val_acc: 0.7500\n",
      "Epoch 48/100\n",
      "21/21 [==============================] - 2s 98ms/step - loss: 0.5216 - acc: 0.7343 - val_loss: 0.5007 - val_acc: 0.7589\n",
      "Epoch 49/100\n",
      "21/21 [==============================] - 2s 98ms/step - loss: 0.5262 - acc: 0.7263 - val_loss: 0.4999 - val_acc: 0.7768\n",
      "Epoch 50/100\n",
      "21/21 [==============================] - 2s 98ms/step - loss: 0.5409 - acc: 0.7283 - val_loss: 0.4935 - val_acc: 0.7768\n",
      "Epoch 51/100\n",
      "21/21 [==============================] - 2s 98ms/step - loss: 0.5203 - acc: 0.7363 - val_loss: 0.4924 - val_acc: 0.7679\n",
      "Epoch 52/100\n",
      "21/21 [==============================] - 2s 101ms/step - loss: 0.5226 - acc: 0.7273 - val_loss: 0.4975 - val_acc: 0.7768\n",
      "Epoch 53/100\n",
      "21/21 [==============================] - 2s 110ms/step - loss: 0.5232 - acc: 0.7203 - val_loss: 0.4985 - val_acc: 0.7768\n",
      "Epoch 54/100\n",
      "21/21 [==============================] - 2s 102ms/step - loss: 0.5183 - acc: 0.7353 - val_loss: 0.4950 - val_acc: 0.7946\n",
      "Epoch 55/100\n",
      "21/21 [==============================] - 2s 101ms/step - loss: 0.5144 - acc: 0.7353 - val_loss: 0.4910 - val_acc: 0.7768\n",
      "Epoch 56/100\n",
      "21/21 [==============================] - 2s 100ms/step - loss: 0.5259 - acc: 0.7333 - val_loss: 0.4915 - val_acc: 0.7768\n",
      "Epoch 57/100\n",
      "21/21 [==============================] - 2s 103ms/step - loss: 0.5208 - acc: 0.7323 - val_loss: 0.4967 - val_acc: 0.7768\n",
      "Epoch 58/100\n",
      "21/21 [==============================] - 2s 99ms/step - loss: 0.5170 - acc: 0.7303 - val_loss: 0.4915 - val_acc: 0.7946\n",
      "Epoch 59/100\n",
      "21/21 [==============================] - 2s 105ms/step - loss: 0.5170 - acc: 0.7293 - val_loss: 0.4957 - val_acc: 0.7857\n",
      "Epoch 60/100\n",
      "21/21 [==============================] - 2s 103ms/step - loss: 0.5208 - acc: 0.7243 - val_loss: 0.4931 - val_acc: 0.7946\n",
      "Epoch 61/100\n",
      "21/21 [==============================] - 2s 102ms/step - loss: 0.5122 - acc: 0.7343 - val_loss: 0.4905 - val_acc: 0.7857\n",
      "Epoch 62/100\n",
      "21/21 [==============================] - 2s 101ms/step - loss: 0.5226 - acc: 0.7443 - val_loss: 0.4916 - val_acc: 0.7857\n",
      "Epoch 63/100\n",
      "21/21 [==============================] - 2s 98ms/step - loss: 0.5100 - acc: 0.7283 - val_loss: 0.4962 - val_acc: 0.7768\n",
      "Epoch 64/100\n",
      "21/21 [==============================] - 2s 102ms/step - loss: 0.5119 - acc: 0.7343 - val_loss: 0.4930 - val_acc: 0.7679\n",
      "Epoch 65/100\n",
      "21/21 [==============================] - 2s 97ms/step - loss: 0.5155 - acc: 0.7423 - val_loss: 0.4926 - val_acc: 0.7857\n",
      "Epoch 66/100\n",
      "21/21 [==============================] - 2s 99ms/step - loss: 0.5090 - acc: 0.7343 - val_loss: 0.4902 - val_acc: 0.7857\n",
      "Epoch 67/100\n",
      "21/21 [==============================] - 2s 95ms/step - loss: 0.5112 - acc: 0.7343 - val_loss: 0.4938 - val_acc: 0.7768\n",
      "Epoch 68/100\n",
      "21/21 [==============================] - 2s 96ms/step - loss: 0.5174 - acc: 0.7343 - val_loss: 0.4932 - val_acc: 0.7768\n",
      "Epoch 69/100\n",
      "21/21 [==============================] - 2s 102ms/step - loss: 0.5128 - acc: 0.7283 - val_loss: 0.4938 - val_acc: 0.7589\n",
      "Epoch 70/100\n",
      "21/21 [==============================] - 2s 98ms/step - loss: 0.5203 - acc: 0.7263 - val_loss: 0.4876 - val_acc: 0.7857\n",
      "Epoch 71/100\n",
      "21/21 [==============================] - 2s 99ms/step - loss: 0.5066 - acc: 0.7343 - val_loss: 0.4896 - val_acc: 0.7946\n",
      "Epoch 72/100\n",
      "21/21 [==============================] - 2s 101ms/step - loss: 0.5130 - acc: 0.7253 - val_loss: 0.4900 - val_acc: 0.7768\n",
      "Epoch 73/100\n",
      "21/21 [==============================] - 2s 102ms/step - loss: 0.5145 - acc: 0.7333 - val_loss: 0.4953 - val_acc: 0.7768\n",
      "Epoch 74/100\n",
      "21/21 [==============================] - 2s 100ms/step - loss: 0.5048 - acc: 0.7343 - val_loss: 0.4928 - val_acc: 0.7768\n",
      "Epoch 75/100\n",
      "21/21 [==============================] - 2s 103ms/step - loss: 0.5080 - acc: 0.7263 - val_loss: 0.4934 - val_acc: 0.7768\n",
      "Epoch 76/100\n",
      "21/21 [==============================] - 2s 99ms/step - loss: 0.5080 - acc: 0.7323 - val_loss: 0.4965 - val_acc: 0.8036\n",
      "Epoch 77/100\n",
      "21/21 [==============================] - 2s 96ms/step - loss: 0.5044 - acc: 0.7413 - val_loss: 0.4951 - val_acc: 0.7946\n",
      "Epoch 78/100\n",
      "21/21 [==============================] - 2s 98ms/step - loss: 0.5058 - acc: 0.7313 - val_loss: 0.4955 - val_acc: 0.7768\n",
      "Epoch 79/100\n",
      "21/21 [==============================] - 2s 99ms/step - loss: 0.5078 - acc: 0.7413 - val_loss: 0.4936 - val_acc: 0.7768\n",
      "Epoch 80/100\n",
      "21/21 [==============================] - 2s 105ms/step - loss: 0.5020 - acc: 0.7323 - val_loss: 0.4950 - val_acc: 0.8036\n",
      "Epoch 81/100\n",
      "21/21 [==============================] - 2s 100ms/step - loss: 0.5146 - acc: 0.7283 - val_loss: 0.4935 - val_acc: 0.7946\n",
      "Epoch 82/100\n",
      "21/21 [==============================] - 2s 100ms/step - loss: 0.5063 - acc: 0.7283 - val_loss: 0.4993 - val_acc: 0.7857\n",
      "Epoch 83/100\n",
      "21/21 [==============================] - 2s 108ms/step - loss: 0.5079 - acc: 0.7373 - val_loss: 0.4955 - val_acc: 0.8036\n",
      "Epoch 84/100\n",
      "21/21 [==============================] - 2s 101ms/step - loss: 0.4999 - acc: 0.7313 - val_loss: 0.4953 - val_acc: 0.7946\n",
      "Epoch 85/100\n",
      "21/21 [==============================] - 2s 113ms/step - loss: 0.5036 - acc: 0.7473 - val_loss: 0.4933 - val_acc: 0.7857\n",
      "Epoch 86/100\n",
      "21/21 [==============================] - 3s 123ms/step - loss: 0.5041 - acc: 0.7363 - val_loss: 0.4921 - val_acc: 0.7946\n",
      "Epoch 87/100\n",
      "21/21 [==============================] - 3s 125ms/step - loss: 0.5083 - acc: 0.7373 - val_loss: 0.4942 - val_acc: 0.8036\n",
      "Epoch 88/100\n",
      "21/21 [==============================] - 2s 118ms/step - loss: 0.4991 - acc: 0.7453 - val_loss: 0.4932 - val_acc: 0.8036\n",
      "Epoch 89/100\n",
      "21/21 [==============================] - 2s 103ms/step - loss: 0.5074 - acc: 0.7493 - val_loss: 0.4906 - val_acc: 0.8036\n",
      "Epoch 90/100\n",
      "21/21 [==============================] - 2s 99ms/step - loss: 0.4951 - acc: 0.7493 - val_loss: 0.4937 - val_acc: 0.7768\n",
      "Epoch 91/100\n",
      "21/21 [==============================] - 2s 98ms/step - loss: 0.5082 - acc: 0.7463 - val_loss: 0.4889 - val_acc: 0.8036\n",
      "Epoch 92/100\n",
      "21/21 [==============================] - 2s 101ms/step - loss: 0.4986 - acc: 0.7413 - val_loss: 0.4909 - val_acc: 0.8036\n",
      "Epoch 93/100\n",
      "21/21 [==============================] - 2s 101ms/step - loss: 0.4919 - acc: 0.7502 - val_loss: 0.4881 - val_acc: 0.8214\n",
      "Epoch 94/100\n",
      "21/21 [==============================] - 2s 104ms/step - loss: 0.5053 - acc: 0.7502 - val_loss: 0.4894 - val_acc: 0.7768\n",
      "Epoch 95/100\n",
      "21/21 [==============================] - 2s 102ms/step - loss: 0.5037 - acc: 0.7393 - val_loss: 0.4859 - val_acc: 0.7946\n",
      "Epoch 96/100\n",
      "21/21 [==============================] - 2s 98ms/step - loss: 0.4922 - acc: 0.7493 - val_loss: 0.4880 - val_acc: 0.7857\n",
      "Epoch 97/100\n",
      "21/21 [==============================] - 2s 98ms/step - loss: 0.4940 - acc: 0.7443 - val_loss: 0.4865 - val_acc: 0.8214\n",
      "Epoch 98/100\n",
      "21/21 [==============================] - 2s 96ms/step - loss: 0.4887 - acc: 0.7433 - val_loss: 0.4883 - val_acc: 0.7768\n",
      "Epoch 99/100\n",
      "21/21 [==============================] - 2s 98ms/step - loss: 0.4890 - acc: 0.7592 - val_loss: 0.4876 - val_acc: 0.7857\n",
      "Epoch 100/100\n",
      "21/21 [==============================] - 2s 98ms/step - loss: 0.4903 - acc: 0.7572 - val_loss: 0.4854 - val_acc: 0.8304\n"
     ]
    }
   ],
   "source": [
    "history = model.fit(\n",
    "    train_gen,\n",
    "    epochs=epochs,\n",
    "    verbose=1,\n",
    "    validation_data=test_gen,\n",
    "    shuffle=True,\n",
    "    callbacks=[es],\n",
    ")"
   ]
  },
  {
   "cell_type": "markdown",
   "metadata": {},
   "source": [
    "Let us plot the training history (losses and accuracies for the train and test data)."
   ]
  },
  {
   "cell_type": "code",
   "execution_count": 15,
   "metadata": {},
   "outputs": [
    {
     "data": {
      "image/png": "[encoded data removed]",
      "text/plain": [
       "<Figure size 504x576 with 2 Axes>"
      ]
     },
     "metadata": {
      "needs_background": "light"
     },
     "output_type": "display_data"
    }
   ],
   "source": [
    "sg.utils.plot_history(history)"
   ]
  },
  {
   "cell_type": "markdown",
   "metadata": {},
   "source": [
    "Finally, let us calculate the performance of the trained model on the test data."
   ]
  },
  {
   "cell_type": "code",
   "execution_count": 16,
   "metadata": {},
   "outputs": [
    {
     "name": "stdout",
     "output_type": "stream",
     "text": [
      "  ['...']\n",
      "112/112 [==============================] - 0s 1ms/step - loss: 0.4854 - acc: 0.8304\n",
      "\n",
      "Test Set Metrics:\n",
      "\tloss: 0.4854\n",
      "\tacc: 0.8304\n"
     ]
    }
   ],
   "source": [
    "test_metrics = model.evaluate(test_gen)\n",
    "print(\"\\nTest Set Metrics:\")\n",
    "for name, val in zip(model.metrics_names, test_metrics):\n",
    "    print(\"\\t{}: {:0.4f}\".format(name, val))"
   ]
  },
  {
   "cell_type": "markdown",
   "metadata": {},
   "source": [
    "### Conclusion\n",
    "\n",
    "We demonstrated the use of `StellarGraph`'s `DeepGraphConvolutionalNeuralNetwork` implementation for supervised graph classification algorithm. More specifically we showed how to  predict whether a chemical compound represented as a graph is an enzyme or not.\n",
    "\n",
    "Performance is similar to that reported in [1] but a small difference does exist. This difference can be attributed to a small number of factors listed below, \n",
    "- We use a different training scheme, that is a single 90/10 split of the data as opposed to the repeated 10-fold cross validation scheme used in [1]. We use a single fold for ease of exposition. \n",
    "- The experimental evaluation scheme in [1] does not specify some important details such as: the regularisation used for the neural network layers; if a bias term is included; the weight initialization method used; and the batch size."
   ]
  },
  {
   "cell_type": "markdown",
   "metadata": {
    "tags": [
     "CloudRunner"
    ]
   },
   "source": [
    "<table><tr><td>Run the master version of this notebook:</td><td><a href=\"https://mybinder.org/v2/gh/stellargraph/stellargraph/master?urlpath=lab/tree/demos/graph-classification/dgcnn-graph-classification.ipynb\" alt=\"Open In Binder\" target=\"_parent\"><img src=\"https://mybinder.org/badge_logo.svg\"/></a></td><td><a href=\"https://colab.research.google.com/github/stellargraph/stellargraph/blob/master/demos/graph-classification/dgcnn-graph-classification.ipynb\" alt=\"Open In Colab\" target=\"_parent\"><img src=\"https://colab.research.google.com/assets/colab-badge.svg\"/></a></td></tr></table>"
   ]
  }
 ],
 "metadata": {
  "kernelspec": {
   "display_name": "Python 3",
   "language": "python",
   "name": "python3"
  },
  "language_info": {
   "codemirror_mode": {
    "name": "ipython",
    "version": 3
   },
   "file_extension": ".py",
   "mimetype": "text/x-python",
   "name": "python",
   "nbconvert_exporter": "python",
   "pygments_lexer": "ipython3",
   "version": "3.6.9"
  }
 },
 "nbformat": 4,
 "nbformat_minor": 2
}
