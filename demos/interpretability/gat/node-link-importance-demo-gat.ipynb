{
 "cells": [
  {
   "cell_type": "markdown",
   "metadata": {},
   "source": [
    "# Interpreting Nodes and Edges by Saliency Maps in GAT\n",
    "\n",
    "This demo shows how to use integrated gradients in graph attention networks to obtain accurate importance estimations for both the nodes and edges. The notebook consists of three parts:\n",
    "\n",
    "setting up the node classification problem for Cora citation network\n",
    "training and evaluating a GAT model for node classification\n",
    "calculating node and edge importances for model's predictions of query (\"target\") nodes."
   ]
  },
  {
   "cell_type": "code",
   "execution_count": 1,
   "metadata": {},
   "outputs": [],
   "source": [
    "import networkx as nx\n",
    "import pandas as pd\n",
    "import numpy as np\n",
    "from scipy import stats\n",
    "import os\n",
    "import time\n",
    "import sys\n",
    "import stellargraph as sg\n",
    "from copy import deepcopy\n",
    "\n",
    "\n",
    "from stellargraph.mapper import FullBatchNodeGenerator\n",
    "from stellargraph.layer import GAT, GraphAttention\n",
    "\n",
    "from tensorflow.keras import layers, optimizers, losses, metrics, models, Model\n",
    "from sklearn import preprocessing, feature_extraction, model_selection\n",
    "from tensorflow.keras import backend as K\n",
    "import matplotlib.pyplot as plt\n",
    "from stellargraph import datasets\n",
    "from IPython.display import display, HTML\n",
    "%matplotlib inline"
   ]
  },
  {
   "cell_type": "markdown",
   "metadata": {},
   "source": [
    "### Loading the CORA network"
   ]
  },
  {
   "cell_type": "code",
   "execution_count": 2,
   "metadata": {},
   "outputs": [
    {
     "data": {
      "text/html": [
       "The Cora dataset consists of 2708 scientific publications classified into one of seven classes. The citation network consists of 5429 links. Each publication in the dataset is described by a 0/1-valued word vector indicating the absence/presence of the corresponding word from the dictionary. The dictionary consists of 1433 unique words."
      ],
      "text/plain": [
       "<IPython.core.display.HTML object>"
      ]
     },
     "metadata": {},
     "output_type": "display_data"
    }
   ],
   "source": [
    "dataset = datasets.Cora()\n",
    "display(HTML(dataset.description))\n",
    "dataset.download()"
   ]
  },
  {
   "cell_type": "markdown",
   "metadata": {},
   "source": [
    "Load the graph from edgelist"
   ]
  },
  {
   "cell_type": "code",
   "execution_count": 3,
   "metadata": {},
   "outputs": [],
   "source": [
    "edgelist = pd.read_csv(\n",
    "    os.path.join(dataset.data_directory, \"cora.cites\"),\n",
    "    header=None,\n",
    "    names=[\"source\", \"target\"],\n",
    "    sep=\"\\t\",\n",
    ")\n",
    "edgelist[\"label\"] = \"cites\""
   ]
  },
  {
   "cell_type": "code",
   "execution_count": 4,
   "metadata": {},
   "outputs": [],
   "source": [
    "Gnx = nx.from_pandas_edgelist(edgelist, edge_attr=\"label\")"
   ]
  },
  {
   "cell_type": "code",
   "execution_count": 5,
   "metadata": {},
   "outputs": [],
   "source": [
    "nx.set_node_attributes(Gnx, \"paper\", \"label\")"
   ]
  },
  {
   "cell_type": "markdown",
   "metadata": {},
   "source": [
    "Load the features and subject for the nodes"
   ]
  },
  {
   "cell_type": "code",
   "execution_count": 6,
   "metadata": {},
   "outputs": [],
   "source": [
    "feature_names = [\"w_{}\".format(ii) for ii in range(1433)]\n",
    "column_names = feature_names + [\"subject\"]\n",
    "node_data = pd.read_csv(\n",
    "    os.path.join(dataset.data_directory, \"cora.content\"),\n",
    "    header=None,\n",
    "    names=column_names,\n",
    "    sep=\"\\t\",\n",
    ")"
   ]
  },
  {
   "cell_type": "markdown",
   "metadata": {},
   "source": [
    "### Splitting the data"
   ]
  },
  {
   "cell_type": "markdown",
   "metadata": {},
   "source": [
    "For machine learning we want to take a subset of the nodes for training, and use the rest for validation and testing. We'll use scikit-learn again to do this.\n",
    "\n",
    "Here we're taking 140 node labels for training, 500 for validation, and the rest for testing."
   ]
  },
  {
   "cell_type": "code",
   "execution_count": 7,
   "metadata": {},
   "outputs": [],
   "source": [
    "train_data, test_data = model_selection.train_test_split(\n",
    "    node_data, train_size=140, test_size=None, stratify=node_data[\"subject\"]\n",
    ")\n",
    "val_data, test_data = model_selection.train_test_split(\n",
    "    test_data, train_size=500, test_size=None, stratify=test_data[\"subject\"]\n",
    ")"
   ]
  },
  {
   "cell_type": "code",
   "execution_count": 8,
   "metadata": {},
   "outputs": [
    {
     "data": {
      "text/plain": [
       "Counter({'Neural_Networks': 42,\n",
       "         'Theory': 18,\n",
       "         'Probabilistic_Methods': 22,\n",
       "         'Reinforcement_Learning': 11,\n",
       "         'Genetic_Algorithms': 22,\n",
       "         'Case_Based': 16,\n",
       "         'Rule_Learning': 9})"
      ]
     },
     "execution_count": 8,
     "metadata": {},
     "output_type": "execute_result"
    }
   ],
   "source": [
    "from collections import Counter\n",
    "\n",
    "Counter(train_data[\"subject\"])"
   ]
  },
  {
   "cell_type": "markdown",
   "metadata": {},
   "source": [
    "### Converting to numeric arrays"
   ]
  },
  {
   "cell_type": "markdown",
   "metadata": {},
   "source": [
    "For our categorical target, we will use one-hot vectors that will be fed into a soft-max Keras layer during training. To do this conversion ..."
   ]
  },
  {
   "cell_type": "code",
   "execution_count": 9,
   "metadata": {},
   "outputs": [],
   "source": [
    "target_encoding = feature_extraction.DictVectorizer(sparse=False)\n",
    "\n",
    "train_targets = target_encoding.fit_transform(train_data[[\"subject\"]].to_dict(\"records\"))\n",
    "val_targets = target_encoding.transform(val_data[[\"subject\"]].to_dict(\"records\"))\n",
    "test_targets = target_encoding.transform(test_data[[\"subject\"]].to_dict(\"records\"))\n",
    "\n",
    "node_ids = node_data.index\n",
    "all_targets = target_encoding.transform(node_data[[\"subject\"]].to_dict(\"records\"))"
   ]
  },
  {
   "cell_type": "markdown",
   "metadata": {},
   "source": [
    "We now do the same for the node attributes we want to use to predict the subject. These are the feature vectors that the Keras model will use as input. The CORA dataset contains attributes 'w_x' that correspond to words found in that publication. If a word occurs more than once in a publication the relevant attribute will be set to one, otherwise it will be zero."
   ]
  },
  {
   "cell_type": "code",
   "execution_count": 10,
   "metadata": {},
   "outputs": [],
   "source": [
    "node_features = node_data[feature_names]"
   ]
  },
  {
   "cell_type": "markdown",
   "metadata": {},
   "source": [
    "### Creating the GAT model in Keras"
   ]
  },
  {
   "cell_type": "markdown",
   "metadata": {},
   "source": [
    "Now create a StellarGraph object from the NetworkX graph and the node features and targets. It is StellarGraph objects that we use in this library to perform machine learning tasks on."
   ]
  },
  {
   "cell_type": "code",
   "execution_count": 11,
   "metadata": {},
   "outputs": [
    {
     "name": "stdout",
     "output_type": "stream",
     "text": [
      "NetworkXStellarGraph: Undirected multigraph\n",
      " Nodes: 2708, Edges: 5278\n",
      "\n",
      " Node types:\n",
      "  paper: [2708]\n",
      "    Edge types: paper-cites->paper\n",
      "\n",
      " Edge types:\n",
      "    paper-cites->paper: [5278]\n",
      "\n"
     ]
    }
   ],
   "source": [
    "G = sg.StellarGraph(Gnx, node_features=node_features)\n",
    "print(G.info())"
   ]
  },
  {
   "cell_type": "markdown",
   "metadata": {},
   "source": [
    "To feed data from the graph to the Keras model we need a generator. Since GAT is a full-batch model, we use the `FullBatchNodeGenerator` class to feed node features and graph adjacency matrix to the model."
   ]
  },
  {
   "cell_type": "code",
   "execution_count": 12,
   "metadata": {},
   "outputs": [],
   "source": [
    "generator = FullBatchNodeGenerator(G, method=\"gat\", sparse=False)"
   ]
  },
  {
   "cell_type": "markdown",
   "metadata": {},
   "source": [
    "For training we map only the training nodes returned from our splitter and the target values."
   ]
  },
  {
   "cell_type": "code",
   "execution_count": 13,
   "metadata": {},
   "outputs": [],
   "source": [
    "train_gen = generator.flow(train_data.index, train_targets)"
   ]
  },
  {
   "cell_type": "markdown",
   "metadata": {},
   "source": [
    "Now we can specify our machine learning model, we need a few more parameters for this:\n",
    "\n",
    " * the `layer_sizes` is a list of hidden feature sizes of each layer in the model. In this example we use two GAT layers with 8-dimensional hidden node features at each layer.\n",
    " * `attn_heads` is the number of attention heads in all but the last GAT layer in the model\n",
    " * `activations` is a list of activations applied to each layer's output\n",
    " * Arguments such as `bias`, `in_dropout`, `attn_dropout` are internal parameters of the model, execute `?GAT` for details. "
   ]
  },
  {
   "cell_type": "markdown",
   "metadata": {},
   "source": [
    "To follow the GAT model architecture used for Cora dataset in the original paper [Graph Attention Networks. P. Velickovic et al. ICLR 2018 https://arxiv.org/abs/1803.07294], let's build a 2-layer GAT model, with the 2nd layer being the classifier that predicts paper subject: it thus should have the output size of `train_targets.shape[1]` (7 subjects) and a softmax activation."
   ]
  },
  {
   "cell_type": "code",
   "execution_count": 14,
   "metadata": {},
   "outputs": [],
   "source": [
    "gat = GAT(\n",
    "    layer_sizes=[8, train_targets.shape[1]],\n",
    "    attn_heads=8,\n",
    "    generator=generator,\n",
    "    bias=True,\n",
    "    in_dropout=0,\n",
    "    attn_dropout=0,\n",
    "    activations=[\"elu\", \"softmax\"],\n",
    "    normalize=None,\n",
    "    saliency_map_support=True,\n",
    ")"
   ]
  },
  {
   "cell_type": "code",
   "execution_count": 15,
   "metadata": {},
   "outputs": [],
   "source": [
    "# Expose the input and output tensors of the GAT model for node prediction, via GAT.build() method:\n",
    "x_inp, predictions = gat.build()"
   ]
  },
  {
   "cell_type": "markdown",
   "metadata": {},
   "source": [
    "### Training the model"
   ]
  },
  {
   "cell_type": "markdown",
   "metadata": {},
   "source": [
    "Now let's create the actual Keras model with the input tensors `x_inp` and output tensors being the predictions `predictions` from the final dense layer"
   ]
  },
  {
   "cell_type": "code",
   "execution_count": 16,
   "metadata": {},
   "outputs": [],
   "source": [
    "model = Model(inputs=x_inp, outputs=predictions)\n",
    "model.compile(\n",
    "    optimizer=optimizers.Adam(lr=0.005),\n",
    "    loss=losses.categorical_crossentropy,\n",
    "    weighted_metrics=[\"acc\"],\n",
    ")"
   ]
  },
  {
   "cell_type": "markdown",
   "metadata": {},
   "source": [
    "Train the model, keeping track of its loss and accuracy on the training set, and its generalisation performance on the validation set (we need to create another generator over the validation data for this)"
   ]
  },
  {
   "cell_type": "code",
   "execution_count": 17,
   "metadata": {},
   "outputs": [],
   "source": [
    "val_gen = generator.flow(val_data.index, val_targets)"
   ]
  },
  {
   "cell_type": "markdown",
   "metadata": {},
   "source": [
    "Train the model"
   ]
  },
  {
   "cell_type": "code",
   "execution_count": 18,
   "metadata": {},
   "outputs": [
    {
     "name": "stdout",
     "output_type": "stream",
     "text": [
      "Epoch 1/10\n",
      "1/1 - 8s - loss: 1.9606 - acc: 0.0643 - val_loss: 1.7862 - val_acc: 0.4460\n",
      "Epoch 2/10\n",
      "1/1 - 2s - loss: 1.6883 - acc: 0.6143 - val_loss: 1.6243 - val_acc: 0.4560\n",
      "Epoch 3/10\n",
      "1/1 - 2s - loss: 1.4529 - acc: 0.6714 - val_loss: 1.4871 - val_acc: 0.4820\n",
      "Epoch 4/10\n",
      "1/1 - 2s - loss: 1.2471 - acc: 0.7357 - val_loss: 1.3663 - val_acc: 0.5320\n",
      "Epoch 5/10\n",
      "1/1 - 2s - loss: 1.0648 - acc: 0.7571 - val_loss: 1.2545 - val_acc: 0.6060\n",
      "Epoch 6/10\n",
      "1/1 - 2s - loss: 0.9006 - acc: 0.8143 - val_loss: 1.1488 - val_acc: 0.6660\n",
      "Epoch 7/10\n",
      "1/1 - 2s - loss: 0.7531 - acc: 0.8714 - val_loss: 1.0507 - val_acc: 0.7060\n",
      "Epoch 8/10\n",
      "1/1 - 2s - loss: 0.6233 - acc: 0.9000 - val_loss: 0.9629 - val_acc: 0.7440\n",
      "Epoch 9/10\n",
      "1/1 - 2s - loss: 0.5118 - acc: 0.9214 - val_loss: 0.8870 - val_acc: 0.7840\n",
      "Epoch 10/10\n",
      "1/1 - 2s - loss: 0.4179 - acc: 0.9357 - val_loss: 0.8235 - val_acc: 0.8000\n"
     ]
    }
   ],
   "source": [
    "N = len(node_ids)\n",
    "history = model.fit_generator(\n",
    "    train_gen, validation_data=val_gen, shuffle=False, epochs=10, verbose=2\n",
    ")"
   ]
  },
  {
   "cell_type": "code",
   "execution_count": 19,
   "metadata": {},
   "outputs": [],
   "source": [
    "import matplotlib.pyplot as plt\n",
    "%matplotlib inline\n",
    "\n",
    "def remove_prefix(text, prefix):\n",
    "    return text[text.startswith(prefix) and len(prefix):]\n",
    "\n",
    "def plot_history(history):\n",
    "    metrics = sorted(set([remove_prefix(m, \"val_\") for m in list(history.history.keys())]))\n",
    "    for m in metrics:\n",
    "        # summarize history for metric m\n",
    "        plt.plot(history.history[m])\n",
    "        plt.plot(history.history['val_' + m])\n",
    "        plt.title(m)\n",
    "        plt.ylabel(m)\n",
    "        plt.xlabel('epoch')\n",
    "        plt.legend(['train', 'validation'], loc='best')\n",
    "        plt.show()"
   ]
  },
  {
   "cell_type": "code",
   "execution_count": 20,
   "metadata": {},
   "outputs": [
    {
     "data": {
      "image/png": "[encoded data removed]",
      "text/plain": [
       "<Figure size 432x288 with 1 Axes>"
      ]
     },
     "metadata": {
      "needs_background": "light"
     },
     "output_type": "display_data"
    },
    {
     "data": {
      "image/png": "[encoded data removed]",
      "text/plain": [
       "<Figure size 432x288 with 1 Axes>"
      ]
     },
     "metadata": {
      "needs_background": "light"
     },
     "output_type": "display_data"
    }
   ],
   "source": [
    "plot_history(history)"
   ]
  },
  {
   "cell_type": "markdown",
   "metadata": {},
   "source": [
    "Evaluate the trained model on the test set"
   ]
  },
  {
   "cell_type": "code",
   "execution_count": 21,
   "metadata": {},
   "outputs": [
    {
     "name": "stdout",
     "output_type": "stream",
     "text": [
      "\n",
      "Test Set Metrics:\n",
      "\tloss: 0.7819\n",
      "\tacc: 0.8109\n"
     ]
    }
   ],
   "source": [
    "test_gen = generator.flow(test_data.index, test_targets)\n",
    "\n",
    "test_metrics = model.evaluate_generator(test_gen)\n",
    "print(\"\\nTest Set Metrics:\")\n",
    "for name, val in zip(model.metrics_names, test_metrics):\n",
    "    print(\"\\t{}: {:0.4f}\".format(name, val))"
   ]
  },
  {
   "cell_type": "markdown",
   "metadata": {},
   "source": [
    "Check serialization"
   ]
  },
  {
   "cell_type": "code",
   "execution_count": 22,
   "metadata": {},
   "outputs": [],
   "source": [
    "# Save model\n",
    "model_json = model.to_json()\n",
    "model_weights = model.get_weights()"
   ]
  },
  {
   "cell_type": "code",
   "execution_count": 23,
   "metadata": {},
   "outputs": [],
   "source": [
    "# Load model from json & set all weights\n",
    "model2 = models.model_from_json(\n",
    "    model_json, custom_objects={\"GraphAttention\": GraphAttention}\n",
    ")\n",
    "model2.set_weights(model_weights)\n",
    "model2_weights = model2.get_weights()"
   ]
  },
  {
   "cell_type": "code",
   "execution_count": 24,
   "metadata": {},
   "outputs": [
    {
     "name": "stdout",
     "output_type": "stream",
     "text": [
      "True\n"
     ]
    }
   ],
   "source": [
    "pred2 = model2.predict_generator(test_gen)\n",
    "pred1 = model.predict_generator(test_gen)\n",
    "print(np.allclose(pred1, pred2))"
   ]
  },
  {
   "cell_type": "markdown",
   "metadata": {},
   "source": [
    "# Node and link importance via saliency maps"
   ]
  },
  {
   "cell_type": "markdown",
   "metadata": {},
   "source": [
    "Now we define the importances of node features, nodes, and links in the target node's neighbourhood (ego-net), and evaluate them using our library.\n",
    "\n",
    "Node feature importance: given a target node $t$ and the model's prediction of $t$'s class, for each node $v$ in its ego-net, feature importance of feature $f$ for node $v$ is defined as the change in the target node's predicted score $s(c)$ for the winning class $c$ if feature $f$ of node $v$ is perturbed.\n",
    "\n",
    "The overall node importance for node $v$ is defined here as the sum of all feature importances for node $v$, i.e., it is the amount by which the target node's predicted score $s(c)$ would change if we set all features of node $v$ to zeros.\n",
    "\n",
    "Link importance for link $e=(u, v)$ is defined as the change in target node $t$'s predicted score $s(c)$ if the link $e$ is removed from the graph. Links with high importance (positive or negative) affect the target node prediction more than links with low importance.\n",
    "\n",
    "Node and link importances can be used to assess the role of neighbour nodes and links in model's predictions for the node(s) of interest (the target nodes). For datasets like CORA-ML, the features and edges are binary, vanilla gradients may not perform well so we use integrated gradients to compute them (https://arxiv.org/pdf/1703.01365.pdf)."
   ]
  },
  {
   "cell_type": "code",
   "execution_count": 25,
   "metadata": {},
   "outputs": [],
   "source": [
    "from stellargraph.utils.saliency_maps import IntegratedGradientsGAT\n",
    "from stellargraph.utils.saliency_maps import GradientSaliencyGAT"
   ]
  },
  {
   "cell_type": "markdown",
   "metadata": {},
   "source": [
    "Select the target node whose prediction is to be interpreted."
   ]
  },
  {
   "cell_type": "code",
   "execution_count": 26,
   "metadata": {},
   "outputs": [],
   "source": [
    "graph_nodes = list(G.nodes())\n",
    "all_gen = generator.flow(graph_nodes)\n",
    "target_idx = 7\n",
    "target_nid = graph_nodes[target_idx]\n",
    "target_gen = generator.flow([target_nid])"
   ]
  },
  {
   "cell_type": "markdown",
   "metadata": {},
   "source": [
    "Node id of the target node:"
   ]
  },
  {
   "cell_type": "code",
   "execution_count": 27,
   "metadata": {},
   "outputs": [],
   "source": [
    "y_true = all_targets[target_idx]  # true class of the target node"
   ]
  },
  {
   "cell_type": "markdown",
   "metadata": {},
   "source": [
    "Extract adjacency matrix and feature matrix"
   ]
  },
  {
   "cell_type": "code",
   "execution_count": 28,
   "metadata": {},
   "outputs": [
    {
     "name": "stdout",
     "output_type": "stream",
     "text": [
      "target node id: 1109199, \n",
      "true label: [0. 0. 1. 0. 0. 0. 0.], \n",
      "predicted label: [0.18 0.33 0.15 0.09 0.18 0.03 0.04]\n"
     ]
    }
   ],
   "source": [
    "y_pred = model.predict_generator(target_gen).squeeze()\n",
    "class_of_interest = np.argmax(y_pred)\n",
    "print(\n",
    "    \"target node id: {}, \\ntrue label: {}, \\npredicted label: {}\".format(\n",
    "        target_nid, y_true, y_pred.round(2)\n",
    "    )\n",
    ")"
   ]
  },
  {
   "cell_type": "markdown",
   "metadata": {},
   "source": [
    "Get the node feature importance by using integrated gradients"
   ]
  },
  {
   "cell_type": "code",
   "execution_count": 29,
   "metadata": {},
   "outputs": [],
   "source": [
    "int_grad_saliency = IntegratedGradientsGAT(model, train_gen, generator.node_list)\n",
    "saliency = GradientSaliencyGAT(model, train_gen)"
   ]
  },
  {
   "cell_type": "markdown",
   "metadata": {},
   "source": [
    "Get the ego network of the target node."
   ]
  },
  {
   "cell_type": "code",
   "execution_count": 30,
   "metadata": {},
   "outputs": [],
   "source": [
    "G_ego = nx.ego_graph(Gnx, target_nid, radius=len(gat.activations))"
   ]
  },
  {
   "cell_type": "markdown",
   "metadata": {},
   "source": [
    "Compute the link importance by integrated gradients."
   ]
  },
  {
   "cell_type": "code",
   "execution_count": 31,
   "metadata": {},
   "outputs": [
    {
     "name": "stdout",
     "output_type": "stream",
     "text": [
      "\n",
      "To change all layers to have dtype float64 by default, call `tf.keras.backend.set_floatx('float64')`. To change just this layer, pass dtype='float64' to the layer constructor. If you are the author of this layer, you can disable autocasting by passing autocast=False to the base Layer constructor.\n",
      "\n",
      "\n",
      "To change all layers to have dtype float64 by default, call `tf.keras.backend.set_floatx('float64')`. To change just this layer, pass dtype='float64' to the layer constructor. If you are the author of this layer, you can disable autocasting by passing autocast=False to the base Layer constructor.\n",
      "\n",
      "integrated_link_mask.shape = (2708, 2708)\n"
     ]
    }
   ],
   "source": [
    "integrate_link_importance = int_grad_saliency.get_link_importance(\n",
    "    target_nid, class_of_interest, steps=25\n",
    ")\n",
    "print(\"integrated_link_mask.shape = {}\".format(integrate_link_importance.shape))"
   ]
  },
  {
   "cell_type": "code",
   "execution_count": 32,
   "metadata": {},
   "outputs": [
    {
     "name": "stdout",
     "output_type": "stream",
     "text": [
      "\n",
      "integrated_node_importance [0. 0. 0. ... 0. 0. 0.]\n",
      "integrated self-importance of target node 1109199: 0.0\n",
      "\n",
      "Ego net of target node 1109199 has 202 nodes\n",
      "Number of non-zero elements in integrated_node_importance: 215\n"
     ]
    }
   ],
   "source": [
    "integrated_node_importance = int_grad_saliency.get_node_importance(\n",
    "    target_nid, class_of_interest, steps=25\n",
    ")\n",
    "print(\"\\nintegrated_node_importance\", integrated_node_importance.round(2))\n",
    "print(\n",
    "    \"integrated self-importance of target node {}: {}\".format(\n",
    "        target_nid, integrated_node_importance[target_idx].round(2)\n",
    "    )\n",
    ")\n",
    "print(\n",
    "    \"\\nEgo net of target node {} has {} nodes\".format(target_nid, G_ego.number_of_nodes())\n",
    ")\n",
    "print(\n",
    "    \"Number of non-zero elements in integrated_node_importance: {}\".format(\n",
    "        np.count_nonzero(integrated_node_importance)\n",
    "    )\n",
    ")"
   ]
  },
  {
   "cell_type": "markdown",
   "metadata": {},
   "source": [
    "Get the ranks of the edge importance values."
   ]
  },
  {
   "cell_type": "code",
   "execution_count": 33,
   "metadata": {},
   "outputs": [],
   "source": [
    "sorted_indices = np.argsort(integrate_link_importance.flatten().reshape(-1))\n",
    "sorted_indices = np.array(sorted_indices)\n",
    "integrated_link_importance_rank = [(int(k / N), k % N) for k in sorted_indices[::-1]]"
   ]
  },
  {
   "cell_type": "code",
   "execution_count": 34,
   "metadata": {},
   "outputs": [
    {
     "name": "stdout",
     "output_type": "stream",
     "text": [
      "Top 10 most important links by integrated gradients are [(1544, 163), (1206, 163), (1544, 1206), (566, 733), (566, 466), (566, 186), (566, 1816), (566, 294), (566, 483), (566, 1447)]\n"
     ]
    }
   ],
   "source": [
    "topk = 10\n",
    "print(\n",
    "    \"Top {} most important links by integrated gradients are {}\".format(\n",
    "        topk, integrated_link_importance_rank[:topk]\n",
    "    )\n",
    ")\n",
    "# print('Top {} most important links by integrated gradients (for potential edges) are {}'.format(topk, integrated_link_importance_rank_add[-topk:]))"
   ]
  },
  {
   "cell_type": "markdown",
   "metadata": {},
   "source": [
    "In the following, we plot the link and node importance (computed by integrated gradients) of the nodes within the ego graph of the target node.\n",
    "\n",
    "For nodes, the shape of the node indicates the positive/negative importance the node has. 'round' nodes have positive importance while 'diamond' nodes have negative importance. The size of the node indicates the value of the importance, e.g., a large diamond node has higher negative importance.\n",
    "\n",
    "For links, the color of the link indicates the positive/negative importance the link has. 'red' links have positive importance while 'blue' links have negative importance. The width of the link indicates the value of the importance, e.g., a thicker blue link has higher negative importance."
   ]
  },
  {
   "cell_type": "code",
   "execution_count": 35,
   "metadata": {},
   "outputs": [],
   "source": [
    "nx.set_node_attributes(\n",
    "    G_ego, values={x[0]: {\"subject\": x[1]} for x in node_data[\"subject\"].items()}\n",
    ")"
   ]
  },
  {
   "cell_type": "code",
   "execution_count": 36,
   "metadata": {},
   "outputs": [
    {
     "data": {
      "image/png": "[encoded data removed]",
      "text/plain": [
       "<Figure size 1080x720 with 2 Axes>"
      ]
     },
     "metadata": {
      "needs_background": "light"
     },
     "output_type": "display_data"
    }
   ],
   "source": [
    "node_size_factor = 1e2\n",
    "link_width_factor = 4\n",
    "\n",
    "nodes = list(G_ego.nodes())\n",
    "colors = pd.DataFrame(\n",
    "    [v[1][\"subject\"] for v in G_ego.nodes(data=True)], index=nodes, columns=[\"subject\"]\n",
    ")\n",
    "colors = np.argmax(target_encoding.transform(colors.to_dict(\"records\")), axis=1) + 1\n",
    "\n",
    "fig, ax = plt.subplots(1, 1, figsize=(15, 10))\n",
    "pos = nx.spring_layout(G_ego)\n",
    "# Draw ego as large and red\n",
    "node_sizes = [integrated_node_importance[graph_nodes.index(k)] for k in G_ego.nodes()]\n",
    "node_shapes = [\n",
    "    \"o\" if integrated_node_importance[graph_nodes.index(k)] > 0 else \"d\"\n",
    "    for k in G_ego.nodes()\n",
    "]\n",
    "positive_colors, negative_colors = [], []\n",
    "positive_node_sizes, negative_node_sizes = [], []\n",
    "positive_nodes, negative_nodes = [], []\n",
    "# node_size_sclae is used for better visualization of nodes\n",
    "node_size_scale = node_size_factor / np.max(node_sizes)\n",
    "for k in range(len(node_shapes)):\n",
    "    if list(nodes)[k] == target_nid:\n",
    "        continue\n",
    "    if node_shapes[k] == \"o\":\n",
    "        positive_colors.append(colors[k])\n",
    "        positive_nodes.append(list(nodes)[k])\n",
    "        positive_node_sizes.append(node_size_scale * node_sizes[k])\n",
    "\n",
    "    else:\n",
    "        negative_colors.append(colors[k])\n",
    "        negative_nodes.append(list(nodes)[k])\n",
    "        negative_node_sizes.append(node_size_scale * abs(node_sizes[k]))\n",
    "\n",
    "cmap = plt.get_cmap(\"jet\", np.max(colors) - np.min(colors) + 1)\n",
    "nc = nx.draw_networkx_nodes(\n",
    "    G_ego,\n",
    "    pos,\n",
    "    nodelist=positive_nodes,\n",
    "    node_color=positive_colors,\n",
    "    cmap=cmap,\n",
    "    node_size=positive_node_sizes,\n",
    "    with_labels=False,\n",
    "    vmin=np.min(colors) - 0.5,\n",
    "    vmax=np.max(colors) + 0.5,\n",
    "    node_shape=\"o\",\n",
    ")\n",
    "nc = nx.draw_networkx_nodes(\n",
    "    G_ego,\n",
    "    pos,\n",
    "    nodelist=negative_nodes,\n",
    "    node_color=negative_colors,\n",
    "    cmap=cmap,\n",
    "    node_size=negative_node_sizes,\n",
    "    with_labels=False,\n",
    "    vmin=np.min(colors) - 0.5,\n",
    "    vmax=np.max(colors) + 0.5,\n",
    "    node_shape=\"d\",\n",
    ")\n",
    "# Draw the target node as a large star colored by its true subject\n",
    "nx.draw_networkx_nodes(\n",
    "    G_ego,\n",
    "    pos,\n",
    "    nodelist=[target_nid],\n",
    "    node_size=50 * abs(node_sizes[nodes.index(target_nid)]),\n",
    "    node_shape=\"*\",\n",
    "    node_color=[colors[nodes.index(target_nid)]],\n",
    "    cmap=cmap,\n",
    "    vmin=np.min(colors) - 0.5,\n",
    "    vmax=np.max(colors) + 0.5,\n",
    "    label=\"Target\",\n",
    ")\n",
    "\n",
    "edges = G_ego.edges()\n",
    "# link_width_scale is used for better visualization of links\n",
    "weights = [\n",
    "    integrate_link_importance[graph_nodes.index(u), list(Gnx.nodes()).index(v)]\n",
    "    for u, v in edges\n",
    "]\n",
    "link_width_scale = link_width_factor / np.max(weights)\n",
    "edge_colors = [\n",
    "    \"red\"\n",
    "    if integrate_link_importance[graph_nodes.index(u), list(Gnx.nodes()).index(v)] > 0\n",
    "    else \"blue\"\n",
    "    for u, v in edges\n",
    "]\n",
    "\n",
    "ec = nx.draw_networkx_edges(\n",
    "    G_ego, pos, edge_color=edge_colors, width=[link_width_scale * w for w in weights]\n",
    ")\n",
    "plt.legend()\n",
    "plt.colorbar(nc, ticks=np.arange(np.min(colors), np.max(colors) + 1))\n",
    "plt.axis(\"off\")\n",
    "plt.show()"
   ]
  },
  {
   "cell_type": "markdown",
   "metadata": {},
   "source": [
    "We then remove the node or edge in the ego graph one by one and check how the prediction changes. By doing so, we can obtain the ground truth importance of the nodes and edges. Comparing the following figure and the above one can show the effectiveness of integrated gradients as the importance approximations are relatively consistent with the ground truth."
   ]
  },
  {
   "cell_type": "code",
   "execution_count": 37,
   "metadata": {},
   "outputs": [
    {
     "data": {
      "image/png": "[encoded data removed]",
      "text/plain": [
       "<Figure size 1080x720 with 2 Axes>"
      ]
     },
     "metadata": {
      "needs_background": "light"
     },
     "output_type": "display_data"
    }
   ],
   "source": [
    "[X, _, A], y_true_all = all_gen[0]\n",
    "N = A.shape[-1]\n",
    "X_bk = deepcopy(X)\n",
    "edges = [(graph_nodes.index(u), graph_nodes.index(v)) for u, v in G_ego.edges()]\n",
    "nodes = [list(Gnx.nodes()).index(v) for v in G_ego.nodes()]\n",
    "selected_nodes = np.array([[target_idx]], dtype=\"int32\")\n",
    "clean_prediction = model.predict([X, selected_nodes, A]).squeeze()\n",
    "predict_label = np.argmax(clean_prediction)\n",
    "groud_truth_edge_importance = np.zeros((N, N), dtype=\"float\")\n",
    "groud_truth_node_importance = []\n",
    "\n",
    "for node in nodes:\n",
    "    if node == target_idx:\n",
    "        groud_truth_node_importance.append(0)\n",
    "        continue\n",
    "    X = deepcopy(X_bk)\n",
    "    # we set all the features of the node to zero to check the ground truth node importance.\n",
    "    X[0, node, :] = 0\n",
    "    predict_after_perturb = model.predict([X, selected_nodes, A]).squeeze()\n",
    "    prediction_change = (\n",
    "        clean_prediction[predict_label] - predict_after_perturb[predict_label]\n",
    "    )\n",
    "    groud_truth_node_importance.append(prediction_change)\n",
    "\n",
    "node_shapes = [\n",
    "    \"o\" if groud_truth_node_importance[k] > 0 else \"d\" for k in range(len(nodes))\n",
    "]\n",
    "positive_colors, negative_colors = [], []\n",
    "positive_node_sizes, negative_node_sizes = [], []\n",
    "positive_nodes, negative_nodes = [], []\n",
    "# node_size_scale is used for better visulization of nodes\n",
    "node_size_scale = node_size_factor / max(groud_truth_node_importance)\n",
    "\n",
    "for k in range(len(node_shapes)):\n",
    "    if nodes[k] == target_idx:\n",
    "        continue\n",
    "    if node_shapes[k] == \"o\":\n",
    "        positive_colors.append(colors[k])\n",
    "        positive_nodes.append(graph_nodes[nodes[k]])\n",
    "        positive_node_sizes.append(node_size_scale * groud_truth_node_importance[k])\n",
    "    else:\n",
    "        negative_colors.append(colors[k])\n",
    "        negative_nodes.append(graph_nodes[nodes[k]])\n",
    "        negative_node_sizes.append(node_size_scale * abs(groud_truth_node_importance[k]))\n",
    "\n",
    "X = deepcopy(X_bk)\n",
    "for edge in edges:\n",
    "    original_val = A[0, edge[0], edge[1]]\n",
    "    if original_val == 0:\n",
    "        continue\n",
    "    # we set the weight of a given edge to zero to check the ground truth link importance\n",
    "    A[0, edge[0], edge[1]] = 0\n",
    "    predict_after_perturb = model.predict([X, selected_nodes, A]).squeeze()\n",
    "    groud_truth_edge_importance[edge[0], edge[1]] = (\n",
    "        predict_after_perturb[predict_label] - clean_prediction[predict_label]\n",
    "    ) / (0 - 1)\n",
    "    A[0, edge[0], edge[1]] = original_val\n",
    "#     print(groud_truth_edge_importance[edge[0], edge[1]])\n",
    "\n",
    "fig, ax = plt.subplots(1, 1, figsize=(15, 10))\n",
    "cmap = plt.get_cmap(\"jet\", np.max(colors) - np.min(colors) + 1)\n",
    "# Draw the target node as a large star colored by its true subject\n",
    "nx.draw_networkx_nodes(\n",
    "    G_ego,\n",
    "    pos,\n",
    "    nodelist=[target_nid],\n",
    "    node_size=50 * abs(node_sizes[nodes.index(target_idx)]),\n",
    "    node_color=[colors[nodes.index(target_idx)]],\n",
    "    cmap=cmap,\n",
    "    node_shape=\"*\",\n",
    "    vmin=np.min(colors) - 0.5,\n",
    "    vmax=np.max(colors) + 0.5,\n",
    "    label=\"Target\",\n",
    ")\n",
    "# Draw the ego net\n",
    "nc = nx.draw_networkx_nodes(\n",
    "    G_ego,\n",
    "    pos,\n",
    "    nodelist=positive_nodes,\n",
    "    node_color=positive_colors,\n",
    "    cmap=cmap,\n",
    "    node_size=positive_node_sizes,\n",
    "    with_labels=False,\n",
    "    vmin=np.min(colors) - 0.5,\n",
    "    vmax=np.max(colors) + 0.5,\n",
    "    node_shape=\"o\",\n",
    ")\n",
    "nc = nx.draw_networkx_nodes(\n",
    "    G_ego,\n",
    "    pos,\n",
    "    nodelist=negative_nodes,\n",
    "    node_color=negative_colors,\n",
    "    cmap=cmap,\n",
    "    node_size=negative_node_sizes,\n",
    "    with_labels=False,\n",
    "    vmin=np.min(colors) - 0.5,\n",
    "    vmax=np.max(colors) + 0.5,\n",
    "    node_shape=\"d\",\n",
    ")\n",
    "edges = G_ego.edges()\n",
    "# link_width_scale is used for better visulization of links\n",
    "link_width_scale = link_width_factor / np.max(groud_truth_edge_importance)\n",
    "weights = [\n",
    "    link_width_scale\n",
    "    * groud_truth_edge_importance[graph_nodes.index(u), list(Gnx.nodes()).index(v)]\n",
    "    for u, v in edges\n",
    "]\n",
    "\n",
    "edge_colors = [\n",
    "    \"red\"\n",
    "    if groud_truth_edge_importance[graph_nodes.index(u), list(Gnx.nodes()).index(v)] > 0\n",
    "    else \"blue\"\n",
    "    for u, v in edges\n",
    "]\n",
    "\n",
    "ec = nx.draw_networkx_edges(G_ego, pos, edge_color=edge_colors, width=weights)\n",
    "plt.legend()\n",
    "plt.colorbar(nc, ticks=np.arange(np.min(colors), np.max(colors) + 1))\n",
    "plt.axis(\"off\")\n",
    "plt.show()"
   ]
  },
  {
   "cell_type": "code",
   "execution_count": 38,
   "metadata": {},
   "outputs": [],
   "source": []
  }
 ],
 "metadata": {
  "kernelspec": {
   "display_name": "Python 3",
   "language": "python",
   "name": "python3"
  },
  "language_info": {
   "codemirror_mode": {
    "name": "ipython",
    "version": 3
   },
   "file_extension": ".py",
   "mimetype": "text/x-python",
   "name": "python",
   "nbconvert_exporter": "python",
   "pygments_lexer": "ipython3",
   "version": "3.6.10"
  }
 },
 "nbformat": 4,
 "nbformat_minor": 2
}
