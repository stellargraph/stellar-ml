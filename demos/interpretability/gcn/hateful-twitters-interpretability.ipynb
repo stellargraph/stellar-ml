{
 "cells": [
  {
   "cell_type": "markdown",
   "metadata": {},
   "source": [
    "# Intepretability on Hateful Twitter Datasets\n",
    "\n",
    "In this demo, we apply saliency maps (with support of sparse tensors) on the task on the detection of Twitter users who use hateful lexicon using graph machine learning with Stellargraph.\n",
    "\n",
    "We consider the use-case of identifying hateful users on Twitter motivated by the work in [1] and using the dataset also published in [1]. Classification is based on a graph based on users' retweets and attributes as related to their account activity, and the content of tweets.\n",
    "\n",
    "We pose identifying hateful users as a binary classification problem. We demonstrate the advantage of connected vs unconnected data in a semi-supervised setting with few training examples.\n",
    "\n",
    "For connected data, we use Graph Convolutional Networks [2] as implemented in the `stellargraph` library. We pose the problem of identifying hateful tweeter users as node attribute inference in graphs.\n",
    "\n",
    "We then use the interpretability tool (i.e., saliency maps) implemented in our library to demonstrate how to obtain the importance of the node features and links to gain insights into the model.\n",
    "\n",
    "**References**\n",
    "\n",
    "1. \"Like Sheep Among Wolves\": Characterizing Hateful Users on Twitter. M. H. Ribeiro, P. H. Calais, Y. A. Santos, V. A. F. Almeida, and W. Meira Jr.  arXiv preprint arXiv:1801.00317 (2017).\n",
    "\n",
    "\n",
    "2. Semi-Supervised Classification with Graph Convolutional Networks. T. Kipf, M. Welling. ICLR 2017. arXiv:1609.02907 \n"
   ]
  },
  {
   "cell_type": "code",
   "execution_count": 1,
   "metadata": {},
   "outputs": [],
   "source": [
    "import networkx as nx\n",
    "import pandas as pd\n",
    "import numpy as np\n",
    "import seaborn as sns\n",
    "import itertools\n",
    "import os\n",
    "\n",
    "from sklearn.decomposition import PCA\n",
    "from sklearn.manifold import TSNE\n",
    "from sklearn.linear_model import LogisticRegressionCV\n",
    "\n",
    "import stellargraph as sg\n",
    "from stellargraph.mapper import GraphSAGENodeGenerator, FullBatchNodeGenerator\n",
    "from stellargraph.layer import GraphSAGE, GCN, GAT\n",
    "from stellargraph import globalvar\n",
    "\n",
    "from tensorflow.keras import layers, optimizers, losses, metrics, Model, models\n",
    "from sklearn import preprocessing, feature_extraction\n",
    "from sklearn.model_selection import train_test_split\n",
    "from sklearn import metrics\n",
    "\n",
    "import matplotlib.pyplot as plt\n",
    "import seaborn as sns\n",
    "from scipy.sparse import csr_matrix, lil_matrix\n",
    "%matplotlib inline"
   ]
  },
  {
   "cell_type": "code",
   "execution_count": 2,
   "metadata": {},
   "outputs": [],
   "source": [
    "import matplotlib.pyplot as plt\n",
    "%matplotlib inline\n",
    "\n",
    "def remove_prefix(text, prefix):\n",
    "    return text[text.startswith(prefix) and len(prefix):]\n",
    "\n",
    "def plot_history(history):\n",
    "    metrics = sorted(set([remove_prefix(m, \"val_\") for m in list(history.history.keys())]))\n",
    "    for m in metrics:\n",
    "        # summarize history for metric m\n",
    "        plt.plot(history.history[m])\n",
    "        plt.plot(history.history['val_' + m])\n",
    "        plt.title(m, fontsize=18)\n",
    "        plt.ylabel(m, fontsize=18)\n",
    "        plt.xlabel('epoch', fontsize=18)\n",
    "        plt.legend(['train', 'validation'], loc='best')\n",
    "        plt.show()"
   ]
  },
  {
   "cell_type": "markdown",
   "metadata": {},
   "source": [
    "### Train GCN model on the dataset"
   ]
  },
  {
   "cell_type": "code",
   "execution_count": 3,
   "metadata": {},
   "outputs": [],
   "source": [
    "data_dir = os.path.expanduser(\"~/data/hateful-twitter-users\")"
   ]
  },
  {
   "cell_type": "markdown",
   "metadata": {},
   "source": [
    "### First load and prepare the node features\n",
    "\n",
    "Each node in the graph is associated with a large number of features (also referred to as attributes). \n",
    "\n",
    "The list of features is given [here](https://www.kaggle.com/manoelribeiro/hateful-users-on-twitter). We repeated here for convenience.\n",
    "\n",
    "hate :(\"hateful\"|\"normal\"|\"other\")\n",
    "  if user was annotated as hateful, normal, or not annotated.\n",
    "  \n",
    "  (is_50|is_50_2) :bool\n",
    "  whether user was deleted up to 12/12/17 or 14/01/18. \n",
    "  \n",
    "  (is_63|is_63_2) :bool\n",
    "  whether user was suspended up to 12/12/17 or 14/01/18. \n",
    "        \n",
    "  (hate|normal)_neigh :bool\n",
    "  is the user on the neighborhood of a (hateful|normal) user? \n",
    "  \n",
    "  [c_] (statuses|follower|followees|favorites)_count :int\n",
    "  number of (tweets|follower|followees|favorites) a user has.\n",
    "  \n",
    "  [c_] listed_count:int\n",
    "  number of lists a user is in.\n",
    "\n",
    "  [c_] (betweenness|eigenvector|in_degree|outdegree) :float\n",
    "  centrality measurements for each user in the retweet graph.\n",
    "  \n",
    "  [c_] *_empath :float\n",
    "  occurrences of empath categories in the users latest 200 tweets.\n",
    "\n",
    "  [c_] *_glove :float          \n",
    "  glove vector calculated for users latest 200 tweets.\n",
    "  \n",
    "  [c_] (sentiment|subjectivity) :float\n",
    "  average sentiment and subjectivity of users tweets.\n",
    "  \n",
    "  [c_] (time_diff|time_diff_median) :float\n",
    "  average and median time difference between tweets.\n",
    "  \n",
    "  [c_] (tweet|retweet|quote) number :float\n",
    "  percentage of direct tweets, retweets and quotes of an user.\n",
    "  \n",
    "  [c_] (number urls|number hashtags|baddies|mentions) :float\n",
    "  number of bad words|mentions|urls|hashtags per tweet in average.\n",
    "  \n",
    "  [c_] status length :float\n",
    "  average status length.\n",
    "  \n",
    "  hashtags :string\n",
    "  all hashtags employed by the user separated by spaces.\n",
    "  \n",
    "**Notice** that c_ are attributes calculated for the 1-neighborhood of a user in the retweet network (averaged out)."
   ]
  },
  {
   "cell_type": "markdown",
   "metadata": {},
   "source": [
    "First, we are going to load the user features and prepare them for machine learning."
   ]
  },
  {
   "cell_type": "code",
   "execution_count": 4,
   "metadata": {},
   "outputs": [],
   "source": [
    "users_feat = pd.read_csv(os.path.join(data_dir, \"users_neighborhood_anon.csv\"))"
   ]
  },
  {
   "cell_type": "markdown",
   "metadata": {},
   "source": [
    "### Data cleaning and preprocessing"
   ]
  },
  {
   "cell_type": "markdown",
   "metadata": {},
   "source": [
    "The dataset as given includes a large number of graph related features that are manually extracted. \n",
    "\n",
    "Since we are going to employ modern graph neural networks methods for classification, we are going to drop these manually engineered features. \n",
    "\n",
    "The power of Graph Neural Networks stems from their ability to learn useful graph-related features eliminating the need for manual feature engineering."
   ]
  },
  {
   "cell_type": "code",
   "execution_count": 5,
   "metadata": {},
   "outputs": [],
   "source": [
    "def data_cleaning(feat):\n",
    "    feat = feat.drop(columns=[\"hate_neigh\", \"normal_neigh\"])\n",
    "\n",
    "    # Convert target values in hate column from strings to integers (0,1,2)\n",
    "    feat[\"hate\"] = np.where(\n",
    "        feat[\"hate\"] == \"hateful\", 1, np.where(feat[\"hate\"] == \"normal\", 0, 2)\n",
    "    )\n",
    "\n",
    "    # missing information\n",
    "    number_of_missing = feat.isnull().sum()\n",
    "    number_of_missing[number_of_missing != 0]\n",
    "\n",
    "    # Replace NA with 0\n",
    "    feat.fillna(0, inplace=True)\n",
    "\n",
    "    # droping info about suspension and deletion as it is should not be use din the predictive model\n",
    "    feat.drop(\n",
    "        feat.columns[feat.columns.str.contains(\"is_|_glove|c_|sentiment\")],\n",
    "        axis=1,\n",
    "        inplace=True,\n",
    "    )\n",
    "\n",
    "    # drop hashtag feature\n",
    "    feat.drop([\"hashtags\"], axis=1, inplace=True)\n",
    "\n",
    "    # Drop centrality based measures\n",
    "    feat.drop(\n",
    "        columns=[\"betweenness\", \"eigenvector\", \"in_degree\", \"out_degree\"], inplace=True\n",
    "    )\n",
    "\n",
    "    feat.drop(columns=[\"created_at\"], inplace=True)\n",
    "\n",
    "    return feat"
   ]
  },
  {
   "cell_type": "code",
   "execution_count": 6,
   "metadata": {},
   "outputs": [],
   "source": [
    "node_data = data_cleaning(users_feat)"
   ]
  },
  {
   "cell_type": "markdown",
   "metadata": {},
   "source": [
    "The continous features in our dataset have distributions with very long tails. We apply normalization to correct for this."
   ]
  },
  {
   "cell_type": "code",
   "execution_count": 7,
   "metadata": {},
   "outputs": [],
   "source": [
    "# Ignore the first two columns because those are user_id and hate (the target variable)\n",
    "df_values = node_data.iloc[:, 2:].values"
   ]
  },
  {
   "cell_type": "code",
   "execution_count": 8,
   "metadata": {},
   "outputs": [],
   "source": [
    "pt = preprocessing.PowerTransformer(method=\"yeo-johnson\", standardize=True)"
   ]
  },
  {
   "cell_type": "code",
   "execution_count": 9,
   "metadata": {},
   "outputs": [],
   "source": [
    "df_values_log = pt.fit_transform(df_values)"
   ]
  },
  {
   "cell_type": "code",
   "execution_count": 10,
   "metadata": {},
   "outputs": [],
   "source": [
    "node_data.iloc[:, 2:] = df_values_log"
   ]
  },
  {
   "cell_type": "code",
   "execution_count": 11,
   "metadata": {},
   "outputs": [],
   "source": [
    "# Set the dataframe index to be the same as the user_id and drop the user_id columns\n",
    "node_data.index = node_data.index.map(str)\n",
    "node_data.drop(columns=[\"user_id\"], inplace=True)"
   ]
  },
  {
   "cell_type": "markdown",
   "metadata": {},
   "source": [
    "### Next load the graph\n",
    "\n",
    "Now that we have the node features prepared for machine learning, let us load the retweet graph."
   ]
  },
  {
   "cell_type": "code",
   "execution_count": 12,
   "metadata": {},
   "outputs": [],
   "source": [
    "g_nx = nx.read_edgelist(path=os.path.expanduser(os.path.join(data_dir, \"users.edges\")))"
   ]
  },
  {
   "cell_type": "code",
   "execution_count": 13,
   "metadata": {},
   "outputs": [
    {
     "data": {
      "text/plain": [
       "(100386, 2194979)"
      ]
     },
     "execution_count": 13,
     "metadata": {},
     "output_type": "execute_result"
    }
   ],
   "source": [
    "g_nx.number_of_nodes(), g_nx.number_of_edges()"
   ]
  },
  {
   "cell_type": "markdown",
   "metadata": {},
   "source": [
    "The graph has just over 100k nodes and approximately 2.2m edges.\n",
    "\n",
    "We aim to train a graph neural network model that will predict the \"hate\"attribute on the nodes.\n",
    "\n",
    "For computation convenience, we have mapped the target labels **normal**, **hateful**, and **other** to the numeric values **0**, **1**, and **2** respectively."
   ]
  },
  {
   "cell_type": "code",
   "execution_count": 14,
   "metadata": {
    "scrolled": true
   },
   "outputs": [
    {
     "name": "stdout",
     "output_type": "stream",
     "text": [
      "{0, 1, 2}\n"
     ]
    }
   ],
   "source": [
    "print(set(node_data[\"hate\"]))"
   ]
  },
  {
   "cell_type": "code",
   "execution_count": 15,
   "metadata": {},
   "outputs": [
    {
     "data": {
      "text/html": [
       "<div>\n",
       "<style scoped>\n",
       "    .dataframe tbody tr th:only-of-type {\n",
       "        vertical-align: middle;\n",
       "    }\n",
       "\n",
       "    .dataframe tbody tr th {\n",
       "        vertical-align: top;\n",
       "    }\n",
       "\n",
       "    .dataframe thead th {\n",
       "        text-align: right;\n",
       "    }\n",
       "</style>\n",
       "<table border=\"1\" class=\"dataframe\">\n",
       "  <thead>\n",
       "    <tr style=\"text-align: right;\">\n",
       "      <th></th>\n",
       "      <th>hate</th>\n",
       "      <th>statuses_count</th>\n",
       "      <th>followers_count</th>\n",
       "      <th>followees_count</th>\n",
       "      <th>favorites_count</th>\n",
       "      <th>listed_count</th>\n",
       "      <th>negotiate_empath</th>\n",
       "      <th>vehicle_empath</th>\n",
       "      <th>science_empath</th>\n",
       "      <th>timidity_empath</th>\n",
       "      <th>...</th>\n",
       "      <th>number hashtags</th>\n",
       "      <th>tweet number</th>\n",
       "      <th>retweet number</th>\n",
       "      <th>quote number</th>\n",
       "      <th>status length</th>\n",
       "      <th>number urls</th>\n",
       "      <th>baddies</th>\n",
       "      <th>mentions</th>\n",
       "      <th>time_diff</th>\n",
       "      <th>time_diff_median</th>\n",
       "    </tr>\n",
       "  </thead>\n",
       "  <tbody>\n",
       "    <tr>\n",
       "      <th>10999</th>\n",
       "      <td>2</td>\n",
       "      <td>0.651057</td>\n",
       "      <td>-0.228440</td>\n",
       "      <td>0.539018</td>\n",
       "      <td>1.468664</td>\n",
       "      <td>0.319936</td>\n",
       "      <td>0.060148</td>\n",
       "      <td>-1.573040</td>\n",
       "      <td>0.468232</td>\n",
       "      <td>-0.446347</td>\n",
       "      <td>...</td>\n",
       "      <td>-0.347727</td>\n",
       "      <td>-0.087181</td>\n",
       "      <td>0.355153</td>\n",
       "      <td>1.193070</td>\n",
       "      <td>0.010627</td>\n",
       "      <td>0.314380</td>\n",
       "      <td>0.581937</td>\n",
       "      <td>0.017239</td>\n",
       "      <td>-0.772738</td>\n",
       "      <td>-0.713314</td>\n",
       "    </tr>\n",
       "    <tr>\n",
       "      <th>55317</th>\n",
       "      <td>2</td>\n",
       "      <td>0.527130</td>\n",
       "      <td>0.159289</td>\n",
       "      <td>0.603327</td>\n",
       "      <td>0.116831</td>\n",
       "      <td>0.400391</td>\n",
       "      <td>-0.170600</td>\n",
       "      <td>0.731748</td>\n",
       "      <td>-0.155481</td>\n",
       "      <td>0.487008</td>\n",
       "      <td>...</td>\n",
       "      <td>-0.159648</td>\n",
       "      <td>0.863400</td>\n",
       "      <td>-0.628442</td>\n",
       "      <td>1.058797</td>\n",
       "      <td>-0.400813</td>\n",
       "      <td>-0.034034</td>\n",
       "      <td>-0.023220</td>\n",
       "      <td>0.088925</td>\n",
       "      <td>0.209697</td>\n",
       "      <td>0.501357</td>\n",
       "    </tr>\n",
       "    <tr>\n",
       "      <th>44622</th>\n",
       "      <td>2</td>\n",
       "      <td>-0.972049</td>\n",
       "      <td>0.513316</td>\n",
       "      <td>0.003403</td>\n",
       "      <td>0.041867</td>\n",
       "      <td>0.682879</td>\n",
       "      <td>0.398669</td>\n",
       "      <td>-0.434141</td>\n",
       "      <td>-0.439622</td>\n",
       "      <td>0.134869</td>\n",
       "      <td>...</td>\n",
       "      <td>1.059839</td>\n",
       "      <td>-0.068104</td>\n",
       "      <td>0.338591</td>\n",
       "      <td>-0.254387</td>\n",
       "      <td>1.066497</td>\n",
       "      <td>1.200203</td>\n",
       "      <td>0.243681</td>\n",
       "      <td>0.661312</td>\n",
       "      <td>1.318291</td>\n",
       "      <td>1.403518</td>\n",
       "    </tr>\n",
       "    <tr>\n",
       "      <th>71821</th>\n",
       "      <td>2</td>\n",
       "      <td>1.003596</td>\n",
       "      <td>1.295017</td>\n",
       "      <td>0.219550</td>\n",
       "      <td>0.198376</td>\n",
       "      <td>1.810431</td>\n",
       "      <td>-0.601582</td>\n",
       "      <td>-1.187685</td>\n",
       "      <td>0.012743</td>\n",
       "      <td>0.684971</td>\n",
       "      <td>...</td>\n",
       "      <td>-1.705789</td>\n",
       "      <td>0.335796</td>\n",
       "      <td>-0.035509</td>\n",
       "      <td>-1.125292</td>\n",
       "      <td>-0.736826</td>\n",
       "      <td>-0.555163</td>\n",
       "      <td>-0.429600</td>\n",
       "      <td>0.542465</td>\n",
       "      <td>-0.675596</td>\n",
       "      <td>-0.164192</td>\n",
       "    </tr>\n",
       "    <tr>\n",
       "      <th>57907</th>\n",
       "      <td>2</td>\n",
       "      <td>1.158887</td>\n",
       "      <td>1.763834</td>\n",
       "      <td>2.302950</td>\n",
       "      <td>-0.603070</td>\n",
       "      <td>1.965467</td>\n",
       "      <td>1.635436</td>\n",
       "      <td>-1.573040</td>\n",
       "      <td>-1.285986</td>\n",
       "      <td>-1.540435</td>\n",
       "      <td>...</td>\n",
       "      <td>0.994608</td>\n",
       "      <td>1.001552</td>\n",
       "      <td>-0.818391</td>\n",
       "      <td>0.511212</td>\n",
       "      <td>0.249450</td>\n",
       "      <td>-0.184754</td>\n",
       "      <td>0.682368</td>\n",
       "      <td>1.253365</td>\n",
       "      <td>-0.766926</td>\n",
       "      <td>-0.781316</td>\n",
       "    </tr>\n",
       "  </tbody>\n",
       "</table>\n",
       "<p>5 rows × 205 columns</p>\n",
       "</div>"
      ],
      "text/plain": [
       "       hate  statuses_count  followers_count  followees_count  \\\n",
       "10999     2        0.651057        -0.228440         0.539018   \n",
       "55317     2        0.527130         0.159289         0.603327   \n",
       "44622     2       -0.972049         0.513316         0.003403   \n",
       "71821     2        1.003596         1.295017         0.219550   \n",
       "57907     2        1.158887         1.763834         2.302950   \n",
       "\n",
       "       favorites_count  listed_count  negotiate_empath  vehicle_empath  \\\n",
       "10999         1.468664      0.319936          0.060148       -1.573040   \n",
       "55317         0.116831      0.400391         -0.170600        0.731748   \n",
       "44622         0.041867      0.682879          0.398669       -0.434141   \n",
       "71821         0.198376      1.810431         -0.601582       -1.187685   \n",
       "57907        -0.603070      1.965467          1.635436       -1.573040   \n",
       "\n",
       "       science_empath  timidity_empath  ...  number hashtags  tweet number  \\\n",
       "10999        0.468232        -0.446347  ...        -0.347727     -0.087181   \n",
       "55317       -0.155481         0.487008  ...        -0.159648      0.863400   \n",
       "44622       -0.439622         0.134869  ...         1.059839     -0.068104   \n",
       "71821        0.012743         0.684971  ...        -1.705789      0.335796   \n",
       "57907       -1.285986        -1.540435  ...         0.994608      1.001552   \n",
       "\n",
       "       retweet number  quote number  status length  number urls   baddies  \\\n",
       "10999        0.355153      1.193070       0.010627     0.314380  0.581937   \n",
       "55317       -0.628442      1.058797      -0.400813    -0.034034 -0.023220   \n",
       "44622        0.338591     -0.254387       1.066497     1.200203  0.243681   \n",
       "71821       -0.035509     -1.125292      -0.736826    -0.555163 -0.429600   \n",
       "57907       -0.818391      0.511212       0.249450    -0.184754  0.682368   \n",
       "\n",
       "       mentions  time_diff  time_diff_median  \n",
       "10999  0.017239  -0.772738         -0.713314  \n",
       "55317  0.088925   0.209697          0.501357  \n",
       "44622  0.661312   1.318291          1.403518  \n",
       "71821  0.542465  -0.675596         -0.164192  \n",
       "57907  1.253365  -0.766926         -0.781316  \n",
       "\n",
       "[5 rows x 205 columns]"
      ]
     },
     "execution_count": 15,
     "metadata": {},
     "output_type": "execute_result"
    }
   ],
   "source": [
    "node_data = node_data.loc[list(g_nx.nodes())]\n",
    "node_data.head()"
   ]
  },
  {
   "cell_type": "markdown",
   "metadata": {},
   "source": [
    "### Splitting the data"
   ]
  },
  {
   "cell_type": "markdown",
   "metadata": {},
   "source": [
    "For machine learning we want to take a subset of the nodes for training, and use the rest for validation and testing. We'll use scikit-learn again to split our data into training and test sets.\n",
    "\n",
    "The total number of annotated nodes is very small when compared to the total number of nodes in the graph. We are only going to use 15% of the annotated nodes for training and the remaining 85% of nodes for testing.\n",
    "\n",
    "First, we are going to select the subset of nodes that are annotated as hateful or normal. These will be the nodes that have 'hate' values that are either 0 or 1."
   ]
  },
  {
   "cell_type": "code",
   "execution_count": 16,
   "metadata": {},
   "outputs": [],
   "source": [
    "# choose the nodes annotated with normal or hateful classes\n",
    "annotated_users = node_data[node_data[\"hate\"] != 2]"
   ]
  },
  {
   "cell_type": "code",
   "execution_count": 17,
   "metadata": {},
   "outputs": [],
   "source": [
    "annotated_user_features = annotated_users.drop(columns=[\"hate\"])\n",
    "annotated_user_targets = annotated_users[[\"hate\"]]"
   ]
  },
  {
   "cell_type": "markdown",
   "metadata": {},
   "source": [
    "There are 4971 annoted nodes out of a possible, approximately, 100k nodes."
   ]
  },
  {
   "cell_type": "code",
   "execution_count": 18,
   "metadata": {},
   "outputs": [
    {
     "name": "stdout",
     "output_type": "stream",
     "text": [
      "0    4427\n",
      "1     544\n",
      "Name: hate, dtype: int64\n"
     ]
    }
   ],
   "source": [
    "print(annotated_user_targets.hate.value_counts())"
   ]
  },
  {
   "cell_type": "code",
   "execution_count": 19,
   "metadata": {},
   "outputs": [
    {
     "name": "stdout",
     "output_type": "stream",
     "text": [
      "Sizes and class distributions for train/test data\n",
      "Shape train_data (745, 204)\n",
      "Shape test_data (4226, 204)\n",
      "Train data number of 0s 667 and 1s 78\n",
      "Test data number of 0s 3760 and 1s 466\n"
     ]
    }
   ],
   "source": [
    "# split the data\n",
    "train_data, test_data, train_targets, test_targets = train_test_split(\n",
    "    annotated_user_features, annotated_user_targets, test_size=0.85, random_state=101\n",
    ")\n",
    "train_targets = train_targets.values\n",
    "test_targets = test_targets.values\n",
    "print(\"Sizes and class distributions for train/test data\")\n",
    "print(\"Shape train_data {}\".format(train_data.shape))\n",
    "print(\"Shape test_data {}\".format(test_data.shape))\n",
    "print(\n",
    "    \"Train data number of 0s {} and 1s {}\".format(\n",
    "        np.sum(train_targets == 0), np.sum(train_targets == 1)\n",
    "    )\n",
    ")\n",
    "print(\n",
    "    \"Test data number of 0s {} and 1s {}\".format(\n",
    "        np.sum(test_targets == 0), np.sum(test_targets == 1)\n",
    "    )\n",
    ")"
   ]
  },
  {
   "cell_type": "code",
   "execution_count": 20,
   "metadata": {},
   "outputs": [
    {
     "data": {
      "text/plain": [
       "((745, 1), (4226, 1))"
      ]
     },
     "execution_count": 20,
     "metadata": {},
     "output_type": "execute_result"
    }
   ],
   "source": [
    "train_targets.shape, test_targets.shape"
   ]
  },
  {
   "cell_type": "code",
   "execution_count": 21,
   "metadata": {},
   "outputs": [
    {
     "data": {
      "text/plain": [
       "((745, 204), (4226, 204))"
      ]
     },
     "execution_count": 21,
     "metadata": {},
     "output_type": "execute_result"
    }
   ],
   "source": [
    "train_data.shape, test_data.shape"
   ]
  },
  {
   "cell_type": "markdown",
   "metadata": {},
   "source": [
    "We are going to use 745 nodes for training and 4226 nodes for testing."
   ]
  },
  {
   "cell_type": "code",
   "execution_count": 22,
   "metadata": {},
   "outputs": [],
   "source": [
    "# choosing features to assign to a graph, excluding target variable\n",
    "node_features = node_data.drop(columns=[\"hate\"])"
   ]
  },
  {
   "cell_type": "markdown",
   "metadata": {},
   "source": [
    "### Dealing with imbalanced data\n",
    "\n",
    "Because the training data exhibit high imbalance, we introduce class weights."
   ]
  },
  {
   "cell_type": "code",
   "execution_count": 23,
   "metadata": {},
   "outputs": [
    {
     "data": {
      "text/plain": [
       "{0: 0.5584707646176912, 1: 4.7756410256410255}"
      ]
     },
     "execution_count": 23,
     "metadata": {},
     "output_type": "execute_result"
    }
   ],
   "source": [
    "from sklearn.utils.class_weight import compute_class_weight\n",
    "\n",
    "class_weights = compute_class_weight(\n",
    "    \"balanced\", np.unique(train_targets), train_targets[:, 0]\n",
    ")\n",
    "train_class_weights = dict(zip(np.unique(train_targets), class_weights))\n",
    "train_class_weights"
   ]
  },
  {
   "cell_type": "markdown",
   "metadata": {},
   "source": [
    "Our data is now ready for machine learning.\n",
    "\n",
    "Node features are stored in the Pandas DataFrame `node_features`.\n",
    "\n",
    "The graph in networkx format is stored in the variable `g_nx`."
   ]
  },
  {
   "cell_type": "markdown",
   "metadata": {},
   "source": [
    "### Specify global parameters\n",
    "\n",
    "Here we specify some parameters that control the type of model we are going to use. For example, we specify the base model type, e.g., GCN, GraphSAGE, etc, as well as model-specific parameters."
   ]
  },
  {
   "cell_type": "code",
   "execution_count": 24,
   "metadata": {},
   "outputs": [],
   "source": [
    "epochs = 20"
   ]
  },
  {
   "cell_type": "markdown",
   "metadata": {},
   "source": [
    "## Creating the base graph machine learning model in Keras"
   ]
  },
  {
   "cell_type": "markdown",
   "metadata": {},
   "source": [
    "Now create a `StellarGraph` object from the `NetworkX` graph and the node features and targets. It is `StellarGraph` objects that we use in this library to perform machine learning tasks on."
   ]
  },
  {
   "cell_type": "code",
   "execution_count": 25,
   "metadata": {},
   "outputs": [],
   "source": [
    "G = sg.StellarGraph(g_nx, node_features=node_features)"
   ]
  },
  {
   "cell_type": "markdown",
   "metadata": {},
   "source": [
    "To feed data from the graph to the Keras model we need a generator. The generators are specialized to the model and the learning task. "
   ]
  },
  {
   "cell_type": "markdown",
   "metadata": {},
   "source": [
    "For training we map only the training nodes returned from our splitter and the target values."
   ]
  },
  {
   "cell_type": "code",
   "execution_count": 26,
   "metadata": {},
   "outputs": [
    {
     "name": "stdout",
     "output_type": "stream",
     "text": [
      "Using GCN (local pooling) filters...\n"
     ]
    }
   ],
   "source": [
    "generator = FullBatchNodeGenerator(G, method=\"gcn\", sparse=True)\n",
    "train_gen = generator.flow(train_data.index, train_targets)"
   ]
  },
  {
   "cell_type": "code",
   "execution_count": 27,
   "metadata": {},
   "outputs": [],
   "source": [
    "base_model = GCN(\n",
    "    layer_sizes=[32, 16],\n",
    "    generator=generator,\n",
    "    bias=True,\n",
    "    dropout=0.5,\n",
    "    activations=[\"elu\", \"elu\"],\n",
    ")\n",
    "x_inp, x_out = base_model.build()\n",
    "prediction = layers.Dense(units=1, activation=\"sigmoid\")(x_out)"
   ]
  },
  {
   "cell_type": "markdown",
   "metadata": {},
   "source": [
    "### Create a Keras model"
   ]
  },
  {
   "cell_type": "markdown",
   "metadata": {},
   "source": [
    "Now let's create the actual Keras model with the graph inputs `x_inp` provided by the `base_model` and outputs being the predictions from the softmax layer."
   ]
  },
  {
   "cell_type": "code",
   "execution_count": 28,
   "metadata": {},
   "outputs": [],
   "source": [
    "model = Model(inputs=x_inp, outputs=prediction)"
   ]
  },
  {
   "cell_type": "markdown",
   "metadata": {},
   "source": [
    "We compile our Keras model to use the `Adam` optimiser and the binary cross entropy loss."
   ]
  },
  {
   "cell_type": "code",
   "execution_count": 29,
   "metadata": {},
   "outputs": [],
   "source": [
    "model.compile(\n",
    "    optimizer=optimizers.Adam(lr=0.005), loss=losses.binary_crossentropy, metrics=[\"acc\"],\n",
    ")"
   ]
  },
  {
   "cell_type": "code",
   "execution_count": 30,
   "metadata": {},
   "outputs": [
    {
     "name": "stdout",
     "output_type": "stream",
     "text": [
      "Model: \"model\"\n",
      "__________________________________________________________________________________________________\n",
      "Layer (type)                    Output Shape         Param #     Connected to                     \n",
      "==================================================================================================\n",
      "input_1 (InputLayer)            [(1, 100386, 204)]   0                                            \n",
      "__________________________________________________________________________________________________\n",
      "input_3 (InputLayer)            [(1, None, 2)]       0                                            \n",
      "__________________________________________________________________________________________________\n",
      "input_4 (InputLayer)            [(1, None)]          0                                            \n",
      "__________________________________________________________________________________________________\n",
      "dropout (Dropout)               (1, 100386, 204)     0           input_1[0][0]                    \n",
      "__________________________________________________________________________________________________\n",
      "input_2 (InputLayer)            [(1, None)]          0                                            \n",
      "__________________________________________________________________________________________________\n",
      "squeezed_sparse_conversion (Squ (100386, 100386)     0           input_3[0][0]                    \n",
      "                                                                 input_4[0][0]                    \n",
      "__________________________________________________________________________________________________\n",
      "graph_convolution (GraphConvolu (1, 100386, 32)      6560        dropout[0][0]                    \n",
      "                                                                 input_2[0][0]                    \n",
      "                                                                 squeezed_sparse_conversion[0][0] \n",
      "__________________________________________________________________________________________________\n",
      "dropout_1 (Dropout)             (1, 100386, 32)      0           graph_convolution[0][0]          \n",
      "__________________________________________________________________________________________________\n",
      "graph_convolution_1 (GraphConvo (1, None, 16)        528         dropout_1[0][0]                  \n",
      "                                                                 input_2[0][0]                    \n",
      "                                                                 squeezed_sparse_conversion[0][0] \n",
      "__________________________________________________________________________________________________\n",
      "dense (Dense)                   (1, None, 1)         17          graph_convolution_1[0][0]        \n",
      "==================================================================================================\n",
      "Total params: 7,105\n",
      "Trainable params: 7,105\n",
      "Non-trainable params: 0\n",
      "__________________________________________________________________________________________________\n"
     ]
    }
   ],
   "source": [
    "model.summary()"
   ]
  },
  {
   "cell_type": "markdown",
   "metadata": {},
   "source": [
    "Train the model, keeping track of its loss and accuracy on the training set, and its performance on the test set during the training. We don't use the test set during training but only for measuring the trained model's generalization performance."
   ]
  },
  {
   "cell_type": "code",
   "execution_count": 31,
   "metadata": {},
   "outputs": [
    {
     "name": "stdout",
     "output_type": "stream",
     "text": [
      "Epoch 1/20\n",
      "1/1 - 6s - loss: 0.8172 - acc: 0.4255 - val_loss: 0.6601 - val_acc: 0.6649\n",
      "Epoch 2/20\n",
      "1/1 - 5s - loss: 0.6876 - acc: 0.6228 - val_loss: 0.5699 - val_acc: 0.7709\n",
      "Epoch 3/20\n",
      "1/1 - 4s - loss: 0.5798 - acc: 0.7490 - val_loss: 0.4971 - val_acc: 0.8270\n",
      "Epoch 4/20\n",
      "1/1 - 5s - loss: 0.5071 - acc: 0.8107 - val_loss: 0.4364 - val_acc: 0.8516\n",
      "Epoch 5/20\n",
      "1/1 - 5s - loss: 0.4368 - acc: 0.8430 - val_loss: 0.3850 - val_acc: 0.8803\n",
      "Epoch 6/20\n",
      "1/1 - 5s - loss: 0.3792 - acc: 0.8671 - val_loss: 0.3424 - val_acc: 0.9032\n",
      "Epoch 7/20\n",
      "1/1 - 5s - loss: 0.3300 - acc: 0.8805 - val_loss: 0.3088 - val_acc: 0.9094\n",
      "Epoch 8/20\n",
      "1/1 - 7s - loss: 0.2906 - acc: 0.9141 - val_loss: 0.2838 - val_acc: 0.9162\n",
      "Epoch 9/20\n",
      "1/1 - 5s - loss: 0.2617 - acc: 0.9208 - val_loss: 0.2661 - val_acc: 0.9207\n",
      "Epoch 10/20\n",
      "1/1 - 6s - loss: 0.2363 - acc: 0.9248 - val_loss: 0.2546 - val_acc: 0.9212\n",
      "Epoch 11/20\n",
      "1/1 - 6s - loss: 0.2174 - acc: 0.9275 - val_loss: 0.2480 - val_acc: 0.9224\n",
      "Epoch 12/20\n",
      "1/1 - 8s - loss: 0.2109 - acc: 0.9302 - val_loss: 0.2450 - val_acc: 0.9205\n",
      "Epoch 13/20\n",
      "1/1 - 8s - loss: 0.1959 - acc: 0.9369 - val_loss: 0.2451 - val_acc: 0.9207\n",
      "Epoch 14/20\n",
      "1/1 - 8s - loss: 0.1961 - acc: 0.9315 - val_loss: 0.2471 - val_acc: 0.9203\n",
      "Epoch 15/20\n",
      "1/1 - 9s - loss: 0.1906 - acc: 0.9302 - val_loss: 0.2499 - val_acc: 0.9195\n",
      "Epoch 16/20\n",
      "1/1 - 5s - loss: 0.1939 - acc: 0.9221 - val_loss: 0.2527 - val_acc: 0.9193\n",
      "Epoch 17/20\n",
      "1/1 - 4s - loss: 0.1827 - acc: 0.9329 - val_loss: 0.2561 - val_acc: 0.9193\n",
      "Epoch 18/20\n",
      "1/1 - 5s - loss: 0.1833 - acc: 0.9329 - val_loss: 0.2588 - val_acc: 0.9191\n",
      "Epoch 19/20\n",
      "1/1 - 4s - loss: 0.1786 - acc: 0.9369 - val_loss: 0.2608 - val_acc: 0.9191\n",
      "Epoch 20/20\n",
      "1/1 - 4s - loss: 0.1811 - acc: 0.9342 - val_loss: 0.2626 - val_acc: 0.9186\n"
     ]
    }
   ],
   "source": [
    "test_gen = generator.flow(test_data.index, test_targets)\n",
    "history = model.fit_generator(\n",
    "    train_gen,\n",
    "    epochs=epochs,\n",
    "    validation_data=test_gen,\n",
    "    verbose=2,\n",
    "    shuffle=False,\n",
    "    class_weight=None,\n",
    ")"
   ]
  },
  {
   "cell_type": "markdown",
   "metadata": {},
   "source": [
    "### Model Evaluation"
   ]
  },
  {
   "cell_type": "markdown",
   "metadata": {},
   "source": [
    "Now we have trained the model, let's evaluate it on the test set.\n",
    "\n",
    "We are going to consider 4 evaluation metrics calculated on the test set: Accuracy, Area Under the ROC curve (AU-ROC), the ROC curve, and the confusion table."
   ]
  },
  {
   "cell_type": "markdown",
   "metadata": {},
   "source": [
    "#### Accuracy"
   ]
  },
  {
   "cell_type": "code",
   "execution_count": 32,
   "metadata": {},
   "outputs": [
    {
     "name": "stdout",
     "output_type": "stream",
     "text": [
      "\n",
      "Test Set Metrics:\n",
      "\tloss: 0.2626\n",
      "\tacc: 0.9186\n"
     ]
    }
   ],
   "source": [
    "test_metrics = model.evaluate_generator(test_gen)\n",
    "print(\"\\nTest Set Metrics:\")\n",
    "for name, val in zip(model.metrics_names, test_metrics):\n",
    "    print(\"\\t{}: {:0.4f}\".format(name, val))"
   ]
  },
  {
   "cell_type": "code",
   "execution_count": 33,
   "metadata": {},
   "outputs": [],
   "source": [
    "all_nodes = node_data.index\n",
    "all_gen = generator.flow(all_nodes)\n",
    "all_predictions = model.predict_generator(all_gen).squeeze()[..., np.newaxis]"
   ]
  },
  {
   "cell_type": "code",
   "execution_count": 34,
   "metadata": {},
   "outputs": [
    {
     "data": {
      "text/plain": [
       "(100386, 1)"
      ]
     },
     "execution_count": 34,
     "metadata": {},
     "output_type": "execute_result"
    }
   ],
   "source": [
    "all_predictions.shape"
   ]
  },
  {
   "cell_type": "code",
   "execution_count": 35,
   "metadata": {},
   "outputs": [],
   "source": [
    "all_predictions_df = pd.DataFrame(all_predictions, index=node_data.index)"
   ]
  },
  {
   "cell_type": "markdown",
   "metadata": {},
   "source": [
    "Let's extract the predictions for the test data only."
   ]
  },
  {
   "cell_type": "code",
   "execution_count": 36,
   "metadata": {},
   "outputs": [],
   "source": [
    "test_preds = all_predictions_df.loc[test_data.index, :]"
   ]
  },
  {
   "cell_type": "code",
   "execution_count": 37,
   "metadata": {},
   "outputs": [
    {
     "data": {
      "text/plain": [
       "(4226, 1)"
      ]
     },
     "execution_count": 37,
     "metadata": {},
     "output_type": "execute_result"
    }
   ],
   "source": [
    "test_preds.shape"
   ]
  },
  {
   "cell_type": "markdown",
   "metadata": {},
   "source": [
    "The predictions are the probability of the true class that in this case is the probability of a user being hateful."
   ]
  },
  {
   "cell_type": "code",
   "execution_count": 38,
   "metadata": {},
   "outputs": [
    {
     "name": "stdout",
     "output_type": "stream",
     "text": [
      "The AUC on test set:\n",
      "\n",
      "0.8697676011323168\n"
     ]
    }
   ],
   "source": [
    "test_predictions = test_preds.values\n",
    "test_predictions_class = ((test_predictions > 0.5) * 1).flatten()\n",
    "test_df = pd.DataFrame(\n",
    "    {\n",
    "        \"Predicted_score\": test_predictions.flatten(),\n",
    "        \"Predicted_class\": test_predictions_class,\n",
    "        \"True\": test_targets[:, 0],\n",
    "    }\n",
    ")\n",
    "roc_auc = metrics.roc_auc_score(test_df[\"True\"].values, test_df[\"Predicted_score\"].values)\n",
    "print(\"The AUC on test set:\\n\")\n",
    "print(roc_auc)"
   ]
  },
  {
   "cell_type": "markdown",
   "metadata": {},
   "source": [
    "## Interpretability by Saliency Maps\n",
    "\n",
    "To understand which features and edges the model is looking at while making the predictions, we use the interpretability tool in the StellarGraph library (i.e., saliency maps) to demonstrate the importance of node features and edges given a target user."
   ]
  },
  {
   "cell_type": "code",
   "execution_count": 39,
   "metadata": {},
   "outputs": [],
   "source": [
    "from stellargraph.utils.saliency_maps import IntegratedGradients\n",
    "\n",
    "int_saliency = IntegratedGradients(model, all_gen)"
   ]
  },
  {
   "cell_type": "code",
   "execution_count": 40,
   "metadata": {},
   "outputs": [
    {
     "name": "stdout",
     "output_type": "stream",
     "text": [
      "target_idx = 52844, target_nid = 77996\n",
      "prediction score for node 52844 is [0.9953695]\n",
      "ground truth score for node 52844 is [1]\n"
     ]
    }
   ],
   "source": [
    "from stellargraph.utils.saliency_maps import IntegratedGradients\n",
    "\n",
    "# we first select a list of nodes which are confidently classified as hateful.\n",
    "predicted_hateful_index = set(np.where(all_predictions > 0.9)[0].tolist())\n",
    "test_indices_set = set([int(k) for k in test_data.index.tolist()])\n",
    "hateful_in_test = list(predicted_hateful_index.intersection(test_indices_set))\n",
    "\n",
    "# let's pick one node from the predicted hateful users as an example.\n",
    "idx = 2\n",
    "target_idx = hateful_in_test[idx]\n",
    "target_nid = list(G.nodes())[target_idx]\n",
    "print(\"target_idx = {}, target_nid = {}\".format(target_idx, target_nid))\n",
    "print(\n",
    "    \"prediction score for node {} is {}\".format(target_idx, all_predictions[target_idx])\n",
    ")\n",
    "print(\n",
    "    \"ground truth score for node {} is {}\".format(\n",
    "        target_idx, test_targets[test_data.index.tolist().index(str(target_nid))]\n",
    "    )\n",
    ")\n",
    "[X, all_targets, A_index, A], y_true_all = all_gen[0]"
   ]
  },
  {
   "cell_type": "markdown",
   "metadata": {},
   "source": [
    "For the prediction of the target node, we then calculate the importance of the features for each node in the graph. Our support for sparse saliency maps makes it efficient to fit the scale like this dataset."
   ]
  },
  {
   "cell_type": "code",
   "execution_count": 41,
   "metadata": {},
   "outputs": [],
   "source": [
    "# We set the target_idx which is our target node.\n",
    "node_feature_importance = int_saliency.get_integrated_node_masks(target_idx, 0)"
   ]
  },
  {
   "cell_type": "markdown",
   "metadata": {},
   "source": [
    "As `node_feature_importance` is a matrix where `node_feature_importance[i][j]` indicates the importance of the j-th feature of node i to the prediction of the target node, we sum up the feature importance of each node to measure its node importance. "
   ]
  },
  {
   "cell_type": "code",
   "execution_count": 42,
   "metadata": {},
   "outputs": [
    {
     "name": "stdout",
     "output_type": "stream",
     "text": [
      "[ 0.17982562  0.16896637  0.16109156 ... -0.02809593 -0.02819009\n",
      " -0.03138408]\n",
      "node_importance has 7780 non-zero values\n"
     ]
    }
   ],
   "source": [
    "node_importance = np.sum(node_feature_importance, axis=-1)\n",
    "node_importance_rank = np.argsort(node_importance)[::-1]\n",
    "print(node_importance[node_importance_rank])\n",
    "print(\n",
    "    \"node_importance has {} non-zero values\".format(\n",
    "        np.where(node_importance != 0)[0].shape[0]\n",
    "    )\n",
    ")"
   ]
  },
  {
   "cell_type": "markdown",
   "metadata": {},
   "source": [
    "We expect the number of non-zero values of `node_importance` to match the number of nodes in the ego graph. "
   ]
  },
  {
   "cell_type": "code",
   "execution_count": 43,
   "metadata": {},
   "outputs": [
    {
     "name": "stdout",
     "output_type": "stream",
     "text": [
      "The ego graph of the target node has 7780 neighbors\n"
     ]
    }
   ],
   "source": [
    "G_ego = nx.ego_graph(g_nx, target_nid, radius=2)\n",
    "print(\"The ego graph of the target node has {} neighbors\".format(len(G_ego.nodes())))"
   ]
  },
  {
   "cell_type": "markdown",
   "metadata": {},
   "source": [
    "We then analyze the feature importance of the top-250 important nodes. See the output for the top-5 importance nodes. For each row, the features are sorted according to their importance."
   ]
  },
  {
   "cell_type": "code",
   "execution_count": 44,
   "metadata": {},
   "outputs": [
    {
     "data": {
      "text/html": [
       "<div>\n",
       "<style scoped>\n",
       "    .dataframe tbody tr th:only-of-type {\n",
       "        vertical-align: middle;\n",
       "    }\n",
       "\n",
       "    .dataframe tbody tr th {\n",
       "        vertical-align: top;\n",
       "    }\n",
       "\n",
       "    .dataframe thead th {\n",
       "        text-align: right;\n",
       "    }\n",
       "</style>\n",
       "<table border=\"1\" class=\"dataframe\">\n",
       "  <thead>\n",
       "    <tr style=\"text-align: right;\">\n",
       "      <th></th>\n",
       "      <th>0</th>\n",
       "      <th>1</th>\n",
       "      <th>2</th>\n",
       "      <th>3</th>\n",
       "      <th>4</th>\n",
       "      <th>5</th>\n",
       "      <th>6</th>\n",
       "      <th>7</th>\n",
       "      <th>8</th>\n",
       "      <th>9</th>\n",
       "      <th>...</th>\n",
       "      <th>195</th>\n",
       "      <th>196</th>\n",
       "      <th>197</th>\n",
       "      <th>198</th>\n",
       "      <th>199</th>\n",
       "      <th>200</th>\n",
       "      <th>201</th>\n",
       "      <th>202</th>\n",
       "      <th>203</th>\n",
       "      <th>204</th>\n",
       "    </tr>\n",
       "  </thead>\n",
       "  <tbody>\n",
       "    <tr>\n",
       "      <th>0</th>\n",
       "      <td>52849</td>\n",
       "      <td>furniture_empath</td>\n",
       "      <td>legend_empath</td>\n",
       "      <td>traveling_empath</td>\n",
       "      <td>ridicule_empath</td>\n",
       "      <td>attractive_empath</td>\n",
       "      <td>vacation_empath</td>\n",
       "      <td>listen_empath</td>\n",
       "      <td>social_media_empath</td>\n",
       "      <td>farming_empath</td>\n",
       "      <td>...</td>\n",
       "      <td>restaurant_empath</td>\n",
       "      <td>aggression_empath</td>\n",
       "      <td>sexual_empath</td>\n",
       "      <td>phone_empath</td>\n",
       "      <td>shopping_empath</td>\n",
       "      <td>followers_count</td>\n",
       "      <td>listed_count</td>\n",
       "      <td>appearance_empath</td>\n",
       "      <td>white_collar_job_empath</td>\n",
       "      <td>sound_empath</td>\n",
       "    </tr>\n",
       "    <tr>\n",
       "      <th>1</th>\n",
       "      <td>60357</td>\n",
       "      <td>furniture_empath</td>\n",
       "      <td>traveling_empath</td>\n",
       "      <td>hiking_empath</td>\n",
       "      <td>attractive_empath</td>\n",
       "      <td>dominant_personality_empath</td>\n",
       "      <td>baddies</td>\n",
       "      <td>legend_empath</td>\n",
       "      <td>listen_empath</td>\n",
       "      <td>computer_empath</td>\n",
       "      <td>...</td>\n",
       "      <td>followers_count</td>\n",
       "      <td>pain_empath</td>\n",
       "      <td>terrorism_empath</td>\n",
       "      <td>white_collar_job_empath</td>\n",
       "      <td>statuses_count</td>\n",
       "      <td>monster_empath</td>\n",
       "      <td>listed_count</td>\n",
       "      <td>vacation_empath</td>\n",
       "      <td>appearance_empath</td>\n",
       "      <td>quote number</td>\n",
       "    </tr>\n",
       "    <tr>\n",
       "      <th>2</th>\n",
       "      <td>20155</td>\n",
       "      <td>furniture_empath</td>\n",
       "      <td>traveling_empath</td>\n",
       "      <td>retweet number</td>\n",
       "      <td>ridicule_empath</td>\n",
       "      <td>hiking_empath</td>\n",
       "      <td>dominant_personality_empath</td>\n",
       "      <td>legend_empath</td>\n",
       "      <td>swimming_empath</td>\n",
       "      <td>kill_empath</td>\n",
       "      <td>...</td>\n",
       "      <td>art_empath</td>\n",
       "      <td>school_empath</td>\n",
       "      <td>movement_empath</td>\n",
       "      <td>terrorism_empath</td>\n",
       "      <td>sexual_empath</td>\n",
       "      <td>urban_empath</td>\n",
       "      <td>quote number</td>\n",
       "      <td>attractive_empath</td>\n",
       "      <td>phone_empath</td>\n",
       "      <td>white_collar_job_empath</td>\n",
       "    </tr>\n",
       "    <tr>\n",
       "      <th>3</th>\n",
       "      <td>28016</td>\n",
       "      <td>furniture_empath</td>\n",
       "      <td>vacation_empath</td>\n",
       "      <td>legend_empath</td>\n",
       "      <td>ridicule_empath</td>\n",
       "      <td>attractive_empath</td>\n",
       "      <td>hiking_empath</td>\n",
       "      <td>anger_empath</td>\n",
       "      <td>speaking_empath</td>\n",
       "      <td>liquid_empath</td>\n",
       "      <td>...</td>\n",
       "      <td>monster_empath</td>\n",
       "      <td>subjectivity</td>\n",
       "      <td>restaurant_empath</td>\n",
       "      <td>terrorism_empath</td>\n",
       "      <td>feminine_empath</td>\n",
       "      <td>fear_empath</td>\n",
       "      <td>quote number</td>\n",
       "      <td>sound_empath</td>\n",
       "      <td>white_collar_job_empath</td>\n",
       "      <td>retweet number</td>\n",
       "    </tr>\n",
       "    <tr>\n",
       "      <th>4</th>\n",
       "      <td>54764</td>\n",
       "      <td>traveling_empath</td>\n",
       "      <td>furniture_empath</td>\n",
       "      <td>royalty_empath</td>\n",
       "      <td>attractive_empath</td>\n",
       "      <td>retweet number</td>\n",
       "      <td>ridicule_empath</td>\n",
       "      <td>white_collar_job_empath</td>\n",
       "      <td>liquid_empath</td>\n",
       "      <td>emotional_empath</td>\n",
       "      <td>...</td>\n",
       "      <td>aggression_empath</td>\n",
       "      <td>prison_empath</td>\n",
       "      <td>vacation_empath</td>\n",
       "      <td>sound_empath</td>\n",
       "      <td>quote number</td>\n",
       "      <td>monster_empath</td>\n",
       "      <td>college_empath</td>\n",
       "      <td>surprise_empath</td>\n",
       "      <td>eating_empath</td>\n",
       "      <td>tool_empath</td>\n",
       "    </tr>\n",
       "  </tbody>\n",
       "</table>\n",
       "<p>5 rows × 205 columns</p>\n",
       "</div>"
      ],
      "text/plain": [
       "     0                 1                 2                 3    \\\n",
       "0  52849  furniture_empath     legend_empath  traveling_empath   \n",
       "1  60357  furniture_empath  traveling_empath     hiking_empath   \n",
       "2  20155  furniture_empath  traveling_empath    retweet number   \n",
       "3  28016  furniture_empath   vacation_empath     legend_empath   \n",
       "4  54764  traveling_empath  furniture_empath    royalty_empath   \n",
       "\n",
       "                 4                            5    \\\n",
       "0    ridicule_empath            attractive_empath   \n",
       "1  attractive_empath  dominant_personality_empath   \n",
       "2    ridicule_empath                hiking_empath   \n",
       "3    ridicule_empath            attractive_empath   \n",
       "4  attractive_empath               retweet number   \n",
       "\n",
       "                           6                        7                    8    \\\n",
       "0              vacation_empath            listen_empath  social_media_empath   \n",
       "1                      baddies            legend_empath        listen_empath   \n",
       "2  dominant_personality_empath            legend_empath      swimming_empath   \n",
       "3                hiking_empath             anger_empath      speaking_empath   \n",
       "4              ridicule_empath  white_collar_job_empath        liquid_empath   \n",
       "\n",
       "                9    ...                195                196  \\\n",
       "0    farming_empath  ...  restaurant_empath  aggression_empath   \n",
       "1   computer_empath  ...    followers_count        pain_empath   \n",
       "2       kill_empath  ...         art_empath      school_empath   \n",
       "3     liquid_empath  ...     monster_empath       subjectivity   \n",
       "4  emotional_empath  ...  aggression_empath      prison_empath   \n",
       "\n",
       "                 197                      198              199  \\\n",
       "0      sexual_empath             phone_empath  shopping_empath   \n",
       "1   terrorism_empath  white_collar_job_empath   statuses_count   \n",
       "2    movement_empath         terrorism_empath    sexual_empath   \n",
       "3  restaurant_empath         terrorism_empath  feminine_empath   \n",
       "4    vacation_empath             sound_empath     quote number   \n",
       "\n",
       "               200             201                202  \\\n",
       "0  followers_count    listed_count  appearance_empath   \n",
       "1   monster_empath    listed_count    vacation_empath   \n",
       "2     urban_empath    quote number  attractive_empath   \n",
       "3      fear_empath    quote number       sound_empath   \n",
       "4   monster_empath  college_empath    surprise_empath   \n",
       "\n",
       "                       203                      204  \n",
       "0  white_collar_job_empath             sound_empath  \n",
       "1        appearance_empath             quote number  \n",
       "2             phone_empath  white_collar_job_empath  \n",
       "3  white_collar_job_empath           retweet number  \n",
       "4            eating_empath              tool_empath  \n",
       "\n",
       "[5 rows x 205 columns]"
      ]
     },
     "execution_count": 45,
     "metadata": {},
     "output_type": "execute_result"
    }
   ],
   "source": [
    "feature_names = annotated_users.keys()[1:].values\n",
    "feature_importance_rank = np.argsort(node_feature_importance[target_idx])[::-1]\n",
    "df = pd.DataFrame(\n",
    "    [\n",
    "        ([k] + list(feature_names[np.argsort(node_feature_importance[k])[::-1]]))\n",
    "        for k in node_importance_rank[:250]\n",
    "    ],\n",
    "    columns=range(205),\n",
    ")\n",
    "df.head()"
   ]
  },
  {
   "cell_type": "markdown",
   "metadata": {},
   "source": [
    "As a sanity check, we expect the target node itself to have a relatively high importance."
   ]
  },
  {
   "cell_type": "code",
   "execution_count": 45,
   "metadata": {},
   "outputs": [
    {
     "name": "stdout",
     "output_type": "stream",
     "text": [
      "0.10289561297135127\n",
      "The node itself is the 14-th important node\n"
     ]
    },
    {
     "data": {
      "text/html": [
       "<div>\n",
       "<style scoped>\n",
       "    .dataframe tbody tr th:only-of-type {\n",
       "        vertical-align: middle;\n",
       "    }\n",
       "\n",
       "    .dataframe tbody tr th {\n",
       "        vertical-align: top;\n",
       "    }\n",
       "\n",
       "    .dataframe thead th {\n",
       "        text-align: right;\n",
       "    }\n",
       "</style>\n",
       "<table border=\"1\" class=\"dataframe\">\n",
       "  <thead>\n",
       "    <tr style=\"text-align: right;\">\n",
       "      <th></th>\n",
       "      <th>0</th>\n",
       "      <th>1</th>\n",
       "      <th>2</th>\n",
       "      <th>3</th>\n",
       "      <th>4</th>\n",
       "      <th>5</th>\n",
       "      <th>6</th>\n",
       "      <th>7</th>\n",
       "      <th>8</th>\n",
       "      <th>9</th>\n",
       "      <th>...</th>\n",
       "      <th>194</th>\n",
       "      <th>195</th>\n",
       "      <th>196</th>\n",
       "      <th>197</th>\n",
       "      <th>198</th>\n",
       "      <th>199</th>\n",
       "      <th>200</th>\n",
       "      <th>201</th>\n",
       "      <th>202</th>\n",
       "      <th>203</th>\n",
       "    </tr>\n",
       "  </thead>\n",
       "  <tbody>\n",
       "    <tr>\n",
       "      <th>0</th>\n",
       "      <td>furniture_empath</td>\n",
       "      <td>attractive_empath</td>\n",
       "      <td>money_empath</td>\n",
       "      <td>liquid_empath</td>\n",
       "      <td>speaking_empath</td>\n",
       "      <td>computer_empath</td>\n",
       "      <td>kill_empath</td>\n",
       "      <td>business_empath</td>\n",
       "      <td>suffering_empath</td>\n",
       "      <td>cleaning_empath</td>\n",
       "      <td>...</td>\n",
       "      <td>quote number</td>\n",
       "      <td>sound_empath</td>\n",
       "      <td>monster_empath</td>\n",
       "      <td>phone_empath</td>\n",
       "      <td>appearance_empath</td>\n",
       "      <td>reading_empath</td>\n",
       "      <td>retweet number</td>\n",
       "      <td>surprise_empath</td>\n",
       "      <td>legend_empath</td>\n",
       "      <td>restaurant_empath</td>\n",
       "    </tr>\n",
       "  </tbody>\n",
       "</table>\n",
       "<p>1 rows × 204 columns</p>\n",
       "</div>"
      ],
      "text/plain": [
       "                0                  1             2              3    \\\n",
       "0  furniture_empath  attractive_empath  money_empath  liquid_empath   \n",
       "\n",
       "               4                5            6                7    \\\n",
       "0  speaking_empath  computer_empath  kill_empath  business_empath   \n",
       "\n",
       "                8                9    ...           194           195  \\\n",
       "0  suffering_empath  cleaning_empath  ...  quote number  sound_empath   \n",
       "\n",
       "              196           197                198             199  \\\n",
       "0  monster_empath  phone_empath  appearance_empath  reading_empath   \n",
       "\n",
       "              200              201            202                203  \n",
       "0  retweet number  surprise_empath  legend_empath  restaurant_empath  \n",
       "\n",
       "[1 rows x 204 columns]"
      ]
     },
     "execution_count": 46,
     "metadata": {},
     "output_type": "execute_result"
    }
   ],
   "source": [
    "self_feature_importance_rank = np.argsort(node_feature_importance[target_idx])\n",
    "print(np.sum(node_feature_importance[target_idx]))\n",
    "print(\n",
    "    \"The node itself is the {}-th important node\".format(\n",
    "        1 + node_importance_rank.tolist().index(target_idx)\n",
    "    )\n",
    ")\n",
    "df = pd.DataFrame([feature_names[self_feature_importance_rank][::-1]], columns=range(204))\n",
    "df"
   ]
  },
  {
   "cell_type": "markdown",
   "metadata": {},
   "source": [
    "For different nodes, the same features may have different ranks. To understand the overall importance of the features, we now analyze the average feature importance rank for the above selected nodes. Specifically, we obtain the average rank of each specific feature among the top-250 important nodes."
   ]
  },
  {
   "cell_type": "code",
   "execution_count": 46,
   "metadata": {},
   "outputs": [
    {
     "name": "stdout",
     "output_type": "stream",
     "text": [
      "furniture_empath 19.068\n",
      "ridicule_empath 21.084\n",
      "cleaning_empath 28.396\n",
      "legend_empath 34.32\n",
      "traveling_empath 35.688\n",
      "farming_empath 38.98\n",
      "anger_empath 39.684\n",
      "liquid_empath 40.848\n",
      "vacation_empath 41.516\n",
      "baddies 43.028\n",
      "listen_empath 45.116\n",
      "sympathy_empath 45.672\n",
      "fire_empath 48.228\n",
      "swimming_empath 48.428\n",
      "time_diff_median 52.04\n",
      "hiking_empath 52.52\n",
      "musical_empath 52.656\n",
      "money_empath 52.896\n",
      "speaking_empath 54.0\n",
      "exasperation_empath 55.692\n",
      "children_empath 56.504\n",
      "anonymity_empath 56.844\n",
      "violence_empath 59.7\n",
      "listed_count 60.196\n",
      "time_diff 60.524\n",
      "politics_empath 62.536\n",
      "vehicle_empath 64.444\n",
      "death_empath 65.304\n",
      "dominant_heirarchical_empath 66.548\n",
      "fight_empath 66.844\n",
      "business_empath 67.168\n",
      "government_empath 67.324\n",
      "social_media_empath 68.408\n",
      "ocean_empath 71.084\n",
      "attractive_empath 71.2\n",
      "computer_empath 71.804\n",
      "joy_empath 72.644\n",
      "horror_empath 72.832\n",
      "neglect_empath 73.092\n",
      "hate_empath 73.228\n",
      "dance_empath 73.62\n",
      "dominant_personality_empath 74.52\n",
      "number hashtags 75.412\n",
      "friends_empath 76.56\n",
      "kill_empath 76.676\n",
      "hipster_empath 77.288\n",
      "royalty_empath 77.372\n",
      "suffering_empath 77.456\n",
      "emotional_empath 78.072\n",
      "communication_empath 78.324\n",
      "sleep_empath 78.336\n",
      "poor_empath 79.772\n",
      "car_empath 80.22\n",
      "favorites_count 81.004\n",
      "statuses_count 81.164\n",
      "school_empath 81.2\n",
      "cold_empath 83.072\n",
      "timidity_empath 83.232\n",
      "negotiate_empath 83.32\n",
      "followers_count 84.916\n",
      "dispute_empath 87.196\n",
      "shame_empath 87.364\n",
      "divine_empath 87.636\n",
      "ancient_empath 87.828\n",
      "writing_empath 87.932\n",
      "disgust_empath 88.396\n",
      "independence_empath 88.744\n",
      "childish_empath 88.808\n",
      "movement_empath 89.176\n",
      "messaging_empath 89.332\n",
      "college_empath 89.812\n",
      "disappointment_empath 90.784\n",
      "toy_empath 91.928\n",
      "rage_empath 92.444\n",
      "fear_empath 92.796\n",
      "anticipation_empath 93.456\n",
      "morning_empath 93.584\n",
      "fashion_empath 94.736\n",
      "appearance_empath 95.396\n",
      "white_collar_job_empath 95.728\n",
      "programming_empath 96.8\n",
      "positive_emotion_empath 96.84\n",
      "torment_empath 97.724\n",
      "tool_empath 97.848\n",
      "contentment_empath 98.196\n",
      "sailing_empath 98.216\n",
      "journalism_empath 98.28\n",
      "retweet number 98.444\n",
      "strength_empath 99.076\n",
      "fun_empath 99.116\n",
      "sports_empath 99.32\n",
      "driving_empath 100.224\n",
      "plant_empath 100.432\n",
      "meeting_empath 101.172\n",
      "tourism_empath 102.008\n",
      "weapon_empath 102.912\n",
      "occupation_empath 103.524\n",
      "tweet number 104.956\n",
      "lust_empath 105.52\n",
      "shape_and_size_empath 105.636\n",
      "beauty_empath 106.124\n",
      "valuable_empath 106.872\n",
      "confusion_empath 106.888\n",
      "feminine_empath 106.912\n",
      "power_empath 107.208\n",
      "swearing_terms_empath 107.496\n",
      "injury_empath 108.372\n",
      "reading_empath 108.572\n",
      "hearing_empath 108.664\n",
      "sexual_empath 108.784\n",
      "zest_empath 109.66\n",
      "technology_empath 110.404\n",
      "nervousness_empath 110.668\n",
      "animal_empath 110.776\n",
      "worship_empath 110.808\n",
      "pain_empath 110.888\n",
      "optimism_empath 111.18\n",
      "health_empath 111.336\n",
      "art_empath 111.46\n",
      "home_empath 112.612\n",
      "party_empath 112.948\n",
      "leader_empath 113.26\n",
      "crime_empath 113.74\n",
      "weakness_empath 113.772\n",
      "competing_empath 113.936\n",
      "achievement_empath 114.352\n",
      "law_empath 114.688\n",
      "medical_emergency_empath 115.14\n",
      "deception_empath 115.444\n",
      "irritability_empath 115.596\n",
      "war_empath 116.02\n",
      "family_empath 116.06\n",
      "shopping_empath 116.168\n",
      "surprise_empath 116.304\n",
      "warmth_empath 116.744\n",
      "politeness_empath 116.804\n",
      "noise_empath 117.172\n",
      "stealing_empath 117.52\n",
      "air_travel_empath 117.624\n",
      "real_estate_empath 117.644\n",
      "pet_empath 118.096\n",
      "breaking_empath 118.284\n",
      "celebration_empath 118.348\n",
      "body_empath 118.52\n",
      "water_empath 118.78\n",
      "ugliness_empath 118.82\n",
      "medieval_empath 119.0\n",
      "trust_empath 119.528\n",
      "youth_empath 119.692\n",
      "pride_empath 119.772\n",
      "status length 120.992\n",
      "giving_empath 121.852\n",
      "night_empath 121.98\n",
      "sadness_empath 122.532\n",
      "phone_empath 122.74\n",
      "eating_empath 123.864\n",
      "military_empath 123.868\n",
      "cooking_empath 124.828\n",
      "cheerfulness_empath 125.108\n",
      "economics_empath 125.192\n",
      "play_empath 125.412\n",
      "gain_empath 125.5\n",
      "wealthy_empath 125.952\n",
      "internet_empath 126.572\n",
      "banking_empath 126.992\n",
      "number urls 128.492\n",
      "mentions 128.596\n",
      "help_empath 128.612\n",
      "healing_empath 128.66\n",
      "religion_empath 128.864\n",
      "urban_empath 129.024\n",
      "exercise_empath 129.456\n",
      "affection_empath 130.356\n",
      "order_empath 130.4\n",
      "alcohol_empath 131.028\n",
      "negative_emotion_empath 131.604\n",
      "quote number 131.9\n",
      "philosophy_empath 133.028\n",
      "blue_collar_job_empath 133.692\n",
      "smell_empath 134.488\n",
      "prison_empath 136.9\n",
      "science_empath 138.18\n",
      "monster_empath 139.72\n",
      "followees_count 140.912\n",
      "sound_empath 141.172\n",
      "hygiene_empath 141.212\n",
      "clothing_empath 142.428\n",
      "weather_empath 142.436\n",
      "restaurant_empath 142.74\n",
      "office_empath 142.78\n",
      "love_empath 143.38\n",
      "terrorism_empath 151.904\n",
      "subjectivity 152.044\n",
      "payment_empath 152.34\n",
      "envy_empath 153.336\n",
      "ship_empath 153.84\n",
      "wedding_empath 154.76\n",
      "masculine_empath 154.972\n",
      "leisure_empath 160.056\n",
      "beach_empath 162.004\n",
      "work_empath 167.516\n",
      "aggression_empath 167.916\n",
      "superhero_empath 168.212\n",
      "rural_empath 169.252\n"
     ]
    }
   ],
   "source": [
    "from collections import defaultdict\n",
    "\n",
    "average_feature_rank = defaultdict(int)\n",
    "for i in node_importance_rank[:250]:\n",
    "    feature_rank = list(feature_names[np.argsort(node_feature_importance[i])[::-1]])\n",
    "    for j in range(len(feature_rank)):\n",
    "        average_feature_rank[feature_rank[j]] += feature_rank.index(feature_rank[j])\n",
    "for k in average_feature_rank.keys():\n",
    "    average_feature_rank[k] /= 250.0\n",
    "sorted_avg_feature_rank = sorted(average_feature_rank.items(), key=lambda a: a[1])\n",
    "for feat, avg_rank in sorted_avg_feature_rank:\n",
    "    print(feat, avg_rank)"
   ]
  },
  {
   "cell_type": "markdown",
   "metadata": {},
   "source": [
    "It seems for our target node, topics relevant to cleaning, hipster, etc. are important while those such as leaisure, ship, goverment, etc. are not important."
   ]
  },
  {
   "cell_type": "markdown",
   "metadata": {},
   "source": [
    "We then calculate the link importance for the edges that are connected to the target node within k hops (k = 2 for our GCN model)."
   ]
  },
  {
   "cell_type": "code",
   "execution_count": 47,
   "metadata": {},
   "outputs": [],
   "source": [
    "link_importance = int_saliency.get_integrated_link_masks(target_idx, 0, steps=2)"
   ]
  },
  {
   "cell_type": "code",
   "execution_count": 48,
   "metadata": {},
   "outputs": [
    {
     "name": "stdout",
     "output_type": "stream",
     "text": [
      "(1, 4289572, 2) (1, 4289572)\n"
     ]
    }
   ],
   "source": [
    "(x, y) = link_importance.nonzero()\n",
    "[X, all_targets, A_index, A], y_true_all = all_gen[0]\n",
    "print(A_index.shape, A.shape)\n",
    "G_edge_indices = [(A_index[0, k, 0], A_index[0, k, 1]) for k in range(A_index.shape[1])]\n",
    "link_dict = {(A_index[0, k, 0], A_index[0, k, 1]): k for k in range(A_index.shape[1])}"
   ]
  },
  {
   "cell_type": "markdown",
   "metadata": {},
   "source": [
    "As a sanity check, we expect the most important edge to connect important nodes."
   ]
  },
  {
   "cell_type": "code",
   "execution_count": 49,
   "metadata": {},
   "outputs": [
    {
     "name": "stdout",
     "output_type": "stream",
     "text": [
      "There are 18278 edges within the ego graph of the target node\n",
      "The most important edge connects 13-th important node and 8-th important node\n"
     ]
    }
   ],
   "source": [
    "nonzero_importance_val = link_importance[(x, y)].flatten().tolist()[0]\n",
    "link_importance_rank = np.argsort(nonzero_importance_val)[::-1]\n",
    "edge_number_in_ego_graph = link_importance_rank.shape[0]\n",
    "print(\n",
    "    \"There are {} edges within the ego graph of the target node\".format(\n",
    "        edge_number_in_ego_graph\n",
    "    )\n",
    ")\n",
    "x_rank, y_rank = x[link_importance_rank], y[link_importance_rank]\n",
    "print(\n",
    "    \"The most important edge connects {}-th important node and {}-th important node\".format(\n",
    "        node_importance_rank.tolist().index(x_rank[0]),\n",
    "        (node_importance_rank.tolist().index(y_rank[0])),\n",
    "    )\n",
    ")"
   ]
  },
  {
   "cell_type": "markdown",
   "metadata": {},
   "source": [
    "To ensure that we are getting the correct importance for edges, we then check what happens if we perturb the top-10 most important edges. Specifically, if we remove the top important edges according to the calculated edge importance scores, we should expect to see the prediction of the target node change. "
   ]
  },
  {
   "cell_type": "code",
   "execution_count": 50,
   "metadata": {
    "scrolled": true
   },
   "outputs": [
    {
     "name": "stdout",
     "output_type": "stream",
     "text": [
      "A_perturb.shape = (1, 4289572)\n"
     ]
    }
   ],
   "source": [
    "from copy import deepcopy\n",
    "\n",
    "selected_nodes = np.array([[target_idx]], dtype=\"int32\")\n",
    "prediction_clean = model.predict([X, selected_nodes, A_index, A]).squeeze()\n",
    "A_perturb = deepcopy(A)\n",
    "print(\"A_perturb.shape = {}\".format(A_perturb.shape))\n",
    "# we remove top 1% important edges in the graph and see how the prediction changes\n",
    "topk = int(edge_number_in_ego_graph * 0.01)\n",
    "\n",
    "for i in range(topk):\n",
    "    edge_x, edge_y = x_rank[i], y_rank[i]\n",
    "    edge_index = link_dict[(edge_x, edge_y)]\n",
    "    A_perturb[0, edge_index] = 0"
   ]
  },
  {
   "cell_type": "markdown",
   "metadata": {},
   "source": [
    "As expected, the prediction score drops after the perturbation. The target node is predicted as non-hateful now."
   ]
  },
  {
   "cell_type": "code",
   "execution_count": 51,
   "metadata": {},
   "outputs": [
    {
     "name": "stdout",
     "output_type": "stream",
     "text": [
      "The prediction score changes from 0.9953694939613342 to 0.3508641719818115 after the perturbation\n"
     ]
    }
   ],
   "source": [
    "prediction = model.predict([X, selected_nodes, A_index, A_perturb]).squeeze()\n",
    "print(\n",
    "    \"The prediction score changes from {} to {} after the perturbation\".format(\n",
    "        prediction_clean, prediction\n",
    "    )\n",
    ")"
   ]
  },
  {
   "cell_type": "markdown",
   "metadata": {},
   "source": [
    "NOTES: For UX team, the above notebook shows how we are able to compute the importance of nodes and edges. However, it seems the ego graph of the target node in twitter dataset is often very big so that we may draw only top important nodes/edges on the visualization. "
   ]
  },
  {
   "cell_type": "code",
   "execution_count": 52,
   "metadata": {},
   "outputs": [],
   "source": []
  }
 ],
 "metadata": {
  "kernelspec": {
   "display_name": "Python 3",
   "language": "python",
   "name": "python3"
  },
  "language_info": {
   "codemirror_mode": {
    "name": "ipython",
    "version": 3
   },
   "file_extension": ".py",
   "mimetype": "text/x-python",
   "name": "python",
   "nbconvert_exporter": "python",
   "pygments_lexer": "ipython3",
   "version": "3.6.9"
  }
 },
 "nbformat": 4,
 "nbformat_minor": 2
}
