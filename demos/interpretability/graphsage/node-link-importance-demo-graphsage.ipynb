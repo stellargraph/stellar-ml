{
 "cells": [
  {
   "cell_type": "markdown",
   "source": [
    "This demo shows how to use integrated gradients in graph convolutional networks to obtain accurate importance estimations for both the nodes and edges. The notebook consists of three parts:\n",
    "- setting up the node classification problem for Cora citation network\n",
    "- training and evaluating a GraphSAGE model for node classification\n",
    "- calculating node and edge importances for model's predictions of query (\"target\") nodes\n",
    "\n",
    "<a name=\"refs\"></a>\n",
    "**References**\n",
    "\n",
    "[1] Axiomatic Attribution for Deep Networks. M. Sundararajan, A. Taly, and Q. Yan.\n",
    "    Proceedings of the 34th International Conference on Machine Learning, Sydney, Australia, PMLR 70, 2017\n",
    "    ([link](https://arxiv.org/pdf/1703.01365.pdf)).\n",
    "    \n",
    "[2] Adversarial Examples on Graph Data: Deep Insights into Attack and Defense. H. Wu, C. Wang, Y. Tyshetskiy, A. Docherty, K. Lu, and L. Zhu. arXiv: 1903.01610 ([link](https://arxiv.org/abs/1903.01610))."
   ],
   "metadata": {
    "collapsed": false
   }
  },
  {
   "cell_type": "markdown",
   "source": [
    "Import NetworkX and stellar:"
   ],
   "metadata": {
    "collapsed": false
   }
  },
  {
   "cell_type": "code",
   "execution_count": 1,
   "outputs": [],
   "source": [
    "import networkx as nx\n",
    "import pandas as pd\n",
    "import os\n",
    "import numpy as np\n",
    "import stellargraph as sg\n",
    "from stellargraph.mapper import GraphSAGENodeGenerator\n",
    "from stellargraph.layer import GraphSAGE\n",
    "from copy import deepcopy\n",
    "\n",
    "from tensorflow.keras import backend as K\n",
    "from tensorflow.keras import layers, optimizers, losses, metrics, Model\n",
    "from sklearn import preprocessing, feature_extraction, model_selection"
   ],
   "metadata": {
    "collapsed": false,
    "pycharm": {
     "name": "#%%\n",
     "is_executing": false
    }
   }
  },
  {
   "cell_type": "markdown",
   "source": [
    "### Loading the CORA network"
   ],
   "metadata": {
    "collapsed": false
   }
  },
  {
   "cell_type": "markdown",
   "source": [
    "**Downloading the CORA dataset:**\n",
    "    \n",
    "The dataset used in this demo can be downloaded from [here](https://linqs-data.soe.ucsc.edu/public/lbc/cora.tgz).\n",
    "\n",
    "The following is the description of the dataset:\n",
    "> The Cora dataset consists of 2708 scientific publications classified into one of seven classes.\n",
    "> The citation network consists of 5429 links. Each publication in the dataset is described by a\n",
    "> 0/1-valued word vector indicating the absence/presence of the corresponding word from the dictionary.\n",
    "> The dictionary consists of 1433 unique words. The README file in the dataset provides more details.\n",
    "\n",
    "Download and unzip the cora.tgz file to a location on your computer and set the `data_dir` variable to\n",
    "point to the location of the dataset (the directory containing \"cora.cites\" and \"cora.content\")."
   ],
   "metadata": {
    "collapsed": false
   }
  },
  {
   "cell_type": "code",
   "execution_count": 2,
   "outputs": [],
   "source": [
    "data_dir = os.path.expanduser(\"~/data/cora\")"
   ],
   "metadata": {
    "collapsed": false,
    "pycharm": {
     "name": "#%%\n",
     "is_executing": false
    }
   }
  },
  {
   "cell_type": "markdown",
   "source": [
    "Load the graph from edgelist (in `cited-paper` <- `citing-paper` order)"
   ],
   "metadata": {
    "collapsed": false
   }
  },
  {
   "cell_type": "code",
   "execution_count": 3,
   "outputs": [],
   "source": [
    "edgelist = pd.read_csv(os.path.join(data_dir, \"cora.cites\"), sep='\\t', header=None, names=[\"target\", \"source\"])\n",
    "edgelist[\"label\"] = \"cites\""
   ],
   "metadata": {
    "collapsed": false,
    "pycharm": {
     "name": "#%%\n",
     "is_executing": false
    }
   }
  },
  {
   "cell_type": "code",
   "execution_count": 4,
   "outputs": [],
   "source": [
    "Gnx = nx.from_pandas_edgelist(edgelist, edge_attr=\"label\")"
   ],
   "metadata": {
    "collapsed": false,
    "pycharm": {
     "name": "#%%\n",
     "is_executing": false
    }
   }
  },
  {
   "cell_type": "code",
   "execution_count": 5,
   "outputs": [],
   "source": [
    "nx.set_node_attributes(Gnx, \"paper\", \"label\")"
   ],
   "metadata": {
    "collapsed": false,
    "pycharm": {
     "name": "#%%\n",
     "is_executing": false
    }
   }
  },
  {
   "cell_type": "markdown",
   "source": [
    "Load the features and subject for the nodes"
   ],
   "metadata": {
    "collapsed": false
   }
  },
  {
   "cell_type": "code",
   "execution_count": 6,
   "outputs": [],
   "source": [
    "feature_names = [\"w_{}\".format(ii) for ii in range(1433)]\n",
    "column_names =  feature_names + [\"subject\"]\n",
    "node_data = pd.read_csv(os.path.join(data_dir, \"cora.content\"), sep='\\t', header=None, names=column_names)"
   ],
   "metadata": {
    "collapsed": false,
    "pycharm": {
     "name": "#%%\n",
     "is_executing": false
    }
   }
  },
  {
   "cell_type": "markdown",
   "source": [
    "The adjacency matrix is ordered by the graph nodes from G.nodes(). To make computations easier, let's reindex the node data to maintain the same ordering."
   ],
   "metadata": {
    "collapsed": false
   }
  },
  {
   "cell_type": "code",
   "execution_count": 7,
   "outputs": [],
   "source": [
    "graph_nodes = list(Gnx.nodes())\n",
    "node_data = node_data.loc[graph_nodes]"
   ],
   "metadata": {
    "collapsed": false,
    "pycharm": {
     "name": "#%%\n",
     "is_executing": false
    }
   }
  },
  {
   "cell_type": "markdown",
   "source": [
    "We aim to train a graph-ML model that will predict the \"subject\" attribute on the nodes. These subjects are one of 7 categories:"
   ],
   "metadata": {
    "collapsed": false
   }
  },
  {
   "cell_type": "code",
   "execution_count": 8,
   "outputs": [
    {
     "data": {
      "text/plain": "{'Case_Based',\n 'Genetic_Algorithms',\n 'Neural_Networks',\n 'Probabilistic_Methods',\n 'Reinforcement_Learning',\n 'Rule_Learning',\n 'Theory'}"
     },
     "metadata": {},
     "output_type": "execute_result",
     "execution_count": 8
    }
   ],
   "source": [
    "set(node_data[\"subject\"])"
   ],
   "metadata": {
    "collapsed": false,
    "pycharm": {
     "name": "#%%\n",
     "is_executing": false
    }
   }
  },
  {
   "cell_type": "markdown",
   "source": [
    "### Splitting the data"
   ],
   "metadata": {
    "collapsed": false
   }
  },
  {
   "cell_type": "markdown",
   "source": [
    "For machine learning we want to take a subset of the nodes for training, and use the rest for testing. We'll use scikit-learn again to do this"
   ],
   "metadata": {
    "collapsed": false
   }
  },
  {
   "cell_type": "code",
   "execution_count": 9,
   "outputs": [],
   "source": [
    "train_data, test_data = model_selection.train_test_split(node_data, train_size=0.1, test_size=None, stratify=node_data['subject'])"
   ],
   "metadata": {
    "collapsed": false,
    "pycharm": {
     "name": "#%%\n",
     "is_executing": false
    }
   }
  },
  {
   "cell_type": "markdown",
   "source": [
    "Note using stratified sampling gives the following counts:"
   ],
   "metadata": {
    "collapsed": false
   }
  },
  {
   "cell_type": "code",
   "execution_count": 10,
   "outputs": [
    {
     "data": {
      "text/plain": "Counter({'Neural_Networks': 81,\n         'Probabilistic_Methods': 42,\n         'Genetic_Algorithms': 42,\n         'Reinforcement_Learning': 22,\n         'Rule_Learning': 18,\n         'Case_Based': 30,\n         'Theory': 35})"
     },
     "metadata": {},
     "output_type": "execute_result",
     "execution_count": 10
    }
   ],
   "source": [
    "from collections import Counter\n",
    "Counter(train_data['subject'])"
   ],
   "metadata": {
    "collapsed": false,
    "pycharm": {
     "name": "#%%\n",
     "is_executing": false
    }
   }
  },
  {
   "cell_type": "markdown",
   "source": [
    "The training set has class imbalance that might need to be compensated, e.g., via using a weighted cross-entropy loss in model training, with class weights inversely proportional to class support. However, we will ignore the class imbalance in this example, for simplicity."
   ],
   "metadata": {
    "collapsed": false
   }
  },
  {
   "cell_type": "markdown",
   "source": [
    "### Converting to numeric arrays"
   ],
   "metadata": {
    "collapsed": false
   }
  },
  {
   "cell_type": "markdown",
   "source": [
    "For our categorical target, we will use one-hot vectors that will be fed into a soft-max Keras layer during training. To do this conversion ..."
   ],
   "metadata": {
    "collapsed": false
   }
  },
  {
   "cell_type": "code",
   "execution_count": 11,
   "outputs": [],
   "source": [
    "target_encoding = feature_extraction.DictVectorizer(sparse=False)\n",
    "\n",
    "train_targets = target_encoding.fit_transform(train_data[[\"subject\"]].to_dict('records'))\n",
    "test_targets = target_encoding.transform(test_data[[\"subject\"]].to_dict('records'))\n",
    "all_targets = target_encoding.transform(\n",
    "        node_data[[\"subject\"]].to_dict(\"records\")\n",
    "    )"
   ],
   "metadata": {
    "collapsed": false,
    "pycharm": {
     "name": "#%%\n",
     "is_executing": false
    }
   }
  },
  {
   "cell_type": "markdown",
   "source": [
    "We now do the same for the node attributes we want to use to predict the subject. These are the feature vectors that the Keras model will use as input. The CORA dataset contains attributes 'w_x' that correspond to words found in that publication. If a word occurs more than once in a publication the relevant attribute will be set to one, otherwise it will be zero."
   ],
   "metadata": {
    "collapsed": false
   }
  },
  {
   "cell_type": "code",
   "execution_count": 12,
   "outputs": [],
   "source": [
    "node_features = node_data[feature_names]"
   ],
   "metadata": {
    "collapsed": false,
    "pycharm": {
     "name": "#%%\n",
     "is_executing": false
    }
   }
  },
  {
   "cell_type": "markdown",
   "source": [
    "## Creating the GraphSAGE model in Keras"
   ],
   "metadata": {
    "collapsed": false
   }
  },
  {
   "cell_type": "markdown",
   "source": [
    "Now create a StellarGraph object from the NetworkX graph and the node features and targets. It is StellarGraph objects that we use in this library to perform machine learning tasks on."
   ],
   "metadata": {
    "collapsed": false
   }
  },
  {
   "cell_type": "code",
   "execution_count": 13,
   "outputs": [],
   "source": [
    "G = sg.StellarGraph(Gnx, node_features=node_features)"
   ],
   "metadata": {
    "collapsed": false,
    "pycharm": {
     "name": "#%%\n",
     "is_executing": false
    }
   }
  },
  {
   "cell_type": "code",
   "execution_count": 14,
   "outputs": [
    {
     "name": "stdout",
     "text": [
      "StellarGraph: Undirected multigraph\n Nodes: 2708, Edges: 5278\n\n Node types:\n  paper: [2708]\n    Edge types: paper-cites->paper\n\n Edge types:\n    paper-cites->paper: [5278]\n\n"
     ],
     "output_type": "stream"
    }
   ],
   "source": [
    "print(G.info())"
   ],
   "metadata": {
    "collapsed": false,
    "pycharm": {
     "name": "#%%\n",
     "is_executing": false
    }
   }
  },
  {
   "cell_type": "markdown",
   "source": [
    "To feed data from the graph to the Keras model we need a data generator that feeds data from the graph to the model. The generators are specialized to the model and the learning task so we choose the `GraphSAGENodeGenerator` as we are predicting node attributes with a GraphSAGE model.\n",
    "\n",
    "We need two other parameters, the `batch_size` to use for training and the number of nodes to sample at each level of the model. Here we choose a two-level model with 10 nodes sampled in the first layer, and 5 in the second."
   ],
   "metadata": {
    "collapsed": false
   }
  },
  {
   "cell_type": "code",
   "execution_count": 15,
   "outputs": [],
   "source": [
    "batch_size = 20; num_samples = [10, 5]"
   ],
   "metadata": {
    "collapsed": false,
    "pycharm": {
     "name": "#%%\n",
     "is_executing": false
    }
   }
  },
  {
   "cell_type": "markdown",
   "source": [
    "A `GraphSAGENodeGenerator` object is required to send the node features in sampled subgraphs to Keras"
   ],
   "metadata": {
    "collapsed": false
   }
  },
  {
   "cell_type": "code",
   "execution_count": 16,
   "outputs": [],
   "source": [
    "generator = GraphSAGENodeGenerator(G, batch_size, num_samples)"
   ],
   "metadata": {
    "collapsed": false,
    "pycharm": {
     "name": "#%%\n",
     "is_executing": false
    }
   }
  },
  {
   "cell_type": "markdown",
   "source": [
    "Using the `generator.flow()` method, we can create iterators over nodes that should be used to train, validate, or evaluate the model. For training we use only the training nodes returned from our splitter and the target values. The `shuffle=True` argument is given to the `flow` method to improve training."
   ],
   "metadata": {
    "collapsed": false
   }
  },
  {
   "cell_type": "code",
   "execution_count": 17,
   "outputs": [],
   "source": [
    "train_gen = generator.flow(train_data.index, train_targets, shuffle=True)\n",
    "test_gen = generator.flow(test_data.index, test_targets)\n",
    "all_gen = generator.flow(graph_nodes)"
   ],
   "metadata": {
    "collapsed": false,
    "pycharm": {
     "name": "#%%\n",
     "is_executing": false
    }
   }
  },
  {
   "cell_type": "markdown",
   "source": [
    "Now we can specify our machine learning model, we need a few more parameters for this:\n",
    "\n",
    " * the `layer_sizes` is a list of hidden feature sizes of each layer in the model. In this example we use 32-dimensional hidden node features at each layer.\n",
    " * The `bias` and `dropout` are internal parameters of the model. "
   ],
   "metadata": {
    "collapsed": false
   }
  },
  {
   "cell_type": "code",
   "execution_count": 18,
   "outputs": [
    {
     "name": "stdout",
     "text": [
      "WARNING:tensorflow:From /home/wuxugang/anaconda3/envs/tensorflow-1.8/lib/python3.6/site-packages/tensorflow/python/ops/init_ops.py:1251: calling VarianceScaling.__init__ (from tensorflow.python.ops.init_ops) with dtype is deprecated and will be removed in a future version.\nInstructions for updating:\nCall initializer instance with the dtype argument instead of passing it to the constructor\n"
     ],
     "output_type": "stream"
    }
   ],
   "source": [
    "graphsage_model = GraphSAGE(\n",
    "    layer_sizes=[32, 32],\n",
    "    generator=generator,\n",
    "    bias=True,\n",
    "    dropout=0.5,\n",
    ")"
   ],
   "metadata": {
    "collapsed": false,
    "pycharm": {
     "name": "#%%\n",
     "is_executing": false
    }
   }
  },
  {
   "cell_type": "markdown",
   "source": [
    "Now we create a model to predict the 7 categories using Keras softmax layers."
   ],
   "metadata": {
    "collapsed": false
   }
  },
  {
   "cell_type": "code",
   "execution_count": 19,
   "outputs": [],
   "source": [
    "x_inp, x_out = graphsage_model.build()\n",
    "prediction = layers.Dense(units=train_targets.shape[1], activation=\"softmax\")(x_out)"
   ],
   "metadata": {
    "collapsed": false,
    "pycharm": {
     "name": "#%%\n",
     "is_executing": false
    }
   }
  },
  {
   "cell_type": "markdown",
   "source": [
    "### Training the model"
   ],
   "metadata": {
    "collapsed": false
   }
  },
  {
   "cell_type": "markdown",
   "source": [
    "Now let's create the actual Keras model with the graph inputs `x_inp` provided by the `graph_model` and outputs being the predictions from the softmax layer"
   ],
   "metadata": {
    "collapsed": false
   }
  },
  {
   "cell_type": "code",
   "execution_count": 20,
   "outputs": [],
   "source": [
    "model = Model(inputs=x_inp, outputs=prediction)\n",
    "model.compile(\n",
    "    optimizer=optimizers.Adam(lr=0.005),\n",
    "    loss=losses.categorical_crossentropy,\n",
    "    metrics=[\"acc\"],\n",
    ")"
   ],
   "metadata": {
    "collapsed": false,
    "pycharm": {
     "name": "#%%\n",
     "is_executing": false
    }
   }
  },
  {
   "cell_type": "markdown",
   "source": [
    "Train the model, keeping track of its loss and accuracy on the training set, and its generalisation performance on the test set (we need to create another generator over the test data for this)"
   ],
   "metadata": {
    "collapsed": false
   }
  },
  {
   "cell_type": "code",
   "execution_count": 21,
   "outputs": [
    {
     "name": "stdout",
     "text": [
      "Epoch 1/10\nWARNING:tensorflow:From /home/wuxugang/anaconda3/envs/tensorflow-1.8/lib/python3.6/site-packages/tensorflow/python/ops/math_grad.py:1250: add_dispatch_support.<locals>.wrapper (from tensorflow.python.ops.array_ops) is deprecated and will be removed in a future version.\nInstructions for updating:\nUse tf.where in 2.0, which has the same broadcast rule as np.where\n",
      "14/14 - 2s - loss: 1.8840 - acc: 0.2481 - val_loss: 1.6702 - val_acc: 0.3737\n",
      "Epoch 2/10\n",
      "14/14 - 2s - loss: 1.5536 - acc: 0.5333 - val_loss: 1.4387 - val_acc: 0.6066\n",
      "Epoch 3/10\n",
      "14/14 - 2s - loss: 1.3083 - acc: 0.7000 - val_loss: 1.2217 - val_acc: 0.6661\n",
      "Epoch 4/10\n",
      "14/14 - 2s - loss: 1.0640 - acc: 0.8222 - val_loss: 1.0581 - val_acc: 0.7063\n",
      "Epoch 5/10\n",
      "14/14 - 2s - loss: 0.8752 - acc: 0.8593 - val_loss: 0.9296 - val_acc: 0.7830\n",
      "Epoch 6/10\n",
      "14/14 - 2s - loss: 0.7103 - acc: 0.9370 - val_loss: 0.8355 - val_acc: 0.7953\n",
      "Epoch 7/10\n",
      "14/14 - 2s - loss: 0.5759 - acc: 0.9704 - val_loss: 0.7713 - val_acc: 0.8060\n",
      "Epoch 8/10\n",
      "14/14 - 2s - loss: 0.4962 - acc: 0.9556 - val_loss: 0.7277 - val_acc: 0.8048\n",
      "Epoch 9/10\n",
      "14/14 - 2s - loss: 0.3816 - acc: 0.9963 - val_loss: 0.6990 - val_acc: 0.8076\n",
      "Epoch 10/10\n",
      "14/14 - 2s - loss: 0.3321 - acc: 0.9926 - val_loss: 0.6855 - val_acc: 0.7990\n"
     ],
     "output_type": "stream"
    }
   ],
   "source": [
    "history = model.fit_generator(\n",
    "    train_gen,\n",
    "    epochs=10,\n",
    "    validation_data=test_gen,\n",
    "    verbose=2,\n",
    "    shuffle=False\n",
    ")"
   ],
   "metadata": {
    "collapsed": false,
    "pycharm": {
     "name": "#%%\n",
     "is_executing": false
    }
   }
  },
  {
   "cell_type": "code",
   "execution_count": 22,
   "outputs": [],
   "source": [
    "import matplotlib.pyplot as plt\n",
    "%matplotlib inline\n",
    "\n",
    "def plot_history(history):\n",
    "    metrics = sorted(history.history.keys())\n",
    "    metrics = metrics[:len(metrics)//2]\n",
    "    for m in metrics:\n",
    "        # summarize history for metric m\n",
    "        plt.plot(history.history[m])\n",
    "        plt.plot(history.history['val_' + m])\n",
    "        plt.title(m)\n",
    "        plt.ylabel(m)\n",
    "        plt.xlabel('epoch')\n",
    "        plt.legend(['train', 'test'], loc='best')\n",
    "        plt.show()"
   ],
   "metadata": {
    "collapsed": false,
    "pycharm": {
     "name": "#%%\n",
     "is_executing": false
    }
   }
  },
  {
   "cell_type": "code",
   "execution_count": 23,
   "outputs": [
    {
     "data": {
      "text/plain": "<Figure size 432x288 with 1 Axes>",
      "image/png": "[encoded data removed]"
     },
     "metadata": {
      "needs_background": "light"
     },
     "output_type": "display_data"
    },
    {
     "data": {
      "text/plain": "<Figure size 432x288 with 1 Axes>",
      "image/png": "[encoded data removed]"
     },
     "metadata": {
      "needs_background": "light"
     },
     "output_type": "display_data"
    }
   ],
   "source": [
    "plot_history(history)"
   ],
   "metadata": {
    "collapsed": false,
    "pycharm": {
     "name": "#%%\n",
     "is_executing": false
    }
   }
  },
  {
   "cell_type": "markdown",
   "source": [
    "Now we have trained the model we can evaluate on the test set."
   ],
   "metadata": {
    "collapsed": false
   }
  },
  {
   "cell_type": "code",
   "execution_count": 24,
   "outputs": [
    {
     "name": "stdout",
     "text": [
      "\nTest Set Metrics:\n\tloss: 0.6770\n\tacc: 0.8019\n"
     ],
     "output_type": "stream"
    }
   ],
   "source": [
    "test_metrics = model.evaluate_generator(test_gen)\n",
    "print(\"\\nTest Set Metrics:\")\n",
    "for name, val in zip(model.metrics_names, test_metrics):\n",
    "    print(\"\\t{}: {:0.4f}\".format(name, val))\n"
   ],
   "metadata": {
    "collapsed": false,
    "pycharm": {
     "name": "#%%\n",
     "is_executing": false
    }
   }
  },
  {
   "cell_type": "markdown",
   "source": [
    "# Node and link importance via saliency maps"
   ],
   "metadata": {
    "collapsed": false
   }
  },
  {
   "cell_type": "markdown",
   "source": [
    "Now we define the importances of node features, nodes, and links in the target node's neighbourhood (ego-net), and evaluate them using our library.\n",
    "\n",
    "Node feature importance: given a target node $t$ and the model's prediction of $t$'s class, for each node $v$ in its ego-net, feature importance of feature $f$ for node $v$ is defined as the change in the target node's predicted score $s(c)$ for the winning class $c$ if feature $f$ of node $v$ is perturbed.\n",
    "\n",
    "The overall node importance for node $v$ is defined here as the sum of all feature importances for node $v$, i.e., it is the amount by which the target node's predicted score $s(c)$ would change if we set all features of node $v$ to zeros.\n",
    "\n",
    "Link importance for link $e=(u, v)$ is defined as the change in target node $t$'s predicted score $s(c)$ if the link $e$ is removed from the graph. Links with high importance (positive or negative) affect the target node prediction more than links with low importance.\n",
    "\n",
    "Node and link importances can be used to assess the role of neighbour nodes and links in model's predictions for the node(s) of interest (the target nodes). For datasets like CORA-ML, the features and edges are binary, vanilla gradients may not perform well so we use integrated gradients to compute them (https://arxiv.org/pdf/1703.01365.pdf)."
   ],
   "metadata": {
    "collapsed": false
   }
  },
  {
   "cell_type": "code",
   "execution_count": 25,
   "outputs": [],
   "source": [
    "from stellargraph.utils.saliency_maps import IntegratedGradientsGSAGE\n",
    "from stellargraph.utils.saliency_maps import GradientSaliencyGSAGE"
   ],
   "metadata": {
    "collapsed": false,
    "pycharm": {
     "name": "#%%\n",
     "is_executing": false
    }
   }
  },
  {
   "cell_type": "markdown",
   "source": [
    "Select the target node whose prediction is to be interpreted"
   ],
   "metadata": {
    "collapsed": false
   }
  },
  {
   "cell_type": "code",
   "execution_count": 26,
   "outputs": [],
   "source": [
    "target_idx = 7   # index of the selected node in G.nodes()\n",
    "target_nid = graph_nodes[target_idx] # Node ID of the selected node\n",
    "y_true = all_targets[target_idx]  # true class of the target node"
   ],
   "metadata": {
    "collapsed": false,
    "pycharm": {
     "name": "#%%\n",
     "is_executing": false
    }
   }
  },
  {
   "cell_type": "code",
   "execution_count": 27,
   "outputs": [
    {
     "name": "stdout",
     "text": [
      "Selected node id: 1109199, \nTrue label: [0. 1. 0. 0. 0. 0. 0.], \nPredicted scores: [[0.02 0.81 0.03 0.02 0.06 0.02 0.03]]\n"
     ],
     "output_type": "stream"
    }
   ],
   "source": [
    "target_gen = generator.flow([graph_nodes[target_idx]])\n",
    "y_pred = model.predict_generator(target_gen)\n",
    "class_of_interest = np.argmax(y_pred)\n",
    "\n",
    "print(\"Selected node id: {}, \\nTrue label: {}, \\nPredicted scores: {}\".format(target_nid, y_true, y_pred.round(2)))"
   ],
   "metadata": {
    "collapsed": false,
    "pycharm": {
     "name": "#%%\n",
     "is_executing": false
    }
   }
  },
  {
   "cell_type": "markdown",
   "source": [
    "Test of generating random subgraph"
   ],
   "metadata": {
    "collapsed": false
   }
  },
  {
   "cell_type": "code",
   "execution_count": 28,
   "outputs": [],
   "source": [
    "sub_feat = []\n",
    "sub_node_idx = []\n",
    "for i in range(10):\n",
    "    ss = target_gen.__getitem__(0)\n",
    "    sub_feat.append(target_gen.batch_features)\n",
    "    sub_node_idx.append(target_gen.batch_nodes_indices)"
   ],
   "metadata": {
    "collapsed": false,
    "pycharm": {
     "name": "#%%\n",
     "is_executing": false
    }
   }
  },
  {
   "cell_type": "markdown",
   "source": [
    "Get the node feature importance by using integrated gradients"
   ],
   "metadata": {
    "collapsed": false
   }
  },
  {
   "cell_type": "code",
   "execution_count": 29,
   "outputs": [],
   "source": [
    "int_grad_saliency = IntegratedGradientsGSAGE(model, target_gen)\n",
    "saliency = GradientSaliencyGSAGE(model, target_gen)"
   ],
   "metadata": {
    "collapsed": false,
    "pycharm": {
     "name": "#%%\n",
     "is_executing": false
    }
   }
  },
  {
   "cell_type": "markdown",
   "source": [
    "Get the ego network of the target node."
   ],
   "metadata": {
    "collapsed": false
   }
  },
  {
   "cell_type": "code",
   "execution_count": 30,
   "outputs": [],
   "source": [
    "G_ego = nx.ego_graph(G, target_nid, radius=len(graphsage_model.layer_sizes))"
   ],
   "metadata": {
    "collapsed": false,
    "pycharm": {
     "name": "#%%\n",
     "is_executing": false
    }
   }
  },
  {
   "cell_type": "markdown",
   "source": [
    "Compute the node importance by expected integrated gradients."
   ],
   "metadata": {
    "collapsed": false
   }
  },
  {
   "cell_type": "code",
   "execution_count": 31,
   "outputs": [
    {
     "name": "stdout",
     "text": [
      "1\n",
      "integrated self-importance of target node 1109199: -0.01\n"
     ],
     "output_type": "stream"
    }
   ],
   "source": [
    "print(class_of_interest)\n",
    "integrated_node_importance = int_grad_saliency.expected_node_importance(class_of_interest, ig_steps=25, exp_steps=1000)\n",
    "print('integrated self-importance of target node {}: {}'.format(target_nid, integrated_node_importance[target_nid].round(2)))"
   ],
   "metadata": {
    "collapsed": false,
    "pycharm": {
     "name": "#%%\n",
     "is_executing": false
    }
   }
  },
  {
   "cell_type": "markdown",
   "source": [
    "Compute the link importance by expected integrated gradients."
   ],
   "metadata": {
    "collapsed": false
   }
  },
  {
   "cell_type": "code",
   "execution_count": 32,
   "outputs": [
    {
     "name": "stdout",
     "text": [
      "\nEgo net of target node 1109199 has 202 nodes\n\nEgo net of target node 1109199 has 401 edges\n"
     ],
     "output_type": "stream"
    }
   ],
   "source": [
    "integrated_link_importance = int_grad_saliency.expected_link_importance(class_of_interest, ig_steps=25, exp_steps=1000)\n",
    "print(\"\\nEgo net of target node {} has {} nodes\".format(target_nid, G_ego.number_of_nodes()))\n",
    "print(\"\\nEgo net of target node {} has {} edges\".format(target_nid, G_ego.number_of_edges()))"
   ],
   "metadata": {
    "collapsed": false,
    "pycharm": {
     "name": "#%%\n",
     "is_executing": false
    }
   }
  },
  {
   "cell_type": "markdown",
   "source": [
    "Get the ranks of the edge importance values."
   ],
   "metadata": {
    "collapsed": false
   }
  },
  {
   "cell_type": "code",
   "execution_count": 33,
   "outputs": [
    {
     "name": "stdout",
     "text": [
      "202\n207\n"
     ],
     "output_type": "stream"
    }
   ],
   "source": [
    "sorted_link_importance = sorted(integrated_link_importance.items(),key=lambda item:item[1], reverse=True)\n",
    "sorted_node_importance = sorted(integrated_node_importance.items(),key=lambda item:item[1], reverse=True)\n",
    "print(len(sorted_node_importance))\n",
    "print(len(sorted_link_importance))"
   ],
   "metadata": {
    "collapsed": false,
    "pycharm": {
     "name": "#%%\n",
     "is_executing": false
    }
   }
  },
  {
   "cell_type": "code",
   "execution_count": 34,
   "outputs": [
    {
     "name": "stdout",
     "text": [
      "Top 10 most important nodes by integrated gradients are [(35, 0.4695300442167372), (148170, 0.18428617572016975), (1128997, 0.10201407914464268), (1115886, 0.007586711392934454), (23258, 0.0053881708350280175), (579008, 0.0031322111012990765), (28447, 0.0028457756028459377), (646809, 0.0027612279790537528), (28851, 0.0027439833191063357), (787016, 0.0027431517659029844)]\nTop 10 most important links by integrated gradients are [((1109199, 35), 0.3408578998665814), ((1109199, 148170), 0.18181651315033925), ((148170, 35), 0.12477807888052363), ((148170, 1128997), 0.10426643071461086), ((6214, 1115886), 0.007422623786615731), ((6214, 23258), 0.005183445701445598), ((35, 579008), 0.00290923452291645), ((35, 646809), 0.0028194433700545057), ((6214, 28447), 0.0027577208110882213), ((35, 503883), 0.0027417325458140842)]\n"
     ],
     "output_type": "stream"
    }
   ],
   "source": [
    "topk = 10\n",
    "print('Top {} most important nodes by integrated gradients are {}'.format(topk, sorted_node_importance[:topk]))\n",
    "print('Top {} most important links by integrated gradients are {}'.format(topk, sorted_link_importance[:topk]))"
   ],
   "metadata": {
    "collapsed": false,
    "pycharm": {
     "name": "#%%\n",
     "is_executing": false
    }
   }
  },
  {
   "cell_type": "markdown",
   "source": [
    "In the following, we plot the link and node importance (computed by integrated gradients) of the nodes within the ego graph of the target node.\n",
    "\n",
    "For nodes, the shape of the node indicates the positive/negative importance the node has. 'round' nodes have positive importance while 'diamond' nodes have negative importance. The size of the node indicates the value of the importance, e.g., a large diamond node has higher negative importance.\n",
    "\n",
    "For links, the color of the link indicates the positive/negative importance the link has. 'red' links have positive importance while 'blue' links have negative importance. The width of the link indicates the value of the importance, e.g., a thicker blue link has higher negative importance."
   ],
   "metadata": {
    "collapsed": false
   }
  },
  {
   "cell_type": "code",
   "execution_count": 35,
   "outputs": [],
   "source": [
    "nx.set_node_attributes(G_ego, values={x[0]:{'subject': x[1]} for x in node_data['subject'].items()})"
   ],
   "metadata": {
    "collapsed": false,
    "pycharm": {
     "name": "#%%\n",
     "is_executing": false
    }
   }
  },
  {
   "cell_type": "code",
   "execution_count": 36,
   "outputs": [
    {
     "data": {
      "text/plain": "<Figure size 1080x720 with 2 Axes>",
      "image/png": "[encoded data removed]"
     },
     "metadata": {
      "needs_background": "light"
     },
     "output_type": "display_data"
    }
   ],
   "source": [
    "node_size_factor = 2e2\n",
    "link_width_factor = 10\n",
    "\n",
    "nodes = list(G_ego.nodes())\n",
    "colors = pd.DataFrame([v[1]['subject'] for v in G_ego.nodes(data=True)], \n",
    "                      index=nodes, columns=['subject'])\n",
    "colors = np.argmax(target_encoding.transform(colors.to_dict('records')), axis=1) + 1\n",
    "\n",
    "fig, ax = plt.subplots(1, 1, figsize=(15, 10));\n",
    "pos = nx.spring_layout(G_ego)\n",
    "# Draw ego as large and red\n",
    "node_sizes = [integrated_node_importance[k] for k in G_ego.nodes()]\n",
    "node_shapes = ['o' if integrated_node_importance[k] > 0\n",
    "               else 'd' for k in G_ego.nodes()]\n",
    "positive_colors, negative_colors = [], []\n",
    "positive_node_sizes, negative_node_sizes = [], []\n",
    "positive_nodes, negative_nodes = [], []\n",
    "#node_size_sclae is used for better visualization of nodes\n",
    "node_size_scale = node_size_factor/np.max(node_sizes)\n",
    "for k in range(len(node_shapes)):\n",
    "    if list(nodes)[k] == target_nid:\n",
    "        continue\n",
    "    if node_shapes[k] == 'o':\n",
    "        positive_colors.append(colors[k])\n",
    "        positive_nodes.append(list(nodes)[k])\n",
    "        positive_node_sizes.append(node_size_scale*node_sizes[k])\n",
    "\n",
    "    else:\n",
    "        negative_colors.append(colors[k])\n",
    "        negative_nodes.append(list(nodes)[k])\n",
    "        negative_node_sizes.append(node_size_scale*abs(node_sizes[k]))\n",
    "\n",
    "cmap = plt.get_cmap('jet', np.max(colors)-np.min(colors)+1)\n",
    "nc = nx.draw_networkx_nodes(G_ego, pos, nodelist=positive_nodes, \n",
    "                            node_color=positive_colors, cmap=cmap, \n",
    "                            node_size=positive_node_sizes, with_labels=False,\n",
    "                           vmin=np.min(colors)-0.5, vmax=np.max(colors)+0.5, node_shape='o')\n",
    "nc = nx.draw_networkx_nodes(G_ego, pos, nodelist=negative_nodes, \n",
    "                            node_color=negative_colors, cmap=cmap, \n",
    "                            node_size=negative_node_sizes, with_labels=False,\n",
    "                           vmin=np.min(colors)-0.5, vmax=np.max(colors)+0.5, node_shape='d')\n",
    "# Draw the target node as a large star colored by its true subject\n",
    "nx.draw_networkx_nodes(G_ego, pos, nodelist=[target_nid], \n",
    "                       node_size=50*abs(node_sizes[nodes.index(target_nid)]), node_shape='*',\n",
    "                       node_color=[colors[nodes.index(target_nid)]], \n",
    "                       cmap=cmap, vmin=np.min(colors)-0.5, vmax=np.max(colors)+0.5, label=\"Target\")\n",
    "\n",
    "edges = G_ego.edges()\n",
    "# link_width_scale is used for better visualization of links\n",
    "weights = np.array([integrated_link_importance.get((u,v),0) \n",
    "                    for u,v in edges])\n",
    "weights += np.array([integrated_link_importance.get((v,u),0) for u,v in edges])\n",
    "weights = weights.tolist()\n",
    "\n",
    "link_width_scale = link_width_factor/np.max(weights)\n",
    "edge_colors = ['red' if weights[i] > 0 else 'blue' for i in range(len(weights))]\n",
    "\n",
    "ec = nx.draw_networkx_edges(G_ego, pos, edge_color=edge_colors, \n",
    "                            width = [link_width_scale*w for w in weights])\n",
    "plt.legend()\n",
    "plt.colorbar(nc, ticks=np.arange(np.min(colors),np.max(colors)+1))\n",
    "plt.axis('off')\n",
    "plt.show()"
   ],
   "metadata": {
    "collapsed": false,
    "pycharm": {
     "name": "#%%\n",
     "is_executing": false
    }
   }
  },
  {
   "cell_type": "markdown",
   "source": [
    "We then remove the node or edge in the ego graph one by one and check how the prediction changes. By doing so, we can obtain the ground truth importance of the nodes and edges. Comparing the following figure and the above one can show the effectiveness of integrated gradients as the importance approximations are relatively consistent with the ground truth."
   ],
   "metadata": {
    "collapsed": false
   }
  },
  {
   "cell_type": "code",
   "execution_count": 37,
   "outputs": [],
   "source": [
    "nodes = list(G_ego.nodes())\n",
    "edges = list(G_ego.edges())\n",
    "# selected_nodes = np.array([[target_idx]], dtype='int32')\n",
    "from collections import Counter\n",
    "ground_truth_edge_importance_counter = Counter()\n",
    "ground_truth_node_importance_counter = Counter()\n",
    "\n",
    "expected_steps = 1000\n",
    "### first we compute ground truth node importance\n",
    "for step in range(expected_steps):\n",
    "    X, _ = target_gen[0]\n",
    "    node_indices = target_gen.batch_nodes_indices\n",
    "    clean_prediction = model.predict(X).squeeze()\n",
    "    predict_label = np.argmax(clean_prediction)\n",
    "    X_bk = deepcopy(X)\n",
    "    for layer_index in range(len(X)):\n",
    "        for neighbour_index in range(X[layer_index].shape[1]):\n",
    "            X_perturb  = deepcopy(X_bk)\n",
    "            #we set all the features of the node to zero to check the ground truth node importance.\n",
    "            X_perturb [layer_index][0, neighbour_index, :] = 0\n",
    "            node_index = node_indices[layer_index][0, neighbour_index]\n",
    "            predict_after_perturb = model.predict(X_perturb).squeeze()\n",
    "            prediction_change = clean_prediction[predict_label] - predict_after_perturb[predict_label]\n",
    "            ground_truth_node_importance_counter.update(Counter({node_index: prediction_change}))\n",
    "for i in ground_truth_node_importance_counter.keys():\n",
    "    ground_truth_node_importance_counter[i] /= expected_steps\n",
    "    \n",
    "node_shapes = ['o' if ground_truth_node_importance_counter[k] > 0 else 'd' for k in G_ego.nodes()]\n",
    "ground_truth_node_importance = [ground_truth_node_importance_counter[k] for k in G_ego.nodes()]\n",
    "positive_colors, negative_colors = [], []\n",
    "positive_node_sizes, negative_node_sizes = [], []\n",
    "positive_nodes, negative_nodes = [], []\n",
    "#node_size_scale is used for better visulization of nodes\n",
    "node_size_scale = node_size_factor/max(ground_truth_node_importance)\n",
    "\n",
    "for k in range(len(node_shapes)):\n",
    "    if nodes[k] == target_nid:\n",
    "        continue\n",
    "    if node_shapes[k] == 'o':\n",
    "        positive_colors.append(colors[k])\n",
    "        positive_nodes.append(nodes[k])\n",
    "        positive_node_sizes.append(node_size_scale*ground_truth_node_importance[k])\n",
    "    else:\n",
    "        negative_colors.append(colors[k])\n",
    "        negative_nodes.append(nodes[k])\n",
    "        negative_node_sizes.append(node_size_scale*abs(ground_truth_node_importance[k]))\n",
    "X = deepcopy(X_bk)\n",
    "\n",
    "# link_gen is used to generating link_ids according to node_ids info of the generator\n",
    "def link_gen(generator):\n",
    "    link_list = []\n",
    "    node_list = generator.batch_nodes_indices\n",
    "    num_samples = generator.num_samples\n",
    "    link_list.append([(int(node_list[0][0,0]),int(node_list[0][0,0]))])\n",
    "    for i in range(len(node_list) - 1):\n",
    "        tmp = []\n",
    "        for j in range(node_list[i].shape[1]):\n",
    "            for k in range(num_samples[i]):\n",
    "                tmp_tuple = (int(node_list[i][0,j]), int(node_list[i+1][0,j*num_samples[i] + k]))\n",
    "                tmp.append(tmp_tuple)\n",
    "        link_list.append(tmp)\n",
    "    return link_list\n",
    "\n",
    "# then we compute ground truth link importance\n",
    "for step in range(expected_steps):\n",
    "    X, _ = target_gen[0]\n",
    "    link_indices = link_gen(target_gen)\n",
    "    node_indices = target_gen.batch_nodes_indices\n",
    "    clean_prediction = model.predict(X).squeeze()\n",
    "    predict_label = np.argmax(clean_prediction)\n",
    "    # collect all the link weights variables.\n",
    "    link_weight_var = []\n",
    "    for var in model.non_trainable_weights:\n",
    "        if \"ig_link_weight\" in var.name:\n",
    "            link_weight_var.append(var)\n",
    "        \n",
    "    for layer_index in range(len(X)):\n",
    "        weight =  K.get_value(link_weight_var[layer_index])\n",
    "        for neighbour_index in range(X[layer_index].shape[1]):\n",
    "            # we set the corresponding link weight to 0 to check the ground truth link importance\n",
    "            weight_tmp = deepcopy(weight)\n",
    "            weight_tmp[neighbour_index,:] = 0\n",
    "            K.set_value(link_weight_var[layer_index], weight_tmp)\n",
    "            link_index = link_indices[layer_index][neighbour_index]\n",
    "            predict_after_perturb = model.predict(X).squeeze()\n",
    "            prediction_change = clean_prediction[predict_label] - predict_after_perturb[predict_label]\n",
    "            ground_truth_edge_importance_counter.update(Counter({link_index: prediction_change}))\n",
    "            K.set_value(link_weight_var[layer_index], weight)\n",
    "        \n",
    "for i in ground_truth_edge_importance_counter.keys():\n",
    "    ground_truth_edge_importance_counter[i] /= expected_steps\n",
    "    \n",
    "ground_truth_edge_importance = np.array([ground_truth_edge_importance_counter[(u,v)] for (u,v) in edges])\n",
    "ground_truth_edge_importance += np.array([ground_truth_edge_importance_counter[(v,u)] for (u,v) in edges])\n"
   ],
   "metadata": {
    "collapsed": false,
    "pycharm": {
     "name": "#%%\n",
     "is_executing": false
    }
   }
  },
  {
   "cell_type": "code",
   "execution_count": 38,
   "outputs": [
    {
     "data": {
      "text/plain": "<Figure size 1080x720 with 2 Axes>",
      "image/png": "[encoded data removed]"
     },
     "metadata": {
      "needs_background": "light"
     },
     "output_type": "display_data"
    }
   ],
   "source": [
    "fig, ax = plt.subplots(1, 1, figsize=(15, 10));\n",
    "cmap = plt.get_cmap('jet', np.max(colors)-np.min(colors)+1)\n",
    "# Draw the target node as a large star colored by its true subject\n",
    "nx.draw_networkx_nodes(G_ego, pos, nodelist=[target_nid], node_size=50*abs(node_sizes[nodes.index(target_nid)]), node_color=[colors[nodes.index(target_nid)]], cmap=cmap, \n",
    "                       node_shape='*', vmin=np.min(colors)-0.5, vmax=np.max(colors)+0.5, label=\"Target\")\n",
    "# Draw the ego net\n",
    "nc = nx.draw_networkx_nodes(G_ego, pos, nodelist=positive_nodes, node_color=positive_colors, cmap=cmap, node_size=positive_node_sizes, with_labels=False,\n",
    "                           vmin=np.min(colors)-0.5, vmax=np.max(colors)+0.5, node_shape='o')\n",
    "nc = nx.draw_networkx_nodes(G_ego, pos, nodelist=negative_nodes, node_color=negative_colors, cmap=cmap, node_size=negative_node_sizes, with_labels=False,\n",
    "                           vmin=np.min(colors)-0.5, vmax=np.max(colors)+0.5, node_shape='d')\n",
    "\n",
    "#link_width_scale is used for better visulization of links\n",
    "link_width_scale = link_width_factor/np.max(ground_truth_edge_importance)\n",
    "weights = np.array([link_width_scale*ground_truth_edge_importance_counter[(u,v)] for u,v in edges])\n",
    "weights += np.array([link_width_scale*ground_truth_edge_importance_counter[(v,u)] for u,v in edges])\n",
    "weights = weights.tolist()\n",
    "edge_colors = ['red' if weights[i] > 0 else 'blue' for i in range(len(weights))]\n",
    "\n",
    "ec = nx.draw_networkx_edges(G_ego, pos, edge_color=edge_colors, width = weights)\n",
    "plt.legend()\n",
    "plt.colorbar(nc, ticks=np.arange(np.min(colors),np.max(colors)+1))\n",
    "plt.axis('off')\n",
    "plt.show()"
   ],
   "metadata": {
    "collapsed": false,
    "pycharm": {
     "name": "#%%\n",
     "is_executing": false
    }
   }
  },
  {
   "cell_type": "code",
   "execution_count": 38,
   "outputs": [],
   "source": [
    "\n"
   ],
   "metadata": {
    "collapsed": false,
    "pycharm": {
     "name": "#%%\n",
     "is_executing": false
    }
   }
  }
 ],
 "metadata": {
  "kernelspec": {
   "display_name": "Python 3",
   "language": "python",
   "name": "python3"
  },
  "language_info": {
   "codemirror_mode": {
    "name": "ipython",
    "version": 3
   },
   "file_extension": ".py",
   "mimetype": "text/x-python",
   "name": "python",
   "nbconvert_exporter": "python",
   "pygments_lexer": "ipython3",
   "version": "3.6.8"
  },
  "pycharm": {
   "stem_cell": {
    "cell_type": "raw",
    "source": [],
    "metadata": {
     "collapsed": false
    }
   }
  }
 },
 "nbformat": 4,
 "nbformat_minor": 2
}