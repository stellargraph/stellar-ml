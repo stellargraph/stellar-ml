{
 "cells": [
  {
   "cell_type": "markdown",
   "metadata": {},
   "source": [
    "# GraphWave aglorithm on a barbell graph\n",
    "\n",
    "This demo features the algorithm GraphWave published in \"Learning Structural Node Embeddings via Diffusion Wavelets\" [https://arxiv.org/pdf/1710.10321.pdf]. GraphWave embeds the structural features of a node in a dense embeddings. We will demonstrate the use of GraphWave on a barbell graph demonstrating that structurally equivalent nodes have similar embeddings."
   ]
  },
  {
   "cell_type": "markdown",
   "metadata": {},
   "source": [
    "First, we load the required libraries."
   ]
  },
  {
   "cell_type": "code",
   "execution_count": 1,
   "metadata": {},
   "outputs": [],
   "source": [
    "import networkx as nx\n",
    "from stellargraph.mapper import GraphWaveGenerator\n",
    "from stellargraph import StellarGraph\n",
    "from sklearn.decomposition import PCA\n",
    "import numpy as np\n",
    "from matplotlib import pyplot as plt\n",
    "from scipy.sparse.linalg import eigs\n",
    "import tensorflow as tf\n",
    "from tensorflow.keras import backend as K"
   ]
  },
  {
   "cell_type": "markdown",
   "metadata": {},
   "source": [
    "### Graph construction\n",
    "\n",
    "Next, we construct the barbell graph, shown below. It consists of 2 fully connected graphs (at the 'ends' of the graph) connected by a chain of nodes. All nodes in the fully connected ends are structurally equivalent, as are the opposite nodes in the chain. A good structural embedding algorithm should embed equivalent nodes close together in the embedding space."
   ]
  },
  {
   "cell_type": "code",
   "execution_count": 2,
   "metadata": {},
   "outputs": [
    {
     "data": {
      "image/png": "[encoded data removed]",
      "text/plain": [
       "<Figure size 432x288 with 1 Axes>"
      ]
     },
     "metadata": {},
     "output_type": "display_data"
    }
   ],
   "source": [
    "m1 = 10\n",
    "m2 = 11\n",
    "gnx = nx.barbell_graph(m1=m1, m2=m2)\n",
    "\n",
    "classes = [0,] * len(gnx.nodes)\n",
    "# number of nodes with a non-zero class (the path, plus the nodes it connects to on either end)\n",
    "nonzero = m2 + 2\n",
    "# count up to the halfway point (rounded up)\n",
    "first = range(1, (nonzero + 1) // 2 + 1)\n",
    "# and down for the rest\n",
    "second = reversed(range(1, nonzero - len(first) + 1))\n",
    "classes[m1 - 1 : (m1 + m2) + 1] = list(first) + list(second)\n",
    "\n",
    "nx.draw(gnx, node_color=classes, cmap=\"jet\")"
   ]
  },
  {
   "cell_type": "markdown",
   "metadata": {},
   "source": [
    "### GraphWave embedding calculation\n",
    "\n",
    "Now, we're ready to calculate the GraphWave embeddings. We need to specify some information about how to sample the characteristic function: \n",
    "\n",
    "- an iterable of wavelet `scales` to use. This is a graph dependent hyperparameter. Experiment with different values.\n",
    "- the number `num_eigenvecs` of eigenvectors to use. A larger number of eigenvectors will yield better results but is more computationally expensive. `num_eigenvecs=None` will automatically estimate and use a number of eigenvectors that is a reasonable approximation to the full set of eigenvectors.\n",
    "- the `sample_points` at which to sample the characteristic function. This should be of the form `sample_points=np.linspace(0, max_val, number_of_samples)`. The best value depends on the graph."
   ]
  },
  {
   "cell_type": "code",
   "execution_count": 7,
   "metadata": {},
   "outputs": [
    {
     "name": "stderr",
     "output_type": "stream",
     "text": [
      "/Users/kieranricardo/PycharmProjects/current-stellargraph/stellargraph/stellargraph/core/experimental.py:88: ExperimentalWarning: GraphWaveGenerator is experimental: lacks unit tests, and the time complexity could be reduced using Chebyshev polynomials. (see: https://github.com/stellargraph/stellargraph/issues/815, https://github.com/stellargraph/stellargraph/issues/853). It may be difficult to use and may have major changes at any time.\n",
      "  warnings.warn(direct_msg, ExperimentalWarning)\n",
      "/Users/kieranricardo/anaconda3/envs/tf2-stellar/lib/python3.6/site-packages/scipy/sparse/_index.py:127: SparseEfficiencyWarning: Changing the sparsity structure of a csr_matrix is expensive. lil_matrix is more efficient.\n",
      "  self._set_arrayXarray(i, j, x)\n",
      "/Users/kieranricardo/anaconda3/envs/tf2-stellar/lib/python3.6/site-packages/numpy/polynomial/chebyshev.py:1647: RankWarning: The fit may be poorly conditioned\n",
      "  return pu._fit(chebvander, x, y, deg, rcond, full, w)\n"
     ]
    }
   ],
   "source": [
    "G = StellarGraph(gnx)\n",
    "sample_points = np.linspace(0, 100, 50).astype(np.float32)\n",
    "\n",
    "generator = GraphWaveGenerator(G, scales=[0.1, 0.3, 0.4, 1],)\n",
    "\n",
    "embeddings_dataset = generator.flow(\n",
    "    node_ids=G.nodes(), sample_points=sample_points, batch_size=1, repeat=False\n",
    ")\n",
    "\n",
    "embeddings = [x.numpy() for x in embeddings_dataset]"
   ]
  },
  {
   "cell_type": "markdown",
   "metadata": {},
   "source": [
    "### Visualation\n",
    "\n",
    "The nodes are coloured by their structural role, e.g. in the fully connected sections, 1st node in the chain, 2nd node in the chain etc. We can see that all nodes of the same colour completely overlap in this visualation, indicating that structurally equivalent nodes are very close in the embedding space.\n",
    "\n",
    "The plot here doesn't exactly match the one in the paper, which we think is because the details of approximating the wavelet diffusion differ (the paper uses Chebyshev polynomials, which isn't implemented in StellarGraph yet [#853](https://github.com/stellargraph/stellargraph/issues/853))."
   ]
  },
  {
   "cell_type": "code",
   "execution_count": 8,
   "metadata": {},
   "outputs": [
    {
     "data": {
      "image/png": "[encoded data removed]",
      "text/plain": [
       "<Figure size 432x288 with 1 Axes>"
      ]
     },
     "metadata": {
      "needs_background": "light"
     },
     "output_type": "display_data"
    }
   ],
   "source": [
    "trans_emb = PCA(n_components=2).fit_transform(np.vstack(embeddings))\n",
    "\n",
    "plt.scatter(\n",
    "    trans_emb[:, 0], trans_emb[:, 1], c=classes, cmap=\"jet\", alpha=0.7,\n",
    ")\n",
    "plt.show()"
   ]
  }
 ],
 "metadata": {
  "kernelspec": {
   "display_name": "Python 3",
   "language": "python",
   "name": "python3"
  },
  "language_info": {
   "codemirror_mode": {
    "name": "ipython",
    "version": 3
   },
   "file_extension": ".py",
   "mimetype": "text/x-python",
   "name": "python",
   "nbconvert_exporter": "python",
   "pygments_lexer": "ipython3",
   "version": "3.6.9"
  }
 },
 "nbformat": 4,
 "nbformat_minor": 2
}
